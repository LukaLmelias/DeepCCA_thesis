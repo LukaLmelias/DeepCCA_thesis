{
 "cells": [
  {
   "cell_type": "markdown",
   "id": "7e50168d",
   "metadata": {},
   "source": [
    "# Data Exploration and Emmbeddings\n",
    "\n",
    "\n",
    "This exploartion follows this [tutorial](https://blog.esciencecenter.nl/build-your-own-mass-spectrometry-analysis-pipeline-in-python-using-matchms-part-i-d96c718c68ee) by Huber"
   ]
  },
  {
   "cell_type": "code",
   "execution_count": 3,
   "id": "f900dcb7",
   "metadata": {},
   "outputs": [],
   "source": [
    "%matplotlib inline\n",
    "\n",
    "import os\n",
    "import pickle\n",
    "import pandas as pd\n",
    "import seaborn as sn\n",
    "import numpy as np\n",
    "import matchms\n",
    "from matplotlib import pyplot as plt\n",
    "from collections import OrderedDict\n",
    "from tqdm.notebook import tqdm \n",
    "from datetime import datetime\n",
    "#import numba\n",
    "import spec2vec\n",
    "from spec2vec import SpectrumDocument\n",
    "from spec2vec.vector_operations import calc_vector\n",
    "import mol2vec\n",
    "\n",
    "\n",
    "os.chdir('../raw_data')\n",
    "#path = '/lustre/BIF/nobackup/lmeli001/raw_data'\n"
   ]
  },
  {
   "cell_type": "code",
   "execution_count": 2,
   "id": "e4d6b86e",
   "metadata": {},
   "outputs": [
    {
     "data": {
      "text/plain": [
       "['ALL_GNPS.json',\n",
       " 'ALL_GNPS_15_12_2021_positive_annotated.pickle',\n",
       " 'ALL_GNPS_15_12_2021_positive_annotated_classifications.txt',\n",
       " 'model_300dim.pkl',\n",
       " 'mol2vec_embedding.pickle',\n",
       " 'ms2ds_embeddings_unique_GNPS_15_12_2021.pickle',\n",
       " 'ms2ds_model_GNPS_15_12_2021.hdf5',\n",
       " 'plot_validation.py',\n",
       " 'spec2vec_embeddings_unique_GNPS_15_12_2021.pickle',\n",
       " 'spec2vec_model_GNPS_15_12_2021.model',\n",
       " 'spec2vec_model_GNPS_15_12_2021.model.syn1neg.npy',\n",
       " 'spec2vec_model_GNPS_15_12_2021.model.wv.vectors.npy',\n",
       " 'spectra_unique_GNPS_15_12_2021.pickle',\n",
       " '__pycache__']"
      ]
     },
     "execution_count": 2,
     "metadata": {},
     "output_type": "execute_result"
    }
   ],
   "source": [
    "os.listdir()"
   ]
  },
  {
   "cell_type": "markdown",
   "id": "c37cfb7a",
   "metadata": {},
   "source": [
    "#### Functions to load and or write to pickle files"
   ]
  },
  {
   "cell_type": "code",
   "execution_count": 1,
   "id": "8a2b40a5",
   "metadata": {},
   "outputs": [],
   "source": [
    "class Files:\n",
    "    def __init__(self, filename):\n",
    "        self.file = filename\n",
    "        \n",
    "    def write_to_file(self, data):\n",
    "        with open(self.file, 'wb') as f:\n",
    "            pickle.dump(data, f) \n",
    "        return None\n",
    "    \n",
    "    def load_pickle(self):\n",
    "        data = pd.read_pickle(self.file)\n",
    "        return data\n",
    "    \n",
    "    def load_csv(self, sep, usecols=None):\n",
    "        data = pd.read_csv(self.file, sep=sep, usecols=usecols)\n",
    "        return data\n",
    "        \n",
    "        \n",
    "    "
   ]
  },
  {
   "cell_type": "code",
   "execution_count": 4,
   "id": "daecf856",
   "metadata": {},
   "outputs": [
    {
     "data": {
      "text/plain": [
       "314318"
      ]
     },
     "execution_count": 4,
     "metadata": {},
     "output_type": "execute_result"
    }
   ],
   "source": [
    "# Load spec data\n",
    "spec_path = './ALL_GNPS_15_12_2021_positive_annotated.pickle'\n",
    "spec_data = Files(spec_path).load_pickle()\n",
    "\n",
    "len(spec_data)"
   ]
  },
  {
   "cell_type": "code",
   "execution_count": 5,
   "id": "58a71d26",
   "metadata": {},
   "outputs": [
    {
     "data": {
      "text/html": [
       "<div>\n",
       "<style scoped>\n",
       "    .dataframe tbody tr th:only-of-type {\n",
       "        vertical-align: middle;\n",
       "    }\n",
       "\n",
       "    .dataframe tbody tr th {\n",
       "        vertical-align: top;\n",
       "    }\n",
       "\n",
       "    .dataframe thead th {\n",
       "        text-align: right;\n",
       "    }\n",
       "</style>\n",
       "<table border=\"1\" class=\"dataframe\">\n",
       "  <thead>\n",
       "    <tr style=\"text-align: right;\">\n",
       "      <th></th>\n",
       "      <th>inchi_key</th>\n",
       "      <th>cf_class</th>\n",
       "    </tr>\n",
       "  </thead>\n",
       "  <tbody>\n",
       "    <tr>\n",
       "      <th>0</th>\n",
       "      <td>IYDKWWDUBYWQGF-NNAZGLEUSA-N</td>\n",
       "      <td>Peptidomimetics</td>\n",
       "    </tr>\n",
       "    <tr>\n",
       "      <th>1</th>\n",
       "      <td>KNGPFNUOXXLKCN-ZNCJFREWSA-N</td>\n",
       "      <td>Peptidomimetics</td>\n",
       "    </tr>\n",
       "    <tr>\n",
       "      <th>2</th>\n",
       "      <td>WXDBUBIFYCCNLE-NSCMQRKRSA-N</td>\n",
       "      <td>Oxepanes</td>\n",
       "    </tr>\n",
       "    <tr>\n",
       "      <th>3</th>\n",
       "      <td>CGZKSPLDUIRCIO-RPCRKUJJSA-N</td>\n",
       "      <td>Indoles and derivatives</td>\n",
       "    </tr>\n",
       "    <tr>\n",
       "      <th>4</th>\n",
       "      <td>USXIYWCPCGVOKF-LERJCCFDSA-N</td>\n",
       "      <td>Peptidomimetics</td>\n",
       "    </tr>\n",
       "  </tbody>\n",
       "</table>\n",
       "</div>"
      ],
      "text/plain": [
       "                     inchi_key                 cf_class\n",
       "0  IYDKWWDUBYWQGF-NNAZGLEUSA-N          Peptidomimetics\n",
       "1  KNGPFNUOXXLKCN-ZNCJFREWSA-N          Peptidomimetics\n",
       "2  WXDBUBIFYCCNLE-NSCMQRKRSA-N                 Oxepanes\n",
       "3  CGZKSPLDUIRCIO-RPCRKUJJSA-N  Indoles and derivatives\n",
       "4  USXIYWCPCGVOKF-LERJCCFDSA-N          Peptidomimetics"
      ]
     },
     "execution_count": 5,
     "metadata": {},
     "output_type": "execute_result"
    }
   ],
   "source": [
    "# load class info: we only need inchi_key and cf_class columns\n",
    "class_info = './ALL_GNPS_15_12_2021_positive_annotated_classifications.txt'\n",
    "class_info_df = Files(class_info).load_csv(sep = '\\t',\\\n",
    "                                           usecols= ['inchi_key', 'cf_class'])\n",
    "                           \n",
    "class_info_df.head()"
   ]
  },
  {
   "cell_type": "markdown",
   "id": "badf3cc5",
   "metadata": {},
   "source": [
    "#### Data Exploration\n",
    "Define a class with data exploration functions"
   ]
  },
  {
   "cell_type": "code",
   "execution_count": 6,
   "id": "0666ece5",
   "metadata": {},
   "outputs": [],
   "source": [
    "class DataExploration:\n",
    "    def __init__(self, spectra):\n",
    "        self.spectra = spectra\n",
    "        \n",
    "    def plot_peaks(self):\n",
    "        numbers_of_peaks = [len(s.peaks.mz) for s in self.spectra]\n",
    "        plt.figure(figsize=(5,4), dpi=150)\n",
    "        plt.hist(numbers_of_peaks, 20, edgecolor=\"white\")\n",
    "        plt.title(\"Peaks per spectrum\") \n",
    "        plt.xlabel(\"Number of peaks in spectrum\")\n",
    "        plt.ylabel(\"Number of spectra\")\n",
    "        plt.show()\n",
    "        return None\n",
    "        \n",
    "        \n",
    "        \n",
    "    def count_annotations(self):\n",
    "        inchi_lst = []\n",
    "        smiles_lst = []\n",
    "        inchikey_lst = []\n",
    "        \n",
    "        for i, spec in enumerate(self.spectra):\n",
    "            inchi_lst.append(spec.get(\"inchi\"))\n",
    "            smiles_lst.append(spec.get(\"smiles\"))\n",
    "            inchikey = spec.get(\"inchikey\")\n",
    "            \n",
    "            if inchikey is None:\n",
    "                inchikey = spec.get(\"inchikey_inchi\")\n",
    "            inchikey_lst.append(inchikey)\n",
    "\n",
    "        inchi_count = sum([1 for x in inchi_lst if x])\n",
    "        smiles_count = sum([1 for x in smiles_lst if x])\n",
    "        inchikey_count = sum([1 for x in inchikey_lst if x])\n",
    "        \n",
    "        print(\"Total Inchis:\", inchi_count, \"--\",\\\n",
    "              len(set(inchi_lst)), \"unique Inchis\")\n",
    "        \n",
    "        print(\"Total Smiles:\", smiles_count, \"--\", \\\n",
    "              len(set(smiles_lst)), \"unique Smiles\")\n",
    "        \n",
    "        print(\"Total Inchikeys:\", inchikey_count, \"--\", \n",
    "          len(set([x[:14] for x in inchikey_lst if x])), \\\n",
    "              \"unique Inchikeys (first 14 characters)\")\n",
    "    \n",
    "    \n",
    "        #Modified so that we can plot the stats\n",
    "        totals = [inchi_count,smiles_count,inchikey_count]\n",
    "        unique = [len(set(inchi_lst)),len(set(smiles_lst)),\\\n",
    "              len(set([x[:14] for x in inchikey_lst if x]))]\n",
    "   \n",
    "        #print(unique)\n",
    "        #print(totals)\n",
    "        df = pd.DataFrame(list(zip(totals,unique)), \\\n",
    "                      index=['Inchis','Smiles','Inchikeys'],\\\n",
    "                      columns=['Total', 'Unique'])\n",
    "    \n",
    "        # bar plot of unique vs total: inchikey, smiles, and inchikey14\n",
    "        ax=df.plot(kind='barh', title='Structure statistics', figsize=(6, 4))\n",
    "        ax.legend(bbox_to_anchor=(1.0, 1.0))\n",
    "        plt.show()\n",
    "        \n",
    "        return None\n",
    "        \n",
    "        \n",
    "    "
   ]
  },
  {
   "cell_type": "code",
   "execution_count": 11,
   "id": "81333dd6",
   "metadata": {},
   "outputs": [
    {
     "data": {
      "image/png": "[encoded data removed]",
      "text/plain": [
       "<Figure size 750x600 with 1 Axes>"
      ]
     },
     "metadata": {
      "needs_background": "light"
     },
     "output_type": "display_data"
    },
    {
     "name": "stdout",
     "output_type": "stream",
     "text": [
      "Total Inchis: 314318 -- 24864 unique Inchis\n",
      "Total Smiles: 314318 -- 32591 unique Smiles\n",
      "Total Inchikeys: 314318 -- 20889 unique Inchikeys (first 14 characters)\n"
     ]
    },
    {
     "data": {
      "image/png": "[encoded data removed]",
      "text/plain": [
       "<Figure size 432x288 with 1 Axes>"
      ]
     },
     "metadata": {
      "needs_background": "light"
     },
     "output_type": "display_data"
    }
   ],
   "source": [
    "# call the exploration plots\n",
    "spec = DataExploration(spec_data)\n",
    "spec.plot_peaks()\n",
    "spec.count_annotations()"
   ]
  },
  {
   "cell_type": "markdown",
   "id": "e5b06066",
   "metadata": {},
   "source": [
    "### Filter Unique inchiKey\n",
    "\n",
    "As obtained from [louwenjjr\n",
    "](https://github.com/louwenjjr/ms2_mass_differences/blob/ffd31aff66fba14502e3c7ec4f1b5eb947687ef1/scripts/mass_differences/processing.py)"
   ]
  },
  {
   "cell_type": "code",
   "execution_count": 7,
   "id": "ab49b79f",
   "metadata": {},
   "outputs": [],
   "source": [
    "class DataFiltering:\n",
    "    def __init__(self, spectra):\n",
    "        self.spectra = spectra\n",
    "        \n",
    "        # thresholds for selecting higher quality spectra\n",
    "        self.intensity_thres = 0.01\n",
    "        self.n_peaks_required = 10\n",
    "        self.gnps_spec_quality_measure = 3\n",
    "    \n",
    "    def count_higher_peaks(self, index=0,threshold = 0.1):\n",
    "        spectrum = self.spectra[index]\n",
    "        return np.sum(spectrum.peaks.intensities/\\\n",
    "                      spectrum.peaks.intensities.max() >= threshold)\n",
    "\n",
    "    \n",
    "    def get_ids_for_unique_inchikeys(self): #: List[SpectrumType]\n",
    "        \"\"\"Return indices for best chosen spectra for each unique inchikey\n",
    "        Parameters\n",
    "        ----------\n",
    "        spectrums:\n",
    "            Input spectra\n",
    "        \"\"\"\n",
    "        # collect all inchikeys (first 14 characters)\n",
    "        inchikey_collection = OrderedDict()\n",
    "        for i, spec in enumerate(self.spectra):\n",
    "            inchikey = spec.get(\"inchikey\")\n",
    "            if inchikey:\n",
    "                if inchikey[:14] in inchikey_collection:\n",
    "                    inchikey_collection[inchikey[:14]] += [i]\n",
    "                else:\n",
    "                    inchikey_collection[inchikey[:14]] = [i]\n",
    "\n",
    "        \n",
    "        ID_picks = []\n",
    "\n",
    "        inchikey14_unique = [x for x in inchikey_collection.keys()]\n",
    "\n",
    "        # Loop through all unique inchiques (14 first characters)\n",
    "        for inchikey14 in inchikey14_unique:\n",
    "            specIDs = np.array(inchikey_collection[inchikey14])\n",
    "            if specIDs.size == 1:\n",
    "                ID_picks.append(specIDs[0])\n",
    "            else:\n",
    "                # 1 select spec with sufficient peaks (e.g. 10 with intensity 0.01)\n",
    "                num_peaks = np.array([self.count_higher_peaks(\n",
    "                    index=specID, threshold=self.intensity_thres) for\n",
    "                                      specID in specIDs])\n",
    "                sufficient_peaks = np.where(num_peaks >= self.n_peaks_required)[0]\n",
    "                if sufficient_peaks.size == 0:\n",
    "                    sufficient_peaks = np.where(num_peaks == max(num_peaks))[0]\n",
    "                step1IDs = specIDs[sufficient_peaks]\n",
    "\n",
    "                # 2 select best spectrum qualities\n",
    "                # (according to gnps measure). 1 > 2 > 3\n",
    "                qualities = np.array(\n",
    "                    [int(self.spectra[specID].get(\"library_class\",\\\n",
    "                                                  self.gnps_spec_quality_measure))\n",
    "                     for specID in step1IDs])  # default is 3; worst quality\n",
    "                step2IDs = step1IDs[np.where(qualities == min(qualities))[0]]\n",
    "\n",
    "                # 3 Select the ones with most peaks > threshold\n",
    "                num_peaks = np.array([self.count_higher_peaks(\n",
    "                    index=specID, threshold=self.intensity_thres) for specID in step2IDs])\n",
    "                pick = np.argmax(num_peaks)\n",
    "                ID_picks.append(step2IDs[pick])\n",
    "        ID_picks.sort()  # ensure order\n",
    "\n",
    "        return ID_picks\n",
    "    \n",
    "    # pick unique spectra using the unique inchikeys\n",
    "    \n",
    "    def unique_spectra(self):\n",
    "        uniq_inchikeys = self.get_ids_for_unique_inchikeys()\n",
    "        uniq_spec_data = [self.spectra[i] for i in uniq_inchikeys]\n",
    "        \n",
    "        return uniq_spec_data\n",
    "        \n",
    "    \n",
    "        \n",
    "\n",
    "        \n",
    "    "
   ]
  },
  {
   "cell_type": "code",
   "execution_count": 8,
   "id": "f1a563b4",
   "metadata": {},
   "outputs": [
    {
     "data": {
      "text/plain": [
       "20889"
      ]
     },
     "execution_count": 8,
     "metadata": {},
     "output_type": "execute_result"
    }
   ],
   "source": [
    "# call the filtering functions\n",
    "unique_spectra = DataFiltering(spec_data).unique_spectra()\n",
    "\n",
    "len(unique_spectra)"
   ]
  },
  {
   "cell_type": "markdown",
   "id": "599cea1e",
   "metadata": {},
   "source": [
    "#### Explore the filered data"
   ]
  },
  {
   "cell_type": "code",
   "execution_count": 9,
   "id": "5ee0fece",
   "metadata": {},
   "outputs": [
    {
     "data": {
      "image/png": "[encoded data removed]",
      "text/plain": [
       "<Figure size 750x600 with 1 Axes>"
      ]
     },
     "metadata": {
      "needs_background": "light"
     },
     "output_type": "display_data"
    },
    {
     "name": "stdout",
     "output_type": "stream",
     "text": [
      "Total Inchis: 20889 -- 20889 unique Inchis\n",
      "Total Smiles: 20889 -- 20888 unique Smiles\n",
      "Total Inchikeys: 20889 -- 20889 unique Inchikeys (first 14 characters)\n"
     ]
    },
    {
     "data": {
      "image/png": "[encoded data removed]",
      "text/plain": [
       "<Figure size 432x288 with 1 Axes>"
      ]
     },
     "metadata": {
      "needs_background": "light"
     },
     "output_type": "display_data"
    }
   ],
   "source": [
    "unique_expl = DataExploration(unique_spectra)\n",
    "unique_expl.plot_peaks()\n",
    "unique_expl.count_annotations()"
   ]
  },
  {
   "cell_type": "markdown",
   "id": "3c698214",
   "metadata": {},
   "source": [
    "### Functions to Generate Embeddings"
   ]
  },
  {
   "cell_type": "code",
   "execution_count": 11,
   "id": "b5d1db8c",
   "metadata": {},
   "outputs": [],
   "source": [
    "class Embeddings:\n",
    "    def __init__(self, spectra, pretrained_model_path=None,\\\n",
    "                intensity_weighting_power = 0.5,\\\n",
    "                allowed_missing_percentage = 50):\n",
    "        \n",
    "        #model inputs\n",
    "        self.spectra = spectra\n",
    "        self.model = pretrained_model_path\n",
    "        \n",
    "        # pretrained model parameters\n",
    "        self.intensity_weighting_power = intensity_weighting_power \n",
    "        self.allowed_missing_percentage =allowed_missing_percentage\n",
    "        \n",
    "    \n",
    "    def spec2vec_documents(self, n_decimals=2):\n",
    "        \n",
    "        spec_documents = [SpectrumDocument(s, n_decimals=n_decimals)\\\n",
    "                              for s in self.spectra]\n",
    "        return spec_documents\n",
    "    \n",
    "    def train_spec2vec(self,new_model_name,\\\n",
    "                      workers=2, iterations=25,\\\n",
    "                      progress_logger=False):\n",
    "        spectrum_documents = self.spec2vec_documents()\n",
    "        \n",
    "        model = train_new_word2vec_model(spectrum_documents,iterations=[25],\\\n",
    "                                         filename=new_model_name,\\\n",
    "                                         workers=workers, \\\n",
    "                                         progress_logger=progress_logger)\n",
    "        \n",
    "        return None # saves the model.pickle to working dir\n",
    "    \n",
    "    def spec2vec_embeddings(self):\n",
    "        # step 0: convert spectra to documents (uses the above function)\n",
    "        model = gensim.models.Word2Vec.load(self.model)\n",
    "        spectrum_documents = self.spec2vec_documents()\n",
    "        \n",
    "        #step 1: initialize an array of zeros\n",
    "        spec2vec_embeddings = np.zeros((len(spectrum_documents),\\\n",
    "                                model.vector_size), dtype=\"float\")\n",
    "        \n",
    "        # step 2: generate the embeddings\n",
    "        for i, document in enumerate(tqdm(spectrum_documents)):\n",
    "            spec2vec_embeddings[i, 0:model.vector_size] =\\\n",
    "            calc_vector(model, document,\\\n",
    "                        self.intensity_weighting_power,\\\n",
    "                        self.allowed_missing_percentage)\n",
    "        \n",
    "        return spec2vec_embeddings\n",
    "    \n",
    "   \n",
    "    \n",
    "    # MS2Deepscore Embeddings\n",
    "    \n",
    "    def ms2deepscore_embeddings(self):\n",
    "        \n",
    "        #step 0: load the pretained model\n",
    "        model = load_model(self.model)\n",
    "        \n",
    "        #step 1: init MS2DeepScore\n",
    "        ms2deepscore_model_scores = MS2DeepScore(model)\n",
    "        ms2deepscore_model_scores.model.spectrum_binner.allowed_missing_percentage = \\\n",
    "        self.allowed_missing_percentage\n",
    "        \n",
    "        #step 2: Generate embeddings from spectra\n",
    "        ms2ds_embeddings = ms2deepscore_model_scores.calculate_vectors(self.spectra)\n",
    "        return ms2ds_embeddings\n",
    "    \n",
    "    # Structure embeddings: Mol2vec\n",
    "    \n",
    "    def mol2vec_embeddings(self,smiles):\n",
    "        \n",
    "        #step 0: load the pretrained model\n",
    "        model = word2vec.Word2Vec.load(self.model)\n",
    "        \n",
    "        # step 1: convert smiles to Molecules\n",
    "\n",
    "        mols = pd.DataFrame([Chem.MolFromSmiles(smile) \\\n",
    "                             for smile in smiles], columns=['Mol'])\n",
    "        \n",
    "        # step 2: convert molecules to sentences\n",
    "        sentence = pd.DataFrame(mols.apply(lambda x: \\\n",
    "                          MolSentence(mol2alt_sentence(x['Mol'], 1)), \\\n",
    "                          axis=1), columns=['mol2sent'])\n",
    "        \n",
    "        # step 3: generate mol2vec embeddings\n",
    "        mol2vec_embeddings = [x for x in \\\n",
    "                 sentences2vec_updated(sentence['mol2sent'], \\\n",
    "                                       model, unseen='UNK')]\n",
    "        \n",
    "        # last; no need to store mols and sentences thus delete them \n",
    "        del mols, sentence\n",
    "    \n",
    "        return mol2vec_embeddings\n",
    "    \n",
    "    \n",
    "    \n",
    "\n",
    "    "
   ]
  },
  {
   "cell_type": "markdown",
   "id": "c0f868a9",
   "metadata": {},
   "source": [
    "### Generating Spec2vec Embeddings fom a pretrained model"
   ]
  },
  {
   "cell_type": "code",
   "execution_count": 17,
   "id": "f5e624dc",
   "metadata": {},
   "outputs": [
    {
     "name": "stderr",
     "output_type": "stream",
     "text": [
      "100%|████████████████████████████████████████████████████████████████████████| 314318/314318 [04:17<00:00, 1221.21it/s]\n"
     ]
    }
   ],
   "source": [
    "import gensim\n",
    "from tqdm import tqdm\n",
    "\n",
    "path_model ='../raw_data/spec2vec_model_GNPS_15_12_2021.model'\n",
    "\n",
    "\n",
    "all_spec2vec_embed = Embeddings(spec_data,path_model).spec2vec_embeddings()\n",
    "\n",
    "#write them to pickle file\n",
    "filename = './all_spec_embedding.pickle' # path\n",
    "Files(filename).write_to_file(all_spec2vec_embed)"
   ]
  },
  {
   "cell_type": "code",
   "execution_count": 95,
   "id": "65256a57",
   "metadata": {},
   "outputs": [],
   "source": [
    "os.remove('./tiny_spec_embedding')"
   ]
  },
  {
   "cell_type": "markdown",
   "id": "ba28da12",
   "metadata": {},
   "source": [
    "### Training A New Spec2Vec Model\n",
    "\n"
   ]
  },
  {
   "cell_type": "code",
   "execution_count": 62,
   "id": "071dc24e",
   "metadata": {},
   "outputs": [
    {
     "name": "stdout",
     "output_type": "stream",
     "text": [
      "  Epoch 1 of 25.Change in loss after epoch 1: 41258.5390625\n",
      "  Epoch 2 of 25.Change in loss after epoch 2: 41189.1015625\n",
      "  Epoch 3 of 25.Change in loss after epoch 3: 41079.4921875\n",
      "  Epoch 4 of 25.Change in loss after epoch 4: 41147.1640625\n",
      "  Epoch 5 of 25.Change in loss after epoch 5: 41160.328125\n",
      "  Epoch 6 of 25.Change in loss after epoch 6: 41163.640625\n",
      "  Epoch 7 of 25.Change in loss after epoch 7: 41275.796875\n",
      "  Epoch 8 of 25.Change in loss after epoch 8: 40080.53125\n",
      "  Epoch 9 of 25.Change in loss after epoch 9: 36505.34375\n",
      "  Epoch 10 of 25.Change in loss after epoch 10: 32472.875\n",
      "  Epoch 11 of 25.Change in loss after epoch 11: 30461.65625\n",
      "  Epoch 12 of 25.Change in loss after epoch 12: 29540.1875\n",
      "  Epoch 13 of 25.Change in loss after epoch 13: 29152.0\n",
      "  Epoch 14 of 25.Change in loss after epoch 14: 28742.75\n",
      "  Epoch 15 of 25.Change in loss after epoch 15: 28555.90625\n",
      "  Epoch 16 of 25.Change in loss after epoch 16: 28370.5625\n",
      "  Epoch 17 of 25.Change in loss after epoch 17: 28253.625\n",
      "  Epoch 18 of 25.Change in loss after epoch 18: 28099.25\n",
      "  Epoch 19 of 25.Change in loss after epoch 19: 27965.3125\n",
      "  Epoch 20 of 25.Change in loss after epoch 20: 27856.25\n",
      "  Epoch 21 of 25.Change in loss after epoch 21: 27656.0\n",
      "  Epoch 22 of 25.Change in loss after epoch 22: 27369.25\n",
      "  Epoch 23 of 25.Change in loss after epoch 23: 26998.125\n",
      "  Epoch 24 of 25.Change in loss after epoch 24: 26599.6875\n",
      "  Epoch 25 of 25.Change in loss after epoch 25: 26152.25\n",
      "Saving model with name: ./tiny_spec_model\n"
     ]
    }
   ],
   "source": [
    "#Incase one has to train a new spec2vec model\n",
    "from spec2vec.model_building import train_new_word2vec_model\n",
    "new_model = './tiny_spec_model'\n",
    "Embeddings(tiny).train_spec2vec(new_model)\n"
   ]
  },
  {
   "cell_type": "code",
   "execution_count": 65,
   "id": "d9a27e38",
   "metadata": {},
   "outputs": [],
   "source": [
    "# after testing remove the tiny model created\n",
    "os.remove('./tiny_spec_model')"
   ]
  },
  {
   "cell_type": "markdown",
   "id": "d88c5d98",
   "metadata": {},
   "source": [
    "### Generate MS2deepscore Embeddings from a pretrained Model\n"
   ]
  },
  {
   "cell_type": "code",
   "execution_count": 30,
   "id": "d6c00c76",
   "metadata": {},
   "outputs": [],
   "source": [
    "from ms2deepscore.models import load_model\n",
    "from ms2deepscore import MS2DeepScore\n",
    "model_path ='./ms2ds_model_GNPS_15_12_2021.hdf5'\n",
    "\n",
    "# calls the functions defined in Embedding class\n",
    "all_ms2ds_embeddings = Embeddings(spec_data,model_path).ms2deepscore_embeddings()\n",
    "\n",
    "#write them to pickle file\n",
    "filename = './all_ms2ds_embedding.pickle' # path\n",
    "Files(filename).write_to_file(all_ms2ds_embeddings)"
   ]
  },
  {
   "cell_type": "markdown",
   "id": "7b4aff96",
   "metadata": {},
   "source": [
    "### Generate Structure Embeddings: Mol2vec\n",
    "\n",
    "\n",
    "Generating Mol2vec embeddings follows these [notebooks](https://github.com/samoturk/mol2vec/tree/master/examples) by Samoturk"
   ]
  },
  {
   "cell_type": "code",
   "execution_count": 12,
   "id": "6da7293f",
   "metadata": {},
   "outputs": [],
   "source": [
    "from mol2vec.features import mol2alt_sentence, mol2sentence, MolSentence, DfVec, sentences2vec\n",
    "from gensim.models import word2vec\n",
    "from rdkit import Chem\n",
    "from rdkit.Chem import AllChem\n",
    "from rdkit.Chem import Draw\n",
    "from rdkit.Chem import PandasTools\n",
    "from gensim.models import word2vec"
   ]
  },
  {
   "cell_type": "markdown",
   "id": "92ed69c8",
   "metadata": {},
   "source": [
    "Pretrained model was downloaded from this [link](https://github.com/samoturk/mol2vec/blob/master/examples/models/model_300dim.pkl)\n",
    "\n",
    "#### Update sentences2vec function\n",
    "\n",
    "The function below had some errors *'AttributeError: The vocab attribute was removed from KeyedVector in Gensim 4.0.0. Use KeyedVector's .key_to_index dict, .index_to_key list, and methods .get_vecattr(key, attr) and .set_vecattr(key, attr, new_val) instead.'*\n",
    "\n",
    "So I took from the [source](https://github.com/samoturk/mol2vec/blob/master/mol2vec/features.py) then changed *'vocab.keys'* to *'key_to_index'*; *'word_vec'* to *'get_vector'*\n",
    "\n",
    "Nothing else was changed from the original function"
   ]
  },
  {
   "cell_type": "code",
   "execution_count": 13,
   "id": "caafa417",
   "metadata": {},
   "outputs": [],
   "source": [
    "def sentences2vec_updated(sentences, model, unseen=None):\n",
    "    \"\"\"Generate vectors for each sentence (list) in a list of sentences. Vector is simply a\n",
    "    sum of vectors for individual words.\n",
    "    \n",
    "    Parameters\n",
    "    ----------\n",
    "    sentences : list, array\n",
    "        List with sentences\n",
    "    model : word2vec.Word2Vec\n",
    "        Gensim word2vec model\n",
    "    unseen : None, str\n",
    "        Keyword for unseen words. If None, those words are skipped.\n",
    "        https://stats.stackexchange.com/questions/163005/how-to-set-the-dictionary-for-text-analysis-using-neural-networks/163032#163032\n",
    "    Returns\n",
    "    -------\n",
    "    np.array\n",
    "    \"\"\"\n",
    "    keys = set(model.wv.key_to_index.keys())\n",
    "    vec = []\n",
    "    if unseen:\n",
    "        unseen_vec = model.wv.get_vector(unseen)\n",
    "\n",
    "    for sentence in sentences:\n",
    "        if unseen:\n",
    "            vec.append(sum([model.wv.get_vector(y) if y in set(sentence) & keys\n",
    "                       else unseen_vec for y in sentence]))\n",
    "        else:\n",
    "            vec.append(sum([model.wv.get_vector(y) for y in sentence \n",
    "                            if y in set(sentence) & keys]))\n",
    "    return np.array(vec)\n"
   ]
  },
  {
   "cell_type": "code",
   "execution_count": 14,
   "id": "6e950955",
   "metadata": {},
   "outputs": [],
   "source": [
    "smiles = [x.get('smiles') for x in spec_data]\n",
    "model = './model_300dim.pkl'"
   ]
  },
  {
   "cell_type": "code",
   "execution_count": 15,
   "id": "a2659ddd",
   "metadata": {},
   "outputs": [
    {
     "name": "stderr",
     "output_type": "stream",
     "text": [
      "[19:46:24] WARNING: not removing hydrogen atom without neighbors\n"
     ]
    }
   ],
   "source": [
    "mol2vec_embeddings = Embeddings(spec_data, model).mol2vec_embeddings(smiles)\n",
    "\n",
    "#write them to pickle file\n",
    "filename = './mol2vec_embedding.pickle' # path\n",
    "Files(filename).write_to_file(mol2vec_embeddings)"
   ]
  },
  {
   "cell_type": "code",
   "execution_count": 16,
   "id": "28268d56",
   "metadata": {},
   "outputs": [
    {
     "data": {
      "text/plain": [
       "314318"
      ]
     },
     "execution_count": 16,
     "metadata": {},
     "output_type": "execute_result"
    }
   ],
   "source": [
    "len(mol2vec_embeddings)"
   ]
  },
  {
   "cell_type": "code",
   "execution_count": 15,
   "id": "2ed691e5",
   "metadata": {},
   "outputs": [],
   "source": [
    "#paths to embeddings\n",
    "spec_all = './all_spec_embedding.pickle'\n",
    "ms2ds_all = './GNPS_15_12_2021_ms2ds_embeddings.pickle'\n",
    "mol2vec_all = './mol2vec_embedding.pickle'\n",
    "\n",
    "#load the embeddings\n",
    "spec2vec = Files(spec_all).load_pickle()[:302514]\n",
    "ms2ds_all = Files(ms2ds_all).load_pickle()\n",
    "mol2vec_all = Files(mol2vec_all).load_pickle()[:302514]\n",
    "    "
   ]
  },
  {
   "cell_type": "code",
   "execution_count": 20,
   "id": "dcebdd1f",
   "metadata": {},
   "outputs": [
    {
     "data": {
      "text/plain": [
       "302514"
      ]
     },
     "execution_count": 20,
     "metadata": {},
     "output_type": "execute_result"
    }
   ],
   "source": [
    "spec_data = spec_data[:302514]\n",
    "len(spec_data)"
   ]
  },
  {
   "cell_type": "code",
   "execution_count": 17,
   "id": "cbe6ce3e",
   "metadata": {},
   "outputs": [],
   "source": [
    "#ms2ds are in a df; extract the values\n",
    "ms2ds_all = ms2ds_all.values"
   ]
  },
  {
   "cell_type": "code",
   "execution_count": 16,
   "id": "74633ada",
   "metadata": {},
   "outputs": [],
   "source": [
    "#extract spec_ids from the rownames of ms2ds_all df\n",
    "spec_id = ms2ds_all.index"
   ]
  },
  {
   "cell_type": "code",
   "execution_count": 21,
   "id": "10af5212",
   "metadata": {},
   "outputs": [
    {
     "data": {
      "text/html": [
       "<div>\n",
       "<style scoped>\n",
       "    .dataframe tbody tr th:only-of-type {\n",
       "        vertical-align: middle;\n",
       "    }\n",
       "\n",
       "    .dataframe tbody tr th {\n",
       "        vertical-align: top;\n",
       "    }\n",
       "\n",
       "    .dataframe thead th {\n",
       "        text-align: right;\n",
       "    }\n",
       "</style>\n",
       "<table border=\"1\" class=\"dataframe\">\n",
       "  <thead>\n",
       "    <tr style=\"text-align: right;\">\n",
       "      <th></th>\n",
       "      <th>smiles</th>\n",
       "      <th>inchi_key</th>\n",
       "      <th>inchikey14</th>\n",
       "      <th>spec_id</th>\n",
       "      <th>spec2vec</th>\n",
       "      <th>ms2ds</th>\n",
       "      <th>mol2vec</th>\n",
       "    </tr>\n",
       "  </thead>\n",
       "  <tbody>\n",
       "    <tr>\n",
       "      <th>0</th>\n",
       "      <td>CC(C)CC1NC(=O)C(C)NC(=O)C(=C)N(C)C(=O)CCC(NC(=...</td>\n",
       "      <td>IYDKWWDUBYWQGF-NNAZGLEUSA-N</td>\n",
       "      <td>IYDKWWDUBYWQGF</td>\n",
       "      <td>CCMSLIB00000001547</td>\n",
       "      <td>[-22.561352524375522, -52.61297182073491, 49.4...</td>\n",
       "      <td>[0.0, 15.901464462280273, 37.367000579833984, ...</td>\n",
       "      <td>[1.630672, -6.694838, -8.602699, 8.267098, 5.2...</td>\n",
       "    </tr>\n",
       "    <tr>\n",
       "      <th>1</th>\n",
       "      <td>CCC[C@@H](C)[C@@H]([C@H](C)[C@@H]1[C@H]([C@H](...</td>\n",
       "      <td>KNGPFNUOXXLKCN-ZNCJFREWSA-N</td>\n",
       "      <td>KNGPFNUOXXLKCN</td>\n",
       "      <td>CCMSLIB00000001548</td>\n",
       "      <td>[-8.144101929166954, -25.09254423476226, -1.49...</td>\n",
       "      <td>[0.0, 3.6031694412231445, 12.245128631591797, ...</td>\n",
       "      <td>[-2.5071416, -7.008046, -7.7435217, 3.9533424,...</td>\n",
       "    </tr>\n",
       "    <tr>\n",
       "      <th>2</th>\n",
       "      <td>CCCCCCC[C@@H](C/C=C/CCC(=O)NC/C(=C/Cl)/[C@@]12...</td>\n",
       "      <td>WXDBUBIFYCCNLE-NSCMQRKRSA-N</td>\n",
       "      <td>WXDBUBIFYCCNLE</td>\n",
       "      <td>CCMSLIB00000001549</td>\n",
       "      <td>[-6.807433213493404, 2.8870356459664226, -4.28...</td>\n",
       "      <td>[28.570608139038086, 7.199506759643555, 10.875...</td>\n",
       "      <td>[-5.2424912, -4.194231, -4.1477222, -1.4712936...</td>\n",
       "    </tr>\n",
       "    <tr>\n",
       "      <th>3</th>\n",
       "      <td>OC1=CC=C(\\C=C2\\C(=O)C(C3=C4C5=C(C=CC=C5)N=C4\\C...</td>\n",
       "      <td>CGZKSPLDUIRCIO-RPCRKUJJSA-N</td>\n",
       "      <td>CGZKSPLDUIRCIO</td>\n",
       "      <td>CCMSLIB00000001550</td>\n",
       "      <td>[-10.171258233684286, 7.6353667714294735, 4.62...</td>\n",
       "      <td>[0.0, 3.3309712409973145, 14.854373931884766, ...</td>\n",
       "      <td>[3.6706285, -0.5248031, -10.340071, 15.618862,...</td>\n",
       "    </tr>\n",
       "    <tr>\n",
       "      <th>4</th>\n",
       "      <td>C[C@H]1[C@@H](OC(C2=CSC([C@H](C(C)(OC(C3=CSC([...</td>\n",
       "      <td>USXIYWCPCGVOKF-LERJCCFDSA-N</td>\n",
       "      <td>USXIYWCPCGVOKF</td>\n",
       "      <td>CCMSLIB00000001553</td>\n",
       "      <td>[-2.172764877946671, 0.704987033808247, -2.564...</td>\n",
       "      <td>[18.309066772460938, 0.2182818055152893, 19.73...</td>\n",
       "      <td>[-0.17604338, -5.0714765, -6.3456626, 1.434744...</td>\n",
       "    </tr>\n",
       "  </tbody>\n",
       "</table>\n",
       "</div>"
      ],
      "text/plain": [
       "                                              smiles  \\\n",
       "0  CC(C)CC1NC(=O)C(C)NC(=O)C(=C)N(C)C(=O)CCC(NC(=...   \n",
       "1  CCC[C@@H](C)[C@@H]([C@H](C)[C@@H]1[C@H]([C@H](...   \n",
       "2  CCCCCCC[C@@H](C/C=C/CCC(=O)NC/C(=C/Cl)/[C@@]12...   \n",
       "3  OC1=CC=C(\\C=C2\\C(=O)C(C3=C4C5=C(C=CC=C5)N=C4\\C...   \n",
       "4  C[C@H]1[C@@H](OC(C2=CSC([C@H](C(C)(OC(C3=CSC([...   \n",
       "\n",
       "                     inchi_key      inchikey14             spec_id  \\\n",
       "0  IYDKWWDUBYWQGF-NNAZGLEUSA-N  IYDKWWDUBYWQGF  CCMSLIB00000001547   \n",
       "1  KNGPFNUOXXLKCN-ZNCJFREWSA-N  KNGPFNUOXXLKCN  CCMSLIB00000001548   \n",
       "2  WXDBUBIFYCCNLE-NSCMQRKRSA-N  WXDBUBIFYCCNLE  CCMSLIB00000001549   \n",
       "3  CGZKSPLDUIRCIO-RPCRKUJJSA-N  CGZKSPLDUIRCIO  CCMSLIB00000001550   \n",
       "4  USXIYWCPCGVOKF-LERJCCFDSA-N  USXIYWCPCGVOKF  CCMSLIB00000001553   \n",
       "\n",
       "                                            spec2vec  \\\n",
       "0  [-22.561352524375522, -52.61297182073491, 49.4...   \n",
       "1  [-8.144101929166954, -25.09254423476226, -1.49...   \n",
       "2  [-6.807433213493404, 2.8870356459664226, -4.28...   \n",
       "3  [-10.171258233684286, 7.6353667714294735, 4.62...   \n",
       "4  [-2.172764877946671, 0.704987033808247, -2.564...   \n",
       "\n",
       "                                               ms2ds  \\\n",
       "0  [0.0, 15.901464462280273, 37.367000579833984, ...   \n",
       "1  [0.0, 3.6031694412231445, 12.245128631591797, ...   \n",
       "2  [28.570608139038086, 7.199506759643555, 10.875...   \n",
       "3  [0.0, 3.3309712409973145, 14.854373931884766, ...   \n",
       "4  [18.309066772460938, 0.2182818055152893, 19.73...   \n",
       "\n",
       "                                             mol2vec  \n",
       "0  [1.630672, -6.694838, -8.602699, 8.267098, 5.2...  \n",
       "1  [-2.5071416, -7.008046, -7.7435217, 3.9533424,...  \n",
       "2  [-5.2424912, -4.194231, -4.1477222, -1.4712936...  \n",
       "3  [3.6706285, -0.5248031, -10.340071, 15.618862,...  \n",
       "4  [-0.17604338, -5.0714765, -6.3456626, 1.434744...  "
      ]
     },
     "execution_count": 21,
     "metadata": {},
     "output_type": "execute_result"
    }
   ],
   "source": [
    "#create a df with all info: point of singularity :)\n",
    "\n",
    "df = pd.DataFrame({'smiles': [spec.get('smiles') for spec in spec_data],\n",
    "                  'inchi_key': [spec.get('inchikey') for spec in spec_data],\n",
    "                   \n",
    "                   # first 14 characters of inchikey\n",
    "                   'inchikey14': [x[:14] for x in \\\n",
    "                                  [spec.get('inchikey') for spec in spec_data]],\n",
    "                   # add spectra Id\n",
    "                   'spec_id':[x for x in spec_id],\n",
    "                       \n",
    "                   #spectra embeddings\n",
    "                   'spec2vec': [x for x in spec2vec],\n",
    "                   'ms2ds': [x for x in ms2ds_all],\n",
    "                   \n",
    "                   # structure embeddings\n",
    "                   'mol2vec':[x for x in mol2vec_all]\n",
    "                  })\n",
    "df.head()"
   ]
  },
  {
   "cell_type": "code",
   "execution_count": 22,
   "id": "1aa4defe",
   "metadata": {},
   "outputs": [
    {
     "data": {
      "text/html": [
       "<div>\n",
       "<style scoped>\n",
       "    .dataframe tbody tr th:only-of-type {\n",
       "        vertical-align: middle;\n",
       "    }\n",
       "\n",
       "    .dataframe tbody tr th {\n",
       "        vertical-align: top;\n",
       "    }\n",
       "\n",
       "    .dataframe thead th {\n",
       "        text-align: right;\n",
       "    }\n",
       "</style>\n",
       "<table border=\"1\" class=\"dataframe\">\n",
       "  <thead>\n",
       "    <tr style=\"text-align: right;\">\n",
       "      <th></th>\n",
       "      <th>inchi_key</th>\n",
       "      <th>cf_class</th>\n",
       "    </tr>\n",
       "  </thead>\n",
       "  <tbody>\n",
       "    <tr>\n",
       "      <th>0</th>\n",
       "      <td>IYDKWWDUBYWQGF-NNAZGLEUSA-N</td>\n",
       "      <td>Peptidomimetics</td>\n",
       "    </tr>\n",
       "    <tr>\n",
       "      <th>1</th>\n",
       "      <td>KNGPFNUOXXLKCN-ZNCJFREWSA-N</td>\n",
       "      <td>Peptidomimetics</td>\n",
       "    </tr>\n",
       "    <tr>\n",
       "      <th>2</th>\n",
       "      <td>WXDBUBIFYCCNLE-NSCMQRKRSA-N</td>\n",
       "      <td>Oxepanes</td>\n",
       "    </tr>\n",
       "    <tr>\n",
       "      <th>3</th>\n",
       "      <td>CGZKSPLDUIRCIO-RPCRKUJJSA-N</td>\n",
       "      <td>Indoles and derivatives</td>\n",
       "    </tr>\n",
       "    <tr>\n",
       "      <th>4</th>\n",
       "      <td>USXIYWCPCGVOKF-LERJCCFDSA-N</td>\n",
       "      <td>Peptidomimetics</td>\n",
       "    </tr>\n",
       "  </tbody>\n",
       "</table>\n",
       "</div>"
      ],
      "text/plain": [
       "                     inchi_key                 cf_class\n",
       "0  IYDKWWDUBYWQGF-NNAZGLEUSA-N          Peptidomimetics\n",
       "1  KNGPFNUOXXLKCN-ZNCJFREWSA-N          Peptidomimetics\n",
       "2  WXDBUBIFYCCNLE-NSCMQRKRSA-N                 Oxepanes\n",
       "3  CGZKSPLDUIRCIO-RPCRKUJJSA-N  Indoles and derivatives\n",
       "4  USXIYWCPCGVOKF-LERJCCFDSA-N          Peptidomimetics"
      ]
     },
     "execution_count": 22,
     "metadata": {},
     "output_type": "execute_result"
    }
   ],
   "source": [
    "class_info_df.head()"
   ]
  },
  {
   "cell_type": "code",
   "execution_count": 23,
   "id": "85948e56",
   "metadata": {},
   "outputs": [],
   "source": [
    "#merge spec info with class info: unified singularity :)\n",
    "df_merged = pd.merge(df, class_info_df, on=['inchi_key'], how='inner')"
   ]
  },
  {
   "cell_type": "code",
   "execution_count": 24,
   "id": "1648c73b",
   "metadata": {
    "scrolled": true
   },
   "outputs": [
    {
     "data": {
      "text/html": [
       "<div>\n",
       "<style scoped>\n",
       "    .dataframe tbody tr th:only-of-type {\n",
       "        vertical-align: middle;\n",
       "    }\n",
       "\n",
       "    .dataframe tbody tr th {\n",
       "        vertical-align: top;\n",
       "    }\n",
       "\n",
       "    .dataframe thead th {\n",
       "        text-align: right;\n",
       "    }\n",
       "</style>\n",
       "<table border=\"1\" class=\"dataframe\">\n",
       "  <thead>\n",
       "    <tr style=\"text-align: right;\">\n",
       "      <th></th>\n",
       "      <th>smiles</th>\n",
       "      <th>inchi_key</th>\n",
       "      <th>inchikey14</th>\n",
       "      <th>spec_id</th>\n",
       "      <th>spec2vec</th>\n",
       "      <th>ms2ds</th>\n",
       "      <th>mol2vec</th>\n",
       "      <th>cf_class</th>\n",
       "    </tr>\n",
       "  </thead>\n",
       "  <tbody>\n",
       "    <tr>\n",
       "      <th>0</th>\n",
       "      <td>CC(C)CC1NC(=O)C(C)NC(=O)C(=C)N(C)C(=O)CCC(NC(=...</td>\n",
       "      <td>IYDKWWDUBYWQGF-NNAZGLEUSA-N</td>\n",
       "      <td>IYDKWWDUBYWQGF</td>\n",
       "      <td>CCMSLIB00000001547</td>\n",
       "      <td>[-22.561352524375522, -52.61297182073491, 49.4...</td>\n",
       "      <td>[0.0, 15.901464462280273, 37.367000579833984, ...</td>\n",
       "      <td>[1.630672, -6.694838, -8.602699, 8.267098, 5.2...</td>\n",
       "      <td>Peptidomimetics</td>\n",
       "    </tr>\n",
       "    <tr>\n",
       "      <th>1</th>\n",
       "      <td>CCC[C@@H](C)[C@@H]([C@H](C)[C@@H]1[C@H]([C@H](...</td>\n",
       "      <td>KNGPFNUOXXLKCN-ZNCJFREWSA-N</td>\n",
       "      <td>KNGPFNUOXXLKCN</td>\n",
       "      <td>CCMSLIB00000001548</td>\n",
       "      <td>[-8.144101929166954, -25.09254423476226, -1.49...</td>\n",
       "      <td>[0.0, 3.6031694412231445, 12.245128631591797, ...</td>\n",
       "      <td>[-2.5071416, -7.008046, -7.7435217, 3.9533424,...</td>\n",
       "      <td>Peptidomimetics</td>\n",
       "    </tr>\n",
       "    <tr>\n",
       "      <th>2</th>\n",
       "      <td>CCCCCCC[C@@H](C/C=C/CCC(=O)NC/C(=C/Cl)/[C@@]12...</td>\n",
       "      <td>WXDBUBIFYCCNLE-NSCMQRKRSA-N</td>\n",
       "      <td>WXDBUBIFYCCNLE</td>\n",
       "      <td>CCMSLIB00000001549</td>\n",
       "      <td>[-6.807433213493404, 2.8870356459664226, -4.28...</td>\n",
       "      <td>[28.570608139038086, 7.199506759643555, 10.875...</td>\n",
       "      <td>[-5.2424912, -4.194231, -4.1477222, -1.4712936...</td>\n",
       "      <td>Oxepanes</td>\n",
       "    </tr>\n",
       "    <tr>\n",
       "      <th>3</th>\n",
       "      <td>CCCCCCC[C@@H](C/C=C/CCC(=O)NC/C(=C/Cl)/[C@@]12...</td>\n",
       "      <td>WXDBUBIFYCCNLE-NSCMQRKRSA-N</td>\n",
       "      <td>WXDBUBIFYCCNLE</td>\n",
       "      <td>CCMSLIB00000071752</td>\n",
       "      <td>[-3.703751099226352, -2.2908253516762493, 6.72...</td>\n",
       "      <td>[17.48873519897461, 0.0, 29.71199607849121, 0....</td>\n",
       "      <td>[-5.2424912, -4.194231, -4.1477222, -1.4712936...</td>\n",
       "      <td>Oxepanes</td>\n",
       "    </tr>\n",
       "    <tr>\n",
       "      <th>4</th>\n",
       "      <td>OC1=CC=C(\\C=C2\\C(=O)C(C3=C4C5=C(C=CC=C5)N=C4\\C...</td>\n",
       "      <td>CGZKSPLDUIRCIO-RPCRKUJJSA-N</td>\n",
       "      <td>CGZKSPLDUIRCIO</td>\n",
       "      <td>CCMSLIB00000001550</td>\n",
       "      <td>[-10.171258233684286, 7.6353667714294735, 4.62...</td>\n",
       "      <td>[0.0, 3.3309712409973145, 14.854373931884766, ...</td>\n",
       "      <td>[3.6706285, -0.5248031, -10.340071, 15.618862,...</td>\n",
       "      <td>Indoles and derivatives</td>\n",
       "    </tr>\n",
       "  </tbody>\n",
       "</table>\n",
       "</div>"
      ],
      "text/plain": [
       "                                              smiles  \\\n",
       "0  CC(C)CC1NC(=O)C(C)NC(=O)C(=C)N(C)C(=O)CCC(NC(=...   \n",
       "1  CCC[C@@H](C)[C@@H]([C@H](C)[C@@H]1[C@H]([C@H](...   \n",
       "2  CCCCCCC[C@@H](C/C=C/CCC(=O)NC/C(=C/Cl)/[C@@]12...   \n",
       "3  CCCCCCC[C@@H](C/C=C/CCC(=O)NC/C(=C/Cl)/[C@@]12...   \n",
       "4  OC1=CC=C(\\C=C2\\C(=O)C(C3=C4C5=C(C=CC=C5)N=C4\\C...   \n",
       "\n",
       "                     inchi_key      inchikey14             spec_id  \\\n",
       "0  IYDKWWDUBYWQGF-NNAZGLEUSA-N  IYDKWWDUBYWQGF  CCMSLIB00000001547   \n",
       "1  KNGPFNUOXXLKCN-ZNCJFREWSA-N  KNGPFNUOXXLKCN  CCMSLIB00000001548   \n",
       "2  WXDBUBIFYCCNLE-NSCMQRKRSA-N  WXDBUBIFYCCNLE  CCMSLIB00000001549   \n",
       "3  WXDBUBIFYCCNLE-NSCMQRKRSA-N  WXDBUBIFYCCNLE  CCMSLIB00000071752   \n",
       "4  CGZKSPLDUIRCIO-RPCRKUJJSA-N  CGZKSPLDUIRCIO  CCMSLIB00000001550   \n",
       "\n",
       "                                            spec2vec  \\\n",
       "0  [-22.561352524375522, -52.61297182073491, 49.4...   \n",
       "1  [-8.144101929166954, -25.09254423476226, -1.49...   \n",
       "2  [-6.807433213493404, 2.8870356459664226, -4.28...   \n",
       "3  [-3.703751099226352, -2.2908253516762493, 6.72...   \n",
       "4  [-10.171258233684286, 7.6353667714294735, 4.62...   \n",
       "\n",
       "                                               ms2ds  \\\n",
       "0  [0.0, 15.901464462280273, 37.367000579833984, ...   \n",
       "1  [0.0, 3.6031694412231445, 12.245128631591797, ...   \n",
       "2  [28.570608139038086, 7.199506759643555, 10.875...   \n",
       "3  [17.48873519897461, 0.0, 29.71199607849121, 0....   \n",
       "4  [0.0, 3.3309712409973145, 14.854373931884766, ...   \n",
       "\n",
       "                                             mol2vec                 cf_class  \n",
       "0  [1.630672, -6.694838, -8.602699, 8.267098, 5.2...          Peptidomimetics  \n",
       "1  [-2.5071416, -7.008046, -7.7435217, 3.9533424,...          Peptidomimetics  \n",
       "2  [-5.2424912, -4.194231, -4.1477222, -1.4712936...                 Oxepanes  \n",
       "3  [-5.2424912, -4.194231, -4.1477222, -1.4712936...                 Oxepanes  \n",
       "4  [3.6706285, -0.5248031, -10.340071, 15.618862,...  Indoles and derivatives  "
      ]
     },
     "execution_count": 24,
     "metadata": {},
     "output_type": "execute_result"
    }
   ],
   "source": [
    " df_merged.head()\n",
    "        "
   ]
  },
  {
   "cell_type": "code",
   "execution_count": 25,
   "id": "8de07bcc",
   "metadata": {},
   "outputs": [
    {
     "data": {
      "text/plain": [
       "(302514, 7)"
      ]
     },
     "execution_count": 25,
     "metadata": {},
     "output_type": "execute_result"
    }
   ],
   "source": [
    "# write merged df to file\n",
    "path = './df_classes_all_embeddings.pickle'\n",
    "Files(path).write_to_file(df_merged)"
   ]
  },
  {
   "cell_type": "markdown",
   "id": "b1cf0e11",
   "metadata": {},
   "source": [
    "## Visualizing Embeddings\n",
    "\n",
    "Just a rough visualization of the embeddings for now"
   ]
  },
  {
   "cell_type": "code",
   "execution_count": 29,
   "id": "da6390e6",
   "metadata": {},
   "outputs": [],
   "source": [
    "import tqdm\n",
    "import umap\n",
    "from sklearn.manifold import TSNE\n",
    "import os\n",
    "import pandas as pd\n",
    "import numpy as np\n",
    "import umap.plot\n",
    "from matplotlib import pyplot as plt\n",
    "import seaborn as sns\n",
    "\n"
   ]
  },
  {
   "cell_type": "code",
   "execution_count": null,
   "id": "70f3797f",
   "metadata": {},
   "outputs": [],
   "source": [
    "embed = pd.read_pickle('./ms2ds_embeddings_unique_GNPS_15_12_2021.pickle')"
   ]
  },
  {
   "cell_type": "code",
   "execution_count": 38,
   "id": "9aa42712",
   "metadata": {},
   "outputs": [
    {
     "data": {
      "text/plain": [
       "['Peptidomimetics',\n",
       " 'Peptidomimetics',\n",
       " 'Macrolactams',\n",
       " 'Peptidomimetics',\n",
       " 'Carboxylic acids and derivatives',\n",
       " 'Carboxylic acids and derivatives',\n",
       " 'Benzene and substituted derivatives',\n",
       " 'Carboxylic acids and derivatives',\n",
       " 'Carboxylic acids and derivatives',\n",
       " 'Carboxylic acids and derivatives']"
      ]
     },
     "execution_count": 38,
     "metadata": {},
     "output_type": "execute_result"
    }
   ],
   "source": [
    "df = pd.read_pickle('./df_unique_embed_class')\n",
    "target = [x for x in df['cf_class']]\n",
    "target[0:10]"
   ]
  },
  {
   "cell_type": "code",
   "execution_count": 26,
   "id": "8da9b6ff",
   "metadata": {},
   "outputs": [
    {
     "ename": "NameError",
     "evalue": "name 'umap' is not defined",
     "output_type": "error",
     "traceback": [
      "\u001b[1;31m---------------------------------------------------------------------------\u001b[0m",
      "\u001b[1;31mNameError\u001b[0m                                 Traceback (most recent call last)",
      "\u001b[1;32m~\\AppData\\Local\\Temp/ipykernel_9908/1704866618.py\u001b[0m in \u001b[0;36m<module>\u001b[1;34m\u001b[0m\n\u001b[1;32m----> 1\u001b[1;33m \u001b[0mmapper\u001b[0m \u001b[1;33m=\u001b[0m \u001b[0mumap\u001b[0m\u001b[1;33m.\u001b[0m\u001b[0mUMAP\u001b[0m\u001b[1;33m(\u001b[0m\u001b[1;33m)\u001b[0m\u001b[1;33m.\u001b[0m\u001b[0mfit\u001b[0m\u001b[1;33m(\u001b[0m\u001b[0membed\u001b[0m\u001b[1;33m)\u001b[0m\u001b[1;33m\u001b[0m\u001b[1;33m\u001b[0m\u001b[0m\n\u001b[0m",
      "\u001b[1;31mNameError\u001b[0m: name 'umap' is not defined"
     ]
    }
   ],
   "source": [
    "mapper = umap.UMAP().fit(embed)"
   ]
  },
  {
   "cell_type": "code",
   "execution_count": null,
   "id": "7ea00c74",
   "metadata": {},
   "outputs": [],
   "source": []
  }
 ],
 "metadata": {
  "kernelspec": {
   "display_name": "Python 3 (ipykernel)",
   "language": "python",
   "name": "python3"
  },
  "language_info": {
   "codemirror_mode": {
    "name": "ipython",
    "version": 3
   },
   "file_extension": ".py",
   "mimetype": "text/x-python",
   "name": "python",
   "nbconvert_exporter": "python",
   "pygments_lexer": "ipython3",
   "version": "3.9.7"
  },
  "vscode": {
   "interpreter": {
    "hash": "ebaa5b4d78518e8f4bcd75fe6b923d5220c8aab7da6d35590d21ccd3d19529bd"
   }
  }
 },
 "nbformat": 4,
 "nbformat_minor": 5
}
