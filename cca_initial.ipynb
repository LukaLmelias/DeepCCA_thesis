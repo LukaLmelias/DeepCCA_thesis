{
 "cells": [
  {
   "cell_type": "code",
   "execution_count": 47,
   "id": "43efae05",
   "metadata": {},
   "outputs": [],
   "source": [
    "%matplotlib inline\n",
    "from cca_zoo.models import CCA\n",
    "from cca_zoo.data import generate_covariance_data\n",
    "from cca_zoo.models import rCCA\n",
    "from cca_zoo.model_selection import GridSearchCV\n",
    "from cca_zoo.deepmodels import architectures\n",
    "import seaborn as sns\n",
    "import pandas as pd\n",
    "from matplotlib import pyplot as plt"
   ]
  },
  {
   "cell_type": "code",
   "execution_count": 29,
   "id": "645db9de",
   "metadata": {},
   "outputs": [],
   "source": [
    "(train_view_1,train_view_2),(true_weights_1,true_weights_2)=generate_covariance_data(n=200,view_features=[10,10],latent_dims=100,correlation=1)"
   ]
  },
  {
   "cell_type": "code",
   "execution_count": 5,
   "id": "c76a2902",
   "metadata": {},
   "outputs": [
    {
     "data": {
      "text/plain": [
       "array([[-0.89491483, -0.57796163,  0.20014337, ...,  1.41891266,\n",
       "        -0.29555641, -0.89333418],\n",
       "       [ 0.71199708,  0.6393824 , -1.11738447, ...,  0.08858433,\n",
       "        -1.24379199, -0.57202807],\n",
       "       [ 1.5413662 ,  0.0466759 , -2.33054911, ..., -0.65676295,\n",
       "         0.15218453, -0.75706414],\n",
       "       ...,\n",
       "       [-0.9426455 ,  0.11079315,  1.01173001, ..., -0.24629306,\n",
       "         0.75936387,  0.74540425],\n",
       "       [ 1.08133476, -0.67241988, -0.06655327, ...,  0.59339799,\n",
       "        -0.66014785,  2.79088646],\n",
       "       [ 0.13841383,  2.17626391,  1.42869877, ...,  0.70035798,\n",
       "        -1.43062602, -0.3973502 ]])"
      ]
     },
     "execution_count": 5,
     "metadata": {},
     "output_type": "execute_result"
    }
   ],
   "source": [
    "train_view_1"
   ]
  },
  {
   "cell_type": "code",
   "execution_count": 73,
   "id": "9eaf2d04",
   "metadata": {},
   "outputs": [],
   "source": [
    "latent_dims=9\n",
    "linear_cca = CCA(latent_dims=latent_dims)"
   ]
  },
  {
   "cell_type": "code",
   "execution_count": 74,
   "id": "4eed38cf",
   "metadata": {},
   "outputs": [
    {
     "data": {
      "text/plain": [
       "CCA(latent_dims=9, random_state=RandomState(MT19937) at 0x2A5FF3F7A40)"
      ]
     },
     "execution_count": 74,
     "metadata": {},
     "output_type": "execute_result"
    }
   ],
   "source": [
    "linear_cca.fit([train_view_1, train_view_2])"
   ]
  },
  {
   "cell_type": "code",
   "execution_count": 75,
   "id": "a74e32df",
   "metadata": {},
   "outputs": [],
   "source": [
    "z1, z2 = linear_cca.fit_transform([train_view_1, train_view_2])"
   ]
  },
  {
   "cell_type": "code",
   "execution_count": 14,
   "id": "3aeb27e9",
   "metadata": {},
   "outputs": [
    {
     "data": {
      "text/plain": [
       "200"
      ]
     },
     "execution_count": 14,
     "metadata": {},
     "output_type": "execute_result"
    }
   ],
   "source": [
    "len(z2)"
   ]
  },
  {
   "cell_type": "code",
   "execution_count": 38,
   "id": "3441eb39",
   "metadata": {},
   "outputs": [
    {
     "data": {
      "text/plain": [
       "array([0.99981618, 0.59947104, 0.39032647, 0.36108709, 0.27487408,\n",
       "       0.2225249 , 0.14434168, 0.1045679 , 0.08189783])"
      ]
     },
     "execution_count": 38,
     "metadata": {},
     "output_type": "execute_result"
    }
   ],
   "source": [
    "correlation=linear_cca.score([train_view_1,train_view_2])\n",
    "correlation"
   ]
  },
  {
   "cell_type": "code",
   "execution_count": null,
   "id": "92aaf758",
   "metadata": {},
   "outputs": [],
   "source": []
  },
  {
   "cell_type": "code",
   "execution_count": 52,
   "id": "7887ebec",
   "metadata": {},
   "outputs": [
    {
     "data": {
      "text/html": [
       "<div>\n",
       "<style scoped>\n",
       "    .dataframe tbody tr th:only-of-type {\n",
       "        vertical-align: middle;\n",
       "    }\n",
       "\n",
       "    .dataframe tbody tr th {\n",
       "        vertical-align: top;\n",
       "    }\n",
       "\n",
       "    .dataframe thead th {\n",
       "        text-align: right;\n",
       "    }\n",
       "</style>\n",
       "<table border=\"1\" class=\"dataframe\">\n",
       "  <thead>\n",
       "    <tr style=\"text-align: right;\">\n",
       "      <th></th>\n",
       "      <th>latent_dim</th>\n",
       "      <th>cor</th>\n",
       "    </tr>\n",
       "  </thead>\n",
       "  <tbody>\n",
       "    <tr>\n",
       "      <th>0</th>\n",
       "      <td>1</td>\n",
       "      <td>0.999816</td>\n",
       "    </tr>\n",
       "    <tr>\n",
       "      <th>1</th>\n",
       "      <td>2</td>\n",
       "      <td>0.599471</td>\n",
       "    </tr>\n",
       "    <tr>\n",
       "      <th>2</th>\n",
       "      <td>3</td>\n",
       "      <td>0.390326</td>\n",
       "    </tr>\n",
       "    <tr>\n",
       "      <th>3</th>\n",
       "      <td>4</td>\n",
       "      <td>0.361087</td>\n",
       "    </tr>\n",
       "    <tr>\n",
       "      <th>4</th>\n",
       "      <td>5</td>\n",
       "      <td>0.274874</td>\n",
       "    </tr>\n",
       "  </tbody>\n",
       "</table>\n",
       "</div>"
      ],
      "text/plain": [
       "   latent_dim       cor\n",
       "0           1  0.999816\n",
       "1           2  0.599471\n",
       "2           3  0.390326\n",
       "3           4  0.361087\n",
       "4           5  0.274874"
      ]
     },
     "execution_count": 52,
     "metadata": {},
     "output_type": "execute_result"
    }
   ],
   "source": [
    "dims = [i for i in range(1,9+1)]\n",
    "dims\n",
    "cor_df = pd.DataFrame(list(zip(dims,correlation)),\\\n",
    "                      columns=['latent_dim','cor']) \n",
    "cor_df.head()"
   ]
  },
  {
   "cell_type": "code",
   "execution_count": 84,
   "id": "fa822ce5",
   "metadata": {},
   "outputs": [],
   "source": [
    "cor =[ i+0.325 for i in correlation]\n",
    "cor_test = pd.DataFrame(list(zip(dims,cor)),\\\n",
    "                      columns=['latent_dim','cor']) "
   ]
  },
  {
   "cell_type": "code",
   "execution_count": 99,
   "id": "88f57cfc",
   "metadata": {},
   "outputs": [
    {
     "data": {
      "image/png": "[encoded data removed]",
      "text/plain": [
       "<Figure size 432x288 with 1 Axes>"
      ]
     },
     "metadata": {},
     "output_type": "display_data"
    }
   ],
   "source": [
    "fig, ax = plt.subplots()\n",
    "sns.set_style('darkgrid')\n",
    "dfs = [cor_df,cor_test]\n",
    "for df in dfs:\n",
    "    sns.lineplot(data = df, x='latent_dim',y='cor',ax=ax)\n",
    "fig.legend(labels=['train', 'test'], loc='center right')\n",
    "plt.show()\n"
   ]
  },
  {
   "cell_type": "code",
   "execution_count": 26,
   "id": "837378cd",
   "metadata": {},
   "outputs": [
    {
     "data": {
      "text/plain": [
       "array([[ 0.18477549, -0.03592807, -0.51215859],\n",
       "       [ 0.4518874 ,  0.06769055,  0.06002952],\n",
       "       [-0.26721969,  0.04612326, -0.453014  ],\n",
       "       [ 0.23649633, -0.59274112,  0.06896725],\n",
       "       [-0.42060384,  0.11289602,  0.32773964],\n",
       "       [ 0.21630463,  0.54196795, -0.41918049],\n",
       "       [-0.41333183, -0.02906376,  0.31138391],\n",
       "       [-0.2248347 ,  0.27995507, -0.00065995],\n",
       "       [-0.48095482, -0.44467074, -0.57450483],\n",
       "       [ 0.06831883, -0.43514932,  0.04049554]])"
      ]
     },
     "execution_count": 26,
     "metadata": {},
     "output_type": "execute_result"
    }
   ],
   "source": [
    "w1 = linear_cca.weights[0]\n",
    "w1"
   ]
  }
 ],
 "metadata": {
  "kernelspec": {
   "display_name": "Python 3 (ipykernel)",
   "language": "python",
   "name": "python3"
  },
  "language_info": {
   "codemirror_mode": {
    "name": "ipython",
    "version": 3
   },
   "file_extension": ".py",
   "mimetype": "text/x-python",
   "name": "python",
   "nbconvert_exporter": "python",
   "pygments_lexer": "ipython3",
   "version": "3.9.7"
  }
 },
 "nbformat": 4,
 "nbformat_minor": 5
}
