{
 "cells": [
  {
   "cell_type": "code",
   "execution_count": 4,
   "id": "ea3d8f6d",
   "metadata": {},
   "outputs": [],
   "source": [
    "%matplotlib inline\n",
    "import os\n",
    "from cca_zoo.models import CCA\n",
    "from cca_zoo.data import generate_covariance_data\n",
    "from cca_zoo.models import rCCA\n",
    "from cca_zoo.model_selection import GridSearchCV\n",
    "from cca_zoo.deepmodels import architectures\n",
    "import seaborn as sns\n",
    "import pandas as pd\n",
    "import numpy as np\n",
    "from sklearn.model_selection import train_test_split\n",
    "from matplotlib import pyplot as plt\n",
    "os.chdir('../raw_data')"
   ]
  },
  {
   "cell_type": "markdown",
   "id": "c37cfb7a",
   "metadata": {},
   "source": [
    "#### Functions to load and or write to pickle files"
   ]
  },
  {
   "cell_type": "code",
   "execution_count": 5,
   "id": "8a2b40a5",
   "metadata": {},
   "outputs": [],
   "source": [
    "class Files:\n",
    "    def __init__(self, filename):\n",
    "        self.file = filename\n",
    "        \n",
    "    def write_to_file(self, data):\n",
    "        with open(self.file, 'wb') as f:\n",
    "            pickle.dump(data, f) \n",
    "        return None\n",
    "    \n",
    "    def load_pickle(self):\n",
    "        data = pd.read_pickle(self.file)\n",
    "        return data\n",
    "    \n",
    "    def load_csv(self, sep, usecols=None):\n",
    "        data = pd.read_csv(self.file, sep=sep, usecols=usecols)\n",
    "        return data\n",
    "        \n",
    "        \n",
    "    "
   ]
  },
  {
   "cell_type": "code",
   "execution_count": 3,
   "id": "4048b26c",
   "metadata": {},
   "outputs": [
    {
     "data": {
      "text/plain": [
       "['ALL_GNPS.json',\n",
       " 'ALL_GNPS_15_12_2021_positive_annotated.pickle',\n",
       " 'ALL_GNPS_15_12_2021_positive_annotated_classifications.txt',\n",
       " 'all_spec_embedding.pickle',\n",
       " 'model_300dim.pkl',\n",
       " 'mol2vec_embedding.pickle',\n",
       " 'ms2ds_embeddings_unique_GNPS_15_12_2021.pickle',\n",
       " 'ms2ds_model_GNPS_15_12_2021.hdf5',\n",
       " 'plot_validation.py',\n",
       " 'spec2vec_embeddings_unique_GNPS_15_12_2021.pickle',\n",
       " 'spec2vec_model_GNPS_15_12_2021.model',\n",
       " 'spec2vec_model_GNPS_15_12_2021.model.syn1neg.npy',\n",
       " 'spec2vec_model_GNPS_15_12_2021.model.wv.vectors.npy',\n",
       " 'spectra_unique_GNPS_15_12_2021.pickle',\n",
       " '__pycache__']"
      ]
     },
     "execution_count": 3,
     "metadata": {},
     "output_type": "execute_result"
    }
   ],
   "source": [
    "os.listdir()"
   ]
  },
  {
   "cell_type": "code",
   "execution_count": 6,
   "id": "e4e2fbc9",
   "metadata": {},
   "outputs": [
    {
     "data": {
      "text/plain": [
       "314318"
      ]
     },
     "execution_count": 6,
     "metadata": {},
     "output_type": "execute_result"
    }
   ],
   "source": [
    "#load spec2vec embeddings\n",
    "path_spec2vec = './all_spec_embedding.pickle'\n",
    "spec2vec = Files(path_spec2vec).load_pickle()#[:10000]\n",
    "len(spec2vec)\n"
   ]
  },
  {
   "cell_type": "code",
   "execution_count": 213,
   "id": "269d7ed6",
   "metadata": {},
   "outputs": [
    {
     "data": {
      "text/plain": [
       "20889"
      ]
     },
     "execution_count": 213,
     "metadata": {},
     "output_type": "execute_result"
    }
   ],
   "source": [
    "#load ms2ds embeddings\n",
    "path_ms2ds = './ms2ds_embeddings_unique_GNPS_15_12_2021.pickle'\n",
    "ms2ds = Files(path_ms2ds).load_pickle()#[:10000]\n",
    "len(ms2ds)\n"
   ]
  },
  {
   "cell_type": "code",
   "execution_count": 7,
   "id": "fe12d330",
   "metadata": {},
   "outputs": [
    {
     "data": {
      "text/plain": [
       "314318"
      ]
     },
     "execution_count": 7,
     "metadata": {},
     "output_type": "execute_result"
    }
   ],
   "source": [
    "\n",
    "#load mol2vec embeddings\n",
    "path_mol2vec = './mol2vec_embedding.pickle'\n",
    "mol2vec = Files(path_mol2vec).load_pickle()#[:10000]\n",
    "len(mol2vec)"
   ]
  },
  {
   "cell_type": "code",
   "execution_count": 8,
   "id": "42e4b95d",
   "metadata": {},
   "outputs": [],
   "source": [
    "#split the dataset\n",
    "x_train, x_test, y_train, y_test = \\\n",
    "train_test_split(spec2vec, mol2vec, test_size=0.2, random_state=42)"
   ]
  },
  {
   "cell_type": "code",
   "execution_count": 9,
   "id": "cf9e2749",
   "metadata": {},
   "outputs": [],
   "source": [
    "#init CCA\n",
    "latent_dims=200\n",
    "linear_cca = CCA(latent_dims=latent_dims)"
   ]
  },
  {
   "cell_type": "code",
   "execution_count": 10,
   "id": "9f499d3e",
   "metadata": {},
   "outputs": [],
   "source": [
    "#fit and transform\n",
    "train_z1, train_z2 = linear_cca.fit_transform([x_train, y_train])"
   ]
  },
  {
   "cell_type": "code",
   "execution_count": 11,
   "id": "36947008",
   "metadata": {},
   "outputs": [
    {
     "data": {
      "text/plain": [
       "200"
      ]
     },
     "execution_count": 11,
     "metadata": {},
     "output_type": "execute_result"
    }
   ],
   "source": [
    "# extract correlation between the views\n",
    "train_cor=linear_cca.score([x_train, y_train])\n",
    "len(train_cor)"
   ]
  },
  {
   "cell_type": "code",
   "execution_count": 12,
   "id": "c5029001",
   "metadata": {},
   "outputs": [],
   "source": [
    "# transform the test dataset\n",
    "test_z1, test_z2 = linear_cca.transform([x_test,y_test])\n",
    "test_cor = linear_cca.score([x_test, y_test])"
   ]
  },
  {
   "cell_type": "code",
   "execution_count": 13,
   "id": "221a3e9e",
   "metadata": {},
   "outputs": [
    {
     "data": {
      "text/html": [
       "<div>\n",
       "<style scoped>\n",
       "    .dataframe tbody tr th:only-of-type {\n",
       "        vertical-align: middle;\n",
       "    }\n",
       "\n",
       "    .dataframe tbody tr th {\n",
       "        vertical-align: top;\n",
       "    }\n",
       "\n",
       "    .dataframe thead th {\n",
       "        text-align: right;\n",
       "    }\n",
       "</style>\n",
       "<table border=\"1\" class=\"dataframe\">\n",
       "  <thead>\n",
       "    <tr style=\"text-align: right;\">\n",
       "      <th></th>\n",
       "      <th>latent_dim</th>\n",
       "      <th>cor</th>\n",
       "    </tr>\n",
       "  </thead>\n",
       "  <tbody>\n",
       "    <tr>\n",
       "      <th>0</th>\n",
       "      <td>1</td>\n",
       "      <td>0.758863</td>\n",
       "    </tr>\n",
       "    <tr>\n",
       "      <th>1</th>\n",
       "      <td>2</td>\n",
       "      <td>0.606353</td>\n",
       "    </tr>\n",
       "    <tr>\n",
       "      <th>2</th>\n",
       "      <td>3</td>\n",
       "      <td>0.581601</td>\n",
       "    </tr>\n",
       "    <tr>\n",
       "      <th>3</th>\n",
       "      <td>4</td>\n",
       "      <td>0.545333</td>\n",
       "    </tr>\n",
       "    <tr>\n",
       "      <th>4</th>\n",
       "      <td>5</td>\n",
       "      <td>0.514477</td>\n",
       "    </tr>\n",
       "  </tbody>\n",
       "</table>\n",
       "</div>"
      ],
      "text/plain": [
       "   latent_dim       cor\n",
       "0           1  0.758863\n",
       "1           2  0.606353\n",
       "2           3  0.581601\n",
       "3           4  0.545333\n",
       "4           5  0.514477"
      ]
     },
     "execution_count": 13,
     "metadata": {},
     "output_type": "execute_result"
    }
   ],
   "source": [
    "# create a train pd for plotting\n",
    "dims = [i for i in range(1,latent_dims+1)] # adding 1 to start from 1\n",
    "dims\n",
    "train_cor_df = pd.DataFrame(list(zip(dims,train_cor)),\\\n",
    "                      columns=['latent_dim','cor']) \n",
    "train_cor_df.head()"
   ]
  },
  {
   "cell_type": "code",
   "execution_count": 14,
   "id": "49acde82",
   "metadata": {},
   "outputs": [
    {
     "data": {
      "text/html": [
       "<div>\n",
       "<style scoped>\n",
       "    .dataframe tbody tr th:only-of-type {\n",
       "        vertical-align: middle;\n",
       "    }\n",
       "\n",
       "    .dataframe tbody tr th {\n",
       "        vertical-align: top;\n",
       "    }\n",
       "\n",
       "    .dataframe thead th {\n",
       "        text-align: right;\n",
       "    }\n",
       "</style>\n",
       "<table border=\"1\" class=\"dataframe\">\n",
       "  <thead>\n",
       "    <tr style=\"text-align: right;\">\n",
       "      <th></th>\n",
       "      <th>latent_dim</th>\n",
       "      <th>cor</th>\n",
       "    </tr>\n",
       "  </thead>\n",
       "  <tbody>\n",
       "    <tr>\n",
       "      <th>0</th>\n",
       "      <td>1</td>\n",
       "      <td>0.760999</td>\n",
       "    </tr>\n",
       "    <tr>\n",
       "      <th>1</th>\n",
       "      <td>2</td>\n",
       "      <td>0.607071</td>\n",
       "    </tr>\n",
       "    <tr>\n",
       "      <th>2</th>\n",
       "      <td>3</td>\n",
       "      <td>0.579508</td>\n",
       "    </tr>\n",
       "    <tr>\n",
       "      <th>3</th>\n",
       "      <td>4</td>\n",
       "      <td>0.539711</td>\n",
       "    </tr>\n",
       "    <tr>\n",
       "      <th>4</th>\n",
       "      <td>5</td>\n",
       "      <td>0.504775</td>\n",
       "    </tr>\n",
       "  </tbody>\n",
       "</table>\n",
       "</div>"
      ],
      "text/plain": [
       "   latent_dim       cor\n",
       "0           1  0.760999\n",
       "1           2  0.607071\n",
       "2           3  0.579508\n",
       "3           4  0.539711\n",
       "4           5  0.504775"
      ]
     },
     "execution_count": 14,
     "metadata": {},
     "output_type": "execute_result"
    }
   ],
   "source": [
    "# create a test pd for plotting\n",
    "dims = [i for i in range(1,latent_dims+1)]\n",
    "\n",
    "test_cor_df = pd.DataFrame(list(zip(dims,test_cor)),\\\n",
    "                      columns=['latent_dim','cor']) \n",
    "test_cor_df.head()"
   ]
  },
  {
   "cell_type": "code",
   "execution_count": 18,
   "id": "012d4721",
   "metadata": {},
   "outputs": [
    {
     "data": {
      "image/png": "[encoded data removed]",
      "text/plain": [
       "<Figure size 432x288 with 1 Axes>"
      ]
     },
     "metadata": {},
     "output_type": "display_data"
    }
   ],
   "source": [
    "fig, ax = plt.subplots()\n",
    "sns.set_style('dark')\n",
    "dfs = [train_cor_df,test_cor_df]\n",
    "for df in dfs:\n",
    "    sns.lineplot(data = df, x='latent_dim',y='cor',ax=ax)\n",
    "fig.legend(labels=['train', 'test'], loc='center right')\n",
    "plt.show()\n"
   ]
  },
  {
   "cell_type": "code",
   "execution_count": null,
   "id": "ce9ac593",
   "metadata": {},
   "outputs": [],
   "source": [
    "#Think of importing plot_validation "
   ]
  }
 ],
 "metadata": {
  "kernelspec": {
   "display_name": "Python 3 (ipykernel)",
   "language": "python",
   "name": "python3"
  },
  "language_info": {
   "codemirror_mode": {
    "name": "ipython",
    "version": 3
   },
   "file_extension": ".py",
   "mimetype": "text/x-python",
   "name": "python",
   "nbconvert_exporter": "python",
   "pygments_lexer": "ipython3",
   "version": "3.9.7"
  }
 },
 "nbformat": 4,
 "nbformat_minor": 5
}
