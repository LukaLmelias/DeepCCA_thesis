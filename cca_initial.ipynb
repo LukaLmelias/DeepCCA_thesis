{
 "cells": [
  {
   "cell_type": "code",
   "execution_count": 22,
   "id": "ea3d8f6d",
   "metadata": {},
   "outputs": [],
   "source": [
    "%matplotlib inline\n",
    "import os\n",
    "from cca_zoo.models import CCA\n",
    "from cca_zoo.data import generate_covariance_data\n",
    "from cca_zoo.models import rCCA\n",
    "from cca_zoo.model_selection import GridSearchCV\n",
    "from cca_zoo.deepmodels import architectures\n",
    "import seaborn as sns\n",
    "import pandas as pd\n",
    "import numpy as np\n",
    "import pickle\n",
    "from sklearn.model_selection import train_test_split\n",
    "from matplotlib import pyplot as plt\n",
    "os.chdir('../raw_data')"
   ]
  },
  {
   "cell_type": "markdown",
   "id": "c37cfb7a",
   "metadata": {},
   "source": [
    "#### Functions to load and or write to pickle files"
   ]
  },
  {
   "cell_type": "code",
   "execution_count": 23,
   "id": "8a2b40a5",
   "metadata": {},
   "outputs": [],
   "source": [
    "class Files:\n",
    "    def __init__(self, filename):\n",
    "        self.file = filename\n",
    "        \n",
    "    def write_to_file(self, data):\n",
    "        with open(self.file, 'wb') as f:\n",
    "            pickle.dump(data, f) \n",
    "        return None\n",
    "    \n",
    "    def load_pickle(self):\n",
    "        data = pd.read_pickle(self.file)\n",
    "        return data\n",
    "    \n",
    "    def load_csv(self, sep, usecols=None):\n",
    "        data = pd.read_csv(self.file, sep=sep, usecols=usecols)\n",
    "        return data\n",
    "        \n",
    "        \n",
    "    "
   ]
  },
  {
   "cell_type": "code",
   "execution_count": 24,
   "id": "4048b26c",
   "metadata": {},
   "outputs": [
    {
     "data": {
      "text/plain": [
       "['ALL_GNPS.json',\n",
       " 'ALL_GNPS_15_12_2021_positive_annotated.pickle',\n",
       " 'ALL_GNPS_15_12_2021_positive_annotated_classifications.txt',\n",
       " 'all_spec_embedding.pickle',\n",
       " 'GNPS_15_12_2021_ms2ds_embeddings.pickle',\n",
       " 'model_300dim.pkl',\n",
       " 'mol2vec_embedding.pickle',\n",
       " 'ms2ds_embeddings_unique_GNPS_15_12_2021.pickle',\n",
       " 'ms2ds_model_GNPS_15_12_2021.hdf5',\n",
       " 'plot_validation.py',\n",
       " 'spec2vec_embeddings_unique_GNPS_15_12_2021.pickle',\n",
       " 'spec2vec_model_GNPS_15_12_2021.model',\n",
       " 'spec2vec_model_GNPS_15_12_2021.model.syn1neg.npy',\n",
       " 'spec2vec_model_GNPS_15_12_2021.model.wv.vectors.npy',\n",
       " 'spectra_unique_GNPS_15_12_2021.pickle']"
      ]
     },
     "execution_count": 24,
     "metadata": {},
     "output_type": "execute_result"
    }
   ],
   "source": [
    "os.listdir()"
   ]
  },
  {
   "cell_type": "code",
   "execution_count": 10,
   "id": "e4e2fbc9",
   "metadata": {},
   "outputs": [
    {
     "data": {
      "text/plain": [
       "20889"
      ]
     },
     "execution_count": 10,
     "metadata": {},
     "output_type": "execute_result"
    }
   ],
   "source": [
    "#load spec2vec embeddings\n",
    "path_spec2vec = './spec2vec_embeddings_unique_GNPS_15_12_2021.pickle'\n",
    "spec2vec = Files(path_spec2vec).load_pickle()#[:10000]\n",
    "len(spec2vec)\n"
   ]
  },
  {
   "cell_type": "code",
   "execution_count": 4,
   "id": "3af52597",
   "metadata": {},
   "outputs": [
    {
     "data": {
      "text/plain": [
       "20889"
      ]
     },
     "execution_count": 4,
     "metadata": {},
     "output_type": "execute_result"
    }
   ],
   "source": [
    "#load uniq ms2ds\n",
    "path = './ms2ds_embeddings_unique_GNPS_15_12_2021.pickle'\n",
    "ms_uniq = Files(path).load_pickle()\n",
    "len(ms_uniq)"
   ]
  },
  {
   "cell_type": "code",
   "execution_count": 71,
   "id": "269d7ed6",
   "metadata": {},
   "outputs": [
    {
     "data": {
      "text/html": [
       "<div>\n",
       "<style scoped>\n",
       "    .dataframe tbody tr th:only-of-type {\n",
       "        vertical-align: middle;\n",
       "    }\n",
       "\n",
       "    .dataframe tbody tr th {\n",
       "        vertical-align: top;\n",
       "    }\n",
       "\n",
       "    .dataframe thead th {\n",
       "        text-align: right;\n",
       "    }\n",
       "</style>\n",
       "<table border=\"1\" class=\"dataframe\">\n",
       "  <thead>\n",
       "    <tr style=\"text-align: right;\">\n",
       "      <th></th>\n",
       "      <th>0</th>\n",
       "      <th>1</th>\n",
       "      <th>2</th>\n",
       "      <th>3</th>\n",
       "      <th>4</th>\n",
       "      <th>5</th>\n",
       "      <th>6</th>\n",
       "      <th>7</th>\n",
       "      <th>8</th>\n",
       "      <th>9</th>\n",
       "      <th>...</th>\n",
       "      <th>190</th>\n",
       "      <th>191</th>\n",
       "      <th>192</th>\n",
       "      <th>193</th>\n",
       "      <th>194</th>\n",
       "      <th>195</th>\n",
       "      <th>196</th>\n",
       "      <th>197</th>\n",
       "      <th>198</th>\n",
       "      <th>199</th>\n",
       "    </tr>\n",
       "  </thead>\n",
       "  <tbody>\n",
       "    <tr>\n",
       "      <th>CCMSLIB00000579925</th>\n",
       "      <td>5.444295</td>\n",
       "      <td>0.000000</td>\n",
       "      <td>0.0</td>\n",
       "      <td>0.000000</td>\n",
       "      <td>0.0</td>\n",
       "      <td>25.566275</td>\n",
       "      <td>0.000000</td>\n",
       "      <td>0.000000</td>\n",
       "      <td>12.433298</td>\n",
       "      <td>21.435843</td>\n",
       "      <td>...</td>\n",
       "      <td>0.0</td>\n",
       "      <td>14.670666</td>\n",
       "      <td>9.170443</td>\n",
       "      <td>0.000000</td>\n",
       "      <td>29.769424</td>\n",
       "      <td>3.146680</td>\n",
       "      <td>0.000000</td>\n",
       "      <td>1.279594</td>\n",
       "      <td>17.032347</td>\n",
       "      <td>15.988544</td>\n",
       "    </tr>\n",
       "    <tr>\n",
       "      <th>CCMSLIB00004683390</th>\n",
       "      <td>0.000000</td>\n",
       "      <td>0.000000</td>\n",
       "      <td>0.0</td>\n",
       "      <td>10.573889</td>\n",
       "      <td>0.0</td>\n",
       "      <td>3.625986</td>\n",
       "      <td>9.882024</td>\n",
       "      <td>9.222461</td>\n",
       "      <td>0.000000</td>\n",
       "      <td>0.000000</td>\n",
       "      <td>...</td>\n",
       "      <td>0.0</td>\n",
       "      <td>0.000000</td>\n",
       "      <td>5.694060</td>\n",
       "      <td>12.026726</td>\n",
       "      <td>0.000000</td>\n",
       "      <td>16.625841</td>\n",
       "      <td>0.000000</td>\n",
       "      <td>0.000000</td>\n",
       "      <td>0.000000</td>\n",
       "      <td>0.000000</td>\n",
       "    </tr>\n",
       "    <tr>\n",
       "      <th>CCMSLIB00004683403</th>\n",
       "      <td>0.000000</td>\n",
       "      <td>8.779794</td>\n",
       "      <td>0.0</td>\n",
       "      <td>10.539032</td>\n",
       "      <td>0.0</td>\n",
       "      <td>0.000000</td>\n",
       "      <td>22.068830</td>\n",
       "      <td>0.000000</td>\n",
       "      <td>0.000000</td>\n",
       "      <td>0.000000</td>\n",
       "      <td>...</td>\n",
       "      <td>0.0</td>\n",
       "      <td>0.000000</td>\n",
       "      <td>2.786316</td>\n",
       "      <td>19.453104</td>\n",
       "      <td>0.000000</td>\n",
       "      <td>14.607656</td>\n",
       "      <td>0.000000</td>\n",
       "      <td>0.000000</td>\n",
       "      <td>0.000000</td>\n",
       "      <td>0.000000</td>\n",
       "    </tr>\n",
       "    <tr>\n",
       "      <th>CCMSLIB00004683409</th>\n",
       "      <td>0.000000</td>\n",
       "      <td>6.782707</td>\n",
       "      <td>0.0</td>\n",
       "      <td>7.057279</td>\n",
       "      <td>0.0</td>\n",
       "      <td>0.000000</td>\n",
       "      <td>21.694965</td>\n",
       "      <td>0.000000</td>\n",
       "      <td>0.000000</td>\n",
       "      <td>0.000000</td>\n",
       "      <td>...</td>\n",
       "      <td>0.0</td>\n",
       "      <td>0.000000</td>\n",
       "      <td>6.498924</td>\n",
       "      <td>18.673382</td>\n",
       "      <td>0.000000</td>\n",
       "      <td>18.044722</td>\n",
       "      <td>2.148497</td>\n",
       "      <td>0.000000</td>\n",
       "      <td>0.000000</td>\n",
       "      <td>0.000000</td>\n",
       "    </tr>\n",
       "    <tr>\n",
       "      <th>CCMSLIB00004683411</th>\n",
       "      <td>0.000000</td>\n",
       "      <td>16.076180</td>\n",
       "      <td>0.0</td>\n",
       "      <td>1.880418</td>\n",
       "      <td>0.0</td>\n",
       "      <td>0.000000</td>\n",
       "      <td>29.188948</td>\n",
       "      <td>0.000000</td>\n",
       "      <td>0.000000</td>\n",
       "      <td>0.000000</td>\n",
       "      <td>...</td>\n",
       "      <td>0.0</td>\n",
       "      <td>0.000000</td>\n",
       "      <td>4.826595</td>\n",
       "      <td>22.101501</td>\n",
       "      <td>0.000000</td>\n",
       "      <td>19.224155</td>\n",
       "      <td>14.056287</td>\n",
       "      <td>0.000000</td>\n",
       "      <td>0.000000</td>\n",
       "      <td>0.000000</td>\n",
       "    </tr>\n",
       "  </tbody>\n",
       "</table>\n",
       "<p>5 rows × 200 columns</p>\n",
       "</div>"
      ],
      "text/plain": [
       "                         0          1    2          3    4          5    \\\n",
       "CCMSLIB00000579925  5.444295   0.000000  0.0   0.000000  0.0  25.566275   \n",
       "CCMSLIB00004683390  0.000000   0.000000  0.0  10.573889  0.0   3.625986   \n",
       "CCMSLIB00004683403  0.000000   8.779794  0.0  10.539032  0.0   0.000000   \n",
       "CCMSLIB00004683409  0.000000   6.782707  0.0   7.057279  0.0   0.000000   \n",
       "CCMSLIB00004683411  0.000000  16.076180  0.0   1.880418  0.0   0.000000   \n",
       "\n",
       "                          6         7          8          9    ...  190  \\\n",
       "CCMSLIB00000579925   0.000000  0.000000  12.433298  21.435843  ...  0.0   \n",
       "CCMSLIB00004683390   9.882024  9.222461   0.000000   0.000000  ...  0.0   \n",
       "CCMSLIB00004683403  22.068830  0.000000   0.000000   0.000000  ...  0.0   \n",
       "CCMSLIB00004683409  21.694965  0.000000   0.000000   0.000000  ...  0.0   \n",
       "CCMSLIB00004683411  29.188948  0.000000   0.000000   0.000000  ...  0.0   \n",
       "\n",
       "                          191       192        193        194        195  \\\n",
       "CCMSLIB00000579925  14.670666  9.170443   0.000000  29.769424   3.146680   \n",
       "CCMSLIB00004683390   0.000000  5.694060  12.026726   0.000000  16.625841   \n",
       "CCMSLIB00004683403   0.000000  2.786316  19.453104   0.000000  14.607656   \n",
       "CCMSLIB00004683409   0.000000  6.498924  18.673382   0.000000  18.044722   \n",
       "CCMSLIB00004683411   0.000000  4.826595  22.101501   0.000000  19.224155   \n",
       "\n",
       "                          196       197        198        199  \n",
       "CCMSLIB00000579925   0.000000  1.279594  17.032347  15.988544  \n",
       "CCMSLIB00004683390   0.000000  0.000000   0.000000   0.000000  \n",
       "CCMSLIB00004683403   0.000000  0.000000   0.000000   0.000000  \n",
       "CCMSLIB00004683409   2.148497  0.000000   0.000000   0.000000  \n",
       "CCMSLIB00004683411  14.056287  0.000000   0.000000   0.000000  \n",
       "\n",
       "[5 rows x 200 columns]"
      ]
     },
     "execution_count": 71,
     "metadata": {},
     "output_type": "execute_result"
    }
   ],
   "source": [
    "#load ms2ds embeddings\n",
    "path = './GNPS_15_12_2021_ms2ds_embeddings.pickle'\n",
    "ms2ds = Files(path).load_pickle()\n",
    "\n",
    "\n",
    "ms2ds.tail()"
   ]
  },
  {
   "cell_type": "code",
   "execution_count": 69,
   "id": "fe12d330",
   "metadata": {},
   "outputs": [
    {
     "data": {
      "text/plain": [
       "302514"
      ]
     },
     "execution_count": 69,
     "metadata": {},
     "output_type": "execute_result"
    }
   ],
   "source": [
    "\n",
    "#load mol2vec embeddings\n",
    "path_mol2vec = './mol2vec_embedding.pickle'\n",
    "mol2vec = Files(path_mol2vec).load_pickle()[:302514]# since mol2vec we have upto 302514\n",
    "len(mol2vec)"
   ]
  },
  {
   "cell_type": "code",
   "execution_count": 72,
   "id": "42e4b95d",
   "metadata": {},
   "outputs": [],
   "source": [
    "#split the dataset\n",
    "x_train, x_test, y_train, y_test = \\\n",
    "train_test_split(ms2ds, mol2vec, test_size=0.2, random_state=42)"
   ]
  },
  {
   "cell_type": "code",
   "execution_count": 73,
   "id": "cf9e2749",
   "metadata": {},
   "outputs": [],
   "source": [
    "#init CCA\n",
    "latent_dims=200\n",
    "linear_cca = CCA(latent_dims=latent_dims)"
   ]
  },
  {
   "cell_type": "code",
   "execution_count": 74,
   "id": "9f499d3e",
   "metadata": {},
   "outputs": [],
   "source": [
    "#fit and transform\n",
    "train_z1, train_z2 = linear_cca.fit_transform([x_train, y_train])"
   ]
  },
  {
   "cell_type": "code",
   "execution_count": 75,
   "id": "36947008",
   "metadata": {},
   "outputs": [
    {
     "data": {
      "text/plain": [
       "200"
      ]
     },
     "execution_count": 75,
     "metadata": {},
     "output_type": "execute_result"
    }
   ],
   "source": [
    "# extract correlation between the views\n",
    "train_cor=linear_cca.score([x_train, y_train])\n",
    "len(train_cor)"
   ]
  },
  {
   "cell_type": "code",
   "execution_count": 76,
   "id": "c5029001",
   "metadata": {},
   "outputs": [],
   "source": [
    "# transform the test dataset\n",
    "test_z1, test_z2 = linear_cca.transform([x_test,y_test])\n",
    "test_cor = linear_cca.score([x_test, y_test])"
   ]
  },
  {
   "cell_type": "code",
   "execution_count": 77,
   "id": "221a3e9e",
   "metadata": {},
   "outputs": [
    {
     "data": {
      "text/html": [
       "<div>\n",
       "<style scoped>\n",
       "    .dataframe tbody tr th:only-of-type {\n",
       "        vertical-align: middle;\n",
       "    }\n",
       "\n",
       "    .dataframe tbody tr th {\n",
       "        vertical-align: top;\n",
       "    }\n",
       "\n",
       "    .dataframe thead th {\n",
       "        text-align: right;\n",
       "    }\n",
       "</style>\n",
       "<table border=\"1\" class=\"dataframe\">\n",
       "  <thead>\n",
       "    <tr style=\"text-align: right;\">\n",
       "      <th></th>\n",
       "      <th>latent_dim</th>\n",
       "      <th>cor</th>\n",
       "    </tr>\n",
       "  </thead>\n",
       "  <tbody>\n",
       "    <tr>\n",
       "      <th>0</th>\n",
       "      <td>1</td>\n",
       "      <td>0.806967</td>\n",
       "    </tr>\n",
       "    <tr>\n",
       "      <th>1</th>\n",
       "      <td>2</td>\n",
       "      <td>0.351344</td>\n",
       "    </tr>\n",
       "    <tr>\n",
       "      <th>2</th>\n",
       "      <td>3</td>\n",
       "      <td>0.336317</td>\n",
       "    </tr>\n",
       "    <tr>\n",
       "      <th>3</th>\n",
       "      <td>4</td>\n",
       "      <td>0.288323</td>\n",
       "    </tr>\n",
       "    <tr>\n",
       "      <th>4</th>\n",
       "      <td>5</td>\n",
       "      <td>0.203956</td>\n",
       "    </tr>\n",
       "  </tbody>\n",
       "</table>\n",
       "</div>"
      ],
      "text/plain": [
       "   latent_dim       cor\n",
       "0           1  0.806967\n",
       "1           2  0.351344\n",
       "2           3  0.336317\n",
       "3           4  0.288323\n",
       "4           5  0.203956"
      ]
     },
     "execution_count": 77,
     "metadata": {},
     "output_type": "execute_result"
    }
   ],
   "source": [
    "# create a train pd for plotting\n",
    "dims = [i for i in range(1,latent_dims+1)] # adding 1 to start from 1\n",
    "dims\n",
    "train_cor_df = pd.DataFrame(list(zip(dims,train_cor)),\\\n",
    "                      columns=['latent_dim','cor']) \n",
    "train_cor_df.head()"
   ]
  },
  {
   "cell_type": "code",
   "execution_count": 78,
   "id": "49acde82",
   "metadata": {},
   "outputs": [
    {
     "data": {
      "text/html": [
       "<div>\n",
       "<style scoped>\n",
       "    .dataframe tbody tr th:only-of-type {\n",
       "        vertical-align: middle;\n",
       "    }\n",
       "\n",
       "    .dataframe tbody tr th {\n",
       "        vertical-align: top;\n",
       "    }\n",
       "\n",
       "    .dataframe thead th {\n",
       "        text-align: right;\n",
       "    }\n",
       "</style>\n",
       "<table border=\"1\" class=\"dataframe\">\n",
       "  <thead>\n",
       "    <tr style=\"text-align: right;\">\n",
       "      <th></th>\n",
       "      <th>latent_dim</th>\n",
       "      <th>cor</th>\n",
       "    </tr>\n",
       "  </thead>\n",
       "  <tbody>\n",
       "    <tr>\n",
       "      <th>0</th>\n",
       "      <td>1</td>\n",
       "      <td>0.802216</td>\n",
       "    </tr>\n",
       "    <tr>\n",
       "      <th>1</th>\n",
       "      <td>2</td>\n",
       "      <td>0.336774</td>\n",
       "    </tr>\n",
       "    <tr>\n",
       "      <th>2</th>\n",
       "      <td>3</td>\n",
       "      <td>0.331493</td>\n",
       "    </tr>\n",
       "    <tr>\n",
       "      <th>3</th>\n",
       "      <td>4</td>\n",
       "      <td>0.263769</td>\n",
       "    </tr>\n",
       "    <tr>\n",
       "      <th>4</th>\n",
       "      <td>5</td>\n",
       "      <td>0.193356</td>\n",
       "    </tr>\n",
       "  </tbody>\n",
       "</table>\n",
       "</div>"
      ],
      "text/plain": [
       "   latent_dim       cor\n",
       "0           1  0.802216\n",
       "1           2  0.336774\n",
       "2           3  0.331493\n",
       "3           4  0.263769\n",
       "4           5  0.193356"
      ]
     },
     "execution_count": 78,
     "metadata": {},
     "output_type": "execute_result"
    }
   ],
   "source": [
    "# create a test pd for plotting\n",
    "dims = [i for i in range(1,latent_dims+1)]\n",
    "\n",
    "test_cor_df = pd.DataFrame(list(zip(dims,test_cor)),\\\n",
    "                      columns=['latent_dim','cor']) \n",
    "test_cor_df.head()"
   ]
  },
  {
   "cell_type": "code",
   "execution_count": 80,
   "id": "012d4721",
   "metadata": {},
   "outputs": [
    {
     "data": {
      "image/png": "[encoded data removed]",
      "text/plain": [
       "<Figure size 432x288 with 1 Axes>"
      ]
     },
     "metadata": {},
     "output_type": "display_data"
    }
   ],
   "source": [
    "fig, ax = plt.subplots()\n",
    "sns.set_style('dark')\n",
    "dfs = [train_cor_df,test_cor_df]\n",
    "for df in dfs:\n",
    "    sns.lineplot(data = df, x='latent_dim',y='cor',ax=ax)\n",
    "fig.legend(labels=['train', 'test'], loc='center right')\n",
    "plt.show()\n"
   ]
  },
  {
   "cell_type": "code",
   "execution_count": null,
   "id": "ce9ac593",
   "metadata": {},
   "outputs": [],
   "source": [
    "#Think of importing plot_validation "
   ]
  }
 ],
 "metadata": {
  "kernelspec": {
   "display_name": "Python 3 (ipykernel)",
   "language": "python",
   "name": "python3"
  },
  "language_info": {
   "codemirror_mode": {
    "name": "ipython",
    "version": 3
   },
   "file_extension": ".py",
   "mimetype": "text/x-python",
   "name": "python",
   "nbconvert_exporter": "python",
   "pygments_lexer": "ipython3",
   "version": "3.9.7"
  }
 },
 "nbformat": 4,
 "nbformat_minor": 5
}
