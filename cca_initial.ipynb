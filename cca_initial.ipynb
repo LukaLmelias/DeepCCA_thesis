{
 "cells": [
  {
   "cell_type": "code",
   "execution_count": 1,
   "id": "ea3d8f6d",
   "metadata": {},
   "outputs": [],
   "source": [
    "%matplotlib inline\n",
    "import os\n",
    "from cca_zoo.models import CCA\n",
    "from cca_zoo.data import generate_covariance_data\n",
    "from cca_zoo.models import rCCA\n",
    "from cca_zoo.model_selection import GridSearchCV\n",
    "\n",
    "\n",
    "from sklearn.preprocessing import normalize\n",
    "from sklearn.preprocessing import StandardScaler\n",
    "from sklearn.preprocessing import PowerTransformer\n",
    "\n",
    "from cca_zoo.deepmodels import architectures\n",
    "import seaborn as sns\n",
    "import pandas as pd\n",
    "import numpy as np\n",
    "import pickle\n",
    "from sklearn.model_selection import train_test_split\n",
    "from matplotlib import pyplot as plt\n",
    "os.chdir('../raw_data')"
   ]
  },
  {
   "cell_type": "markdown",
   "id": "c37cfb7a",
   "metadata": {},
   "source": [
    "#### Functions to load and or write to pickle files"
   ]
  },
  {
   "cell_type": "code",
   "execution_count": 2,
   "id": "8a2b40a5",
   "metadata": {},
   "outputs": [],
   "source": [
    "class Files:\n",
    "    def __init__(self, filename):\n",
    "        self.file = filename\n",
    "        \n",
    "    def write_to_file(self, data):\n",
    "        with open(self.file, 'wb') as f:\n",
    "            pickle.dump(data, f) \n",
    "        return None\n",
    "    \n",
    "    def load_pickle(self):\n",
    "        data = pd.read_pickle(self.file)\n",
    "        return data\n",
    "    \n",
    "    def load_csv(self, sep, usecols=None):\n",
    "        data = pd.read_csv(self.file, sep=sep, usecols=usecols)\n",
    "        return data\n",
    "        \n",
    "        \n",
    "    "
   ]
  },
  {
   "cell_type": "code",
   "execution_count": 5,
   "id": "4048b26c",
   "metadata": {},
   "outputs": [
    {
     "data": {
      "text/plain": [
       "['ALL_GNPS.json',\n",
       " 'ALL_GNPS_15_12_2021_positive_annotated.pickle',\n",
       " 'ALL_GNPS_15_12_2021_positive_annotated_classifications.txt',\n",
       " 'all_spec_embedding.pickle',\n",
       " 'df_classes_all_embeddings.pickle',\n",
       " 'df_classes_unique_embeddings.pickle',\n",
       " 'GNPS_15_12_2021_ms2ds_embeddings.pickle',\n",
       " 'model_300dim.pkl',\n",
       " 'mol2vec_embedding.pickle',\n",
       " 'ms2ds_embeddings_unique_GNPS_15_12_2021.pickle',\n",
       " 'ms2ds_model_GNPS_15_12_2021.hdf5',\n",
       " 'plot_validation.py',\n",
       " 'spec2vec_embeddings_unique_GNPS_15_12_2021.pickle',\n",
       " 'spec2vec_model_GNPS_15_12_2021.model',\n",
       " 'spec2vec_model_GNPS_15_12_2021.model.syn1neg.npy',\n",
       " 'spec2vec_model_GNPS_15_12_2021.model.wv.vectors.npy',\n",
       " 'spectra_unique_GNPS_15_12_2021.pickle',\n",
       " 'unique_mol2vec_embedding.pickle',\n",
       " '__pycache__']"
      ]
     },
     "execution_count": 5,
     "metadata": {},
     "output_type": "execute_result"
    }
   ],
   "source": [
    "os.listdir()"
   ]
  },
  {
   "cell_type": "code",
   "execution_count": 3,
   "id": "0dfb71fd",
   "metadata": {},
   "outputs": [],
   "source": [
    "class RunCCA:\n",
    "    def __init__(self, view1, view2,dims=2):\n",
    "        self.v1 = view1\n",
    "        self.v2 = view2\n",
    "        self.dims = dims\n",
    "    \n",
    "    def train_cca(self):\n",
    "        # step 0: init the model\n",
    "        linear_cca = CCA(latent_dims=self.dims,scale=True)\n",
    "        \n",
    "        # step 1: train (fit and transform)\n",
    "        train_z1, train_z2 = linear_cca.fit_transform([self.v1, self.v2])\n",
    "        \n",
    "        #step 3: extract correlation between the dims of the 2 views\n",
    "        train_corr = linear_cca.score([self.v1, self.v2])\n",
    "        \n",
    "        # bundle them in dfs\n",
    "        \n",
    "        # 1 latent_spaces\n",
    "        train_latent_spaces = pd.DataFrame(list(zip(train_z1,train_z2)),\\\n",
    "                      columns=['train_z1','train_z2'])\n",
    "        \n",
    "        # 2 corr pd for plotting\n",
    "        dims = [i for i in range(1,self.dims+1)] # adding 1 to start from 1\n",
    "        train_cor_df = pd.DataFrame(list(zip(dims,train_corr)),\\\n",
    "                      columns=['latent_dim','cor'])\n",
    "        \n",
    "        return linear_cca, train_latent_spaces, train_cor_df\n",
    "        \n",
    "    def test_cca(self, model):\n",
    "            \n",
    "            \n",
    "        # transform the test dataset\n",
    "        test_z1, test_z2 = model.transform([self.v1,self.v2])\n",
    "        test_corr = model.score([self.v1, self.v2])\n",
    "            \n",
    "        # bundle them in dfs\n",
    "        \n",
    "        # 1 latent_spaces\n",
    "        test_latent_spaces = pd.DataFrame(list(zip(test_z1,test_z2)),\\\n",
    "                      columns=['test_z1','test_z2'])\n",
    "        \n",
    "        # 2 corr pd for plotting\n",
    "        dims = [i for i in range(1,self.dims+1)] # adding 1 to start from 1\n",
    "        test_cor_df = pd.DataFrame(list(zip(dims,test_corr)),\\\n",
    "                          columns=['latent_dim','cor'])\n",
    "        \n",
    "        return test_latent_spaces, test_cor_df\n",
    "         "
   ]
  },
  {
   "cell_type": "markdown",
   "id": "ed4a80e2",
   "metadata": {},
   "source": [
    "### Train A CCA model with MS2DeepScore embeddings\n",
    "\n",
    "#### 1. Unfiltered Embeddings"
   ]
  },
  {
   "cell_type": "code",
   "execution_count": 7,
   "id": "5a0c9cb7",
   "metadata": {},
   "outputs": [
    {
     "data": {
      "text/html": [
       "<div>\n",
       "<style scoped>\n",
       "    .dataframe tbody tr th:only-of-type {\n",
       "        vertical-align: middle;\n",
       "    }\n",
       "\n",
       "    .dataframe tbody tr th {\n",
       "        vertical-align: top;\n",
       "    }\n",
       "\n",
       "    .dataframe thead th {\n",
       "        text-align: right;\n",
       "    }\n",
       "</style>\n",
       "<table border=\"1\" class=\"dataframe\">\n",
       "  <thead>\n",
       "    <tr style=\"text-align: right;\">\n",
       "      <th></th>\n",
       "      <th>smiles</th>\n",
       "      <th>inchi_key</th>\n",
       "      <th>inchikey14</th>\n",
       "      <th>spec_id</th>\n",
       "      <th>spec2vec</th>\n",
       "      <th>ms2ds</th>\n",
       "      <th>mol2vec</th>\n",
       "      <th>cf_class</th>\n",
       "    </tr>\n",
       "  </thead>\n",
       "  <tbody>\n",
       "    <tr>\n",
       "      <th>0</th>\n",
       "      <td>CC(C)CC1NC(=O)C(C)NC(=O)C(=C)N(C)C(=O)CCC(NC(=...</td>\n",
       "      <td>IYDKWWDUBYWQGF-NNAZGLEUSA-N</td>\n",
       "      <td>IYDKWWDUBYWQGF</td>\n",
       "      <td>CCMSLIB00000001547</td>\n",
       "      <td>[-22.561352524375522, -52.61297182073491, 49.4...</td>\n",
       "      <td>[0.0, 15.901464462280273, 37.367000579833984, ...</td>\n",
       "      <td>[1.630672, -6.694838, -8.602699, 8.267098, 5.2...</td>\n",
       "      <td>Peptidomimetics</td>\n",
       "    </tr>\n",
       "    <tr>\n",
       "      <th>1</th>\n",
       "      <td>CCC[C@@H](C)[C@@H]([C@H](C)[C@@H]1[C@H]([C@H](...</td>\n",
       "      <td>KNGPFNUOXXLKCN-ZNCJFREWSA-N</td>\n",
       "      <td>KNGPFNUOXXLKCN</td>\n",
       "      <td>CCMSLIB00000001548</td>\n",
       "      <td>[-8.144101929166954, -25.09254423476226, -1.49...</td>\n",
       "      <td>[0.0, 3.6031694412231445, 12.245128631591797, ...</td>\n",
       "      <td>[-2.5071416, -7.008046, -7.7435217, 3.9533424,...</td>\n",
       "      <td>Peptidomimetics</td>\n",
       "    </tr>\n",
       "    <tr>\n",
       "      <th>2</th>\n",
       "      <td>CCCCCCC[C@@H](C/C=C/CCC(=O)NC/C(=C/Cl)/[C@@]12...</td>\n",
       "      <td>WXDBUBIFYCCNLE-NSCMQRKRSA-N</td>\n",
       "      <td>WXDBUBIFYCCNLE</td>\n",
       "      <td>CCMSLIB00000001549</td>\n",
       "      <td>[-6.807433213493404, 2.8870356459664226, -4.28...</td>\n",
       "      <td>[28.570608139038086, 7.199506759643555, 10.875...</td>\n",
       "      <td>[-5.2424912, -4.194231, -4.1477222, -1.4712936...</td>\n",
       "      <td>Oxepanes</td>\n",
       "    </tr>\n",
       "    <tr>\n",
       "      <th>3</th>\n",
       "      <td>CCCCCCC[C@@H](C/C=C/CCC(=O)NC/C(=C/Cl)/[C@@]12...</td>\n",
       "      <td>WXDBUBIFYCCNLE-NSCMQRKRSA-N</td>\n",
       "      <td>WXDBUBIFYCCNLE</td>\n",
       "      <td>CCMSLIB00000071752</td>\n",
       "      <td>[-3.703751099226352, -2.2908253516762493, 6.72...</td>\n",
       "      <td>[17.48873519897461, 0.0, 29.71199607849121, 0....</td>\n",
       "      <td>[-5.2424912, -4.194231, -4.1477222, -1.4712936...</td>\n",
       "      <td>Oxepanes</td>\n",
       "    </tr>\n",
       "    <tr>\n",
       "      <th>4</th>\n",
       "      <td>OC1=CC=C(\\C=C2\\C(=O)C(C3=C4C5=C(C=CC=C5)N=C4\\C...</td>\n",
       "      <td>CGZKSPLDUIRCIO-RPCRKUJJSA-N</td>\n",
       "      <td>CGZKSPLDUIRCIO</td>\n",
       "      <td>CCMSLIB00000001550</td>\n",
       "      <td>[-10.171258233684286, 7.6353667714294735, 4.62...</td>\n",
       "      <td>[0.0, 3.3309712409973145, 14.854373931884766, ...</td>\n",
       "      <td>[3.6706285, -0.5248031, -10.340071, 15.618862,...</td>\n",
       "      <td>Indoles and derivatives</td>\n",
       "    </tr>\n",
       "  </tbody>\n",
       "</table>\n",
       "</div>"
      ],
      "text/plain": [
       "                                              smiles  \\\n",
       "0  CC(C)CC1NC(=O)C(C)NC(=O)C(=C)N(C)C(=O)CCC(NC(=...   \n",
       "1  CCC[C@@H](C)[C@@H]([C@H](C)[C@@H]1[C@H]([C@H](...   \n",
       "2  CCCCCCC[C@@H](C/C=C/CCC(=O)NC/C(=C/Cl)/[C@@]12...   \n",
       "3  CCCCCCC[C@@H](C/C=C/CCC(=O)NC/C(=C/Cl)/[C@@]12...   \n",
       "4  OC1=CC=C(\\C=C2\\C(=O)C(C3=C4C5=C(C=CC=C5)N=C4\\C...   \n",
       "\n",
       "                     inchi_key      inchikey14             spec_id  \\\n",
       "0  IYDKWWDUBYWQGF-NNAZGLEUSA-N  IYDKWWDUBYWQGF  CCMSLIB00000001547   \n",
       "1  KNGPFNUOXXLKCN-ZNCJFREWSA-N  KNGPFNUOXXLKCN  CCMSLIB00000001548   \n",
       "2  WXDBUBIFYCCNLE-NSCMQRKRSA-N  WXDBUBIFYCCNLE  CCMSLIB00000001549   \n",
       "3  WXDBUBIFYCCNLE-NSCMQRKRSA-N  WXDBUBIFYCCNLE  CCMSLIB00000071752   \n",
       "4  CGZKSPLDUIRCIO-RPCRKUJJSA-N  CGZKSPLDUIRCIO  CCMSLIB00000001550   \n",
       "\n",
       "                                            spec2vec  \\\n",
       "0  [-22.561352524375522, -52.61297182073491, 49.4...   \n",
       "1  [-8.144101929166954, -25.09254423476226, -1.49...   \n",
       "2  [-6.807433213493404, 2.8870356459664226, -4.28...   \n",
       "3  [-3.703751099226352, -2.2908253516762493, 6.72...   \n",
       "4  [-10.171258233684286, 7.6353667714294735, 4.62...   \n",
       "\n",
       "                                               ms2ds  \\\n",
       "0  [0.0, 15.901464462280273, 37.367000579833984, ...   \n",
       "1  [0.0, 3.6031694412231445, 12.245128631591797, ...   \n",
       "2  [28.570608139038086, 7.199506759643555, 10.875...   \n",
       "3  [17.48873519897461, 0.0, 29.71199607849121, 0....   \n",
       "4  [0.0, 3.3309712409973145, 14.854373931884766, ...   \n",
       "\n",
       "                                             mol2vec                 cf_class  \n",
       "0  [1.630672, -6.694838, -8.602699, 8.267098, 5.2...          Peptidomimetics  \n",
       "1  [-2.5071416, -7.008046, -7.7435217, 3.9533424,...          Peptidomimetics  \n",
       "2  [-5.2424912, -4.194231, -4.1477222, -1.4712936...                 Oxepanes  \n",
       "3  [-5.2424912, -4.194231, -4.1477222, -1.4712936...                 Oxepanes  \n",
       "4  [3.6706285, -0.5248031, -10.340071, 15.618862,...  Indoles and derivatives  "
      ]
     },
     "execution_count": 7,
     "metadata": {},
     "output_type": "execute_result"
    }
   ],
   "source": [
    "# load df with all info\n",
    "path = './df_classes_all_embeddings.pickle'\n",
    "df_all = Files(path).load_pickle()#[:10000] #just a subset for scripting\n",
    "df_all.head()"
   ]
  },
  {
   "cell_type": "code",
   "execution_count": 8,
   "id": "6fb0ace9",
   "metadata": {},
   "outputs": [
    {
     "data": {
      "text/plain": [
       "(302514, 8)"
      ]
     },
     "execution_count": 8,
     "metadata": {},
     "output_type": "execute_result"
    }
   ],
   "source": [
    "# #drop inchikeys appering once, to make it possible to stratify based on inchikey\n",
    "#df_all = df_all.groupby('inchi_key').filter(lambda x : len(x)>5)\n",
    "df_all.shape"
   ]
  },
  {
   "cell_type": "code",
   "execution_count": 9,
   "id": "090e999f",
   "metadata": {},
   "outputs": [],
   "source": [
    "#split the dataset\n",
    "train_df, test_df = \\\n",
    "train_test_split(df_all, test_size=0.2, random_state=42)#, stratify=df_all['inchi_key'])\n",
    "\n",
    "v1_train, v1_test = [x for x in train_df['ms2ds']], [x for x in test_df['ms2ds']]\n",
    "v2_train, v2_test = [x for x in train_df['mol2vec']], [x for x in test_df['mol2vec']]"
   ]
  },
  {
   "cell_type": "code",
   "execution_count": 10,
   "id": "f8255797",
   "metadata": {},
   "outputs": [
    {
     "data": {
      "text/html": [
       "<div>\n",
       "<style scoped>\n",
       "    .dataframe tbody tr th:only-of-type {\n",
       "        vertical-align: middle;\n",
       "    }\n",
       "\n",
       "    .dataframe tbody tr th {\n",
       "        vertical-align: top;\n",
       "    }\n",
       "\n",
       "    .dataframe thead th {\n",
       "        text-align: right;\n",
       "    }\n",
       "</style>\n",
       "<table border=\"1\" class=\"dataframe\">\n",
       "  <thead>\n",
       "    <tr style=\"text-align: right;\">\n",
       "      <th></th>\n",
       "      <th>latent_dim</th>\n",
       "      <th>cor</th>\n",
       "    </tr>\n",
       "  </thead>\n",
       "  <tbody>\n",
       "    <tr>\n",
       "      <th>0</th>\n",
       "      <td>1</td>\n",
       "      <td>0.806200</td>\n",
       "    </tr>\n",
       "    <tr>\n",
       "      <th>1</th>\n",
       "      <td>2</td>\n",
       "      <td>0.347727</td>\n",
       "    </tr>\n",
       "    <tr>\n",
       "      <th>2</th>\n",
       "      <td>3</td>\n",
       "      <td>0.336020</td>\n",
       "    </tr>\n",
       "    <tr>\n",
       "      <th>3</th>\n",
       "      <td>4</td>\n",
       "      <td>0.280584</td>\n",
       "    </tr>\n",
       "    <tr>\n",
       "      <th>4</th>\n",
       "      <td>5</td>\n",
       "      <td>0.202966</td>\n",
       "    </tr>\n",
       "  </tbody>\n",
       "</table>\n",
       "</div>"
      ],
      "text/plain": [
       "   latent_dim       cor\n",
       "0           1  0.806200\n",
       "1           2  0.347727\n",
       "2           3  0.336020\n",
       "3           4  0.280584\n",
       "4           5  0.202966"
      ]
     },
     "execution_count": 10,
     "metadata": {},
     "output_type": "execute_result"
    }
   ],
   "source": [
    "# train the model\n",
    "model, train_dim, train_corr = RunCCA(v1_train, v2_train, dims=200).train_cca()\n",
    "train_corr.head()"
   ]
  },
  {
   "cell_type": "code",
   "execution_count": 11,
   "id": "394831d3",
   "metadata": {},
   "outputs": [
    {
     "data": {
      "text/html": [
       "<div>\n",
       "<style scoped>\n",
       "    .dataframe tbody tr th:only-of-type {\n",
       "        vertical-align: middle;\n",
       "    }\n",
       "\n",
       "    .dataframe tbody tr th {\n",
       "        vertical-align: top;\n",
       "    }\n",
       "\n",
       "    .dataframe thead th {\n",
       "        text-align: right;\n",
       "    }\n",
       "</style>\n",
       "<table border=\"1\" class=\"dataframe\">\n",
       "  <thead>\n",
       "    <tr style=\"text-align: right;\">\n",
       "      <th></th>\n",
       "      <th>latent_dim</th>\n",
       "      <th>cor</th>\n",
       "    </tr>\n",
       "  </thead>\n",
       "  <tbody>\n",
       "    <tr>\n",
       "      <th>0</th>\n",
       "      <td>1</td>\n",
       "      <td>0.805268</td>\n",
       "    </tr>\n",
       "    <tr>\n",
       "      <th>1</th>\n",
       "      <td>2</td>\n",
       "      <td>0.350770</td>\n",
       "    </tr>\n",
       "    <tr>\n",
       "      <th>2</th>\n",
       "      <td>3</td>\n",
       "      <td>0.332670</td>\n",
       "    </tr>\n",
       "    <tr>\n",
       "      <th>3</th>\n",
       "      <td>4</td>\n",
       "      <td>0.294328</td>\n",
       "    </tr>\n",
       "    <tr>\n",
       "      <th>4</th>\n",
       "      <td>5</td>\n",
       "      <td>0.197938</td>\n",
       "    </tr>\n",
       "  </tbody>\n",
       "</table>\n",
       "</div>"
      ],
      "text/plain": [
       "   latent_dim       cor\n",
       "0           1  0.805268\n",
       "1           2  0.350770\n",
       "2           3  0.332670\n",
       "3           4  0.294328\n",
       "4           5  0.197938"
      ]
     },
     "execution_count": 11,
     "metadata": {},
     "output_type": "execute_result"
    }
   ],
   "source": [
    "# test the model\n",
    "test_dims, test_corr = RunCCA(v1_test, v2_test,dims=200).test_cca(model)\n",
    "test_corr.head()"
   ]
  },
  {
   "cell_type": "code",
   "execution_count": 92,
   "id": "058e350f",
   "metadata": {},
   "outputs": [
    {
     "data": {
      "image/png": "[encoded data removed]",
      "text/plain": [
       "<Figure size 432x288 with 1 Axes>"
      ]
     },
     "metadata": {},
     "output_type": "display_data"
    }
   ],
   "source": [
    "# plot train correlation vs test correlation\n",
    "fig, ax = plt.subplots()\n",
    "sns.set_style('dark')\n",
    "dfs = [train_corr,test_corr]\n",
    "for df in dfs:\n",
    "    sns.lineplot(data = df, x='latent_dim',y='cor',ax=ax)\n",
    "fig.legend(labels=['train', 'test'], loc='center right')\n",
    "plt.show()"
   ]
  },
  {
   "cell_type": "markdown",
   "id": "e05ad00e",
   "metadata": {},
   "source": [
    "#### 2. filtered Embeddings"
   ]
  },
  {
   "cell_type": "code",
   "execution_count": 4,
   "id": "8da8edfa",
   "metadata": {},
   "outputs": [
    {
     "data": {
      "text/html": [
       "<div>\n",
       "<style scoped>\n",
       "    .dataframe tbody tr th:only-of-type {\n",
       "        vertical-align: middle;\n",
       "    }\n",
       "\n",
       "    .dataframe tbody tr th {\n",
       "        vertical-align: top;\n",
       "    }\n",
       "\n",
       "    .dataframe thead th {\n",
       "        text-align: right;\n",
       "    }\n",
       "</style>\n",
       "<table border=\"1\" class=\"dataframe\">\n",
       "  <thead>\n",
       "    <tr style=\"text-align: right;\">\n",
       "      <th></th>\n",
       "      <th>smiles</th>\n",
       "      <th>inchi_key</th>\n",
       "      <th>inchikey14</th>\n",
       "      <th>spec_id</th>\n",
       "      <th>spec2vec</th>\n",
       "      <th>ms2ds</th>\n",
       "      <th>mol2vec</th>\n",
       "      <th>cf_class</th>\n",
       "    </tr>\n",
       "  </thead>\n",
       "  <tbody>\n",
       "    <tr>\n",
       "      <th>0</th>\n",
       "      <td>CC(C)CC1NC(=O)C(C)NC(=O)C(=C)N(C)C(=O)CCC(NC(=...</td>\n",
       "      <td>IYDKWWDUBYWQGF-NNAZGLEUSA-N</td>\n",
       "      <td>IYDKWWDUBYWQGF</td>\n",
       "      <td>spec_id0</td>\n",
       "      <td>[-22.561352524375522, -52.61297182073491, 49.4...</td>\n",
       "      <td>[0.0, 15.901467323303223, 37.36699676513672, 0...</td>\n",
       "      <td>[1.630672, -6.694838, -8.602699, 8.267098, 5.2...</td>\n",
       "      <td>Peptidomimetics</td>\n",
       "    </tr>\n",
       "    <tr>\n",
       "      <th>1</th>\n",
       "      <td>CCC[C@@H](C)[C@@H]([C@H](C)[C@@H]1[C@H]([C@H](...</td>\n",
       "      <td>KNGPFNUOXXLKCN-ZNCJFREWSA-N</td>\n",
       "      <td>KNGPFNUOXXLKCN</td>\n",
       "      <td>spec_id1</td>\n",
       "      <td>[-8.144101929166954, -25.09254423476226, -1.49...</td>\n",
       "      <td>[0.0, 3.603170394897461, 12.24513053894043, 0....</td>\n",
       "      <td>[-2.5071416, -7.008046, -7.7435217, 3.9533424,...</td>\n",
       "      <td>Peptidomimetics</td>\n",
       "    </tr>\n",
       "    <tr>\n",
       "      <th>2</th>\n",
       "      <td>C[C@H]1C(=O)N[C@H](C(=O)N[C@H](C(=O)N([C@H](C(...</td>\n",
       "      <td>WCNJVJCYRBJSLC-BCJYPDSRSA-N</td>\n",
       "      <td>WCNJVJCYRBJSLC</td>\n",
       "      <td>spec_id2</td>\n",
       "      <td>[-5.008793063971317, 32.11217206150628, -8.982...</td>\n",
       "      <td>[0.0, 0.0, 2.6736814975738525, 0.0, 0.0, 0.0, ...</td>\n",
       "      <td>[-0.3728091, -9.532841, -10.665195, 17.613012,...</td>\n",
       "      <td>Macrolactams</td>\n",
       "    </tr>\n",
       "    <tr>\n",
       "      <th>3</th>\n",
       "      <td>CC(C)C[C@@H]1OC(=O)[C@@H]2CCCN2C(=O)[C@H](CC2=...</td>\n",
       "      <td>GWGKNTICBPKKKW-LBBUGJAGSA-N</td>\n",
       "      <td>GWGKNTICBPKKKW</td>\n",
       "      <td>spec_id3</td>\n",
       "      <td>[16.967691713559265, 11.406365395323293, -5.16...</td>\n",
       "      <td>[0.0, 0.0, 8.311530113220215, 21.6807460784912...</td>\n",
       "      <td>[5.140757, -10.130683, -8.369965, 13.165277, -...</td>\n",
       "      <td>Peptidomimetics</td>\n",
       "    </tr>\n",
       "    <tr>\n",
       "      <th>4</th>\n",
       "      <td>CCCCCCCCCCCCCC(=O)NC(C)(C)C(=O)N1C[C@H](O)C[C@...</td>\n",
       "      <td>FFCLYSVFZQXUHI-XUVLUQBSSA-N</td>\n",
       "      <td>FFCLYSVFZQXUHI</td>\n",
       "      <td>spec_id4</td>\n",
       "      <td>[-32.38097167038966, -11.560462254295976, -4.1...</td>\n",
       "      <td>[0.0, 2.4228768348693848, 17.64068031311035, 0...</td>\n",
       "      <td>[-6.1560755, -6.321531, -5.7416663, -6.0778522...</td>\n",
       "      <td>Carboxylic acids and derivatives</td>\n",
       "    </tr>\n",
       "  </tbody>\n",
       "</table>\n",
       "</div>"
      ],
      "text/plain": [
       "                                              smiles  \\\n",
       "0  CC(C)CC1NC(=O)C(C)NC(=O)C(=C)N(C)C(=O)CCC(NC(=...   \n",
       "1  CCC[C@@H](C)[C@@H]([C@H](C)[C@@H]1[C@H]([C@H](...   \n",
       "2  C[C@H]1C(=O)N[C@H](C(=O)N[C@H](C(=O)N([C@H](C(...   \n",
       "3  CC(C)C[C@@H]1OC(=O)[C@@H]2CCCN2C(=O)[C@H](CC2=...   \n",
       "4  CCCCCCCCCCCCCC(=O)NC(C)(C)C(=O)N1C[C@H](O)C[C@...   \n",
       "\n",
       "                     inchi_key      inchikey14   spec_id  \\\n",
       "0  IYDKWWDUBYWQGF-NNAZGLEUSA-N  IYDKWWDUBYWQGF  spec_id0   \n",
       "1  KNGPFNUOXXLKCN-ZNCJFREWSA-N  KNGPFNUOXXLKCN  spec_id1   \n",
       "2  WCNJVJCYRBJSLC-BCJYPDSRSA-N  WCNJVJCYRBJSLC  spec_id2   \n",
       "3  GWGKNTICBPKKKW-LBBUGJAGSA-N  GWGKNTICBPKKKW  spec_id3   \n",
       "4  FFCLYSVFZQXUHI-XUVLUQBSSA-N  FFCLYSVFZQXUHI  spec_id4   \n",
       "\n",
       "                                            spec2vec  \\\n",
       "0  [-22.561352524375522, -52.61297182073491, 49.4...   \n",
       "1  [-8.144101929166954, -25.09254423476226, -1.49...   \n",
       "2  [-5.008793063971317, 32.11217206150628, -8.982...   \n",
       "3  [16.967691713559265, 11.406365395323293, -5.16...   \n",
       "4  [-32.38097167038966, -11.560462254295976, -4.1...   \n",
       "\n",
       "                                               ms2ds  \\\n",
       "0  [0.0, 15.901467323303223, 37.36699676513672, 0...   \n",
       "1  [0.0, 3.603170394897461, 12.24513053894043, 0....   \n",
       "2  [0.0, 0.0, 2.6736814975738525, 0.0, 0.0, 0.0, ...   \n",
       "3  [0.0, 0.0, 8.311530113220215, 21.6807460784912...   \n",
       "4  [0.0, 2.4228768348693848, 17.64068031311035, 0...   \n",
       "\n",
       "                                             mol2vec  \\\n",
       "0  [1.630672, -6.694838, -8.602699, 8.267098, 5.2...   \n",
       "1  [-2.5071416, -7.008046, -7.7435217, 3.9533424,...   \n",
       "2  [-0.3728091, -9.532841, -10.665195, 17.613012,...   \n",
       "3  [5.140757, -10.130683, -8.369965, 13.165277, -...   \n",
       "4  [-6.1560755, -6.321531, -5.7416663, -6.0778522...   \n",
       "\n",
       "                           cf_class  \n",
       "0                   Peptidomimetics  \n",
       "1                   Peptidomimetics  \n",
       "2                      Macrolactams  \n",
       "3                   Peptidomimetics  \n",
       "4  Carboxylic acids and derivatives  "
      ]
     },
     "execution_count": 4,
     "metadata": {},
     "output_type": "execute_result"
    }
   ],
   "source": [
    "# load df with all info\n",
    "path = './df_classes_unique_embeddings.pickle'\n",
    "df_uniq = Files(path).load_pickle()#[:10000] #just a subset for scripting\n",
    "df_uniq.head()"
   ]
  },
  {
   "cell_type": "code",
   "execution_count": 11,
   "id": "d70841f1",
   "metadata": {},
   "outputs": [],
   "source": [
    "#split the dataset\n",
    "train_df, test_df = \\\n",
    "train_test_split(df_uniq, test_size=0.2, \\\n",
    "                 random_state=42)\n",
    "\n",
    "v1_train, v1_test = [x for x in train_df['ms2ds']], [x for x in test_df['ms2ds']]\n",
    "v2_train, v2_test = [x for x in train_df['mol2vec']], [x for x in test_df['mol2vec']]"
   ]
  },
  {
   "cell_type": "code",
   "execution_count": 10,
   "id": "22c84b4b",
   "metadata": {},
   "outputs": [],
   "source": [
    "# # normalising slightly improves spec2vec but slightly decreases ms2ds\n",
    "# v1_train, v1_test = normalize(v1_train), normalize(v1_test)\n",
    "# v2_train, v2_test =  normalize(v2_train), normalize(v2_test)"
   ]
  },
  {
   "cell_type": "code",
   "execution_count": 12,
   "id": "c9c6e7d4",
   "metadata": {},
   "outputs": [
    {
     "data": {
      "text/html": [
       "<div>\n",
       "<style scoped>\n",
       "    .dataframe tbody tr th:only-of-type {\n",
       "        vertical-align: middle;\n",
       "    }\n",
       "\n",
       "    .dataframe tbody tr th {\n",
       "        vertical-align: top;\n",
       "    }\n",
       "\n",
       "    .dataframe thead th {\n",
       "        text-align: right;\n",
       "    }\n",
       "</style>\n",
       "<table border=\"1\" class=\"dataframe\">\n",
       "  <thead>\n",
       "    <tr style=\"text-align: right;\">\n",
       "      <th></th>\n",
       "      <th>latent_dim</th>\n",
       "      <th>cor</th>\n",
       "    </tr>\n",
       "  </thead>\n",
       "  <tbody>\n",
       "    <tr>\n",
       "      <th>0</th>\n",
       "      <td>1</td>\n",
       "      <td>0.899808</td>\n",
       "    </tr>\n",
       "    <tr>\n",
       "      <th>1</th>\n",
       "      <td>2</td>\n",
       "      <td>0.844028</td>\n",
       "    </tr>\n",
       "    <tr>\n",
       "      <th>2</th>\n",
       "      <td>3</td>\n",
       "      <td>0.806704</td>\n",
       "    </tr>\n",
       "    <tr>\n",
       "      <th>3</th>\n",
       "      <td>4</td>\n",
       "      <td>0.797919</td>\n",
       "    </tr>\n",
       "    <tr>\n",
       "      <th>4</th>\n",
       "      <td>5</td>\n",
       "      <td>0.753063</td>\n",
       "    </tr>\n",
       "  </tbody>\n",
       "</table>\n",
       "</div>"
      ],
      "text/plain": [
       "   latent_dim       cor\n",
       "0           1  0.899808\n",
       "1           2  0.844028\n",
       "2           3  0.806704\n",
       "3           4  0.797919\n",
       "4           5  0.753063"
      ]
     },
     "execution_count": 12,
     "metadata": {},
     "output_type": "execute_result"
    }
   ],
   "source": [
    "# train the model\n",
    "model, train_dim, train_corr = RunCCA(v1_train, v2_train, dims=200).train_cca()\n",
    "train_corr.head()"
   ]
  },
  {
   "cell_type": "code",
   "execution_count": 13,
   "id": "cd4c83f5",
   "metadata": {},
   "outputs": [
    {
     "data": {
      "text/html": [
       "<div>\n",
       "<style scoped>\n",
       "    .dataframe tbody tr th:only-of-type {\n",
       "        vertical-align: middle;\n",
       "    }\n",
       "\n",
       "    .dataframe tbody tr th {\n",
       "        vertical-align: top;\n",
       "    }\n",
       "\n",
       "    .dataframe thead th {\n",
       "        text-align: right;\n",
       "    }\n",
       "</style>\n",
       "<table border=\"1\" class=\"dataframe\">\n",
       "  <thead>\n",
       "    <tr style=\"text-align: right;\">\n",
       "      <th></th>\n",
       "      <th>latent_dim</th>\n",
       "      <th>cor</th>\n",
       "    </tr>\n",
       "  </thead>\n",
       "  <tbody>\n",
       "    <tr>\n",
       "      <th>0</th>\n",
       "      <td>1</td>\n",
       "      <td>0.889260</td>\n",
       "    </tr>\n",
       "    <tr>\n",
       "      <th>1</th>\n",
       "      <td>2</td>\n",
       "      <td>0.826607</td>\n",
       "    </tr>\n",
       "    <tr>\n",
       "      <th>2</th>\n",
       "      <td>3</td>\n",
       "      <td>0.769665</td>\n",
       "    </tr>\n",
       "    <tr>\n",
       "      <th>3</th>\n",
       "      <td>4</td>\n",
       "      <td>0.785805</td>\n",
       "    </tr>\n",
       "    <tr>\n",
       "      <th>4</th>\n",
       "      <td>5</td>\n",
       "      <td>0.740144</td>\n",
       "    </tr>\n",
       "  </tbody>\n",
       "</table>\n",
       "</div>"
      ],
      "text/plain": [
       "   latent_dim       cor\n",
       "0           1  0.889260\n",
       "1           2  0.826607\n",
       "2           3  0.769665\n",
       "3           4  0.785805\n",
       "4           5  0.740144"
      ]
     },
     "execution_count": 13,
     "metadata": {},
     "output_type": "execute_result"
    }
   ],
   "source": [
    "# test the model\n",
    "test_dims, test_corr = RunCCA(v1_test, v2_test,dims=200).test_cca(model)\n",
    "test_corr.head()"
   ]
  },
  {
   "cell_type": "code",
   "execution_count": 14,
   "id": "1d023c56",
   "metadata": {},
   "outputs": [
    {
     "data": {
      "image/png": "[encoded data removed]",
      "text/plain": [
       "<Figure size 432x288 with 1 Axes>"
      ]
     },
     "metadata": {
      "needs_background": "light"
     },
     "output_type": "display_data"
    }
   ],
   "source": [
    "# plot train correlation vs test correlation\n",
    "fig, ax = plt.subplots()\n",
    "sns.set_style('white')\n",
    "dfs = [train_corr,test_corr]\n",
    "for df in dfs:\n",
    "    sns.lineplot(data = df, x='latent_dim',y='cor',ax=ax)\n",
    "fig.legend(labels=['train', 'test'], loc='center right')\n",
    "plt.show()"
   ]
  },
  {
   "cell_type": "markdown",
   "id": "faeff404",
   "metadata": {},
   "source": [
    "The validation function used here was downloaded from [CCA_zoo](https://cca-zoo.readthedocs.io/en/latest/auto_examples/plot_validation.html#sphx-glr-auto-examples-plot-validation-py) documentation; same function can also be found in [scikit-learn](https://scikit-learn.org/stable/auto_examples/model_selection/plot_learning_curve.html) documentation"
   ]
  },
  {
   "cell_type": "code",
   "execution_count": 23,
   "id": "e906633b",
   "metadata": {},
   "outputs": [],
   "source": [
    "from cca_zoo.model_selection import permutation_test_score\n",
    "from plot_validation import plot_learning_curve\n",
    "from sklearn.model_selection import KFold, ShuffleSplit\n"
   ]
  },
  {
   "cell_type": "code",
   "execution_count": 15,
   "id": "af6a62cd",
   "metadata": {},
   "outputs": [],
   "source": [
    "v1_train = np.array(v1_train)\n",
    "v2_train = np.array(v2_train)"
   ]
  },
  {
   "cell_type": "code",
   "execution_count": 16,
   "id": "d5f8900b",
   "metadata": {},
   "outputs": [
    {
     "data": {
      "image/png": "[encoded data removed]",
      "text/plain": [
       "<Figure size 720x1080 with 3 Axes>"
      ]
     },
     "metadata": {},
     "output_type": "display_data"
    }
   ],
   "source": [
    "\n",
    "fig, axes = plt.subplots(3, 1, figsize=(10, 15))\n",
    "title = \"Learning Curves CCA\"\n",
    "cv = ShuffleSplit(n_splits=50, test_size=0.2, random_state=0)\n",
    "model = CCA()\n",
    "plot_learning_curve(model, title, \\\n",
    "                    (v1_train, v2_train), axes=axes, ylim=(0.7, 1.01), cv=cv, n_jobs=4)\n",
    "plt.show()\n",
    "\n"
   ]
  },
  {
   "cell_type": "markdown",
   "id": "609f5452",
   "metadata": {},
   "source": [
    "### Train A CCA model with Spec2vec embeddings\n",
    "\n",
    "#### 1. Unfiltered spec2vec Embeddings"
   ]
  },
  {
   "cell_type": "code",
   "execution_count": 66,
   "id": "3da3276f",
   "metadata": {},
   "outputs": [],
   "source": [
    "#split the dataset\n",
    "train_df, test_df = \\\n",
    "train_test_split(df_all, test_size=0.2, random_state=42)#, stratify=df_all['inchikey14'])\n",
    "\n",
    "v1_train, v1_test = [x for x in train_df['spec2vec']], [x for x in test_df['spec2vec']]\n",
    "v2_train, v2_test = [x for x in train_df['mol2vec']], [x for x in test_df['mol2vec']]"
   ]
  },
  {
   "cell_type": "code",
   "execution_count": 68,
   "id": "cb5ff33e",
   "metadata": {},
   "outputs": [],
   "source": [
    "# normalising slightly improves spec2vec but slightly decreases ms2ds\n",
    "v1_train, v1_test = normalize(v1_train), normalize(v1_test)\n",
    "v2_train, v2_test =  normalize(v2_train), normalize(v2_test)"
   ]
  },
  {
   "cell_type": "code",
   "execution_count": 59,
   "id": "893442fc",
   "metadata": {},
   "outputs": [
    {
     "data": {
      "text/html": [
       "<div>\n",
       "<style scoped>\n",
       "    .dataframe tbody tr th:only-of-type {\n",
       "        vertical-align: middle;\n",
       "    }\n",
       "\n",
       "    .dataframe tbody tr th {\n",
       "        vertical-align: top;\n",
       "    }\n",
       "\n",
       "    .dataframe thead th {\n",
       "        text-align: right;\n",
       "    }\n",
       "</style>\n",
       "<table border=\"1\" class=\"dataframe\">\n",
       "  <thead>\n",
       "    <tr style=\"text-align: right;\">\n",
       "      <th></th>\n",
       "      <th>latent_dim</th>\n",
       "      <th>cor</th>\n",
       "    </tr>\n",
       "  </thead>\n",
       "  <tbody>\n",
       "    <tr>\n",
       "      <th>0</th>\n",
       "      <td>1</td>\n",
       "      <td>0.778072</td>\n",
       "    </tr>\n",
       "    <tr>\n",
       "      <th>1</th>\n",
       "      <td>2</td>\n",
       "      <td>0.638414</td>\n",
       "    </tr>\n",
       "    <tr>\n",
       "      <th>2</th>\n",
       "      <td>3</td>\n",
       "      <td>0.603951</td>\n",
       "    </tr>\n",
       "    <tr>\n",
       "      <th>3</th>\n",
       "      <td>4</td>\n",
       "      <td>0.561841</td>\n",
       "    </tr>\n",
       "    <tr>\n",
       "      <th>4</th>\n",
       "      <td>5</td>\n",
       "      <td>0.502176</td>\n",
       "    </tr>\n",
       "  </tbody>\n",
       "</table>\n",
       "</div>"
      ],
      "text/plain": [
       "   latent_dim       cor\n",
       "0           1  0.778072\n",
       "1           2  0.638414\n",
       "2           3  0.603951\n",
       "3           4  0.561841\n",
       "4           5  0.502176"
      ]
     },
     "execution_count": 59,
     "metadata": {},
     "output_type": "execute_result"
    }
   ],
   "source": [
    "# train the model with spec2vec unfiltered embeddings\n",
    "model, train_dim, train_corr = RunCCA(v1_train, v2_train, dims=200).train_cca()\n",
    "train_corr.head()"
   ]
  },
  {
   "cell_type": "code",
   "execution_count": 60,
   "id": "312a9b9d",
   "metadata": {},
   "outputs": [
    {
     "data": {
      "text/html": [
       "<div>\n",
       "<style scoped>\n",
       "    .dataframe tbody tr th:only-of-type {\n",
       "        vertical-align: middle;\n",
       "    }\n",
       "\n",
       "    .dataframe tbody tr th {\n",
       "        vertical-align: top;\n",
       "    }\n",
       "\n",
       "    .dataframe thead th {\n",
       "        text-align: right;\n",
       "    }\n",
       "</style>\n",
       "<table border=\"1\" class=\"dataframe\">\n",
       "  <thead>\n",
       "    <tr style=\"text-align: right;\">\n",
       "      <th></th>\n",
       "      <th>latent_dim</th>\n",
       "      <th>cor</th>\n",
       "    </tr>\n",
       "  </thead>\n",
       "  <tbody>\n",
       "    <tr>\n",
       "      <th>0</th>\n",
       "      <td>1</td>\n",
       "      <td>0.776700</td>\n",
       "    </tr>\n",
       "    <tr>\n",
       "      <th>1</th>\n",
       "      <td>2</td>\n",
       "      <td>0.636609</td>\n",
       "    </tr>\n",
       "    <tr>\n",
       "      <th>2</th>\n",
       "      <td>3</td>\n",
       "      <td>0.599964</td>\n",
       "    </tr>\n",
       "    <tr>\n",
       "      <th>3</th>\n",
       "      <td>4</td>\n",
       "      <td>0.559839</td>\n",
       "    </tr>\n",
       "    <tr>\n",
       "      <th>4</th>\n",
       "      <td>5</td>\n",
       "      <td>0.495697</td>\n",
       "    </tr>\n",
       "  </tbody>\n",
       "</table>\n",
       "</div>"
      ],
      "text/plain": [
       "   latent_dim       cor\n",
       "0           1  0.776700\n",
       "1           2  0.636609\n",
       "2           3  0.599964\n",
       "3           4  0.559839\n",
       "4           5  0.495697"
      ]
     },
     "execution_count": 60,
     "metadata": {},
     "output_type": "execute_result"
    }
   ],
   "source": [
    "# test the model (unfiltered spec2vec)\n",
    "test_dims, test_corr = RunCCA(v1_test, v2_test,dims=200).test_cca(model)\n",
    "test_corr.head()"
   ]
  },
  {
   "cell_type": "code",
   "execution_count": 61,
   "id": "d398b45d",
   "metadata": {},
   "outputs": [
    {
     "data": {
      "image/png": "[encoded data removed]",
      "text/plain": [
       "<Figure size 432x288 with 1 Axes>"
      ]
     },
     "metadata": {},
     "output_type": "display_data"
    }
   ],
   "source": [
    "# plot train correlation vs test correlation (unfiltered spec2vec)\n",
    "fig, ax = plt.subplots()\n",
    "sns.set_style('dark')\n",
    "dfs = [train_corr,test_corr]\n",
    "for df in dfs:\n",
    "    sns.lineplot(data = df, x='latent_dim',y='cor',ax=ax)\n",
    "fig.legend(labels=['train', 'test'], loc='center right')\n",
    "plt.show()"
   ]
  },
  {
   "cell_type": "code",
   "execution_count": 69,
   "id": "06250af7",
   "metadata": {},
   "outputs": [],
   "source": [
    "v1_train = np.array(v1_train)\n",
    "v2_train = np.array(v2_train)"
   ]
  },
  {
   "cell_type": "code",
   "execution_count": null,
   "id": "356d859a",
   "metadata": {},
   "outputs": [],
   "source": [
    "\n",
    "fig, axes = plt.subplots(3, 1, figsize=(10, 15))\n",
    "title = \"Learning Curves CCA\"\n",
    "cv = ShuffleSplit(n_splits=5, test_size=0.2, random_state=0)\n",
    "model = CCA()\n",
    "plot_learning_curve(model, title, \\\n",
    "                    (v1_train, v2_train), axes=axes, ylim=(0.7, 1.01), cv=cv, n_jobs=4)\n",
    "plt.show()"
   ]
  },
  {
   "cell_type": "markdown",
   "id": "13af9d8f",
   "metadata": {},
   "source": [
    "#### 2. Filtered Spec2vec Embeddings"
   ]
  },
  {
   "cell_type": "code",
   "execution_count": 16,
   "id": "a3e47a5b",
   "metadata": {},
   "outputs": [],
   "source": [
    "#split the dataset (filtered spec2vec)\n",
    "train_df, test_df = \\\n",
    "train_test_split(df_uniq, test_size=0.2, \\\n",
    "                 random_state=42)\n",
    "\n",
    "v1_train, v1_test = [x for x in train_df['spec2vec']], [x for x in test_df['spec2vec']]\n",
    "v2_train, v2_test = [x for x in train_df['mol2vec']], [x for x in test_df['mol2vec']]"
   ]
  },
  {
   "cell_type": "code",
   "execution_count": 17,
   "id": "bd5bae95",
   "metadata": {},
   "outputs": [],
   "source": [
    "v1_train, v1_test = normalize(v1_train), normalize(v1_test)\n",
    "v2_train, v2_test =  normalize(v2_train), normalize(v2_test)"
   ]
  },
  {
   "cell_type": "code",
   "execution_count": 18,
   "id": "98e1ee13",
   "metadata": {},
   "outputs": [
    {
     "data": {
      "text/html": [
       "<div>\n",
       "<style scoped>\n",
       "    .dataframe tbody tr th:only-of-type {\n",
       "        vertical-align: middle;\n",
       "    }\n",
       "\n",
       "    .dataframe tbody tr th {\n",
       "        vertical-align: top;\n",
       "    }\n",
       "\n",
       "    .dataframe thead th {\n",
       "        text-align: right;\n",
       "    }\n",
       "</style>\n",
       "<table border=\"1\" class=\"dataframe\">\n",
       "  <thead>\n",
       "    <tr style=\"text-align: right;\">\n",
       "      <th></th>\n",
       "      <th>latent_dim</th>\n",
       "      <th>cor</th>\n",
       "    </tr>\n",
       "  </thead>\n",
       "  <tbody>\n",
       "    <tr>\n",
       "      <th>0</th>\n",
       "      <td>1</td>\n",
       "      <td>0.801794</td>\n",
       "    </tr>\n",
       "    <tr>\n",
       "      <th>1</th>\n",
       "      <td>2</td>\n",
       "      <td>0.741277</td>\n",
       "    </tr>\n",
       "    <tr>\n",
       "      <th>2</th>\n",
       "      <td>3</td>\n",
       "      <td>0.722125</td>\n",
       "    </tr>\n",
       "    <tr>\n",
       "      <th>3</th>\n",
       "      <td>4</td>\n",
       "      <td>0.686932</td>\n",
       "    </tr>\n",
       "    <tr>\n",
       "      <th>4</th>\n",
       "      <td>5</td>\n",
       "      <td>0.648152</td>\n",
       "    </tr>\n",
       "  </tbody>\n",
       "</table>\n",
       "</div>"
      ],
      "text/plain": [
       "   latent_dim       cor\n",
       "0           1  0.801794\n",
       "1           2  0.741277\n",
       "2           3  0.722125\n",
       "3           4  0.686932\n",
       "4           5  0.648152"
      ]
     },
     "execution_count": 18,
     "metadata": {},
     "output_type": "execute_result"
    }
   ],
   "source": [
    "# train the model with spec2vec filtered embeddings\n",
    "model, train_dim, train_corr = RunCCA(v1_train, v2_train, dims=200).train_cca()\n",
    "train_corr.head()"
   ]
  },
  {
   "cell_type": "code",
   "execution_count": 19,
   "id": "02663931",
   "metadata": {},
   "outputs": [
    {
     "data": {
      "text/html": [
       "<div>\n",
       "<style scoped>\n",
       "    .dataframe tbody tr th:only-of-type {\n",
       "        vertical-align: middle;\n",
       "    }\n",
       "\n",
       "    .dataframe tbody tr th {\n",
       "        vertical-align: top;\n",
       "    }\n",
       "\n",
       "    .dataframe thead th {\n",
       "        text-align: right;\n",
       "    }\n",
       "</style>\n",
       "<table border=\"1\" class=\"dataframe\">\n",
       "  <thead>\n",
       "    <tr style=\"text-align: right;\">\n",
       "      <th></th>\n",
       "      <th>latent_dim</th>\n",
       "      <th>cor</th>\n",
       "    </tr>\n",
       "  </thead>\n",
       "  <tbody>\n",
       "    <tr>\n",
       "      <th>0</th>\n",
       "      <td>1</td>\n",
       "      <td>0.791494</td>\n",
       "    </tr>\n",
       "    <tr>\n",
       "      <th>1</th>\n",
       "      <td>2</td>\n",
       "      <td>0.713723</td>\n",
       "    </tr>\n",
       "    <tr>\n",
       "      <th>2</th>\n",
       "      <td>3</td>\n",
       "      <td>0.685799</td>\n",
       "    </tr>\n",
       "    <tr>\n",
       "      <th>3</th>\n",
       "      <td>4</td>\n",
       "      <td>0.641021</td>\n",
       "    </tr>\n",
       "    <tr>\n",
       "      <th>4</th>\n",
       "      <td>5</td>\n",
       "      <td>0.624926</td>\n",
       "    </tr>\n",
       "  </tbody>\n",
       "</table>\n",
       "</div>"
      ],
      "text/plain": [
       "   latent_dim       cor\n",
       "0           1  0.791494\n",
       "1           2  0.713723\n",
       "2           3  0.685799\n",
       "3           4  0.641021\n",
       "4           5  0.624926"
      ]
     },
     "execution_count": 19,
     "metadata": {},
     "output_type": "execute_result"
    }
   ],
   "source": [
    "# test the model (filtered spec2vec)\n",
    "test_dims, test_corr = RunCCA(v1_test, v2_test,dims=200).test_cca(model)\n",
    "test_corr.head()"
   ]
  },
  {
   "cell_type": "code",
   "execution_count": 20,
   "id": "a96a5aca",
   "metadata": {},
   "outputs": [
    {
     "data": {
      "image/png": "[encoded data removed]",
      "text/plain": [
       "<Figure size 432x288 with 1 Axes>"
      ]
     },
     "metadata": {},
     "output_type": "display_data"
    }
   ],
   "source": [
    "# plot train correlation vs test correlation (unfiltered spec2vec)\n",
    "fig, ax = plt.subplots()\n",
    "sns.set_style('dark')\n",
    "dfs = [train_corr,test_corr]\n",
    "for df in dfs:\n",
    "    sns.lineplot(data = df, x='latent_dim',y='cor',ax=ax)\n",
    "fig.legend(labels=['train', 'test'], loc='center right')\n",
    "plt.show()"
   ]
  },
  {
   "cell_type": "code",
   "execution_count": 21,
   "id": "ee5c970e",
   "metadata": {},
   "outputs": [],
   "source": [
    "v1_train = np.array(v1_train)\n",
    "v2_train = np.array(v2_train)"
   ]
  },
  {
   "cell_type": "code",
   "execution_count": 24,
   "id": "f6daf63e",
   "metadata": {},
   "outputs": [
    {
     "data": {
      "image/png": "[encoded data removed]",
      "text/plain": [
       "<Figure size 720x1080 with 3 Axes>"
      ]
     },
     "metadata": {},
     "output_type": "display_data"
    }
   ],
   "source": [
    "\n",
    "fig, axes = plt.subplots(3, 1, figsize=(10, 15))\n",
    "title = \"Learning Curves CCA\"\n",
    "cv = ShuffleSplit(n_splits=50, test_size=0.2, random_state=0)\n",
    "model = CCA()\n",
    "plot_learning_curve(model, title, \\\n",
    "                    (v1_train, v2_train), axes=axes, ylim=(0.1, 1.01), cv=cv, n_jobs=4)\n",
    "plt.show()"
   ]
  },
  {
   "cell_type": "code",
   "execution_count": null,
   "id": "665bf30e",
   "metadata": {},
   "outputs": [],
   "source": []
  }
 ],
 "metadata": {
  "kernelspec": {
   "display_name": "Python 3 (ipykernel)",
   "language": "python",
   "name": "python3"
  },
  "language_info": {
   "codemirror_mode": {
    "name": "ipython",
    "version": 3
   },
   "file_extension": ".py",
   "mimetype": "text/x-python",
   "name": "python",
   "nbconvert_exporter": "python",
   "pygments_lexer": "ipython3",
   "version": "3.9.7"
  }
 },
 "nbformat": 4,
 "nbformat_minor": 5
}
