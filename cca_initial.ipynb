{
 "cells": [
  {
   "cell_type": "code",
   "execution_count": 22,
   "id": "ea3d8f6d",
   "metadata": {},
   "outputs": [],
   "source": [
    "%matplotlib inline\n",
    "import os\n",
    "from collections import OrderedDict\n",
    "from cca_zoo.models import CCA\n",
    "from cca_zoo.data import generate_covariance_data\n",
    "from cca_zoo.models import rCCA\n",
    "from cca_zoo.model_selection import GridSearchCV\n",
    "import random as rd\n",
    "from scipy.spatial import distance\n",
    "from scipy.stats import pearsonr\n",
    "from collections import Counter\n",
    "from tqdm import tqdm\n",
    "from sklearn.preprocessing import normalize\n",
    "from sklearn.preprocessing import StandardScaler\n",
    "from sklearn.preprocessing import PowerTransformer\n",
    "\n",
    "from cca_zoo.deepmodels import architectures\n",
    "import seaborn as sns\n",
    "import pandas as pd\n",
    "import numpy as np\n",
    "import pickle\n",
    "from sklearn.model_selection import train_test_split\n",
    "from matplotlib import pyplot as plt\n",
    "os.chdir('../raw_data')"
   ]
  },
  {
   "cell_type": "markdown",
   "id": "c37cfb7a",
   "metadata": {},
   "source": [
    "#### Functions to load and or write to pickle files"
   ]
  },
  {
   "cell_type": "code",
   "execution_count": 24,
   "id": "8a2b40a5",
   "metadata": {},
   "outputs": [],
   "source": [
    "class Files:\n",
    "    def __init__(self, filename):\n",
    "        self.file = filename\n",
    "        \n",
    "    def write_to_file(self, data):\n",
    "        with open(self.file, 'wb') as f:\n",
    "            pickle.dump(data, f) \n",
    "        return None\n",
    "    \n",
    "    def load_pickle(self):\n",
    "        data = pd.read_pickle(self.file)\n",
    "        return data\n",
    "    \n",
    "    def load_csv(self, sep, usecols=None):\n",
    "        data = pd.read_csv(self.file, sep=sep, usecols=usecols)\n",
    "        return data\n",
    "        \n",
    "        \n",
    "    "
   ]
  },
  {
   "cell_type": "code",
   "execution_count": 16,
   "id": "4048b26c",
   "metadata": {},
   "outputs": [
    {
     "data": {
      "text/plain": [
       "['ALL_GNPS.json',\n",
       " 'ALL_GNPS_15_12_2021_positive_annotated.pickle',\n",
       " 'ALL_GNPS_15_12_2021_positive_annotated_classifications.txt',\n",
       " 'all_ms2ds_embedding.pickle',\n",
       " 'all_spec_embedding.pickle',\n",
       " 'cca_zoo_old',\n",
       " 'data.json',\n",
       " 'df_ALL_GNPS_15_12_2021_positive_annotated_embeddings_class.pickle',\n",
       " 'df_classes_all_embeddings.pickle',\n",
       " 'df_classes_max3_embeddings.pickle',\n",
       " 'df_classes_max5_embeddings.pickle',\n",
       " 'df_classes_unique_embeddings.pickle',\n",
       " 'GNPS_15_12_2021_ms2ds_embeddings.pickle',\n",
       " 'GNPS_spectra_toconfirm',\n",
       " 'lightning_logs',\n",
       " 'max3_mol2vec_embedding.pickle',\n",
       " 'max3_ms2ds_embedding.pickle',\n",
       " 'max3_spec_embedding.pickle',\n",
       " 'max5_mol2vec_embedding.pickle',\n",
       " 'max5_ms2ds_embedding.pickle',\n",
       " 'max5_spec_embedding.pickle',\n",
       " 'model_300dim.pkl',\n",
       " 'mol2vec_embedding.pickle',\n",
       " 'ms2ds_embeddings_unique_GNPS_15_12_2021.pickle',\n",
       " 'ms2ds_model_GNPS_15_12_2021.hdf5',\n",
       " 'ms2ds_pred_corr',\n",
       " 'ms2ds_pred_cos.filepart',\n",
       " 'ms2ds_pred_euc',\n",
       " 'plot_validation.py',\n",
       " 'spec2vec_embeddings_unique_GNPS_15_12_2021.pickle',\n",
       " 'spec2vec_model_GNPS_15_12_2021.model',\n",
       " 'spec2vec_model_GNPS_15_12_2021.model.syn1neg.npy',\n",
       " 'spec2vec_model_GNPS_15_12_2021.model.wv.vectors.npy',\n",
       " 'spectra_unique_GNPS_15_12_2021.pickle',\n",
       " 'trainers.py',\n",
       " 'unique_mol2vec_embedding.pickle',\n",
       " '__pycache__']"
      ]
     },
     "execution_count": 16,
     "metadata": {},
     "output_type": "execute_result"
    }
   ],
   "source": [
    "os.listdir()"
   ]
  },
  {
   "cell_type": "code",
   "execution_count": 25,
   "id": "0dfb71fd",
   "metadata": {},
   "outputs": [],
   "source": [
    "class RunCCA:\n",
    "    def __init__(self, view1, view2,dims=2):\n",
    "        self.v1 = view1\n",
    "        self.v2 = view2\n",
    "        self.dims = dims\n",
    "    \n",
    "    def train_cca(self):\n",
    "        # step 0: init the model\n",
    "        linear_cca = CCA(latent_dims=self.dims,scale=False)\n",
    "        \n",
    "        # step 1: train (fit and transform)\n",
    "        train_z1, train_z2 = linear_cca.fit_transform([self.v1, self.v2])\n",
    "        \n",
    "        #step 3: extract correlation between the dims of the 2 views\n",
    "        train_corr = linear_cca.score([self.v1, self.v2])\n",
    "        \n",
    "        # bundle them in dfs\n",
    "        \n",
    "        # 1 latent_spaces\n",
    "        train_latent_spaces = pd.DataFrame(list(zip(train_z1,train_z2)),\\\n",
    "                      columns=['train_z1','train_z2'])\n",
    "        \n",
    "        # 2 corr pd for plotting\n",
    "        dims = [i for i in range(1,self.dims+1)] # adding 1 to start from 1\n",
    "        train_cor_df = pd.DataFrame(list(zip(dims,train_corr)),\\\n",
    "                      columns=['latent_dim','cor'])\n",
    "        \n",
    "        return linear_cca, train_latent_spaces, train_cor_df\n",
    "        \n",
    "    def test_cca(self, model):\n",
    "            \n",
    "            \n",
    "        # transform the test dataset\n",
    "        test_z1, test_z2 = model.transform([self.v1,self.v2])\n",
    "        test_corr = model.score([self.v1, self.v2])\n",
    "            \n",
    "        # bundle them in dfs\n",
    "        \n",
    "        # 1 latent_spaces\n",
    "        test_latent_spaces = pd.DataFrame(list(zip(test_z1,test_z2)),\\\n",
    "                      columns=['test_z1','test_z2'])\n",
    "        \n",
    "        # 2 corr pd for plotting\n",
    "        dims = [i for i in range(1,self.dims+1)] # adding 1 to start from 1\n",
    "        test_cor_df = pd.DataFrame(list(zip(dims,test_corr)),\\\n",
    "                          columns=['latent_dim','cor'])\n",
    "        \n",
    "        return test_latent_spaces, test_cor_df\n",
    "         "
   ]
  },
  {
   "cell_type": "markdown",
   "id": "ed4a80e2",
   "metadata": {},
   "source": [
    "### Train A CCA model with MS2DeepScore embeddings\n",
    "\n",
    "#### 1. Unfiltered Embeddings"
   ]
  },
  {
   "cell_type": "code",
   "execution_count": 26,
   "id": "5a0c9cb7",
   "metadata": {},
   "outputs": [
    {
     "data": {
      "text/plain": [
       "(41447, 8)"
      ]
     },
     "execution_count": 26,
     "metadata": {},
     "output_type": "execute_result"
    }
   ],
   "source": [
    "# load df with all info\n",
    "path = './df_classes_max3_embeddings.pickle'\n",
    "df_all = Files(path).load_pickle()#[:10000] #just a subset for scripting\n",
    "df_all.shape"
   ]
  },
  {
   "cell_type": "code",
   "execution_count": 265,
   "id": "6fb0ace9",
   "metadata": {},
   "outputs": [],
   "source": [
    "# # #drop inchikeys appering once, to make it possible to stratify based on inchikey\n",
    "# df_all = df_all.groupby('cf_class').filter(lambda x : len(x)>=2)\n",
    "#df_all.shape"
   ]
  },
  {
   "cell_type": "code",
   "execution_count": 27,
   "id": "090e999f",
   "metadata": {},
   "outputs": [],
   "source": [
    "#split the dataset\n",
    "train_df, test_df = \\\n",
    "train_test_split(df_all, test_size=0.3, random_state=42)#, stratify=df_all['cf_class'])\n",
    "\n",
    "v1_train, v1_test = [x for x in train_df['ms2ds']], [x for x in test_df['ms2ds']]\n",
    "v2_train, v2_test = [x for x in train_df['mol2vec']], [x for x in test_df['mol2vec']]"
   ]
  },
  {
   "cell_type": "code",
   "execution_count": 267,
   "id": "8a1f7ea2",
   "metadata": {},
   "outputs": [],
   "source": [
    "#rd.shuffle(v1_train)\n"
   ]
  },
  {
   "cell_type": "code",
   "execution_count": 28,
   "id": "f8255797",
   "metadata": {},
   "outputs": [
    {
     "data": {
      "text/html": [
       "<div>\n",
       "<style scoped>\n",
       "    .dataframe tbody tr th:only-of-type {\n",
       "        vertical-align: middle;\n",
       "    }\n",
       "\n",
       "    .dataframe tbody tr th {\n",
       "        vertical-align: top;\n",
       "    }\n",
       "\n",
       "    .dataframe thead th {\n",
       "        text-align: right;\n",
       "    }\n",
       "</style>\n",
       "<table border=\"1\" class=\"dataframe\">\n",
       "  <thead>\n",
       "    <tr style=\"text-align: right;\">\n",
       "      <th></th>\n",
       "      <th>latent_dim</th>\n",
       "      <th>cor</th>\n",
       "    </tr>\n",
       "  </thead>\n",
       "  <tbody>\n",
       "    <tr>\n",
       "      <th>0</th>\n",
       "      <td>1</td>\n",
       "      <td>0.906207</td>\n",
       "    </tr>\n",
       "    <tr>\n",
       "      <th>1</th>\n",
       "      <td>2</td>\n",
       "      <td>0.834931</td>\n",
       "    </tr>\n",
       "    <tr>\n",
       "      <th>2</th>\n",
       "      <td>3</td>\n",
       "      <td>0.789191</td>\n",
       "    </tr>\n",
       "    <tr>\n",
       "      <th>3</th>\n",
       "      <td>4</td>\n",
       "      <td>0.770649</td>\n",
       "    </tr>\n",
       "    <tr>\n",
       "      <th>4</th>\n",
       "      <td>5</td>\n",
       "      <td>0.742032</td>\n",
       "    </tr>\n",
       "  </tbody>\n",
       "</table>\n",
       "</div>"
      ],
      "text/plain": [
       "   latent_dim       cor\n",
       "0           1  0.906207\n",
       "1           2  0.834931\n",
       "2           3  0.789191\n",
       "3           4  0.770649\n",
       "4           5  0.742032"
      ]
     },
     "execution_count": 28,
     "metadata": {},
     "output_type": "execute_result"
    }
   ],
   "source": [
    "# train the model\n",
    "model, train_dim, train_corr = RunCCA(v1_train, v2_train, dims=200).train_cca()\n",
    "train_corr.head()"
   ]
  },
  {
   "cell_type": "code",
   "execution_count": 30,
   "id": "394831d3",
   "metadata": {},
   "outputs": [
    {
     "data": {
      "text/html": [
       "<div>\n",
       "<style scoped>\n",
       "    .dataframe tbody tr th:only-of-type {\n",
       "        vertical-align: middle;\n",
       "    }\n",
       "\n",
       "    .dataframe tbody tr th {\n",
       "        vertical-align: top;\n",
       "    }\n",
       "\n",
       "    .dataframe thead th {\n",
       "        text-align: right;\n",
       "    }\n",
       "</style>\n",
       "<table border=\"1\" class=\"dataframe\">\n",
       "  <thead>\n",
       "    <tr style=\"text-align: right;\">\n",
       "      <th></th>\n",
       "      <th>latent_dim</th>\n",
       "      <th>cor</th>\n",
       "    </tr>\n",
       "  </thead>\n",
       "  <tbody>\n",
       "    <tr>\n",
       "      <th>0</th>\n",
       "      <td>1</td>\n",
       "      <td>0.895282</td>\n",
       "    </tr>\n",
       "    <tr>\n",
       "      <th>1</th>\n",
       "      <td>2</td>\n",
       "      <td>0.819656</td>\n",
       "    </tr>\n",
       "    <tr>\n",
       "      <th>2</th>\n",
       "      <td>3</td>\n",
       "      <td>0.778438</td>\n",
       "    </tr>\n",
       "    <tr>\n",
       "      <th>3</th>\n",
       "      <td>4</td>\n",
       "      <td>0.746195</td>\n",
       "    </tr>\n",
       "    <tr>\n",
       "      <th>4</th>\n",
       "      <td>5</td>\n",
       "      <td>0.727633</td>\n",
       "    </tr>\n",
       "  </tbody>\n",
       "</table>\n",
       "</div>"
      ],
      "text/plain": [
       "   latent_dim       cor\n",
       "0           1  0.895282\n",
       "1           2  0.819656\n",
       "2           3  0.778438\n",
       "3           4  0.746195\n",
       "4           5  0.727633"
      ]
     },
     "execution_count": 30,
     "metadata": {},
     "output_type": "execute_result"
    }
   ],
   "source": [
    "# test the model\n",
    "test_dims, test_corr = RunCCA(v1_test, v2_test,dims=200).test_cca(model)\n",
    "test_corr.head()"
   ]
  },
  {
   "cell_type": "code",
   "execution_count": 31,
   "id": "058e350f",
   "metadata": {},
   "outputs": [
    {
     "data": {
      "image/png": "[encoded data removed]",
      "text/plain": [
       "<Figure size 432x288 with 1 Axes>"
      ]
     },
     "metadata": {
      "needs_background": "light"
     },
     "output_type": "display_data"
    }
   ],
   "source": [
    "# plot train correlation vs test correlation\n",
    "fig, ax = plt.subplots()\n",
    "sns.set_style('white')\n",
    "dfs = [train_corr,test_corr]\n",
    "for df in dfs:\n",
    "    sns.lineplot(data = df, x='latent_dim',y='cor',ax=ax)\n",
    "fig.legend(labels=['Train', 'Test'], loc='center right', fontsize=15)\n",
    "plt.xlabel('Latent Dimensions', fontsize=15)\n",
    "plt.ylabel('Correlation', fontsize=15)\n",
    "\n",
    "plt.show()"
   ]
  },
  {
   "cell_type": "markdown",
   "id": "2e08d271",
   "metadata": {},
   "source": [
    "### Predict Structure from spectra Embeddings\n",
    "\n",
    "1. Calculate:\n",
    "\n",
    "    1. Euclidean Distance\n",
    "    2. Cosine Distance\n",
    "    3. Correlation\n",
    "\n",
    "2. Calculate Tanimoto score of top scoring hits based on the above metric\n",
    "\n",
    "3. Sample a few structures to draw"
   ]
  },
  {
   "cell_type": "code",
   "execution_count": 53,
   "id": "4def1d65",
   "metadata": {},
   "outputs": [],
   "source": [
    "def predict(metric='euc'):\n",
    "\n",
    "    preds = {}\n",
    "\n",
    "    for index, query in enumerate(tqdm(test_dims['test_z1'])):\n",
    "    \n",
    "        preds[index] = []\n",
    "        for subject in train_dim['train_z2']:\n",
    "        \n",
    "    \n",
    "            if metric == 'corr':\n",
    "                corr = pearsonr(query[0:25], subject[0:25])[0]\n",
    "                preds[index].append(corr)\n",
    "        \n",
    "            if metric== 'euc':\n",
    "                euc = distance.euclidean(query[0:25], subject[0:25])\n",
    "                preds[index].append(euc)\n",
    "        \n",
    "            if metric == 'cos':\n",
    "                cos = distance.cosine(query[0:25], subject[0:25])\n",
    "                preds[index].append(cos)\n",
    "    # you might want to sort preds and return only top hits for better memory\n",
    "    return preds\n",
    "    "
   ]
  },
  {
   "cell_type": "code",
   "execution_count": 33,
   "id": "5d8bc6fb",
   "metadata": {},
   "outputs": [],
   "source": [
    "from rdkit import Chem\n",
    "from rdkit.Chem import AllChem\n",
    "from rdkit import DataStructs"
   ]
  },
  {
   "cell_type": "code",
   "execution_count": 34,
   "id": "98c3d313",
   "metadata": {},
   "outputs": [],
   "source": [
    "# function to calculate pairwise tanimoto scores\n",
    "def tanimoto(smi1, smi2):\n",
    "    #molecule\n",
    "    mol1 = Chem.MolFromSmiles(smi1)\n",
    "    mol2 = Chem.MolFromSmiles(smi2)\n",
    "    #fingerprint\n",
    "    fp1 = Chem.RDKFingerprint(mol1)\n",
    "    fp2 = Chem.RDKFingerprint(mol2)\n",
    "    \n",
    "    #similarity\n",
    "    score = round(DataStructs.FingerprintSimilarity(fp1,fp2),4)\n",
    "    return score"
   ]
  },
  {
   "cell_type": "code",
   "execution_count": 35,
   "id": "08f73a26",
   "metadata": {},
   "outputs": [],
   "source": [
    "def get_tanimotos(preditions_dict, metric):\n",
    "    tanimotos = []\n",
    "    for query_index, values in tqdm(preditions_dict.items()):\n",
    "    \n",
    "        #select top 5 hits for each query based on correlation\n",
    "        if metric == 'corr':\n",
    "            top_hits = np.sort(values)[::-1][:5]\n",
    "        #select closest 5 hits for each query based on cosine/euclidian distance\n",
    "        else:\n",
    "            top_hits = np.sort(values)[:5]\n",
    "    \n",
    "        #calculate tanimoto scores for each of the top 5 hits\n",
    "        top_hits_scores = []\n",
    "        for hit in top_hits:\n",
    "        \n",
    "            subject_index = values.index(hit)\n",
    "            smile1 = train_df['smiles'].iloc[subject_index]\n",
    "            smile2= test_df['smiles'].iloc[query_index]\n",
    "            top_hits_scores.append(tanimoto(smile1,smile2))\n",
    "        #select the max tanimoto score \n",
    "        tanimotos.append(max(top_hits_scores))\n",
    "    return tanimotos\n",
    "    "
   ]
  },
  {
   "cell_type": "markdown",
   "id": "f7bee2f0",
   "metadata": {},
   "source": [
    "#### Method 1: Euclidean Distance"
   ]
  },
  {
   "cell_type": "code",
   "execution_count": null,
   "id": "182868d8",
   "metadata": {},
   "outputs": [],
   "source": [
    "#calculate Euclidean predictions\n",
    "ms2ds_pred_euc = predict('euc')\n",
    "\n",
    "# write to file\n",
    "path = './ms2ds_pred_euc'\n",
    "Files(path).write_to_file(ms2ds_pred_euc)\n",
    "\n",
    "\n",
    "#calculate Euclidean tanimotos \n",
    "euc_ms2ds_tanimotos = get_tanimotos(ms2ds_preds_euc, 'euc')\n",
    "\n",
    "#write tanimotos to file \n",
    "path = './ms2ds_pred_euc_tanimoto'\n",
    "Files(path).write_to_file(euc_ms2ds_tanimotos)"
   ]
  },
  {
   "cell_type": "markdown",
   "id": "b3244bca",
   "metadata": {},
   "source": [
    "#### Method 2: Cosine Distance"
   ]
  },
  {
   "cell_type": "code",
   "execution_count": 89,
   "id": "6e79110a",
   "metadata": {},
   "outputs": [
    {
     "name": "stderr",
     "output_type": "stream",
     "text": [
      "100%|██████████████████████████████████████████████████████████████████████████| 12435/12435 [2:25:40<00:00,  1.42it/s]\n"
     ]
    }
   ],
   "source": [
    "#calculate cosine predictions\n",
    "ms2ds_pred_cos = predict('cos')\n",
    "\n",
    "# write to file\n",
    "path = './ms2ds_pred_cos'\n",
    "Files(path).write_to_file(ms2ds_pred_cos)\n",
    "\n",
    "\n",
    "#calculate cosine tanimotos \n",
    "cos_ms2ds_tanimotos = get_tanimotos(ms2ds_preds_cos, 'cos')\n",
    "\n",
    "#write tanimotos to file \n",
    "path = './ms2ds_pred_cos_tanimoto'\n",
    "Files(path).write_to_file(cos_ms2ds_tanimotos)"
   ]
  },
  {
   "cell_type": "markdown",
   "id": "788801dc",
   "metadata": {},
   "source": [
    "#### Method 3: Correlation "
   ]
  },
  {
   "cell_type": "code",
   "execution_count": null,
   "id": "ec504a1e",
   "metadata": {},
   "outputs": [
    {
     "name": "stderr",
     "output_type": "stream",
     "text": [
      " 64%|██████████████████████████████████████████████▊                          | 7971/12435 [2:55:11<1:20:52,  1.09s/it]"
     ]
    }
   ],
   "source": [
    "#calculate correlation prediction\n",
    "ms2ds_pred_corr = predict('corr')\n",
    "\n",
    "# write to file\n",
    "path = './ms2ds_pred_corr'\n",
    "Files(path).write_to_file(ms2ds_pred_corr)\n",
    "\n",
    "\n",
    "#calculate correlation tanimotos \n",
    "corr_ms2ds_tanimotos = get_tanimotos(ms2ds_preds_corr, 'corr')\n",
    "\n",
    "#write tanimotos to file \n",
    "path = './ms2ds_pred_corr_tanimoto'\n",
    "Files(path).write_to_file(corr_ms2ds_tanimotos)"
   ]
  },
  {
   "cell_type": "markdown",
   "id": "259ea729",
   "metadata": {},
   "source": [
    "#### Load in the calculated tanimoto scores for comparison"
   ]
  },
  {
   "cell_type": "code",
   "execution_count": 50,
   "id": "50cc2531",
   "metadata": {},
   "outputs": [],
   "source": [
    "#load in the generated ms2ds prediction \n",
    "path = './ms2ds_pred_euc_tanimoto'\n",
    "euc_ms2ds_tanimotos = Files(path).load_pickle()\n",
    "\n",
    "path = './ms2ds_pred_corr_tanimoto'\n",
    "corr_ms2ds_tanimotos = Files(path).load_pickle()\n",
    "\n",
    "path = './ms2ds_pred_cos_tanimoto'\n",
    "cos_ms2ds_tanimotos = Files(path).load_pickle()"
   ]
  },
  {
   "cell_type": "code",
   "execution_count": 52,
   "id": "4ca87ff0",
   "metadata": {},
   "outputs": [
    {
     "data": {
      "image/png": "[encoded data removed]",
      "text/plain": [
       "<Figure size 432x288 with 1 Axes>"
      ]
     },
     "metadata": {},
     "output_type": "display_data"
    }
   ],
   "source": [
    "#plot the distribution of the three top tanimotos from the three metrics\n",
    "dist_list = [euc_ms2ds_tanimotos,cos_ms2ds_tanimotos, corr_ms2ds_tanimotos]\n",
    "for dist in dist_list:\n",
    "    ax=sns.kdeplot(x=dist,shade=False)\n",
    "plt.legend(labels=['Euclidean Distance','Cosine distance',\\\n",
    "                   'correlation'], loc='upper right', fontsize=12)\n",
    "plt.xlabel('Tanimoto score', fontsize=15)\n",
    "plt.ylabel('Density', fontsize=15)\n",
    "plt.title(label='Tanimoto score Distribution', fontsize=15)\n",
    "plt.show()"
   ]
  },
  {
   "cell_type": "markdown",
   "id": "2b99ab84",
   "metadata": {},
   "source": [
    "#### Draw Random predicted molecule"
   ]
  },
  {
   "cell_type": "code",
   "execution_count": 13,
   "id": "a8c3ac74",
   "metadata": {},
   "outputs": [],
   "source": [
    "from rdkit import Chem\n",
    "from rdkit.Chem import Draw"
   ]
  },
  {
   "cell_type": "code",
   "execution_count": 15,
   "id": "683e5a18",
   "metadata": {},
   "outputs": [
    {
     "data": {
      "text/plain": [
       "['ALL_GNPS.json',\n",
       " 'ALL_GNPS_15_12_2021_positive_annotated.pickle',\n",
       " 'ALL_GNPS_15_12_2021_positive_annotated_classifications.txt',\n",
       " 'all_ms2ds_embedding.pickle',\n",
       " 'all_spec_embedding.pickle',\n",
       " 'compound_0.png',\n",
       " 'df_ALL_GNPS_15_12_2021_positive_annotated_embeddings_class.pickle',\n",
       " 'df_classes_all_embeddings.pickle',\n",
       " 'df_classes_max3_embeddings.pickle',\n",
       " 'df_classes_max5_embeddings.pickle',\n",
       " 'df_classes_unique_embeddings.pickle',\n",
       " 'GNPS_15_12_2021_ms2ds_embeddings.pickle',\n",
       " 'lightning_logs',\n",
       " 'max3_mol2vec_embedding.pickle',\n",
       " 'max3_ms2ds_embedding.pickle',\n",
       " 'max3_spec_embedding.pickle',\n",
       " 'max5_mol2vec_embedding.pickle',\n",
       " 'max5_ms2ds_embedding.pickle',\n",
       " 'max5_spec_embedding.pickle',\n",
       " 'model_300dim.pkl',\n",
       " 'mol2vec_embedding.pickle',\n",
       " 'ms2ds_embeddings_unique_GNPS_15_12_2021.pickle',\n",
       " 'ms2ds_model_GNPS_15_12_2021.hdf5',\n",
       " 'ms2ds_pred_euc',\n",
       " 'plot_validation.py',\n",
       " 'spec2vec_embeddings_unique_GNPS_15_12_2021.pickle',\n",
       " 'spec2vec_model_GNPS_15_12_2021.model',\n",
       " 'spec2vec_model_GNPS_15_12_2021.model.syn1neg.npy',\n",
       " 'spec2vec_model_GNPS_15_12_2021.model.wv.vectors.npy',\n",
       " 'spectra_unique_GNPS_15_12_2021.pickle',\n",
       " 'unique_mol2vec_embedding.pickle',\n",
       " '__pycache__']"
      ]
     },
     "execution_count": 15,
     "metadata": {},
     "output_type": "execute_result"
    }
   ],
   "source": [
    "os.listdir()"
   ]
  },
  {
   "cell_type": "code",
   "execution_count": 18,
   "id": "01529f5e",
   "metadata": {},
   "outputs": [],
   "source": [
    "#load in the generated ms2ds prediction \n",
    "path = './ms2ds_pred_euc'\n",
    "ms2ds_preds_euc = Files(path).load_pickle()"
   ]
  },
  {
   "cell_type": "code",
   "execution_count": 25,
   "id": "f7685b46",
   "metadata": {},
   "outputs": [
    {
     "name": "stderr",
     "output_type": "stream",
     "text": [
      "100%|████████████████████████████████████████████████████████████████████████████| 12435/12435 [07:04<00:00, 29.27it/s]\n"
     ]
    }
   ],
   "source": [
    "#calculate tanimoto scores\n",
    "ms2ds_preds_tanimotos = get_tanimotos(ms2ds_preds_euc, 'euc')"
   ]
  },
  {
   "cell_type": "code",
   "execution_count": 27,
   "id": "0786e3db",
   "metadata": {},
   "outputs": [
    {
     "name": "stderr",
     "output_type": "stream",
     "text": [
      "C:\\Users\\lmeli\\AppData\\Local\\Temp/ipykernel_11028/3792517325.py:2: DeprecationWarning: Sampling from a set deprecated\n",
      "since Python 3.9 and will be removed in a subsequent version.\n",
      "  keys = random.sample(ms2ds_preds_euc.keys(),5)\n"
     ]
    }
   ],
   "source": [
    "import random\n",
    "keys = random.sample(ms2ds_preds_euc.keys(),5)\n",
    "sample_dict = {key: ms2ds_preds_euc[key] for key in keys}"
   ]
  },
  {
   "cell_type": "code",
   "execution_count": 28,
   "id": "0438f11a",
   "metadata": {},
   "outputs": [
    {
     "data": {
      "text/plain": [
       "5"
      ]
     },
     "execution_count": 28,
     "metadata": {},
     "output_type": "execute_result"
    }
   ],
   "source": [
    "len(sample_dict)"
   ]
  },
  {
   "cell_type": "code",
   "execution_count": 14,
   "id": "2f82d891",
   "metadata": {},
   "outputs": [],
   "source": [
    "#pick random pairs to draw\n",
    "smile = train_df['smiles'][0]\n",
    "m = Chem.MolFromSmiles(smile)\n",
    "Draw.MolToFile(m, f\"compound_{0}.png\")"
   ]
  },
  {
   "cell_type": "code",
   "execution_count": 47,
   "id": "b2935ea2",
   "metadata": {},
   "outputs": [
    {
     "name": "stderr",
     "output_type": "stream",
     "text": [
      "100%|████████████████████████████████████████████████████████████████████████████████████| 5/5 [00:00<00:00,  7.93it/s]\n"
     ]
    }
   ],
   "source": [
    "#function to draw structuctures\n",
    "\n",
    "scores = []\n",
    "os.chdir('../compounds')\n",
    "for query_index, values in tqdm(sample_dict.items()):\n",
    "    top_hits = np.sort(values)[:5]\n",
    "    tanimotos = []\n",
    "    #draw the query\n",
    "    query_smile= test_df['smiles'].iloc[query_index]\n",
    "    query_class = test_df['cf_class'].iloc[query_index]\n",
    "    query = Chem.MolFromSmiles(query_smile)\n",
    "    Draw.MolToFile(query, f\"query_{query_index}_{query_class}.png\")\n",
    "    #draw top 5 hits\n",
    "    for hit_index, hit in enumerate(top_hits):\n",
    "        subject_index = values.index(hit)\n",
    "        subject_smile = train_df['smiles'].iloc[subject_index]\n",
    "        subject_class = train_df['cf_class'].iloc[subject_index]\n",
    "        \n",
    "        subject = Chem.MolFromSmiles(subject_smile)\n",
    "        Draw.MolToFile(subject, f\"query_{query_index}_hit_{hit_index}_{subject_class}.png\")\n",
    "        if query_index == 6679 or 4255:\n",
    "        #calculate tanimotos for the sampled query and subject\n",
    "            tanimotos.append(tanimoto(query_smile,subject_smile))\n",
    "    scores.append([(query_index),tanimotos])\n",
    "        \n",
    "        \n",
    "os.chdir('../raw_data')        "
   ]
  },
  {
   "cell_type": "code",
   "execution_count": 48,
   "id": "1ebf1bac",
   "metadata": {},
   "outputs": [
    {
     "data": {
      "text/plain": [
       "[[6679, [0.6275, 0.6719, 0.6991, 0.6991, 0.6991]],\n",
       " [4255, [0.4674, 0.5358, 0.5358, 0.5358, 0.4627]],\n",
       " [11916, [0.6543, 0.9262, 0.6407, 0.6306, 0.6297]],\n",
       " [12281, [0.3221, 0.3221, 0.2946, 0.1849, 0.1972]],\n",
       " [12167, [0.2442, 0.2078, 0.2078, 0.2167, 0.2004]]]"
      ]
     },
     "execution_count": 48,
     "metadata": {},
     "output_type": "execute_result"
    }
   ],
   "source": [
    "scores"
   ]
  },
  {
   "cell_type": "markdown",
   "id": "e05ad00e",
   "metadata": {},
   "source": [
    "#### 2. filtered Embeddings"
   ]
  },
  {
   "cell_type": "code",
   "execution_count": 89,
   "id": "8da8edfa",
   "metadata": {
    "scrolled": true
   },
   "outputs": [
    {
     "data": {
      "text/html": [
       "<div>\n",
       "<style scoped>\n",
       "    .dataframe tbody tr th:only-of-type {\n",
       "        vertical-align: middle;\n",
       "    }\n",
       "\n",
       "    .dataframe tbody tr th {\n",
       "        vertical-align: top;\n",
       "    }\n",
       "\n",
       "    .dataframe thead th {\n",
       "        text-align: right;\n",
       "    }\n",
       "</style>\n",
       "<table border=\"1\" class=\"dataframe\">\n",
       "  <thead>\n",
       "    <tr style=\"text-align: right;\">\n",
       "      <th></th>\n",
       "      <th>smiles</th>\n",
       "      <th>inchi_key</th>\n",
       "      <th>inchikey14</th>\n",
       "      <th>spec_id</th>\n",
       "      <th>spec2vec</th>\n",
       "      <th>ms2ds</th>\n",
       "      <th>mol2vec</th>\n",
       "      <th>cf_class</th>\n",
       "    </tr>\n",
       "  </thead>\n",
       "  <tbody>\n",
       "    <tr>\n",
       "      <th>0</th>\n",
       "      <td>CC(C)CC1NC(=O)C(C)NC(=O)C(=C)N(C)C(=O)CCC(NC(=...</td>\n",
       "      <td>IYDKWWDUBYWQGF-NNAZGLEUSA-N</td>\n",
       "      <td>IYDKWWDUBYWQGF</td>\n",
       "      <td>spec_id0</td>\n",
       "      <td>[-22.561352524375522, -52.61297182073491, 49.4...</td>\n",
       "      <td>[0.0, 15.901467323303223, 37.36699676513672, 0...</td>\n",
       "      <td>[1.630672, -6.694838, -8.602699, 8.267098, 5.2...</td>\n",
       "      <td>Peptidomimetics</td>\n",
       "    </tr>\n",
       "    <tr>\n",
       "      <th>1</th>\n",
       "      <td>CCC[C@@H](C)[C@@H]([C@H](C)[C@@H]1[C@H]([C@H](...</td>\n",
       "      <td>KNGPFNUOXXLKCN-ZNCJFREWSA-N</td>\n",
       "      <td>KNGPFNUOXXLKCN</td>\n",
       "      <td>spec_id1</td>\n",
       "      <td>[-8.144101929166954, -25.09254423476226, -1.49...</td>\n",
       "      <td>[0.0, 3.603170394897461, 12.24513053894043, 0....</td>\n",
       "      <td>[-2.5071416, -7.008046, -7.7435217, 3.9533424,...</td>\n",
       "      <td>Peptidomimetics</td>\n",
       "    </tr>\n",
       "    <tr>\n",
       "      <th>2</th>\n",
       "      <td>C[C@H]1C(=O)N[C@H](C(=O)N[C@H](C(=O)N([C@H](C(...</td>\n",
       "      <td>WCNJVJCYRBJSLC-BCJYPDSRSA-N</td>\n",
       "      <td>WCNJVJCYRBJSLC</td>\n",
       "      <td>spec_id2</td>\n",
       "      <td>[-5.008793063971317, 32.11217206150628, -8.982...</td>\n",
       "      <td>[0.0, 0.0, 2.6736814975738525, 0.0, 0.0, 0.0, ...</td>\n",
       "      <td>[-0.3728091, -9.532841, -10.665195, 17.613012,...</td>\n",
       "      <td>Macrolactams</td>\n",
       "    </tr>\n",
       "    <tr>\n",
       "      <th>3</th>\n",
       "      <td>CC(C)C[C@@H]1OC(=O)[C@@H]2CCCN2C(=O)[C@H](CC2=...</td>\n",
       "      <td>GWGKNTICBPKKKW-LBBUGJAGSA-N</td>\n",
       "      <td>GWGKNTICBPKKKW</td>\n",
       "      <td>spec_id3</td>\n",
       "      <td>[16.967691713559265, 11.406365395323293, -5.16...</td>\n",
       "      <td>[0.0, 0.0, 8.311530113220215, 21.6807460784912...</td>\n",
       "      <td>[5.140757, -10.130683, -8.369965, 13.165277, -...</td>\n",
       "      <td>Peptidomimetics</td>\n",
       "    </tr>\n",
       "    <tr>\n",
       "      <th>4</th>\n",
       "      <td>CCCCCCCCCCCCCC(=O)NC(C)(C)C(=O)N1C[C@H](O)C[C@...</td>\n",
       "      <td>FFCLYSVFZQXUHI-XUVLUQBSSA-N</td>\n",
       "      <td>FFCLYSVFZQXUHI</td>\n",
       "      <td>spec_id4</td>\n",
       "      <td>[-32.38097167038966, -11.560462254295976, -4.1...</td>\n",
       "      <td>[0.0, 2.4228768348693848, 17.64068031311035, 0...</td>\n",
       "      <td>[-6.1560755, -6.321531, -5.7416663, -6.0778522...</td>\n",
       "      <td>Carboxylic acids and derivatives</td>\n",
       "    </tr>\n",
       "  </tbody>\n",
       "</table>\n",
       "</div>"
      ],
      "text/plain": [
       "                                              smiles  \\\n",
       "0  CC(C)CC1NC(=O)C(C)NC(=O)C(=C)N(C)C(=O)CCC(NC(=...   \n",
       "1  CCC[C@@H](C)[C@@H]([C@H](C)[C@@H]1[C@H]([C@H](...   \n",
       "2  C[C@H]1C(=O)N[C@H](C(=O)N[C@H](C(=O)N([C@H](C(...   \n",
       "3  CC(C)C[C@@H]1OC(=O)[C@@H]2CCCN2C(=O)[C@H](CC2=...   \n",
       "4  CCCCCCCCCCCCCC(=O)NC(C)(C)C(=O)N1C[C@H](O)C[C@...   \n",
       "\n",
       "                     inchi_key      inchikey14   spec_id  \\\n",
       "0  IYDKWWDUBYWQGF-NNAZGLEUSA-N  IYDKWWDUBYWQGF  spec_id0   \n",
       "1  KNGPFNUOXXLKCN-ZNCJFREWSA-N  KNGPFNUOXXLKCN  spec_id1   \n",
       "2  WCNJVJCYRBJSLC-BCJYPDSRSA-N  WCNJVJCYRBJSLC  spec_id2   \n",
       "3  GWGKNTICBPKKKW-LBBUGJAGSA-N  GWGKNTICBPKKKW  spec_id3   \n",
       "4  FFCLYSVFZQXUHI-XUVLUQBSSA-N  FFCLYSVFZQXUHI  spec_id4   \n",
       "\n",
       "                                            spec2vec  \\\n",
       "0  [-22.561352524375522, -52.61297182073491, 49.4...   \n",
       "1  [-8.144101929166954, -25.09254423476226, -1.49...   \n",
       "2  [-5.008793063971317, 32.11217206150628, -8.982...   \n",
       "3  [16.967691713559265, 11.406365395323293, -5.16...   \n",
       "4  [-32.38097167038966, -11.560462254295976, -4.1...   \n",
       "\n",
       "                                               ms2ds  \\\n",
       "0  [0.0, 15.901467323303223, 37.36699676513672, 0...   \n",
       "1  [0.0, 3.603170394897461, 12.24513053894043, 0....   \n",
       "2  [0.0, 0.0, 2.6736814975738525, 0.0, 0.0, 0.0, ...   \n",
       "3  [0.0, 0.0, 8.311530113220215, 21.6807460784912...   \n",
       "4  [0.0, 2.4228768348693848, 17.64068031311035, 0...   \n",
       "\n",
       "                                             mol2vec  \\\n",
       "0  [1.630672, -6.694838, -8.602699, 8.267098, 5.2...   \n",
       "1  [-2.5071416, -7.008046, -7.7435217, 3.9533424,...   \n",
       "2  [-0.3728091, -9.532841, -10.665195, 17.613012,...   \n",
       "3  [5.140757, -10.130683, -8.369965, 13.165277, -...   \n",
       "4  [-6.1560755, -6.321531, -5.7416663, -6.0778522...   \n",
       "\n",
       "                           cf_class  \n",
       "0                   Peptidomimetics  \n",
       "1                   Peptidomimetics  \n",
       "2                      Macrolactams  \n",
       "3                   Peptidomimetics  \n",
       "4  Carboxylic acids and derivatives  "
      ]
     },
     "execution_count": 89,
     "metadata": {},
     "output_type": "execute_result"
    }
   ],
   "source": [
    "# load df with all info\n",
    "path = './df_classes_unique_embeddings.pickle'\n",
    "df_uniq = Files(path).load_pickle()#[:10000] #just a subset for scripting\n",
    "df_uniq.head()"
   ]
  },
  {
   "cell_type": "code",
   "execution_count": 90,
   "id": "d70841f1",
   "metadata": {},
   "outputs": [],
   "source": [
    "#split the dataset\n",
    "train_df, test_df = \\\n",
    "train_test_split(df_uniq, test_size=0.2, \\\n",
    "                 random_state=42)\n",
    "\n",
    "v1_train, v1_test = [x for x in train_df['ms2ds']], [x for x in test_df['ms2ds']]\n",
    "v2_train, v2_test = [x for x in train_df['mol2vec']], [x for x in test_df['mol2vec']]"
   ]
  },
  {
   "cell_type": "code",
   "execution_count": 10,
   "id": "ead26a1c",
   "metadata": {},
   "outputs": [],
   "source": [
    "# # normalising slightly improves spec2vec but slightly decreases ms2ds\n",
    "# v1_train, v1_test = normalize(v1_train), normalize(v1_test)\n",
    "# v2_train, v2_test =  normalize(v2_train), normalize(v2_test)"
   ]
  },
  {
   "cell_type": "code",
   "execution_count": 91,
   "id": "c9c6e7d4",
   "metadata": {},
   "outputs": [
    {
     "data": {
      "text/html": [
       "<div>\n",
       "<style scoped>\n",
       "    .dataframe tbody tr th:only-of-type {\n",
       "        vertical-align: middle;\n",
       "    }\n",
       "\n",
       "    .dataframe tbody tr th {\n",
       "        vertical-align: top;\n",
       "    }\n",
       "\n",
       "    .dataframe thead th {\n",
       "        text-align: right;\n",
       "    }\n",
       "</style>\n",
       "<table border=\"1\" class=\"dataframe\">\n",
       "  <thead>\n",
       "    <tr style=\"text-align: right;\">\n",
       "      <th></th>\n",
       "      <th>latent_dim</th>\n",
       "      <th>cor</th>\n",
       "    </tr>\n",
       "  </thead>\n",
       "  <tbody>\n",
       "    <tr>\n",
       "      <th>0</th>\n",
       "      <td>1</td>\n",
       "      <td>0.899808</td>\n",
       "    </tr>\n",
       "    <tr>\n",
       "      <th>1</th>\n",
       "      <td>2</td>\n",
       "      <td>0.844028</td>\n",
       "    </tr>\n",
       "    <tr>\n",
       "      <th>2</th>\n",
       "      <td>3</td>\n",
       "      <td>0.806704</td>\n",
       "    </tr>\n",
       "    <tr>\n",
       "      <th>3</th>\n",
       "      <td>4</td>\n",
       "      <td>0.797919</td>\n",
       "    </tr>\n",
       "    <tr>\n",
       "      <th>4</th>\n",
       "      <td>5</td>\n",
       "      <td>0.753063</td>\n",
       "    </tr>\n",
       "  </tbody>\n",
       "</table>\n",
       "</div>"
      ],
      "text/plain": [
       "   latent_dim       cor\n",
       "0           1  0.899808\n",
       "1           2  0.844028\n",
       "2           3  0.806704\n",
       "3           4  0.797919\n",
       "4           5  0.753063"
      ]
     },
     "execution_count": 91,
     "metadata": {},
     "output_type": "execute_result"
    }
   ],
   "source": [
    "# train the model\n",
    "model, train_dim, train_corr = RunCCA(v1_train, v2_train, dims=200).train_cca()\n",
    "train_corr.head()"
   ]
  },
  {
   "cell_type": "code",
   "execution_count": 92,
   "id": "cd4c83f5",
   "metadata": {},
   "outputs": [
    {
     "data": {
      "text/html": [
       "<div>\n",
       "<style scoped>\n",
       "    .dataframe tbody tr th:only-of-type {\n",
       "        vertical-align: middle;\n",
       "    }\n",
       "\n",
       "    .dataframe tbody tr th {\n",
       "        vertical-align: top;\n",
       "    }\n",
       "\n",
       "    .dataframe thead th {\n",
       "        text-align: right;\n",
       "    }\n",
       "</style>\n",
       "<table border=\"1\" class=\"dataframe\">\n",
       "  <thead>\n",
       "    <tr style=\"text-align: right;\">\n",
       "      <th></th>\n",
       "      <th>latent_dim</th>\n",
       "      <th>cor</th>\n",
       "    </tr>\n",
       "  </thead>\n",
       "  <tbody>\n",
       "    <tr>\n",
       "      <th>0</th>\n",
       "      <td>1</td>\n",
       "      <td>0.889260</td>\n",
       "    </tr>\n",
       "    <tr>\n",
       "      <th>1</th>\n",
       "      <td>2</td>\n",
       "      <td>0.826607</td>\n",
       "    </tr>\n",
       "    <tr>\n",
       "      <th>2</th>\n",
       "      <td>3</td>\n",
       "      <td>0.769665</td>\n",
       "    </tr>\n",
       "    <tr>\n",
       "      <th>3</th>\n",
       "      <td>4</td>\n",
       "      <td>0.785805</td>\n",
       "    </tr>\n",
       "    <tr>\n",
       "      <th>4</th>\n",
       "      <td>5</td>\n",
       "      <td>0.740144</td>\n",
       "    </tr>\n",
       "  </tbody>\n",
       "</table>\n",
       "</div>"
      ],
      "text/plain": [
       "   latent_dim       cor\n",
       "0           1  0.889260\n",
       "1           2  0.826607\n",
       "2           3  0.769665\n",
       "3           4  0.785805\n",
       "4           5  0.740144"
      ]
     },
     "execution_count": 92,
     "metadata": {},
     "output_type": "execute_result"
    }
   ],
   "source": [
    "# test the model\n",
    "test_dims, test_corr = RunCCA(v1_test, v2_test,dims=200).test_cca(model)\n",
    "test_corr.head()"
   ]
  },
  {
   "cell_type": "code",
   "execution_count": 93,
   "id": "1d023c56",
   "metadata": {},
   "outputs": [
    {
     "data": {
      "image/png": "[encoded data removed]",
      "text/plain": [
       "<Figure size 432x288 with 1 Axes>"
      ]
     },
     "metadata": {},
     "output_type": "display_data"
    }
   ],
   "source": [
    "# plot train correlation vs test correlation\n",
    "fig, ax = plt.subplots()\n",
    "sns.set_style('white')\n",
    "dfs = [train_corr,test_corr]\n",
    "for df in dfs:\n",
    "    sns.lineplot(data = df, x='latent_dim',y='cor',ax=ax)\n",
    "fig.legend(labels=['Train', 'Test'], loc='center right', fontsize=15)\n",
    "plt.xlabel('Latent Dimensions', fontsize=15)\n",
    "plt.ylabel('Correlation', fontsize=15)\n",
    "\n",
    "plt.show()"
   ]
  },
  {
   "cell_type": "markdown",
   "id": "faeff404",
   "metadata": {},
   "source": [
    "The validation function used here was downloaded from [CCA_zoo](https://cca-zoo.readthedocs.io/en/latest/auto_examples/plot_validation.html#sphx-glr-auto-examples-plot-validation-py) documentation; same function can also be found in [scikit-learn](https://scikit-learn.org/stable/auto_examples/model_selection/plot_learning_curve.html) documentation"
   ]
  },
  {
   "cell_type": "code",
   "execution_count": 276,
   "id": "e906633b",
   "metadata": {},
   "outputs": [],
   "source": [
    "from cca_zoo.model_selection import permutation_test_score\n",
    "from plot_validation import plot_learning_curve\n",
    "from sklearn.model_selection import KFold, ShuffleSplit\n"
   ]
  },
  {
   "cell_type": "code",
   "execution_count": 277,
   "id": "af6a62cd",
   "metadata": {},
   "outputs": [],
   "source": [
    "v1_train = np.array(v1_train)\n",
    "v2_train = np.array(v2_train)"
   ]
  },
  {
   "cell_type": "code",
   "execution_count": 278,
   "id": "d5f8900b",
   "metadata": {},
   "outputs": [
    {
     "data": {
      "image/png": "[encoded data removed]",
      "text/plain": [
       "<Figure size 720x1080 with 3 Axes>"
      ]
     },
     "metadata": {},
     "output_type": "display_data"
    }
   ],
   "source": [
    "\n",
    "fig, axes = plt.subplots(3, 1, figsize=(10, 15))\n",
    "title = \"Learning Curves CCA\"\n",
    "cv = ShuffleSplit(n_splits=50, test_size=0.2, random_state=0)\n",
    "model = CCA()\n",
    "plot_learning_curve(model, title, \\\n",
    "                    (v1_train, v2_train), axes=axes, ylim=(0.7, 1.01), cv=cv, n_jobs=4)\n",
    "plt.show()\n",
    "\n"
   ]
  },
  {
   "cell_type": "markdown",
   "id": "609f5452",
   "metadata": {},
   "source": [
    "### Train A CCA model with Spec2vec embeddings\n",
    "\n",
    "#### 1. Unfiltered spec2vec Embeddings"
   ]
  },
  {
   "cell_type": "code",
   "execution_count": 279,
   "id": "3da3276f",
   "metadata": {},
   "outputs": [],
   "source": [
    "#split the dataset\n",
    "train_df, test_df = \\\n",
    "train_test_split(df_all, test_size=0.2, random_state=42)#, stratify=df_all['inchikey14'])\n",
    "\n",
    "v1_train, v1_test = [x for x in train_df['spec2vec']], [x for x in test_df['spec2vec']]\n",
    "v2_train, v2_test = [x for x in train_df['mol2vec']], [x for x in test_df['mol2vec']]"
   ]
  },
  {
   "cell_type": "code",
   "execution_count": 281,
   "id": "c1f2d504",
   "metadata": {},
   "outputs": [],
   "source": [
    "# normalising slightly improves spec2vec but slightly decreases ms2ds\n",
    "v1_train, v1_test = normalize(v1_train), normalize(v1_test)\n",
    "v2_train, v2_test =  normalize(v2_train), normalize(v2_test)"
   ]
  },
  {
   "cell_type": "code",
   "execution_count": 282,
   "id": "893442fc",
   "metadata": {},
   "outputs": [
    {
     "data": {
      "text/html": [
       "<div>\n",
       "<style scoped>\n",
       "    .dataframe tbody tr th:only-of-type {\n",
       "        vertical-align: middle;\n",
       "    }\n",
       "\n",
       "    .dataframe tbody tr th {\n",
       "        vertical-align: top;\n",
       "    }\n",
       "\n",
       "    .dataframe thead th {\n",
       "        text-align: right;\n",
       "    }\n",
       "</style>\n",
       "<table border=\"1\" class=\"dataframe\">\n",
       "  <thead>\n",
       "    <tr style=\"text-align: right;\">\n",
       "      <th></th>\n",
       "      <th>latent_dim</th>\n",
       "      <th>cor</th>\n",
       "    </tr>\n",
       "  </thead>\n",
       "  <tbody>\n",
       "    <tr>\n",
       "      <th>0</th>\n",
       "      <td>1</td>\n",
       "      <td>0.784851</td>\n",
       "    </tr>\n",
       "    <tr>\n",
       "      <th>1</th>\n",
       "      <td>2</td>\n",
       "      <td>0.737054</td>\n",
       "    </tr>\n",
       "    <tr>\n",
       "      <th>2</th>\n",
       "      <td>3</td>\n",
       "      <td>0.700809</td>\n",
       "    </tr>\n",
       "    <tr>\n",
       "      <th>3</th>\n",
       "      <td>4</td>\n",
       "      <td>0.662728</td>\n",
       "    </tr>\n",
       "    <tr>\n",
       "      <th>4</th>\n",
       "      <td>5</td>\n",
       "      <td>0.643240</td>\n",
       "    </tr>\n",
       "  </tbody>\n",
       "</table>\n",
       "</div>"
      ],
      "text/plain": [
       "   latent_dim       cor\n",
       "0           1  0.784851\n",
       "1           2  0.737054\n",
       "2           3  0.700809\n",
       "3           4  0.662728\n",
       "4           5  0.643240"
      ]
     },
     "execution_count": 282,
     "metadata": {},
     "output_type": "execute_result"
    }
   ],
   "source": [
    "# train the model with spec2vec unfiltered embeddings\n",
    "model, train_dim, train_corr = RunCCA(v1_train, v2_train, dims=200).train_cca()\n",
    "train_corr.head()"
   ]
  },
  {
   "cell_type": "code",
   "execution_count": 283,
   "id": "312a9b9d",
   "metadata": {},
   "outputs": [
    {
     "data": {
      "text/html": [
       "<div>\n",
       "<style scoped>\n",
       "    .dataframe tbody tr th:only-of-type {\n",
       "        vertical-align: middle;\n",
       "    }\n",
       "\n",
       "    .dataframe tbody tr th {\n",
       "        vertical-align: top;\n",
       "    }\n",
       "\n",
       "    .dataframe thead th {\n",
       "        text-align: right;\n",
       "    }\n",
       "</style>\n",
       "<table border=\"1\" class=\"dataframe\">\n",
       "  <thead>\n",
       "    <tr style=\"text-align: right;\">\n",
       "      <th></th>\n",
       "      <th>latent_dim</th>\n",
       "      <th>cor</th>\n",
       "    </tr>\n",
       "  </thead>\n",
       "  <tbody>\n",
       "    <tr>\n",
       "      <th>0</th>\n",
       "      <td>1</td>\n",
       "      <td>0.772790</td>\n",
       "    </tr>\n",
       "    <tr>\n",
       "      <th>1</th>\n",
       "      <td>2</td>\n",
       "      <td>0.725572</td>\n",
       "    </tr>\n",
       "    <tr>\n",
       "      <th>2</th>\n",
       "      <td>3</td>\n",
       "      <td>0.688245</td>\n",
       "    </tr>\n",
       "    <tr>\n",
       "      <th>3</th>\n",
       "      <td>4</td>\n",
       "      <td>0.646513</td>\n",
       "    </tr>\n",
       "    <tr>\n",
       "      <th>4</th>\n",
       "      <td>5</td>\n",
       "      <td>0.619302</td>\n",
       "    </tr>\n",
       "  </tbody>\n",
       "</table>\n",
       "</div>"
      ],
      "text/plain": [
       "   latent_dim       cor\n",
       "0           1  0.772790\n",
       "1           2  0.725572\n",
       "2           3  0.688245\n",
       "3           4  0.646513\n",
       "4           5  0.619302"
      ]
     },
     "execution_count": 283,
     "metadata": {},
     "output_type": "execute_result"
    }
   ],
   "source": [
    "# test the model (unfiltered spec2vec)\n",
    "test_dims, test_corr = RunCCA(v1_test, v2_test,dims=200).test_cca(model)\n",
    "test_corr.head()"
   ]
  },
  {
   "cell_type": "code",
   "execution_count": 284,
   "id": "d398b45d",
   "metadata": {},
   "outputs": [
    {
     "data": {
      "image/png": "[encoded data removed]",
      "text/plain": [
       "<Figure size 432x288 with 1 Axes>"
      ]
     },
     "metadata": {},
     "output_type": "display_data"
    }
   ],
   "source": [
    "# plot train correlation vs test correlation\n",
    "fig, ax = plt.subplots()\n",
    "sns.set_style('white')\n",
    "dfs = [train_corr,test_corr]\n",
    "for df in dfs:\n",
    "    sns.lineplot(data = df, x='latent_dim',y='cor',ax=ax)\n",
    "fig.legend(labels=['Train', 'Test'], loc='center right', fontsize=15)\n",
    "plt.xlabel('Latent Dimensions', fontsize=15)\n",
    "plt.ylabel('Correlation', fontsize=15)\n",
    "\n",
    "plt.show()"
   ]
  },
  {
   "cell_type": "markdown",
   "id": "13af9d8f",
   "metadata": {},
   "source": [
    "#### 2. Filtered Spec2vec Embeddings"
   ]
  },
  {
   "cell_type": "code",
   "execution_count": 169,
   "id": "a3e47a5b",
   "metadata": {},
   "outputs": [],
   "source": [
    "#split the dataset (filtered spec2vec)\n",
    "train_df, test_df = \\\n",
    "train_test_split(df_uniq, test_size=0.2, \\\n",
    "                 random_state=42)\n",
    "\n",
    "v1_train, v1_test = [x for x in train_df['spec2vec']], [x for x in test_df['spec2vec']]\n",
    "v2_train, v2_test = [x for x in train_df['mol2vec']], [x for x in test_df['mol2vec']]"
   ]
  },
  {
   "cell_type": "code",
   "execution_count": 170,
   "id": "827d5a6a",
   "metadata": {},
   "outputs": [],
   "source": [
    "# normalizing slightly improves spec2vec\n",
    "v1_train, v1_test = normalize(v1_train), normalize(v1_test)\n",
    "v2_train, v2_test =  normalize(v2_train), normalize(v2_test)"
   ]
  },
  {
   "cell_type": "code",
   "execution_count": 171,
   "id": "98e1ee13",
   "metadata": {},
   "outputs": [
    {
     "data": {
      "text/html": [
       "<div>\n",
       "<style scoped>\n",
       "    .dataframe tbody tr th:only-of-type {\n",
       "        vertical-align: middle;\n",
       "    }\n",
       "\n",
       "    .dataframe tbody tr th {\n",
       "        vertical-align: top;\n",
       "    }\n",
       "\n",
       "    .dataframe thead th {\n",
       "        text-align: right;\n",
       "    }\n",
       "</style>\n",
       "<table border=\"1\" class=\"dataframe\">\n",
       "  <thead>\n",
       "    <tr style=\"text-align: right;\">\n",
       "      <th></th>\n",
       "      <th>latent_dim</th>\n",
       "      <th>cor</th>\n",
       "    </tr>\n",
       "  </thead>\n",
       "  <tbody>\n",
       "    <tr>\n",
       "      <th>0</th>\n",
       "      <td>1</td>\n",
       "      <td>0.801794</td>\n",
       "    </tr>\n",
       "    <tr>\n",
       "      <th>1</th>\n",
       "      <td>2</td>\n",
       "      <td>0.741277</td>\n",
       "    </tr>\n",
       "    <tr>\n",
       "      <th>2</th>\n",
       "      <td>3</td>\n",
       "      <td>0.722125</td>\n",
       "    </tr>\n",
       "    <tr>\n",
       "      <th>3</th>\n",
       "      <td>4</td>\n",
       "      <td>0.686932</td>\n",
       "    </tr>\n",
       "    <tr>\n",
       "      <th>4</th>\n",
       "      <td>5</td>\n",
       "      <td>0.648152</td>\n",
       "    </tr>\n",
       "  </tbody>\n",
       "</table>\n",
       "</div>"
      ],
      "text/plain": [
       "   latent_dim       cor\n",
       "0           1  0.801794\n",
       "1           2  0.741277\n",
       "2           3  0.722125\n",
       "3           4  0.686932\n",
       "4           5  0.648152"
      ]
     },
     "execution_count": 171,
     "metadata": {},
     "output_type": "execute_result"
    }
   ],
   "source": [
    "# train the model with spec2vec filtered embeddings\n",
    "model, train_dim, train_corr = RunCCA(v1_train, v2_train, dims=200).train_cca()\n",
    "train_corr.head()"
   ]
  },
  {
   "cell_type": "code",
   "execution_count": 28,
   "id": "02663931",
   "metadata": {},
   "outputs": [
    {
     "data": {
      "text/html": [
       "<div>\n",
       "<style scoped>\n",
       "    .dataframe tbody tr th:only-of-type {\n",
       "        vertical-align: middle;\n",
       "    }\n",
       "\n",
       "    .dataframe tbody tr th {\n",
       "        vertical-align: top;\n",
       "    }\n",
       "\n",
       "    .dataframe thead th {\n",
       "        text-align: right;\n",
       "    }\n",
       "</style>\n",
       "<table border=\"1\" class=\"dataframe\">\n",
       "  <thead>\n",
       "    <tr style=\"text-align: right;\">\n",
       "      <th></th>\n",
       "      <th>latent_dim</th>\n",
       "      <th>cor</th>\n",
       "    </tr>\n",
       "  </thead>\n",
       "  <tbody>\n",
       "    <tr>\n",
       "      <th>0</th>\n",
       "      <td>1</td>\n",
       "      <td>0.791494</td>\n",
       "    </tr>\n",
       "    <tr>\n",
       "      <th>1</th>\n",
       "      <td>2</td>\n",
       "      <td>0.713723</td>\n",
       "    </tr>\n",
       "    <tr>\n",
       "      <th>2</th>\n",
       "      <td>3</td>\n",
       "      <td>0.685799</td>\n",
       "    </tr>\n",
       "    <tr>\n",
       "      <th>3</th>\n",
       "      <td>4</td>\n",
       "      <td>0.641021</td>\n",
       "    </tr>\n",
       "    <tr>\n",
       "      <th>4</th>\n",
       "      <td>5</td>\n",
       "      <td>0.624926</td>\n",
       "    </tr>\n",
       "  </tbody>\n",
       "</table>\n",
       "</div>"
      ],
      "text/plain": [
       "   latent_dim       cor\n",
       "0           1  0.791494\n",
       "1           2  0.713723\n",
       "2           3  0.685799\n",
       "3           4  0.641021\n",
       "4           5  0.624926"
      ]
     },
     "execution_count": 28,
     "metadata": {},
     "output_type": "execute_result"
    }
   ],
   "source": [
    "# test the model (filtered spec2vec)\n",
    "test_dims, test_corr = RunCCA(v1_test, v2_test,dims=200).test_cca(model)\n",
    "test_corr.head()"
   ]
  },
  {
   "cell_type": "code",
   "execution_count": 29,
   "id": "a96a5aca",
   "metadata": {},
   "outputs": [
    {
     "data": {
      "image/png": "[encoded data removed]",
      "text/plain": [
       "<Figure size 432x288 with 1 Axes>"
      ]
     },
     "metadata": {},
     "output_type": "display_data"
    }
   ],
   "source": [
    "# plot train correlation vs test correlation\n",
    "fig, ax = plt.subplots()\n",
    "sns.set_style('white')\n",
    "dfs = [train_corr,test_corr]\n",
    "for df in dfs:\n",
    "    sns.lineplot(data = df, x='latent_dim',y='cor',ax=ax)\n",
    "fig.legend(labels=['Train', 'Test'], loc='center right', fontsize=15)\n",
    "plt.xlabel('Latent Dimensions', fontsize=15)\n",
    "plt.ylabel('Correlation', fontsize=15)\n",
    "\n",
    "plt.show()"
   ]
  },
  {
   "cell_type": "code",
   "execution_count": 21,
   "id": "ee5c970e",
   "metadata": {},
   "outputs": [],
   "source": [
    "v1_train = np.array(v1_train)\n",
    "v2_train = np.array(v2_train)"
   ]
  },
  {
   "cell_type": "code",
   "execution_count": 35,
   "id": "00dea7ef",
   "metadata": {},
   "outputs": [
    {
     "data": {
      "image/png": "[encoded data removed]",
      "text/plain": [
       "<Figure size 720x1080 with 3 Axes>"
      ]
     },
     "metadata": {},
     "output_type": "display_data"
    }
   ],
   "source": [
    "\n",
    "fig, axes = plt.subplots(3, 1, figsize=(10, 15))\n",
    "title = \"Learning Curves CCA\"\n",
    "cv = ShuffleSplit(n_splits=50, test_size=0.2, random_state=0)\n",
    "model = CCA()\n",
    "plot_learning_curve(model, title, \\\n",
    "                    (v1_train, v2_train), axes=axes, ylim=(0.4, 1.01), cv=cv, n_jobs=4)\n",
    "plt.show()"
   ]
  },
  {
   "cell_type": "markdown",
   "id": "b2b4c236",
   "metadata": {},
   "source": [
    "### Prediction\n",
    "\n",
    "#### 1. Euclidian Distance"
   ]
  },
  {
   "cell_type": "code",
   "execution_count": 70,
   "id": "3b84eb0e",
   "metadata": {},
   "outputs": [
    {
     "data": {
      "text/plain": [
       "5116"
      ]
     },
     "execution_count": 70,
     "metadata": {},
     "output_type": "execute_result"
    }
   ],
   "source": [
    "np.argmax(predicted_corr)"
   ]
  },
  {
   "cell_type": "code",
   "execution_count": 71,
   "id": "1ffacfb8",
   "metadata": {},
   "outputs": [
    {
     "data": {
      "text/plain": [
       "'Tannins'"
      ]
     },
     "execution_count": 71,
     "metadata": {},
     "output_type": "execute_result"
    }
   ],
   "source": [
    "train_df['cf_class'][5116]"
   ]
  },
  {
   "cell_type": "code",
   "execution_count": 54,
   "id": "3abbc142",
   "metadata": {},
   "outputs": [
    {
     "data": {
      "text/plain": [
       "-0.049430581683456515"
      ]
     },
     "execution_count": 54,
     "metadata": {},
     "output_type": "execute_result"
    }
   ],
   "source": [
    "cor = np.corrcoef(test_dims['test_z1'][0], train_dim['train_z1'][0])[0,1]\n",
    "cor"
   ]
  },
  {
   "cell_type": "code",
   "execution_count": 51,
   "id": "dbafe0ce",
   "metadata": {},
   "outputs": [],
   "source": [
    "from scipy.stats import pearsonr"
   ]
  },
  {
   "cell_type": "code",
   "execution_count": 52,
   "id": "0cf94bdd",
   "metadata": {},
   "outputs": [
    {
     "data": {
      "text/plain": [
       "(-0.04943058168345654, 0.48699429178046516)"
      ]
     },
     "execution_count": 52,
     "metadata": {},
     "output_type": "execute_result"
    }
   ],
   "source": [
    "cor = pearsonr(test_dims['test_z1'][0], train_dim['train_z1'][0])\n",
    "cor"
   ]
  },
  {
   "cell_type": "code",
   "execution_count": null,
   "id": "efdb1393",
   "metadata": {},
   "outputs": [],
   "source": []
  }
 ],
 "metadata": {
  "kernelspec": {
   "display_name": "Python 3 (ipykernel)",
   "language": "python",
   "name": "python3"
  },
  "language_info": {
   "codemirror_mode": {
    "name": "ipython",
    "version": 3
   },
   "file_extension": ".py",
   "mimetype": "text/x-python",
   "name": "python",
   "nbconvert_exporter": "python",
   "pygments_lexer": "ipython3",
   "version": "3.9.7"
  }
 },
 "nbformat": 4,
 "nbformat_minor": 5
}
