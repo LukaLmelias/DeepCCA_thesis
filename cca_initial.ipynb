{
 "cells": [
  {
   "cell_type": "code",
   "execution_count": 114,
   "id": "7a7a5d1a",
   "metadata": {},
   "outputs": [],
   "source": [
    "%matplotlib inline\n",
    "import os\n",
    "from cca_zoo.models import CCA\n",
    "from cca_zoo.data import generate_covariance_data\n",
    "from cca_zoo.models import rCCA\n",
    "from cca_zoo.model_selection import GridSearchCV\n",
    "from cca_zoo.deepmodels import architectures\n",
    "import seaborn as sns\n",
    "import pandas as pd\n",
    "import numpy as np\n",
    "from sklearn.model_selection import train_test_split\n",
    "from matplotlib import pyplot as plt\n",
    "os.chdir('../raw_data')"
   ]
  },
  {
   "cell_type": "markdown",
   "id": "c37cfb7a",
   "metadata": {},
   "source": [
    "#### Functions to load and or write to pickle files"
   ]
  },
  {
   "cell_type": "code",
   "execution_count": 110,
   "id": "8a2b40a5",
   "metadata": {},
   "outputs": [],
   "source": [
    "class Files:\n",
    "    def __init__(self, filename):\n",
    "        self.file = filename\n",
    "        \n",
    "    def write_to_file(self, data):\n",
    "        with open(self.file, 'wb') as f:\n",
    "            pickle.dump(data, f) \n",
    "        return None\n",
    "    \n",
    "    def load_pickle(self):\n",
    "        data = pd.read_pickle(self.file)\n",
    "        return data\n",
    "    \n",
    "    def load_csv(self, sep, usecols=None):\n",
    "        data = pd.read_csv(self.file, sep=sep, usecols=usecols)\n",
    "        return data\n",
    "        \n",
    "        \n",
    "    "
   ]
  },
  {
   "cell_type": "code",
   "execution_count": 212,
   "id": "d8d8477d",
   "metadata": {},
   "outputs": [
    {
     "data": {
      "text/plain": [
       "['ALL_GNPS.json',\n",
       " 'ALL_GNPS_15_12_2021_positive_annotated.pickle',\n",
       " 'ALL_GNPS_15_12_2021_positive_annotated_classifications.txt',\n",
       " 'model_300dim.pkl',\n",
       " 'mol2vec_embedding.pickle',\n",
       " 'ms2ds_embeddings_unique_GNPS_15_12_2021.pickle',\n",
       " 'ms2ds_model_GNPS_15_12_2021.hdf5',\n",
       " 'spec2vec_embeddings_unique_GNPS_15_12_2021.pickle',\n",
       " 'spec2vec_model_GNPS_15_12_2021.model',\n",
       " 'spec2vec_model_GNPS_15_12_2021.model.syn1neg.npy',\n",
       " 'spec2vec_model_GNPS_15_12_2021.model.wv.vectors.npy',\n",
       " 'spectra_unique_GNPS_15_12_2021.pickle']"
      ]
     },
     "execution_count": 212,
     "metadata": {},
     "output_type": "execute_result"
    }
   ],
   "source": [
    "os.listdir()"
   ]
  },
  {
   "cell_type": "code",
   "execution_count": 177,
   "id": "3f2829f1",
   "metadata": {},
   "outputs": [
    {
     "data": {
      "text/plain": [
       "20889"
      ]
     },
     "execution_count": 177,
     "metadata": {},
     "output_type": "execute_result"
    }
   ],
   "source": [
    "#load spec2vec embeddings\n",
    "path_spec2vec = './spec2vec_embeddings_unique_GNPS_15_12_2021.pickle'\n",
    "spec2vec = Files(path_spec2vec).load_pickle()#[:10000]\n",
    "len(spec2vec)\n"
   ]
  },
  {
   "cell_type": "code",
   "execution_count": 213,
   "id": "d76a8bdd",
   "metadata": {},
   "outputs": [
    {
     "data": {
      "text/plain": [
       "20889"
      ]
     },
     "execution_count": 213,
     "metadata": {},
     "output_type": "execute_result"
    }
   ],
   "source": [
    "#load ms2ds embeddings\n",
    "path_ms2ds = './ms2ds_embeddings_unique_GNPS_15_12_2021.pickle'\n",
    "ms2ds = Files(path_ms2ds).load_pickle()#[:10000]\n",
    "len(ms2ds)\n"
   ]
  },
  {
   "cell_type": "code",
   "execution_count": 178,
   "id": "bbb0a3cd",
   "metadata": {},
   "outputs": [
    {
     "data": {
      "text/plain": [
       "20889"
      ]
     },
     "execution_count": 178,
     "metadata": {},
     "output_type": "execute_result"
    }
   ],
   "source": [
    "\n",
    "#load mol2vec embeddings\n",
    "path_mol2vec = './mol2vec_embedding.pickle'\n",
    "mol2vec = Files(path_mol2vec).load_pickle()#[:10000]\n",
    "len(mol2vec)"
   ]
  },
  {
   "cell_type": "code",
   "execution_count": 230,
   "id": "2dab2ee3",
   "metadata": {},
   "outputs": [],
   "source": [
    "#split the dataset\n",
    "x_train, x_test, y_train, y_test = \\\n",
    "train_test_split(ms2ds, mol2vec, test_size=0.2, random_state=42)"
   ]
  },
  {
   "cell_type": "code",
   "execution_count": 242,
   "id": "2cc22c59",
   "metadata": {},
   "outputs": [],
   "source": [
    "#init CCA\n",
    "latent_dims=200\n",
    "linear_cca = CCA(latent_dims=latent_dims)"
   ]
  },
  {
   "cell_type": "code",
   "execution_count": 243,
   "id": "6d64da53",
   "metadata": {},
   "outputs": [],
   "source": [
    "#fit and transform\n",
    "train_z1, train_z2 = linear_cca.fit_transform([x_train, y_train])"
   ]
  },
  {
   "cell_type": "code",
   "execution_count": 244,
   "id": "20e73f5e",
   "metadata": {},
   "outputs": [
    {
     "data": {
      "text/plain": [
       "200"
      ]
     },
     "execution_count": 244,
     "metadata": {},
     "output_type": "execute_result"
    }
   ],
   "source": [
    "# extract correlation between the views\n",
    "train_cor=linear_cca.score([x_train, y_train])\n",
    "len(train_cor)"
   ]
  },
  {
   "cell_type": "code",
   "execution_count": 245,
   "id": "8423c27b",
   "metadata": {},
   "outputs": [],
   "source": [
    "# transform the test dataset\n",
    "test_z1, test_z2 = linear_cca.transform([x_test,y_test])\n",
    "test_cor = linear_cca.score([x_test, y_test])"
   ]
  },
  {
   "cell_type": "code",
   "execution_count": 246,
   "id": "2db8451d",
   "metadata": {},
   "outputs": [
    {
     "data": {
      "text/html": [
       "<div>\n",
       "<style scoped>\n",
       "    .dataframe tbody tr th:only-of-type {\n",
       "        vertical-align: middle;\n",
       "    }\n",
       "\n",
       "    .dataframe tbody tr th {\n",
       "        vertical-align: top;\n",
       "    }\n",
       "\n",
       "    .dataframe thead th {\n",
       "        text-align: right;\n",
       "    }\n",
       "</style>\n",
       "<table border=\"1\" class=\"dataframe\">\n",
       "  <thead>\n",
       "    <tr style=\"text-align: right;\">\n",
       "      <th></th>\n",
       "      <th>latent_dim</th>\n",
       "      <th>cor</th>\n",
       "    </tr>\n",
       "  </thead>\n",
       "  <tbody>\n",
       "    <tr>\n",
       "      <th>0</th>\n",
       "      <td>1</td>\n",
       "      <td>0.899808</td>\n",
       "    </tr>\n",
       "    <tr>\n",
       "      <th>1</th>\n",
       "      <td>2</td>\n",
       "      <td>0.844028</td>\n",
       "    </tr>\n",
       "    <tr>\n",
       "      <th>2</th>\n",
       "      <td>3</td>\n",
       "      <td>0.806704</td>\n",
       "    </tr>\n",
       "    <tr>\n",
       "      <th>3</th>\n",
       "      <td>4</td>\n",
       "      <td>0.797919</td>\n",
       "    </tr>\n",
       "    <tr>\n",
       "      <th>4</th>\n",
       "      <td>5</td>\n",
       "      <td>0.753063</td>\n",
       "    </tr>\n",
       "  </tbody>\n",
       "</table>\n",
       "</div>"
      ],
      "text/plain": [
       "   latent_dim       cor\n",
       "0           1  0.899808\n",
       "1           2  0.844028\n",
       "2           3  0.806704\n",
       "3           4  0.797919\n",
       "4           5  0.753063"
      ]
     },
     "execution_count": 246,
     "metadata": {},
     "output_type": "execute_result"
    }
   ],
   "source": [
    "# create a train pd for plotting\n",
    "dims = [i for i in range(1,latent_dims+1)]\n",
    "dims\n",
    "train_cor_df = pd.DataFrame(list(zip(dims,train_cor)),\\\n",
    "                      columns=['latent_dim','cor']) \n",
    "train_cor_df.head()"
   ]
  },
  {
   "cell_type": "code",
   "execution_count": 247,
   "id": "ef77ce1e",
   "metadata": {},
   "outputs": [
    {
     "data": {
      "text/html": [
       "<div>\n",
       "<style scoped>\n",
       "    .dataframe tbody tr th:only-of-type {\n",
       "        vertical-align: middle;\n",
       "    }\n",
       "\n",
       "    .dataframe tbody tr th {\n",
       "        vertical-align: top;\n",
       "    }\n",
       "\n",
       "    .dataframe thead th {\n",
       "        text-align: right;\n",
       "    }\n",
       "</style>\n",
       "<table border=\"1\" class=\"dataframe\">\n",
       "  <thead>\n",
       "    <tr style=\"text-align: right;\">\n",
       "      <th></th>\n",
       "      <th>latent_dim</th>\n",
       "      <th>cor</th>\n",
       "    </tr>\n",
       "  </thead>\n",
       "  <tbody>\n",
       "    <tr>\n",
       "      <th>0</th>\n",
       "      <td>1</td>\n",
       "      <td>0.889260</td>\n",
       "    </tr>\n",
       "    <tr>\n",
       "      <th>1</th>\n",
       "      <td>2</td>\n",
       "      <td>0.826607</td>\n",
       "    </tr>\n",
       "    <tr>\n",
       "      <th>2</th>\n",
       "      <td>3</td>\n",
       "      <td>0.769665</td>\n",
       "    </tr>\n",
       "    <tr>\n",
       "      <th>3</th>\n",
       "      <td>4</td>\n",
       "      <td>0.785805</td>\n",
       "    </tr>\n",
       "    <tr>\n",
       "      <th>4</th>\n",
       "      <td>5</td>\n",
       "      <td>0.740144</td>\n",
       "    </tr>\n",
       "  </tbody>\n",
       "</table>\n",
       "</div>"
      ],
      "text/plain": [
       "   latent_dim       cor\n",
       "0           1  0.889260\n",
       "1           2  0.826607\n",
       "2           3  0.769665\n",
       "3           4  0.785805\n",
       "4           5  0.740144"
      ]
     },
     "execution_count": 247,
     "metadata": {},
     "output_type": "execute_result"
    }
   ],
   "source": [
    "# create a test pd for plotting\n",
    "dims = [i for i in range(1,latent_dims+1)]\n",
    "\n",
    "test_cor_df = pd.DataFrame(list(zip(dims,test_cor)),\\\n",
    "                      columns=['latent_dim','cor']) \n",
    "test_cor_df.head()"
   ]
  },
  {
   "cell_type": "code",
   "execution_count": 248,
   "id": "18b527cf",
   "metadata": {},
   "outputs": [
    {
     "data": {
      "image/png": "[encoded data removed]",
      "text/plain": [
       "<Figure size 432x288 with 1 Axes>"
      ]
     },
     "metadata": {},
     "output_type": "display_data"
    }
   ],
   "source": [
    "fig, ax = plt.subplots()\n",
    "sns.set_style('darkgrid')\n",
    "dfs = [train_cor_df,test_cor_df]\n",
    "for df in dfs:\n",
    "    sns.lineplot(data = df, x='latent_dim',y='cor',ax=ax)\n",
    "fig.legend(labels=['train', 'test'], loc='center right')\n",
    "plt.show()\n"
   ]
  },
  {
   "cell_type": "code",
   "execution_count": 241,
   "id": "990dd198",
   "metadata": {},
   "outputs": [
    {
     "data": {
      "text/plain": [
       "200"
      ]
     },
     "execution_count": 241,
     "metadata": {},
     "output_type": "execute_result"
    }
   ],
   "source": [
    "len(ms2ds[0])#, test_z2"
   ]
  }
 ],
 "metadata": {
  "kernelspec": {
   "display_name": "Python 3 (ipykernel)",
   "language": "python",
   "name": "python3"
  },
  "language_info": {
   "codemirror_mode": {
    "name": "ipython",
    "version": 3
   },
   "file_extension": ".py",
   "mimetype": "text/x-python",
   "name": "python",
   "nbconvert_exporter": "python",
   "pygments_lexer": "ipython3",
   "version": "3.9.7"
  }
 },
 "nbformat": 4,
 "nbformat_minor": 5
}
