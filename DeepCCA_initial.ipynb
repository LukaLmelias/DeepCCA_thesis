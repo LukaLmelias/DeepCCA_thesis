{
 "cells": [
  {
   "cell_type": "code",
   "execution_count": 51,
   "id": "479ef6e2",
   "metadata": {},
   "outputs": [],
   "source": [
    "import pytorch_lightning as pl\n",
    "from cca_zoo.deepmodels import (\n",
    "    DCCA,\n",
    "    DCCA_NOI,\n",
    "    DCCA_SDL,\n",
    "    BarlowTwins,\n",
    ")\n",
    "from cca_zoo.deepmodels import architectures\n",
    "from cca_zoo.deepmodels import get_dataloaders\n",
    "from cca_zoo.data import CCA_Dataset\n",
    "from cca_zoo.plotting import pairplot_label\n",
    "from sklearn.model_selection import train_test_split\n",
    "import os\n",
    "import pandas as pd\n",
    "import numpy as np\n",
    "\n",
    "\n",
    "os.chdir('../raw_data')\n"
   ]
  },
  {
   "cell_type": "code",
   "execution_count": 25,
   "id": "01b02875",
   "metadata": {},
   "outputs": [
    {
     "data": {
      "text/plain": [
       "['ALL_GNPS.json',\n",
       " 'ALL_GNPS_15_12_2021_positive_annotated.pickle',\n",
       " 'ALL_GNPS_15_12_2021_positive_annotated_classifications.txt',\n",
       " 'all_ms2ds_embedding.pickle',\n",
       " 'all_spec_embedding.pickle',\n",
       " 'df_ALL_GNPS_15_12_2021_positive_annotated_embeddings_class.pickle',\n",
       " 'df_classes_all_embeddings.pickle',\n",
       " 'df_classes_max3_embeddings.pickle',\n",
       " 'df_classes_max5_embeddings.pickle',\n",
       " 'df_classes_unique_embeddings.pickle',\n",
       " 'GNPS_15_12_2021_ms2ds_embeddings.pickle',\n",
       " 'max3_mol2vec_embedding.pickle',\n",
       " 'max3_ms2ds_embedding.pickle',\n",
       " 'max3_spec_embedding.pickle',\n",
       " 'max5_mol2vec_embedding.pickle',\n",
       " 'max5_ms2ds_embedding.pickle',\n",
       " 'max5_spec_embedding.pickle',\n",
       " 'model_300dim.pkl',\n",
       " 'mol2vec_embedding.pickle',\n",
       " 'ms2ds_embeddings_unique_GNPS_15_12_2021.pickle',\n",
       " 'ms2ds_model_GNPS_15_12_2021.hdf5',\n",
       " 'plot_validation.py',\n",
       " 'spec2vec_embeddings_unique_GNPS_15_12_2021.pickle',\n",
       " 'spec2vec_model_GNPS_15_12_2021.model',\n",
       " 'spec2vec_model_GNPS_15_12_2021.model.syn1neg.npy',\n",
       " 'spec2vec_model_GNPS_15_12_2021.model.wv.vectors.npy',\n",
       " 'spectra_unique_GNPS_15_12_2021.pickle',\n",
       " 'unique_mol2vec_embedding.pickle',\n",
       " '__pycache__']"
      ]
     },
     "execution_count": 25,
     "metadata": {},
     "output_type": "execute_result"
    }
   ],
   "source": [
    "os.listdir()"
   ]
  },
  {
   "cell_type": "markdown",
   "id": "c37cfb7a",
   "metadata": {},
   "source": [
    "#### Functions to load and or write to pickle files"
   ]
  },
  {
   "cell_type": "code",
   "execution_count": 26,
   "id": "8a2b40a5",
   "metadata": {},
   "outputs": [],
   "source": [
    "class Files:\n",
    "    def __init__(self, filename):\n",
    "        self.file = filename\n",
    "        \n",
    "    def write_to_file(self, data):\n",
    "        with open(self.file, 'wb') as f:\n",
    "            pickle.dump(data, f) \n",
    "        return None\n",
    "    \n",
    "    def load_pickle(self):\n",
    "        data = pd.read_pickle(self.file)\n",
    "        return data\n",
    "    \n",
    "    def load_csv(self, sep, usecols=None):\n",
    "        data = pd.read_csv(self.file, sep=sep, usecols=usecols)\n",
    "        return data\n",
    "        \n",
    "        \n",
    "    "
   ]
  },
  {
   "cell_type": "code",
   "execution_count": 29,
   "id": "adc84178",
   "metadata": {},
   "outputs": [
    {
     "data": {
      "text/plain": [
       "(41447, 8)"
      ]
     },
     "execution_count": 29,
     "metadata": {},
     "output_type": "execute_result"
    }
   ],
   "source": [
    "# load df with all info\n",
    "path = './df_classes_max3_embeddings.pickle'\n",
    "df_all = Files(path).load_pickle()#[:10000] #just a subset for scripting\n",
    "df_all.shape"
   ]
  },
  {
   "cell_type": "code",
   "execution_count": 35,
   "id": "5b2ec76a",
   "metadata": {},
   "outputs": [],
   "source": [
    "#split the dataset\n",
    "train_df, test_df = \\\n",
    "train_test_split(df_all, test_size=0.3, random_state=42)#, stratify=df_all['cf_class'])\n",
    "\n",
    "v1_train, v1_test = np.array([x for x in train_df['ms2ds']]), np.array([x for x in test_df['ms2ds']])\n",
    "v2_train, v2_test = np.array([x for x in train_df['mol2vec']]), np.array([x for x in test_df['mol2vec']])"
   ]
  },
  {
   "cell_type": "code",
   "execution_count": 60,
   "id": "76eb6382",
   "metadata": {},
   "outputs": [],
   "source": [
    "train_dataset = CCA_Dataset([v1_train, v2_train])\n",
    "test_dataset = CCA_Dataset([v1_test, v2_test])\n",
    "\n",
    "\n",
    "train_loader, val_loader = get_dataloaders(train_dataset, test_dataset, batch_size=128, num_workers=6,\n",
    "                                              drop_last=False)"
   ]
  },
  {
   "cell_type": "code",
   "execution_count": 61,
   "id": "9b5a493e",
   "metadata": {},
   "outputs": [],
   "source": [
    " # Setup encoders\n",
    "encoder_1 = architectures.Encoder(latent_dims=10, feature_size=v1_train.shape[1])\n",
    "                                     #layer_sizes=(128))\n",
    "encoder_2 = architectures.Encoder(latent_dims=10, feature_size=v2_train.shape[1])"
   ]
  },
  {
   "cell_type": "code",
   "execution_count": 64,
   "id": "1ecc4d48",
   "metadata": {},
   "outputs": [
    {
     "name": "stderr",
     "output_type": "stream",
     "text": [
      "GPU available: False, used: False\n",
      "TPU available: False, using: 0 TPU cores\n",
      "IPU available: False, using: 0 IPUs\n",
      "HPU available: False, using: 0 HPUs\n",
      "\n",
      "  | Name     | Type       | Params\n",
      "----------------------------------------\n",
      "0 | encoders | ModuleList | 66.8 K\n",
      "----------------------------------------\n",
      "66.8 K    Trainable params\n",
      "0         Non-trainable params\n",
      "66.8 K    Total params\n",
      "0.267     Total estimated model params size (MB)\n"
     ]
    },
    {
     "data": {
      "application/json": {
       "ascii": false,
       "bar_format": null,
       "colour": null,
       "elapsed": 0.01907205581665039,
       "initial": 0,
       "n": 0,
       "ncols": 119,
       "nrows": 29,
       "postfix": null,
       "prefix": "Sanity Checking",
       "rate": null,
       "total": null,
       "unit": "it",
       "unit_divisor": 1000,
       "unit_scale": false
      },
      "application/vnd.jupyter.widget-view+json": {
       "model_id": "",
       "version_major": 2,
       "version_minor": 0
      },
      "text/plain": [
       "Sanity Checking: 0it [00:00, ?it/s]"
      ]
     },
     "metadata": {},
     "output_type": "display_data"
    },
    {
     "data": {
      "application/json": {
       "ascii": false,
       "bar_format": null,
       "colour": null,
       "elapsed": 0.015617847442626953,
       "initial": 0,
       "n": 0,
       "ncols": 119,
       "nrows": 29,
       "postfix": null,
       "prefix": "Training",
       "rate": null,
       "total": null,
       "unit": "it",
       "unit_divisor": 1000,
       "unit_scale": false
      },
      "application/vnd.jupyter.widget-view+json": {
       "model_id": "1519eecbab9e481188fbbcdbdd19c42e",
       "version_major": 2,
       "version_minor": 0
      },
      "text/plain": [
       "Training: 0it [00:00, ?it/s]"
      ]
     },
     "metadata": {},
     "output_type": "display_data"
    },
    {
     "data": {
      "application/json": {
       "ascii": false,
       "bar_format": null,
       "colour": null,
       "elapsed": 0,
       "initial": 0,
       "n": 0,
       "ncols": 119,
       "nrows": 29,
       "postfix": null,
       "prefix": "Validation",
       "rate": null,
       "total": null,
       "unit": "it",
       "unit_divisor": 1000,
       "unit_scale": false
      },
      "application/vnd.jupyter.widget-view+json": {
       "model_id": "",
       "version_major": 2,
       "version_minor": 0
      },
      "text/plain": [
       "Validation: 0it [00:00, ?it/s]"
      ]
     },
     "metadata": {},
     "output_type": "display_data"
    },
    {
     "data": {
      "application/json": {
       "ascii": false,
       "bar_format": null,
       "colour": null,
       "elapsed": 0.015627622604370117,
       "initial": 0,
       "n": 0,
       "ncols": 119,
       "nrows": 29,
       "postfix": null,
       "prefix": "Validation",
       "rate": null,
       "total": null,
       "unit": "it",
       "unit_divisor": 1000,
       "unit_scale": false
      },
      "application/vnd.jupyter.widget-view+json": {
       "model_id": "",
       "version_major": 2,
       "version_minor": 0
      },
      "text/plain": [
       "Validation: 0it [00:00, ?it/s]"
      ]
     },
     "metadata": {},
     "output_type": "display_data"
    },
    {
     "name": "stderr",
     "output_type": "stream",
     "text": [
      "C:\\Users\\lmeli\\AppData\\Local\\Programs\\Python\\Python39\\lib\\site-packages\\pytorch_lightning\\trainer\\trainer.py:653: UserWarning: Detected KeyboardInterrupt, attempting graceful shutdown...\n",
      "  rank_zero_warn(\"Detected KeyboardInterrupt, attempting graceful shutdown...\")\n",
      "Exception ignored in: <function _MultiProcessingDataLoaderIter.__del__ at 0x00000259FC49E040>\n",
      "Traceback (most recent call last):\n",
      "  File \"C:\\Users\\lmeli\\AppData\\Local\\Programs\\Python\\Python39\\lib\\site-packages\\torch\\utils\\data\\dataloader.py\", line 1510, in __del__\n",
      "    self._shutdown_workers()\n",
      "  File \"C:\\Users\\lmeli\\AppData\\Local\\Programs\\Python\\Python39\\lib\\site-packages\\torch\\utils\\data\\dataloader.py\", line 1468, in _shutdown_workers\n",
      "    if self._persistent_workers or self._workers_status[worker_id]:\n",
      "AttributeError: '_MultiProcessingDataLoaderIter' object has no attribute '_workers_status'\n"
     ]
    }
   ],
   "source": [
    "dcca = DCCA(latent_dims=10, encoders=[encoder_1, encoder_2])\n",
    "trainer = pl.Trainer(max_epochs=10, enable_checkpointing=False)\n",
    "\n",
    "trainer.fit(dcca, train_loader, val_loader)"
   ]
  },
  {
   "cell_type": "code",
   "execution_count": null,
   "id": "0165c206",
   "metadata": {},
   "outputs": [],
   "source": []
  },
  {
   "cell_type": "code",
   "execution_count": null,
   "id": "bf12f8b4",
   "metadata": {},
   "outputs": [],
   "source": []
  }
 ],
 "metadata": {
  "kernelspec": {
   "display_name": "Python 3 (ipykernel)",
   "language": "python",
   "name": "python3"
  },
  "language_info": {
   "codemirror_mode": {
    "name": "ipython",
    "version": 3
   },
   "file_extension": ".py",
   "mimetype": "text/x-python",
   "name": "python",
   "nbconvert_exporter": "python",
   "pygments_lexer": "ipython3",
   "version": "3.9.7"
  }
 },
 "nbformat": 4,
 "nbformat_minor": 5
}
