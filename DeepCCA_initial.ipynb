{
 "cells": [
  {
   "cell_type": "code",
   "execution_count": 1,
   "id": "479ef6e2",
   "metadata": {},
   "outputs": [],
   "source": [
    "import pytorch_lightning as pl\n",
    "from matplotlib import pyplot as plt\n",
    "import seaborn as sns\n",
    "from cca_zoo.deepmodels import (\n",
    "    DCCA,\n",
    "    DCCA_NOI,\n",
    "    DCCA_SDL,\n",
    "    BarlowTwins,\n",
    "    get_dataloaders,\n",
    "    \n",
    ")\n",
    "from cca_zoo.deepmodels.utils import architectures, objectives\n",
    "from cca_zoo.plotting import pairplot_label\n",
    "from cca_zoo.data import CCA_Dataset\n",
    "from cca_zoo.models import CCA\n",
    "\n",
    "from sklearn.model_selection import train_test_split\n",
    "import os\n",
    "import pandas as pd\n",
    "import numpy as np\n",
    "\n",
    "\n",
    "os.chdir('../raw_data')\n"
   ]
  },
  {
   "cell_type": "code",
   "execution_count": 3,
   "id": "01b02875",
   "metadata": {},
   "outputs": [
    {
     "data": {
      "text/plain": [
       "['ALL_GNPS.json',\n",
       " 'ALL_GNPS_15_12_2021_positive_annotated.pickle',\n",
       " 'ALL_GNPS_15_12_2021_positive_annotated_classifications.txt',\n",
       " 'all_ms2ds_embedding.pickle',\n",
       " 'all_spec_embedding.pickle',\n",
       " 'df_ALL_GNPS_15_12_2021_positive_annotated_embeddings_class.pickle',\n",
       " 'df_classes_all_embeddings.pickle',\n",
       " 'df_classes_max3_embeddings.pickle',\n",
       " 'df_classes_max5_embeddings.pickle',\n",
       " 'df_classes_unique_embeddings.pickle',\n",
       " 'GNPS_15_12_2021_ms2ds_embeddings.pickle',\n",
       " 'lightning_logs',\n",
       " 'max3_mol2vec_embedding.pickle',\n",
       " 'max3_ms2ds_embedding.pickle',\n",
       " 'max3_spec_embedding.pickle',\n",
       " 'max5_mol2vec_embedding.pickle',\n",
       " 'max5_ms2ds_embedding.pickle',\n",
       " 'max5_spec_embedding.pickle',\n",
       " 'model_300dim.pkl',\n",
       " 'mol2vec_embedding.pickle',\n",
       " 'ms2ds_embeddings_unique_GNPS_15_12_2021.pickle',\n",
       " 'ms2ds_model_GNPS_15_12_2021.hdf5',\n",
       " 'ms2ds_pred_euc',\n",
       " 'plot_validation.py',\n",
       " 'spec2vec_embeddings_unique_GNPS_15_12_2021.pickle',\n",
       " 'spec2vec_model_GNPS_15_12_2021.model',\n",
       " 'spec2vec_model_GNPS_15_12_2021.model.syn1neg.npy',\n",
       " 'spec2vec_model_GNPS_15_12_2021.model.wv.vectors.npy',\n",
       " 'spectra_unique_GNPS_15_12_2021.pickle',\n",
       " 'unique_mol2vec_embedding.pickle',\n",
       " '__pycache__']"
      ]
     },
     "execution_count": 3,
     "metadata": {},
     "output_type": "execute_result"
    }
   ],
   "source": [
    "os.listdir()"
   ]
  },
  {
   "cell_type": "markdown",
   "id": "c37cfb7a",
   "metadata": {},
   "source": [
    "#### Functions to load and or write to pickle files"
   ]
  },
  {
   "cell_type": "code",
   "execution_count": 2,
   "id": "8a2b40a5",
   "metadata": {},
   "outputs": [],
   "source": [
    "class Files:\n",
    "    def __init__(self, filename):\n",
    "        self.file = filename\n",
    "        \n",
    "    def write_to_file(self, data):\n",
    "        with open(self.file, 'wb') as f:\n",
    "            pickle.dump(data, f) \n",
    "        return None\n",
    "    \n",
    "    def load_pickle(self):\n",
    "        data = pd.read_pickle(self.file)\n",
    "        return data\n",
    "    \n",
    "    def load_csv(self, sep, usecols=None):\n",
    "        data = pd.read_csv(self.file, sep=sep, usecols=usecols)\n",
    "        return data\n",
    "        \n",
    "        \n",
    "    "
   ]
  },
  {
   "cell_type": "code",
   "execution_count": 3,
   "id": "adc84178",
   "metadata": {},
   "outputs": [
    {
     "data": {
      "text/plain": [
       "(20889, 8)"
      ]
     },
     "execution_count": 3,
     "metadata": {},
     "output_type": "execute_result"
    }
   ],
   "source": [
    "# load df with all info\n",
    "path = './df_classes_unique_embeddings.pickle'\n",
    "df_all = Files(path).load_pickle()#[:2000] #just a subset for scripting\n",
    "df_all.shape"
   ]
  },
  {
   "cell_type": "code",
   "execution_count": 6,
   "id": "5b2ec76a",
   "metadata": {},
   "outputs": [],
   "source": [
    "#split into train and test dataset\n",
    "train_df, test_df = \\\n",
    "train_test_split(df_all, test_size=0.3, random_state=42)#, stratify=df_all['cf_class'])\n",
    "\n",
    "#Split train dataset into train and validation set\n",
    "train_df, val_df = train_test_split(train_df, test_size=0.1, random_state=42)\n",
    "\n",
    "#required for early stopage\n",
    "val_df['set'] = 'val'\n",
    "#extract the 2 view, v1 == spectra embeddings, v2==structure embeddings\n",
    "v1_train, v1_test = np.array([x for x in train_df['ms2ds']]), np.array([x for x in test_df['ms2ds']])\n",
    "v2_train, v2_test = np.array([x for x in train_df['mol2vec']]), np.array([x for x in test_df['mol2vec']])\n",
    "\n",
    "# validation\n",
    "v1_val, v2_val = np.array([x for x in val_df['ms2ds']]), np.array([x for x in val_df['mol2vec']])"
   ]
  },
  {
   "cell_type": "code",
   "execution_count": 7,
   "id": "76eb6382",
   "metadata": {},
   "outputs": [],
   "source": [
    "# What does CCA dataset do????\n",
    "train_dataset = CCA_Dataset([v1_train, v2_train])\n",
    "test_dataset = CCA_Dataset([v1_test, v2_test])\n",
    "val_dataset = CCA_Dataset([v1_val, v2_val])\n",
    "\n",
    "train_loader, val_loader = get_dataloaders(train_dataset, val_dataset, batch_size=128, num_workers=6,\n",
    "                                              drop_last=False)\n",
    "test_loader = get_dataloaders(test_dataset,batch_size=128, num_workers=6,\n",
    "                                              drop_last=False)"
   ]
  },
  {
   "cell_type": "code",
   "execution_count": 10,
   "id": "aaaf6f62",
   "metadata": {},
   "outputs": [
    {
     "name": "stderr",
     "output_type": "stream",
     "text": [
      "GPU available: False, used: False\n",
      "TPU available: False, using: 0 TPU cores\n",
      "IPU available: False, using: 0 IPUs\n",
      "HPU available: False, using: 0 HPUs\n",
      "\n",
      "  | Name     | Type       | Params\n",
      "----------------------------------------\n",
      "0 | encoders | ModuleList | 66.8 K\n",
      "----------------------------------------\n",
      "66.8 K    Trainable params\n",
      "0         Non-trainable params\n",
      "66.8 K    Total params\n",
      "0.267     Total estimated model params size (MB)\n"
     ]
    },
    {
     "data": {
      "application/json": {
       "ascii": false,
       "bar_format": null,
       "colour": null,
       "elapsed": 0.029135465621948242,
       "initial": 0,
       "n": 0,
       "ncols": 119,
       "nrows": 29,
       "postfix": null,
       "prefix": "Sanity Checking",
       "rate": null,
       "total": null,
       "unit": "it",
       "unit_divisor": 1000,
       "unit_scale": false
      },
      "application/vnd.jupyter.widget-view+json": {
       "model_id": "",
       "version_major": 2,
       "version_minor": 0
      },
      "text/plain": [
       "Sanity Checking: 0it [00:00, ?it/s]"
      ]
     },
     "metadata": {},
     "output_type": "display_data"
    },
    {
     "data": {
      "application/json": {
       "ascii": false,
       "bar_format": null,
       "colour": null,
       "elapsed": 0.013039112091064453,
       "initial": 0,
       "n": 0,
       "ncols": 119,
       "nrows": 29,
       "postfix": null,
       "prefix": "Training",
       "rate": null,
       "total": null,
       "unit": "it",
       "unit_divisor": 1000,
       "unit_scale": false
      },
      "application/vnd.jupyter.widget-view+json": {
       "model_id": "12d0be908b814503b8b8cbe7ef033dc8",
       "version_major": 2,
       "version_minor": 0
      },
      "text/plain": [
       "Training: 0it [00:00, ?it/s]"
      ]
     },
     "metadata": {},
     "output_type": "display_data"
    },
    {
     "data": {
      "application/json": {
       "ascii": false,
       "bar_format": null,
       "colour": null,
       "elapsed": 0.018720149993896484,
       "initial": 0,
       "n": 0,
       "ncols": 119,
       "nrows": 29,
       "postfix": null,
       "prefix": "Validation",
       "rate": null,
       "total": null,
       "unit": "it",
       "unit_divisor": 1000,
       "unit_scale": false
      },
      "application/vnd.jupyter.widget-view+json": {
       "model_id": "",
       "version_major": 2,
       "version_minor": 0
      },
      "text/plain": [
       "Validation: 0it [00:00, ?it/s]"
      ]
     },
     "metadata": {},
     "output_type": "display_data"
    },
    {
     "data": {
      "application/json": {
       "ascii": false,
       "bar_format": null,
       "colour": null,
       "elapsed": 0.03077077865600586,
       "initial": 0,
       "n": 0,
       "ncols": 119,
       "nrows": 29,
       "postfix": null,
       "prefix": "Validation",
       "rate": null,
       "total": null,
       "unit": "it",
       "unit_divisor": 1000,
       "unit_scale": false
      },
      "application/vnd.jupyter.widget-view+json": {
       "model_id": "",
       "version_major": 2,
       "version_minor": 0
      },
      "text/plain": [
       "Validation: 0it [00:00, ?it/s]"
      ]
     },
     "metadata": {},
     "output_type": "display_data"
    },
    {
     "data": {
      "application/json": {
       "ascii": false,
       "bar_format": null,
       "colour": null,
       "elapsed": 0.016670703887939453,
       "initial": 0,
       "n": 0,
       "ncols": 119,
       "nrows": 29,
       "postfix": null,
       "prefix": "Validation",
       "rate": null,
       "total": null,
       "unit": "it",
       "unit_divisor": 1000,
       "unit_scale": false
      },
      "application/vnd.jupyter.widget-view+json": {
       "model_id": "",
       "version_major": 2,
       "version_minor": 0
      },
      "text/plain": [
       "Validation: 0it [00:00, ?it/s]"
      ]
     },
     "metadata": {},
     "output_type": "display_data"
    },
    {
     "data": {
      "application/json": {
       "ascii": false,
       "bar_format": null,
       "colour": null,
       "elapsed": 0.016463518142700195,
       "initial": 0,
       "n": 0,
       "ncols": 119,
       "nrows": 29,
       "postfix": null,
       "prefix": "Validation",
       "rate": null,
       "total": null,
       "unit": "it",
       "unit_divisor": 1000,
       "unit_scale": false
      },
      "application/vnd.jupyter.widget-view+json": {
       "model_id": "",
       "version_major": 2,
       "version_minor": 0
      },
      "text/plain": [
       "Validation: 0it [00:00, ?it/s]"
      ]
     },
     "metadata": {},
     "output_type": "display_data"
    }
   ],
   "source": [
    "#params\n",
    "N = len(train_dataset)\n",
    "latent_dims = 10\n",
    "epochs = 100\n",
    "#cca = CCA(latent_dims=latent_dims).fit((X, Y))\n",
    "\n",
    "# define encoders\n",
    "encoder_1 = architectures.Encoder(latent_dims=10, feature_size=v1_train.shape[1])\n",
    "                                     \n",
    "encoder_2 = architectures.Encoder(latent_dims=10, feature_size=v2_train.shape[1])\n",
    "\n",
    "# define variant algorithmns\n",
    "# 1. DCCA\n",
    "dcca = DCCA(\n",
    "        latent_dims=latent_dims,\n",
    "        encoders=[encoder_1, encoder_2],\n",
    "        objective=objectives.CCA,\n",
    "        )\n",
    "\n",
    "# 2. SDL\n",
    "sdl = DCCA_SDL(latent_dims,\n",
    "                N=N, encoders=[encoder_1, encoder_2],\n",
    "                lam=1e-2, lr=1e-3)\n",
    "\n",
    "# Define the trainer\n",
    "trainer = pl.Trainer(\n",
    "        max_epochs=epochs, log_every_n_steps=1,\n",
    "        callbacks=[pl.callbacks.early_stopping.EarlyStopping(monitor=\"val/corr\")])# early stopage to reduce overfitting\n",
    "\n",
    "# train\n",
    "trainer.fit(dcca, train_loader,val_loader)\n",
    "\n",
    "#transform the views to get z projections\n"
   ]
  },
  {
   "cell_type": "code",
   "execution_count": 11,
   "id": "4470bea1",
   "metadata": {},
   "outputs": [
    {
     "data": {
      "text/plain": [
       "array([0.91818828, 0.88286643, 0.87276207, 0.8436381 , 0.82701612,\n",
       "       0.77876516, 0.77331734, 0.76270082, 0.74518636, 0.69097164])"
      ]
     },
     "execution_count": 11,
     "metadata": {},
     "output_type": "execute_result"
    }
   ],
   "source": [
    "dcca_corr = dcca.score(train_loader)\n",
    "dcca_corr"
   ]
  },
  {
   "cell_type": "code",
   "execution_count": 12,
   "id": "f3125743",
   "metadata": {},
   "outputs": [
    {
     "data": {
      "text/plain": [
       "array([0.91202014, 0.87501619, 0.86905056, 0.83486469, 0.81041231,\n",
       "       0.75218582, 0.73686877, 0.72448578, 0.68681664, 0.66164223])"
      ]
     },
     "execution_count": 12,
     "metadata": {},
     "output_type": "execute_result"
    }
   ],
   "source": [
    "dcca_test_corr = dcca.score(test_loader)\n",
    "dcca_test_corr"
   ]
  },
  {
   "cell_type": "code",
   "execution_count": 161,
   "id": "97b02124",
   "metadata": {},
   "outputs": [
    {
     "data": {
      "text/plain": [
       "array([0.82638609, 0.7842669 , 0.72307127, 0.69809542, 0.66365872])"
      ]
     },
     "execution_count": 161,
     "metadata": {},
     "output_type": "execute_result"
    }
   ],
   "source": [
    "sdl_train_corr = sdl.score(train_loader)\n",
    "sdl_train_corr[0:5]"
   ]
  },
  {
   "cell_type": "code",
   "execution_count": 162,
   "id": "a2888fed",
   "metadata": {},
   "outputs": [
    {
     "data": {
      "text/plain": [
       "array([0.84406029, 0.78790545, 0.73411914, 0.69159715, 0.68054101])"
      ]
     },
     "execution_count": 162,
     "metadata": {},
     "output_type": "execute_result"
    }
   ],
   "source": [
    "sdl_test_corr = sdl.score(test_loader)\n",
    "sdl_test_corr[0:5]"
   ]
  },
  {
   "cell_type": "code",
   "execution_count": 14,
   "id": "fe9c24e9",
   "metadata": {},
   "outputs": [
    {
     "data": {
      "image/png": "[encoded data removed]",
      "text/plain": [
       "<Figure size 432x288 with 1 Axes>"
      ]
     },
     "metadata": {},
     "output_type": "display_data"
    }
   ],
   "source": [
    "# plot train correlation vs test correlation\n",
    "x=[x for x in range(latent_dims)]\n",
    "fig, ax = plt.subplots()\n",
    "sns.set_style('whitegrid')\n",
    "dfs = [dcca_corr,dcca_test_corr]\n",
    "for df in dfs:\n",
    "    sns.lineplot(x=x,y=df,ax=ax)\n",
    "fig.legend(labels=['Train', 'Test'], loc='center right', fontsize=15)\n",
    "plt.xlabel('Latent Dimensions', fontsize=15)\n",
    "plt.ylabel('Correlation', fontsize=15)\n",
    "plt.ylim(0, 1)\n",
    "plt.xlim(0, latent_dims)\n",
    "plt.yticks(np.arange(0.3, 1, step=0.1))\n",
    "plt.show()"
   ]
  },
  {
   "cell_type": "code",
   "execution_count": 175,
   "id": "39b7b792",
   "metadata": {},
   "outputs": [],
   "source": [
    "#score test dataset\n",
    "# check the validation loop warning"
   ]
  },
  {
   "cell_type": "code",
   "execution_count": 78,
   "id": "a3661ace",
   "metadata": {},
   "outputs": [
    {
     "data": {
      "text/plain": [
       "(11200, 200)"
      ]
     },
     "execution_count": 78,
     "metadata": {},
     "output_type": "execute_result"
    }
   ],
   "source": [
    "v1_train.shape"
   ]
  },
  {
   "cell_type": "code",
   "execution_count": null,
   "id": "804a8b7d",
   "metadata": {},
   "outputs": [],
   "source": []
  }
 ],
 "metadata": {
  "kernelspec": {
   "display_name": "Python 3 (ipykernel)",
   "language": "python",
   "name": "python3"
  },
  "language_info": {
   "codemirror_mode": {
    "name": "ipython",
    "version": 3
   },
   "file_extension": ".py",
   "mimetype": "text/x-python",
   "name": "python",
   "nbconvert_exporter": "python",
   "pygments_lexer": "ipython3",
   "version": "3.9.7"
  }
 },
 "nbformat": 4,
 "nbformat_minor": 5
}
