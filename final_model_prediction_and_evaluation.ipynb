{
 "cells": [
  {
   "cell_type": "code",
   "execution_count": 1,
   "id": "3d1adf81",
   "metadata": {},
   "outputs": [],
   "source": [
    "from rdkit import Chem\n",
    "from rdkit.Chem import AllChem\n",
    "from rdkit import DataStructs\n",
    "from tqdm import tqdm\n",
    "from rdkit import Chem\n",
    "from rdkit.Chem import Draw\n",
    "from rdkit.Chem import rdFMCS\n",
    "from scipy.spatial import distance\n",
    "from scipy.stats import pearsonr\n",
    "from scipy.stats import fisher_exact\n",
    "from scipy.stats.contingency import crosstab\n",
    "from scipy.stats import hypergeom\n",
    "from sklearn.manifold import TSNE\n",
    "import random\n",
    "import pandas as pd\n",
    "import numpy as np\n",
    "from matplotlib import pyplot as plt\n",
    "import seaborn as sns\n",
    "import pickle\n",
    "import os\n",
    "\n",
    "\n",
    "from spec2vec import Spec2Vec\n",
    "from matchms import calculate_scores\n",
    "\n",
    "from openeye import oechem\n",
    "\n",
    "os.chdir('../raw_data')"
   ]
  },
  {
   "cell_type": "markdown",
   "id": "8748aca4",
   "metadata": {},
   "source": [
    "#### Functions to load and or write to pickle files"
   ]
  },
  {
   "cell_type": "code",
   "execution_count": 3,
   "id": "1e0220e4",
   "metadata": {},
   "outputs": [],
   "source": [
    "class Files:\n",
    "    def __init__(self, filename):\n",
    "        self.file = filename\n",
    "        \n",
    "    def write_to_file(self, data):\n",
    "        with open(self.file, 'wb') as f:\n",
    "            pickle.dump(data, f) \n",
    "        return None\n",
    "    \n",
    "    def load_pickle(self):\n",
    "        data = pd.read_pickle(self.file)\n",
    "        return data\n",
    "    \n",
    "    def load_csv(self, sep, usecols=None):\n",
    "        data = pd.read_csv(self.file, sep=sep, usecols=usecols)\n",
    "        return data\n",
    "        \n",
    "        \n",
    "    "
   ]
  },
  {
   "cell_type": "markdown",
   "id": "72aa149b",
   "metadata": {},
   "source": [
    "# Assess Prediction Performance"
   ]
  },
  {
   "cell_type": "markdown",
   "id": "3df4f93b",
   "metadata": {},
   "source": [
    "##### Predict Structure from spectra Embeddings\n",
    "\n",
    "1. Calculate:\n",
    "\n",
    "    1. Euclidean Distance\n",
    "    2. Cosine Distance\n",
    "    3. Correlation\n",
    "\n",
    "2. Calculate Tanimoto score of top scoring hits based on the above metric\n",
    "\n",
    "3. Sample a few structures to draw"
   ]
  },
  {
   "cell_type": "code",
   "execution_count": 4,
   "id": "2d87cfd4",
   "metadata": {},
   "outputs": [],
   "source": [
    "def predict(subject_df,query_df,dims,\n",
    "            subject_embed='sdl_z2',\n",
    "            metric='euc',\n",
    "           query_embed='sdl_z1',\n",
    "           top_k=20): #both dfs should have z1 and z2 coloumns\n",
    "\n",
    "    # initiate an empty df \n",
    "    preds = pd.DataFrame()\n",
    "    preds.index=[x for x in query_df['spec_id']] # set query spec id as rownames\n",
    "    preds[f'top_{top_k}_{metric}'] = None\n",
    "    preds[f'true_{metric}'] = None\n",
    "    preds[f'top_{top_k}_inchi14'] = None\n",
    "    preds[f'top_{top_k}_tanis'] = None\n",
    "    preds[f'true_tanimoto'] = None # only necessary to check that our indexing is correct; true always tanis == 1\n",
    "    \n",
    "\n",
    "    \n",
    "    # compute the distances and select top k\n",
    "    \n",
    "    for query_index, query in enumerate(tqdm(query_df[query_embed])): #(query z1)\n",
    "        \n",
    "        #calculate tanimotos if it does not meet threshold;pass\n",
    "        \n",
    "        query_id = query_df['spec_id'].iloc[query_index]\n",
    "        query_inchi = query_df['inchikey14'].iloc[query_index]\n",
    "        \n",
    "        similarity = []\n",
    "        \n",
    "        \n",
    "        #print(query_inchi)\n",
    "        \n",
    "        for subject in subject_df[subject_embed]:#(subject z2)\n",
    "        \n",
    "            #subject = subject_df.loc[subject_index,'z2']\n",
    "            if metric == 'corr':\n",
    "                corr = pearsonr(query[:dims], subject[:dims])[0]\n",
    "                similarity.append(corr)\n",
    "        \n",
    "            if metric== 'euc':\n",
    "                euc = distance.euclidean(query[:dims], subject[:dims])\n",
    "                similarity.append(euc)\n",
    "        \n",
    "            if metric == 'cos':\n",
    "                cos = distance.cosine(query[:dims], subject[:dims])\n",
    "                similarity.append(cos)\n",
    "        \n",
    "        if metric == 'corr': # if corr then higher the better\n",
    "            top_k_corr = np.sort(similarity)[::-1][:top_k]\n",
    "            top_k_ichi = []\n",
    "            top_k_tanis = []\n",
    "            for corr in top_k_corr:\n",
    "                \n",
    "                subject_index = similarity.index(corr) # pick subject index\n",
    "                inchi = subject_df['inchikey14'].iloc[subject_index]\n",
    "                #print(inchi)\n",
    "                top_k_ichi.append(inchi)\n",
    "                \n",
    "                \n",
    "                #compute tanis\n",
    "                smile1 = subject_df['smiles'].iloc[subject_index] #extract the subject smile\n",
    "                smile2= query_df['smiles'].iloc[query_index]#extract the query smile  \n",
    "                tani = tanimoto(smile1,smile2)\n",
    "                top_k_tanis.append(tani)\n",
    "            \n",
    "            # update the df\n",
    "            preds.at[query_id, f'top_{top_k}_{metric}'] = top_k_corr # add corr\n",
    "            preds.at[query_id, f'top_{top_k}_inchi14' ] = top_k_ichi # add inchi of the predicted\n",
    "            preds.at[query_id, f'top_{top_k}_tanis'] = top_k_tanis\n",
    "                \n",
    "                \n",
    "            #compute true dist between query and the true structure\n",
    "            if query_inchi in list(subject_df['inchikey14']):\n",
    "                \n",
    "                #extract true hit embeddings to compute true cosine distance\n",
    "                true_subject_embed = subject_df.loc[subject_df['inchikey14'] == query_inchi, subject_embed].iloc[0]\n",
    "                \n",
    "                true_corr = pearsonr(query[:dims], true_subject_embed[:dims])[0]\n",
    "                preds.at[query_id,f'true_{metric}'] = true_corr\n",
    "                \n",
    "                # also compute true tanimoto\n",
    "                smile2= query_df['smiles'].iloc[query_index]\n",
    "                true_smile = subject_df.loc[subject_df['inchikey14'] == query_inchi, 'smiles'].iloc[0]\n",
    "                preds.at[query_id,f'true_tanimoto'] = tanimoto(true_smile,smile2) # smile2 == query  smile\n",
    "                \n",
    "#             else: \n",
    "#                 pass\n",
    "            \n",
    "        \n",
    "        else: # if cos or euc, then lower the better\n",
    "            top_k_dist = np.sort(similarity)[:top_k]\n",
    "            top_k_ichi = []\n",
    "            top_k_tanis = []\n",
    "            for dist in top_k_dist:\n",
    "                \n",
    "                subject_index = similarity.index(dist)\n",
    "                #print(subject_index)\n",
    "                inchi = subject_df['inchikey14'].iloc[subject_index]\n",
    "                top_k_ichi.append(inchi)\n",
    "                \n",
    "                #compute tanis\n",
    "                smile1 = subject_df['smiles'].iloc[subject_index] #extract the subject smile\n",
    "                smile2= query_df['smiles'].iloc[query_index]#extract the query smile  \n",
    "                tani = tanimoto(smile1,smile2)\n",
    "                top_k_tanis.append(tani)\n",
    "            \n",
    "            preds.at[query_id, f'top_{top_k}_{metric}'] = top_k_dist # add corr\n",
    "            preds.at[query_id, f'top_{top_k}_inchi14'] = top_k_ichi # add inchi of the predicted\n",
    "            preds.at[query_id, f'top_{top_k}_tanis'] = top_k_tanis\n",
    "                \n",
    "            #compute true dist between query and the true structure\n",
    "            if query_inchi in list(subject_df['inchikey14']):\n",
    "                \n",
    "                #extract true hit embedding to compute true cosine distance              \n",
    "                true_subject_embed = subject_df.loc[subject_df['inchikey14'] == query_inchi, subject_embed].iloc[0]\n",
    "                \n",
    "                true_dist = distance.cosine(query[:dims], true_subject_embed[:dims])\n",
    "                preds.at[query_id,f'true_{metric}'] = true_dist\n",
    "                \n",
    "                \n",
    "                # also compute true tanimoto\n",
    "                smile2= query_df['smiles'].iloc[query_index]\n",
    "                true_smile = subject_df.loc[subject_df['inchikey14'] == query_inchi, 'smiles'].iloc[0]\n",
    "                preds.at[query_id,f'true_tanimoto'] = tanimoto(true_smile,smile2) # smile2 == query  smile\n",
    "                \n",
    "#             else:\n",
    "#                 pass\n",
    "                \n",
    "            \n",
    "            \n",
    "    \n",
    "    return preds\n",
    "    "
   ]
  },
  {
   "cell_type": "code",
   "execution_count": 5,
   "id": "57c0081b",
   "metadata": {},
   "outputs": [],
   "source": [
    "def embedding_similarity(hits, \n",
    "                         query_df,\n",
    "                         subject_df,\n",
    "                         method='ms2ds_vs_mol2vec'):\n",
    "    \n",
    "    \n",
    "    embed_cos = []\n",
    "    \n",
    "    \n",
    "    for query_index, subject_index in  hits.items():\n",
    "        \n",
    "#         if query_df['sdl_tanis'].iloc[query_index] < 0.8: # only needed when testing known analogues\n",
    "#             continue\n",
    "\n",
    "        # calculates cosine distance between the spec2vec query embeddings and mol2vec top hit embeddings\n",
    "        if method == 'ms2ds_vs_mol2vec':\n",
    "            spec_embed = query_df['ms2ds'].iloc[query_index]\n",
    "            structure_embed = subject_df['mol2vec'].iloc[subject_index[0][0]]\n",
    "        \n",
    "            cos = distance.cosine(spec_embed, structure_embed[:200]) #len of mol2vec is 300 while ms2deepscore is 200\n",
    "            embed_cos.append(cos)\n",
    "        \n",
    "        # calculates cosine distance between the spec2vec query embeddings and spec2vec top hit embeddings\n",
    "        elif method == 'spec2vec_vs_spec2vec':\n",
    "            spec_embed = query_df['spec2vec'].iloc[query_index]\n",
    "            structure_embed = subject_df['spec2vec'].iloc[subject_index[0][0]]\n",
    "        \n",
    "            cos = distance.cosine(spec_embed, structure_embed) \n",
    "            embed_cos.append(cos)\n",
    "            \n",
    "        elif method == 'ms2ds_vs_ms2ds':\n",
    "            spec_embed = query_df['ms2ds'].iloc[query_index]\n",
    "            structure_embed = subject_df['ms2ds'].iloc[subject_index[0][0]]\n",
    "        \n",
    "            cos = distance.cosine(spec_embed, structure_embed) \n",
    "            embed_cos.append(cos)\n",
    "        \n",
    "        # calculates cosine distance between the mol2vec query embeddings and mol2vec top hit embeddings\n",
    "        \n",
    "        elif method == 'mol2vec_vs_mol2vec':\n",
    "            spec_embed = query_df['mol2vec'].iloc[query_index]\n",
    "            structure_embed = subject_df['mol2vec'].iloc[subject_index[0][0]]\n",
    "        \n",
    "            cos = distance.cosine(spec_embed, structure_embed) \n",
    "            embed_cos.append(cos)\n",
    "            \n",
    "       \n",
    "    return embed_cos\n",
    "        \n",
    "    "
   ]
  },
  {
   "cell_type": "code",
   "execution_count": 6,
   "id": "804ec41f",
   "metadata": {},
   "outputs": [],
   "source": [
    "# function to calculate pairwise tanimoto scores\n",
    "def tanimoto(smi1, smi2):\n",
    "    #molecule\n",
    "    mol1 = Chem.MolFromSmiles(smi1)\n",
    "    mol2 = Chem.MolFromSmiles(smi2)\n",
    "    #fingerprint\n",
    "    fp1 = Chem.RDKFingerprint(mol1)\n",
    "    fp2 = Chem.RDKFingerprint(mol2)\n",
    "    \n",
    "    #similarity\n",
    "    score = round(DataStructs.FingerprintSimilarity(fp1,fp2),4)\n",
    "    return score"
   ]
  },
  {
   "cell_type": "code",
   "execution_count": 7,
   "id": "010fcf77",
   "metadata": {},
   "outputs": [],
   "source": [
    "# function to calculate tanimoto scores for n hits returns a max tanimotos and {query:top_hit}\n",
    "def get_tanimotos(preditions_dict,\n",
    "                  subject_df,\n",
    "                  query_df, \n",
    "                  metric,nn=20,\n",
    "                 calculate_mcs=False):\n",
    "    tanimotos = []\n",
    "    pred = {} #key is the query index, value is the top hit index\n",
    "    mcs = []\n",
    "    for query_index, values in tqdm(preditions_dict.items()): # values == score(corr, euc or cosine)\n",
    "        pred[query_index] = []\n",
    "        \n",
    "#         if query_index > 199:\n",
    "#             break\n",
    "        \n",
    "        #select top n hits for each query based on correlation\n",
    "        if metric == 'corr':\n",
    "            top_hits = np.sort(values)[::-1][:nn] # higher corr the better\n",
    "            \n",
    "            #calculate tanimoto scores for each of the top 5 hits\n",
    "            top_hits_scores = []\n",
    "            top_hits_mcs = []\n",
    "            subject_hit_indices = []\n",
    "            for hit in top_hits:\n",
    "                \n",
    "                subject_index = values.index(hit)\n",
    "                subject_hit_indices.append(subject_index) #to trace the index of the hits\n",
    "                    \n",
    "                smile1 = subject_df['smiles'].iloc[subject_index] #extract the subject smile\n",
    "                smile2= query_df['smiles'].iloc[query_index]#extract the query smile \n",
    "                \n",
    "                top_hits_scores.append(tanimoto(smile1,smile2))\n",
    "                \n",
    "                if calculate_mcs: # this guy takes forever so you may want to run tanis only\n",
    "                    top_hits_mcs.append(mcs_score(smile1,smile2))\n",
    "                #select the max tanimoto score \n",
    "            tanimotos.append(max(top_hits_scores))\n",
    "            \n",
    "            if calculate_mcs:\n",
    "                mcs.append(max(top_hits_mcs))\n",
    "                pred[query_index].append([subject_hit_indices[np.argmax(top_hits_scores)], #hit index based on tanimotos\n",
    "                                      subject_hit_indices[np.argmax(top_hits_mcs)], #hit index based on mcs\n",
    "                                      max(top_hits_scores),max(top_hits_mcs)]) #appends [top hit index,tanimoto, msc]\n",
    "            else:\n",
    "                pred[query_index].append([subject_hit_indices[np.argmax(top_hits_scores)], #hit index based on tanimotos\n",
    "                                       #hit index based on mcs\n",
    "                                      max(top_hits_scores)])\n",
    "            \n",
    "        #select closest n hits for each query based on cosine/euclidian distance\n",
    "        else: #may be elif metric != 'corr'\n",
    "            top_hits = np.sort(values)[:nn] #if its euc or cos; the lower the better\n",
    "            #print(top_hits)\n",
    "            #calculate tanimoto scores for each of the top 5 hits\n",
    "            top_hits_scores = [] #for tanimoto\n",
    "            top_hits_mcs = [] # for mcs\n",
    "            subject_hit_indices = []\n",
    "            for hit in top_hits:\n",
    "                \n",
    "                #print(hit)\n",
    "                \n",
    "                subject_index = values.index(hit)\n",
    "                subject_hit_indices.append(subject_index) #to trace the index of the hits\n",
    "                    \n",
    "                smile1 = subject_df['smiles'].iloc[subject_index] #extract the subject smile\n",
    "                smile2= query_df['smiles'].iloc[query_index]#extract the query smile \n",
    "                \n",
    "                #calculate similarity scores\n",
    "                top_hits_scores.append(tanimoto(smile1,smile2))\n",
    "                \n",
    "                if calculate_mcs: # this guy takes forever so you may want to run tanis only\n",
    "                    top_hits_mcs.append(mcs_score(smile1,smile2))\n",
    "            \n",
    "            #select the max tanimoto score \n",
    "            tanimotos.append(max(top_hits_scores))\n",
    "            \n",
    "            if calculate_mcs:\n",
    "                mcs.append(max(top_hits_mcs))\n",
    "                pred[query_index].append([subject_hit_indices[np.argmax(top_hits_scores)], #hit index based on tanimotos\n",
    "                                      subject_hit_indices[np.argmax(top_hits_mcs)], #hit index based on mcs\n",
    "                                      max(top_hits_scores),max(top_hits_mcs)]) #appends [top hit index,tanimoto, msc]\n",
    "            else:\n",
    "                pred[query_index].append([subject_hit_indices[np.argmax(top_hits_scores)], #hit index based on tanimotos\n",
    "                                       \n",
    "                                      max(top_hits_scores) # tanimoto\n",
    "                                          \n",
    "                                         ] \n",
    "                                        )\n",
    "                \n",
    "        \n",
    "    return [tanimotos,mcs], pred\n",
    "    \n",
    "    "
   ]
  },
  {
   "cell_type": "code",
   "execution_count": 8,
   "id": "d1821045",
   "metadata": {},
   "outputs": [],
   "source": [
    "def random_tanimoto(preditions_dict,\n",
    "                subject_df,query_df):\n",
    "    tanimotos = []\n",
    "    \n",
    "    for query_index, values in preditions_dict.items():\n",
    "        subject_index = random.randint(0,len(values)) #randomly pick subject index as hits\n",
    "        \n",
    "        smile1 = subject_df['smiles'].iloc[subject_index] #extract the subject smile\n",
    "        smile2 = query_df['smiles'].iloc[query_index]#extract the query smile \n",
    "        \n",
    "        tanimotos.append(tanimoto(smile1,smile2))\n",
    "    return tanimotos\n",
    "        \n",
    "        "
   ]
  },
  {
   "cell_type": "code",
   "execution_count": 9,
   "id": "96d152f6",
   "metadata": {},
   "outputs": [],
   "source": [
    "# function to extract the query and subject molecule, its legend(class_tanimoto_with the hit), can also return tanis\n",
    "def pick_hit_mols(hits_dict, \n",
    "              train_df,test_df,\n",
    "              group=None,\n",
    "              return_tanimoto=False,\n",
    "              k=2,\n",
    "              filterby='inchikey14', #if group == [cf_class], set filterby to 'cf_class'\n",
    "              ): \n",
    "    query_mols = []\n",
    "    hits_mols = []\n",
    "    tanimoto = []\n",
    "   \n",
    "    query_labels = []\n",
    "    hit_labels = []\n",
    "    for query_index, subject_index in  hits_dict.items():\n",
    "    \n",
    "    \n",
    "        query_smile = test_df['smiles'].iloc[query_index]\n",
    "        query_class = test_df['cf_class'].iloc[query_index]\n",
    "        query_inchi = test_df['inchikey14'].iloc[query_index]\n",
    "        \n",
    "        if group:\n",
    "            \n",
    "            if filterby == 'cf_class':\n",
    "                if query_class not in group:\n",
    "                    continue\n",
    "            else:\n",
    "                if query_inchi not in group:\n",
    "                    continue\n",
    "    \n",
    "        if type(query_class) == float:\n",
    "            query_class = 'NAN'\n",
    "            #classes = [f'Query:\\t{query_class}',]\n",
    "    \n",
    "        query_labels.append(f'Query_{query_index}: {query_class}')#else\n",
    "    \n",
    "        query = Chem.MolFromSmiles(query_smile)\n",
    "    \n",
    "        subject_smile = train_df['smiles'].iloc[subject_index[0][0]]\n",
    "        subject = Chem.MolFromSmiles(subject_smile)\n",
    "        cl = train_df['cf_class'].iloc[subject_index[0][0]]\n",
    "        if type(cl) == float:\n",
    "            cl = 'NAN'\n",
    "        subject_class = f'\\tHit_{query_index}: {cl}:\\tTanimoto: {subject_index[0][1]}'\n",
    "        #print(query_class,subject_class)\n",
    "        hit_labels.append(subject_class)\n",
    "        query_mols.append(query)\n",
    "        hits_mols.append(subject) #to expand later to include top 5 hits\n",
    "        tanimoto.append(subject_index[0][1])\n",
    "        \n",
    "        \n",
    "         \n",
    "    \n",
    "    if return_tanimoto:\n",
    "        return [query_mols, hits_mols],[query_labels,hit_labels],tanimoto\n",
    "    else:\n",
    "        return [query_mols, hits_mols],[query_labels,hit_labels]"
   ]
  },
  {
   "cell_type": "code",
   "execution_count": 10,
   "id": "fbde5028",
   "metadata": {},
   "outputs": [],
   "source": [
    "#plot the distribution of the three top tanimotos from the three metrics\n",
    "def plot_distribution(values, title,\n",
    "                      savefig=False,\n",
    "                      legends=None,xlab=None,\n",
    "                      ylab=None,\n",
    "                      palette = None,\n",
    "                      fig_path=None\n",
    "                     ):\n",
    "    \n",
    "    for i, val in enumerate(values):\n",
    "        if palette:\n",
    "            ax=sns.kdeplot(x=val, color=palette[i],shade=False)\n",
    "            \n",
    "        else:\n",
    "            ax=sns.kdeplot(x=val,shade=True)\n",
    "    \n",
    "    plt.legend(labels=legends, loc='center left', fontsize=12)\n",
    "    plt.xlabel(xlab, fontsize=15)\n",
    "    plt.ylabel(ylab, fontsize=15)\n",
    "    plt.title(label=title, fontsize=15)\n",
    "    \n",
    "    if savefig and fig_path:\n",
    "        plt.savefig(fig_path,\\\n",
    "               transparent=False,bbox_inches = 'tight')\n",
    "    plt.show()"
   ]
  },
  {
   "cell_type": "code",
   "execution_count": 11,
   "id": "337d81f2",
   "metadata": {},
   "outputs": [],
   "source": [
    "def mcs_score(query_smile, target_smile, threshold=0.9):\n",
    "    \n",
    "    query_mol = Chem.MolFromSmiles(query_smile)\n",
    "    target_mol = Chem.MolFromSmiles(target_smile)# will be a list later\n",
    "    mols = [query_mol, target_mol]\n",
    "    mcs = rdFMCS.FindMCS(mols,\n",
    "                    completeRingsOnly=True,#should the ring be complete?  \n",
    "                    ringMatchesRingOnly=False, #should ring atoms match elsewhere?\n",
    "                    timeout=10, #timeout in seconds; Not exhaustive search\n",
    "                    threshold=threshold,\n",
    "                    )\n",
    "    shared_atoms = mcs.numAtoms/query_mol.GetNumAtoms() # what fraction of atoms is shared between the query and hit\n",
    "    \n",
    "    # escape zerodivion error detected after running 93% in 12hrs ):\n",
    "    try:\n",
    "        shared_bonds = mcs.numBonds/query_mol.GetNumBonds()\n",
    "    except ZeroDivisionError:\n",
    "        shared_bonds = 0 # what fraction of bonds is shared between the query and hit\n",
    "    \n",
    "    score = (shared_atoms+(shared_bonds/100)) # following openeye chem library\n",
    "    \n",
    "    return round(score, 4)"
   ]
  },
  {
   "cell_type": "code",
   "execution_count": 12,
   "id": "db8b5496",
   "metadata": {},
   "outputs": [],
   "source": [
    "def spec2vec_similarity(model_path,\n",
    "                        query_spectrum, \n",
    "                        target_spectrum,\n",
    "                        n_decimals=2):\n",
    "        \n",
    "        spectrum_documents = spec_documents = [SpectrumDocument(s, n_decimals=n_decimals)\\\n",
    "                              for s in spectra]\n",
    "        model = gensim.models.Word2Vec.load(model_path)\n",
    "        \n",
    "        # Define similarity_function\n",
    "        spec2vec_similarity = Spec2Vec(model=model, intensity_weighting_power=0.5,\n",
    "                               allowed_missing_percentage=5.0)\n",
    "        # Calculate scores on all combinations of reference spectrums and queries\n",
    "        score = calculate_scores(query_spectra, \n",
    "                                  target_spectra, \n",
    "                                  spec2vec_similarity)\n",
    "        \n",
    "        return score"
   ]
  },
  {
   "cell_type": "code",
   "execution_count": 13,
   "id": "0a57d119",
   "metadata": {},
   "outputs": [],
   "source": [
    "# group queries based on tanimoto scores with their top hit\n",
    "def group_tanimotos(tanis):\n",
    "    category = []\n",
    "    for tani in tanis:\n",
    "        if tani <= 0.5:\n",
    "            category.append('Low (tanimoto=<0.5)')\n",
    "        elif 0.5 < tani < 0.8:\n",
    "            category.append('Medium (0.5<tanimoto<0.8)')\n",
    "        elif tani >= 0.8:\n",
    "            category.append('High (tanimoto>=0.8)')\n",
    "        \n",
    "    return category"
   ]
  },
  {
   "cell_type": "markdown",
   "id": "f239a3c7",
   "metadata": {},
   "source": [
    "<h1> Compute predictions from the final model <h1>"
   ]
  },
  {
   "cell_type": "code",
   "execution_count": 14,
   "id": "eb4e442c",
   "metadata": {},
   "outputs": [
    {
     "data": {
      "text/html": [
       "<div>\n",
       "<style scoped>\n",
       "    .dataframe tbody tr th:only-of-type {\n",
       "        vertical-align: middle;\n",
       "    }\n",
       "\n",
       "    .dataframe tbody tr th {\n",
       "        vertical-align: top;\n",
       "    }\n",
       "\n",
       "    .dataframe thead th {\n",
       "        text-align: right;\n",
       "    }\n",
       "</style>\n",
       "<table border=\"1\" class=\"dataframe\">\n",
       "  <thead>\n",
       "    <tr style=\"text-align: right;\">\n",
       "      <th></th>\n",
       "      <th>smiles</th>\n",
       "      <th>inchi_key</th>\n",
       "      <th>inchikey14</th>\n",
       "      <th>spec_id</th>\n",
       "      <th>spec2vec</th>\n",
       "      <th>ms2ds</th>\n",
       "      <th>mol2vec</th>\n",
       "      <th>cf_class</th>\n",
       "      <th>cca_z1</th>\n",
       "      <th>cca_z2</th>\n",
       "      <th>sdl_z1</th>\n",
       "      <th>sdl_z2</th>\n",
       "    </tr>\n",
       "  </thead>\n",
       "  <tbody>\n",
       "    <tr>\n",
       "      <th>5625</th>\n",
       "      <td>COc1ccc(cc1OC)C(=O)NCc2ccc(OCCN(C)C)cc2</td>\n",
       "      <td>QQQIECGTIMUVDS-UHFFFAOYSA-N</td>\n",
       "      <td>QQQIECGTIMUVDS</td>\n",
       "      <td>spec_id5019</td>\n",
       "      <td>[0.7660381606480904, -2.9954168988462215, -12....</td>\n",
       "      <td>[0.0, 13.000274658203125, 0.35151147842407227,...</td>\n",
       "      <td>[-0.45550603, -3.2559516, -3.0893652, 5.457150...</td>\n",
       "      <td>Benzene and substituted derivatives</td>\n",
       "      <td>[0.051531734505366716, -0.6290144322258142, 0....</td>\n",
       "      <td>[-0.3670569538963088, -0.7741333930951451, 0.1...</td>\n",
       "      <td>[-0.5074534, -0.19799042, -0.084220506, -0.090...</td>\n",
       "      <td>[-1.2729512, -0.20587964, -0.22160338, -0.5555...</td>\n",
       "    </tr>\n",
       "    <tr>\n",
       "      <th>40023</th>\n",
       "      <td>COc1cc(OC)c2c(OC)c(-c3ccc4c(c3)OCO4)c(=O)oc2c1</td>\n",
       "      <td>PZYZNVLXKYMURF-UHFFFAOYSA-N</td>\n",
       "      <td>PZYZNVLXKYMURF</td>\n",
       "      <td>spec_id39710</td>\n",
       "      <td>[4.160680518910307, -17.534900146210205, -20.4...</td>\n",
       "      <td>[0.0, 0.0, 0.0, 0.0, 0.0, 63.7232666015625, 5....</td>\n",
       "      <td>[1.2124093, -3.7327924, -5.30343, 5.8895183, 0...</td>\n",
       "      <td>Isoflavonoids</td>\n",
       "      <td>[-0.5501047970153369, 0.38237380309998087, 0.3...</td>\n",
       "      <td>[-0.4201982466143634, -0.10796739849747246, -0...</td>\n",
       "      <td>[1.0821751, -0.21904153, -0.2859266, 0.8517396...</td>\n",
       "      <td>[0.7512287, -0.21170664, -0.1404785, 1.031399,...</td>\n",
       "    </tr>\n",
       "    <tr>\n",
       "      <th>32710</th>\n",
       "      <td>O=C2C(O)=C(OC=3C=C(OC1OC(CO)C(O)C(O)C1(O))C(OC...</td>\n",
       "      <td>AFCDXKGLUDDXCK-UHFFFAOYSA-N</td>\n",
       "      <td>AFCDXKGLUDDXCK</td>\n",
       "      <td>spec_id31385</td>\n",
       "      <td>[4.156373062713153, 2.6467714749778737, -9.709...</td>\n",
       "      <td>[25.13886260986328, 20.056901931762695, 0.0, 0...</td>\n",
       "      <td>[3.884097, -4.328525, -8.565995, 3.9552908, 1....</td>\n",
       "      <td>Flavonoids</td>\n",
       "      <td>[-0.0658633840961331, 0.9429675883808374, -1.8...</td>\n",
       "      <td>[-0.20775599360091013, 0.7636143826091808, -1....</td>\n",
       "      <td>[1.8711135, -0.21995814, -0.53303856, 1.526128...</td>\n",
       "      <td>[1.8491485, -0.2038337, -0.060643416, 1.56308,...</td>\n",
       "    </tr>\n",
       "  </tbody>\n",
       "</table>\n",
       "</div>"
      ],
      "text/plain": [
       "                                                  smiles  \\\n",
       "5625             COc1ccc(cc1OC)C(=O)NCc2ccc(OCCN(C)C)cc2   \n",
       "40023     COc1cc(OC)c2c(OC)c(-c3ccc4c(c3)OCO4)c(=O)oc2c1   \n",
       "32710  O=C2C(O)=C(OC=3C=C(OC1OC(CO)C(O)C(O)C1(O))C(OC...   \n",
       "\n",
       "                         inchi_key      inchikey14       spec_id  \\\n",
       "5625   QQQIECGTIMUVDS-UHFFFAOYSA-N  QQQIECGTIMUVDS   spec_id5019   \n",
       "40023  PZYZNVLXKYMURF-UHFFFAOYSA-N  PZYZNVLXKYMURF  spec_id39710   \n",
       "32710  AFCDXKGLUDDXCK-UHFFFAOYSA-N  AFCDXKGLUDDXCK  spec_id31385   \n",
       "\n",
       "                                                spec2vec  \\\n",
       "5625   [0.7660381606480904, -2.9954168988462215, -12....   \n",
       "40023  [4.160680518910307, -17.534900146210205, -20.4...   \n",
       "32710  [4.156373062713153, 2.6467714749778737, -9.709...   \n",
       "\n",
       "                                                   ms2ds  \\\n",
       "5625   [0.0, 13.000274658203125, 0.35151147842407227,...   \n",
       "40023  [0.0, 0.0, 0.0, 0.0, 0.0, 63.7232666015625, 5....   \n",
       "32710  [25.13886260986328, 20.056901931762695, 0.0, 0...   \n",
       "\n",
       "                                                 mol2vec  \\\n",
       "5625   [-0.45550603, -3.2559516, -3.0893652, 5.457150...   \n",
       "40023  [1.2124093, -3.7327924, -5.30343, 5.8895183, 0...   \n",
       "32710  [3.884097, -4.328525, -8.565995, 3.9552908, 1....   \n",
       "\n",
       "                                  cf_class  \\\n",
       "5625   Benzene and substituted derivatives   \n",
       "40023                        Isoflavonoids   \n",
       "32710                           Flavonoids   \n",
       "\n",
       "                                                  cca_z1  \\\n",
       "5625   [0.051531734505366716, -0.6290144322258142, 0....   \n",
       "40023  [-0.5501047970153369, 0.38237380309998087, 0.3...   \n",
       "32710  [-0.0658633840961331, 0.9429675883808374, -1.8...   \n",
       "\n",
       "                                                  cca_z2  \\\n",
       "5625   [-0.3670569538963088, -0.7741333930951451, 0.1...   \n",
       "40023  [-0.4201982466143634, -0.10796739849747246, -0...   \n",
       "32710  [-0.20775599360091013, 0.7636143826091808, -1....   \n",
       "\n",
       "                                                  sdl_z1  \\\n",
       "5625   [-0.5074534, -0.19799042, -0.084220506, -0.090...   \n",
       "40023  [1.0821751, -0.21904153, -0.2859266, 0.8517396...   \n",
       "32710  [1.8711135, -0.21995814, -0.53303856, 1.526128...   \n",
       "\n",
       "                                                  sdl_z2  \n",
       "5625   [-1.2729512, -0.20587964, -0.22160338, -0.5555...  \n",
       "40023  [0.7512287, -0.21170664, -0.1404785, 1.031399,...  \n",
       "32710  [1.8491485, -0.2038337, -0.060643416, 1.56308,...  "
      ]
     },
     "execution_count": 14,
     "metadata": {},
     "output_type": "execute_result"
    }
   ],
   "source": [
    "paths = ['./sdl_logs/sdl_optimized_params/train_df_max3_sdl_and_cca_final_model_z_scores.pickle',\n",
    "         './sdl_logs/sdl_optimized_params/test_df_max3_sdl_and_cca_final_model_z_scores.pickle',\n",
    "         #'./sdl_logs/sdl_optimized_params/val_df_max3_sdl_and_cca_final_model_z_scores.pickle'\n",
    "        ]\n",
    "\n",
    "\n",
    "train_df = Files(paths[0]).load_pickle()\n",
    "test_df = Files(paths[1]).load_pickle()\n",
    "test_df.head(3)"
   ]
  },
  {
   "cell_type": "code",
   "execution_count": 96,
   "id": "dccbc619",
   "metadata": {},
   "outputs": [
    {
     "data": {
      "text/plain": [
       "5625     [-0.5074534, -0.19799042, -0.084220506, -0.090...\n",
       "40023    [1.0821751, -0.21904153, -0.2859266, 0.8517396...\n",
       "32710    [1.8711135, -0.21995814, -0.53303856, 1.526128...\n",
       "14421    [0.6291968, -0.22675322, 0.14513797, 0.7464487...\n",
       "24733    [0.9548313, 0.14880593, -0.3830789, 1.2951463,...\n",
       "                               ...                        \n",
       "35891    [0.38492438, -0.1489108, 0.13397829, 0.3117823...\n",
       "5764     [-0.78609526, -0.19658807, 0.039922386, 0.6213...\n",
       "40973    [0.09039678, 0.054708697, -1.5732712, 0.770603...\n",
       "8421     [0.76103073, -0.23956645, -0.28498733, 0.62251...\n",
       "19223    [-1.4635941, -0.2829761, -0.09774122, 0.233394...\n",
       "Name: sdl_z1, Length: 8290, dtype: object"
      ]
     },
     "execution_count": 96,
     "metadata": {},
     "output_type": "execute_result"
    }
   ],
   "source": [
    "test_df['sdl_z1']"
   ]
  },
  {
   "cell_type": "code",
   "execution_count": 97,
   "id": "e544a9f0",
   "metadata": {},
   "outputs": [
    {
     "data": {
      "text/plain": [
       "5625     [-1.2729512, -0.20587964, -0.22160338, -0.5555...\n",
       "40023    [0.7512287, -0.21170664, -0.1404785, 1.031399,...\n",
       "32710    [1.8491485, -0.2038337, -0.060643416, 1.56308,...\n",
       "14421    [0.64476126, -0.15404916, -0.12797499, 0.63583...\n",
       "24733    [1.6044742, -0.05239439, -0.3297751, 1.7345406...\n",
       "                               ...                        \n",
       "35891    [0.59203047, -0.08038462, -0.29264185, 0.23808...\n",
       "5764     [-1.4605428, -0.14838429, 0.21292496, -0.23081...\n",
       "40973    [0.37478814, 0.051530782, -1.3436784, 0.810749...\n",
       "8421     [0.21853322, -0.10123668, 0.12232843, 0.660062...\n",
       "19223    [-1.6430222, -0.012930553, -0.1218881, -0.1200...\n",
       "Name: sdl_z2, Length: 8290, dtype: object"
      ]
     },
     "execution_count": 97,
     "metadata": {},
     "output_type": "execute_result"
    }
   ],
   "source": [
    "test_df['sdl_z2']"
   ]
  },
  {
   "cell_type": "markdown",
   "id": "7f27d796",
   "metadata": {},
   "source": [
    "Select only unique inchikey14 in the train_df which is our databse. There is no point computing the cosine distance of the same inchi more than once. for the queries all elements are used as spectra might vary in nature even for the same molecule."
   ]
  },
  {
   "cell_type": "code",
   "execution_count": 149,
   "id": "12428bdc",
   "metadata": {},
   "outputs": [
    {
     "name": "stdout",
     "output_type": "stream",
     "text": [
      "(17844, 12)\n"
     ]
    }
   ],
   "source": [
    "# select unique inchikey14 and create a database from training set\n",
    "train_df.drop_duplicates('inchikey14', inplace=True)\n",
    "print(train_df.shape)"
   ]
  },
  {
   "cell_type": "code",
   "execution_count": 156,
   "id": "f8083aab",
   "metadata": {},
   "outputs": [
    {
     "name": "stdout",
     "output_type": "stream",
     "text": [
      "\n",
      "Model sdl\n"
     ]
    },
    {
     "name": "stderr",
     "output_type": "stream",
     "text": [
      "100%|████████████████████████████████████████████████████████████████████████████| 8290/8290 [2:34:24<00:00,  1.12s/it]\n"
     ]
    },
    {
     "name": "stdout",
     "output_type": "stream",
     "text": [
      "\n",
      "Computing Tanimoto and hits is Completed successfully\n",
      "\n",
      "\n",
      "Model cca\n"
     ]
    },
    {
     "name": "stderr",
     "output_type": "stream",
     "text": [
      " 67%|███████████████████████████████████████████████████▏                        | 5589/8290 [1:12:53<35:33,  1.27it/s][05:50:56] WARNING: not removing hydrogen atom without neighbors\n",
      "100%|████████████████████████████████████████████████████████████████████████████| 8290/8290 [1:48:09<00:00,  1.28it/s]\n"
     ]
    },
    {
     "name": "stdout",
     "output_type": "stream",
     "text": [
      "\n",
      "Computing Tanimoto and hits is Completed successfully\n",
      "\n",
      "\n",
      "Model sdl\n"
     ]
    },
    {
     "name": "stderr",
     "output_type": "stream",
     "text": [
      "100%|████████████████████████████████████████████████████████████████████████████| 8290/8290 [3:04:43<00:00,  1.34s/it]\n"
     ]
    },
    {
     "name": "stdout",
     "output_type": "stream",
     "text": [
      "\n",
      "Computing Tanimoto and hits is Completed successfully\n",
      "\n",
      "\n",
      "Model cca\n"
     ]
    },
    {
     "name": "stderr",
     "output_type": "stream",
     "text": [
      " 67%|█████████████████████████████████████████████████▉                        | 5589/8290 [2:00:52<1:02:08,  1.38s/it][11:31:50] WARNING: not removing hydrogen atom without neighbors\n",
      "100%|████████████████████████████████████████████████████████████████████████████| 8290/8290 [2:59:33<00:00,  1.30s/it]\n"
     ]
    },
    {
     "name": "stdout",
     "output_type": "stream",
     "text": [
      "\n",
      "Computing Tanimoto and hits is Completed successfully\n",
      "\n",
      "Wall time: 10h 26min 54s\n"
     ]
    }
   ],
   "source": [
    "%%time\n",
    "metrics = ['cos', 'corr']\n",
    "\n",
    "models = ['sdl', 'cca']\n",
    "size = 5\n",
    "for metric in metrics:\n",
    "    for model in models:\n",
    "        print(f'\\nModel {model}')\n",
    "        # cosine distance\n",
    "        predictions_df = predict(subject_df=train_df,\\\n",
    "                        query_df=test_df,dims=100,\n",
    "                        subject_embed=f'{model}_z2', # base name of z scores cols in subject df\n",
    "                       query_embed=f'{model}_z1', # base name of z scores cols in query df\n",
    "                       metric=metric,\n",
    "                                top_k=20)\n",
    "    \n",
    "#         print('\\nComputing Distance is Completed successfully\\n')\n",
    "#        # tanimotos and hits\n",
    "#         scores, hit = get_tanimotos(dist,subject_df=train_df,\\\n",
    "#                                     query_df=test_df.head(size),\\\n",
    "#                                     metric=metric)\n",
    "    \n",
    "        print('\\nComputing Tanimoto and hits is Completed successfully\\n')\n",
    "        # write the distances to file\n",
    "        Files(f'./sdl_logs/sdl_optimized_params/train_in_train/{model}_preds/{model}_final_model_train_in_train_{metric}_predictions_df.pickle').write_to_file(predictions_df)\n",
    "    \n",
    "         #del dist # rescue memory :) \n",
    "    \n",
    "#         Files(f'./sdl_logs/sdl_optimized_params/{model}_preds/{model}_final_model_test_{metric}_tanimoto.pickle').write_to_file(scores[0]) # scores has [tanimoto, mcs]\n",
    "#         Files(f'./sdl_logs/sdl_optimized_params/{model}_preds/{model}_final_model_test_{metric}_hits.pickle').write_to_file(hit)\n",
    "    \n",
    "#         del scores, hit # only load when actually using them."
   ]
  },
  {
   "cell_type": "code",
   "execution_count": 74,
   "id": "0fa825ff",
   "metadata": {},
   "outputs": [],
   "source": [
    "cca_cos_preds_df = Files(f'./sdl_logs/sdl_optimized_params/test_in_train/cca_preds/cca_final_model_test_in_train_cos_predictions_df.pickle').load_pickle()\n",
    "\n",
    "\n",
    "deepcca_cos_preds_df = Files(f'./sdl_logs/sdl_optimized_params/test_in_train/sdl_preds/sdl_final_model_test_in_train_cos_predictions_df.pickle').load_pickle()"
   ]
  },
  {
   "cell_type": "code",
   "execution_count": 69,
   "id": "e96a4785",
   "metadata": {},
   "outputs": [
    {
     "data": {
      "text/html": [
       "<div>\n",
       "<style scoped>\n",
       "    .dataframe tbody tr th:only-of-type {\n",
       "        vertical-align: middle;\n",
       "    }\n",
       "\n",
       "    .dataframe tbody tr th {\n",
       "        vertical-align: top;\n",
       "    }\n",
       "\n",
       "    .dataframe thead th {\n",
       "        text-align: right;\n",
       "    }\n",
       "</style>\n",
       "<table border=\"1\" class=\"dataframe\">\n",
       "  <thead>\n",
       "    <tr style=\"text-align: right;\">\n",
       "      <th></th>\n",
       "      <th>top_20_cos</th>\n",
       "      <th>true_cos</th>\n",
       "      <th>top_20_inchi14</th>\n",
       "      <th>top_20_tanis</th>\n",
       "      <th>true_tanimoto</th>\n",
       "    </tr>\n",
       "  </thead>\n",
       "  <tbody>\n",
       "    <tr>\n",
       "      <th>spec_id5019</th>\n",
       "      <td>[0.4874317696871563, 0.538352808026564, 0.5383...</td>\n",
       "      <td>None</td>\n",
       "      <td>[KQWVAUSXZDRQPZ, BGDKAVGWHJFAGW, BGDKAVGWHJFAG...</td>\n",
       "      <td>[0.3756, 0.2338, 0.2338, 0.2338, 0.4323, 0.190...</td>\n",
       "      <td>None</td>\n",
       "    </tr>\n",
       "    <tr>\n",
       "      <th>spec_id39710</th>\n",
       "      <td>[0.5410612622340265, 0.5410613302630315, 0.541...</td>\n",
       "      <td>0.824509</td>\n",
       "      <td>[LOCBOCXGFMHGIJ, ACRIYYKEWCXQOS, ACRIYYKEWCXQO...</td>\n",
       "      <td>[0.4561, 0.4532, 0.4532, 0.4532, 0.4696, 0.469...</td>\n",
       "      <td>1.0</td>\n",
       "    </tr>\n",
       "    <tr>\n",
       "      <th>spec_id31385</th>\n",
       "      <td>[0.29714546371943873, 0.29714546371943873, 0.2...</td>\n",
       "      <td>None</td>\n",
       "      <td>[FJQKXKNZQQBTDD, FJQKXKNZQQBTDD, KVODFZNXODDEC...</td>\n",
       "      <td>[0.8492, 0.8492, 0.8556, 0.8491, 0.8713, 0.871...</td>\n",
       "      <td>None</td>\n",
       "    </tr>\n",
       "    <tr>\n",
       "      <th>spec_id12744</th>\n",
       "      <td>[0.4389980801668456, 0.45863194099733073, 0.45...</td>\n",
       "      <td>None</td>\n",
       "      <td>[KJGPBYUQZLUKLL, LPNBCGIVZXHHHO, LPNBCGIVZXHHH...</td>\n",
       "      <td>[0.8122, 0.8322, 0.8322, 0.7712, 0.7712, 0.761...</td>\n",
       "      <td>None</td>\n",
       "    </tr>\n",
       "    <tr>\n",
       "      <th>spec_id23060</th>\n",
       "      <td>[0.5418967182686398, 0.5418967182686398, 0.541...</td>\n",
       "      <td>1.000815</td>\n",
       "      <td>[LVTYKMKIIOONPM, LVTYKMKIIOONPM, LVTYKMKIIOONP...</td>\n",
       "      <td>[0.2975, 0.2975, 0.2975, 0.2972, 0.2972, 0.297...</td>\n",
       "      <td>1.0</td>\n",
       "    </tr>\n",
       "  </tbody>\n",
       "</table>\n",
       "</div>"
      ],
      "text/plain": [
       "                                                     top_20_cos  true_cos  \\\n",
       "spec_id5019   [0.4874317696871563, 0.538352808026564, 0.5383...      None   \n",
       "spec_id39710  [0.5410612622340265, 0.5410613302630315, 0.541...  0.824509   \n",
       "spec_id31385  [0.29714546371943873, 0.29714546371943873, 0.2...      None   \n",
       "spec_id12744  [0.4389980801668456, 0.45863194099733073, 0.45...      None   \n",
       "spec_id23060  [0.5418967182686398, 0.5418967182686398, 0.541...  1.000815   \n",
       "\n",
       "                                                 top_20_inchi14  \\\n",
       "spec_id5019   [KQWVAUSXZDRQPZ, BGDKAVGWHJFAGW, BGDKAVGWHJFAG...   \n",
       "spec_id39710  [LOCBOCXGFMHGIJ, ACRIYYKEWCXQOS, ACRIYYKEWCXQO...   \n",
       "spec_id31385  [FJQKXKNZQQBTDD, FJQKXKNZQQBTDD, KVODFZNXODDEC...   \n",
       "spec_id12744  [KJGPBYUQZLUKLL, LPNBCGIVZXHHHO, LPNBCGIVZXHHH...   \n",
       "spec_id23060  [LVTYKMKIIOONPM, LVTYKMKIIOONPM, LVTYKMKIIOONP...   \n",
       "\n",
       "                                                   top_20_tanis true_tanimoto  \n",
       "spec_id5019   [0.3756, 0.2338, 0.2338, 0.2338, 0.4323, 0.190...          None  \n",
       "spec_id39710  [0.4561, 0.4532, 0.4532, 0.4532, 0.4696, 0.469...           1.0  \n",
       "spec_id31385  [0.8492, 0.8492, 0.8556, 0.8491, 0.8713, 0.871...          None  \n",
       "spec_id12744  [0.8122, 0.8322, 0.8322, 0.7712, 0.7712, 0.761...          None  \n",
       "spec_id23060  [0.2975, 0.2975, 0.2975, 0.2972, 0.2972, 0.297...           1.0  "
      ]
     },
     "execution_count": 69,
     "metadata": {},
     "output_type": "execute_result"
    }
   ],
   "source": [
    "cca_cos_preds_df.head(5)"
   ]
  },
  {
   "cell_type": "code",
   "execution_count": 70,
   "id": "bf7ee7f8",
   "metadata": {},
   "outputs": [
    {
     "data": {
      "text/html": [
       "<div>\n",
       "<style scoped>\n",
       "    .dataframe tbody tr th:only-of-type {\n",
       "        vertical-align: middle;\n",
       "    }\n",
       "\n",
       "    .dataframe tbody tr th {\n",
       "        vertical-align: top;\n",
       "    }\n",
       "\n",
       "    .dataframe thead th {\n",
       "        text-align: right;\n",
       "    }\n",
       "</style>\n",
       "<table border=\"1\" class=\"dataframe\">\n",
       "  <thead>\n",
       "    <tr style=\"text-align: right;\">\n",
       "      <th></th>\n",
       "      <th>top_20_cos</th>\n",
       "      <th>true_cos</th>\n",
       "      <th>top_20_inchi14</th>\n",
       "      <th>top_20_tanis</th>\n",
       "      <th>true_tanimoto</th>\n",
       "    </tr>\n",
       "  </thead>\n",
       "  <tbody>\n",
       "    <tr>\n",
       "      <th>spec_id5019</th>\n",
       "      <td>[0.06949430704116821, 0.07175719738006592, 0.0...</td>\n",
       "      <td>None</td>\n",
       "      <td>[QHWOFMXDKFORMO, QHWOFMXDKFORMO, HJORMJIFDVBMO...</td>\n",
       "      <td>[0.3516, 0.3516, 0.3549, 0.5215, 0.3529, 0.354...</td>\n",
       "      <td>None</td>\n",
       "    </tr>\n",
       "    <tr>\n",
       "      <th>spec_id39710</th>\n",
       "      <td>[0.02597564458847046, 0.026072323322296143, 0....</td>\n",
       "      <td>0.084364</td>\n",
       "      <td>[BJYHZSNSMVEQEH, RZCBRIXDECISPR, BJYHZSNSMVEQE...</td>\n",
       "      <td>[0.344, 0.3273, 0.344, 0.3204, 0.3204, 0.4186,...</td>\n",
       "      <td>1.0</td>\n",
       "    </tr>\n",
       "    <tr>\n",
       "      <th>spec_id31385</th>\n",
       "      <td>[0.009886324405670166, 0.010262727737426758, 0...</td>\n",
       "      <td>None</td>\n",
       "      <td>[ZEJXENDZTYVXDP, KBHXFAMQPPWLFT, BJJCTXDEJUWVI...</td>\n",
       "      <td>[0.8848, 0.8632, 0.7949, 0.7949, 0.8632, 0.836...</td>\n",
       "      <td>None</td>\n",
       "    </tr>\n",
       "    <tr>\n",
       "      <th>spec_id12744</th>\n",
       "      <td>[0.022225618362426758, 0.0259249210357666, 0.0...</td>\n",
       "      <td>None</td>\n",
       "      <td>[SSRCYGATNWFTBJ, VFZIJLPRJAQGFO, KJGPBYUQZLUKL...</td>\n",
       "      <td>[0.7792, 0.9497, 0.8122, 0.7784, 0.7792, 0.511...</td>\n",
       "      <td>None</td>\n",
       "    </tr>\n",
       "    <tr>\n",
       "      <th>spec_id23060</th>\n",
       "      <td>[0.06581491231918335, 0.07310235500335693, 0.0...</td>\n",
       "      <td>0.335992</td>\n",
       "      <td>[PUIAUUSJWDDCLR, ZMIQCOSRPMWYLS, LJGOHKSMJNTMA...</td>\n",
       "      <td>[0.5472, 0.532, 0.5941, 0.5472, 0.5472, 0.5311...</td>\n",
       "      <td>1.0</td>\n",
       "    </tr>\n",
       "  </tbody>\n",
       "</table>\n",
       "</div>"
      ],
      "text/plain": [
       "                                                     top_20_cos  true_cos  \\\n",
       "spec_id5019   [0.06949430704116821, 0.07175719738006592, 0.0...      None   \n",
       "spec_id39710  [0.02597564458847046, 0.026072323322296143, 0....  0.084364   \n",
       "spec_id31385  [0.009886324405670166, 0.010262727737426758, 0...      None   \n",
       "spec_id12744  [0.022225618362426758, 0.0259249210357666, 0.0...      None   \n",
       "spec_id23060  [0.06581491231918335, 0.07310235500335693, 0.0...  0.335992   \n",
       "\n",
       "                                                 top_20_inchi14  \\\n",
       "spec_id5019   [QHWOFMXDKFORMO, QHWOFMXDKFORMO, HJORMJIFDVBMO...   \n",
       "spec_id39710  [BJYHZSNSMVEQEH, RZCBRIXDECISPR, BJYHZSNSMVEQE...   \n",
       "spec_id31385  [ZEJXENDZTYVXDP, KBHXFAMQPPWLFT, BJJCTXDEJUWVI...   \n",
       "spec_id12744  [SSRCYGATNWFTBJ, VFZIJLPRJAQGFO, KJGPBYUQZLUKL...   \n",
       "spec_id23060  [PUIAUUSJWDDCLR, ZMIQCOSRPMWYLS, LJGOHKSMJNTMA...   \n",
       "\n",
       "                                                   top_20_tanis true_tanimoto  \n",
       "spec_id5019   [0.3516, 0.3516, 0.3549, 0.5215, 0.3529, 0.354...          None  \n",
       "spec_id39710  [0.344, 0.3273, 0.344, 0.3204, 0.3204, 0.4186,...           1.0  \n",
       "spec_id31385  [0.8848, 0.8632, 0.7949, 0.7949, 0.8632, 0.836...          None  \n",
       "spec_id12744  [0.7792, 0.9497, 0.8122, 0.7784, 0.7792, 0.511...          None  \n",
       "spec_id23060  [0.5472, 0.532, 0.5941, 0.5472, 0.5472, 0.5311...           1.0  "
      ]
     },
     "execution_count": 70,
     "metadata": {},
     "output_type": "execute_result"
    }
   ],
   "source": [
    "deepcca_cos_preds_df.head()"
   ]
  },
  {
   "cell_type": "code",
   "execution_count": 75,
   "id": "9fcc609d",
   "metadata": {},
   "outputs": [],
   "source": [
    "def get_top_k(preds_df,top_k,item='top_20_tanis'):\n",
    "    top_k_item = []    \n",
    "    for tanis in preds_df[item]:\n",
    "        if item == 'top_20_cos':\n",
    "            top_k_item.append(np.mean(tanis[:top_k]))\n",
    "        else:\n",
    "            top_k_item.append(max(tanis[:top_k]))\n",
    "        #break\n",
    "    return top_k_item"
   ]
  },
  {
   "cell_type": "code",
   "execution_count": 76,
   "id": "4580183c",
   "metadata": {},
   "outputs": [
    {
     "data": {
      "text/html": [
       "<div>\n",
       "<style scoped>\n",
       "    .dataframe tbody tr th:only-of-type {\n",
       "        vertical-align: middle;\n",
       "    }\n",
       "\n",
       "    .dataframe tbody tr th {\n",
       "        vertical-align: top;\n",
       "    }\n",
       "\n",
       "    .dataframe thead th {\n",
       "        text-align: right;\n",
       "    }\n",
       "</style>\n",
       "<table border=\"1\" class=\"dataframe\">\n",
       "  <thead>\n",
       "    <tr style=\"text-align: right;\">\n",
       "      <th></th>\n",
       "      <th>top_1</th>\n",
       "      <th>top_5</th>\n",
       "      <th>top_10</th>\n",
       "      <th>top_15</th>\n",
       "      <th>top_20</th>\n",
       "    </tr>\n",
       "  </thead>\n",
       "  <tbody>\n",
       "    <tr>\n",
       "      <th>0</th>\n",
       "      <td>0.3756</td>\n",
       "      <td>0.4323</td>\n",
       "      <td>0.4323</td>\n",
       "      <td>0.5817</td>\n",
       "      <td>0.7291</td>\n",
       "    </tr>\n",
       "    <tr>\n",
       "      <th>1</th>\n",
       "      <td>0.4561</td>\n",
       "      <td>0.4696</td>\n",
       "      <td>0.4855</td>\n",
       "      <td>0.4869</td>\n",
       "      <td>0.4916</td>\n",
       "    </tr>\n",
       "    <tr>\n",
       "      <th>2</th>\n",
       "      <td>0.8492</td>\n",
       "      <td>0.8713</td>\n",
       "      <td>0.8720</td>\n",
       "      <td>0.8720</td>\n",
       "      <td>0.8720</td>\n",
       "    </tr>\n",
       "    <tr>\n",
       "      <th>3</th>\n",
       "      <td>0.8122</td>\n",
       "      <td>0.8322</td>\n",
       "      <td>0.8322</td>\n",
       "      <td>0.9329</td>\n",
       "      <td>0.9329</td>\n",
       "    </tr>\n",
       "    <tr>\n",
       "      <th>4</th>\n",
       "      <td>0.2975</td>\n",
       "      <td>0.2975</td>\n",
       "      <td>0.5313</td>\n",
       "      <td>0.5313</td>\n",
       "      <td>0.5313</td>\n",
       "    </tr>\n",
       "  </tbody>\n",
       "</table>\n",
       "</div>"
      ],
      "text/plain": [
       "    top_1   top_5  top_10  top_15  top_20\n",
       "0  0.3756  0.4323  0.4323  0.5817  0.7291\n",
       "1  0.4561  0.4696  0.4855  0.4869  0.4916\n",
       "2  0.8492  0.8713  0.8720  0.8720  0.8720\n",
       "3  0.8122  0.8322  0.8322  0.9329  0.9329\n",
       "4  0.2975  0.2975  0.5313  0.5313  0.5313"
      ]
     },
     "execution_count": 76,
     "metadata": {},
     "output_type": "execute_result"
    }
   ],
   "source": [
    "top = [1,5,10,15,20]\n",
    "\n",
    "#cca_top_tanis = []\n",
    "cca_top_tanis_df = pd.DataFrame()\n",
    "for i in top:\n",
    "    \n",
    "    tanis = get_top_k(preds_df=cca_cos_preds_df,\n",
    "                            top_k=i,\n",
    "                           item='top_20_tanis')\n",
    "    #cca_top_tanis.append(tanis)\n",
    "    cca_top_tanis_df[f'top_{i}'] = tanis\n",
    "    \n",
    "\n",
    "\n",
    "cca_top_tanis_df.head()\n"
   ]
  },
  {
   "cell_type": "code",
   "execution_count": 100,
   "id": "02a0d661",
   "metadata": {},
   "outputs": [
    {
     "name": "stderr",
     "output_type": "stream",
     "text": [
      "C:\\Users\\lmeli\\AppData\\Local\\Programs\\Python\\Python39\\lib\\site-packages\\seaborn\\categorical.py:82: FutureWarning: iteritems is deprecated and will be removed in a future version. Use .items instead.\n",
      "  plot_data = [np.asarray(s, float) for k, s in iter_data]\n"
     ]
    },
    {
     "data": {
      "image/png": "[encoded data removed]",
      "text/plain": [
       "<Figure size 480x640 with 1 Axes>"
      ]
     },
     "metadata": {
      "needs_background": "light"
     },
     "output_type": "display_data"
    }
   ],
   "source": [
    "plt.figure(figsize=(4.8, 6.4),dpi=100)\n",
    "ax = sns.boxplot(data=cca_top_tanis_df, orient='h',\n",
    "             showmeans = True,#palette= [sns.color_palette(\"colorblind\")[6],sns.color_palette(\"colorblind\")[5]],\n",
    "           meanprops={\"marker\":\"o\",\n",
    "                      \"markerfacecolor\":\"white\", \n",
    "                      \"markeredgecolor\":\"black\",\n",
    "                      \"markersize\":\"10\"})\\\n",
    "\n",
    "plt.text(x=0.48,y=0,s=round(np.mean(cca_top_tanis_df['top_1']),3))\n",
    "plt.text(x=0.5,y=0.9,s=round(np.mean(cca_top_tanis_df['top_5']),3))\n",
    "plt.text(x=0.53,y=1.9,s=round(np.mean(cca_top_tanis_df['top_10']),3))\n",
    "plt.text(x=0.53,y=2.9,s=round(np.mean(cca_top_tanis_df['top_15']),3))\n",
    "plt.text(x=0.57,y=3.9,s=round(np.mean(cca_top_tanis_df['top_20']),3))\n",
    "plt.xlabel('Tanimoto scores', fontsize=13)\n",
    "\n",
    "plt.savefig('./sdl_logs/figures/cca_top_k_tanis.pdf',format='pdf',\n",
    "           transparent=False,bbox_inches = 'tight')\n",
    "\n",
    "plt.show()"
   ]
  },
  {
   "cell_type": "code",
   "execution_count": 77,
   "id": "c91cd109",
   "metadata": {},
   "outputs": [
    {
     "data": {
      "text/html": [
       "<div>\n",
       "<style scoped>\n",
       "    .dataframe tbody tr th:only-of-type {\n",
       "        vertical-align: middle;\n",
       "    }\n",
       "\n",
       "    .dataframe tbody tr th {\n",
       "        vertical-align: top;\n",
       "    }\n",
       "\n",
       "    .dataframe thead th {\n",
       "        text-align: right;\n",
       "    }\n",
       "</style>\n",
       "<table border=\"1\" class=\"dataframe\">\n",
       "  <thead>\n",
       "    <tr style=\"text-align: right;\">\n",
       "      <th></th>\n",
       "      <th>top_1</th>\n",
       "      <th>top_5</th>\n",
       "      <th>top_10</th>\n",
       "      <th>top_15</th>\n",
       "      <th>top_20</th>\n",
       "    </tr>\n",
       "  </thead>\n",
       "  <tbody>\n",
       "    <tr>\n",
       "      <th>0</th>\n",
       "      <td>0.487432</td>\n",
       "      <td>0.537206</td>\n",
       "      <td>0.575201</td>\n",
       "      <td>0.591501</td>\n",
       "      <td>0.600768</td>\n",
       "    </tr>\n",
       "    <tr>\n",
       "      <th>1</th>\n",
       "      <td>0.541061</td>\n",
       "      <td>0.542956</td>\n",
       "      <td>0.549725</td>\n",
       "      <td>0.555042</td>\n",
       "      <td>0.559569</td>\n",
       "    </tr>\n",
       "    <tr>\n",
       "      <th>2</th>\n",
       "      <td>0.297145</td>\n",
       "      <td>0.297523</td>\n",
       "      <td>0.299627</td>\n",
       "      <td>0.304441</td>\n",
       "      <td>0.307704</td>\n",
       "    </tr>\n",
       "    <tr>\n",
       "      <th>3</th>\n",
       "      <td>0.438998</td>\n",
       "      <td>0.455140</td>\n",
       "      <td>0.458881</td>\n",
       "      <td>0.464514</td>\n",
       "      <td>0.469487</td>\n",
       "    </tr>\n",
       "    <tr>\n",
       "      <th>4</th>\n",
       "      <td>0.541897</td>\n",
       "      <td>0.548358</td>\n",
       "      <td>0.557168</td>\n",
       "      <td>0.563123</td>\n",
       "      <td>0.574505</td>\n",
       "    </tr>\n",
       "  </tbody>\n",
       "</table>\n",
       "</div>"
      ],
      "text/plain": [
       "      top_1     top_5    top_10    top_15    top_20\n",
       "0  0.487432  0.537206  0.575201  0.591501  0.600768\n",
       "1  0.541061  0.542956  0.549725  0.555042  0.559569\n",
       "2  0.297145  0.297523  0.299627  0.304441  0.307704\n",
       "3  0.438998  0.455140  0.458881  0.464514  0.469487\n",
       "4  0.541897  0.548358  0.557168  0.563123  0.574505"
      ]
     },
     "execution_count": 77,
     "metadata": {},
     "output_type": "execute_result"
    }
   ],
   "source": [
    "top = [1,5,10,15,20]\n",
    "\n",
    "#cca_top_tanis = []\n",
    "cca_top_cos_df = pd.DataFrame()\n",
    "for i in top:\n",
    "    \n",
    "    tanis = get_top_k(preds_df=cca_cos_preds_df,\n",
    "                            top_k=i,\n",
    "                           item='top_20_cos')\n",
    "    #cca_top_tanis.append(tanis)\n",
    "    cca_top_cos_df[f'top_{i}'] = tanis\n",
    "    \n",
    "\n",
    "\n",
    "cca_top_cos_df.head()"
   ]
  },
  {
   "cell_type": "code",
   "execution_count": null,
   "id": "d54b3ee2",
   "metadata": {},
   "outputs": [],
   "source": []
  },
  {
   "cell_type": "code",
   "execution_count": 117,
   "id": "3d7df8d9",
   "metadata": {},
   "outputs": [
    {
     "name": "stderr",
     "output_type": "stream",
     "text": [
      "C:\\Users\\lmeli\\AppData\\Local\\Programs\\Python\\Python39\\lib\\site-packages\\seaborn\\categorical.py:82: FutureWarning: iteritems is deprecated and will be removed in a future version. Use .items instead.\n",
      "  plot_data = [np.asarray(s, float) for k, s in iter_data]\n"
     ]
    },
    {
     "data": {
      "image/png": "[encoded data removed]",
      "text/plain": [
       "<Figure size 480x640 with 1 Axes>"
      ]
     },
     "metadata": {
      "needs_background": "light"
     },
     "output_type": "display_data"
    }
   ],
   "source": [
    "plt.figure(figsize=(4.8, 6.4),dpi=100)\n",
    "ax = sns.boxplot(data=cca_top_cos_df, orient='h',\n",
    "             showmeans = True,#palette= [sns.color_palette(\"colorblind\")[6],sns.color_palette(\"colorblind\")[5]],\n",
    "           meanprops={\"marker\":\"o\",\n",
    "                      \"markerfacecolor\":\"white\", \n",
    "                      \"markeredgecolor\":\"black\",\n",
    "                      \"markersize\":\"10\"})\\\n",
    "\n",
    "plt.text(x=0.48,y=0,s=round(np.mean(cca_top_cos_df['top_1']),3))\n",
    "plt.text(x=0.48,y=0.9,s=round(np.mean(cca_top_cos_df['top_5']),3))\n",
    "plt.text(x=0.49,y=1.9,s=round(np.mean(cca_top_cos_df['top_10']),3))\n",
    "plt.text(x=0.5,y=2.9,s=round(np.mean(cca_top_cos_df['top_15']),3))\n",
    "plt.text(x=0.51,y=3.9,s=round(np.mean(cca_top_cos_df['top_20']),3))\n",
    "plt.xlabel('Mean cosine distance', fontsize=13)\n",
    "\n",
    "plt.savefig('./sdl_logs/figures/cca_top_k_cosine.pdf',format='pdf',\n",
    "           transparent=False,bbox_inches = 'tight')\n",
    "\n",
    "plt.show()"
   ]
  },
  {
   "cell_type": "markdown",
   "id": "95d4bb15",
   "metadata": {},
   "source": [
    "<h2> Examine DeepCCA top k </h2>"
   ]
  },
  {
   "cell_type": "code",
   "execution_count": 87,
   "id": "4bcb4a28",
   "metadata": {},
   "outputs": [
    {
     "data": {
      "text/html": [
       "<div>\n",
       "<style scoped>\n",
       "    .dataframe tbody tr th:only-of-type {\n",
       "        vertical-align: middle;\n",
       "    }\n",
       "\n",
       "    .dataframe tbody tr th {\n",
       "        vertical-align: top;\n",
       "    }\n",
       "\n",
       "    .dataframe thead th {\n",
       "        text-align: right;\n",
       "    }\n",
       "</style>\n",
       "<table border=\"1\" class=\"dataframe\">\n",
       "  <thead>\n",
       "    <tr style=\"text-align: right;\">\n",
       "      <th></th>\n",
       "      <th>top_1</th>\n",
       "      <th>top_5</th>\n",
       "      <th>top_10</th>\n",
       "      <th>top_15</th>\n",
       "      <th>top_20</th>\n",
       "    </tr>\n",
       "  </thead>\n",
       "  <tbody>\n",
       "    <tr>\n",
       "      <th>0</th>\n",
       "      <td>0.3516</td>\n",
       "      <td>0.5215</td>\n",
       "      <td>0.5215</td>\n",
       "      <td>0.5215</td>\n",
       "      <td>0.5215</td>\n",
       "    </tr>\n",
       "    <tr>\n",
       "      <th>1</th>\n",
       "      <td>0.3440</td>\n",
       "      <td>0.3440</td>\n",
       "      <td>0.4202</td>\n",
       "      <td>0.4381</td>\n",
       "      <td>0.4381</td>\n",
       "    </tr>\n",
       "    <tr>\n",
       "      <th>2</th>\n",
       "      <td>0.8848</td>\n",
       "      <td>0.8848</td>\n",
       "      <td>0.8848</td>\n",
       "      <td>0.8848</td>\n",
       "      <td>0.8913</td>\n",
       "    </tr>\n",
       "    <tr>\n",
       "      <th>3</th>\n",
       "      <td>0.7792</td>\n",
       "      <td>0.9497</td>\n",
       "      <td>0.9497</td>\n",
       "      <td>0.9497</td>\n",
       "      <td>0.9497</td>\n",
       "    </tr>\n",
       "    <tr>\n",
       "      <th>4</th>\n",
       "      <td>0.5472</td>\n",
       "      <td>0.5941</td>\n",
       "      <td>0.5941</td>\n",
       "      <td>0.5941</td>\n",
       "      <td>0.6005</td>\n",
       "    </tr>\n",
       "  </tbody>\n",
       "</table>\n",
       "</div>"
      ],
      "text/plain": [
       "    top_1   top_5  top_10  top_15  top_20\n",
       "0  0.3516  0.5215  0.5215  0.5215  0.5215\n",
       "1  0.3440  0.3440  0.4202  0.4381  0.4381\n",
       "2  0.8848  0.8848  0.8848  0.8848  0.8913\n",
       "3  0.7792  0.9497  0.9497  0.9497  0.9497\n",
       "4  0.5472  0.5941  0.5941  0.5941  0.6005"
      ]
     },
     "execution_count": 87,
     "metadata": {},
     "output_type": "execute_result"
    }
   ],
   "source": [
    "top = [1,5,10,15,20]\n",
    "\n",
    "\n",
    "deepcca_top_tanis_df = pd.DataFrame()\n",
    "for i in top:\n",
    "    \n",
    "    tanis = get_top_k(preds_df=deepcca_cos_preds_df,\n",
    "                            top_k=i,\n",
    "                           item='top_20_tanis')\n",
    "    \n",
    "    deepcca_top_tanis_df[f'top_{i}'] = tanis\n",
    "    \n",
    "\n",
    "\n",
    "deepcca_top_tanis_df.head()\n"
   ]
  },
  {
   "cell_type": "code",
   "execution_count": 96,
   "id": "2eef3d1a",
   "metadata": {},
   "outputs": [
    {
     "name": "stderr",
     "output_type": "stream",
     "text": [
      "C:\\Users\\lmeli\\AppData\\Local\\Programs\\Python\\Python39\\lib\\site-packages\\seaborn\\categorical.py:82: FutureWarning: iteritems is deprecated and will be removed in a future version. Use .items instead.\n",
      "  plot_data = [np.asarray(s, float) for k, s in iter_data]\n"
     ]
    },
    {
     "data": {
      "image/png": "[encoded data removed]",
      "text/plain": [
       "<Figure size 480x640 with 1 Axes>"
      ]
     },
     "metadata": {
      "needs_background": "light"
     },
     "output_type": "display_data"
    }
   ],
   "source": [
    "plt.figure(figsize=(4.8, 6.4),dpi=100)\n",
    "ax = sns.boxplot(data=deepcca_top_tanis_df, orient='h',\n",
    "             showmeans = True,#palette= [sns.color_palette(\"colorblind\")[6],sns.color_palette(\"colorblind\")[5]],\n",
    "           meanprops={\"marker\":\"o\",\n",
    "                      \"markerfacecolor\":\"white\", \n",
    "                      \"markeredgecolor\":\"black\",\n",
    "                      \"markersize\":\"10\"})\\\n",
    "\n",
    "plt.text(x=0.44,y=0,s=round(np.mean(deepcca_top_tanis_df['top_1']),3))\n",
    "plt.text(x=0.49,y=0.9,s=round(np.mean(deepcca_top_tanis_df['top_5']),3))\n",
    "plt.text(x=0.52,y=1.9,s=round(np.mean(deepcca_top_tanis_df['top_10']),3))\n",
    "plt.text(x=0.55,y=2.9,s=round(np.mean(deepcca_top_tanis_df['top_15']),3))\n",
    "plt.text(x=0.56,y=3.9,s=round(np.mean(deepcca_top_tanis_df['top_20']),3))\n",
    "plt.xlabel('Tanimoto scores', fontsize=13)\n",
    "\n",
    "plt.savefig('./sdl_logs/figures/deepcca_top_k_tanis.pdf',format='pdf',\n",
    "           transparent=False,bbox_inches = 'tight')\n",
    "\n",
    "\n",
    "plt.show()"
   ]
  },
  {
   "cell_type": "code",
   "execution_count": 109,
   "id": "976f56df",
   "metadata": {},
   "outputs": [
    {
     "data": {
      "text/html": [
       "<div>\n",
       "<style scoped>\n",
       "    .dataframe tbody tr th:only-of-type {\n",
       "        vertical-align: middle;\n",
       "    }\n",
       "\n",
       "    .dataframe tbody tr th {\n",
       "        vertical-align: top;\n",
       "    }\n",
       "\n",
       "    .dataframe thead th {\n",
       "        text-align: right;\n",
       "    }\n",
       "</style>\n",
       "<table border=\"1\" class=\"dataframe\">\n",
       "  <thead>\n",
       "    <tr style=\"text-align: right;\">\n",
       "      <th></th>\n",
       "      <th>top_1</th>\n",
       "      <th>top_5</th>\n",
       "      <th>top_10</th>\n",
       "      <th>top_15</th>\n",
       "      <th>top_20</th>\n",
       "    </tr>\n",
       "  </thead>\n",
       "  <tbody>\n",
       "    <tr>\n",
       "      <th>0</th>\n",
       "      <td>0.069494</td>\n",
       "      <td>0.076800</td>\n",
       "      <td>0.085985</td>\n",
       "      <td>0.092730</td>\n",
       "      <td>0.097211</td>\n",
       "    </tr>\n",
       "    <tr>\n",
       "      <th>1</th>\n",
       "      <td>0.025976</td>\n",
       "      <td>0.028157</td>\n",
       "      <td>0.030632</td>\n",
       "      <td>0.031898</td>\n",
       "      <td>0.032850</td>\n",
       "    </tr>\n",
       "    <tr>\n",
       "      <th>2</th>\n",
       "      <td>0.009886</td>\n",
       "      <td>0.010323</td>\n",
       "      <td>0.010624</td>\n",
       "      <td>0.010770</td>\n",
       "      <td>0.010915</td>\n",
       "    </tr>\n",
       "    <tr>\n",
       "      <th>3</th>\n",
       "      <td>0.022226</td>\n",
       "      <td>0.025620</td>\n",
       "      <td>0.027460</td>\n",
       "      <td>0.028512</td>\n",
       "      <td>0.029300</td>\n",
       "    </tr>\n",
       "    <tr>\n",
       "      <th>4</th>\n",
       "      <td>0.065815</td>\n",
       "      <td>0.073582</td>\n",
       "      <td>0.085954</td>\n",
       "      <td>0.094326</td>\n",
       "      <td>0.099970</td>\n",
       "    </tr>\n",
       "  </tbody>\n",
       "</table>\n",
       "</div>"
      ],
      "text/plain": [
       "      top_1     top_5    top_10    top_15    top_20\n",
       "0  0.069494  0.076800  0.085985  0.092730  0.097211\n",
       "1  0.025976  0.028157  0.030632  0.031898  0.032850\n",
       "2  0.009886  0.010323  0.010624  0.010770  0.010915\n",
       "3  0.022226  0.025620  0.027460  0.028512  0.029300\n",
       "4  0.065815  0.073582  0.085954  0.094326  0.099970"
      ]
     },
     "execution_count": 109,
     "metadata": {},
     "output_type": "execute_result"
    }
   ],
   "source": [
    "top = [1,5,10,15,20]\n",
    "\n",
    "#cca_top_tanis = []\n",
    "deepcca_top_cos_df = pd.DataFrame()\n",
    "for i in top:\n",
    "    \n",
    "    tanis = get_top_k(preds_df=deepcca_cos_preds_df,\n",
    "                            top_k=i,\n",
    "                           item='top_20_cos')\n",
    "    #cca_top_tanis.append(tanis)\n",
    "    deepcca_top_cos_df[f'top_{i}'] = tanis\n",
    "    \n",
    "\n",
    "\n",
    "deepcca_top_cos_df.head()"
   ]
  },
  {
   "cell_type": "code",
   "execution_count": 116,
   "id": "dfddc2cd",
   "metadata": {},
   "outputs": [
    {
     "name": "stderr",
     "output_type": "stream",
     "text": [
      "C:\\Users\\lmeli\\AppData\\Local\\Programs\\Python\\Python39\\lib\\site-packages\\seaborn\\categorical.py:82: FutureWarning: iteritems is deprecated and will be removed in a future version. Use .items instead.\n",
      "  plot_data = [np.asarray(s, float) for k, s in iter_data]\n"
     ]
    },
    {
     "data": {
      "image/png": "[encoded data removed]",
      "text/plain": [
       "<Figure size 480x640 with 1 Axes>"
      ]
     },
     "metadata": {
      "needs_background": "light"
     },
     "output_type": "display_data"
    }
   ],
   "source": [
    "plt.figure(figsize=(4.8, 6.4),dpi=100)\n",
    "ax = sns.boxplot(data=deepcca_top_cos_df, orient='h',\n",
    "             showmeans = True,#palette= [sns.color_palette(\"colorblind\")[6],sns.color_palette(\"colorblind\")[5]],\n",
    "           meanprops={\"marker\":\"o\",\n",
    "                      \"markerfacecolor\":\"white\", \n",
    "                      \"markeredgecolor\":\"black\",\n",
    "                      \"markersize\":\"10\"})\\\n",
    "\n",
    "plt.text(x=0.049,y=0,s=round(np.mean(deepcca_top_cos_df['top_1']),3))\n",
    "plt.text(x=0.053,y=0.9,s=round(np.mean(deepcca_top_cos_df['top_5']),3))\n",
    "plt.text(x=0.057,y=1.9,s=round(np.mean(deepcca_top_cos_df['top_10']),3))\n",
    "plt.text(x=0.060,y=2.9,s=round(np.mean(deepcca_top_cos_df['top_15']),3))\n",
    "plt.text(x=0.062,y=3.9,s=round(np.mean(deepcca_top_cos_df['top_20']),3))\n",
    "plt.xlabel('Mean cosine distance', fontsize=13)\n",
    "\n",
    "plt.savefig('./sdl_logs/figures/deepcca_top_k_cosine.pdf',format='pdf',\n",
    "           transparent=False,bbox_inches = 'tight')\n",
    "\n",
    "\n",
    "plt.show()"
   ]
  },
  {
   "cell_type": "markdown",
   "id": "e7ede44f",
   "metadata": {},
   "source": [
    "<h3> Examine true cosine distance and true correlation <h3>"
   ]
  },
  {
   "cell_type": "code",
   "execution_count": 78,
   "id": "22e031d0",
   "metadata": {},
   "outputs": [],
   "source": [
    "deepcca_true_cos_df = deepcca_cos_preds_df.loc[deepcca_cos_preds_df['true_cos'].notnull()] \n",
    "\n",
    "cca_true_cos_df = cca_cos_preds_df.loc[cca_cos_preds_df['true_cos'].notnull()] "
   ]
  },
  {
   "cell_type": "code",
   "execution_count": 82,
   "id": "8b3b2915",
   "metadata": {
    "scrolled": true
   },
   "outputs": [
    {
     "data": {
      "text/html": [
       "<div>\n",
       "<style scoped>\n",
       "    .dataframe tbody tr th:only-of-type {\n",
       "        vertical-align: middle;\n",
       "    }\n",
       "\n",
       "    .dataframe tbody tr th {\n",
       "        vertical-align: top;\n",
       "    }\n",
       "\n",
       "    .dataframe thead th {\n",
       "        text-align: right;\n",
       "    }\n",
       "</style>\n",
       "<table border=\"1\" class=\"dataframe\">\n",
       "  <thead>\n",
       "    <tr style=\"text-align: right;\">\n",
       "      <th></th>\n",
       "      <th>DeepCCA_cosine</th>\n",
       "      <th>CCA_cosine</th>\n",
       "    </tr>\n",
       "  </thead>\n",
       "  <tbody>\n",
       "    <tr>\n",
       "      <th>spec_id39710</th>\n",
       "      <td>0.084364</td>\n",
       "      <td>0.824509</td>\n",
       "    </tr>\n",
       "    <tr>\n",
       "      <th>spec_id23060</th>\n",
       "      <td>0.335992</td>\n",
       "      <td>1.000815</td>\n",
       "    </tr>\n",
       "    <tr>\n",
       "      <th>spec_id1415</th>\n",
       "      <td>0.004013</td>\n",
       "      <td>0.354436</td>\n",
       "    </tr>\n",
       "    <tr>\n",
       "      <th>spec_id25480</th>\n",
       "      <td>0.353494</td>\n",
       "      <td>0.960944</td>\n",
       "    </tr>\n",
       "    <tr>\n",
       "      <th>spec_id39955</th>\n",
       "      <td>0.676099</td>\n",
       "      <td>0.962341</td>\n",
       "    </tr>\n",
       "  </tbody>\n",
       "</table>\n",
       "</div>"
      ],
      "text/plain": [
       "             DeepCCA_cosine CCA_cosine\n",
       "spec_id39710       0.084364   0.824509\n",
       "spec_id23060       0.335992   1.000815\n",
       "spec_id1415        0.004013   0.354436\n",
       "spec_id25480       0.353494   0.960944\n",
       "spec_id39955       0.676099   0.962341"
      ]
     },
     "execution_count": 82,
     "metadata": {},
     "output_type": "execute_result"
    }
   ],
   "source": [
    "true_cos_df = pd.DataFrame({'DeepCCA_cosine':deepcca_true_cos_df['true_cos'],\n",
    "                           'CCA_cosine':cca_true_cos_df['true_cos']})\n",
    "\n",
    "true_cos_df.head()"
   ]
  },
  {
   "cell_type": "code",
   "execution_count": 88,
   "id": "1868341f",
   "metadata": {},
   "outputs": [
    {
     "name": "stdout",
     "output_type": "stream",
     "text": [
      "0.0008589029312133789\n"
     ]
    }
   ],
   "source": [
    "print(min(true_cos_df['DeepCCA_cosine']))"
   ]
  },
  {
   "cell_type": "code",
   "execution_count": 86,
   "id": "b40b3195",
   "metadata": {},
   "outputs": [
    {
     "data": {
      "text/plain": [
       "0.03627801323711988"
      ]
     },
     "execution_count": 86,
     "metadata": {},
     "output_type": "execute_result"
    }
   ],
   "source": [
    "min(true_cos_df['CCA_cosine'])"
   ]
  },
  {
   "cell_type": "code",
   "execution_count": 85,
   "id": "58922eed",
   "metadata": {},
   "outputs": [
    {
     "data": {
      "text/plain": [
       "2.0"
      ]
     },
     "execution_count": 85,
     "metadata": {},
     "output_type": "execute_result"
    }
   ],
   "source": [
    "distance.cosine([-1],[1])"
   ]
  },
  {
   "cell_type": "code",
   "execution_count": 145,
   "id": "b94e4956",
   "metadata": {},
   "outputs": [
    {
     "name": "stderr",
     "output_type": "stream",
     "text": [
      "C:\\Users\\lmeli\\AppData\\Local\\Programs\\Python\\Python39\\lib\\site-packages\\seaborn\\categorical.py:82: FutureWarning: iteritems is deprecated and will be removed in a future version. Use .items instead.\n",
      "  plot_data = [np.asarray(s, float) for k, s in iter_data]\n"
     ]
    },
    {
     "data": {
      "image/png": "[encoded data removed]",
      "text/plain": [
       "<Figure size 480x640 with 1 Axes>"
      ]
     },
     "metadata": {
      "needs_background": "light"
     },
     "output_type": "display_data"
    }
   ],
   "source": [
    "plt.figure(figsize=(4.8, 6.4),dpi=100)\n",
    "ax = sns.boxplot(data=true_cos_df, orient='h',\n",
    "             showmeans = True,#palette= [sns.color_palette(\"colorblind\")[6],sns.color_palette(\"colorblind\")[5]],\n",
    "           meanprops={\"marker\":\"o\",\n",
    "                      \"markerfacecolor\":\"white\", \n",
    "                      \"markeredgecolor\":\"black\",\n",
    "                      \"markersize\":\"10\"})\n",
    "plt.text(x=0.23,y=-0.05,s=round(np.mean(true_cos_df['DeepCCA']),3))\n",
    "plt.text(x=0.78,y=0.95,s=round(np.mean(true_cos_df['CCA']),3))\n",
    "plt.xlabel('True cosine distance', fontsize=15)\n",
    "plt.savefig('./sdl_logs/figures/true_cosine_distance.pdf',format='pdf',\n",
    "           transparent=False,bbox_inches = 'tight')\n",
    "plt.show()"
   ]
  },
  {
   "cell_type": "markdown",
   "id": "1170aa2b",
   "metadata": {},
   "source": [
    "<h2> Examine Model behavior on training dataset </h2>"
   ]
  },
  {
   "cell_type": "code",
   "execution_count": 69,
   "id": "693f91f0",
   "metadata": {},
   "outputs": [],
   "source": [
    "cca_train_preds_df = Files(f'./sdl_logs/sdl_optimized_params/train_in_train/cca_preds/cca_final_model_train_in_train_cos_predictions_df.pickle').load_pickle()\n",
    "\n",
    "\n",
    "deepcca_train_preds_df = Files(f'./sdl_logs/sdl_optimized_params/train_in_train/sdl_preds/sdl_final_model_train_in_train_cos_predictions_df.pickle').load_pickle()"
   ]
  },
  {
   "cell_type": "code",
   "execution_count": 70,
   "id": "a4c94c48",
   "metadata": {},
   "outputs": [
    {
     "data": {
      "text/html": [
       "<div>\n",
       "<style scoped>\n",
       "    .dataframe tbody tr th:only-of-type {\n",
       "        vertical-align: middle;\n",
       "    }\n",
       "\n",
       "    .dataframe tbody tr th {\n",
       "        vertical-align: top;\n",
       "    }\n",
       "\n",
       "    .dataframe thead th {\n",
       "        text-align: right;\n",
       "    }\n",
       "</style>\n",
       "<table border=\"1\" class=\"dataframe\">\n",
       "  <thead>\n",
       "    <tr style=\"text-align: right;\">\n",
       "      <th></th>\n",
       "      <th>top_20_cos</th>\n",
       "      <th>true_cos</th>\n",
       "      <th>top_20_inchi14</th>\n",
       "      <th>top_20_tanis</th>\n",
       "      <th>true_tanimoto</th>\n",
       "    </tr>\n",
       "  </thead>\n",
       "  <tbody>\n",
       "    <tr>\n",
       "      <th>spec_id29646</th>\n",
       "      <td>[0.4605080640828617, 0.4694450371215664, 0.473...</td>\n",
       "      <td>0.873572</td>\n",
       "      <td>[UWBDLNOCIDGPQE, CSQNHSGHAPRGPQ, DFJJAVZIHDFOG...</td>\n",
       "      <td>[0.0506, 0.0503, 0.0483, 0.0526, 0.0281, 0.026...</td>\n",
       "      <td>1.0</td>\n",
       "    </tr>\n",
       "    <tr>\n",
       "      <th>spec_id4540</th>\n",
       "      <td>[0.5664766235045722, 0.5792975236840328, 0.599...</td>\n",
       "      <td>0.907324</td>\n",
       "      <td>[BMFPATPGMGPSGR, WREMEDARWKIYJK, KFGVZDDPPJMMT...</td>\n",
       "      <td>[0.3501, 0.3144, 0.2163, 0.3097, 0.311, 0.311,...</td>\n",
       "      <td>1.0</td>\n",
       "    </tr>\n",
       "    <tr>\n",
       "      <th>spec_id25573</th>\n",
       "      <td>[0.44221175544126734, 0.48455541831302074, 0.4...</td>\n",
       "      <td>0.763907</td>\n",
       "      <td>[WMDZARSFSMZOQO, JWBXCSQZLLIOCI, DRCKHKZYDLJYF...</td>\n",
       "      <td>[0.2255, 0.1777, 0.1756, 0.1803, 0.212, 0.0604...</td>\n",
       "      <td>1.0</td>\n",
       "    </tr>\n",
       "    <tr>\n",
       "      <th>spec_id28409</th>\n",
       "      <td>[0.12624149451459366, 0.132393274515765, 0.137...</td>\n",
       "      <td>0.19471</td>\n",
       "      <td>[JLIYCCOXPQPUOY, ZTOKCBJDEGPICW, OGFVOAQTTIHER...</td>\n",
       "      <td>[0.9736, 0.9736, 0.9875, 0.9875, 0.9875, 0.987...</td>\n",
       "      <td>1.0</td>\n",
       "    </tr>\n",
       "    <tr>\n",
       "      <th>spec_id21673</th>\n",
       "      <td>[0.5285838097034956, 0.6124335869369915, 0.618...</td>\n",
       "      <td>0.802215</td>\n",
       "      <td>[UHBUSMAHWHZQKS, SYXFLGVZXNKIOY, DPXWHZUTDZOND...</td>\n",
       "      <td>[0.2711, 0.3673, 0.217, 0.3641, 0.3702, 0.224,...</td>\n",
       "      <td>1.0</td>\n",
       "    </tr>\n",
       "  </tbody>\n",
       "</table>\n",
       "</div>"
      ],
      "text/plain": [
       "                                                     top_20_cos  true_cos  \\\n",
       "spec_id29646  [0.4605080640828617, 0.4694450371215664, 0.473...  0.873572   \n",
       "spec_id4540   [0.5664766235045722, 0.5792975236840328, 0.599...  0.907324   \n",
       "spec_id25573  [0.44221175544126734, 0.48455541831302074, 0.4...  0.763907   \n",
       "spec_id28409  [0.12624149451459366, 0.132393274515765, 0.137...   0.19471   \n",
       "spec_id21673  [0.5285838097034956, 0.6124335869369915, 0.618...  0.802215   \n",
       "\n",
       "                                                 top_20_inchi14  \\\n",
       "spec_id29646  [UWBDLNOCIDGPQE, CSQNHSGHAPRGPQ, DFJJAVZIHDFOG...   \n",
       "spec_id4540   [BMFPATPGMGPSGR, WREMEDARWKIYJK, KFGVZDDPPJMMT...   \n",
       "spec_id25573  [WMDZARSFSMZOQO, JWBXCSQZLLIOCI, DRCKHKZYDLJYF...   \n",
       "spec_id28409  [JLIYCCOXPQPUOY, ZTOKCBJDEGPICW, OGFVOAQTTIHER...   \n",
       "spec_id21673  [UHBUSMAHWHZQKS, SYXFLGVZXNKIOY, DPXWHZUTDZOND...   \n",
       "\n",
       "                                                   top_20_tanis true_tanimoto  \n",
       "spec_id29646  [0.0506, 0.0503, 0.0483, 0.0526, 0.0281, 0.026...           1.0  \n",
       "spec_id4540   [0.3501, 0.3144, 0.2163, 0.3097, 0.311, 0.311,...           1.0  \n",
       "spec_id25573  [0.2255, 0.1777, 0.1756, 0.1803, 0.212, 0.0604...           1.0  \n",
       "spec_id28409  [0.9736, 0.9736, 0.9875, 0.9875, 0.9875, 0.987...           1.0  \n",
       "spec_id21673  [0.2711, 0.3673, 0.217, 0.3641, 0.3702, 0.224,...           1.0  "
      ]
     },
     "execution_count": 70,
     "metadata": {},
     "output_type": "execute_result"
    }
   ],
   "source": [
    "cca_train_preds_df.head()"
   ]
  },
  {
   "cell_type": "markdown",
   "id": "f42d17a7",
   "metadata": {},
   "source": [
    "<h3> CCA </h3>"
   ]
  },
  {
   "cell_type": "code",
   "execution_count": 71,
   "id": "300e2a26",
   "metadata": {},
   "outputs": [
    {
     "ename": "NameError",
     "evalue": "name 'get_top_k' is not defined",
     "output_type": "error",
     "traceback": [
      "\u001b[1;31m---------------------------------------------------------------------------\u001b[0m",
      "\u001b[1;31mNameError\u001b[0m                                 Traceback (most recent call last)",
      "\u001b[1;32m~\\AppData\\Local\\Temp/ipykernel_5088/687119922.py\u001b[0m in \u001b[0;36m<module>\u001b[1;34m\u001b[0m\n\u001b[0;32m      5\u001b[0m \u001b[1;32mfor\u001b[0m \u001b[0mi\u001b[0m \u001b[1;32min\u001b[0m \u001b[0mtop\u001b[0m\u001b[1;33m:\u001b[0m\u001b[1;33m\u001b[0m\u001b[1;33m\u001b[0m\u001b[0m\n\u001b[0;32m      6\u001b[0m \u001b[1;33m\u001b[0m\u001b[0m\n\u001b[1;32m----> 7\u001b[1;33m     tanis = get_top_k(preds_df=cca_train_preds_df,\n\u001b[0m\u001b[0;32m      8\u001b[0m                             \u001b[0mtop_k\u001b[0m\u001b[1;33m=\u001b[0m\u001b[0mi\u001b[0m\u001b[1;33m,\u001b[0m\u001b[1;33m\u001b[0m\u001b[1;33m\u001b[0m\u001b[0m\n\u001b[0;32m      9\u001b[0m                            item='top_20_tanis')\n",
      "\u001b[1;31mNameError\u001b[0m: name 'get_top_k' is not defined"
     ]
    }
   ],
   "source": [
    "top = [1,5,10,15,20]\n",
    "\n",
    "#cca_top_tanis = []\n",
    "train_cca_top_tanis_df = pd.DataFrame()\n",
    "for i in top:\n",
    "    \n",
    "    tanis = get_top_k(preds_df=cca_train_preds_df,\n",
    "                            top_k=i,\n",
    "                           item='top_20_tanis')\n",
    "    #cca_top_tanis.append(tanis)\n",
    "    train_cca_top_tanis_df[f'top_{i}'] = tanis\n",
    "    \n",
    "\n",
    "\n",
    "train_cca_top_tanis_df.head()\n"
   ]
  },
  {
   "cell_type": "code",
   "execution_count": 35,
   "id": "67bf620d",
   "metadata": {},
   "outputs": [
    {
     "name": "stderr",
     "output_type": "stream",
     "text": [
      "C:\\Users\\lmeli\\AppData\\Local\\Programs\\Python\\Python39\\lib\\site-packages\\seaborn\\categorical.py:82: FutureWarning: iteritems is deprecated and will be removed in a future version. Use .items instead.\n",
      "  plot_data = [np.asarray(s, float) for k, s in iter_data]\n"
     ]
    },
    {
     "data": {
      "image/png": "[encoded data removed]",
      "text/plain": [
       "<Figure size 480x640 with 1 Axes>"
      ]
     },
     "metadata": {
      "needs_background": "light"
     },
     "output_type": "display_data"
    }
   ],
   "source": [
    "plt.figure(figsize=(4.8, 6.4),dpi=100)\n",
    "ax = sns.boxplot(data=train_cca_top_tanis_df, orient='h',\n",
    "             showmeans = True,#palette= [sns.color_palette(\"colorblind\")[6],sns.color_palette(\"colorblind\")[5]],\n",
    "           meanprops={\"marker\":\"o\",\n",
    "                      \"markerfacecolor\":\"white\", \n",
    "                      \"markeredgecolor\":\"black\",\n",
    "                      \"markersize\":\"10\"})\\\n",
    "\n",
    "plt.text(x=0.46,y=-0.1,s=round(np.mean(train_cca_top_tanis_df['top_1']),3))\n",
    "plt.text(x=0.55,y=0.9,s=round(np.mean(train_cca_top_tanis_df['top_5']),3))\n",
    "plt.text(x=0.58,y=1.9,s=round(np.mean(train_cca_top_tanis_df['top_10']),3))\n",
    "plt.text(x=0.61,y=2.9,s=round(np.mean(train_cca_top_tanis_df['top_15']),3))\n",
    "plt.text(x=0.63,y=3.9,s=round(np.mean(train_cca_top_tanis_df['top_20']),3))\n",
    "plt.xlabel('Tanimoto scores', fontsize=13)\n",
    "plt.show()"
   ]
  },
  {
   "cell_type": "markdown",
   "id": "5543ed83",
   "metadata": {},
   "source": [
    "<h3> DeepCCA </h3>"
   ]
  },
  {
   "cell_type": "code",
   "execution_count": 36,
   "id": "cc5e5f6f",
   "metadata": {},
   "outputs": [
    {
     "data": {
      "text/html": [
       "<div>\n",
       "<style scoped>\n",
       "    .dataframe tbody tr th:only-of-type {\n",
       "        vertical-align: middle;\n",
       "    }\n",
       "\n",
       "    .dataframe tbody tr th {\n",
       "        vertical-align: top;\n",
       "    }\n",
       "\n",
       "    .dataframe thead th {\n",
       "        text-align: right;\n",
       "    }\n",
       "</style>\n",
       "<table border=\"1\" class=\"dataframe\">\n",
       "  <thead>\n",
       "    <tr style=\"text-align: right;\">\n",
       "      <th></th>\n",
       "      <th>top_1</th>\n",
       "      <th>top_5</th>\n",
       "      <th>top_10</th>\n",
       "      <th>top_15</th>\n",
       "      <th>top_20</th>\n",
       "    </tr>\n",
       "  </thead>\n",
       "  <tbody>\n",
       "    <tr>\n",
       "      <th>0</th>\n",
       "      <td>0.0321</td>\n",
       "      <td>0.0398</td>\n",
       "      <td>0.0398</td>\n",
       "      <td>0.0398</td>\n",
       "      <td>0.0398</td>\n",
       "    </tr>\n",
       "    <tr>\n",
       "      <th>1</th>\n",
       "      <td>0.2942</td>\n",
       "      <td>0.3197</td>\n",
       "      <td>0.3497</td>\n",
       "      <td>0.3497</td>\n",
       "      <td>0.3497</td>\n",
       "    </tr>\n",
       "    <tr>\n",
       "      <th>2</th>\n",
       "      <td>0.3443</td>\n",
       "      <td>0.3638</td>\n",
       "      <td>0.3638</td>\n",
       "      <td>0.3638</td>\n",
       "      <td>0.3638</td>\n",
       "    </tr>\n",
       "    <tr>\n",
       "      <th>3</th>\n",
       "      <td>0.9875</td>\n",
       "      <td>1.0000</td>\n",
       "      <td>1.0000</td>\n",
       "      <td>1.0000</td>\n",
       "      <td>1.0000</td>\n",
       "    </tr>\n",
       "    <tr>\n",
       "      <th>4</th>\n",
       "      <td>0.2434</td>\n",
       "      <td>0.3219</td>\n",
       "      <td>0.3219</td>\n",
       "      <td>0.3219</td>\n",
       "      <td>0.3284</td>\n",
       "    </tr>\n",
       "  </tbody>\n",
       "</table>\n",
       "</div>"
      ],
      "text/plain": [
       "    top_1   top_5  top_10  top_15  top_20\n",
       "0  0.0321  0.0398  0.0398  0.0398  0.0398\n",
       "1  0.2942  0.3197  0.3497  0.3497  0.3497\n",
       "2  0.3443  0.3638  0.3638  0.3638  0.3638\n",
       "3  0.9875  1.0000  1.0000  1.0000  1.0000\n",
       "4  0.2434  0.3219  0.3219  0.3219  0.3284"
      ]
     },
     "execution_count": 36,
     "metadata": {},
     "output_type": "execute_result"
    }
   ],
   "source": [
    "top = [1,5,10,15,20]\n",
    "\n",
    "#cca_top_tanis = []\n",
    "train_deepcca_top_tanis_df = pd.DataFrame()\n",
    "for i in top:\n",
    "    \n",
    "    tanis = get_top_k(preds_df=deepcca_train_preds_df,\n",
    "                            top_k=i,\n",
    "                           item='top_20_tanis')\n",
    "    #cca_top_tanis.append(tanis)\n",
    "    train_deepcca_top_tanis_df[f'top_{i}'] = tanis\n",
    "    \n",
    "\n",
    "\n",
    "train_deepcca_top_tanis_df.head()\n"
   ]
  },
  {
   "cell_type": "code",
   "execution_count": 31,
   "id": "b868d319",
   "metadata": {},
   "outputs": [
    {
     "name": "stderr",
     "output_type": "stream",
     "text": [
      "C:\\Users\\lmeli\\AppData\\Local\\Programs\\Python\\Python39\\lib\\site-packages\\seaborn\\categorical.py:82: FutureWarning: iteritems is deprecated and will be removed in a future version. Use .items instead.\n",
      "  plot_data = [np.asarray(s, float) for k, s in iter_data]\n"
     ]
    },
    {
     "data": {
      "image/png": "[encoded data removed]",
      "text/plain": [
       "<Figure size 480x640 with 1 Axes>"
      ]
     },
     "metadata": {
      "needs_background": "light"
     },
     "output_type": "display_data"
    }
   ],
   "source": [
    "plt.figure(figsize=(4.8, 6.4),dpi=100)\n",
    "ax = sns.boxplot(data=train_deepcca_top_tanis_df, orient='h',\n",
    "             showmeans = True,#palette= [sns.color_palette(\"colorblind\")[6],sns.color_palette(\"colorblind\")[5]],\n",
    "           meanprops={\"marker\":\"o\",\n",
    "                      \"markerfacecolor\":\"white\", \n",
    "                      \"markeredgecolor\":\"black\",\n",
    "                      \"markersize\":\"10\"})\\\n",
    "\n",
    "plt.text(x=0.46,y=-0.1,s=round(np.mean(train_deepcca_top_tanis_df['top_1']),3))\n",
    "plt.text(x=0.55,y=0.9,s=round(np.mean(train_deepcca_top_tanis_df['top_5']),3))\n",
    "plt.text(x=0.58,y=1.9,s=round(np.mean(train_deepcca_top_tanis_df['top_10']),3))\n",
    "plt.text(x=0.61,y=2.9,s=round(np.mean(train_deepcca_top_tanis_df['top_15']),3))\n",
    "plt.text(x=0.63,y=3.9,s=round(np.mean(train_deepcca_top_tanis_df['top_20']),3))\n",
    "plt.xlabel('Tanimoto scores', fontsize=13)\n",
    "plt.show()"
   ]
  },
  {
   "cell_type": "markdown",
   "id": "67d51ef8",
   "metadata": {},
   "source": [
    "<h4> DeepCCA top 20 training cosine distance </h4>"
   ]
  },
  {
   "cell_type": "code",
   "execution_count": 48,
   "id": "1e1c15f6",
   "metadata": {},
   "outputs": [
    {
     "data": {
      "text/html": [
       "<div>\n",
       "<style scoped>\n",
       "    .dataframe tbody tr th:only-of-type {\n",
       "        vertical-align: middle;\n",
       "    }\n",
       "\n",
       "    .dataframe tbody tr th {\n",
       "        vertical-align: top;\n",
       "    }\n",
       "\n",
       "    .dataframe thead th {\n",
       "        text-align: right;\n",
       "    }\n",
       "</style>\n",
       "<table border=\"1\" class=\"dataframe\">\n",
       "  <thead>\n",
       "    <tr style=\"text-align: right;\">\n",
       "      <th></th>\n",
       "      <th>top_1</th>\n",
       "      <th>top_5</th>\n",
       "      <th>top_10</th>\n",
       "      <th>top_15</th>\n",
       "      <th>top_20</th>\n",
       "    </tr>\n",
       "  </thead>\n",
       "  <tbody>\n",
       "    <tr>\n",
       "      <th>0</th>\n",
       "      <td>0.010985</td>\n",
       "      <td>0.011741</td>\n",
       "      <td>0.013210</td>\n",
       "      <td>0.014156</td>\n",
       "      <td>0.014921</td>\n",
       "    </tr>\n",
       "    <tr>\n",
       "      <th>1</th>\n",
       "      <td>0.069409</td>\n",
       "      <td>0.073131</td>\n",
       "      <td>0.076653</td>\n",
       "      <td>0.078806</td>\n",
       "      <td>0.080533</td>\n",
       "    </tr>\n",
       "    <tr>\n",
       "      <th>2</th>\n",
       "      <td>0.037372</td>\n",
       "      <td>0.052009</td>\n",
       "      <td>0.058109</td>\n",
       "      <td>0.063222</td>\n",
       "      <td>0.067596</td>\n",
       "    </tr>\n",
       "    <tr>\n",
       "      <th>3</th>\n",
       "      <td>0.002138</td>\n",
       "      <td>0.002274</td>\n",
       "      <td>0.002507</td>\n",
       "      <td>0.002693</td>\n",
       "      <td>0.002961</td>\n",
       "    </tr>\n",
       "    <tr>\n",
       "      <th>4</th>\n",
       "      <td>0.193427</td>\n",
       "      <td>0.211619</td>\n",
       "      <td>0.228475</td>\n",
       "      <td>0.240579</td>\n",
       "      <td>0.248414</td>\n",
       "    </tr>\n",
       "  </tbody>\n",
       "</table>\n",
       "</div>"
      ],
      "text/plain": [
       "      top_1     top_5    top_10    top_15    top_20\n",
       "0  0.010985  0.011741  0.013210  0.014156  0.014921\n",
       "1  0.069409  0.073131  0.076653  0.078806  0.080533\n",
       "2  0.037372  0.052009  0.058109  0.063222  0.067596\n",
       "3  0.002138  0.002274  0.002507  0.002693  0.002961\n",
       "4  0.193427  0.211619  0.228475  0.240579  0.248414"
      ]
     },
     "execution_count": 48,
     "metadata": {},
     "output_type": "execute_result"
    }
   ],
   "source": [
    "top = [1,5,10,15,20]\n",
    "\n",
    "#cca_top_tanis = []\n",
    "train_deepcca_top_cos_df = pd.DataFrame()\n",
    "for i in top:\n",
    "    \n",
    "    dist = get_top_k(preds_df=deepcca_train_preds_df,\n",
    "                            top_k=i,\n",
    "                           item='top_20_cos')\n",
    "    #cca_top_tanis.append(tanis)\n",
    "    train_deepcca_top_cos_df[f'top_{i}'] = dist\n",
    "    \n",
    "\n",
    "\n",
    "train_deepcca_top_cos_df.head()\n"
   ]
  },
  {
   "cell_type": "code",
   "execution_count": 49,
   "id": "99688d94",
   "metadata": {},
   "outputs": [
    {
     "name": "stderr",
     "output_type": "stream",
     "text": [
      "C:\\Users\\lmeli\\AppData\\Local\\Programs\\Python\\Python39\\lib\\site-packages\\seaborn\\categorical.py:82: FutureWarning: iteritems is deprecated and will be removed in a future version. Use .items instead.\n",
      "  plot_data = [np.asarray(s, float) for k, s in iter_data]\n"
     ]
    },
    {
     "data": {
      "text/plain": [
       "Text(0.5, 0, 'Mean cosine distance')"
      ]
     },
     "execution_count": 49,
     "metadata": {},
     "output_type": "execute_result"
    },
    {
     "data": {
      "image/png": "[encoded data removed]",
      "text/plain": [
       "<Figure size 480x640 with 1 Axes>"
      ]
     },
     "metadata": {
      "needs_background": "light"
     },
     "output_type": "display_data"
    }
   ],
   "source": [
    "plt.figure(figsize=(4.8, 6.4),dpi=100)\n",
    "ax = sns.boxplot(data=train_deepcca_top_cos_df, orient='h',\n",
    "             showmeans = True,#palette= [sns.color_palette(\"colorblind\")[6],sns.color_palette(\"colorblind\")[5]],\n",
    "           meanprops={\"marker\":\"o\",\n",
    "                      \"markerfacecolor\":\"white\", \n",
    "                      \"markeredgecolor\":\"black\",\n",
    "                      \"markersize\":\"10\"})\\\n",
    "\n",
    "plt.text(x=0.049,y=0,s=round(np.mean(train_deepcca_top_cos_df['top_1']),3))\n",
    "plt.text(x=0.053,y=0.9,s=round(np.mean(train_deepcca_top_cos_df['top_5']),3))\n",
    "plt.text(x=0.057,y=1.9,s=round(np.mean(train_deepcca_top_cos_df['top_10']),3))\n",
    "plt.text(x=0.060,y=2.9,s=round(np.mean(train_deepcca_top_cos_df['top_15']),3))\n",
    "plt.text(x=0.062,y=3.9,s=round(np.mean(train_deepcca_top_cos_df['top_20']),3))\n",
    "plt.xlabel('Mean cosine distance', fontsize=13)\n"
   ]
  },
  {
   "cell_type": "markdown",
   "id": "a4ba403c",
   "metadata": {},
   "source": [
    "<h3> CCA and DeepCCA training dataset true cosine distance </h3>"
   ]
  },
  {
   "cell_type": "code",
   "execution_count": 37,
   "id": "c0bd1db9",
   "metadata": {},
   "outputs": [
    {
     "data": {
      "text/html": [
       "<div>\n",
       "<style scoped>\n",
       "    .dataframe tbody tr th:only-of-type {\n",
       "        vertical-align: middle;\n",
       "    }\n",
       "\n",
       "    .dataframe tbody tr th {\n",
       "        vertical-align: top;\n",
       "    }\n",
       "\n",
       "    .dataframe thead th {\n",
       "        text-align: right;\n",
       "    }\n",
       "</style>\n",
       "<table border=\"1\" class=\"dataframe\">\n",
       "  <thead>\n",
       "    <tr style=\"text-align: right;\">\n",
       "      <th></th>\n",
       "      <th>DeepCCA</th>\n",
       "      <th>CCA</th>\n",
       "    </tr>\n",
       "  </thead>\n",
       "  <tbody>\n",
       "    <tr>\n",
       "      <th>spec_id29646</th>\n",
       "      <td>0.061782</td>\n",
       "      <td>0.873572</td>\n",
       "    </tr>\n",
       "    <tr>\n",
       "      <th>spec_id4540</th>\n",
       "      <td>0.307832</td>\n",
       "      <td>0.907324</td>\n",
       "    </tr>\n",
       "    <tr>\n",
       "      <th>spec_id25573</th>\n",
       "      <td>0.289262</td>\n",
       "      <td>0.763907</td>\n",
       "    </tr>\n",
       "    <tr>\n",
       "      <th>spec_id28409</th>\n",
       "      <td>0.002652</td>\n",
       "      <td>0.19471</td>\n",
       "    </tr>\n",
       "    <tr>\n",
       "      <th>spec_id21673</th>\n",
       "      <td>0.356871</td>\n",
       "      <td>0.802215</td>\n",
       "    </tr>\n",
       "  </tbody>\n",
       "</table>\n",
       "</div>"
      ],
      "text/plain": [
       "               DeepCCA       CCA\n",
       "spec_id29646  0.061782  0.873572\n",
       "spec_id4540   0.307832  0.907324\n",
       "spec_id25573  0.289262  0.763907\n",
       "spec_id28409  0.002652   0.19471\n",
       "spec_id21673  0.356871  0.802215"
      ]
     },
     "execution_count": 37,
     "metadata": {},
     "output_type": "execute_result"
    }
   ],
   "source": [
    "training_true_cos_df = pd.DataFrame({'DeepCCA':deepcca_train_preds_df['true_cos'],\n",
    "                           'CCA':cca_train_preds_df['true_cos']})\n",
    "\n",
    "training_true_cos_df.head()"
   ]
  },
  {
   "cell_type": "code",
   "execution_count": 39,
   "id": "11e60e3f",
   "metadata": {},
   "outputs": [
    {
     "name": "stderr",
     "output_type": "stream",
     "text": [
      "C:\\Users\\lmeli\\AppData\\Local\\Programs\\Python\\Python39\\lib\\site-packages\\seaborn\\categorical.py:82: FutureWarning: iteritems is deprecated and will be removed in a future version. Use .items instead.\n",
      "  plot_data = [np.asarray(s, float) for k, s in iter_data]\n"
     ]
    },
    {
     "data": {
      "image/png": "[encoded data removed]",
      "text/plain": [
       "<Figure size 480x640 with 1 Axes>"
      ]
     },
     "metadata": {
      "needs_background": "light"
     },
     "output_type": "display_data"
    }
   ],
   "source": [
    "plt.figure(figsize=(4.8, 6.4),dpi=100)\n",
    "ax = sns.boxplot(data=training_true_cos_df, orient='h',\n",
    "             showmeans = True,#palette= [sns.color_palette(\"colorblind\")[6],sns.color_palette(\"colorblind\")[5]],\n",
    "           meanprops={\"marker\":\"o\",\n",
    "                      \"markerfacecolor\":\"white\", \n",
    "                      \"markeredgecolor\":\"black\",\n",
    "                      \"markersize\":\"10\"})\n",
    "plt.text(x=0.23,y=-0.05,s=round(np.mean(training_true_cos_df['DeepCCA']),3))\n",
    "plt.text(x=0.78,y=0.95,s=round(np.mean(training_true_cos_df['CCA']),3))\n",
    "plt.xlabel('True cosine distance', fontsize=15)\n",
    "plt.show()"
   ]
  },
  {
   "cell_type": "markdown",
   "id": "2047d715",
   "metadata": {},
   "source": [
    "<h2> Load DeepCCA Tanimoto scores from the final models </h2>"
   ]
  },
  {
   "cell_type": "code",
   "execution_count": 15,
   "id": "8408c788",
   "metadata": {},
   "outputs": [],
   "source": [
    "metrics = ['cos']#, 'corr', 'euc']\n",
    "\n",
    "models = ['sdl', 'cca']\n",
    "\n",
    "tanis_dict = {}\n",
    "for metric in metrics:\n",
    "    tanis_dict[metric] = []\n",
    "    for model in models:\n",
    "        tani = Files(f'./sdl_logs/sdl_optimized_params/{model}_preds/{model}_final_model_test_{metric}_tanimoto.pickle').load_pickle()\n",
    "        tanis_dict[metric].append(tani)\n",
    "        "
   ]
  },
  {
   "cell_type": "code",
   "execution_count": 16,
   "id": "5aef3e7b",
   "metadata": {},
   "outputs": [
    {
     "data": {
      "text/plain": [
       "dict_keys(['cos'])"
      ]
     },
     "execution_count": 16,
     "metadata": {},
     "output_type": "execute_result"
    }
   ],
   "source": [
    "tanis_dict.keys()"
   ]
  },
  {
   "cell_type": "code",
   "execution_count": 17,
   "id": "bf720f0c",
   "metadata": {},
   "outputs": [
    {
     "data": {
      "text/plain": [
       "8290"
      ]
     },
     "execution_count": 17,
     "metadata": {},
     "output_type": "execute_result"
    }
   ],
   "source": [
    "len(tanis_dict['cos'][0])"
   ]
  },
  {
   "cell_type": "markdown",
   "id": "ffc632ae",
   "metadata": {},
   "source": [
    "<h2> Plot Tanimots computed from Cosine, Correlation and Euclidean metric </h2>"
   ]
  },
  {
   "cell_type": "code",
   "execution_count": 5,
   "id": "f1721845",
   "metadata": {},
   "outputs": [
    {
     "data": {
      "text/html": [
       "<div>\n",
       "<style scoped>\n",
       "    .dataframe tbody tr th:only-of-type {\n",
       "        vertical-align: middle;\n",
       "    }\n",
       "\n",
       "    .dataframe tbody tr th {\n",
       "        vertical-align: top;\n",
       "    }\n",
       "\n",
       "    .dataframe thead th {\n",
       "        text-align: right;\n",
       "    }\n",
       "</style>\n",
       "<table border=\"1\" class=\"dataframe\">\n",
       "  <thead>\n",
       "    <tr style=\"text-align: right;\">\n",
       "      <th></th>\n",
       "      <th>DeepCCA</th>\n",
       "      <th>CCA</th>\n",
       "    </tr>\n",
       "  </thead>\n",
       "  <tbody>\n",
       "    <tr>\n",
       "      <th>0</th>\n",
       "      <td>0.5215</td>\n",
       "      <td>0.7291</td>\n",
       "    </tr>\n",
       "    <tr>\n",
       "      <th>1</th>\n",
       "      <td>0.4381</td>\n",
       "      <td>0.4916</td>\n",
       "    </tr>\n",
       "    <tr>\n",
       "      <th>2</th>\n",
       "      <td>0.8913</td>\n",
       "      <td>0.8720</td>\n",
       "    </tr>\n",
       "    <tr>\n",
       "      <th>3</th>\n",
       "      <td>0.9497</td>\n",
       "      <td>0.9329</td>\n",
       "    </tr>\n",
       "    <tr>\n",
       "      <th>4</th>\n",
       "      <td>0.6005</td>\n",
       "      <td>0.5313</td>\n",
       "    </tr>\n",
       "  </tbody>\n",
       "</table>\n",
       "</div>"
      ],
      "text/plain": [
       "   DeepCCA     CCA\n",
       "0   0.5215  0.7291\n",
       "1   0.4381  0.4916\n",
       "2   0.8913  0.8720\n",
       "3   0.9497  0.9329\n",
       "4   0.6005  0.5313"
      ]
     },
     "execution_count": 5,
     "metadata": {},
     "output_type": "execute_result"
    }
   ],
   "source": [
    "deepcca_tanis_df = pd.DataFrame({'DeepCCA': tanis_dict['cos'][0],\n",
    "                                 #'corr_DeepCCA': tanis_dict['corr'][0],\n",
    "                                 #'euc_DeepCCA': tanis_dict['euc'][0],\n",
    "                                 'CCA': tanis_dict['cos'][1],\n",
    "                                 #'corr_CCA': tanis_dict['corr'][1],\n",
    "                                 #'euc_CCA': tanis_dict['euc'][1],\n",
    "                                })\n",
    "deepcca_tanis_df.head()"
   ]
  },
  {
   "cell_type": "code",
   "execution_count": 69,
   "id": "67866bb1",
   "metadata": {},
   "outputs": [
    {
     "name": "stderr",
     "output_type": "stream",
     "text": [
      "C:\\Users\\lmeli\\AppData\\Local\\Programs\\Python\\Python39\\lib\\site-packages\\seaborn\\categorical.py:82: FutureWarning: iteritems is deprecated and will be removed in a future version. Use .items instead.\n",
      "  plot_data = [np.asarray(s, float) for k, s in iter_data]\n",
      "C:\\Users\\lmeli\\AppData\\Local\\Programs\\Python\\Python39\\lib\\site-packages\\seaborn\\categorical.py:82: FutureWarning: iteritems is deprecated and will be removed in a future version. Use .items instead.\n",
      "  plot_data = [np.asarray(s, float) for k, s in iter_data]\n"
     ]
    },
    {
     "data": {
      "image/png": "[encoded data removed]",
      "text/plain": [
       "<Figure size 360x360 with 1 Axes>"
      ]
     },
     "metadata": {
      "needs_background": "light"
     },
     "output_type": "display_data"
    }
   ],
   "source": [
    "#plt.figure(figsize=(4.8, 6.4),dpi=100)\n",
    "sns.catplot(data=deepcca_tanis_df,\n",
    "            orient='h', kind='boxen')\n",
    "plt.show()"
   ]
  },
  {
   "cell_type": "code",
   "execution_count": 94,
   "id": "3df79049",
   "metadata": {},
   "outputs": [
    {
     "name": "stderr",
     "output_type": "stream",
     "text": [
      "C:\\Users\\lmeli\\AppData\\Local\\Programs\\Python\\Python39\\lib\\site-packages\\seaborn\\categorical.py:82: FutureWarning: iteritems is deprecated and will be removed in a future version. Use .items instead.\n",
      "  plot_data = [np.asarray(s, float) for k, s in iter_data]\n"
     ]
    },
    {
     "data": {
      "image/png": "[encoded data removed]",
      "text/plain": [
       "<Figure size 640x480 with 1 Axes>"
      ]
     },
     "metadata": {
      "needs_background": "light"
     },
     "output_type": "display_data"
    }
   ],
   "source": [
    "palette = [#sns.color_palette(\"colorblind\")[4],\\\n",
    "           sns.color_palette(\"colorblind\")[2],\\\n",
    "           sns.color_palette(\"colorblind\")[3]]\n",
    "                 \n",
    "          #] #random\n",
    "plt.figure(figsize=(6.4, 4.8),dpi=100)\n",
    "ax = sns.boxplot(data=deepcca_tanis_df, orient='h',\n",
    "             showmeans = True,\n",
    "                 palette=palette, # sns.color_palette(\"colorblind\"),\n",
    "           meanprops={\"marker\":\"o\",\n",
    "                      \"markerfacecolor\":\"white\", \n",
    "                      \"markeredgecolor\":\"black\",\n",
    "                      \"markersize\":\"10\"})\n",
    "#plt.legend(labels=list(deepcca_tanis_df.columns),loc=(1.04, 0.6))\n",
    "#add mean tanimoto on the plot\n",
    "plt.text(x=0.6,y=0.1,s=round(np.mean(tanis_dict['cos'][0]),3))\n",
    "# plt.text(x=0.6,y=1,s=round(np.mean(tanis_dict['corr'][0]),3))\n",
    "# plt.text(x=0.6,y=2,s=round(np.mean(tanis_dict['euc'][0]),3))\n",
    "plt.xlabel('Tanimoto Score', fontsize=15)\n",
    "plt.ylabel('Model', fontsize=15)\n",
    "\n",
    "plt.text(x=0.6,y=1,s=round(np.mean(tanis_dict['cos'][1]),3))\n",
    "#plt.text(x=0.6,y=4,s=round(np.mean(tanis_dict['corr'][1]),3))\n",
    "# plt.text(x=0.55,y=5,s=round(np.mean(tanis_dict['euc'][1]),3))\n",
    "#ax.set_xticklabels([' ',' ',' ',' ',' ',' ' ])\n",
    "plt.savefig('./sdl_logs/figures/final_model_tanimoto.pdf',format='pdf',\n",
    "           transparent=False,bbox_inches = 'tight')\n",
    "plt.show()"
   ]
  },
  {
   "cell_type": "code",
   "execution_count": 15,
   "id": "b79d0a7b",
   "metadata": {},
   "outputs": [
    {
     "data": {
      "text/html": [
       "<div>\n",
       "<style scoped>\n",
       "    .dataframe tbody tr th:only-of-type {\n",
       "        vertical-align: middle;\n",
       "    }\n",
       "\n",
       "    .dataframe tbody tr th {\n",
       "        vertical-align: top;\n",
       "    }\n",
       "\n",
       "    .dataframe thead th {\n",
       "        text-align: right;\n",
       "    }\n",
       "</style>\n",
       "<table border=\"1\" class=\"dataframe\">\n",
       "  <thead>\n",
       "    <tr style=\"text-align: right;\">\n",
       "      <th></th>\n",
       "      <th>sdl_dim_20</th>\n",
       "      <th>cca_dim_20</th>\n",
       "    </tr>\n",
       "  </thead>\n",
       "  <tbody>\n",
       "    <tr>\n",
       "      <th>0</th>\n",
       "      <td>0.5215</td>\n",
       "      <td>0.5000</td>\n",
       "    </tr>\n",
       "    <tr>\n",
       "      <th>1</th>\n",
       "      <td>0.4186</td>\n",
       "      <td>0.7085</td>\n",
       "    </tr>\n",
       "    <tr>\n",
       "      <th>2</th>\n",
       "      <td>0.8699</td>\n",
       "      <td>0.9331</td>\n",
       "    </tr>\n",
       "    <tr>\n",
       "      <th>3</th>\n",
       "      <td>0.9497</td>\n",
       "      <td>0.5317</td>\n",
       "    </tr>\n",
       "    <tr>\n",
       "      <th>4</th>\n",
       "      <td>0.5958</td>\n",
       "      <td>0.4704</td>\n",
       "    </tr>\n",
       "  </tbody>\n",
       "</table>\n",
       "</div>"
      ],
      "text/plain": [
       "   sdl_dim_20  cca_dim_20\n",
       "0      0.5215      0.5000\n",
       "1      0.4186      0.7085\n",
       "2      0.8699      0.9331\n",
       "3      0.9497      0.5317\n",
       "4      0.5958      0.4704"
      ]
     },
     "execution_count": 15,
     "metadata": {},
     "output_type": "execute_result"
    }
   ],
   "source": [
    "models = ['sdl', 'cca']\n",
    "tanis_dim_20_df = pd.DataFrame()\n",
    "for model in models:\n",
    "    tanis_dim_20_df[f'{model}_dim_20'] = Files(f'./sdl_logs/sdl_optimized_params/{model}_preds/{model}_final_model_test_cos_tanimoto_dim_20.pickle').load_pickle()\n",
    "tanis_dim_20_df.head()    "
   ]
  },
  {
   "cell_type": "code",
   "execution_count": 228,
   "id": "2e30d91d",
   "metadata": {},
   "outputs": [
    {
     "data": {
      "image/png": "[encoded data removed]",
      "text/plain": [
       "<Figure size 480x640 with 1 Axes>"
      ]
     },
     "metadata": {
      "needs_background": "light"
     },
     "output_type": "display_data"
    }
   ],
   "source": [
    "plt.figure(figsize=(4.8, 6.4),dpi=100)\n",
    "ax = sns.boxplot(data=tanis_dim_20_df, orient='h',\n",
    "             showmeans = True,palette= [sns.color_palette(\"colorblind\")[6],sns.color_palette(\"colorblind\")[5]],\n",
    "           meanprops={\"marker\":\"o\",\n",
    "                      \"markerfacecolor\":\"white\", \n",
    "                      \"markeredgecolor\":\"black\",\n",
    "                      \"markersize\":\"10\"})\\\n",
    "\n",
    "plt.text(x=0.57,y=0,s=round(np.mean(tanis_dim_20_df['sdl_dim_20']),3))\n",
    "plt.text(x=0.56,y=1,s=round(np.mean(tanis_dim_20_df['cca_dim_20']),3))\n",
    "plt.xlabel('Tanimoto scores using cosine distance', fontsize=13)\n",
    "plt.yticks([0,1], ['DeepCCA_dim_20', 'CCA_dim_20'])\n",
    "plt.show()"
   ]
  },
  {
   "cell_type": "markdown",
   "id": "0a58dbfe",
   "metadata": {},
   "source": [
    "<h2> Examine the embedding space based on the model performance </h2>"
   ]
  },
  {
   "cell_type": "markdown",
   "id": "d996cb78",
   "metadata": {},
   "source": [
    "<h3> Categorize Tanimotos </h3>\n",
    "\n",
    "set High scoring to greater or equal to 0.8\n",
    "\n",
    "Medium scoring to greater than 0.5 and less than 0.8\n",
    "\n",
    "Low scoring to less or equal to 0.5"
   ]
  },
  {
   "cell_type": "code",
   "execution_count": 18,
   "id": "a43e93e9",
   "metadata": {},
   "outputs": [
    {
     "data": {
      "text/plain": [
       "8290"
      ]
     },
     "execution_count": 18,
     "metadata": {},
     "output_type": "execute_result"
    }
   ],
   "source": [
    "deepcca_tanis = tanis_dict['cos'][0]\n",
    "len(deepcca_tanis)"
   ]
  },
  {
   "cell_type": "code",
   "execution_count": 19,
   "id": "8b00d267",
   "metadata": {},
   "outputs": [],
   "source": [
    "deepcca_categories = group_tanimotos(deepcca_tanis)\n",
    "cca_categories = group_tanimotos(tanis_dict['cos'][1])"
   ]
  },
  {
   "cell_type": "code",
   "execution_count": 20,
   "id": "e7b93856",
   "metadata": {},
   "outputs": [
    {
     "data": {
      "text/html": [
       "<div>\n",
       "<style scoped>\n",
       "    .dataframe tbody tr th:only-of-type {\n",
       "        vertical-align: middle;\n",
       "    }\n",
       "\n",
       "    .dataframe tbody tr th {\n",
       "        vertical-align: top;\n",
       "    }\n",
       "\n",
       "    .dataframe thead th {\n",
       "        text-align: right;\n",
       "    }\n",
       "</style>\n",
       "<table border=\"1\" class=\"dataframe\">\n",
       "  <thead>\n",
       "    <tr style=\"text-align: right;\">\n",
       "      <th></th>\n",
       "      <th>smiles</th>\n",
       "      <th>inchi_key</th>\n",
       "      <th>inchikey14</th>\n",
       "      <th>spec_id</th>\n",
       "      <th>spec2vec</th>\n",
       "      <th>ms2ds</th>\n",
       "      <th>mol2vec</th>\n",
       "      <th>cf_class</th>\n",
       "      <th>cca_z1</th>\n",
       "      <th>cca_z2</th>\n",
       "      <th>sdl_z1</th>\n",
       "      <th>sdl_z2</th>\n",
       "      <th>deepcca_category</th>\n",
       "      <th>cca_category</th>\n",
       "    </tr>\n",
       "  </thead>\n",
       "  <tbody>\n",
       "    <tr>\n",
       "      <th>5625</th>\n",
       "      <td>COc1ccc(cc1OC)C(=O)NCc2ccc(OCCN(C)C)cc2</td>\n",
       "      <td>QQQIECGTIMUVDS-UHFFFAOYSA-N</td>\n",
       "      <td>QQQIECGTIMUVDS</td>\n",
       "      <td>spec_id5019</td>\n",
       "      <td>[0.7660381606480904, -2.9954168988462215, -12....</td>\n",
       "      <td>[0.0, 13.000274658203125, 0.35151147842407227,...</td>\n",
       "      <td>[-0.45550603, -3.2559516, -3.0893652, 5.457150...</td>\n",
       "      <td>Benzene and substituted derivatives</td>\n",
       "      <td>[0.051531734505366716, -0.6290144322258142, 0....</td>\n",
       "      <td>[-0.3670569538963088, -0.7741333930951451, 0.1...</td>\n",
       "      <td>[-0.5074534, -0.19799042, -0.084220506, -0.090...</td>\n",
       "      <td>[-1.2729512, -0.20587964, -0.22160338, -0.5555...</td>\n",
       "      <td>Medium (0.5&lt;tanimoto&lt;0.8)</td>\n",
       "      <td>Medium (0.5&lt;tanimoto&lt;0.8)</td>\n",
       "    </tr>\n",
       "    <tr>\n",
       "      <th>40023</th>\n",
       "      <td>COc1cc(OC)c2c(OC)c(-c3ccc4c(c3)OCO4)c(=O)oc2c1</td>\n",
       "      <td>PZYZNVLXKYMURF-UHFFFAOYSA-N</td>\n",
       "      <td>PZYZNVLXKYMURF</td>\n",
       "      <td>spec_id39710</td>\n",
       "      <td>[4.160680518910307, -17.534900146210205, -20.4...</td>\n",
       "      <td>[0.0, 0.0, 0.0, 0.0, 0.0, 63.7232666015625, 5....</td>\n",
       "      <td>[1.2124093, -3.7327924, -5.30343, 5.8895183, 0...</td>\n",
       "      <td>Isoflavonoids</td>\n",
       "      <td>[-0.5501047970153369, 0.38237380309998087, 0.3...</td>\n",
       "      <td>[-0.4201982466143634, -0.10796739849747246, -0...</td>\n",
       "      <td>[1.0821751, -0.21904153, -0.2859266, 0.8517396...</td>\n",
       "      <td>[0.7512287, -0.21170664, -0.1404785, 1.031399,...</td>\n",
       "      <td>Low (tanimoto=&lt;0.5)</td>\n",
       "      <td>Low (tanimoto=&lt;0.5)</td>\n",
       "    </tr>\n",
       "    <tr>\n",
       "      <th>32710</th>\n",
       "      <td>O=C2C(O)=C(OC=3C=C(OC1OC(CO)C(O)C(O)C1(O))C(OC...</td>\n",
       "      <td>AFCDXKGLUDDXCK-UHFFFAOYSA-N</td>\n",
       "      <td>AFCDXKGLUDDXCK</td>\n",
       "      <td>spec_id31385</td>\n",
       "      <td>[4.156373062713153, 2.6467714749778737, -9.709...</td>\n",
       "      <td>[25.13886260986328, 20.056901931762695, 0.0, 0...</td>\n",
       "      <td>[3.884097, -4.328525, -8.565995, 3.9552908, 1....</td>\n",
       "      <td>Flavonoids</td>\n",
       "      <td>[-0.0658633840961331, 0.9429675883808374, -1.8...</td>\n",
       "      <td>[-0.20775599360091013, 0.7636143826091808, -1....</td>\n",
       "      <td>[1.8711135, -0.21995814, -0.53303856, 1.526128...</td>\n",
       "      <td>[1.8491485, -0.2038337, -0.060643416, 1.56308,...</td>\n",
       "      <td>High (tanimoto&gt;=0.8)</td>\n",
       "      <td>High (tanimoto&gt;=0.8)</td>\n",
       "    </tr>\n",
       "  </tbody>\n",
       "</table>\n",
       "</div>"
      ],
      "text/plain": [
       "                                                  smiles  \\\n",
       "5625             COc1ccc(cc1OC)C(=O)NCc2ccc(OCCN(C)C)cc2   \n",
       "40023     COc1cc(OC)c2c(OC)c(-c3ccc4c(c3)OCO4)c(=O)oc2c1   \n",
       "32710  O=C2C(O)=C(OC=3C=C(OC1OC(CO)C(O)C(O)C1(O))C(OC...   \n",
       "\n",
       "                         inchi_key      inchikey14       spec_id  \\\n",
       "5625   QQQIECGTIMUVDS-UHFFFAOYSA-N  QQQIECGTIMUVDS   spec_id5019   \n",
       "40023  PZYZNVLXKYMURF-UHFFFAOYSA-N  PZYZNVLXKYMURF  spec_id39710   \n",
       "32710  AFCDXKGLUDDXCK-UHFFFAOYSA-N  AFCDXKGLUDDXCK  spec_id31385   \n",
       "\n",
       "                                                spec2vec  \\\n",
       "5625   [0.7660381606480904, -2.9954168988462215, -12....   \n",
       "40023  [4.160680518910307, -17.534900146210205, -20.4...   \n",
       "32710  [4.156373062713153, 2.6467714749778737, -9.709...   \n",
       "\n",
       "                                                   ms2ds  \\\n",
       "5625   [0.0, 13.000274658203125, 0.35151147842407227,...   \n",
       "40023  [0.0, 0.0, 0.0, 0.0, 0.0, 63.7232666015625, 5....   \n",
       "32710  [25.13886260986328, 20.056901931762695, 0.0, 0...   \n",
       "\n",
       "                                                 mol2vec  \\\n",
       "5625   [-0.45550603, -3.2559516, -3.0893652, 5.457150...   \n",
       "40023  [1.2124093, -3.7327924, -5.30343, 5.8895183, 0...   \n",
       "32710  [3.884097, -4.328525, -8.565995, 3.9552908, 1....   \n",
       "\n",
       "                                  cf_class  \\\n",
       "5625   Benzene and substituted derivatives   \n",
       "40023                        Isoflavonoids   \n",
       "32710                           Flavonoids   \n",
       "\n",
       "                                                  cca_z1  \\\n",
       "5625   [0.051531734505366716, -0.6290144322258142, 0....   \n",
       "40023  [-0.5501047970153369, 0.38237380309998087, 0.3...   \n",
       "32710  [-0.0658633840961331, 0.9429675883808374, -1.8...   \n",
       "\n",
       "                                                  cca_z2  \\\n",
       "5625   [-0.3670569538963088, -0.7741333930951451, 0.1...   \n",
       "40023  [-0.4201982466143634, -0.10796739849747246, -0...   \n",
       "32710  [-0.20775599360091013, 0.7636143826091808, -1....   \n",
       "\n",
       "                                                  sdl_z1  \\\n",
       "5625   [-0.5074534, -0.19799042, -0.084220506, -0.090...   \n",
       "40023  [1.0821751, -0.21904153, -0.2859266, 0.8517396...   \n",
       "32710  [1.8711135, -0.21995814, -0.53303856, 1.526128...   \n",
       "\n",
       "                                                  sdl_z2  \\\n",
       "5625   [-1.2729512, -0.20587964, -0.22160338, -0.5555...   \n",
       "40023  [0.7512287, -0.21170664, -0.1404785, 1.031399,...   \n",
       "32710  [1.8491485, -0.2038337, -0.060643416, 1.56308,...   \n",
       "\n",
       "                deepcca_category               cca_category  \n",
       "5625   Medium (0.5<tanimoto<0.8)  Medium (0.5<tanimoto<0.8)  \n",
       "40023        Low (tanimoto=<0.5)        Low (tanimoto=<0.5)  \n",
       "32710       High (tanimoto>=0.8)       High (tanimoto>=0.8)  "
      ]
     },
     "execution_count": 20,
     "metadata": {},
     "output_type": "execute_result"
    }
   ],
   "source": [
    "# create a column in the df with category; also append the tanis to be sure they were well categorised\n",
    "test_df['deepcca_category'] = deepcca_categories\n",
    "test_df['cca_category'] = cca_categories\n",
    "\n",
    "#test_df['sdl_tanimoto'] = sdl_mol_tanis[0]\n",
    "#test_df['deepcca_tanimoto'] = tanis_dict[0]\n",
    "#test_df['cca_tanimoto'] = tanis_dict[1]\n",
    "test_df.head(3)"
   ]
  },
  {
   "cell_type": "markdown",
   "id": "a7f2aa7a",
   "metadata": {},
   "source": [
    "<h3> Extract the deepcca z scores </h3>"
   ]
  },
  {
   "cell_type": "code",
   "execution_count": 21,
   "id": "c553c2c3",
   "metadata": {},
   "outputs": [],
   "source": [
    "x_deepcca = np.array([i for i in test_df['sdl_z1']])\n",
    "\n",
    "y_deepcca = np.array([i for i in test_df['sdl_z2']])\n",
    "\n",
    "\n",
    "x_cca = np.array([i for i in test_df['cca_z1']])\n",
    "\n",
    "y_cca = np.array([i for i in test_df['cca_z2']])\n",
    "\n"
   ]
  },
  {
   "cell_type": "markdown",
   "id": "accea6fb",
   "metadata": {},
   "source": [
    "<h3> Compute t-SNE embeddings </h3>"
   ]
  },
  {
   "cell_type": "code",
   "execution_count": 22,
   "id": "9c78d443",
   "metadata": {},
   "outputs": [
    {
     "name": "stderr",
     "output_type": "stream",
     "text": [
      "C:\\Users\\lmeli\\AppData\\Local\\Programs\\Python\\Python39\\lib\\site-packages\\sklearn\\manifold\\_t_sne.py:982: FutureWarning: The PCA initialization in TSNE will change to have the standard deviation of PC1 equal to 1e-4 in 1.2. This will ensure better convergence.\n",
      "  warnings.warn(\n",
      "C:\\Users\\lmeli\\AppData\\Local\\Programs\\Python\\Python39\\lib\\site-packages\\sklearn\\manifold\\_t_sne.py:982: FutureWarning: The PCA initialization in TSNE will change to have the standard deviation of PC1 equal to 1e-4 in 1.2. This will ensure better convergence.\n",
      "  warnings.warn(\n",
      "C:\\Users\\lmeli\\AppData\\Local\\Programs\\Python\\Python39\\lib\\site-packages\\sklearn\\manifold\\_t_sne.py:982: FutureWarning: The PCA initialization in TSNE will change to have the standard deviation of PC1 equal to 1e-4 in 1.2. This will ensure better convergence.\n",
      "  warnings.warn(\n",
      "C:\\Users\\lmeli\\AppData\\Local\\Programs\\Python\\Python39\\lib\\site-packages\\sklearn\\manifold\\_t_sne.py:982: FutureWarning: The PCA initialization in TSNE will change to have the standard deviation of PC1 equal to 1e-4 in 1.2. This will ensure better convergence.\n",
      "  warnings.warn(\n"
     ]
    }
   ],
   "source": [
    "tsne = TSNE(n_components=3, \n",
    "            verbose=0, \n",
    "            perplexity=10, # assuming these is related to neighbours\n",
    "            n_iter=1000,\n",
    "           init = 'pca',\n",
    "           learning_rate = 'auto'\n",
    "           )\n",
    "\n",
    "x_deepcca_transformed = tsne.fit_transform(x_deepcca)\n",
    "y_deepcca_transformed = tsne.fit_transform(y_deepcca)\n",
    "\n",
    "x_cca_transformed = tsne.fit_transform(x_cca)\n",
    "y_cca_transformed = tsne.fit_transform(y_cca)\n",
    "\n"
   ]
  },
  {
   "cell_type": "code",
   "execution_count": 23,
   "id": "023c45a4",
   "metadata": {},
   "outputs": [
    {
     "name": "stderr",
     "output_type": "stream",
     "text": [
      "No handles with labels found to put in legend.\n"
     ]
    },
    {
     "data": {
      "image/png": "[encoded data removed]",
      "text/plain": [
       "<Figure size 576x432 with 2 Axes>"
      ]
     },
     "metadata": {
      "needs_background": "light"
     },
     "output_type": "display_data"
    }
   ],
   "source": [
    "f, (ax1, ax2) = plt.subplots(1, 2, sharey=True,figsize=(6.4, 4.8),dpi=90)\n",
    "sns.scatterplot(x=x_deepcca_transformed[:,0],\n",
    "           y=x_deepcca_transformed[:,1], hue = deepcca_categories, \n",
    "                palette = ['grey', 'orange','green'],\n",
    "                ax=ax1, legend=False)\n",
    "\n",
    "\n",
    "sns.scatterplot(x=x_cca_transformed[:,0],\n",
    "           y=x_cca_transformed[:,1], hue = cca_categories,\n",
    "                palette = ['orange', 'grey','green'],\n",
    "                )\n",
    "#f.suptitle('SDL t-SNE plot colored by tanimoto score(query vs top hit)', fontsize=12)\n",
    "ax1.set_title('DeepCCA Spectra embeddings', fontsize=10)\n",
    "ax2.set_title('CCA Spectra embeddings', fontsize=10)\n",
    "plt.legend(labels=deepcca_categories, loc=(1.04, 0.5))\n",
    "#ax1.set_ylabel('PC 2', fontsize=15)\n",
    "f.text(0.5, 0.04, 'Component 1', ha='center')\n",
    "f.text(0.04, 0.5, 'Component 2', va='center', rotation='vertical')\n",
    "handles, labels = ax2.get_legend_handles_labels()\n",
    "\n",
    "ax1.legend(handles, labels, loc= (1.17, 0.5)) # hiding behind ax2 :)\n",
    "plt.legend(loc= (1.04, 0.5), title ='Tanimoto range')\n",
    "leg = ax1.legend()\n",
    "leg.remove()\n",
    "ax1.set(xlim=(-40, 40))\n",
    "plt.savefig('./sdl_logs/figures/final_model_tsne_corrected.pdf',format='pdf',\n",
    "           transparent=False,bbox_inches = 'tight')\n",
    "plt.show()"
   ]
  },
  {
   "cell_type": "code",
   "execution_count": 63,
   "id": "fde479ba",
   "metadata": {},
   "outputs": [
    {
     "data": {
      "text/plain": [
       "cf_class\n",
       "Prenol lipids                          921\n",
       "Carboxylic acids and derivatives       741\n",
       "Benzene and substituted derivatives    729\n",
       "Organooxygen compounds                 486\n",
       "Flavonoids                             441\n",
       "Steroids and steroid derivatives       439\n",
       "Fatty Acyls                            297\n",
       "Coumarins and derivatives              246\n",
       "Indoles and derivatives                198\n",
       "Quinolines and derivatives             168\n",
       "dtype: int64"
      ]
     },
     "execution_count": 63,
     "metadata": {},
     "output_type": "execute_result"
    }
   ],
   "source": [
    "test_df.value_counts('cf_class')[:10]"
   ]
  },
  {
   "cell_type": "code",
   "execution_count": 68,
   "id": "33a6b22b",
   "metadata": {},
   "outputs": [],
   "source": [
    "#counts[0].index()"
   ]
  },
  {
   "cell_type": "code",
   "execution_count": 53,
   "id": "30d3363c",
   "metadata": {},
   "outputs": [
    {
     "data": {
      "text/plain": [
       "514"
      ]
     },
     "execution_count": 53,
     "metadata": {},
     "output_type": "execute_result"
    }
   ],
   "source": [
    "len(set(test_df['cf_class']))"
   ]
  },
  {
   "cell_type": "markdown",
   "id": "49d13587",
   "metadata": {},
   "source": [
    "<h2> Perform Fisher exact test to see which classes are over represented in the high performing regions </h2>"
   ]
  },
  {
   "cell_type": "code",
   "execution_count": 56,
   "id": "5b76c870",
   "metadata": {},
   "outputs": [
    {
     "name": "stdout",
     "output_type": "stream",
     "text": [
      "2266 2224 3800\n"
     ]
    }
   ],
   "source": [
    "# select classes under each category\n",
    "high_class = test_df.loc[test_df['cca_category'] == 'High (tanimoto>=0.8)']\n",
    "medium_class = test_df.loc[test_df['cca_category'] == 'Medium (0.5<tanimoto<0.8)']\n",
    "low_class = test_df.loc[test_df['cca_category'] == 'Low (tanimoto=<0.5)']\n",
    "print(len(high_class),len(medium_class),len(low_class))"
   ]
  },
  {
   "cell_type": "code",
   "execution_count": 57,
   "id": "0489f2fe",
   "metadata": {},
   "outputs": [],
   "source": [
    "yes_no = []\n",
    "for score in test_df['cca_category']:\n",
    "    if score == 'High (tanimoto>=0.8)':\n",
    "        yes_no.append('yes')\n",
    "    else:\n",
    "         yes_no.append('no')\n",
    "test_df['group'] = [x for x in yes_no] "
   ]
  },
  {
   "cell_type": "code",
   "execution_count": 58,
   "id": "8864a209",
   "metadata": {},
   "outputs": [
    {
     "data": {
      "text/plain": [
       "(8290, 2)"
      ]
     },
     "execution_count": 58,
     "metadata": {},
     "output_type": "execute_result"
    }
   ],
   "source": [
    "table_df = test_df[['cf_class', 'group']]\n",
    "table_df.shape"
   ]
  },
  {
   "cell_type": "code",
   "execution_count": 59,
   "id": "32c81ffa",
   "metadata": {},
   "outputs": [
    {
     "data": {
      "text/plain": [
       "(250, 2)"
      ]
     },
     "execution_count": 59,
     "metadata": {},
     "output_type": "execute_result"
    }
   ],
   "source": [
    "#creat contigency table for all classes\n",
    "levels = [x for x in table_df['group']] # yes if high tanimoto, no if else\n",
    "cf_class = [x for x in table_df['cf_class']]\n",
    "\n",
    "(xclass, xlevels),count = crosstab(cf_class, levels)\n",
    "count.shape"
   ]
  },
  {
   "cell_type": "code",
   "execution_count": 60,
   "id": "ab5971c8",
   "metadata": {},
   "outputs": [
    {
     "data": {
      "text/plain": [
       "array(['no', 'yes'], dtype='<U3')"
      ]
     },
     "execution_count": 60,
     "metadata": {},
     "output_type": "execute_result"
    }
   ],
   "source": [
    "xlevels"
   ]
  },
  {
   "cell_type": "code",
   "execution_count": 61,
   "id": "0802beb2",
   "metadata": {},
   "outputs": [
    {
     "data": {
      "text/plain": [
       "array([[ 2,  1],\n",
       "       [17,  1],\n",
       "       [ 2,  0],\n",
       "       [ 2,  2],\n",
       "       [ 1,  0]])"
      ]
     },
     "execution_count": 61,
     "metadata": {},
     "output_type": "execute_result"
    }
   ],
   "source": [
    "count[:5] #column1 == not high score,column2 == yes success(high score)"
   ]
  },
  {
   "cell_type": "code",
   "execution_count": 62,
   "id": "1a8d918d",
   "metadata": {},
   "outputs": [],
   "source": [
    "# fisher_eaxct test\n",
    "metric = 'cos'\n",
    "pval = []\n",
    "M = count.sum()\n",
    "class_total =[]\n",
    "class_identified = []\n",
    "success_rate = []\n",
    "unsuccess_rate= [] # running out of variable names :)\n",
    "all_success = []\n",
    "all_unsuccess = []\n",
    "for i in range(len(count)):\n",
    "    x = count[i][1] # success for one class \n",
    "    n = count[i].sum() # total for one class\n",
    "    n_x = n-x # no success for one class\n",
    "    N = count[:,1].sum() #success for all classes\n",
    "    N_x = N - x # total success minus x\n",
    "\n",
    "    table = [[x, n_x], [N_x, (M - (n + N) + x)]]\n",
    "    ods, p = fisher_exact(table) # two-sided ?\n",
    "    pval.append(p)\n",
    "    success_rate.append((x/n))\n",
    "    unsuccess_rate.append((n_x/n))\n",
    "    class_total.append(n)\n",
    "    all_success.append((x/N))\n",
    "    all_unsuccess.append((n_x/(M-N)))\n",
    "    class_identified.append(x)\n",
    "\n",
    "#creat df\n",
    "high_enriched_df = pd.DataFrame({'cf_class':[x for x in xclass],\n",
    "                            'pvalue':[x for x in pval],\n",
    "                            'class_total': [x for x in class_total],\n",
    "                            '#_high_tanimoto': [x for x in class_identified],\n",
    "                           'class_high_tanimoto': [x*100 for x in success_rate],\n",
    "                           'class_low_tanimoto': [x*100 for x in unsuccess_rate],\n",
    "                            '%_high_tanimoto': [x*100 for x in all_success],\n",
    "                            '%_low_tanimoto': [x*100 for x in all_unsuccess]}\n",
    "                            \n",
    "                          )\n",
    "\n",
    "high_enriched_df = high_enriched_df.sort_values(['pvalue','class_high_tanimoto'],\n",
    "                                                ascending = [True, False])\n"
   ]
  },
  {
   "cell_type": "code",
   "execution_count": 63,
   "id": "47794285",
   "metadata": {},
   "outputs": [
    {
     "data": {
      "text/html": [
       "<div>\n",
       "<style scoped>\n",
       "    .dataframe tbody tr th:only-of-type {\n",
       "        vertical-align: middle;\n",
       "    }\n",
       "\n",
       "    .dataframe tbody tr th {\n",
       "        vertical-align: top;\n",
       "    }\n",
       "\n",
       "    .dataframe thead th {\n",
       "        text-align: right;\n",
       "    }\n",
       "</style>\n",
       "<table border=\"1\" class=\"dataframe\">\n",
       "  <thead>\n",
       "    <tr style=\"text-align: right;\">\n",
       "      <th></th>\n",
       "      <th>cf_class</th>\n",
       "      <th>pvalue</th>\n",
       "      <th>class_total</th>\n",
       "      <th>#_high_tanimoto</th>\n",
       "      <th>class_high_tanimoto</th>\n",
       "      <th>class_low_tanimoto</th>\n",
       "      <th>%_high_tanimoto</th>\n",
       "      <th>%_low_tanimoto</th>\n",
       "    </tr>\n",
       "  </thead>\n",
       "  <tbody>\n",
       "    <tr>\n",
       "      <th>99</th>\n",
       "      <td>Glycerophospholipids</td>\n",
       "      <td>4.224218e-35</td>\n",
       "      <td>136</td>\n",
       "      <td>106</td>\n",
       "      <td>77.941176</td>\n",
       "      <td>22.058824</td>\n",
       "      <td>4.677846</td>\n",
       "      <td>0.498008</td>\n",
       "    </tr>\n",
       "    <tr>\n",
       "      <th>98</th>\n",
       "      <td>Glycerolipids</td>\n",
       "      <td>7.494984e-32</td>\n",
       "      <td>94</td>\n",
       "      <td>80</td>\n",
       "      <td>85.106383</td>\n",
       "      <td>14.893617</td>\n",
       "      <td>3.530450</td>\n",
       "      <td>0.232404</td>\n",
       "    </tr>\n",
       "    <tr>\n",
       "      <th>249</th>\n",
       "      <td>nan</td>\n",
       "      <td>4.076404e-23</td>\n",
       "      <td>265</td>\n",
       "      <td>148</td>\n",
       "      <td>55.849057</td>\n",
       "      <td>44.150943</td>\n",
       "      <td>6.531333</td>\n",
       "      <td>1.942231</td>\n",
       "    </tr>\n",
       "    <tr>\n",
       "      <th>28</th>\n",
       "      <td>Benzene and substituted derivatives</td>\n",
       "      <td>1.520543e-22</td>\n",
       "      <td>729</td>\n",
       "      <td>94</td>\n",
       "      <td>12.894376</td>\n",
       "      <td>87.105624</td>\n",
       "      <td>4.148279</td>\n",
       "      <td>10.541169</td>\n",
       "    </tr>\n",
       "    <tr>\n",
       "      <th>13</th>\n",
       "      <td>Aporphines</td>\n",
       "      <td>5.083143e-14</td>\n",
       "      <td>42</td>\n",
       "      <td>35</td>\n",
       "      <td>83.333333</td>\n",
       "      <td>16.666667</td>\n",
       "      <td>1.544572</td>\n",
       "      <td>0.116202</td>\n",
       "    </tr>\n",
       "    <tr>\n",
       "      <th>90</th>\n",
       "      <td>Flavonoids</td>\n",
       "      <td>2.774930e-12</td>\n",
       "      <td>441</td>\n",
       "      <td>187</td>\n",
       "      <td>42.403628</td>\n",
       "      <td>57.596372</td>\n",
       "      <td>8.252427</td>\n",
       "      <td>4.216467</td>\n",
       "    </tr>\n",
       "    <tr>\n",
       "      <th>131</th>\n",
       "      <td>Lupin alkaloids</td>\n",
       "      <td>1.003183e-05</td>\n",
       "      <td>44</td>\n",
       "      <td>26</td>\n",
       "      <td>59.090909</td>\n",
       "      <td>40.909091</td>\n",
       "      <td>1.147396</td>\n",
       "      <td>0.298805</td>\n",
       "    </tr>\n",
       "    <tr>\n",
       "      <th>135</th>\n",
       "      <td>Macroline alkaloids</td>\n",
       "      <td>3.088432e-05</td>\n",
       "      <td>8</td>\n",
       "      <td>8</td>\n",
       "      <td>100.000000</td>\n",
       "      <td>0.000000</td>\n",
       "      <td>0.353045</td>\n",
       "      <td>0.000000</td>\n",
       "    </tr>\n",
       "    <tr>\n",
       "      <th>38</th>\n",
       "      <td>Benzopyrans</td>\n",
       "      <td>9.977673e-05</td>\n",
       "      <td>131</td>\n",
       "      <td>17</td>\n",
       "      <td>12.977099</td>\n",
       "      <td>87.022901</td>\n",
       "      <td>0.750221</td>\n",
       "      <td>1.892430</td>\n",
       "    </tr>\n",
       "    <tr>\n",
       "      <th>73</th>\n",
       "      <td>Diazines</td>\n",
       "      <td>9.994485e-05</td>\n",
       "      <td>40</td>\n",
       "      <td>1</td>\n",
       "      <td>2.500000</td>\n",
       "      <td>97.500000</td>\n",
       "      <td>0.044131</td>\n",
       "      <td>0.647410</td>\n",
       "    </tr>\n",
       "  </tbody>\n",
       "</table>\n",
       "</div>"
      ],
      "text/plain": [
       "                                cf_class        pvalue  class_total  \\\n",
       "99                  Glycerophospholipids  4.224218e-35          136   \n",
       "98                         Glycerolipids  7.494984e-32           94   \n",
       "249                                  nan  4.076404e-23          265   \n",
       "28   Benzene and substituted derivatives  1.520543e-22          729   \n",
       "13                            Aporphines  5.083143e-14           42   \n",
       "90                            Flavonoids  2.774930e-12          441   \n",
       "131                      Lupin alkaloids  1.003183e-05           44   \n",
       "135                  Macroline alkaloids  3.088432e-05            8   \n",
       "38                           Benzopyrans  9.977673e-05          131   \n",
       "73                              Diazines  9.994485e-05           40   \n",
       "\n",
       "     #_high_tanimoto  class_high_tanimoto  class_low_tanimoto  \\\n",
       "99               106            77.941176           22.058824   \n",
       "98                80            85.106383           14.893617   \n",
       "249              148            55.849057           44.150943   \n",
       "28                94            12.894376           87.105624   \n",
       "13                35            83.333333           16.666667   \n",
       "90               187            42.403628           57.596372   \n",
       "131               26            59.090909           40.909091   \n",
       "135                8           100.000000            0.000000   \n",
       "38                17            12.977099           87.022901   \n",
       "73                 1             2.500000           97.500000   \n",
       "\n",
       "     %_high_tanimoto  %_low_tanimoto  \n",
       "99          4.677846        0.498008  \n",
       "98          3.530450        0.232404  \n",
       "249         6.531333        1.942231  \n",
       "28          4.148279       10.541169  \n",
       "13          1.544572        0.116202  \n",
       "90          8.252427        4.216467  \n",
       "131         1.147396        0.298805  \n",
       "135         0.353045        0.000000  \n",
       "38          0.750221        1.892430  \n",
       "73          0.044131        0.647410  "
      ]
     },
     "execution_count": 63,
     "metadata": {},
     "output_type": "execute_result"
    }
   ],
   "source": [
    "high_enriched_df.head(10)"
   ]
  },
  {
   "cell_type": "code",
   "execution_count": 64,
   "id": "42f0468d",
   "metadata": {},
   "outputs": [
    {
     "data": {
      "text/html": [
       "<div>\n",
       "<style scoped>\n",
       "    .dataframe tbody tr th:only-of-type {\n",
       "        vertical-align: middle;\n",
       "    }\n",
       "\n",
       "    .dataframe tbody tr th {\n",
       "        vertical-align: top;\n",
       "    }\n",
       "\n",
       "    .dataframe thead th {\n",
       "        text-align: right;\n",
       "    }\n",
       "</style>\n",
       "<table border=\"1\" class=\"dataframe\">\n",
       "  <thead>\n",
       "    <tr style=\"text-align: right;\">\n",
       "      <th></th>\n",
       "      <th>class_high_tanimoto</th>\n",
       "      <th>class_low_tanimoto</th>\n",
       "    </tr>\n",
       "  </thead>\n",
       "  <tbody>\n",
       "    <tr>\n",
       "      <th>99</th>\n",
       "      <td>77.941176</td>\n",
       "      <td>22.058824</td>\n",
       "    </tr>\n",
       "    <tr>\n",
       "      <th>249</th>\n",
       "      <td>55.849057</td>\n",
       "      <td>44.150943</td>\n",
       "    </tr>\n",
       "    <tr>\n",
       "      <th>28</th>\n",
       "      <td>12.894376</td>\n",
       "      <td>87.105624</td>\n",
       "    </tr>\n",
       "    <tr>\n",
       "      <th>90</th>\n",
       "      <td>42.403628</td>\n",
       "      <td>57.596372</td>\n",
       "    </tr>\n",
       "    <tr>\n",
       "      <th>38</th>\n",
       "      <td>12.977099</td>\n",
       "      <td>87.022901</td>\n",
       "    </tr>\n",
       "  </tbody>\n",
       "</table>\n",
       "</div>"
      ],
      "text/plain": [
       "     class_high_tanimoto  class_low_tanimoto\n",
       "99             77.941176           22.058824\n",
       "249            55.849057           44.150943\n",
       "28             12.894376           87.105624\n",
       "90             42.403628           57.596372\n",
       "38             12.977099           87.022901"
      ]
     },
     "execution_count": 64,
     "metadata": {},
     "output_type": "execute_result"
    }
   ],
   "source": [
    "#drop some columns that arent useful in heatmap\n",
    "high_enriched_df = high_enriched_df[high_enriched_df['class_total']>100]\n",
    "\n",
    "new_df_high = high_enriched_df.drop(columns=['cf_class', \n",
    "                                             'class_total',\n",
    "                                             'pvalue',\n",
    "                                             '%_high_tanimoto',\n",
    "                                             '#_high_tanimoto',\n",
    "                                             '%_low_tanimoto'\n",
    "                                            ])\n",
    "\n",
    "\n",
    "\n",
    "from sklearn.preprocessing import MinMaxScaler\n",
    "\n",
    "#scaler = MinMaxScaler()\n",
    "#df_scaled = scaler.fit_transform(new_df_high.to_numpy())\n",
    "#new_df_high = pd.DataFrame(df_scaled, columns=[\n",
    " # 'ratio_class_high_tanimoto', 'ratio_class_not_high_tanimoto', 'high_tanimoto', 'not_high_tanimoto'])\n",
    "new_df_high.head()"
   ]
  },
  {
   "cell_type": "code",
   "execution_count": 65,
   "id": "aa1719b0",
   "metadata": {},
   "outputs": [
    {
     "data": {
      "text/html": [
       "<div>\n",
       "<style scoped>\n",
       "    .dataframe tbody tr th:only-of-type {\n",
       "        vertical-align: middle;\n",
       "    }\n",
       "\n",
       "    .dataframe tbody tr th {\n",
       "        vertical-align: top;\n",
       "    }\n",
       "\n",
       "    .dataframe thead th {\n",
       "        text-align: right;\n",
       "    }\n",
       "</style>\n",
       "<table border=\"1\" class=\"dataframe\">\n",
       "  <thead>\n",
       "    <tr style=\"text-align: right;\">\n",
       "      <th></th>\n",
       "      <th>cf_class</th>\n",
       "      <th>pvalue</th>\n",
       "      <th>class_total</th>\n",
       "      <th>#_high_tanimoto</th>\n",
       "      <th>class_high_tanimoto</th>\n",
       "      <th>class_low_tanimoto</th>\n",
       "      <th>%_high_tanimoto</th>\n",
       "      <th>%_low_tanimoto</th>\n",
       "    </tr>\n",
       "  </thead>\n",
       "  <tbody>\n",
       "    <tr>\n",
       "      <th>99</th>\n",
       "      <td>Glycerophospholipids</td>\n",
       "      <td>4.224218e-35</td>\n",
       "      <td>136</td>\n",
       "      <td>106</td>\n",
       "      <td>77.941176</td>\n",
       "      <td>22.058824</td>\n",
       "      <td>4.677846</td>\n",
       "      <td>0.498008</td>\n",
       "    </tr>\n",
       "    <tr>\n",
       "      <th>249</th>\n",
       "      <td>nan</td>\n",
       "      <td>4.076404e-23</td>\n",
       "      <td>265</td>\n",
       "      <td>148</td>\n",
       "      <td>55.849057</td>\n",
       "      <td>44.150943</td>\n",
       "      <td>6.531333</td>\n",
       "      <td>1.942231</td>\n",
       "    </tr>\n",
       "    <tr>\n",
       "      <th>28</th>\n",
       "      <td>Benzene and substituted derivatives</td>\n",
       "      <td>1.520543e-22</td>\n",
       "      <td>729</td>\n",
       "      <td>94</td>\n",
       "      <td>12.894376</td>\n",
       "      <td>87.105624</td>\n",
       "      <td>4.148279</td>\n",
       "      <td>10.541169</td>\n",
       "    </tr>\n",
       "    <tr>\n",
       "      <th>90</th>\n",
       "      <td>Flavonoids</td>\n",
       "      <td>2.774930e-12</td>\n",
       "      <td>441</td>\n",
       "      <td>187</td>\n",
       "      <td>42.403628</td>\n",
       "      <td>57.596372</td>\n",
       "      <td>8.252427</td>\n",
       "      <td>4.216467</td>\n",
       "    </tr>\n",
       "    <tr>\n",
       "      <th>38</th>\n",
       "      <td>Benzopyrans</td>\n",
       "      <td>9.977673e-05</td>\n",
       "      <td>131</td>\n",
       "      <td>17</td>\n",
       "      <td>12.977099</td>\n",
       "      <td>87.022901</td>\n",
       "      <td>0.750221</td>\n",
       "      <td>1.892430</td>\n",
       "    </tr>\n",
       "    <tr>\n",
       "      <th>165</th>\n",
       "      <td>Peptidomimetics</td>\n",
       "      <td>1.047303e-04</td>\n",
       "      <td>153</td>\n",
       "      <td>64</td>\n",
       "      <td>41.830065</td>\n",
       "      <td>58.169935</td>\n",
       "      <td>2.824360</td>\n",
       "      <td>1.477424</td>\n",
       "    </tr>\n",
       "    <tr>\n",
       "      <th>88</th>\n",
       "      <td>Fatty Acyls</td>\n",
       "      <td>2.505488e-04</td>\n",
       "      <td>297</td>\n",
       "      <td>54</td>\n",
       "      <td>18.181818</td>\n",
       "      <td>81.818182</td>\n",
       "      <td>2.383054</td>\n",
       "      <td>4.033865</td>\n",
       "    </tr>\n",
       "    <tr>\n",
       "      <th>121</th>\n",
       "      <td>Isoflavonoids</td>\n",
       "      <td>1.009812e-03</td>\n",
       "      <td>147</td>\n",
       "      <td>23</td>\n",
       "      <td>15.646259</td>\n",
       "      <td>84.353741</td>\n",
       "      <td>1.015004</td>\n",
       "      <td>2.058433</td>\n",
       "    </tr>\n",
       "    <tr>\n",
       "      <th>205</th>\n",
       "      <td>Quinolines and derivatives</td>\n",
       "      <td>5.469401e-02</td>\n",
       "      <td>168</td>\n",
       "      <td>57</td>\n",
       "      <td>33.928571</td>\n",
       "      <td>66.071429</td>\n",
       "      <td>2.515446</td>\n",
       "      <td>1.842629</td>\n",
       "    </tr>\n",
       "    <tr>\n",
       "      <th>59</th>\n",
       "      <td>Cinnamic acids and derivatives</td>\n",
       "      <td>6.063728e-02</td>\n",
       "      <td>105</td>\n",
       "      <td>20</td>\n",
       "      <td>19.047619</td>\n",
       "      <td>80.952381</td>\n",
       "      <td>0.882613</td>\n",
       "      <td>1.411023</td>\n",
       "    </tr>\n",
       "  </tbody>\n",
       "</table>\n",
       "</div>"
      ],
      "text/plain": [
       "                                cf_class        pvalue  class_total  \\\n",
       "99                  Glycerophospholipids  4.224218e-35          136   \n",
       "249                                  nan  4.076404e-23          265   \n",
       "28   Benzene and substituted derivatives  1.520543e-22          729   \n",
       "90                            Flavonoids  2.774930e-12          441   \n",
       "38                           Benzopyrans  9.977673e-05          131   \n",
       "165                      Peptidomimetics  1.047303e-04          153   \n",
       "88                           Fatty Acyls  2.505488e-04          297   \n",
       "121                        Isoflavonoids  1.009812e-03          147   \n",
       "205           Quinolines and derivatives  5.469401e-02          168   \n",
       "59        Cinnamic acids and derivatives  6.063728e-02          105   \n",
       "\n",
       "     #_high_tanimoto  class_high_tanimoto  class_low_tanimoto  \\\n",
       "99               106            77.941176           22.058824   \n",
       "249              148            55.849057           44.150943   \n",
       "28                94            12.894376           87.105624   \n",
       "90               187            42.403628           57.596372   \n",
       "38                17            12.977099           87.022901   \n",
       "165               64            41.830065           58.169935   \n",
       "88                54            18.181818           81.818182   \n",
       "121               23            15.646259           84.353741   \n",
       "205               57            33.928571           66.071429   \n",
       "59                20            19.047619           80.952381   \n",
       "\n",
       "     %_high_tanimoto  %_low_tanimoto  \n",
       "99          4.677846        0.498008  \n",
       "249         6.531333        1.942231  \n",
       "28          4.148279       10.541169  \n",
       "90          8.252427        4.216467  \n",
       "38          0.750221        1.892430  \n",
       "165         2.824360        1.477424  \n",
       "88          2.383054        4.033865  \n",
       "121         1.015004        2.058433  \n",
       "205         2.515446        1.842629  \n",
       "59          0.882613        1.411023  "
      ]
     },
     "execution_count": 65,
     "metadata": {},
     "output_type": "execute_result"
    }
   ],
   "source": [
    "high_enriched_df.head(10)"
   ]
  },
  {
   "cell_type": "code",
   "execution_count": 66,
   "id": "04dade97",
   "metadata": {},
   "outputs": [
    {
     "data": {
      "image/png": "[encoded data removed]",
      "text/plain": [
       "<Figure size 480x640 with 2 Axes>"
      ]
     },
     "metadata": {
      "needs_background": "light"
     },
     "output_type": "display_data"
    }
   ],
   "source": [
    "plt.figure(figsize=(4.8, 6.4),dpi=100)\n",
    "lab = [x for x in high_enriched_df['cf_class'].head(10)]\n",
    "ax=sns.heatmap(new_df_high.head(10), yticklabels = lab, vmin=0, vmax=100,cmap=\"plasma\",annot=True,\n",
    "          fmt=\".2f\")\n",
    "#plt.title('Chemical class proportion in hits \\nwith tanimoto > 0.8 vs hits with tanimoto < 0.8 \\n')\n",
    "#plt.savefig(f'./sdl_768_15_dims/heatmap_high_scoring_hits_by_{metric}_distance',bbox_inches = 'tight')\n",
    "#plt.xlabel('Proportion')\n",
    "\n",
    "\n",
    "ax.xaxis.tick_top() # x axis on top\n",
    "ax.xaxis.set_label_position('top')\n",
    "plt.xticks([0.5,1.5], labels=['%_high_tanimoto', '%_not_high_tanimoto'],rotation=45,fontsize=13)\n",
    "plt.yticks(fontsize=13)\n",
    "plt.savefig('./sdl_logs/figures/fisher_exact_CCA.pdf',format='pdf',\n",
    "           transparent=False,bbox_inches = 'tight')\n",
    "\n",
    "plt.show()"
   ]
  },
  {
   "cell_type": "markdown",
   "id": "c4244a5b",
   "metadata": {},
   "source": [
    "<h2> Distances before and After Deep(CCA) was applied </h2>"
   ]
  },
  {
   "cell_type": "markdown",
   "id": "fc8b439b",
   "metadata": {},
   "source": [
    "<h3> Select molecule pairs with high Tanimoto scores <h3>"
   ]
  },
  {
   "cell_type": "code",
   "execution_count": 72,
   "id": "cd8b8540",
   "metadata": {},
   "outputs": [],
   "source": [
    "#load tanimoto scores dataframe\n",
    "all_tanimotos = Files('./GNPS_15_12_2021_pos_tanimoto_scores.pickle').load_pickle()"
   ]
  },
  {
   "cell_type": "code",
   "execution_count": 73,
   "id": "8a926084",
   "metadata": {},
   "outputs": [
    {
     "data": {
      "text/html": [
       "<div>\n",
       "<style scoped>\n",
       "    .dataframe tbody tr th:only-of-type {\n",
       "        vertical-align: middle;\n",
       "    }\n",
       "\n",
       "    .dataframe tbody tr th {\n",
       "        vertical-align: top;\n",
       "    }\n",
       "\n",
       "    .dataframe thead th {\n",
       "        text-align: right;\n",
       "    }\n",
       "</style>\n",
       "<table border=\"1\" class=\"dataframe\">\n",
       "  <thead>\n",
       "    <tr style=\"text-align: right;\">\n",
       "      <th>inchikey14</th>\n",
       "      <th>LFTLOKWAGJYHHR</th>\n",
       "      <th>BQDXDGDOYPUUOD</th>\n",
       "      <th>VEPUCZUJLKAVNM</th>\n",
       "      <th>PXPSEALQIQRPQY</th>\n",
       "      <th>HDZVRBPBPCZCJG</th>\n",
       "      <th>SXJIZQPZESTWLD</th>\n",
       "      <th>JDOFZOKGCYYUER</th>\n",
       "      <th>WGTCMJBJRPKENJ</th>\n",
       "      <th>FCCDDURTIIUXBY</th>\n",
       "      <th>FDLLEBFMOIHMNM</th>\n",
       "      <th>...</th>\n",
       "      <th>RJAHLSXSRQXGGI</th>\n",
       "      <th>VKJTXCWIQDBMLE</th>\n",
       "      <th>NFIHKFSODJJLGC</th>\n",
       "      <th>NHLBOKNHQIEJIH</th>\n",
       "      <th>QABASLXUKXNHMC</th>\n",
       "      <th>XGVJWXAYKUHDOO</th>\n",
       "      <th>MNKNQKOOKLVXDB</th>\n",
       "      <th>CQKNELOTFUSOTP</th>\n",
       "      <th>MHCYVCDXRQGUFW</th>\n",
       "      <th>NMCMVEXMLSARCJ</th>\n",
       "    </tr>\n",
       "    <tr>\n",
       "      <th>inchikey14</th>\n",
       "      <th></th>\n",
       "      <th></th>\n",
       "      <th></th>\n",
       "      <th></th>\n",
       "      <th></th>\n",
       "      <th></th>\n",
       "      <th></th>\n",
       "      <th></th>\n",
       "      <th></th>\n",
       "      <th></th>\n",
       "      <th></th>\n",
       "      <th></th>\n",
       "      <th></th>\n",
       "      <th></th>\n",
       "      <th></th>\n",
       "      <th></th>\n",
       "      <th></th>\n",
       "      <th></th>\n",
       "      <th></th>\n",
       "      <th></th>\n",
       "      <th></th>\n",
       "    </tr>\n",
       "  </thead>\n",
       "  <tbody>\n",
       "    <tr>\n",
       "      <th>LFTLOKWAGJYHHR</th>\n",
       "      <td>1.000000</td>\n",
       "      <td>0.057353</td>\n",
       "      <td>0.042969</td>\n",
       "      <td>0.053269</td>\n",
       "      <td>0.069264</td>\n",
       "      <td>0.055453</td>\n",
       "      <td>0.048193</td>\n",
       "      <td>0.053296</td>\n",
       "      <td>0.052863</td>\n",
       "      <td>0.056204</td>\n",
       "      <td>...</td>\n",
       "      <td>0.049612</td>\n",
       "      <td>0.054762</td>\n",
       "      <td>0.053929</td>\n",
       "      <td>0.060065</td>\n",
       "      <td>0.049683</td>\n",
       "      <td>0.052980</td>\n",
       "      <td>0.049046</td>\n",
       "      <td>0.095833</td>\n",
       "      <td>0.050964</td>\n",
       "      <td>0.050159</td>\n",
       "    </tr>\n",
       "    <tr>\n",
       "      <th>BQDXDGDOYPUUOD</th>\n",
       "      <td>0.057353</td>\n",
       "      <td>1.000000</td>\n",
       "      <td>0.162866</td>\n",
       "      <td>0.215026</td>\n",
       "      <td>0.242169</td>\n",
       "      <td>0.176221</td>\n",
       "      <td>0.296270</td>\n",
       "      <td>0.195915</td>\n",
       "      <td>0.089888</td>\n",
       "      <td>0.460000</td>\n",
       "      <td>...</td>\n",
       "      <td>0.185547</td>\n",
       "      <td>0.430151</td>\n",
       "      <td>0.180851</td>\n",
       "      <td>0.218014</td>\n",
       "      <td>0.321244</td>\n",
       "      <td>0.297297</td>\n",
       "      <td>0.272672</td>\n",
       "      <td>0.147776</td>\n",
       "      <td>0.317369</td>\n",
       "      <td>0.253207</td>\n",
       "    </tr>\n",
       "    <tr>\n",
       "      <th>VEPUCZUJLKAVNM</th>\n",
       "      <td>0.042969</td>\n",
       "      <td>0.162866</td>\n",
       "      <td>1.000000</td>\n",
       "      <td>0.286316</td>\n",
       "      <td>0.113158</td>\n",
       "      <td>0.152310</td>\n",
       "      <td>0.208607</td>\n",
       "      <td>0.264908</td>\n",
       "      <td>0.082418</td>\n",
       "      <td>0.186620</td>\n",
       "      <td>...</td>\n",
       "      <td>0.157480</td>\n",
       "      <td>0.167925</td>\n",
       "      <td>0.233333</td>\n",
       "      <td>0.152523</td>\n",
       "      <td>0.228311</td>\n",
       "      <td>0.251228</td>\n",
       "      <td>0.226978</td>\n",
       "      <td>0.080844</td>\n",
       "      <td>0.289835</td>\n",
       "      <td>0.231393</td>\n",
       "    </tr>\n",
       "  </tbody>\n",
       "</table>\n",
       "<p>3 rows × 20889 columns</p>\n",
       "</div>"
      ],
      "text/plain": [
       "inchikey14      LFTLOKWAGJYHHR  BQDXDGDOYPUUOD  VEPUCZUJLKAVNM  \\\n",
       "inchikey14                                                       \n",
       "LFTLOKWAGJYHHR        1.000000        0.057353        0.042969   \n",
       "BQDXDGDOYPUUOD        0.057353        1.000000        0.162866   \n",
       "VEPUCZUJLKAVNM        0.042969        0.162866        1.000000   \n",
       "\n",
       "inchikey14      PXPSEALQIQRPQY  HDZVRBPBPCZCJG  SXJIZQPZESTWLD  \\\n",
       "inchikey14                                                       \n",
       "LFTLOKWAGJYHHR        0.053269        0.069264        0.055453   \n",
       "BQDXDGDOYPUUOD        0.215026        0.242169        0.176221   \n",
       "VEPUCZUJLKAVNM        0.286316        0.113158        0.152310   \n",
       "\n",
       "inchikey14      JDOFZOKGCYYUER  WGTCMJBJRPKENJ  FCCDDURTIIUXBY  \\\n",
       "inchikey14                                                       \n",
       "LFTLOKWAGJYHHR        0.048193        0.053296        0.052863   \n",
       "BQDXDGDOYPUUOD        0.296270        0.195915        0.089888   \n",
       "VEPUCZUJLKAVNM        0.208607        0.264908        0.082418   \n",
       "\n",
       "inchikey14      FDLLEBFMOIHMNM  ...  RJAHLSXSRQXGGI  VKJTXCWIQDBMLE  \\\n",
       "inchikey14                      ...                                   \n",
       "LFTLOKWAGJYHHR        0.056204  ...        0.049612        0.054762   \n",
       "BQDXDGDOYPUUOD        0.460000  ...        0.185547        0.430151   \n",
       "VEPUCZUJLKAVNM        0.186620  ...        0.157480        0.167925   \n",
       "\n",
       "inchikey14      NFIHKFSODJJLGC  NHLBOKNHQIEJIH  QABASLXUKXNHMC  \\\n",
       "inchikey14                                                       \n",
       "LFTLOKWAGJYHHR        0.053929        0.060065        0.049683   \n",
       "BQDXDGDOYPUUOD        0.180851        0.218014        0.321244   \n",
       "VEPUCZUJLKAVNM        0.233333        0.152523        0.228311   \n",
       "\n",
       "inchikey14      XGVJWXAYKUHDOO  MNKNQKOOKLVXDB  CQKNELOTFUSOTP  \\\n",
       "inchikey14                                                       \n",
       "LFTLOKWAGJYHHR        0.052980        0.049046        0.095833   \n",
       "BQDXDGDOYPUUOD        0.297297        0.272672        0.147776   \n",
       "VEPUCZUJLKAVNM        0.251228        0.226978        0.080844   \n",
       "\n",
       "inchikey14      MHCYVCDXRQGUFW  NMCMVEXMLSARCJ  \n",
       "inchikey14                                      \n",
       "LFTLOKWAGJYHHR        0.050964        0.050159  \n",
       "BQDXDGDOYPUUOD        0.317369        0.253207  \n",
       "VEPUCZUJLKAVNM        0.289835        0.231393  \n",
       "\n",
       "[3 rows x 20889 columns]"
      ]
     },
     "execution_count": 73,
     "metadata": {},
     "output_type": "execute_result"
    }
   ],
   "source": [
    "all_tanimotos.head(3)"
   ]
  },
  {
   "cell_type": "code",
   "execution_count": 77,
   "id": "a9c8aac0",
   "metadata": {},
   "outputs": [
    {
     "name": "stderr",
     "output_type": "stream",
     "text": [
      " 35%|██████████████████████████▋                                                 | 2906/8290 [33:17<1:01:40,  1.45it/s]\n"
     ]
    }
   ],
   "source": [
    "#select analogues with >= 0.8 tanimoto scores. here we select only 2000 of them.\n",
    "select = []\n",
    "for test_inchi in tqdm(test_df['inchikey14']):    \n",
    "    if len(select) >= 2000:\n",
    "        break\n",
    "    for train_inchi in train_df['inchikey14']:\n",
    "        if train_inchi in select:\n",
    "            continue\n",
    "        if test_inchi in select:\n",
    "            continue\n",
    "        if test_inchi == train_inchi:\n",
    "            continue\n",
    "        else:\n",
    "            #print(all_tanimotos.loc[test_inchi,train_inchi])\n",
    "            score = all_tanimotos.loc[test_inchi,train_inchi]\n",
    "            if score >= 0.8:\n",
    "                select.append(test_inchi)\n",
    "    \n",
    "    \n",
    "    #break\n",
    "Files('./selected_inchis_for_dists_before_and_after_deepcca_no_self.pickle').write_to_file(select)"
   ]
  },
  {
   "cell_type": "code",
   "execution_count": 82,
   "id": "f947a3f3",
   "metadata": {},
   "outputs": [
    {
     "data": {
      "text/plain": [
       "['QQQIECGTIMUVDS',\n",
       " 'AFCDXKGLUDDXCK',\n",
       " 'KNJNBKINYHZUGC',\n",
       " 'ALERZNQPBWWLMW',\n",
       " 'YKXSHBQVFVTYIL']"
      ]
     },
     "execution_count": 82,
     "metadata": {},
     "output_type": "execute_result"
    }
   ],
   "source": [
    "select[:5]"
   ]
  },
  {
   "cell_type": "code",
   "execution_count": 80,
   "id": "bfe997c6",
   "metadata": {},
   "outputs": [],
   "source": [
    "analogues = test_df[test_df['inchikey14'].isin(select)]"
   ]
  },
  {
   "cell_type": "code",
   "execution_count": 85,
   "id": "4b9b130b",
   "metadata": {},
   "outputs": [
    {
     "data": {
      "text/html": [
       "<div>\n",
       "<style scoped>\n",
       "    .dataframe tbody tr th:only-of-type {\n",
       "        vertical-align: middle;\n",
       "    }\n",
       "\n",
       "    .dataframe tbody tr th {\n",
       "        vertical-align: top;\n",
       "    }\n",
       "\n",
       "    .dataframe thead th {\n",
       "        text-align: right;\n",
       "    }\n",
       "</style>\n",
       "<table border=\"1\" class=\"dataframe\">\n",
       "  <thead>\n",
       "    <tr style=\"text-align: right;\">\n",
       "      <th></th>\n",
       "      <th>smiles</th>\n",
       "      <th>inchi_key</th>\n",
       "      <th>inchikey14</th>\n",
       "      <th>spec_id</th>\n",
       "      <th>spec2vec</th>\n",
       "      <th>ms2ds</th>\n",
       "      <th>mol2vec</th>\n",
       "      <th>cf_class</th>\n",
       "      <th>cca_z1</th>\n",
       "      <th>cca_z2</th>\n",
       "      <th>sdl_z1</th>\n",
       "      <th>sdl_z2</th>\n",
       "    </tr>\n",
       "  </thead>\n",
       "  <tbody>\n",
       "    <tr>\n",
       "      <th>5625</th>\n",
       "      <td>COc1ccc(cc1OC)C(=O)NCc2ccc(OCCN(C)C)cc2</td>\n",
       "      <td>QQQIECGTIMUVDS-UHFFFAOYSA-N</td>\n",
       "      <td>QQQIECGTIMUVDS</td>\n",
       "      <td>spec_id5019</td>\n",
       "      <td>[0.7660381606480904, -2.9954168988462215, -12....</td>\n",
       "      <td>[0.0, 13.000274658203125, 0.35151147842407227,...</td>\n",
       "      <td>[-0.45550603, -3.2559516, -3.0893652, 5.457150...</td>\n",
       "      <td>Benzene and substituted derivatives</td>\n",
       "      <td>[0.051531734505366716, -0.6290144322258142, 0....</td>\n",
       "      <td>[-0.3670569538963088, -0.7741333930951451, 0.1...</td>\n",
       "      <td>[-0.5074534, -0.19799042, -0.084220506, -0.090...</td>\n",
       "      <td>[-1.2729512, -0.20587964, -0.22160338, -0.5555...</td>\n",
       "    </tr>\n",
       "    <tr>\n",
       "      <th>32710</th>\n",
       "      <td>O=C2C(O)=C(OC=3C=C(OC1OC(CO)C(O)C(O)C1(O))C(OC...</td>\n",
       "      <td>AFCDXKGLUDDXCK-UHFFFAOYSA-N</td>\n",
       "      <td>AFCDXKGLUDDXCK</td>\n",
       "      <td>spec_id31385</td>\n",
       "      <td>[4.156373062713153, 2.6467714749778737, -9.709...</td>\n",
       "      <td>[25.13886260986328, 20.056901931762695, 0.0, 0...</td>\n",
       "      <td>[3.884097, -4.328525, -8.565995, 3.9552908, 1....</td>\n",
       "      <td>Flavonoids</td>\n",
       "      <td>[-0.0658633840961331, 0.9429675883808374, -1.8...</td>\n",
       "      <td>[-0.20775599360091013, 0.7636143826091808, -1....</td>\n",
       "      <td>[1.8711135, -0.21995814, -0.53303856, 1.526128...</td>\n",
       "      <td>[1.8491485, -0.2038337, -0.060643416, 1.56308,...</td>\n",
       "    </tr>\n",
       "    <tr>\n",
       "      <th>14421</th>\n",
       "      <td>C1OC2=C(O1)C=C(C=C2)C3=COC4=C(C3=O)C=CC(=C4)O</td>\n",
       "      <td>KNJNBKINYHZUGC-UHFFFAOYSA-N</td>\n",
       "      <td>KNJNBKINYHZUGC</td>\n",
       "      <td>spec_id12744</td>\n",
       "      <td>[-2.8919476279177254, 7.136436073237354, -11.3...</td>\n",
       "      <td>[0.0, 10.869701385498047, 0.0, 0.9871315956115...</td>\n",
       "      <td>[1.584554, -2.3259673, -3.662932, 4.6133733, -...</td>\n",
       "      <td>Isoflavonoids</td>\n",
       "      <td>[-0.2890197320080337, -0.3118134545186447, -0....</td>\n",
       "      <td>[-0.4108115967890674, -0.11284942912338826, -0...</td>\n",
       "      <td>[0.6291968, -0.22675322, 0.14513797, 0.7464487...</td>\n",
       "      <td>[0.64476126, -0.15404916, -0.12797499, 0.63583...</td>\n",
       "    </tr>\n",
       "    <tr>\n",
       "      <th>24733</th>\n",
       "      <td>O=C(OC1C(OC(OCCC2=CC=C(O)C(O)=C2)C(OC(=O)C)C1O...</td>\n",
       "      <td>ALERZNQPBWWLMW-UHFFFAOYSA-N</td>\n",
       "      <td>ALERZNQPBWWLMW</td>\n",
       "      <td>spec_id23060</td>\n",
       "      <td>[-4.41229641164563, -6.063199486461368, 5.2722...</td>\n",
       "      <td>[2.8529367446899414, 9.61679458618164, 15.8730...</td>\n",
       "      <td>[1.791454, -10.160973, -14.062275, 4.4526644, ...</td>\n",
       "      <td>Cinnamic acids and derivatives</td>\n",
       "      <td>[-0.4426021969577932, 1.8091691591418246, -1.3...</td>\n",
       "      <td>[-0.045717320712869366, 0.8496795833727779, -1...</td>\n",
       "      <td>[0.9548313, 0.14880593, -0.3830789, 1.2951463,...</td>\n",
       "      <td>[1.6044742, -0.05239439, -0.3297751, 1.7345406...</td>\n",
       "    </tr>\n",
       "    <tr>\n",
       "      <th>1554</th>\n",
       "      <td>CCCCCCCC[C@H](CC(=O)N[C@@H](CC(C)C)C(=O)N[C@H]...</td>\n",
       "      <td>YKXSHBQVFVTYIL-QBRPJVCNSA-N</td>\n",
       "      <td>YKXSHBQVFVTYIL</td>\n",
       "      <td>spec_id1415</td>\n",
       "      <td>[22.739339103192883, 4.099443681571424, -0.388...</td>\n",
       "      <td>[0.0, 2.6264846324920654, 36.33338165283203, 0...</td>\n",
       "      <td>[-0.7859595, -9.460448, -9.593054, 6.750944, 1...</td>\n",
       "      <td>Peptidomimetics</td>\n",
       "      <td>[0.2557153659576985, 2.626077715658153, 1.7261...</td>\n",
       "      <td>[0.2698508232841877, 2.1126756719217648, 1.536...</td>\n",
       "      <td>[0.28844205, -0.10560985, 10.159817, 0.5192892...</td>\n",
       "      <td>[0.3932817, 0.032470986, 8.970705, 0.30269888,...</td>\n",
       "    </tr>\n",
       "  </tbody>\n",
       "</table>\n",
       "</div>"
      ],
      "text/plain": [
       "                                                  smiles  \\\n",
       "5625             COc1ccc(cc1OC)C(=O)NCc2ccc(OCCN(C)C)cc2   \n",
       "32710  O=C2C(O)=C(OC=3C=C(OC1OC(CO)C(O)C(O)C1(O))C(OC...   \n",
       "14421      C1OC2=C(O1)C=C(C=C2)C3=COC4=C(C3=O)C=CC(=C4)O   \n",
       "24733  O=C(OC1C(OC(OCCC2=CC=C(O)C(O)=C2)C(OC(=O)C)C1O...   \n",
       "1554   CCCCCCCC[C@H](CC(=O)N[C@@H](CC(C)C)C(=O)N[C@H]...   \n",
       "\n",
       "                         inchi_key      inchikey14       spec_id  \\\n",
       "5625   QQQIECGTIMUVDS-UHFFFAOYSA-N  QQQIECGTIMUVDS   spec_id5019   \n",
       "32710  AFCDXKGLUDDXCK-UHFFFAOYSA-N  AFCDXKGLUDDXCK  spec_id31385   \n",
       "14421  KNJNBKINYHZUGC-UHFFFAOYSA-N  KNJNBKINYHZUGC  spec_id12744   \n",
       "24733  ALERZNQPBWWLMW-UHFFFAOYSA-N  ALERZNQPBWWLMW  spec_id23060   \n",
       "1554   YKXSHBQVFVTYIL-QBRPJVCNSA-N  YKXSHBQVFVTYIL   spec_id1415   \n",
       "\n",
       "                                                spec2vec  \\\n",
       "5625   [0.7660381606480904, -2.9954168988462215, -12....   \n",
       "32710  [4.156373062713153, 2.6467714749778737, -9.709...   \n",
       "14421  [-2.8919476279177254, 7.136436073237354, -11.3...   \n",
       "24733  [-4.41229641164563, -6.063199486461368, 5.2722...   \n",
       "1554   [22.739339103192883, 4.099443681571424, -0.388...   \n",
       "\n",
       "                                                   ms2ds  \\\n",
       "5625   [0.0, 13.000274658203125, 0.35151147842407227,...   \n",
       "32710  [25.13886260986328, 20.056901931762695, 0.0, 0...   \n",
       "14421  [0.0, 10.869701385498047, 0.0, 0.9871315956115...   \n",
       "24733  [2.8529367446899414, 9.61679458618164, 15.8730...   \n",
       "1554   [0.0, 2.6264846324920654, 36.33338165283203, 0...   \n",
       "\n",
       "                                                 mol2vec  \\\n",
       "5625   [-0.45550603, -3.2559516, -3.0893652, 5.457150...   \n",
       "32710  [3.884097, -4.328525, -8.565995, 3.9552908, 1....   \n",
       "14421  [1.584554, -2.3259673, -3.662932, 4.6133733, -...   \n",
       "24733  [1.791454, -10.160973, -14.062275, 4.4526644, ...   \n",
       "1554   [-0.7859595, -9.460448, -9.593054, 6.750944, 1...   \n",
       "\n",
       "                                  cf_class  \\\n",
       "5625   Benzene and substituted derivatives   \n",
       "32710                           Flavonoids   \n",
       "14421                        Isoflavonoids   \n",
       "24733       Cinnamic acids and derivatives   \n",
       "1554                       Peptidomimetics   \n",
       "\n",
       "                                                  cca_z1  \\\n",
       "5625   [0.051531734505366716, -0.6290144322258142, 0....   \n",
       "32710  [-0.0658633840961331, 0.9429675883808374, -1.8...   \n",
       "14421  [-0.2890197320080337, -0.3118134545186447, -0....   \n",
       "24733  [-0.4426021969577932, 1.8091691591418246, -1.3...   \n",
       "1554   [0.2557153659576985, 2.626077715658153, 1.7261...   \n",
       "\n",
       "                                                  cca_z2  \\\n",
       "5625   [-0.3670569538963088, -0.7741333930951451, 0.1...   \n",
       "32710  [-0.20775599360091013, 0.7636143826091808, -1....   \n",
       "14421  [-0.4108115967890674, -0.11284942912338826, -0...   \n",
       "24733  [-0.045717320712869366, 0.8496795833727779, -1...   \n",
       "1554   [0.2698508232841877, 2.1126756719217648, 1.536...   \n",
       "\n",
       "                                                  sdl_z1  \\\n",
       "5625   [-0.5074534, -0.19799042, -0.084220506, -0.090...   \n",
       "32710  [1.8711135, -0.21995814, -0.53303856, 1.526128...   \n",
       "14421  [0.6291968, -0.22675322, 0.14513797, 0.7464487...   \n",
       "24733  [0.9548313, 0.14880593, -0.3830789, 1.2951463,...   \n",
       "1554   [0.28844205, -0.10560985, 10.159817, 0.5192892...   \n",
       "\n",
       "                                                  sdl_z2  \n",
       "5625   [-1.2729512, -0.20587964, -0.22160338, -0.5555...  \n",
       "32710  [1.8491485, -0.2038337, -0.060643416, 1.56308,...  \n",
       "14421  [0.64476126, -0.15404916, -0.12797499, 0.63583...  \n",
       "24733  [1.6044742, -0.05239439, -0.3297751, 1.7345406...  \n",
       "1554   [0.3932817, 0.032470986, 8.970705, 0.30269888,...  "
      ]
     },
     "execution_count": 85,
     "metadata": {},
     "output_type": "execute_result"
    }
   ],
   "source": [
    "analogues.head()"
   ]
  },
  {
   "cell_type": "code",
   "execution_count": 84,
   "id": "30a9bd19",
   "metadata": {},
   "outputs": [],
   "source": [
    "# write the df of selected analogues to file\n",
    "Files('./analogues_df_for_dists_before_and_after_deepcca_no_self.pickle').write_to_file(analogues)"
   ]
  },
  {
   "cell_type": "markdown",
   "id": "3b94d6d9",
   "metadata": {},
   "source": [
    "<h3> Compute the cosine distances before and after the models were applied </h3>"
   ]
  },
  {
   "cell_type": "code",
   "execution_count": 98,
   "id": "6b9f3bdf",
   "metadata": {},
   "outputs": [],
   "source": [
    "\n",
    "method = ['before', 'cca', 'deepcca']\n",
    "embeddings = [['ms2ds', 'mol2vec'],['cca_z1', 'cca_z2'], ['sdl_z1','sdl_z2']]\n",
    "#size = 5\n",
    "for i, embed in enumerate(embeddings):\n",
    "    print(f'\\nModel {method[i]}')\n",
    "    # cosine distance\n",
    "    dist = predict(subject_df=train_df,\n",
    "                    query_df=analogues,dims=100,\n",
    "                    query_embed=embed[0], \n",
    "                    metric='cos')\n",
    "    \n",
    "    print('\\nComputing Distance is Completed successfully\\n')\n",
    "     # tanimotos and hits\n",
    "    scores, hit = get_tanimotos(dist,subject_df=train_df,\n",
    "                                    query_df=analogues,\n",
    "                                    metric='cos')\n",
    "    \n",
    "    print('\\nComputing Tanimoto and hits is Completed successfully\\n')\n",
    "    # write the distances to file\n",
    "    Files(f'./sdl_logs/sdl_optimized_params/distance_before_and_after_deepcca/{method[i]}_final_model_test_cos.pickle').write_to_file(dist)\n",
    "    \n",
    "    del dist # rescue memory :) \n",
    "    \n",
    "    Files(f'./sdl_logs/sdl_optimized_params/distance_before_and_after_deepcca/{method[i]}_final_model_test_cos_tanimoto.pickle').write_to_file(scores[0]) # scores has [tanimoto, mcs]\n",
    "    Files(f'./sdl_logs/sdl_optimized_params/distance_before_and_after_deepcca/{method[i]}_final_model_test_cos_hits.pickle').write_to_file(hit)\n",
    "    \n",
    "    del scores, hit # only load when actually using them."
   ]
  },
  {
   "cell_type": "code",
   "execution_count": 96,
   "id": "6b8aea6f",
   "metadata": {},
   "outputs": [
    {
     "data": {
      "text/plain": [
       "(2468, 12)"
      ]
     },
     "execution_count": 96,
     "metadata": {},
     "output_type": "execute_result"
    }
   ],
   "source": [
    "analogues.shape"
   ]
  },
  {
   "cell_type": "markdown",
   "id": "6555b3df",
   "metadata": {},
   "source": [
    "<h3> Extract top k predicted inchikey14s from the computed cosine distance </h3>"
   ]
  },
  {
   "cell_type": "code",
   "execution_count": null,
   "id": "e0fc7f73",
   "metadata": {},
   "outputs": [],
   "source": [
    "\n",
    "methods = ['before', 'cca', 'deepcca']\n",
    "analogues_20_preds = [{},{},{}]\n",
    "cos_df = pd.DataFrame()\n",
    "for i, method in enumerate(tqdm(methods)):\n",
    "    cos_dict = Files(f'./sdl_logs/sdl_optimized_params/distance_before_and_after_deepcca/{method}_final_model_test_cos.pickle').load_pickle() # scores has [tanimoto, mcs]\n",
    "    \n",
    "    method_cos = []\n",
    "    for query, dist_values in cos_dict.items():\n",
    "        top_20_cos = np.sort(dist_values)[:20]\n",
    "        top_20_inchis = []\n",
    "        method_cos.append(np.min(top_20_cos))\n",
    "        query_inchi = analogues['inchikey14'].iloc[query]\n",
    "        for cos in top_20_cos:\n",
    "            subject_index = dist_values.index(cos)\n",
    "            #subject_hit_indices.append(subject_index)\n",
    "            inchi = train_df['inchikey14'].iloc[subject_index]\n",
    "            \n",
    "            top_20_inchis.append(inchi)\n",
    "        analogues_20_preds[i][query_inchi] =  top_20_inchis\n",
    "        \n",
    "    cos_df[method] = method_cos\n",
    "    \n",
    "    cos_df.head()    \n",
    "Files('./sdl_logs/sdl_optimized_params/distance_before_and_after_deepcca/top_20_cos_preds_.pickle').write_to_file(analogues_20_preds)      "
   ]
  },
  {
   "cell_type": "markdown",
   "id": "b30a8df3",
   "metadata": {},
   "source": [
    "<h3> Plot analogues Tanimoto score distribution of the predictions before and after the models were applied </h3>"
   ]
  },
  {
   "cell_type": "code",
   "execution_count": 100,
   "id": "6a08d4a2",
   "metadata": {},
   "outputs": [],
   "source": [
    "methods = ['before', 'cca', 'deepcca']\n",
    "\n",
    "tanis = []\n",
    "for method in methods:\n",
    "    tani = Files(f'./sdl_logs/sdl_optimized_params/distance_before_and_after_deepcca/{method}_final_model_test_cos_tanimoto.pickle').load_pickle() # scores has [tanimoto, mcs]\n",
    "    \n",
    "    \n",
    "    tanis.append(tani)"
   ]
  },
  {
   "cell_type": "code",
   "execution_count": 104,
   "id": "2427626c",
   "metadata": {},
   "outputs": [],
   "source": [
    "tanis_df = pd.DataFrame({'Before_Deep(CCA)':tanis[0],\n",
    "                        'After_CCA':tanis[1],\n",
    "                        'After_DeepCCA':tanis[2]})"
   ]
  },
  {
   "cell_type": "code",
   "execution_count": 127,
   "id": "e3b42d9b",
   "metadata": {},
   "outputs": [
    {
     "name": "stderr",
     "output_type": "stream",
     "text": [
      "C:\\Users\\lmeli\\AppData\\Local\\Programs\\Python\\Python39\\lib\\site-packages\\seaborn\\categorical.py:82: FutureWarning: iteritems is deprecated and will be removed in a future version. Use .items instead.\n",
      "  plot_data = [np.asarray(s, float) for k, s in iter_data]\n"
     ]
    },
    {
     "data": {
      "text/plain": [
       "Text(0.5, 0, 'Tanimoto score')"
      ]
     },
     "execution_count": 127,
     "metadata": {},
     "output_type": "execute_result"
    },
    {
     "data": {
      "image/png": "[encoded data removed]",
      "text/plain": [
       "<Figure size 480x640 with 1 Axes>"
      ]
     },
     "metadata": {
      "needs_background": "light"
     },
     "output_type": "display_data"
    }
   ],
   "source": [
    "palette = [sns.color_palette(\"colorblind\")[0],\n",
    "           sns.color_palette(\"colorblind\")[5],\n",
    "           sns.color_palette(\"colorblind\")[6],]\n",
    "plt.figure(figsize=(4.8, 6.4),dpi=100)\n",
    "ax = sns.boxplot(data=tanis_df, orient='h',\n",
    "             showmeans = True, palette = palette,\n",
    "           meanprops={\"marker\":\"o\",\n",
    "                      \"markerfacecolor\":\"white\", \n",
    "                      \"markeredgecolor\":\"black\",\n",
    "                      \"markersize\":\"10\"})\n",
    "plt.text(x=0.35,y=0.1,s=round(np.mean(tanis[0]),3))\n",
    "plt.text(x=0.68,y=1,s=round(np.mean(tanis[1]),3))\n",
    "plt.text(x=0.68,y=2,s=round(np.mean(tanis[2]),3))\n",
    "plt.xlabel('Tanimoto score', fontsize=15)"
   ]
  },
  {
   "cell_type": "markdown",
   "id": "676e8cba",
   "metadata": {},
   "source": [
    "<h3> Examine the cosine distance of the analogues before and Deep(CCA) </h3>"
   ]
  },
  {
   "cell_type": "code",
   "execution_count": 120,
   "id": "d85b7149",
   "metadata": {},
   "outputs": [],
   "source": [
    "methods = ['before', 'cca', 'deepcca']\n",
    "\n",
    "cos_df = pd.DataFrame()\n",
    "for method in methods:\n",
    "    cos_dict = Files(f'./sdl_logs/sdl_optimized_params/distance_before_and_after_deepcca/{method}_final_model_test_cos.pickle').load_pickle() # scores has [tanimoto, mcs]\n",
    "    \n",
    "    method_cos = []\n",
    "    for query, dist_values in cos_dict.items():\n",
    "        method_cos.append(np.min(np.mean(dist_values)[:20]))\n",
    "    cos_df[method] = method_cos\n",
    "    cos_df.head()    \n",
    "Files('./sdl_logs/sdl_optimized_params/distance_before_and_after_deepcca/minimum_cos_dist_nn_20.pickle').write_to_file(cos_df)      "
   ]
  },
  {
   "cell_type": "code",
   "execution_count": 138,
   "id": "8d7cf691",
   "metadata": {},
   "outputs": [
    {
     "data": {
      "text/html": [
       "<div>\n",
       "<style scoped>\n",
       "    .dataframe tbody tr th:only-of-type {\n",
       "        vertical-align: middle;\n",
       "    }\n",
       "\n",
       "    .dataframe tbody tr th {\n",
       "        vertical-align: top;\n",
       "    }\n",
       "\n",
       "    .dataframe thead th {\n",
       "        text-align: right;\n",
       "    }\n",
       "</style>\n",
       "<table border=\"1\" class=\"dataframe\">\n",
       "  <thead>\n",
       "    <tr style=\"text-align: right;\">\n",
       "      <th></th>\n",
       "      <th>before</th>\n",
       "      <th>cca</th>\n",
       "      <th>deepcca</th>\n",
       "    </tr>\n",
       "  </thead>\n",
       "  <tbody>\n",
       "    <tr>\n",
       "      <th>0</th>\n",
       "      <td>0.741609</td>\n",
       "      <td>0.487432</td>\n",
       "      <td>0.069494</td>\n",
       "    </tr>\n",
       "    <tr>\n",
       "      <th>1</th>\n",
       "      <td>0.778015</td>\n",
       "      <td>0.297145</td>\n",
       "      <td>0.009886</td>\n",
       "    </tr>\n",
       "    <tr>\n",
       "      <th>2</th>\n",
       "      <td>0.755551</td>\n",
       "      <td>0.438998</td>\n",
       "      <td>0.022226</td>\n",
       "    </tr>\n",
       "    <tr>\n",
       "      <th>3</th>\n",
       "      <td>0.809214</td>\n",
       "      <td>0.541897</td>\n",
       "      <td>0.065815</td>\n",
       "    </tr>\n",
       "    <tr>\n",
       "      <th>4</th>\n",
       "      <td>0.783484</td>\n",
       "      <td>0.300062</td>\n",
       "      <td>0.002932</td>\n",
       "    </tr>\n",
       "  </tbody>\n",
       "</table>\n",
       "</div>"
      ],
      "text/plain": [
       "     before       cca   deepcca\n",
       "0  0.741609  0.487432  0.069494\n",
       "1  0.778015  0.297145  0.009886\n",
       "2  0.755551  0.438998  0.022226\n",
       "3  0.809214  0.541897  0.065815\n",
       "4  0.783484  0.300062  0.002932"
      ]
     },
     "execution_count": 138,
     "metadata": {},
     "output_type": "execute_result"
    }
   ],
   "source": [
    "#load the distance extracted above\n",
    "cos_df = Files('./sdl_logs/sdl_optimized_params/distance_before_and_after_deepcca/minimum_cos_dist_nn_20.pickle').load_pickle()\n",
    "cos_df.head()"
   ]
  },
  {
   "cell_type": "code",
   "execution_count": 166,
   "id": "54a8bf0d",
   "metadata": {},
   "outputs": [
    {
     "data": {
      "image/png": "[encoded data removed]",
      "text/plain": [
       "<Figure size 480x640 with 1 Axes>"
      ]
     },
     "metadata": {
      "needs_background": "light"
     },
     "output_type": "display_data"
    }
   ],
   "source": [
    "palette = [sns.color_palette(\"colorblind\")[0],\n",
    "           sns.color_palette(\"colorblind\")[5],\n",
    "           sns.color_palette(\"colorblind\")[6],]\n",
    "plt.figure(figsize=(4.8, 6.4),dpi=100)\n",
    "ax = sns.boxplot(data=cos_df, orient='h',\n",
    "             showmeans = True, palette = palette,\n",
    "           meanprops={\"marker\":\"o\",\n",
    "                      \"markerfacecolor\":\"white\", \n",
    "                      \"markeredgecolor\":\"black\",\n",
    "                      \"markersize\":\"10\"})\n",
    "plt.xlabel('Cosine Distance', fontsize=15)\n",
    "plt.text(x=0.82,y=-0.01,s=round(np.mean(cos_df['before']),3))\n",
    "plt.text(x=0.5,y=0.95,s=round(np.mean(cos_df['cca']),3))\n",
    "plt.text(x=0.06,y=1.9,s=round(np.mean(cos_df['deepcca']),3))\n",
    "plt.yticks(ticks=[0,1,2],labels=['Before_Deep(CCA)', 'After_CCA', 'After_DeepCCA'])\n",
    "plt.show()"
   ]
  },
  {
   "cell_type": "markdown",
   "id": "946563ae",
   "metadata": {},
   "source": [
    "<h2> Examine the top 20 Accuracy of the models </h2>"
   ]
  },
  {
   "cell_type": "code",
   "execution_count": 45,
   "id": "83c26185",
   "metadata": {},
   "outputs": [
    {
     "data": {
      "text/plain": [
       "2000"
      ]
     },
     "execution_count": 45,
     "metadata": {},
     "output_type": "execute_result"
    }
   ],
   "source": [
    "analogues_20_preds = Files(f'./sdl_logs/sdl_optimized_params/distance_before_and_after_deepcca/top_20_cos_preds_.pickle').load_pickle() \n",
    "\n",
    "len(analogues_20_preds[0]) # some keys could be unique so the dataset will reduce than expected\n",
    "#Files('./sdl_logs/sdl_optimized_params/distance_before_and_after_deepcca/top_20_cos_preds_.pickle').write_to_file(analogues_20_preds)      "
   ]
  },
  {
   "cell_type": "code",
   "execution_count": 46,
   "id": "07e40dca",
   "metadata": {},
   "outputs": [
    {
     "name": "stdout",
     "output_type": "stream",
     "text": [
      "0 1338 662\n",
      "223 1115 662\n",
      "141 1197 662\n"
     ]
    }
   ],
   "source": [
    "scores = []\n",
    "#try this for the entire test dataset\n",
    "methods = ['before','cca', 'deepcca']\n",
    "train_inchis = [x for x in train_df['inchikey14']]\n",
    "for i, top_20 in enumerate(analogues_20_preds): #['before', 'cca', 'deepcca']\n",
    "    score = []\n",
    "    count_present = 0\n",
    "    count_absent = 0\n",
    "    count_not_in_train = 0\n",
    "    for label, preds in top_20.items():\n",
    "        if label not in train_inchis:\n",
    "            count_not_in_train += 1\n",
    "            continue\n",
    "            \n",
    "        if label not in preds:\n",
    "            #print(label)\n",
    "            score.append(0)\n",
    "            count_absent += 1\n",
    "        else:\n",
    "            count_present += 1\n",
    "            indx = preds.index(label)\n",
    "            score.append(round(indx/20,3))\n",
    "            #print(indx)\n",
    "        #break\n",
    "    #print(np.mean(sum(score)/len(score)))\n",
    "    scores.append(sum(score)/len(score))\n",
    "    print(count_present, count_absent, count_not_in_train)\n",
    "    #break"
   ]
  },
  {
   "cell_type": "code",
   "execution_count": 47,
   "id": "06b21f80",
   "metadata": {},
   "outputs": [
    {
     "data": {
      "text/plain": [
       "[0.0, 0.06236920777279518, 0.03733183856502242]"
      ]
     },
     "execution_count": 47,
     "metadata": {},
     "output_type": "execute_result"
    }
   ],
   "source": [
    "scores"
   ]
  },
  {
   "cell_type": "code",
   "execution_count": 281,
   "id": "977d458a",
   "metadata": {},
   "outputs": [
    {
     "data": {
      "text/plain": [
       "4.172499999999999"
      ]
     },
     "execution_count": 281,
     "metadata": {},
     "output_type": "execute_result"
    }
   ],
   "source": [
    "scores[1]*100"
   ]
  }
 ],
 "metadata": {
  "kernelspec": {
   "display_name": "Python 3 (ipykernel)",
   "language": "python",
   "name": "python3"
  },
  "language_info": {
   "codemirror_mode": {
    "name": "ipython",
    "version": 3
   },
   "file_extension": ".py",
   "mimetype": "text/x-python",
   "name": "python",
   "nbconvert_exporter": "python",
   "pygments_lexer": "ipython3",
   "version": "3.9.7"
  }
 },
 "nbformat": 4,
 "nbformat_minor": 5
}
