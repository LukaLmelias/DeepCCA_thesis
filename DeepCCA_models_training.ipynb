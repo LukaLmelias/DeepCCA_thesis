{
 "cells": [
  {
   "cell_type": "code",
   "execution_count": 3,
   "id": "1431c578",
   "metadata": {},
   "outputs": [],
   "source": [
    "import pytorch_lightning as pl\n",
    "from matplotlib import pyplot as plt\n",
    "import seaborn as sns\n",
    "from cca_zoo.deepmodels import (\n",
    "    DCCA,\n",
    "    DCCA_NOI,\n",
    "    DCCA_SDL,\n",
    "    #BarlowTwins,\n",
    "    get_dataloaders,\n",
    "    \n",
    ")\n",
    "from cca_zoo.deepmodels.utils import architectures, objectives\n",
    "from cca_zoo.plotting import pairplot_label\n",
    "from cca_zoo.data import CCA_Dataset\n",
    "from cca_zoo.models import CCA\n",
    "from cca_zoo.model_selection import GridSearchCV\n",
    "import torch.optim as optim\n",
    "from torch.utils.data import random_split\n",
    "from sklearn.model_selection import train_test_split\n",
    "import os\n",
    "from scipy.spatial import distance\n",
    "from scipy.stats import pearsonr\n",
    "from scipy.stats import fisher_exact\n",
    "from scipy.stats.contingency import crosstab\n",
    "from scipy.stats import hypergeom\n",
    "import random\n",
    "import pandas as pd\n",
    "import numpy as np\n",
    "import pickle\n",
    "from pytorch_lightning import loggers as pl_loggers\n",
    "from pytorch_lightning.callbacks.model_checkpoint import ModelCheckpoint\n",
    "from pytorch_lightning.loggers import TensorBoardLogger\n",
    "from pytorch_lightning import seed_everything\n",
    "from torch import nn\n",
    "\n",
    "os.chdir('../raw_data')\n"
   ]
  },
  {
   "cell_type": "markdown",
   "id": "6b7f655a",
   "metadata": {},
   "source": [
    "#### Functions to load and or write to pickle files"
   ]
  },
  {
   "cell_type": "code",
   "execution_count": 4,
   "id": "0ce2538d",
   "metadata": {},
   "outputs": [],
   "source": [
    "class Files:\n",
    "    def __init__(self, filename):\n",
    "        self.file = filename\n",
    "        \n",
    "    def write_to_file(self, data):\n",
    "        with open(self.file, 'wb') as f:\n",
    "            pickle.dump(data, f) \n",
    "        return None\n",
    "    \n",
    "    def load_pickle(self):\n",
    "        data = pd.read_pickle(self.file)\n",
    "        return data\n",
    "    \n",
    "    def load_csv(self, sep, usecols=None):\n",
    "        data = pd.read_csv(self.file, sep=sep, usecols=usecols)\n",
    "        return data\n",
    "        \n",
    "        \n",
    "    "
   ]
  },
  {
   "cell_type": "code",
   "execution_count": 8,
   "id": "f3bcbb3f",
   "metadata": {},
   "outputs": [
    {
     "data": {
      "text/plain": [
       "(1000, 8)"
      ]
     },
     "execution_count": 8,
     "metadata": {},
     "output_type": "execute_result"
    }
   ],
   "source": [
    "# load df with all info\n",
    "path = './df_classes_max3_embeddings.pickle'\n",
    "df_all = Files(path).load_pickle()[:1000] #just a subset for scripting\n",
    "df_all.shape"
   ]
  },
  {
   "cell_type": "code",
   "execution_count": 9,
   "id": "c33f644d",
   "metadata": {},
   "outputs": [],
   "source": [
    "class DeepCCA:\n",
    "    def __init__(self, df_all,batch_size = 768,num_workers = 6,\\\n",
    "                latent_dims=100, epochs=300, lr=0.001): #default dims determined after iteratin 10:50 dims \n",
    "        \n",
    "        self.df_all = df_all\n",
    "        self.batch_size = batch_size\n",
    "        self.num_workers = num_workers\n",
    "        self.v1='ms2ds'\n",
    "        self.v2 = 'mol2vec'\n",
    "        \n",
    "        self.epochs = epochs\n",
    "        self.sdl_lr = 0.025118864315095822#0.01#lr (picked after running lr_finder) auto lr enabled\n",
    "        self.dcca_lr = 5.623413251903491e-08 #lr\n",
    "        self.latent_dims=latent_dims\n",
    "        self.optim = 'sgd'\n",
    "        self.activation = nn.Tanh()\n",
    "        self.objective = objectives.CCA\n",
    "        self.encoder_1_layers = (500,500)\n",
    "        self.encoder_2_layers = (500,500)\n",
    "        #seed_everything(15) # seeding is not decide to test model reproducibility\n",
    "        \n",
    "        \n",
    "    def split_data(self,test_size=0.2,\\\n",
    "                   random_state=None,stratify=None): # thinking of removing this one\n",
    "        \n",
    "        if random_state != None and stratify == None:\n",
    "            train_df, test_df = \\\n",
    "            train_test_split(self.df_all, test_size=test_size, random_state=random_state)\n",
    "        \n",
    "        elif random_state == None and stratify != None:\n",
    "            train_df, test_df = \\\n",
    "            train_test_split(self.df_all, test_size=test_size,stratify=self.df_all[stratify])\n",
    "        else:\n",
    "            train_df, test_df = \\\n",
    "            train_test_split(self.df_all, test_size=test_size, random_state=42)\n",
    "        \n",
    "        return train_df, test_df \n",
    "    \n",
    "    def gen_views(self,v1='ms2ds',v2='mol2vec'):\n",
    "        \n",
    "        #split test, train\n",
    "        train_df, test_df= self.split_data(test_size=0.2,random_state=42)\n",
    "        \n",
    "        #Split train dataset into train and validation set\n",
    "        train_df, val_df = train_test_split(train_df, test_size=0.1, random_state=42)\n",
    "        \n",
    "        \n",
    "        #extract the 2 view, v1 == spectra embeddings, v2==structure embeddings\n",
    "        v1_train, v1_test = np.array([x for x in train_df[v1]]), np.array([x for x in test_df[v1]])\n",
    "        v2_train, v2_test = np.array([x for x in train_df[v2]]), np.array([x for x in test_df[v2]])\n",
    "\n",
    "        # validation\n",
    "        v1_val, v2_val = np.array([x for x in val_df[v1]]), np.array([x for x in val_df[v2]])\n",
    "        \n",
    "        #update self dfs\n",
    "        self.train_df = train_df\n",
    "        self.test_df = test_df\n",
    "        self.val_df = val_df\n",
    "        \n",
    "        # not memory efficient !!!\n",
    "        self.v1_train, self.v1_test = v1_train, v1_test\n",
    "        self.v2_train, self.v2_test = v2_train, v2_test\n",
    "        self.v1_val, self.v2_val = v1_val, v2_val\n",
    "        \n",
    "        return None\n",
    "    \n",
    "    def deepcca_encoders(self):\n",
    "        # define encoders\n",
    "        self.encoder_1 = architectures.Encoder(\n",
    "                                      latent_dims = self.latent_dims, \n",
    "                                      feature_size = self.v1_size,\n",
    "                                      layer_sizes = self.encoder_1_layers,\n",
    "                                      activation = self.activation\n",
    "                                    )\n",
    "                                     \n",
    "        self.encoder_2 = architectures.Encoder(\n",
    "                                      latent_dims=self.latent_dims, \n",
    "                                      feature_size=self.v2_size, \n",
    "                                      layer_sizes=self.encoder_2_layers,\n",
    "                                      activation = self.activation\n",
    "                                     )\n",
    "       \n",
    "        return None#[encoder_1, encoder_2]\n",
    "        \n",
    "    \n",
    "    def deepcca_dataloaders(self):\n",
    "        \n",
    "        #v1_train,v1_test, v2_train,v2_test, v1_val, v2_val = \\\n",
    "        self.gen_views(v1=self.v1, v2=self.v2)\n",
    "        \n",
    "        #creat CCA dataset \n",
    "        train_dataset = CCA_Dataset([self.v1_train, self.v2_train])\n",
    "        test_dataset = CCA_Dataset([self.v1_test, self.v2_test])\n",
    "        val_dataset = CCA_Dataset([self.v1_val, self.v2_val])\n",
    "        \n",
    "        #update features size\n",
    "        self.v1_size = self.v1_train.shape[1]\n",
    "        self.v2_size = self.v2_train.shape[1]\n",
    "        self.N = len(train_dataset)\n",
    "        \n",
    "        #set N (for sdl; equal len train dataset)\n",
    "        self.N = len(train_dataset)\n",
    "        \n",
    "        #loaders\n",
    "        self.train_loader , self.val_loader = get_dataloaders(train_dataset, \\\n",
    "                                                    val_dataset,batch_size=self.batch_size,\\\n",
    "                                                    num_workers=self.num_workers,drop_last=False)\n",
    "        self.test_loader = get_dataloaders(test_dataset,\\\n",
    "                                      batch_size=self.batch_size, \\\n",
    "                                      num_workers=self.num_workers,drop_last=False)\n",
    "        \n",
    "        \n",
    "        \n",
    "        \n",
    "        return None\n",
    "    \n",
    "    \n",
    "    def train_cca(self): #only for comparison with other deep models\n",
    "        \n",
    "       \n",
    "        \n",
    "        #define and train cca model\n",
    "        print('\\n','-'*20,'\\n Training CCA\\n','-'*20)\n",
    "        cca = CCA(latent_dims=self.latent_dims).fit((self.v1_train, self.v2_train))\n",
    "        self.cca = cca\n",
    "        return None#cca\n",
    "    \n",
    "    def train_sdl(self, checkpoint=None, logger=None,lam=0.0001,enable_progress_bar=True ):\n",
    "        \n",
    "        \n",
    "        # 2. SDL\n",
    "        sdl = DCCA_SDL(self.latent_dims,\n",
    "                       optimizer=self.optim,\n",
    "                       N=self.N, \n",
    "                       encoders = [self.encoder_1,self.encoder_2],\n",
    "                       lam=0.0001, \n",
    "                       lr=self.sdl_lr,\n",
    "                       dropout=0.05,\n",
    "                       objective=self.objective) \n",
    "\n",
    "        \n",
    "        \n",
    "        #define the trainer\n",
    "        \n",
    "        self.trainer = pl.Trainer(#default_root_dir=default_root_dir,\n",
    "                             logger = logger,\n",
    "                             max_epochs=self.epochs, #enable early stoppage instead of specifiying num epochs                           \n",
    "                             log_every_n_steps=1,\n",
    "                             val_check_interval = 1, #`Trainer(val_check_interval=1)` was configured so validation will run after every batch.\n",
    "                             \n",
    "                             callbacks=[\n",
    "                                checkpoint,\n",
    "                                 #pl.callbacks.early_stopping.EarlyStopping(monitor=\"val/l2\") # early stopage to reduce overfitting\n",
    "                             ],\n",
    "                            enable_progress_bar=enable_progress_bar,\n",
    "                            auto_lr_find = True\n",
    "                                )#,\n",
    "        \n",
    "        #callbacks=[pl.callbacks.early_stopping.EarlyStopping(monitor=\"train/sdl\")])# early stopage to reduce overfitting\n",
    "        \n",
    "        print('\\n','-'*20,'\\n Training SDL\\n','-'*20)\n",
    "        self.trainer.fit(sdl, self.train_loader,self.val_loader)\n",
    "        self.sdl = sdl\n",
    "        return None#sdl\n",
    "    \n",
    "    def train_dcca(self):\n",
    "        \n",
    "       \n",
    "        \n",
    "        # 2. DCCA\n",
    "        dcca = DCCA(self.latent_dims,\n",
    "                    optimizer=self.optim,\n",
    "                    encoders = [self.encoder_1,self.encoder_2],\n",
    "                    lr=self.dcca_lr,\n",
    "                    objective=self.objective) \n",
    "\n",
    "        #train\n",
    "        #tb_logger = pl_loggers.TensorBoardLogger(save_dir=\"pl_logs/dcca\")\n",
    "        trainer = pl.Trainer(default_root_dir=\"./dcca\",max_epochs=self.epochs,log_every_n_steps=1)#,\n",
    "        \n",
    "        #callbacks=[pl.callbacks.early_stopping.EarlyStopping(monitor=\"train/sdl\")])# early stopage to reduce overfitting\n",
    "\n",
    "        print('\\n','-'*20,'\\n Training DCCA\\n','-'*20)\n",
    "        trainer.fit(dcca, self.train_loader,self.val_loader)\n",
    "        \n",
    "        self.dcca = dcca\n",
    "        \n",
    "        return None #dcca\n",
    "    \n",
    "    \n",
    "    \n",
    "    def score(self,model,dataset): \n",
    "        \"\"\"\n",
    "        model: either 'cca', 'dcca', 'sdl'\n",
    "        dataset: 'train', 'test', or 'val'\n",
    "        \n",
    "        returns: correlation \n",
    "        \"\"\"\n",
    "       # for cca models \n",
    "        #m = eval(model)\n",
    "        \n",
    "        #specify data to transform\n",
    "        if dataset == 'train':\n",
    "            v1,v2, loader = self.v1_train, self.v2_train, self.train_loader\n",
    "        elif dataset == 'test':\n",
    "            v1,v2, loader = self.v1_test, self.v2_test, self.test_loader\n",
    "        elif dataset == 'val':\n",
    "            v1,v2, loader = self.v1_val, self.v2_val, self.val_loader\n",
    "        \n",
    "        if model == 'cca':\n",
    "            corr = self.cca.score([v1,v2])\n",
    "        \n",
    "        if model == 'sdl':\n",
    "            corr = self.sdl.score(loader)\n",
    "        \n",
    "        elif model == 'dcca':\n",
    "            corr = self.dcca.score(loader)\n",
    "       \n",
    "        return corr\n",
    "    def update_z_scores(self,dataset, z1,z2,cols):\n",
    "        #update train df with transformed z scores\n",
    "            if dataset == 'train':\n",
    "                \n",
    "                self.train_df[cols[0]] = [x for x in z1]\n",
    "                self.train_df[cols[1]] = [x for x in z2]\n",
    "                \n",
    "            #update test df\n",
    "            if dataset == 'test':\n",
    "                self.test_df[cols[0]] = [x for x in z1]\n",
    "                self.test_df[cols[1]] = [x for x in z2]\n",
    "            \n",
    "            #update val df\n",
    "            if dataset == 'val':\n",
    "                self.val_df[cols[0]] = [x for x in z1]\n",
    "                self.val_df[cols[1]] = [x for x in z2]\n",
    "            return None\n",
    "                \n",
    "        \n",
    "    \n",
    "    def transform(self,model,dataset):\n",
    "        \"\"\"\n",
    "        model: either 'cca', 'dcca', 'sdl': of course the model must have been fitted :)\n",
    "        loader: is similar data loader used to train either sdl/dcca\n",
    "        dataset: either 'train', 'test', 'val'\n",
    "        \n",
    "        returns transformed data; view1,view2\n",
    "        \"\"\"\n",
    "        \n",
    "        #specify data to transform\n",
    "        if dataset == 'train':\n",
    "            v1,v2, loader = self.v1_train, self.v2_train, self.train_loader\n",
    "        elif dataset == 'test':\n",
    "            v1,v2, loader = self.v1_test, self.v2_test, self.test_loader\n",
    "        elif dataset == 'val':\n",
    "            v1,v2, loader = self.v1_val, self.v2_val, self.val_loader\n",
    "        \n",
    "        \n",
    "        #specify the model for transformation\n",
    "        if model == 'cca':\n",
    "            z1,z2 = self.cca.transform([v1,v2]) #transform\n",
    "            self.update_z_scores(dataset,z1,z2,cols=['cca_z1','cca_z2']) # update the df with z scores            \n",
    "    \n",
    "            \n",
    "        if model == 'sdl':\n",
    "            z1,z2 = self.sdl.transform(loader)\n",
    "            self.update_z_scores(dataset,z1,z2,cols=['sdl_z1','sdl_z2'])\n",
    "                \n",
    "        \n",
    "        if model == 'dcca':\n",
    "            z1,z2 = self.dcca.transform(loader)\n",
    "            self.update_z_scores(dataset,z1,z2,cols=['dcca_z1','dcca_z2'])\n",
    "        \n",
    "        \n",
    "        return None##z1,z2; can be found in self.<df[model_z]>       \n",
    "        "
   ]
  },
  {
   "cell_type": "code",
   "execution_count": 128,
   "id": "68b046bf",
   "metadata": {},
   "outputs": [],
   "source": [
    "# # #drop inchikeys appering once, to make it possible to stratify based on inchikey\n",
    "# df_all = df_all.groupby('cf_class').filter(lambda x : len(x)>=2)\n",
    "# df_all.shape"
   ]
  },
  {
   "cell_type": "markdown",
   "id": "0d3cd415",
   "metadata": {},
   "source": [
    "# 1. Train CCA Model; for comparison with DeepModels"
   ]
  },
  {
   "cell_type": "markdown",
   "id": "be4a859b",
   "metadata": {},
   "source": [
    "##### 1.1 Initiate DeepCCA Models object"
   ]
  },
  {
   "cell_type": "code",
   "execution_count": 10,
   "id": "62872136",
   "metadata": {},
   "outputs": [],
   "source": [
    "# Initiate deepcca objec\n",
    "Models = DeepCCA(df_all)\n",
    "\n",
    "# generate data loaders and cca v1,v2\n",
    "Models.deepcca_dataloaders()\n",
    "\n",
    "# set up the encoders\n",
    "Models.deepcca_encoders()"
   ]
  },
  {
   "cell_type": "code",
   "execution_count": 11,
   "id": "11f8b68d",
   "metadata": {},
   "outputs": [
    {
     "data": {
      "text/plain": [
       "720"
      ]
     },
     "execution_count": 11,
     "metadata": {},
     "output_type": "execute_result"
    }
   ],
   "source": [
    "Models.N"
   ]
  },
  {
   "cell_type": "code",
   "execution_count": 130,
   "id": "dc1e5137",
   "metadata": {},
   "outputs": [
    {
     "name": "stdout",
     "output_type": "stream",
     "text": [
      "\n",
      " -------------------- \n",
      " Training CCA\n",
      " --------------------\n",
      "Wall time: 54 ms\n"
     ]
    }
   ],
   "source": [
    "%%time\n",
    "# train cca\n",
    "Models.train_cca() # will look at this for opti\n",
    "\n",
    "# score the models: it runs cca.score\n",
    "cca_train_corr = Models.score(model='cca', dataset='train')\n",
    "cca_test_corr  = Models.score(model='cca', dataset='test')\n",
    "\n",
    "#cca transform: runs cca.transform and update the df with z scores\n",
    "Models.transform(model='cca', dataset='train')\n",
    "Models.transform(model='cca', dataset='test')\n",
    "Models.transform(model='cca', dataset='val')\n"
   ]
  },
  {
   "cell_type": "markdown",
   "id": "95732e36",
   "metadata": {},
   "source": [
    "# 2. Find Optimal Learning rate for SDL model"
   ]
  },
  {
   "cell_type": "code",
   "execution_count": 51,
   "id": "bd2ea4e7",
   "metadata": {},
   "outputs": [
    {
     "name": "stderr",
     "output_type": "stream",
     "text": [
      "GPU available: False, used: False\n",
      "TPU available: False, using: 0 TPU cores\n",
      "IPU available: False, using: 0 IPUs\n",
      "HPU available: False, using: 0 HPUs\n"
     ]
    },
    {
     "name": "stdout",
     "output_type": "stream",
     "text": [
      "\n",
      " -------------------- \n",
      " Finding opt SDL lr \n",
      " --------------------\n"
     ]
    },
    {
     "data": {
      "application/json": {
       "ascii": false,
       "bar_format": null,
       "colour": null,
       "elapsed": 0.024991750717163086,
       "initial": 0,
       "n": 0,
       "ncols": null,
       "nrows": 29,
       "postfix": null,
       "prefix": "Finding best initial lr",
       "rate": null,
       "total": 100,
       "unit": "it",
       "unit_divisor": 1000,
       "unit_scale": false
      },
      "application/vnd.jupyter.widget-view+json": {
       "model_id": "43e4f3b3c6ac4470bcbe0cb039aebd99",
       "version_major": 2,
       "version_minor": 0
      },
      "text/plain": [
       "Finding best initial lr:   0%|          | 0/100 [00:00<?, ?it/s]"
      ]
     },
     "metadata": {},
     "output_type": "display_data"
    },
    {
     "name": "stderr",
     "output_type": "stream",
     "text": [
      "Restoring states from the checkpoint path at C:\\Users\\lmeli\\Desktop\\Thesis\\raw_data\\.lr_find_c3dea192-4b27-45ca-b1ae-e957c5001525.ckpt\n"
     ]
    },
    {
     "name": "stdout",
     "output_type": "stream",
     "text": [
      "Wall time: 58.2 s\n"
     ]
    },
    {
     "data": {
      "image/png": "[encoded data removed]",
      "text/plain": [
       "<Figure size 432x288 with 1 Axes>"
      ]
     },
     "metadata": {
      "needs_background": "light"
     },
     "output_type": "display_data"
    }
   ],
   "source": [
    "%%time\n",
    "# Define sdl; only for finding optimal lr\n",
    "sdl = DCCA_SDL(Models.latent_dims,optimizer='sgd',\n",
    "                N=Models.N, encoders=[Models.encoder_1,Models.encoder_2],\n",
    "                lam=0.0001, \n",
    "                objective=objectives.CCA) # train size\n",
    "\n",
    "#define sdl trainer only for finding opt lr\n",
    "trainer_sdl = pl.Trainer(\n",
    "        max_epochs=Models.epochs, log_every_n_steps=1)\n",
    "\n",
    "print('\\n','-'*20,'\\n Finding opt SDL lr \\n','-'*20)\n",
    "\n",
    "# run lr finder\n",
    "lr_finder = trainer_sdl.tuner.lr_find(sdl,Models.train_loader,\n",
    "                                      Models.val_loader,\n",
    "                                      early_stop_threshold=None)\n",
    "#update sdl lr\n",
    "Models.sdl_lr = lr_finder.suggestion()\n",
    "#plot lr suggestion\n",
    "fig = lr_finder.plot(suggest=True)\n"
   ]
  },
  {
   "cell_type": "code",
   "execution_count": 52,
   "id": "30abd91f",
   "metadata": {},
   "outputs": [
    {
     "data": {
      "text/plain": [
       "0.0022908676527677745"
      ]
     },
     "execution_count": 52,
     "metadata": {},
     "output_type": "execute_result"
    }
   ],
   "source": [
    "Models.sdl_lr\n"
   ]
  },
  {
   "cell_type": "markdown",
   "id": "209fa7c8",
   "metadata": {},
   "source": [
    "# 3. Find Optimal Learning rate for DCCA model"
   ]
  },
  {
   "cell_type": "code",
   "execution_count": 50,
   "id": "b2f6fc4d",
   "metadata": {},
   "outputs": [
    {
     "name": "stderr",
     "output_type": "stream",
     "text": [
      "GPU available: False, used: False\n",
      "TPU available: False, using: 0 TPU cores\n",
      "IPU available: False, using: 0 IPUs\n",
      "HPU available: False, using: 0 HPUs\n"
     ]
    },
    {
     "name": "stdout",
     "output_type": "stream",
     "text": [
      "\n",
      " -------------------- \n",
      " Finding opt DCCA lr \n",
      " --------------------\n"
     ]
    },
    {
     "data": {
      "application/json": {
       "ascii": false,
       "bar_format": null,
       "colour": null,
       "elapsed": 0.021014690399169922,
       "initial": 0,
       "n": 0,
       "ncols": null,
       "nrows": 29,
       "postfix": null,
       "prefix": "Finding best initial lr",
       "rate": null,
       "total": 128,
       "unit": "it",
       "unit_divisor": 1000,
       "unit_scale": false
      },
      "application/vnd.jupyter.widget-view+json": {
       "model_id": "17d47a134499468f878d1f5ddf6f7fa6",
       "version_major": 2,
       "version_minor": 0
      },
      "text/plain": [
       "Finding best initial lr:   0%|          | 0/128 [00:00<?, ?it/s]"
      ]
     },
     "metadata": {},
     "output_type": "display_data"
    },
    {
     "name": "stderr",
     "output_type": "stream",
     "text": [
      "Restoring states from the checkpoint path at C:\\Users\\lmeli\\Desktop\\Thesis\\raw_data\\.lr_find_a431448d-58be-4589-beeb-86416c70c7c8.ckpt\n"
     ]
    },
    {
     "data": {
      "image/png": "[encoded data removed]",
      "text/plain": [
       "<Figure size 432x288 with 1 Axes>"
      ]
     },
     "metadata": {
      "needs_background": "light"
     },
     "output_type": "display_data"
    }
   ],
   "source": [
    "# Define dcca; only for finding optimal lr\n",
    "dcca = DCCA(\n",
    "        latent_dims=Models.latent_dims,\n",
    "        encoders=[Models.encoder_1, Models.encoder_2],\n",
    "        objective=objectives.CCA,\n",
    "        optimizer='sgd',\n",
    "        lr=Models.dcca_lr)\n",
    "\n",
    "#define dcca trainer only for finding opt lr\n",
    "trainer_dcca = pl.Trainer(\n",
    "        max_epochs=Models.epochs, log_every_n_steps=1)\n",
    "\n",
    "print('\\n','-'*20,'\\n Finding opt DCCA lr \\n','-'*20)\n",
    "\n",
    "# run lr finder\n",
    "lr_finder = trainer_dcca.tuner.lr_find(dcca,Models.train_loader,Models.val_loader,\n",
    "                                       early_stop_threshold=None,num_training=128)\n",
    "#update dcca lr\n",
    "Models.dcca_lr = lr_finder.suggestion()\n",
    "#plot lr suggestion\n",
    "fig = lr_finder.plot(suggest=True)\n"
   ]
  },
  {
   "cell_type": "code",
   "execution_count": 51,
   "id": "d38b9382",
   "metadata": {},
   "outputs": [
    {
     "data": {
      "text/plain": [
       "5.623413251903491e-08"
      ]
     },
     "execution_count": 51,
     "metadata": {},
     "output_type": "execute_result"
    }
   ],
   "source": [
    "Models.dcca_lr"
   ]
  },
  {
   "cell_type": "code",
   "execution_count": 1,
   "id": "8e77553b",
   "metadata": {},
   "outputs": [],
   "source": [
    "version =  'sdl_run_768_only_backup'\n",
    "   \n",
    "experiment_dir = './sdl_logs'\n",
    "model_checkpoint = ModelCheckpoint(save_last=True,\n",
    "                                       monitor=\"val/l2\",\n",
    "                                       mode = 'min')\n",
    "\n",
    "logger = TensorBoardLogger(save_dir=experiment_dir, \n",
    "                                   name='sdl_optimal_batch_size',\n",
    "                                   version = version)\n",
    "    # train sdl\n",
    "Models.train_sdl(model_checkpoint, logger)\n",
    "#sdl_run_768 transform: runs cca.transform and update the df with z scores\n",
    "Models.transform(model='sdl', dataset='train')\n",
    "Models.transform(model='sdl', dataset='test')"
   ]
  },
  {
   "cell_type": "code",
   "execution_count": 54,
   "id": "d02f32ba",
   "metadata": {},
   "outputs": [],
   "source": [
    "paths = ['./sdl_768_max3_train_z',\n",
    "        './sdl_768_max3_test_z']\n",
    "Files(paths[0]).wwrite_to_file_file_to_fileto_file(Models.train_df)\n",
    "Files(paths[1]).write_to_file(Models.test_df)"
   ]
  },
  {
   "cell_type": "markdown",
   "id": "5b6ef8dc",
   "metadata": {},
   "source": [
    "### GIVE Details on tensorboard and checkpoints !!!!"
   ]
  },
  {
   "cell_type": "code",
   "execution_count": 54,
   "id": "5b236300",
   "metadata": {
    "scrolled": true
   },
   "outputs": [
    {
     "name": "stdout",
     "output_type": "stream",
     "text": [
      "The tensorboard extension is already loaded. To reload it, use:\n",
      "  %reload_ext tensorboard\n"
     ]
    },
    {
     "data": {
      "text/html": [
       "\n",
       "      <iframe id=\"tensorboard-frame-b934581fc9e0a208\" width=\"100%\" height=\"800\" frameborder=\"0\">\n",
       "      </iframe>\n",
       "      <script>\n",
       "        (function() {\n",
       "          const frame = document.getElementById(\"tensorboard-frame-b934581fc9e0a208\");\n",
       "          const url = new URL(\"/\", window.location);\n",
       "          const port = 8082;\n",
       "          if (port) {\n",
       "            url.port = port;\n",
       "          }\n",
       "          frame.src = url;\n",
       "        })();\n",
       "      </script>\n",
       "    "
      ],
      "text/plain": [
       "<IPython.core.display.HTML object>"
      ]
     },
     "metadata": {},
     "output_type": "display_data"
    }
   ],
   "source": [
    "\n",
    "%load_ext tensorboard\n",
    "%tensorboard --logdir=./sdl_logs/sdl_optimal_batch_size --host localhost --port 8082\n",
    "   "
   ]
  },
  {
   "cell_type": "markdown",
   "id": "f3d614a4",
   "metadata": {},
   "source": [
    "# 4. Find optimal batch_size for SDL"
   ]
  },
  {
   "cell_type": "markdown",
   "id": "9e60a365",
   "metadata": {},
   "source": [
    "##### 4.1 Train models with different batch size\n",
    "\n",
    "loop [128, 256,384,512,640,768]"
   ]
  },
  {
   "cell_type": "code",
   "execution_count": 2,
   "id": "7c97db20",
   "metadata": {},
   "outputs": [],
   "source": [
    "%%time\n",
    "for i in range(6):\n",
    "    print(f'Testing bath_size: {128*(i+1)}')\n",
    "    Models.batch_size = 128 * (i+1) \n",
    "    \n",
    "    version =  f'sdl_batch_size_{128*(i+1)}'\n",
    "   \n",
    "    experiment_dir = './sdl_logs'\n",
    "    model_checkpoint = ModelCheckpoint(save_last=True,\n",
    "                                       monitor=\"val/l2\",\n",
    "                                       mode = 'min')\n",
    "\n",
    "    logger = TensorBoardLogger(save_dir=experiment_dir, \n",
    "                                   name='sdl_optimal_batch_size',\n",
    "                                   version = version)\n",
    "    # train sdl\n",
    "    Models.train_sdl(model_checkpoint, logger) \n",
    "\n",
    "  "
   ]
  },
  {
   "cell_type": "markdown",
   "id": "95b7453b",
   "metadata": {},
   "source": [
    "##### 4.2 Load the trained model from checkpoint\n",
    "\n",
    "Documentation on loading pytorch lightning model from a checkpoint can be found [here](https://pytorch-lightning.readthedocs.io/en/stable/common/checkpointing_basic.html)\n",
    "\n",
    "\n",
    "From the tensorboard we observe that the batch size of 128 shows signs of 'learning' (metrics improve along training) while the larger batch_sizes do not show improvements along training.\n",
    "\n",
    "Here I load the models, sdl_batch_size_128 (sdl_128)...sdl_batch_size_768 (sdl_768) and see how there transformations compare"
   ]
  },
  {
   "cell_type": "code",
   "execution_count": 60,
   "id": "6ba18760",
   "metadata": {},
   "outputs": [
    {
     "data": {
      "text/plain": [
       "DCCA_SDL(\n",
       "  (encoders): ModuleList(\n",
       "    (0): Encoder(\n",
       "      (layers): Sequential(\n",
       "        (0): Sequential(\n",
       "          (0): Dropout(p=0, inplace=False)\n",
       "          (1): Linear(in_features=200, out_features=500, bias=True)\n",
       "          (2): LeakyReLU(negative_slope=0.01)\n",
       "        )\n",
       "        (1): Sequential(\n",
       "          (0): Dropout(p=0, inplace=False)\n",
       "          (1): Linear(in_features=500, out_features=300, bias=True)\n",
       "          (2): LeakyReLU(negative_slope=0.01)\n",
       "        )\n",
       "        (2): Sequential(\n",
       "          (0): Dropout(p=0, inplace=False)\n",
       "          (1): Linear(in_features=300, out_features=300, bias=True)\n",
       "          (2): LeakyReLU(negative_slope=0.01)\n",
       "        )\n",
       "      )\n",
       "      (fc): Sequential(\n",
       "        (0): Dropout(p=0, inplace=False)\n",
       "        (1): Linear(in_features=300, out_features=15, bias=True)\n",
       "      )\n",
       "    )\n",
       "    (1): Encoder(\n",
       "      (layers): Sequential(\n",
       "        (0): Sequential(\n",
       "          (0): Dropout(p=0, inplace=False)\n",
       "          (1): Linear(in_features=300, out_features=500, bias=True)\n",
       "          (2): LeakyReLU(negative_slope=0.01)\n",
       "        )\n",
       "        (1): Sequential(\n",
       "          (0): Dropout(p=0, inplace=False)\n",
       "          (1): Linear(in_features=500, out_features=300, bias=True)\n",
       "          (2): LeakyReLU(negative_slope=0.01)\n",
       "        )\n",
       "        (2): Sequential(\n",
       "          (0): Dropout(p=0, inplace=False)\n",
       "          (1): Linear(in_features=300, out_features=300, bias=True)\n",
       "          (2): LeakyReLU(negative_slope=0.01)\n",
       "        )\n",
       "      )\n",
       "      (fc): Sequential(\n",
       "        (0): Dropout(p=0, inplace=False)\n",
       "        (1): Linear(in_features=300, out_features=15, bias=True)\n",
       "      )\n",
       "    )\n",
       "  )\n",
       "  (mse): MSELoss()\n",
       "  (bns): ModuleList(\n",
       "    (0): BatchNorm1d(15, eps=1e-05, momentum=0.1, affine=False, track_running_stats=True)\n",
       "    (1): BatchNorm1d(15, eps=1e-05, momentum=0.1, affine=False, track_running_stats=True)\n",
       "  )\n",
       ")"
      ]
     },
     "execution_count": 60,
     "metadata": {},
     "output_type": "execute_result"
    }
   ],
   "source": [
    "\n",
    "sdl = DCCA_SDL(latent_dims = Models.latent_dims,N=Models.N) # set up the model base\n",
    "\n",
    "\n",
    "models = [] # [sdl_128, sdl_256, ...sdl_768]\n",
    "for i in range(6):\n",
    "    model = sdl.load_from_checkpoint(f'./sdl_logs/sdl_optimal_batch_size/sdl_batch_size_{128*(i+1)}/checkpoints/last.ckpt',\n",
    "                                 \n",
    "                                 latent_dims = Models.latent_dims, N=Models.N, \n",
    "                                 optimizer=Models.optim,\n",
    "                                 encoders = [Models.encoder_1,Models.encoder_2],\n",
    "                                 lam=0.0001, \n",
    "                                 dropout=0.05,\n",
    "                                 objective=Models.objective\n",
    "                                 )\n",
    "    model.eval() # to drop randomness as mentioned in documentation\n",
    "    models.append(model)\n",
    "\n",
    "\n",
    "models[0]"
   ]
  },
  {
   "cell_type": "markdown",
   "id": "25b17a44",
   "metadata": {},
   "source": [
    "##### 4.3 Transform dataset using batch size optimised  models"
   ]
  },
  {
   "cell_type": "code",
   "execution_count": 23,
   "id": "acb4e984",
   "metadata": {},
   "outputs": [
    {
     "name": "stdout",
     "output_type": "stream",
     "text": [
      "Wall time: 2.03 s\n"
     ]
    }
   ],
   "source": [
    "%%time\n",
    "models = [sdl_128,sdl_256,sdl_384,sdl_512,sdl_640,sdl_768]\n",
    "\n",
    "for i, model in enumerate(models):\n",
    "    z1_test, z2_test = model.transform(loader=Models.test_loader) # get test z transformations\n",
    "    z1_train, z2_train = model.transform(loader=Models.train_loader) # get train z transformations\n",
    "    z1_val, z2_val = sdl_768.transform(loader=Models.val_loader) # get val z transformations\n",
    "\n",
    "\n",
    "    #update the df with z score from the sdl_128\n",
    "    # 1. update test_df\n",
    "    Models.update_z_scores(dataset='test',z1=z1_test,\n",
    "                       z2=z2_test, \n",
    "                       cols=[f'sdl_{128*(i+1)}_z1',f'sdl_{128*(i+1)}_z2'])\n",
    "    # 2. update train_df\n",
    "    Models.update_z_scores(dataset='train',z1=z1_train,\n",
    "                       z2=z2_train, \n",
    "                       cols=[f'sdl_{128*(i+1)}_z1',f'sdl_{128*(i+1)}_z2'])\n",
    "\n",
    "\n",
    "\n",
    "    # 3. update val_df\n",
    "\n",
    "    Models.update_z_scores(dataset='val',z1=z1_val,\n",
    "                       z2=z2_val, \n",
    "                       cols=[f'sdl_{128*(i+1)}_z1',f'sdl_{128*(i+1)}_z2'])\n",
    "\n",
    "#write the transformed df to file for \n",
    "dfs = [Models.train_df, Models.test_df]\n",
    "paths = ['./train_df_max3_sdl_and_cca_batch_128_to_768_15_dim_z',\n",
    "         './test_df_max3_sdl_and_cca_batch_128_to_768_15_dim_z']\n",
    "for path, df in zip(paths,dfs):\n",
    "    Files(path).write_to_file(df)"
   ]
  },
  {
   "cell_type": "markdown",
   "id": "a461db6c",
   "metadata": {},
   "source": [
    "# 5. Find optimal dimensions for SDL"
   ]
  },
  {
   "cell_type": "markdown",
   "id": "2be1e0cc",
   "metadata": {},
   "source": [
    "##### 5.1 Train models with different setting of latent dimensions"
   ]
  },
  {
   "cell_type": "code",
   "execution_count": 131,
   "id": "654d48c2",
   "metadata": {},
   "outputs": [],
   "source": [
    "%%time\n",
    "#dims = [10,20,30,40,50] #already tested these ones\n",
    "dims = [100,200,300] # time to test higher dims\n",
    "for dim in dims:\n",
    "    print(f'Training dims: {dim}')\n",
    "    \n",
    "    # latent_dims deepcca objec\n",
    "    Models = DeepCCA(df_all)\n",
    "    \n",
    "    #set the latent dimentions to dim\n",
    "    Models.latent_dims = dim\n",
    "    \n",
    "    # generate data loaders and cca v1,v2\n",
    "    Models.deepcca_dataloaders()\n",
    "\n",
    "    # set up the encoders\n",
    "    Models.deepcca_encoders()\n",
    "    \n",
    "    #set up logger\n",
    "    version =  f'sdl_dims_{dim}'\n",
    "   \n",
    "    experiment_dir = './sdl_logs/sdl_optimal_dims/'\n",
    "    \n",
    "    model_checkpoint = ModelCheckpoint(save_last=True,\n",
    "                                       monitor=\"val/l2\",\n",
    "                                       mode = 'min')\n",
    "\n",
    "    logger = TensorBoardLogger(save_dir=experiment_dir, \n",
    "                                   name='sdl_optimal_dims',\n",
    "                                   version = version)\n",
    "    # train sdl\n",
    "    Models.train_sdl(model_checkpoint, logger) \n",
    "    #break"
   ]
  },
  {
   "cell_type": "markdown",
   "id": "253589aa",
   "metadata": {},
   "source": [
    "##### 5.2 Load the dimensions optimised models from checkpoint"
   ]
  },
  {
   "cell_type": "code",
   "execution_count": 22,
   "id": "796226e8",
   "metadata": {},
   "outputs": [
    {
     "name": "stderr",
     "output_type": "stream",
     "text": [
      "Global seed set to 15\n",
      "Global seed set to 15\n",
      "Global seed set to 15\n",
      "Global seed set to 15\n",
      "Global seed set to 15\n",
      "Global seed set to 15\n",
      "Global seed set to 15\n",
      "Global seed set to 15\n"
     ]
    }
   ],
   "source": [
    "models = []\n",
    "dims = [10,20,30,40,50, 100,200, 300]\n",
    "for dim in dims:\n",
    "    # Initiate deepcca objec\n",
    "    Models = DeepCCA(df_all)\n",
    "    \n",
    "    #set the latent dimentions to dim\n",
    "    Models.latent_dims = dim\n",
    "    \n",
    "    # generate data loaders and cca v1,v2\n",
    "    Models.deepcca_dataloaders()\n",
    "\n",
    "    # set up the encoders\n",
    "    Models.deepcca_encoders()\n",
    "\n",
    "    sdl = DCCA_SDL(latent_dims = dim,N=Models.N) # set up the model base\n",
    "    \n",
    "    model = sdl.load_from_checkpoint(f'./sdl_logs/sdl_optimal_dims/sdl_optimal_dims/sdl_dims_{dim}/checkpoints/last.ckpt',\n",
    "                                 \n",
    "                                 latent_dims = Models.latent_dims, N=Models.N, \n",
    "                                 optimizer=Models.optim,\n",
    "                                 encoders = [Models.encoder_1,Models.encoder_2],\n",
    "                                 lam=0.0001, \n",
    "                                 dropout=0.05,\n",
    "                                 objective=Models.objective\n",
    "                                 )\n",
    "    model.eval() # to drop randomness as mentioned in documentation\n",
    "    models.append(model)\n"
   ]
  },
  {
   "cell_type": "markdown",
   "id": "ab6eff42",
   "metadata": {},
   "source": [
    "##### 5.3 Transform dataset using the dimensions optimised models"
   ]
  },
  {
   "cell_type": "code",
   "execution_count": 1,
   "id": "e2f3cee4",
   "metadata": {},
   "outputs": [],
   "source": [
    "dims_corr = []\n",
    "dims = [10,20,30,40,50,100,200,300]\n",
    "for i, model in enumerate(models):\n",
    "    \n",
    "    z1_test, z2_test = model.transform(loader=Models.test_loader) # get test z transformations\n",
    "    z1_train, z2_train = model.transform(loader=Models.train_loader) # get train z transformations\n",
    "    z1_val, z2_val = model.transform(loader=Models.val_loader) \n",
    "    test_corr = model.score(Models.test_loader)\n",
    "    dims_corr.append(test_corr)\n",
    "    #update the df with z score from the sdl_128\n",
    "    # 1. update test_df\n",
    "    Models.update_z_scores(dataset='test',z1=z1_test,\n",
    "                       z2=z2_test, \n",
    "                       cols=[f'sdl_dims_{dims[i]}_z1',f'sdl_dims_{dims[i]}_z2'])\n",
    "    # 2. update train_df\n",
    "    Models.update_z_scores(dataset='train',z1=z1_train,\n",
    "                       z2=z2_train, \n",
    "                       cols=[f'sdl_dims_{dims[i]}_z1',f'sdl_dims_{dims[i]}_z2'])\n",
    "\n",
    "\n",
    "\n",
    "    # 3. update val_df\n",
    "\n",
    "    Models.update_z_scores(dataset='val',z1=z1_val,\n",
    "                       z2=z2_val, \n",
    "                       cols=[f'sdl_dims_{dims[i]}_z1',f'sdl_dims_{dims[i]}_z2'])\n",
    "    #break\n",
    "\n",
    "    \n",
    "    \n",
    "    \n",
    "#write the transformed df to file for the \n",
    "dfs = [Models.train_df, Models.test_df, Models.val_df]\n",
    "paths = ['./sdl_logs/sdl_optimal_dims/train_df_max3_sdl_dims_optimised_z_scores.pickle',\n",
    "         './sdl_logs/sdl_optimal_dims/test_df_max3_sdl_dims_optimised_z_scores.pickle',\n",
    "         './sdl_logs/sdl_optimal_dims/val_df_max3_sdl_dims_optimised_z_scores.pickle'\n",
    "        ]\n",
    "for path, df in zip(paths,dfs):\n",
    "    Files(path).write_to_file(df)\n",
    "Models.test_df.head()"
   ]
  },
  {
   "cell_type": "markdown",
   "id": "242e8166",
   "metadata": {},
   "source": [
    "##### 5.4 Compare different latent dimensions between CCA, DCCA and SDL "
   ]
  },
  {
   "cell_type": "code",
   "execution_count": 4,
   "id": "cb6e1597",
   "metadata": {},
   "outputs": [],
   "source": [
    "%%time\n",
    "corr = []\n",
    "\n",
    "dims = [10, 20, 30, 40, 50] # we already found that more than 50 is not good choice\n",
    "\n",
    "for dim in dims:\n",
    "    \n",
    "    # latent_dimste deepcca objec\n",
    "    Models = DeepCCA(df_all)\n",
    "    \n",
    "    #set the latent dimentions to dim\n",
    "    Models.latent_dims = dim\n",
    "    \n",
    "    # generate data loaders and cca v1,v2\n",
    "    Models.deepcca_dataloaders()\n",
    "\n",
    "    # set up the encoders\n",
    "    Models.deepcca_encoders()\n",
    "    \n",
    "    # train cca\n",
    "    Models.train_cca() # will look at this for opti\n",
    "\n",
    "    # score the models: it runs cca.score\n",
    "\n",
    "    cca_train_corr = Models.score(model='cca', dataset='train')\n",
    "    cca_test_corr = Models.score(model='cca', dataset='test')\n",
    "\n",
    "    corr.append([f'cca_dims_{dim}',cca_train_corr, cca_test_corr])\n",
    "    \n",
    "    \n",
    "    # train sdl\n",
    "    Models.train_sdl() # will look at this for opti\n",
    "\n",
    "    # score the models: it runs sdl.score()\n",
    "\n",
    "    sdl_train_corr =Models.score(model='sdl', dataset='train')\n",
    "    sdl_test_corr = Models.score(model='sdl', dataset='test')\n",
    "\n",
    "    corr.append([f'sdl_dims_{dim}',sdl_train_corr, sdl_test_corr])\n",
    "\n",
    "    \n",
    "    # train dcca\n",
    "    Models.train_dcca() # will look at this for opti\n",
    "\n",
    "    # score the models: it runs dcca.score()\n",
    "\n",
    "    dcca_train_corr =Models.score(model='dcca', dataset='train')\n",
    "    dcca_test_corr = Models.score(model='dcca', dataset='test')\n",
    "\n",
    "   \n",
    "    corr.append([f'dcca_dims_{dim}',dcca_train_corr, dcca_test_corr])\n",
    "    "
   ]
  },
  {
   "cell_type": "markdown",
   "id": "1eb0c636",
   "metadata": {},
   "source": [
    "###### 5.5 Plot the test correlation from the tried dims for each model"
   ]
  },
  {
   "cell_type": "code",
   "execution_count": 32,
   "id": "b7e0d968",
   "metadata": {},
   "outputs": [
    {
     "data": {
      "image/png": "[encoded data removed]",
      "text/plain": [
       "<Figure size 432x288 with 1 Axes>"
      ]
     },
     "metadata": {},
     "output_type": "display_data"
    }
   ],
   "source": [
    "legend = [x[0] for x in corr]\n",
    "fig, ax = plt.subplots()\n",
    "sns.set_style('whitegrid')\n",
    "for cor in corr:\n",
    "    sns.lineplot(x=[x for x in range(len(cor[1]))],\n",
    "                                     y=cor[1],\\\n",
    "                 #color = palette[i],\n",
    "                 #linestyle=line[1], \n",
    "                                     ax=ax)\n",
    "    plt.legend(labels=legend,loc=(1.04, 0.0),title='Model')\n",
    "plt.yticks(np.arange(0, 1.1, step=0.1))\n",
    "plt.xlabel('Latent Dimensions', fontsize=15)\n",
    "plt.ylabel('Correlation', fontsize=15)\n",
    "plt.title('Test correlation across different latent dimensions', fontsize=15)\n",
    "plt.show()"
   ]
  },
  {
   "cell_type": "markdown",
   "id": "b8ce7cfb",
   "metadata": {},
   "source": [
    "# 6. Find optimal number of hidden layers for SDL\n",
    "\n",
    "\n",
    "###### 6.1 Train models with different number of layers\n",
    "\n",
    "The input layer size is always equal to the input feature size\n",
    "\n",
    "The output layer size is always equal to the latent_dimensions:\n",
    "\n",
    "\n",
    "\n",
    "The plan is to start with a simple model with a single hidden layer with size equal to the average of input layer size and ouput layer size"
   ]
  },
  {
   "cell_type": "code",
   "execution_count": 2,
   "id": "3c36a9c2",
   "metadata": {},
   "outputs": [],
   "source": [
    "%%time\n",
    "# loop through the layer sizes\n",
    "corr = {}\n",
    "for run in range(5): # reapiting 5 times to test whether it is reproducible\n",
    "    \n",
    "    for i in range(1,6): #test number of hidden layers from 1:5\n",
    "    \n",
    "        print('\\*'*21)\n",
    "        print(f'\\nSTARTING SDL WITH LAYERS: {i} RUN {run}\\n')\n",
    "        print('*/'*21)\n",
    "        \n",
    "        # Initiate deepcca objec\n",
    "        Models = DeepCCA(df_all)\n",
    "\n",
    "        # generate data loaders and cca v1,v2\n",
    "        Models.deepcca_dataloaders()\n",
    "\n",
    "        # set up the encoders\n",
    "        Models.deepcca_encoders()\n",
    "        \n",
    "        print(Models.train_df.shape)\n",
    "        \n",
    "            \n",
    "        #set layer number\n",
    "        # layer size is generally recommended to be an average of input size and output size\n",
    "        # see this discussion: https://stats.stackexchange.com/questions/181/how-to-choose-the-number-of-hidden-layers-and-nodes-in-a-feedforward-neural-netw\n",
    "    \n",
    "        # so i set the layer size all to be equal as an average of input and output size\n",
    "        Models.encoder_1_layers = (int(np.mean([Models.v1_size,Models.latent_dims])),)*i\n",
    "        Models.encoder_2_layers = (int(np.mean([Models.v2_size,Models.latent_dims])),)*i\n",
    "    \n",
    "        # set up the encoders\n",
    "        Models.deepcca_encoders()\n",
    "    \n",
    "        #set up logger\n",
    "        version =  f'sdl_layers_{len(Models.encoder_1_layers)}'\n",
    "   \n",
    "        experiment_dir = './sdl_logs'\n",
    "    \n",
    "        model_checkpoint = ModelCheckpoint(save_last=True,\n",
    "                                       monitor=\"val/l2\",\n",
    "                                       mode = 'min')\n",
    "    \n",
    "        logger = TensorBoardLogger(save_dir=experiment_dir, \n",
    "                                   name='sdl_optimal_layers',\n",
    "                                   version = version)\n",
    "        # train sdl\n",
    "        Models.train_sdl(model_checkpoint, logger,enable_progress_bar=False) # disable progress bar to avoid crushing the notebook\n",
    "        test_corr  = Models.score(model='sdl', dataset='test')\n",
    "       \n",
    "        # add test correlation to a dict for averaging later\n",
    "        if i not in corr.keys():\n",
    "            corr[i] = []\n",
    "            corr[i].append(test_corr)\n",
    "        else:\n",
    "            corr[i].append(test_corr)\n",
    "       \n",
    "  \n",
    "\n",
    "Files('./sdl_logs/sdl_optimal_layers/test_correlation_dict_for_layer_runs_no_random_seeds.pickle').write_to_file(corr)"
   ]
  },
  {
   "cell_type": "markdown",
   "id": "0e4cbca5",
   "metadata": {},
   "source": [
    "###### 6.2 Plot average test correlation from the 5 runs"
   ]
  },
  {
   "cell_type": "code",
   "execution_count": 120,
   "id": "e9e93e56",
   "metadata": {},
   "outputs": [
    {
     "data": {
      "image/png": "[encoded data removed]",
      "text/plain": [
       "<Figure size 640x480 with 1 Axes>"
      ]
     },
     "metadata": {},
     "output_type": "display_data"
    }
   ],
   "source": [
    "#unpack the test correlation from th 5 runs\n",
    "mean_corr = []\n",
    "std_corr = []\n",
    "for key, val in corr.items():\n",
    " \n",
    "    cor = np.mean(val,axis=0) # take average of each dim for the 5 runs (element-wise for dimensions)\n",
    "    std = np.std(val, axis=0) # take the standard deviation along the dimensions\n",
    "    mean_corr.append(cor)\n",
    "    std_corr.append(std)\n",
    "    #break\n",
    "len(mean_corr)\n",
    "#std_corr[0][0] =0.1 to see that the errorbar is not appearing because it is too small\n",
    "\n",
    "#plot test correlation (average of 5 runs)\n",
    "legend = [1,2,3,4,5]\n",
    "fig, ax = plt.subplots(figsize=(6.4, 4.8),dpi=100)\n",
    "sns.set_style('whitegrid')\n",
    "#plt.figure(figsize=(6.4, 4.8),dpi=100)\n",
    "for cor, std in zip(mean_corr, std_corr):\n",
    "    plt.errorbar( x= [x for x in range(15)],  y=cor, yerr=std,               \n",
    "             #ecolor='red',\n",
    "            ecolor='red',)\n",
    "    \n",
    "#     sns.lineplot(x=[x for x in range(len(cor))],\n",
    "#                                      y=cor,\\\n",
    "#                  #color = palette[i],\n",
    "#                  #linestyle=line[1], \n",
    "#                                      ax=ax)\n",
    "\n",
    "    plt.legend(labels=legend,loc=(1.04, 0.6),title='Number of Layers')\n",
    "plt.yticks(np.arange(0, 1.1, step=0.1))\n",
    "plt.xlabel('Latent Dimensions', fontsize=15)\n",
    "plt.ylabel('Mean correlation from 5 runs', fontsize=15)\n",
    "#plt.title('Test correlation across different latent dimensions', fontsize=15)\n",
    "plt.show()"
   ]
  },
  {
   "cell_type": "markdown",
   "id": "b2a80e14",
   "metadata": {},
   "source": [
    "###### 6.3 Average correlation across all the dimensions"
   ]
  },
  {
   "cell_type": "code",
   "execution_count": 94,
   "id": "33630ed5",
   "metadata": {},
   "outputs": [],
   "source": [
    "totals_mean = []\n",
    "totals_sd = []\n",
    "for key, val in corr.items():\n",
    "    \n",
    "    cor = np.mean(val,axis=1) # take average for all the dimensions\n",
    "    std = np.std(cor) # take the standard deviation along the dimensions\n",
    "    totals_mean.append(cor)\n",
    "    totals_sd.append(std)\n",
    "\n",
    "    "
   ]
  },
  {
   "cell_type": "code",
   "execution_count": 5,
   "id": "fef25b0f",
   "metadata": {},
   "outputs": [],
   "source": [
    "# barplot would have been better but this values are just too small\n",
    "plt.figure(figsize=(6.4, 4.8),dpi=100)\n",
    "for x in totals_mean:\n",
    "    sns.scatterplot(y=x, x=['1', '2','3','4','5'])\n",
    "plt.legend(labels=legend,loc=(1.04, 0.6),title='Number of Layers')\n",
    "plt.xlabel('Runs', fontsize=13)\n",
    "plt.ylabel('Mean correlation across all dimensions', fontsize=13)\n",
    "plt.ylim(0.3, 0.6)\n",
    "plt.show()"
   ]
  },
  {
   "cell_type": "markdown",
   "id": "4f9a0833",
   "metadata": {},
   "source": [
    "###### 6.4 Load models optimized for number of layers"
   ]
  },
  {
   "cell_type": "code",
   "execution_count": 26,
   "id": "03a6ba5c",
   "metadata": {},
   "outputs": [],
   "source": [
    "models = []\n",
    "\n",
    "for i in range(1,6):\n",
    "    # Initiate deepcca objec\n",
    "    Models = DeepCCA(df_all)\n",
    "    \n",
    "    # generate data loaders and cca v1,v2\n",
    "    Models.deepcca_dataloaders()\n",
    "\n",
    "    \n",
    "    # set the model layers based on what it was trained on\n",
    "    Models.encoder_1_layers = (int(np.mean([Models.v1_size,Models.latent_dims])),)*i\n",
    "    Models.encoder_2_layers = (int(np.mean([Models.v2_size,Models.latent_dims])),)*i\n",
    "    \n",
    "    \n",
    "    # set up the encoders\n",
    "    Models.deepcca_encoders()\n",
    "\n",
    "    sdl = DCCA_SDL(latent_dims = Models.latent_dims,N=Models.N) # set up the model base\n",
    "    \n",
    "    model = sdl.load_from_checkpoint(f'./sdl_logs/sdl_optimal_layers/sdl_layers_{i}/checkpoints/last.ckpt',\n",
    "                                 \n",
    "                                 latent_dims = Models.latent_dims, N=Models.N, \n",
    "                                 optimizer=Models.optim,\n",
    "                                 encoders = [Models.encoder_1,Models.encoder_2],\n",
    "                                 lam=0.0001, \n",
    "                                 dropout=0.05,\n",
    "                                 objective=Models.objective\n",
    "                                 )\n",
    "    model.eval() # to drop randomness as mentioned in documentation\n",
    "    models.append(model)"
   ]
  },
  {
   "cell_type": "code",
   "execution_count": 28,
   "id": "8773edeb",
   "metadata": {},
   "outputs": [
    {
     "data": {
      "text/plain": [
       "DCCA_SDL(\n",
       "  (encoders): ModuleList(\n",
       "    (0): Encoder(\n",
       "      (layers): Sequential(\n",
       "        (0): Sequential(\n",
       "          (0): Dropout(p=0, inplace=False)\n",
       "          (1): Linear(in_features=200, out_features=107, bias=True)\n",
       "          (2): LeakyReLU(negative_slope=0.01)\n",
       "        )\n",
       "      )\n",
       "      (fc): Sequential(\n",
       "        (0): Dropout(p=0, inplace=False)\n",
       "        (1): Linear(in_features=107, out_features=15, bias=True)\n",
       "      )\n",
       "    )\n",
       "    (1): Encoder(\n",
       "      (layers): Sequential(\n",
       "        (0): Sequential(\n",
       "          (0): Dropout(p=0, inplace=False)\n",
       "          (1): Linear(in_features=300, out_features=157, bias=True)\n",
       "          (2): LeakyReLU(negative_slope=0.01)\n",
       "        )\n",
       "      )\n",
       "      (fc): Sequential(\n",
       "        (0): Dropout(p=0, inplace=False)\n",
       "        (1): Linear(in_features=157, out_features=15, bias=True)\n",
       "      )\n",
       "    )\n",
       "  )\n",
       "  (mse): MSELoss()\n",
       "  (bns): ModuleList(\n",
       "    (0): BatchNorm1d(15, eps=1e-05, momentum=0.1, affine=False, track_running_stats=True)\n",
       "    (1): BatchNorm1d(15, eps=1e-05, momentum=0.1, affine=False, track_running_stats=True)\n",
       "  )\n",
       ")"
      ]
     },
     "execution_count": 28,
     "metadata": {},
     "output_type": "execute_result"
    }
   ],
   "source": [
    "models[0]"
   ]
  },
  {
   "cell_type": "markdown",
   "id": "37405c07",
   "metadata": {},
   "source": [
    "###### 6.5 Transform the dataset "
   ]
  },
  {
   "cell_type": "code",
   "execution_count": 20,
   "id": "6e4f4f33",
   "metadata": {},
   "outputs": [],
   "source": [
    "#transforming with layer optimized models\n",
    "corr = []\n",
    "for i, model in enumerate(models):\n",
    "    \n",
    "    #calculate the correlation from models with different layers\n",
    "    \n",
    "    sdl_train_corr =model.score(Models.train_loader)\n",
    "    sdl_test_corr = model.score(Models.test_loader)\n",
    "    corr.append([sdl_train_corr,sdl_test_corr])\n",
    "    \n",
    "    # transforma\n",
    "    z1_test, z2_test = model.transform(loader=Models.test_loader) # get test z transformations\n",
    "    z1_train, z2_train = model.transform(loader=Models.train_loader) # get train z transformations\n",
    "    z1_val, z2_val = model.transform(loader=Models.val_loader) \n",
    "    \n",
    "    \n",
    "       #update the df with z score from the sdl_128\n",
    "    # 1. update test_df\n",
    "    Models.update_z_scores(dataset='test',z1=z1_test,\n",
    "                       z2=z2_test, \n",
    "                       cols=[f'sdl_layers_{i+1}_z1',f'sdl_layers_{i+1}_z2'])\n",
    "    \n",
    "    # 2. update train_df\n",
    "    Models.update_z_scores(dataset='train',z1=z1_train,\n",
    "                       z2=z2_train, \n",
    "                       cols=[f'sdl_layers_{i+1}_z1',f'sdl_layers_{i+1}_z2'])\n",
    "\n",
    "\n",
    "\n",
    "    # 3. update val_df\n",
    "\n",
    "    Models.update_z_scores(dataset='val',z1=z1_val,\n",
    "                       z2=z2_val, \n",
    "                       cols=[f'sdl_layers_{i+1}_z1',f'sdl_layers_{i+1}_z2'])\n",
    "    #break\n",
    "\n",
    "    \n",
    "    \n",
    "    \n",
    "#write the transformed df to file for the \n",
    "dfs = [Models.train_df, Models.test_df, Models.val_df]\n",
    "paths = ['./sdl_logs/sdl_optimal_layers/train_df_max3_sdl_layers_optimised_z_scores.pickle',\n",
    "         './sdl_logs/sdl_optimal_layers/test_df_max3_sdl_layers_optimised_z_scores.pickle',\n",
    "         './sdl_logs/sdl_optimal_layers/val_df_max3_sdl_layers_optimised_z_scores.pickle'\n",
    "        ]\n",
    "for path, df in zip(paths,dfs):\n",
    "    Files(path).write_to_file(df)\n"
   ]
  },
  {
   "cell_type": "code",
   "execution_count": 19,
   "id": "61b9798e",
   "metadata": {},
   "outputs": [
    {
     "data": {
      "text/html": [
       "<div>\n",
       "<style scoped>\n",
       "    .dataframe tbody tr th:only-of-type {\n",
       "        vertical-align: middle;\n",
       "    }\n",
       "\n",
       "    .dataframe tbody tr th {\n",
       "        vertical-align: top;\n",
       "    }\n",
       "\n",
       "    .dataframe thead th {\n",
       "        text-align: right;\n",
       "    }\n",
       "</style>\n",
       "<table border=\"1\" class=\"dataframe\">\n",
       "  <thead>\n",
       "    <tr style=\"text-align: right;\">\n",
       "      <th></th>\n",
       "      <th>smiles</th>\n",
       "      <th>inchi_key</th>\n",
       "      <th>inchikey14</th>\n",
       "      <th>spec_id</th>\n",
       "      <th>spec2vec</th>\n",
       "      <th>ms2ds</th>\n",
       "      <th>mol2vec</th>\n",
       "      <th>cf_class</th>\n",
       "      <th>sdl_layers_1_z1</th>\n",
       "      <th>sdl_layers_1_z2</th>\n",
       "      <th>sdl_layers_2_z1</th>\n",
       "      <th>sdl_layers_2_z2</th>\n",
       "      <th>sdl_layers_3_z1</th>\n",
       "      <th>sdl_layers_3_z2</th>\n",
       "      <th>sdl_layers_4_z1</th>\n",
       "      <th>sdl_layers_4_z2</th>\n",
       "      <th>sdl_layers_5_z1</th>\n",
       "      <th>sdl_layers_5_z2</th>\n",
       "    </tr>\n",
       "  </thead>\n",
       "  <tbody>\n",
       "    <tr>\n",
       "      <th>18308</th>\n",
       "      <td>CC1(CCCCC1)C(=O)Nc2ccc(c(c2Cl)Cl)O</td>\n",
       "      <td>VDLGAVXLJYLFDH-UHFFFAOYSA-N</td>\n",
       "      <td>VDLGAVXLJYLFDH</td>\n",
       "      <td>spec_id16769</td>\n",
       "      <td>[28.992814519957395, 9.93094121359686, -16.288...</td>\n",
       "      <td>[24.41728973388672, 18.567832946777344, 0.9911...</td>\n",
       "      <td>[1.1145527, -1.4718719, -1.1575501, 1.5242243,...</td>\n",
       "      <td>Benzene and substituted derivatives</td>\n",
       "      <td>[0.7962772, -0.07153203, 0.56734025, -0.518569...</td>\n",
       "      <td>[0.8773907, -0.2818244, 0.1881715, -0.39703363...</td>\n",
       "      <td>[-0.110258184, 0.047015995, 0.005015798, -1.19...</td>\n",
       "      <td>[-0.23802324, 0.11730917, -0.19891953, -0.8054...</td>\n",
       "      <td>[-0.6273837, 0.23206854, -0.75163007, -0.41878...</td>\n",
       "      <td>[-0.5412555, 0.43494806, -0.70290864, -0.47115...</td>\n",
       "      <td>[0.15174851, -0.2964838, -0.06400095, -0.79210...</td>\n",
       "      <td>[0.30865642, -0.3446151, -0.17560902, -0.26335...</td>\n",
       "      <td>[-0.13009155, -0.75716096, 0.01922381, -0.2401...</td>\n",
       "      <td>[-0.4688363, -0.08296201, 0.49244732, -0.31242...</td>\n",
       "    </tr>\n",
       "    <tr>\n",
       "      <th>16161</th>\n",
       "      <td>[H]N1C(=O)C([H])(C([H])([H])[H])C([H])(OC(=O)C...</td>\n",
       "      <td>VJYQPLSJYQMFHT-UHFFFAOYSA-N</td>\n",
       "      <td>VJYQPLSJYQMFHT</td>\n",
       "      <td>spec_id14610</td>\n",
       "      <td>[7.295793570022209, 5.1959969017812835, 22.963...</td>\n",
       "      <td>[0.0, 0.0, 9.470010757446289, 54.8682708740234...</td>\n",
       "      <td>[3.5072234, -8.692439, -8.4471245, 5.7731876, ...</td>\n",
       "      <td>Peptidomimetics</td>\n",
       "      <td>[-0.7580992, -0.32199973, 1.3465203, -0.231600...</td>\n",
       "      <td>[-0.6036781, -0.25254858, 0.7587187, 0.3202361...</td>\n",
       "      <td>[4.0607224, -0.0035479963, 4.157552, -0.949395...</td>\n",
       "      <td>[5.788162, 0.030245155, 6.148678, -0.30525267,...</td>\n",
       "      <td>[-0.3406075, 0.12780203, -0.6800661, -0.089038...</td>\n",
       "      <td>[-0.32166243, 0.118956625, -0.36447167, -0.270...</td>\n",
       "      <td>[0.06553334, -0.19492763, 2.1472526, -0.897329...</td>\n",
       "      <td>[0.08065903, -0.20805317, 5.0233703, -0.614064...</td>\n",
       "      <td>[-0.28155777, -0.6333625, 0.32965696, 0.971776...</td>\n",
       "      <td>[0.65113187, -1.3802649, 0.08331625, 3.3189735...</td>\n",
       "    </tr>\n",
       "  </tbody>\n",
       "</table>\n",
       "</div>"
      ],
      "text/plain": [
       "                                                  smiles  \\\n",
       "18308                 CC1(CCCCC1)C(=O)Nc2ccc(c(c2Cl)Cl)O   \n",
       "16161  [H]N1C(=O)C([H])(C([H])([H])[H])C([H])(OC(=O)C...   \n",
       "\n",
       "                         inchi_key      inchikey14       spec_id  \\\n",
       "18308  VDLGAVXLJYLFDH-UHFFFAOYSA-N  VDLGAVXLJYLFDH  spec_id16769   \n",
       "16161  VJYQPLSJYQMFHT-UHFFFAOYSA-N  VJYQPLSJYQMFHT  spec_id14610   \n",
       "\n",
       "                                                spec2vec  \\\n",
       "18308  [28.992814519957395, 9.93094121359686, -16.288...   \n",
       "16161  [7.295793570022209, 5.1959969017812835, 22.963...   \n",
       "\n",
       "                                                   ms2ds  \\\n",
       "18308  [24.41728973388672, 18.567832946777344, 0.9911...   \n",
       "16161  [0.0, 0.0, 9.470010757446289, 54.8682708740234...   \n",
       "\n",
       "                                                 mol2vec  \\\n",
       "18308  [1.1145527, -1.4718719, -1.1575501, 1.5242243,...   \n",
       "16161  [3.5072234, -8.692439, -8.4471245, 5.7731876, ...   \n",
       "\n",
       "                                  cf_class  \\\n",
       "18308  Benzene and substituted derivatives   \n",
       "16161                      Peptidomimetics   \n",
       "\n",
       "                                         sdl_layers_1_z1  \\\n",
       "18308  [0.7962772, -0.07153203, 0.56734025, -0.518569...   \n",
       "16161  [-0.7580992, -0.32199973, 1.3465203, -0.231600...   \n",
       "\n",
       "                                         sdl_layers_1_z2  \\\n",
       "18308  [0.8773907, -0.2818244, 0.1881715, -0.39703363...   \n",
       "16161  [-0.6036781, -0.25254858, 0.7587187, 0.3202361...   \n",
       "\n",
       "                                         sdl_layers_2_z1  \\\n",
       "18308  [-0.110258184, 0.047015995, 0.005015798, -1.19...   \n",
       "16161  [4.0607224, -0.0035479963, 4.157552, -0.949395...   \n",
       "\n",
       "                                         sdl_layers_2_z2  \\\n",
       "18308  [-0.23802324, 0.11730917, -0.19891953, -0.8054...   \n",
       "16161  [5.788162, 0.030245155, 6.148678, -0.30525267,...   \n",
       "\n",
       "                                         sdl_layers_3_z1  \\\n",
       "18308  [-0.6273837, 0.23206854, -0.75163007, -0.41878...   \n",
       "16161  [-0.3406075, 0.12780203, -0.6800661, -0.089038...   \n",
       "\n",
       "                                         sdl_layers_3_z2  \\\n",
       "18308  [-0.5412555, 0.43494806, -0.70290864, -0.47115...   \n",
       "16161  [-0.32166243, 0.118956625, -0.36447167, -0.270...   \n",
       "\n",
       "                                         sdl_layers_4_z1  \\\n",
       "18308  [0.15174851, -0.2964838, -0.06400095, -0.79210...   \n",
       "16161  [0.06553334, -0.19492763, 2.1472526, -0.897329...   \n",
       "\n",
       "                                         sdl_layers_4_z2  \\\n",
       "18308  [0.30865642, -0.3446151, -0.17560902, -0.26335...   \n",
       "16161  [0.08065903, -0.20805317, 5.0233703, -0.614064...   \n",
       "\n",
       "                                         sdl_layers_5_z1  \\\n",
       "18308  [-0.13009155, -0.75716096, 0.01922381, -0.2401...   \n",
       "16161  [-0.28155777, -0.6333625, 0.32965696, 0.971776...   \n",
       "\n",
       "                                         sdl_layers_5_z2  \n",
       "18308  [-0.4688363, -0.08296201, 0.49244732, -0.31242...  \n",
       "16161  [0.65113187, -1.3802649, 0.08331625, 3.3189735...  "
      ]
     },
     "execution_count": 19,
     "metadata": {},
     "output_type": "execute_result"
    }
   ],
   "source": [
    "Models.val_df.head(2)"
   ]
  },
  {
   "cell_type": "markdown",
   "id": "952b2f20",
   "metadata": {},
   "source": [
    "# 7. Optimise the size of hidden layers\n",
    "\n",
    "\n",
    "This still a trial and error method. The idea is to vary the size of hidden layers from small to high and see the direction that gives the better performace."
   ]
  },
  {
   "cell_type": "markdown",
   "id": "443040e8",
   "metadata": {},
   "source": [
    "###### 7.1 Train 12 models with varying size of the hidden layers"
   ]
  },
  {
   "cell_type": "code",
   "execution_count": 101,
   "id": "d93546ef",
   "metadata": {},
   "outputs": [],
   "source": [
    "# create a list with the size settings\n",
    "encoder1_size = [\n",
    "    \n",
    "        (105, 105),# both are small\n",
    "         \n",
    "         # increase the size of the second hiden layer        \n",
    "        (105, 150),\n",
    "        (105, 200),\n",
    "        (105, 250),\n",
    "        (105, 300),\n",
    "            \n",
    "        # increase the size of the first hiden layer \n",
    "        (150, 105),\n",
    "        (200, 105),\n",
    "        (250, 105),\n",
    "        (300, 105),\n",
    "         \n",
    "        # increase the size of the both hiden layers\n",
    "        (200, 200),\n",
    "        (300, 300),\n",
    "        (500, 500),\n",
    "                 \n",
    "        ]\n",
    "\n",
    "encoder2_size = [\n",
    "    \n",
    "        (157, 157),# both are small\n",
    "         \n",
    "         # increase the size of the second hiden layer        \n",
    "        (157, 250),\n",
    "        (157, 350),\n",
    "        (157, 450),\n",
    "        (157, 550),\n",
    "            \n",
    "        # increase the size of the first hiden layer \n",
    "        (250, 105),\n",
    "        (350, 105),\n",
    "        (450, 105),\n",
    "        (550, 105),\n",
    "         \n",
    "        # increase the size of the both hiden layers\n",
    "        (200, 200),\n",
    "        (300, 300),\n",
    "        (500, 500),\n",
    "        ]"
   ]
  },
  {
   "cell_type": "code",
   "execution_count": 3,
   "id": "909e0f03",
   "metadata": {},
   "outputs": [],
   "source": [
    "corr = {}\n",
    "for i in range(len(encoder1_size)): #test number of hidden layers from 1:5\n",
    "    \n",
    "        print('\\*'*21)\n",
    "        print(f'\\nSTARTING SDL WITH LAYERS: RUN {i}/{len(encoder1_size)}\\n')\n",
    "        print('\\*'*21)\n",
    "        \n",
    "        # Initiate deepcca objec\n",
    "        Models = DeepCCA(df_all)\n",
    "\n",
    "        # generate data loaders and cca v1,v2\n",
    "        Models.deepcca_dataloaders()\n",
    "\n",
    "        # set up the encoders\n",
    "        Models.deepcca_encoders()\n",
    "        \n",
    "        print(Models.train_df.shape)\n",
    "        \n",
    "            \n",
    "        #set layer number\n",
    "        # layer size is generally recommended to be an average of input size and output size\n",
    "        # see this discussion: https://stats.stackexchange.com/questions/181/how-to-choose-the-number-of-hidden-layers-and-nodes-in-a-feedforward-neural-netw\n",
    "    \n",
    "        # so i set the layer size all to be equal as an average of input and output size\n",
    "        Models.encoder_1_layers = encoder1_size[i]\n",
    "        Models.encoder_2_layers = encoder2_size[i]\n",
    "    \n",
    "        # set up the encoders\n",
    "        Models.deepcca_encoders()\n",
    "    \n",
    "        #set up logger\n",
    "        version =  f'size_{encoder1_size[i][0]}_{encoder1_size[i][1]}_{encoder2_size[i][0]}_{encoder2_size[i][1]}'\n",
    "   \n",
    "        experiment_dir = './sdl_logs'\n",
    "    \n",
    "        model_checkpoint = ModelCheckpoint(save_last=True,\n",
    "                                       monitor=\"val/l2\",\n",
    "                                       mode = 'min')\n",
    "    \n",
    "        logger = TensorBoardLogger(save_dir=experiment_dir, \n",
    "                                   name='sdl_optimal_layer_size',\n",
    "                                   version = version)\n",
    "        # train sdl\n",
    "        Models.train_sdl(model_checkpoint, logger,enable_progress_bar=False) # disable progress bar to avoid crushing the notebook\n",
    "        test_corr  = Models.score(model='sdl', dataset='test')\n",
    "       \n",
    "        # add test correlation to a dict\n",
    "        if i not in corr.keys():\n",
    "            corr[i] = []\n",
    "            corr[i].append(test_corr)\n",
    "        else:\n",
    "            corr[i].append(test_corr)\n",
    "Files('./sdl_logs/sdl_optimal_layer_size/test_correlation_for_layer_size.pickle').write_to_file(corr)"
   ]
  },
  {
   "cell_type": "markdown",
   "id": "61b25ebf",
   "metadata": {},
   "source": [
    "###### 7.2 Plot the test correlations attained  "
   ]
  },
  {
   "cell_type": "code",
   "execution_count": 102,
   "id": "3cb30591",
   "metadata": {},
   "outputs": [],
   "source": [
    "corr = Files('./sdl_logs/sdl_optimal_layer_size/test_correlation_for_layer_size.pickle').load_pickle()"
   ]
  },
  {
   "cell_type": "code",
   "execution_count": 103,
   "id": "2a8f5d1c",
   "metadata": {},
   "outputs": [
    {
     "data": {
      "image/png": "[encoded data removed]",
      "text/plain": [
       "<Figure size 640x480 with 1 Axes>"
      ]
     },
     "metadata": {},
     "output_type": "display_data"
    }
   ],
   "source": [
    "legends = []\n",
    "fig, ax = plt.subplots(figsize=(6.4, 4.8),dpi=100)\n",
    "sns.set_style('whitegrid')\n",
    "for i in range(len(corr)):\n",
    "    legend = f'{encoder1_size[i][0]}_{encoder1_size[i][1]}_{encoder2_size[i][0]}_{encoder2_size[i][1]}'\n",
    "    legends.append(legend)\n",
    "    \n",
    "    y = corr[i][0]\n",
    "    \n",
    "    sns.lineplot(x=[x for x in range(len(y))],\n",
    "                y=y)\n",
    "plt.legend(labels=legends,loc=(1.04, 0.23),title='encoder1_encoder2 size')\n",
    "plt.yticks(np.arange(0, 1.1, step=0.1))\n",
    "plt.xlabel('Latent Dimensions', fontsize=15)\n",
    "plt.ylabel('Correlation', fontsize=15)\n",
    "#plt.title('Test correlation across different latent dimensions', fontsize=15)\n",
    "plt.show()\n",
    "    #break"
   ]
  },
  {
   "cell_type": "markdown",
   "id": "6fab8fd5",
   "metadata": {},
   "source": [
    "###### 7.3 Sort based on mean correlation for all the dimensions:\n",
    "\n",
    "Top 2 and the last 2 will be selected for comparing their tanimotos."
   ]
  },
  {
   "cell_type": "code",
   "execution_count": 27,
   "id": "957be5f5",
   "metadata": {},
   "outputs": [],
   "source": [
    "# extract mean correlation along all the dimensions for each model\n",
    "totals_mean = []\n",
    "for key, val in corr.items():\n",
    "    \n",
    "    cor = np.mean(val[0]) # take average for all the dimensions\n",
    "    \n",
    "    totals_mean.append(cor)\n"
   ]
  },
  {
   "cell_type": "code",
   "execution_count": 28,
   "id": "d0a12eff",
   "metadata": {},
   "outputs": [
    {
     "data": {
      "text/html": [
       "<div>\n",
       "<style scoped>\n",
       "    .dataframe tbody tr th:only-of-type {\n",
       "        vertical-align: middle;\n",
       "    }\n",
       "\n",
       "    .dataframe tbody tr th {\n",
       "        vertical-align: top;\n",
       "    }\n",
       "\n",
       "    .dataframe thead th {\n",
       "        text-align: right;\n",
       "    }\n",
       "</style>\n",
       "<table border=\"1\" class=\"dataframe\">\n",
       "  <thead>\n",
       "    <tr style=\"text-align: right;\">\n",
       "      <th></th>\n",
       "      <th>corr</th>\n",
       "      <th>size</th>\n",
       "    </tr>\n",
       "  </thead>\n",
       "  <tbody>\n",
       "    <tr>\n",
       "      <th>11</th>\n",
       "      <td>0.541787</td>\n",
       "      <td>500_500_500_500</td>\n",
       "    </tr>\n",
       "    <tr>\n",
       "      <th>4</th>\n",
       "      <td>0.533259</td>\n",
       "      <td>105_300_157_550</td>\n",
       "    </tr>\n",
       "    <tr>\n",
       "      <th>9</th>\n",
       "      <td>0.531759</td>\n",
       "      <td>200_200_200_200</td>\n",
       "    </tr>\n",
       "    <tr>\n",
       "      <th>6</th>\n",
       "      <td>0.519193</td>\n",
       "      <td>200_105_350_105</td>\n",
       "    </tr>\n",
       "    <tr>\n",
       "      <th>10</th>\n",
       "      <td>0.514778</td>\n",
       "      <td>300_300_300_300</td>\n",
       "    </tr>\n",
       "  </tbody>\n",
       "</table>\n",
       "</div>"
      ],
      "text/plain": [
       "        corr             size\n",
       "11  0.541787  500_500_500_500\n",
       "4   0.533259  105_300_157_550\n",
       "9   0.531759  200_200_200_200\n",
       "6   0.519193  200_105_350_105\n",
       "10  0.514778  300_300_300_300"
      ]
     },
     "execution_count": 28,
     "metadata": {},
     "output_type": "execute_result"
    }
   ],
   "source": [
    "# creat a df \n",
    "corr_df = pd.DataFrame({'corr':totals_mean,\n",
    "                        'size': legends})\n",
    "\n",
    "#sort them based on correlation attained\n",
    "\n",
    "corr_df.sort_values(by='corr',ascending=False, inplace=True)\n",
    "corr_df.head(5)"
   ]
  },
  {
   "cell_type": "code",
   "execution_count": 36,
   "id": "96daf68d",
   "metadata": {},
   "outputs": [
    {
     "data": {
      "image/png": "[encoded data removed]",
      "text/plain": [
       "<Figure size 640x480 with 1 Axes>"
      ]
     },
     "metadata": {},
     "output_type": "display_data"
    }
   ],
   "source": [
    "plt.figure(figsize=(6.4, 4.8),dpi=100)\n",
    "sns.scatterplot(data=corr_df, y='corr', x=[x for x in range(len(totals_mean))], hue='size')\n",
    "plt.legend(labels=corr_df['size'],loc=(1.04, 0.23),title=' encoder1_encoder2')\n",
    "plt.xlabel('Models', fontsize=13)\n",
    "plt.ylabel('Mean correlation across all dimensions', fontsize=13)\n",
    "plt.ylim(0.3, 0.6)\n",
    "plt.show()   "
   ]
  },
  {
   "cell_type": "markdown",
   "id": "f5596c8b",
   "metadata": {},
   "source": [
    "###### 7.4 Load the 4 selected models (top 2 and the last 2)"
   ]
  },
  {
   "cell_type": "code",
   "execution_count": 49,
   "id": "f078c7df",
   "metadata": {},
   "outputs": [
    {
     "name": "stderr",
     "output_type": "stream",
     "text": [
      "Global seed set to 15\n",
      "Global seed set to 15\n",
      "Global seed set to 15\n",
      "Global seed set to 15\n"
     ]
    }
   ],
   "source": [
    "# loading the selected models\n",
    "encoder1_size = [\n",
    "    (500,500),\n",
    "    (105,300),\n",
    "    (105,250),\n",
    "    (105,200)\n",
    "    ]\n",
    "\n",
    "encoder2_size = [\n",
    "    (500,500),\n",
    "    (157,550),\n",
    "    (157,450),\n",
    "    (157,350)\n",
    "    ]\n",
    "\n",
    "\n",
    "models = []\n",
    "\n",
    "for i in range(len(encoder1_size)):\n",
    "    # Initiate deepcca objec\n",
    "    Models = DeepCCA(df_all)\n",
    "    \n",
    "    # generate data loaders and cca v1,v2\n",
    "    Models.deepcca_dataloaders()\n",
    "\n",
    "    \n",
    "    # set the model layers based on what it was trained on\n",
    "    Models.encoder_1_layers = encoder1_size[i]\n",
    "    Models.encoder_2_layers = encoder2_size[i]\n",
    "    \n",
    "    \n",
    "    # set up the encoders\n",
    "    Models.deepcca_encoders()\n",
    "\n",
    "    sdl = DCCA_SDL(latent_dims = Models.latent_dims,N=Models.N) # set up the model base\n",
    "    \n",
    "    # since the directory name is long lets predifine it before hand\n",
    "    model_dir =  f'size_{encoder1_size[i][0]}_{encoder1_size[i][1]}_{encoder2_size[i][0]}_{encoder2_size[i][1]}'\n",
    "    \n",
    "    model = sdl.load_from_checkpoint(f'./sdl_logs/sdl_optimal_layer_size/{model_dir}/checkpoints/last.ckpt',\n",
    "                                 \n",
    "                                 latent_dims = Models.latent_dims, N=Models.N, \n",
    "                                 optimizer=Models.optim,\n",
    "                                 encoders = [Models.encoder_1,Models.encoder_2],\n",
    "                                 lam=0.0001, \n",
    "                                 dropout=0.05,\n",
    "                                 objective=Models.objective\n",
    "                                 )\n",
    "    model.eval() # to drop randomness as mentioned in documentation\n",
    "    models.append(model)"
   ]
  },
  {
   "cell_type": "code",
   "execution_count": 50,
   "id": "61eab4dc",
   "metadata": {},
   "outputs": [
    {
     "data": {
      "text/plain": [
       "DCCA_SDL(\n",
       "  (encoders): ModuleList(\n",
       "    (0): Encoder(\n",
       "      (layers): Sequential(\n",
       "        (0): Sequential(\n",
       "          (0): Dropout(p=0, inplace=False)\n",
       "          (1): Linear(in_features=200, out_features=500, bias=True)\n",
       "          (2): LeakyReLU(negative_slope=0.01)\n",
       "        )\n",
       "        (1): Sequential(\n",
       "          (0): Dropout(p=0, inplace=False)\n",
       "          (1): Linear(in_features=500, out_features=500, bias=True)\n",
       "          (2): LeakyReLU(negative_slope=0.01)\n",
       "        )\n",
       "      )\n",
       "      (fc): Sequential(\n",
       "        (0): Dropout(p=0, inplace=False)\n",
       "        (1): Linear(in_features=500, out_features=15, bias=True)\n",
       "      )\n",
       "    )\n",
       "    (1): Encoder(\n",
       "      (layers): Sequential(\n",
       "        (0): Sequential(\n",
       "          (0): Dropout(p=0, inplace=False)\n",
       "          (1): Linear(in_features=300, out_features=500, bias=True)\n",
       "          (2): LeakyReLU(negative_slope=0.01)\n",
       "        )\n",
       "        (1): Sequential(\n",
       "          (0): Dropout(p=0, inplace=False)\n",
       "          (1): Linear(in_features=500, out_features=500, bias=True)\n",
       "          (2): LeakyReLU(negative_slope=0.01)\n",
       "        )\n",
       "      )\n",
       "      (fc): Sequential(\n",
       "        (0): Dropout(p=0, inplace=False)\n",
       "        (1): Linear(in_features=500, out_features=15, bias=True)\n",
       "      )\n",
       "    )\n",
       "  )\n",
       "  (mse): MSELoss()\n",
       "  (bns): ModuleList(\n",
       "    (0): BatchNorm1d(15, eps=1e-05, momentum=0.1, affine=False, track_running_stats=True)\n",
       "    (1): BatchNorm1d(15, eps=1e-05, momentum=0.1, affine=False, track_running_stats=True)\n",
       "  )\n",
       ")"
      ]
     },
     "execution_count": 50,
     "metadata": {},
     "output_type": "execute_result"
    }
   ],
   "source": [
    "models[0] # check whether we loaded el models correctly"
   ]
  },
  {
   "cell_type": "markdown",
   "id": "048af0db",
   "metadata": {},
   "source": [
    "###### 7.5 Tranform dataset using the selected el models"
   ]
  },
  {
   "cell_type": "code",
   "execution_count": 54,
   "id": "a7d8c570",
   "metadata": {},
   "outputs": [],
   "source": [
    "\n",
    "for i, model in enumerate(models):\n",
    "        \n",
    "    # transforma\n",
    "    z1_test, z2_test = model.transform(loader=Models.test_loader) # get test z transformations\n",
    "    z1_train, z2_train = model.transform(loader=Models.train_loader) # get train z transformations\n",
    "    z1_val, z2_val = model.transform(loader=Models.val_loader) \n",
    "    \n",
    "    \n",
    "       #update the df with z score from the sdl_128\n",
    "    # 1. update test_df\n",
    "    Models.update_z_scores(dataset='test',z1=z1_test,\n",
    "                       z2=z2_test, \n",
    "                       cols=[f'layer_size_top_{i+1}_z1',f'layer_size_top_{i+1}_z2']) # top 1... == the 1st selected model\n",
    "    \n",
    "    # 2. update train_df\n",
    "    Models.update_z_scores(dataset='train',z1=z1_train,\n",
    "                       z2=z2_train, \n",
    "                       cols=[f'layer_size_top_{i+1}_z1',f'layer_size_top_{i+1}_z2'])\n",
    "\n",
    "\n",
    "\n",
    "    # 3. update val_df\n",
    "\n",
    "    Models.update_z_scores(dataset='val',z1=z1_val,\n",
    "                       z2=z2_val, \n",
    "                       cols=[f'layer_size_top_{i+1}_z1',f'layer_size_top_{i+1}_z2'])\n",
    "    #break\n",
    "\n",
    "    \n",
    "    \n",
    "    \n",
    "#write the transformed df to file for the \n",
    "dfs = [Models.train_df, Models.test_df, Models.val_df]\n",
    "paths = ['./sdl_logs/sdl_optimal_layer_size/train_df_max3_sdl_layer_size_optimised_z_scores.pickle',\n",
    "         './sdl_logs/sdl_optimal_layer_size/test_df_max3_sdl_layer_size_optimised_z_scores.pickle',\n",
    "         './sdl_logs/sdl_optimal_layer_size/val_df_max3_sdl_layer_size_optimised_z_scores.pickle'\n",
    "        ]\n",
    "for path, df in zip(paths,dfs):\n",
    "    Files(path).write_to_file(df)"
   ]
  },
  {
   "cell_type": "code",
   "execution_count": 55,
   "id": "8bfeb254",
   "metadata": {},
   "outputs": [
    {
     "data": {
      "text/html": [
       "<div>\n",
       "<style scoped>\n",
       "    .dataframe tbody tr th:only-of-type {\n",
       "        vertical-align: middle;\n",
       "    }\n",
       "\n",
       "    .dataframe tbody tr th {\n",
       "        vertical-align: top;\n",
       "    }\n",
       "\n",
       "    .dataframe thead th {\n",
       "        text-align: right;\n",
       "    }\n",
       "</style>\n",
       "<table border=\"1\" class=\"dataframe\">\n",
       "  <thead>\n",
       "    <tr style=\"text-align: right;\">\n",
       "      <th></th>\n",
       "      <th>smiles</th>\n",
       "      <th>inchi_key</th>\n",
       "      <th>inchikey14</th>\n",
       "      <th>spec_id</th>\n",
       "      <th>spec2vec</th>\n",
       "      <th>ms2ds</th>\n",
       "      <th>mol2vec</th>\n",
       "      <th>cf_class</th>\n",
       "      <th>layer_size_top_1_z1</th>\n",
       "      <th>layer_size_top_1_z2</th>\n",
       "      <th>layer_size_top_2_z1</th>\n",
       "      <th>layer_size_top_2_z2</th>\n",
       "      <th>layer_size_top_3_z1</th>\n",
       "      <th>layer_size_top_3_z2</th>\n",
       "      <th>layer_size_top_4_z1</th>\n",
       "      <th>layer_size_top_4_z2</th>\n",
       "    </tr>\n",
       "  </thead>\n",
       "  <tbody>\n",
       "    <tr>\n",
       "      <th>18308</th>\n",
       "      <td>CC1(CCCCC1)C(=O)Nc2ccc(c(c2Cl)Cl)O</td>\n",
       "      <td>VDLGAVXLJYLFDH-UHFFFAOYSA-N</td>\n",
       "      <td>VDLGAVXLJYLFDH</td>\n",
       "      <td>spec_id16769</td>\n",
       "      <td>[28.992814519957395, 9.93094121359686, -16.288...</td>\n",
       "      <td>[24.41728973388672, 18.567832946777344, 0.9911...</td>\n",
       "      <td>[1.1145527, -1.4718719, -1.1575501, 1.5242243,...</td>\n",
       "      <td>Benzene and substituted derivatives</td>\n",
       "      <td>[-0.22787341, -0.5057002, -0.22532237, -0.2998...</td>\n",
       "      <td>[-0.34711027, -0.5340508, -0.38520005, 0.02647...</td>\n",
       "      <td>[-0.2201258, 0.7791507, -0.5952959, -0.0086150...</td>\n",
       "      <td>[-0.3161068, 0.625955, -0.60577464, 0.17473152...</td>\n",
       "      <td>[-0.7304936, -0.28945467, -0.2956073, 0.477101...</td>\n",
       "      <td>[-0.8764651, -0.3084482, -0.3359217, -0.449018...</td>\n",
       "      <td>[0.23220569, 0.53819597, 0.8709663, -0.0318686...</td>\n",
       "      <td>[0.3040182, -0.18885481, 0.66042054, -0.296837...</td>\n",
       "    </tr>\n",
       "    <tr>\n",
       "      <th>16161</th>\n",
       "      <td>[H]N1C(=O)C([H])(C([H])([H])[H])C([H])(OC(=O)C...</td>\n",
       "      <td>VJYQPLSJYQMFHT-UHFFFAOYSA-N</td>\n",
       "      <td>VJYQPLSJYQMFHT</td>\n",
       "      <td>spec_id14610</td>\n",
       "      <td>[7.295793570022209, 5.1959969017812835, 22.963...</td>\n",
       "      <td>[0.0, 0.0, 9.470010757446289, 54.8682708740234...</td>\n",
       "      <td>[3.5072234, -8.692439, -8.4471245, 5.7731876, ...</td>\n",
       "      <td>Peptidomimetics</td>\n",
       "      <td>[3.2699282, -0.57910424, 0.11773235, -0.355928...</td>\n",
       "      <td>[4.406248, -0.404531, -0.31557962, -0.22630687...</td>\n",
       "      <td>[0.0910562, 0.5509389, -0.4245437, 0.13071564,...</td>\n",
       "      <td>[-0.17552155, -0.022934496, -0.15180397, 0.192...</td>\n",
       "      <td>[-0.04024625, 3.311855, 0.30818766, 0.4338398,...</td>\n",
       "      <td>[0.16758686, 3.878193, 0.70414186, 0.52185535,...</td>\n",
       "      <td>[0.23073134, -0.27691597, -0.28708053, 2.85923...</td>\n",
       "      <td>[0.040102124, 0.16196641, -0.648952, 3.7771494...</td>\n",
       "    </tr>\n",
       "    <tr>\n",
       "      <th>39960</th>\n",
       "      <td>CC1(C)CC[C@]2(C(=O)O)CC[C@]3(C)C(=CCC4[C@@]5(C...</td>\n",
       "      <td>IFIQVSCCFRXSJV-ZIZFEDMCSA-N</td>\n",
       "      <td>IFIQVSCCFRXSJV</td>\n",
       "      <td>spec_id39624</td>\n",
       "      <td>[-56.619995935564326, -47.180565266411406, -28...</td>\n",
       "      <td>[0.0, 28.782299041748047, 21.592288970947266, ...</td>\n",
       "      <td>[-7.1055846, -1.823768, -5.0916753, -5.6632137...</td>\n",
       "      <td>Prenol lipids</td>\n",
       "      <td>[0.057578944, 3.2052069, -0.17683041, 0.938788...</td>\n",
       "      <td>[-0.3361798, 1.3775645, 0.0005096197, 2.561767...</td>\n",
       "      <td>[-0.0940931, 1.8556808, 4.0298314, 0.7823971, ...</td>\n",
       "      <td>[-0.06518847, 0.3468852, 1.6350359, 0.43900406...</td>\n",
       "      <td>[2.5163274, -0.12980202, -1.5197893, -0.649240...</td>\n",
       "      <td>[0.46607867, -0.3921576, 0.9479388, -2.0718634...</td>\n",
       "      <td>[0.16177092, -0.4180844, -1.7954146, -0.174554...</td>\n",
       "      <td>[0.16454238, -1.5160103, -2.1730058, -0.756055...</td>\n",
       "    </tr>\n",
       "  </tbody>\n",
       "</table>\n",
       "</div>"
      ],
      "text/plain": [
       "                                                  smiles  \\\n",
       "18308                 CC1(CCCCC1)C(=O)Nc2ccc(c(c2Cl)Cl)O   \n",
       "16161  [H]N1C(=O)C([H])(C([H])([H])[H])C([H])(OC(=O)C...   \n",
       "39960  CC1(C)CC[C@]2(C(=O)O)CC[C@]3(C)C(=CCC4[C@@]5(C...   \n",
       "\n",
       "                         inchi_key      inchikey14       spec_id  \\\n",
       "18308  VDLGAVXLJYLFDH-UHFFFAOYSA-N  VDLGAVXLJYLFDH  spec_id16769   \n",
       "16161  VJYQPLSJYQMFHT-UHFFFAOYSA-N  VJYQPLSJYQMFHT  spec_id14610   \n",
       "39960  IFIQVSCCFRXSJV-ZIZFEDMCSA-N  IFIQVSCCFRXSJV  spec_id39624   \n",
       "\n",
       "                                                spec2vec  \\\n",
       "18308  [28.992814519957395, 9.93094121359686, -16.288...   \n",
       "16161  [7.295793570022209, 5.1959969017812835, 22.963...   \n",
       "39960  [-56.619995935564326, -47.180565266411406, -28...   \n",
       "\n",
       "                                                   ms2ds  \\\n",
       "18308  [24.41728973388672, 18.567832946777344, 0.9911...   \n",
       "16161  [0.0, 0.0, 9.470010757446289, 54.8682708740234...   \n",
       "39960  [0.0, 28.782299041748047, 21.592288970947266, ...   \n",
       "\n",
       "                                                 mol2vec  \\\n",
       "18308  [1.1145527, -1.4718719, -1.1575501, 1.5242243,...   \n",
       "16161  [3.5072234, -8.692439, -8.4471245, 5.7731876, ...   \n",
       "39960  [-7.1055846, -1.823768, -5.0916753, -5.6632137...   \n",
       "\n",
       "                                  cf_class  \\\n",
       "18308  Benzene and substituted derivatives   \n",
       "16161                      Peptidomimetics   \n",
       "39960                        Prenol lipids   \n",
       "\n",
       "                                     layer_size_top_1_z1  \\\n",
       "18308  [-0.22787341, -0.5057002, -0.22532237, -0.2998...   \n",
       "16161  [3.2699282, -0.57910424, 0.11773235, -0.355928...   \n",
       "39960  [0.057578944, 3.2052069, -0.17683041, 0.938788...   \n",
       "\n",
       "                                     layer_size_top_1_z2  \\\n",
       "18308  [-0.34711027, -0.5340508, -0.38520005, 0.02647...   \n",
       "16161  [4.406248, -0.404531, -0.31557962, -0.22630687...   \n",
       "39960  [-0.3361798, 1.3775645, 0.0005096197, 2.561767...   \n",
       "\n",
       "                                     layer_size_top_2_z1  \\\n",
       "18308  [-0.2201258, 0.7791507, -0.5952959, -0.0086150...   \n",
       "16161  [0.0910562, 0.5509389, -0.4245437, 0.13071564,...   \n",
       "39960  [-0.0940931, 1.8556808, 4.0298314, 0.7823971, ...   \n",
       "\n",
       "                                     layer_size_top_2_z2  \\\n",
       "18308  [-0.3161068, 0.625955, -0.60577464, 0.17473152...   \n",
       "16161  [-0.17552155, -0.022934496, -0.15180397, 0.192...   \n",
       "39960  [-0.06518847, 0.3468852, 1.6350359, 0.43900406...   \n",
       "\n",
       "                                     layer_size_top_3_z1  \\\n",
       "18308  [-0.7304936, -0.28945467, -0.2956073, 0.477101...   \n",
       "16161  [-0.04024625, 3.311855, 0.30818766, 0.4338398,...   \n",
       "39960  [2.5163274, -0.12980202, -1.5197893, -0.649240...   \n",
       "\n",
       "                                     layer_size_top_3_z2  \\\n",
       "18308  [-0.8764651, -0.3084482, -0.3359217, -0.449018...   \n",
       "16161  [0.16758686, 3.878193, 0.70414186, 0.52185535,...   \n",
       "39960  [0.46607867, -0.3921576, 0.9479388, -2.0718634...   \n",
       "\n",
       "                                     layer_size_top_4_z1  \\\n",
       "18308  [0.23220569, 0.53819597, 0.8709663, -0.0318686...   \n",
       "16161  [0.23073134, -0.27691597, -0.28708053, 2.85923...   \n",
       "39960  [0.16177092, -0.4180844, -1.7954146, -0.174554...   \n",
       "\n",
       "                                     layer_size_top_4_z2  \n",
       "18308  [0.3040182, -0.18885481, 0.66042054, -0.296837...  \n",
       "16161  [0.040102124, 0.16196641, -0.648952, 3.7771494...  \n",
       "39960  [0.16454238, -1.5160103, -2.1730058, -0.756055...  "
      ]
     },
     "execution_count": 55,
     "metadata": {},
     "output_type": "execute_result"
    }
   ],
   "source": [
    "Models.val_df.head(3)"
   ]
  },
  {
   "cell_type": "markdown",
   "id": "f9c4838a",
   "metadata": {},
   "source": [
    "# 8. Optimise activation function\n",
    "\n",
    "\n",
    "###### 8.1 Train models with the most commonly used activation functions: LeakyReLU, ReLU, Sigmoid, Tanh"
   ]
  },
  {
   "cell_type": "code",
   "execution_count": 70,
   "id": "31647e86",
   "metadata": {},
   "outputs": [],
   "source": [
    "# define activations to be tried\n",
    "activations = [\n",
    "            nn.LeakyReLU(), # already the default in cca_zoo\n",
    "            nn.ReLU(),\n",
    "            nn.Sigmoid(),\n",
    "            nn.Tanh()\n",
    "            ]"
   ]
  },
  {
   "cell_type": "code",
   "execution_count": 4,
   "id": "40bf2464",
   "metadata": {},
   "outputs": [],
   "source": [
    "%%time\n",
    "# train the models with different activations\n",
    "model_logs = ['leakyrelu', 'relu','sigmoid', 'tanh']\n",
    "corr = {}\n",
    "for i, activation in enumerate(activations): #test number of hidden layers from 1:5\n",
    "    \n",
    "        print('\\*'*21)\n",
    "        print(f'\\nSTARTING:  {activation}\\n')\n",
    "        print('/*'*21)\n",
    "        \n",
    "        # Initiate deepcca objec\n",
    "        Models = DeepCCA(df_all)\n",
    "\n",
    "        # generate data loaders and cca v1,v2\n",
    "        Models.deepcca_dataloaders()\n",
    "        \n",
    "        \n",
    "            \n",
    "        # Set the activation\n",
    "        Models.activation = activation\n",
    "        \n",
    "        \n",
    "        Models.encoder_1_layers = (500,500) # since we found this attained the best correlation\n",
    "        Models.encoder_2_layers = (500,500)\n",
    "        \n",
    "        \n",
    "        # set up the encoders\n",
    "        Models.deepcca_encoders()\n",
    "    \n",
    "        #set up logger\n",
    "        version =  f'{model_logs[i]}'\n",
    "   \n",
    "        experiment_dir = './sdl_logs'\n",
    "    \n",
    "        model_checkpoint = ModelCheckpoint(save_last=True,\n",
    "                                       monitor=\"val/l2\",\n",
    "                                       mode = 'min')\n",
    "    \n",
    "        logger = TensorBoardLogger(save_dir=experiment_dir, \n",
    "                                   name='sdl_optimal_activation',\n",
    "                                   version = version)\n",
    "        # train sdl\n",
    "        Models.train_sdl(model_checkpoint, logger,enable_progress_bar=False) # disable progress bar to avoid crushing the notebook\n",
    "        test_corr  = Models.score(model='sdl', dataset='test')\n",
    "       \n",
    "        # add test correlation to a dict\n",
    "        if model_logs[i] not in corr.keys():\n",
    "            corr[model_logs[i]] = []\n",
    "            corr[model_logs[i]].append(test_corr)\n",
    "        else:\n",
    "            corr[model_logs[i]].append(test_corr)\n",
    "Files('./sdl_logs/sdl_optimal_activation/test_correlation_for_activations.pickle').write_to_file(corr)"
   ]
  },
  {
   "cell_type": "code",
   "execution_count": 120,
   "id": "f22429b1",
   "metadata": {},
   "outputs": [],
   "source": [
    "corr = Files('./sdl_logs/sdl_optimal_activation/test_correlation_for_activations.pickle').load_pickle()"
   ]
  },
  {
   "cell_type": "markdown",
   "id": "d0c4cb30",
   "metadata": {},
   "source": [
    "###### 8.2 plot the test correlation attained"
   ]
  },
  {
   "cell_type": "code",
   "execution_count": 6,
   "id": "f1799bc5",
   "metadata": {},
   "outputs": [],
   "source": [
    "\n",
    "palette = [sns.color_palette()[0],\n",
    "           sns.color_palette()[1],\n",
    "           sns.color_palette()[2],\n",
    "           sns.color_palette()[3],\n",
    "          ]\n",
    "\n",
    "fig, ax = plt.subplots(figsize=(6.4, 4.8),dpi=100)\n",
    "sns.set_style('whitegrid')\n",
    "for i in range(len(corr)):\n",
    "    \n",
    "    \n",
    "    y = corr[model_logs[i]][0]\n",
    "    \n",
    "    sns.lineplot(x=[x for x in range(len(y)), pallete= pallete[i]],\n",
    "                y=y)\n",
    "plt.legend(labels=model_logs,loc=(1.04, 0.23),title='Activation')\n",
    "plt.yticks(np.arange(0, 1.1, step=0.1))\n",
    "plt.xlabel('Latent Dimensions', fontsize=15)\n",
    "plt.ylabel('Correlation', fontsize=15)\n",
    "#plt.title('Test correlation across different latent dimensions', fontsize=15)\n",
    "plt.show()\n",
    "    #break"
   ]
  },
  {
   "cell_type": "code",
   "execution_count": 118,
   "id": "40be050f",
   "metadata": {},
   "outputs": [
    {
     "data": {
      "image/png": "[encoded data removed]",
      "text/plain": [
       "<Figure size 640x480 with 1 Axes>"
      ]
     },
     "metadata": {},
     "output_type": "display_data"
    }
   ],
   "source": [
    "# extract mean correlation along all the dimensions for each model\n",
    "totals_mean = []\n",
    "for key, val in corr.items():\n",
    "    \n",
    "    cor = np.mean(val[0]) # take average for all the dimensions\n",
    "    \n",
    "    totals_mean.append(cor)\n",
    "    \n",
    "    \n",
    "# creat a df \n",
    "corr_df = pd.DataFrame({'corr':totals_mean,\n",
    "                        'activation': model_logs})\n",
    "\n",
    "#sort them based on correlation attained\n",
    "\n",
    "corr_df.sort_values(by='corr',ascending=False, inplace=True)\n",
    "corr_df.head(5)\n",
    "\n",
    "palette = [sns.color_palette()[3],\n",
    "           sns.color_palette()[2],\n",
    "           sns.color_palette()[1],\n",
    "           sns.color_palette()[0],\n",
    "          ]\n",
    "\n",
    "plt.figure(figsize=(6.4, 4.8),dpi=100)\n",
    "sns.scatterplot(data=corr_df, y='corr', x='activation', hue='activation', palette= palette,legend=False)\n",
    "#plt.legend(loc=(1.04, 0.55),title='Activation')\n",
    "plt.xlabel('Model activation', fontsize=13)\n",
    "plt.ylabel('Mean correlation across all dimensions', fontsize=13)\n",
    "plt.ylim(0.3, 0.9)\n",
    "plt.show()   "
   ]
  },
  {
   "cell_type": "markdown",
   "id": "7d109f16",
   "metadata": {},
   "source": [
    "###### 8.2 Load the trained models."
   ]
  },
  {
   "cell_type": "code",
   "execution_count": 105,
   "id": "6c200021",
   "metadata": {},
   "outputs": [
    {
     "name": "stderr",
     "output_type": "stream",
     "text": [
      "Global seed set to 15\n",
      "Global seed set to 15\n",
      "Global seed set to 15\n",
      "Global seed set to 15\n"
     ]
    }
   ],
   "source": [
    "# define activations to be tried ( aslo needed when loading)\n",
    "activations = [\n",
    "            nn.LeakyReLU(), # already the default in cca_zoo\n",
    "            nn.ReLU(),\n",
    "            nn.Sigmoid(),\n",
    "            nn.Tanh()\n",
    "            ]\n",
    "\n",
    "\n",
    "model_logs = ['leakyrelu', 'relu','sigmoid', 'tanh'] # will be needed to retrieve the logged model.\n",
    "models = []\n",
    "for i, activation in enumerate(activations):\n",
    "    # Initiate deepcca objec\n",
    "    Models = DeepCCA(df_all)\n",
    "    \n",
    "    # generate data loaders and cca v1,v2\n",
    "    Models.deepcca_dataloaders()\n",
    "\n",
    "    \n",
    "    # set the model layers based on what it was trained on\n",
    "    Models.encoder_1_layers = (500,500)\n",
    "    Models.encoder_2_layers = (500,500)\n",
    "    Models.activation = activation\n",
    "    \n",
    "    # set up the encoders\n",
    "    Models.deepcca_encoders()\n",
    "\n",
    "    sdl = DCCA_SDL(latent_dims = Models.latent_dims,N=Models.N) # set up the model base\n",
    "  \n",
    "  # load the model  \n",
    "    model = sdl.load_from_checkpoint(f'./sdl_logs/sdl_optimal_activation/{model_logs[i]}/checkpoints/last.ckpt',\n",
    "                                 \n",
    "                                 latent_dims = Models.latent_dims, N=Models.N, \n",
    "                                 optimizer=Models.optim,\n",
    "                                 encoders = [Models.encoder_1,Models.encoder_2],\n",
    "                                 lam=0.0001, \n",
    "                                 dropout=0.05,\n",
    "                                 objective=Models.objective\n",
    "                                 )\n",
    "    model.eval() # to drop randomness as mentioned in documentation\n",
    "    models.append(model)\n",
    "    #break"
   ]
  },
  {
   "cell_type": "code",
   "execution_count": 108,
   "id": "069b445a",
   "metadata": {},
   "outputs": [
    {
     "data": {
      "text/plain": [
       "DCCA_SDL(\n",
       "  (encoders): ModuleList(\n",
       "    (0): Encoder(\n",
       "      (layers): Sequential(\n",
       "        (0): Sequential(\n",
       "          (0): Dropout(p=0, inplace=False)\n",
       "          (1): Linear(in_features=200, out_features=500, bias=True)\n",
       "          (2): ReLU()\n",
       "        )\n",
       "        (1): Sequential(\n",
       "          (0): Dropout(p=0, inplace=False)\n",
       "          (1): Linear(in_features=500, out_features=500, bias=True)\n",
       "          (2): ReLU()\n",
       "        )\n",
       "      )\n",
       "      (fc): Sequential(\n",
       "        (0): Dropout(p=0, inplace=False)\n",
       "        (1): Linear(in_features=500, out_features=15, bias=True)\n",
       "      )\n",
       "    )\n",
       "    (1): Encoder(\n",
       "      (layers): Sequential(\n",
       "        (0): Sequential(\n",
       "          (0): Dropout(p=0, inplace=False)\n",
       "          (1): Linear(in_features=300, out_features=500, bias=True)\n",
       "          (2): ReLU()\n",
       "        )\n",
       "        (1): Sequential(\n",
       "          (0): Dropout(p=0, inplace=False)\n",
       "          (1): Linear(in_features=500, out_features=500, bias=True)\n",
       "          (2): ReLU()\n",
       "        )\n",
       "      )\n",
       "      (fc): Sequential(\n",
       "        (0): Dropout(p=0, inplace=False)\n",
       "        (1): Linear(in_features=500, out_features=15, bias=True)\n",
       "      )\n",
       "    )\n",
       "  )\n",
       "  (mse): MSELoss()\n",
       "  (bns): ModuleList(\n",
       "    (0): BatchNorm1d(15, eps=1e-05, momentum=0.1, affine=False, track_running_stats=True)\n",
       "    (1): BatchNorm1d(15, eps=1e-05, momentum=0.1, affine=False, track_running_stats=True)\n",
       "  )\n",
       ")"
      ]
     },
     "execution_count": 108,
     "metadata": {},
     "output_type": "execute_result"
    }
   ],
   "source": [
    "models[1]"
   ]
  },
  {
   "cell_type": "markdown",
   "id": "75e6d2c5",
   "metadata": {},
   "source": [
    "###### 8.3 Transform the data set."
   ]
  },
  {
   "cell_type": "code",
   "execution_count": 111,
   "id": "a4ba9a47",
   "metadata": {},
   "outputs": [
    {
     "name": "stdout",
     "output_type": "stream",
     "text": [
      "Wall time: 8.83 s\n"
     ]
    }
   ],
   "source": [
    "%%time\n",
    "for i, model in enumerate(models):\n",
    "        \n",
    "    # transforma\n",
    "    z1_test, z2_test = model.transform(loader=Models.test_loader) # get test z transformations\n",
    "    z1_train, z2_train = model.transform(loader=Models.train_loader) # get train z transformations\n",
    "    z1_val, z2_val = model.transform(loader=Models.val_loader) \n",
    "    \n",
    "    \n",
    "       #update the df with z score from the sdl_128\n",
    "    # 1. update test_df\n",
    "    Models.update_z_scores(dataset='test',z1=z1_test,\n",
    "                       z2=z2_test, \n",
    "                       cols=[f'{model_logs[i]}_z1',f'{model_logs[i]}_z2']) \n",
    "    \n",
    "    # 2. update train_df\n",
    "    Models.update_z_scores(dataset='train',z1=z1_train,\n",
    "                       z2=z2_train, \n",
    "                       cols=[f'{model_logs[i]}_z1',f'{model_logs[i]}_z2'])\n",
    "\n",
    "\n",
    "\n",
    "    # 3. update val_df\n",
    "\n",
    "    Models.update_z_scores(dataset='val',z1=z1_val,\n",
    "                       z2=z2_val, \n",
    "                       cols=[f'{model_logs[i]}_z1',f'{model_logs[i]}_z2'])\n",
    "   # break\n",
    "\n",
    "    \n",
    "    \n",
    "    \n",
    "#write the transformed df to file for the \n",
    "dfs = [Models.train_df, Models.test_df, Models.val_df]\n",
    "paths = ['./sdl_logs/sdl_optimal_activation/train_df_max3_sdl_activation_optimised_z_scores.pickle',\n",
    "         './sdl_logs/sdl_optimal_activation/test_df_max3_sdl_activation_optimised_z_scores.pickle',\n",
    "         './sdl_logs/sdl_optimal_activation/val_df_max3_sdl_activation_optimised_z_scores.pickle'\n",
    "        ]\n",
    "for path, df in zip(paths,dfs):\n",
    "    Files(path).write_to_file(df)"
   ]
  },
  {
   "cell_type": "code",
   "execution_count": 112,
   "id": "2553418f",
   "metadata": {},
   "outputs": [
    {
     "data": {
      "text/html": [
       "<div>\n",
       "<style scoped>\n",
       "    .dataframe tbody tr th:only-of-type {\n",
       "        vertical-align: middle;\n",
       "    }\n",
       "\n",
       "    .dataframe tbody tr th {\n",
       "        vertical-align: top;\n",
       "    }\n",
       "\n",
       "    .dataframe thead th {\n",
       "        text-align: right;\n",
       "    }\n",
       "</style>\n",
       "<table border=\"1\" class=\"dataframe\">\n",
       "  <thead>\n",
       "    <tr style=\"text-align: right;\">\n",
       "      <th></th>\n",
       "      <th>smiles</th>\n",
       "      <th>inchi_key</th>\n",
       "      <th>inchikey14</th>\n",
       "      <th>spec_id</th>\n",
       "      <th>spec2vec</th>\n",
       "      <th>ms2ds</th>\n",
       "      <th>mol2vec</th>\n",
       "      <th>cf_class</th>\n",
       "      <th>leakyrelu_z1</th>\n",
       "      <th>leakyrelu_z2</th>\n",
       "      <th>relu_z1</th>\n",
       "      <th>relu_z2</th>\n",
       "      <th>sigmoid_z1</th>\n",
       "      <th>sigmoid_z2</th>\n",
       "      <th>tanh_z1</th>\n",
       "      <th>tanh_z2</th>\n",
       "    </tr>\n",
       "  </thead>\n",
       "  <tbody>\n",
       "    <tr>\n",
       "      <th>18308</th>\n",
       "      <td>CC1(CCCCC1)C(=O)Nc2ccc(c(c2Cl)Cl)O</td>\n",
       "      <td>VDLGAVXLJYLFDH-UHFFFAOYSA-N</td>\n",
       "      <td>VDLGAVXLJYLFDH</td>\n",
       "      <td>spec_id16769</td>\n",
       "      <td>[28.992814519957395, 9.93094121359686, -16.288...</td>\n",
       "      <td>[24.41728973388672, 18.567832946777344, 0.9911...</td>\n",
       "      <td>[1.1145527, -1.4718719, -1.1575501, 1.5242243,...</td>\n",
       "      <td>Benzene and substituted derivatives</td>\n",
       "      <td>[-0.7029902, -0.14817622, -0.48123625, 0.26968...</td>\n",
       "      <td>[-0.12748098, -0.54248446, -0.1790152, -0.0151...</td>\n",
       "      <td>[-0.44993982, 0.13547057, 0.35290185, 0.455082...</td>\n",
       "      <td>[-0.39012057, 0.05024735, 0.7329963, 0.454123,...</td>\n",
       "      <td>[-0.9908092, -0.3927951, 0.747877, -0.17128468...</td>\n",
       "      <td>[0.19884229, 0.32907677, 0.41671145, -0.781387...</td>\n",
       "      <td>[-0.5665866, -0.39417094, -0.58390474, -1.1006...</td>\n",
       "      <td>[0.58770657, -0.009667635, -0.29627275, -0.546...</td>\n",
       "    </tr>\n",
       "    <tr>\n",
       "      <th>16161</th>\n",
       "      <td>[H]N1C(=O)C([H])(C([H])([H])[H])C([H])(OC(=O)C...</td>\n",
       "      <td>VJYQPLSJYQMFHT-UHFFFAOYSA-N</td>\n",
       "      <td>VJYQPLSJYQMFHT</td>\n",
       "      <td>spec_id14610</td>\n",
       "      <td>[7.295793570022209, 5.1959969017812835, 22.963...</td>\n",
       "      <td>[0.0, 0.0, 9.470010757446289, 54.8682708740234...</td>\n",
       "      <td>[3.5072234, -8.692439, -8.4471245, 5.7731876, ...</td>\n",
       "      <td>Peptidomimetics</td>\n",
       "      <td>[-0.97442293, 0.012245387, -0.23954043, 0.3111...</td>\n",
       "      <td>[-0.3816018, -0.1473596, -0.052980512, -0.5040...</td>\n",
       "      <td>[2.276792, -0.0463333, 0.09992445, -2.3053753,...</td>\n",
       "      <td>[3.4932628, 0.14210054, -0.884035, -3.3034284,...</td>\n",
       "      <td>[-0.6141832, 0.011068463, -0.011655569, 0.0716...</td>\n",
       "      <td>[-0.5665219, 0.8074746, -1.3161016, 0.8810036,...</td>\n",
       "      <td>[-0.4352209, -0.10598579, 0.37118778, -0.41577...</td>\n",
       "      <td>[0.21903086, 0.4234221, -0.41617775, 0.142596,...</td>\n",
       "    </tr>\n",
       "  </tbody>\n",
       "</table>\n",
       "</div>"
      ],
      "text/plain": [
       "                                                  smiles  \\\n",
       "18308                 CC1(CCCCC1)C(=O)Nc2ccc(c(c2Cl)Cl)O   \n",
       "16161  [H]N1C(=O)C([H])(C([H])([H])[H])C([H])(OC(=O)C...   \n",
       "\n",
       "                         inchi_key      inchikey14       spec_id  \\\n",
       "18308  VDLGAVXLJYLFDH-UHFFFAOYSA-N  VDLGAVXLJYLFDH  spec_id16769   \n",
       "16161  VJYQPLSJYQMFHT-UHFFFAOYSA-N  VJYQPLSJYQMFHT  spec_id14610   \n",
       "\n",
       "                                                spec2vec  \\\n",
       "18308  [28.992814519957395, 9.93094121359686, -16.288...   \n",
       "16161  [7.295793570022209, 5.1959969017812835, 22.963...   \n",
       "\n",
       "                                                   ms2ds  \\\n",
       "18308  [24.41728973388672, 18.567832946777344, 0.9911...   \n",
       "16161  [0.0, 0.0, 9.470010757446289, 54.8682708740234...   \n",
       "\n",
       "                                                 mol2vec  \\\n",
       "18308  [1.1145527, -1.4718719, -1.1575501, 1.5242243,...   \n",
       "16161  [3.5072234, -8.692439, -8.4471245, 5.7731876, ...   \n",
       "\n",
       "                                  cf_class  \\\n",
       "18308  Benzene and substituted derivatives   \n",
       "16161                      Peptidomimetics   \n",
       "\n",
       "                                            leakyrelu_z1  \\\n",
       "18308  [-0.7029902, -0.14817622, -0.48123625, 0.26968...   \n",
       "16161  [-0.97442293, 0.012245387, -0.23954043, 0.3111...   \n",
       "\n",
       "                                            leakyrelu_z2  \\\n",
       "18308  [-0.12748098, -0.54248446, -0.1790152, -0.0151...   \n",
       "16161  [-0.3816018, -0.1473596, -0.052980512, -0.5040...   \n",
       "\n",
       "                                                 relu_z1  \\\n",
       "18308  [-0.44993982, 0.13547057, 0.35290185, 0.455082...   \n",
       "16161  [2.276792, -0.0463333, 0.09992445, -2.3053753,...   \n",
       "\n",
       "                                                 relu_z2  \\\n",
       "18308  [-0.39012057, 0.05024735, 0.7329963, 0.454123,...   \n",
       "16161  [3.4932628, 0.14210054, -0.884035, -3.3034284,...   \n",
       "\n",
       "                                              sigmoid_z1  \\\n",
       "18308  [-0.9908092, -0.3927951, 0.747877, -0.17128468...   \n",
       "16161  [-0.6141832, 0.011068463, -0.011655569, 0.0716...   \n",
       "\n",
       "                                              sigmoid_z2  \\\n",
       "18308  [0.19884229, 0.32907677, 0.41671145, -0.781387...   \n",
       "16161  [-0.5665219, 0.8074746, -1.3161016, 0.8810036,...   \n",
       "\n",
       "                                                 tanh_z1  \\\n",
       "18308  [-0.5665866, -0.39417094, -0.58390474, -1.1006...   \n",
       "16161  [-0.4352209, -0.10598579, 0.37118778, -0.41577...   \n",
       "\n",
       "                                                 tanh_z2  \n",
       "18308  [0.58770657, -0.009667635, -0.29627275, -0.546...  \n",
       "16161  [0.21903086, 0.4234221, -0.41617775, 0.142596,...  "
      ]
     },
     "execution_count": 112,
     "metadata": {},
     "output_type": "execute_result"
    }
   ],
   "source": [
    "Models.val_df.head(2)"
   ]
  },
  {
   "cell_type": "code",
   "execution_count": null,
   "id": "37e3c7ed",
   "metadata": {},
   "outputs": [],
   "source": [
    "### Unify identified params:"
   ]
  },
  {
   "cell_type": "code",
   "execution_count": 7,
   "id": "4cd78781",
   "metadata": {},
   "outputs": [],
   "source": [
    "%%time\n",
    "# Initiate deepcca objec\n",
    "Models = DeepCCA(df_all)\n",
    "\n",
    "# generate data loaders and cca v1,v2\n",
    "Models.deepcca_dataloaders()\n",
    "\n",
    "# set encoders\n",
    "Models.deepcca_encoders()\n",
    "\n",
    "#set up logger\n",
    "version =  f'dims_100_tanh_3_hiddens'\n",
    "   \n",
    "experiment_dir = './sdl_logs'\n",
    "\n",
    "# define the logs\n",
    "model_checkpoint = ModelCheckpoint(save_last=True,\n",
    "                                       monitor=\"val/l2\",\n",
    "                                       mode = 'min')\n",
    "    \n",
    "logger = TensorBoardLogger(save_dir=experiment_dir, \n",
    "                                   name='unified_params',\n",
    "                                   version = version)\n",
    "# train sdl\n",
    "Models.train_sdl(model_checkpoint, logger,enable_progress_bar=True) \n"
   ]
  },
  {
   "cell_type": "code",
   "execution_count": 140,
   "id": "7d639a1f",
   "metadata": {},
   "outputs": [],
   "source": [
    "train_corr  = Models.score(model='sdl', dataset='train')\n",
    "test_corr  = Models.score(model='sdl', dataset='test')"
   ]
  },
  {
   "cell_type": "code",
   "execution_count": 144,
   "id": "22ca982c",
   "metadata": {},
   "outputs": [
    {
     "data": {
      "text/plain": [
       "0.893639174518681"
      ]
     },
     "execution_count": 144,
     "metadata": {},
     "output_type": "execute_result"
    }
   ],
   "source": [
    "test_corr[:10].mean()"
   ]
  },
  {
   "cell_type": "code",
   "execution_count": 143,
   "id": "c4c379df",
   "metadata": {},
   "outputs": [
    {
     "data": {
      "image/png": "[encoded data removed]",
      "text/plain": [
       "<Figure size 432x288 with 1 Axes>"
      ]
     },
     "metadata": {},
     "output_type": "display_data"
    }
   ],
   "source": [
    "#the dimensions probably there is no harm in adding more dims; \n",
    "#and using less does not also harm. adding does not take away the information obtained neither does it add any info\n",
    "# this could explain why the change in dims was not sensitive\n",
    "sns.set_style('whitegrid')\n",
    "sns.lineplot(y=test_corr, x = [x for x in range(100)])\n",
    "sns.lineplot(y=train_corr, x = [x for x in range(100)])\n",
    "plt.show()"
   ]
  },
  {
   "cell_type": "markdown",
   "id": "208327c9",
   "metadata": {},
   "source": [
    "# XX. Testing SDL whith non-high-scoring queries"
   ]
  },
  {
   "cell_type": "code",
   "execution_count": 102,
   "id": "ba45b328",
   "metadata": {},
   "outputs": [],
   "source": [
    "#step 1: load sdl 15 dims; 768 batch size model\n",
    "sdl = DCCA_SDL(latent_dims = Models.latent_dims,N=Models.N) # set up the model base\n",
    "\n",
    "sdl_768 = sdl.load_from_checkpoint(f'./sdl_logs/sdl_optimal_batch_size/sdl_run_768_only_backup/checkpoints/last.ckpt',\n",
    "                                 \n",
    "                                 latent_dims = Models.latent_dims, N=Models.N, \n",
    "                                 optimizer=Models.optim,\n",
    "                                 encoders = [Models.encoder_1,Models.encoder_2],\n",
    "                                 lam=0.0001, \n",
    "                                 dropout=0.05,\n",
    "                                 objective=Models.objective\n",
    "                                 )\n",
    "sdl_768.eval()\n",
    "\n",
    "\n",
    "#step: 2 Transform the test data excluding high scoring queries \n",
    "test_df_after_exclusion = Files('./sdl_768_15_dims/test_df_excluding_non_high_scoring_queries.pickle').load_pickle()\n",
    "\n",
    "#update only the new test set\n",
    "\n",
    "#creat test loader for the new test set (new_test == test data excluding high scoring queries)\n",
    "v1_new_test = np.array([x for x in test_df_after_exclusion['ms2ds']])\n",
    "v2_new_test = np.array([x for x in test_df_after_exclusion['mol2vec']])\n",
    "\n",
    "test_dataset = CCA_Dataset([v1_new_test, v2_new_test])\n",
    "test_loader = get_dataloaders(test_dataset,\\\n",
    "                                      batch_size= 768, # since the model was trained on 768 batch size\n",
    "                                      num_workers=6,drop_last=False)\n",
    "\n",
    "\n",
    "#step: 3 Transform the test data excluding high scoring queries\n",
    "z1_test, z2_test = sdl_768.transform(loader=test_loader) # get test z transformations\n",
    "\n",
    "# step 4: add the z-scores to the new test df \n",
    "\n",
    "test_df_after_exclusion['sdl_exclusion_z1'] = [x for x in z1_test]\n",
    "test_df_after_exclusion['sdl_exclusion_z2'] = [x for x in z2_test]\n",
    "\n",
    "# write the df to file for cosine distance calculations\n",
    "# Files('./sdl_768_15_dims/retransformed_test_df_excluding_non_high_scoring_queries.pickle').write_to_file(test_df_after_exclusion)"
   ]
  },
  {
   "cell_type": "code",
   "execution_count": 69,
   "id": "7c46e9fc",
   "metadata": {},
   "outputs": [
    {
     "data": {
      "text/html": [
       "<div>\n",
       "<style scoped>\n",
       "    .dataframe tbody tr th:only-of-type {\n",
       "        vertical-align: middle;\n",
       "    }\n",
       "\n",
       "    .dataframe tbody tr th {\n",
       "        vertical-align: top;\n",
       "    }\n",
       "\n",
       "    .dataframe thead th {\n",
       "        text-align: right;\n",
       "    }\n",
       "</style>\n",
       "<table border=\"1\" class=\"dataframe\">\n",
       "  <thead>\n",
       "    <tr style=\"text-align: right;\">\n",
       "      <th></th>\n",
       "      <th>smiles</th>\n",
       "      <th>inchi_key</th>\n",
       "      <th>inchikey14</th>\n",
       "      <th>spec_id</th>\n",
       "      <th>spec2vec</th>\n",
       "      <th>ms2ds</th>\n",
       "      <th>mol2vec</th>\n",
       "      <th>cf_class</th>\n",
       "      <th>cca_z1</th>\n",
       "      <th>cca_z2</th>\n",
       "      <th>sdl_768_z1</th>\n",
       "      <th>sdl_768_z2</th>\n",
       "      <th>sdl_768_tanimoto</th>\n",
       "      <th>sdl_exclusion_z1</th>\n",
       "      <th>sdl_exclusion_z2</th>\n",
       "    </tr>\n",
       "  </thead>\n",
       "  <tbody>\n",
       "    <tr>\n",
       "      <th>5625</th>\n",
       "      <td>COc1ccc(cc1OC)C(=O)NCc2ccc(OCCN(C)C)cc2</td>\n",
       "      <td>QQQIECGTIMUVDS-UHFFFAOYSA-N</td>\n",
       "      <td>QQQIECGTIMUVDS</td>\n",
       "      <td>spec_id5019</td>\n",
       "      <td>[0.7660381606480904, -2.9954168988462215, -12....</td>\n",
       "      <td>[0.0, 13.000274658203125, 0.35151147842407227,...</td>\n",
       "      <td>[-0.45550603, -3.2559516, -3.0893652, 5.457150...</td>\n",
       "      <td>Benzene and substituted derivatives</td>\n",
       "      <td>[0.05153173450592052, -0.6290144322197803, 0.3...</td>\n",
       "      <td>[-0.36705695389751064, -0.7741333930770977, 0....</td>\n",
       "      <td>[0.89759576, -0.44103494, 0.25500268, -0.23932...</td>\n",
       "      <td>[0.8142293, -0.8455215, 0.10232448, 0.03982669...</td>\n",
       "      <td>0.3434</td>\n",
       "      <td>[0.91412747, -0.45944878, 0.22894204, -0.27499...</td>\n",
       "      <td>[0.87694925, -0.8284457, 0.11323702, 0.0347905...</td>\n",
       "    </tr>\n",
       "    <tr>\n",
       "      <th>40023</th>\n",
       "      <td>COc1cc(OC)c2c(OC)c(-c3ccc4c(c3)OCO4)c(=O)oc2c1</td>\n",
       "      <td>PZYZNVLXKYMURF-UHFFFAOYSA-N</td>\n",
       "      <td>PZYZNVLXKYMURF</td>\n",
       "      <td>spec_id39710</td>\n",
       "      <td>[4.160680518910307, -17.534900146210205, -20.4...</td>\n",
       "      <td>[0.0, 0.0, 0.0, 0.0, 0.0, 63.7232666015625, 5....</td>\n",
       "      <td>[1.2124093, -3.7327924, -5.30343, 5.8895183, 0...</td>\n",
       "      <td>Isoflavonoids</td>\n",
       "      <td>[-0.5501047970140038, 0.38237380310465097, 0.3...</td>\n",
       "      <td>[-0.4201982466068921, -0.10796739852068316, -0...</td>\n",
       "      <td>[-1.9857152, 0.01580453, 0.34879375, -0.063378...</td>\n",
       "      <td>[-2.6851432, 0.07175583, 0.100825734, -0.03386...</td>\n",
       "      <td>0.5405</td>\n",
       "      <td>[-2.011728, 0.038822383, 0.31981504, -0.077062...</td>\n",
       "      <td>[-2.6763551, 0.09979546, 0.111880705, -0.04374...</td>\n",
       "    </tr>\n",
       "    <tr>\n",
       "      <th>24733</th>\n",
       "      <td>O=C(OC1C(OC(OCCC2=CC=C(O)C(O)=C2)C(OC(=O)C)C1O...</td>\n",
       "      <td>ALERZNQPBWWLMW-UHFFFAOYSA-N</td>\n",
       "      <td>ALERZNQPBWWLMW</td>\n",
       "      <td>spec_id23060</td>\n",
       "      <td>[-4.41229641164563, -6.063199486461368, 5.2722...</td>\n",
       "      <td>[2.8529367446899414, 9.61679458618164, 15.8730...</td>\n",
       "      <td>[1.791454, -10.160973, -14.062275, 4.4526644, ...</td>\n",
       "      <td>Cinnamic acids and derivatives</td>\n",
       "      <td>[-0.4426021969600858, 1.809169159153108, -1.36...</td>\n",
       "      <td>[-0.045717320727094835, 0.8496795834228216, -1...</td>\n",
       "      <td>[0.23103917, 1.7803116, 0.6962889, -0.04533320...</td>\n",
       "      <td>[1.5970452, 0.87056667, 0.012284648, 0.0887110...</td>\n",
       "      <td>0.4717</td>\n",
       "      <td>[0.23773558, 1.9633561, 0.6564988, -0.05676257...</td>\n",
       "      <td>[1.6718297, 0.9081541, 0.03175423, 0.08688891,...</td>\n",
       "    </tr>\n",
       "    <tr>\n",
       "      <th>25593</th>\n",
       "      <td>O=C(OCC=1C=CC=CC1)NC(C(=O)OC=2C=CC3=C(OC(=O)C(...</td>\n",
       "      <td>LNMBUJUJPICZGH-UHFFFAOYSA-N</td>\n",
       "      <td>LNMBUJUJPICZGH</td>\n",
       "      <td>spec_id25480</td>\n",
       "      <td>[-1.5422615221495586, 10.45036605430372, -7.52...</td>\n",
       "      <td>[0.0, 0.0, 18.23489761352539, 0.0, 0.0, 0.0, 0...</td>\n",
       "      <td>[0.47904763, -4.99688, -7.802119, 13.313987, -...</td>\n",
       "      <td>Carboxylic acids and derivatives</td>\n",
       "      <td>[-0.15315980785614414, 0.6710302381269899, -1....</td>\n",
       "      <td>[-0.3503366506823893, -0.04045601704619821, -0...</td>\n",
       "      <td>[-0.007887766, 0.32609048, 2.6567798, 0.227693...</td>\n",
       "      <td>[1.1675563, -0.09879863, 1.4980595, -0.1577402...</td>\n",
       "      <td>0.6382</td>\n",
       "      <td>[-0.0047168285, 0.37724876, 2.5559943, 0.25037...</td>\n",
       "      <td>[1.2357216, -0.07279754, 1.3763267, -0.1757656...</td>\n",
       "    </tr>\n",
       "    <tr>\n",
       "      <th>40227</th>\n",
       "      <td>CNc1ccccc1C(=O)N1CCc2c([nH]c3ccccc23)C1=O</td>\n",
       "      <td>RAEOYMOPVHBBKE-UHFFFAOYSA-N</td>\n",
       "      <td>RAEOYMOPVHBBKE</td>\n",
       "      <td>spec_id39955</td>\n",
       "      <td>[11.776328909052227, 20.7505544911708, 19.9699...</td>\n",
       "      <td>[0.0, 0.0, 0.0, 0.0, 0.0, 9.018969535827637, 0...</td>\n",
       "      <td>[2.4732747, -4.1783967, -4.060229, 5.6195107, ...</td>\n",
       "      <td>Indoles and derivatives</td>\n",
       "      <td>[-0.0840467761011092, 0.07684710551968574, 1.2...</td>\n",
       "      <td>[-0.4877804917430576, -0.940284281828943, -0.5...</td>\n",
       "      <td>[0.4848546, -0.24852234, 0.17956558, 0.0758979...</td>\n",
       "      <td>[0.9901773, -0.58074486, 0.41434932, 0.0546230...</td>\n",
       "      <td>0.4668</td>\n",
       "      <td>[0.49529618, -0.24947684, 0.15585193, 0.079614...</td>\n",
       "      <td>[1.0556089, -0.56050426, 0.3956082, 0.05055973...</td>\n",
       "    </tr>\n",
       "  </tbody>\n",
       "</table>\n",
       "</div>"
      ],
      "text/plain": [
       "                                                  smiles  \\\n",
       "5625             COc1ccc(cc1OC)C(=O)NCc2ccc(OCCN(C)C)cc2   \n",
       "40023     COc1cc(OC)c2c(OC)c(-c3ccc4c(c3)OCO4)c(=O)oc2c1   \n",
       "24733  O=C(OC1C(OC(OCCC2=CC=C(O)C(O)=C2)C(OC(=O)C)C1O...   \n",
       "25593  O=C(OCC=1C=CC=CC1)NC(C(=O)OC=2C=CC3=C(OC(=O)C(...   \n",
       "40227          CNc1ccccc1C(=O)N1CCc2c([nH]c3ccccc23)C1=O   \n",
       "\n",
       "                         inchi_key      inchikey14       spec_id  \\\n",
       "5625   QQQIECGTIMUVDS-UHFFFAOYSA-N  QQQIECGTIMUVDS   spec_id5019   \n",
       "40023  PZYZNVLXKYMURF-UHFFFAOYSA-N  PZYZNVLXKYMURF  spec_id39710   \n",
       "24733  ALERZNQPBWWLMW-UHFFFAOYSA-N  ALERZNQPBWWLMW  spec_id23060   \n",
       "25593  LNMBUJUJPICZGH-UHFFFAOYSA-N  LNMBUJUJPICZGH  spec_id25480   \n",
       "40227  RAEOYMOPVHBBKE-UHFFFAOYSA-N  RAEOYMOPVHBBKE  spec_id39955   \n",
       "\n",
       "                                                spec2vec  \\\n",
       "5625   [0.7660381606480904, -2.9954168988462215, -12....   \n",
       "40023  [4.160680518910307, -17.534900146210205, -20.4...   \n",
       "24733  [-4.41229641164563, -6.063199486461368, 5.2722...   \n",
       "25593  [-1.5422615221495586, 10.45036605430372, -7.52...   \n",
       "40227  [11.776328909052227, 20.7505544911708, 19.9699...   \n",
       "\n",
       "                                                   ms2ds  \\\n",
       "5625   [0.0, 13.000274658203125, 0.35151147842407227,...   \n",
       "40023  [0.0, 0.0, 0.0, 0.0, 0.0, 63.7232666015625, 5....   \n",
       "24733  [2.8529367446899414, 9.61679458618164, 15.8730...   \n",
       "25593  [0.0, 0.0, 18.23489761352539, 0.0, 0.0, 0.0, 0...   \n",
       "40227  [0.0, 0.0, 0.0, 0.0, 0.0, 9.018969535827637, 0...   \n",
       "\n",
       "                                                 mol2vec  \\\n",
       "5625   [-0.45550603, -3.2559516, -3.0893652, 5.457150...   \n",
       "40023  [1.2124093, -3.7327924, -5.30343, 5.8895183, 0...   \n",
       "24733  [1.791454, -10.160973, -14.062275, 4.4526644, ...   \n",
       "25593  [0.47904763, -4.99688, -7.802119, 13.313987, -...   \n",
       "40227  [2.4732747, -4.1783967, -4.060229, 5.6195107, ...   \n",
       "\n",
       "                                  cf_class  \\\n",
       "5625   Benzene and substituted derivatives   \n",
       "40023                        Isoflavonoids   \n",
       "24733       Cinnamic acids and derivatives   \n",
       "25593     Carboxylic acids and derivatives   \n",
       "40227              Indoles and derivatives   \n",
       "\n",
       "                                                  cca_z1  \\\n",
       "5625   [0.05153173450592052, -0.6290144322197803, 0.3...   \n",
       "40023  [-0.5501047970140038, 0.38237380310465097, 0.3...   \n",
       "24733  [-0.4426021969600858, 1.809169159153108, -1.36...   \n",
       "25593  [-0.15315980785614414, 0.6710302381269899, -1....   \n",
       "40227  [-0.0840467761011092, 0.07684710551968574, 1.2...   \n",
       "\n",
       "                                                  cca_z2  \\\n",
       "5625   [-0.36705695389751064, -0.7741333930770977, 0....   \n",
       "40023  [-0.4201982466068921, -0.10796739852068316, -0...   \n",
       "24733  [-0.045717320727094835, 0.8496795834228216, -1...   \n",
       "25593  [-0.3503366506823893, -0.04045601704619821, -0...   \n",
       "40227  [-0.4877804917430576, -0.940284281828943, -0.5...   \n",
       "\n",
       "                                              sdl_768_z1  \\\n",
       "5625   [0.89759576, -0.44103494, 0.25500268, -0.23932...   \n",
       "40023  [-1.9857152, 0.01580453, 0.34879375, -0.063378...   \n",
       "24733  [0.23103917, 1.7803116, 0.6962889, -0.04533320...   \n",
       "25593  [-0.007887766, 0.32609048, 2.6567798, 0.227693...   \n",
       "40227  [0.4848546, -0.24852234, 0.17956558, 0.0758979...   \n",
       "\n",
       "                                              sdl_768_z2  sdl_768_tanimoto  \\\n",
       "5625   [0.8142293, -0.8455215, 0.10232448, 0.03982669...            0.3434   \n",
       "40023  [-2.6851432, 0.07175583, 0.100825734, -0.03386...            0.5405   \n",
       "24733  [1.5970452, 0.87056667, 0.012284648, 0.0887110...            0.4717   \n",
       "25593  [1.1675563, -0.09879863, 1.4980595, -0.1577402...            0.6382   \n",
       "40227  [0.9901773, -0.58074486, 0.41434932, 0.0546230...            0.4668   \n",
       "\n",
       "                                        sdl_exclusion_z1  \\\n",
       "5625   [0.91412747, -0.45944878, 0.22894204, -0.27499...   \n",
       "40023  [-2.011728, 0.038822383, 0.31981504, -0.077062...   \n",
       "24733  [0.23773558, 1.9633561, 0.6564988, -0.05676257...   \n",
       "25593  [-0.0047168285, 0.37724876, 2.5559943, 0.25037...   \n",
       "40227  [0.49529618, -0.24947684, 0.15585193, 0.079614...   \n",
       "\n",
       "                                        sdl_exclusion_z2  \n",
       "5625   [0.87694925, -0.8284457, 0.11323702, 0.0347905...  \n",
       "40023  [-2.6763551, 0.09979546, 0.111880705, -0.04374...  \n",
       "24733  [1.6718297, 0.9081541, 0.03175423, 0.08688891,...  \n",
       "25593  [1.2357216, -0.07279754, 1.3763267, -0.1757656...  \n",
       "40227  [1.0556089, -0.56050426, 0.3956082, 0.05055973...  "
      ]
     },
     "execution_count": 69,
     "metadata": {},
     "output_type": "execute_result"
    }
   ],
   "source": [
    "test_df_after_exclusion.head(5)"
   ]
  },
  {
   "cell_type": "code",
   "execution_count": null,
   "id": "3c5f5d60",
   "metadata": {},
   "outputs": [],
   "source": []
  },
  {
   "cell_type": "code",
   "execution_count": 7,
   "id": "bf9e3adc",
   "metadata": {},
   "outputs": [],
   "source": [
    "# # loading for the best model\n",
    "# z1_test, z2_test = sdl_768.transform(loader=Models.test_loader) # get test z transformations\n",
    "# z1_train, z2_train = sdl_768.transform(loader=Models.train_loader) # get train z transformations\n",
    "# z1_val, z2_val = sdl_768.transform(loader=Models.val_loader) # get train z transformations\n",
    "\n",
    "\n",
    "#     #update the df with z score from the sdl_128\n",
    "#     # 1. update test_df\n",
    "# Models.update_z_scores(dataset='test',z1=z1_test,\n",
    "#                        z2=z2_test, \n",
    "#                        cols=['sdl_768_z1','sdl_768_z2'])\n",
    "#     # 2. update train_df\n",
    "# Models.update_z_scores(dataset='train',z1=z1_train,\n",
    "#                        z2=z2_train, \n",
    "#                        cols=['sdl_768_z1','sdl_768_z2'])\n",
    "\n",
    "#     # 3. update val_df\n",
    "\n",
    "# Models.update_z_scores(dataset='val',z1=z1_train,\n",
    "#                        z2=z2_train, \n",
    "#                        cols=['sdl_768_z1','sdl_768_z2'])"
   ]
  },
  {
   "cell_type": "code",
   "execution_count": 24,
   "id": "4531aecd",
   "metadata": {},
   "outputs": [
    {
     "data": {
      "text/html": [
       "<div>\n",
       "<style scoped>\n",
       "    .dataframe tbody tr th:only-of-type {\n",
       "        vertical-align: middle;\n",
       "    }\n",
       "\n",
       "    .dataframe tbody tr th {\n",
       "        vertical-align: top;\n",
       "    }\n",
       "\n",
       "    .dataframe thead th {\n",
       "        text-align: right;\n",
       "    }\n",
       "</style>\n",
       "<table border=\"1\" class=\"dataframe\">\n",
       "  <thead>\n",
       "    <tr style=\"text-align: right;\">\n",
       "      <th></th>\n",
       "      <th>smiles</th>\n",
       "      <th>inchi_key</th>\n",
       "      <th>inchikey14</th>\n",
       "      <th>spec_id</th>\n",
       "      <th>spec2vec</th>\n",
       "      <th>ms2ds</th>\n",
       "      <th>mol2vec</th>\n",
       "      <th>cf_class</th>\n",
       "      <th>sdl_768_z1</th>\n",
       "      <th>sdl_768_z2</th>\n",
       "      <th>cca_z1</th>\n",
       "      <th>cca_z2</th>\n",
       "    </tr>\n",
       "  </thead>\n",
       "  <tbody>\n",
       "    <tr>\n",
       "      <th>18308</th>\n",
       "      <td>CC1(CCCCC1)C(=O)Nc2ccc(c(c2Cl)Cl)O</td>\n",
       "      <td>VDLGAVXLJYLFDH-UHFFFAOYSA-N</td>\n",
       "      <td>VDLGAVXLJYLFDH</td>\n",
       "      <td>spec_id16769</td>\n",
       "      <td>[28.992814519957395, 9.93094121359686, -16.288...</td>\n",
       "      <td>[24.41728973388672, 18.567832946777344, 0.9911...</td>\n",
       "      <td>[1.1145527, -1.4718719, -1.1575501, 1.5242243,...</td>\n",
       "      <td>Benzene and substituted derivatives</td>\n",
       "      <td>[-0.028206334, -0.58697754, -0.27564368, 0.387...</td>\n",
       "      <td>[0.1807306, -0.6496799, -0.6295585, 0.15014616...</td>\n",
       "      <td>[-0.18367801964301914, -0.5168160022883642, 0....</td>\n",
       "      <td>[-0.1445210560271232, -0.8005949459704749, 0.4...</td>\n",
       "    </tr>\n",
       "    <tr>\n",
       "      <th>16161</th>\n",
       "      <td>[H]N1C(=O)C([H])(C([H])([H])[H])C([H])(OC(=O)C...</td>\n",
       "      <td>VJYQPLSJYQMFHT-UHFFFAOYSA-N</td>\n",
       "      <td>VJYQPLSJYQMFHT</td>\n",
       "      <td>spec_id14610</td>\n",
       "      <td>[7.295793570022209, 5.1959969017812835, 22.963...</td>\n",
       "      <td>[0.0, 0.0, 9.470010757446289, 54.8682708740234...</td>\n",
       "      <td>[3.5072234, -8.692439, -8.4471245, 5.7731876, ...</td>\n",
       "      <td>Peptidomimetics</td>\n",
       "      <td>[1.4329386, -0.23577894, 0.42023522, 0.1479506...</td>\n",
       "      <td>[1.5159718, 0.1765452, -0.11394979, -0.0296348...</td>\n",
       "      <td>[-0.006435331845283554, 0.058462411914186246, ...</td>\n",
       "      <td>[0.20256939799957618, 0.9827796658564947, 0.12...</td>\n",
       "    </tr>\n",
       "    <tr>\n",
       "      <th>39960</th>\n",
       "      <td>CC1(C)CC[C@]2(C(=O)O)CC[C@]3(C)C(=CCC4[C@@]5(C...</td>\n",
       "      <td>IFIQVSCCFRXSJV-ZIZFEDMCSA-N</td>\n",
       "      <td>IFIQVSCCFRXSJV</td>\n",
       "      <td>spec_id39624</td>\n",
       "      <td>[-56.619995935564326, -47.180565266411406, -28...</td>\n",
       "      <td>[0.0, 28.782299041748047, 21.592288970947266, ...</td>\n",
       "      <td>[-7.1055846, -1.823768, -5.0916753, -5.6632137...</td>\n",
       "      <td>Prenol lipids</td>\n",
       "      <td>[0.34851214, 3.2085502, -0.1975606, 0.06998302...</td>\n",
       "      <td>[0.28839505, 1.744373, -0.14316656, -9.870529e...</td>\n",
       "      <td>[0.1570637440121694, 2.022003197058803, 0.1190...</td>\n",
       "      <td>[0.07726268614751708, 1.7868799202767538, 0.86...</td>\n",
       "    </tr>\n",
       "  </tbody>\n",
       "</table>\n",
       "</div>"
      ],
      "text/plain": [
       "                                                  smiles  \\\n",
       "18308                 CC1(CCCCC1)C(=O)Nc2ccc(c(c2Cl)Cl)O   \n",
       "16161  [H]N1C(=O)C([H])(C([H])([H])[H])C([H])(OC(=O)C...   \n",
       "39960  CC1(C)CC[C@]2(C(=O)O)CC[C@]3(C)C(=CCC4[C@@]5(C...   \n",
       "\n",
       "                         inchi_key      inchikey14       spec_id  \\\n",
       "18308  VDLGAVXLJYLFDH-UHFFFAOYSA-N  VDLGAVXLJYLFDH  spec_id16769   \n",
       "16161  VJYQPLSJYQMFHT-UHFFFAOYSA-N  VJYQPLSJYQMFHT  spec_id14610   \n",
       "39960  IFIQVSCCFRXSJV-ZIZFEDMCSA-N  IFIQVSCCFRXSJV  spec_id39624   \n",
       "\n",
       "                                                spec2vec  \\\n",
       "18308  [28.992814519957395, 9.93094121359686, -16.288...   \n",
       "16161  [7.295793570022209, 5.1959969017812835, 22.963...   \n",
       "39960  [-56.619995935564326, -47.180565266411406, -28...   \n",
       "\n",
       "                                                   ms2ds  \\\n",
       "18308  [24.41728973388672, 18.567832946777344, 0.9911...   \n",
       "16161  [0.0, 0.0, 9.470010757446289, 54.8682708740234...   \n",
       "39960  [0.0, 28.782299041748047, 21.592288970947266, ...   \n",
       "\n",
       "                                                 mol2vec  \\\n",
       "18308  [1.1145527, -1.4718719, -1.1575501, 1.5242243,...   \n",
       "16161  [3.5072234, -8.692439, -8.4471245, 5.7731876, ...   \n",
       "39960  [-7.1055846, -1.823768, -5.0916753, -5.6632137...   \n",
       "\n",
       "                                  cf_class  \\\n",
       "18308  Benzene and substituted derivatives   \n",
       "16161                      Peptidomimetics   \n",
       "39960                        Prenol lipids   \n",
       "\n",
       "                                              sdl_768_z1  \\\n",
       "18308  [-0.028206334, -0.58697754, -0.27564368, 0.387...   \n",
       "16161  [1.4329386, -0.23577894, 0.42023522, 0.1479506...   \n",
       "39960  [0.34851214, 3.2085502, -0.1975606, 0.06998302...   \n",
       "\n",
       "                                              sdl_768_z2  \\\n",
       "18308  [0.1807306, -0.6496799, -0.6295585, 0.15014616...   \n",
       "16161  [1.5159718, 0.1765452, -0.11394979, -0.0296348...   \n",
       "39960  [0.28839505, 1.744373, -0.14316656, -9.870529e...   \n",
       "\n",
       "                                                  cca_z1  \\\n",
       "18308  [-0.18367801964301914, -0.5168160022883642, 0....   \n",
       "16161  [-0.006435331845283554, 0.058462411914186246, ...   \n",
       "39960  [0.1570637440121694, 2.022003197058803, 0.1190...   \n",
       "\n",
       "                                                  cca_z2  \n",
       "18308  [-0.1445210560271232, -0.8005949459704749, 0.4...  \n",
       "16161  [0.20256939799957618, 0.9827796658564947, 0.12...  \n",
       "39960  [0.07726268614751708, 1.7868799202767538, 0.86...  "
      ]
     },
     "execution_count": 24,
     "metadata": {},
     "output_type": "execute_result"
    }
   ],
   "source": [
    "#only worked if its cca and sdl!!!!!!!\n",
    "Models.val_df.head(3) #check that updates are okay: only worked if its cca and sdl!!!!!!!"
   ]
  },
  {
   "cell_type": "markdown",
   "id": "b03a086f",
   "metadata": {},
   "source": [
    "<h1> Train the final Model with optimised parameters<h1>"
   ]
  },
  {
   "cell_type": "code",
   "execution_count": 12,
   "id": "d63f80bf",
   "metadata": {},
   "outputs": [
    {
     "name": "stdout",
     "output_type": "stream",
     "text": [
      "\n",
      " -------------------- \n",
      " Training CCA\n",
      " --------------------\n"
     ]
    },
    {
     "name": "stderr",
     "output_type": "stream",
     "text": [
      "GPU available: False, used: False\n",
      "TPU available: False, using: 0 TPU cores\n",
      "IPU available: False, using: 0 IPUs\n",
      "HPU available: False, using: 0 HPUs\n",
      "`Trainer(val_check_interval=1)` was configured so validation will run after every batch.\n",
      "\n",
      "  | Name     | Type       | Params\n",
      "----------------------------------------\n",
      "0 | encoders | ModuleList | 852 K \n",
      "1 | mse      | MSELoss    | 0     \n",
      "2 | bns      | ModuleList | 0     \n",
      "----------------------------------------\n",
      "852 K     Trainable params\n",
      "0         Non-trainable params\n",
      "852 K     Total params\n",
      "3.409     Total estimated model params size (MB)\n"
     ]
    },
    {
     "name": "stdout",
     "output_type": "stream",
     "text": [
      "\n",
      " -------------------- \n",
      " Training SDL\n",
      " --------------------\n"
     ]
    },
    {
     "data": {
      "application/json": {
       "ascii": false,
       "bar_format": null,
       "colour": null,
       "elapsed": 0.014601469039916992,
       "initial": 0,
       "n": 0,
       "ncols": 119,
       "nrows": 29,
       "postfix": null,
       "prefix": "Sanity Checking",
       "rate": null,
       "total": null,
       "unit": "it",
       "unit_divisor": 1000,
       "unit_scale": false
      },
      "application/vnd.jupyter.widget-view+json": {
       "model_id": "",
       "version_major": 2,
       "version_minor": 0
      },
      "text/plain": [
       "Sanity Checking: 0it [00:00, ?it/s]"
      ]
     },
     "metadata": {},
     "output_type": "display_data"
    },
    {
     "data": {
      "application/json": {
       "ascii": false,
       "bar_format": null,
       "colour": null,
       "elapsed": 0.01562976837158203,
       "initial": 0,
       "n": 0,
       "ncols": 119,
       "nrows": 29,
       "postfix": null,
       "prefix": "Training",
       "rate": null,
       "total": null,
       "unit": "it",
       "unit_divisor": 1000,
       "unit_scale": false
      },
      "application/vnd.jupyter.widget-view+json": {
       "model_id": "1cb71495d0fe48eaa536613545261e3f",
       "version_major": 2,
       "version_minor": 0
      },
      "text/plain": [
       "Training: 0it [00:00, ?it/s]"
      ]
     },
     "metadata": {},
     "output_type": "display_data"
    },
    {
     "data": {
      "application/json": {
       "ascii": false,
       "bar_format": null,
       "colour": null,
       "elapsed": 0.01563096046447754,
       "initial": 0,
       "n": 0,
       "ncols": 119,
       "nrows": 29,
       "postfix": null,
       "prefix": "Validation",
       "rate": null,
       "total": null,
       "unit": "it",
       "unit_divisor": 1000,
       "unit_scale": false
      },
      "application/vnd.jupyter.widget-view+json": {
       "model_id": "",
       "version_major": 2,
       "version_minor": 0
      },
      "text/plain": [
       "Validation: 0it [00:00, ?it/s]"
      ]
     },
     "metadata": {},
     "output_type": "display_data"
    },
    {
     "data": {
      "application/json": {
       "ascii": false,
       "bar_format": null,
       "colour": null,
       "elapsed": 0.011019468307495117,
       "initial": 0,
       "n": 0,
       "ncols": 119,
       "nrows": 29,
       "postfix": null,
       "prefix": "Validation",
       "rate": null,
       "total": null,
       "unit": "it",
       "unit_divisor": 1000,
       "unit_scale": false
      },
      "application/vnd.jupyter.widget-view+json": {
       "model_id": "",
       "version_major": 2,
       "version_minor": 0
      },
      "text/plain": [
       "Validation: 0it [00:00, ?it/s]"
      ]
     },
     "metadata": {},
     "output_type": "display_data"
    },
    {
     "data": {
      "application/json": {
       "ascii": false,
       "bar_format": null,
       "colour": null,
       "elapsed": 0.022484302520751953,
       "initial": 0,
       "n": 0,
       "ncols": 119,
       "nrows": 29,
       "postfix": null,
       "prefix": "Validation",
       "rate": null,
       "total": null,
       "unit": "it",
       "unit_divisor": 1000,
       "unit_scale": false
      },
      "application/vnd.jupyter.widget-view+json": {
       "model_id": "",
       "version_major": 2,
       "version_minor": 0
      },
      "text/plain": [
       "Validation: 0it [00:00, ?it/s]"
      ]
     },
     "metadata": {},
     "output_type": "display_data"
    },
    {
     "data": {
      "application/json": {
       "ascii": false,
       "bar_format": null,
       "colour": null,
       "elapsed": 0.01564955711364746,
       "initial": 0,
       "n": 0,
       "ncols": 119,
       "nrows": 29,
       "postfix": null,
       "prefix": "Validation",
       "rate": null,
       "total": null,
       "unit": "it",
       "unit_divisor": 1000,
       "unit_scale": false
      },
      "application/vnd.jupyter.widget-view+json": {
       "model_id": "",
       "version_major": 2,
       "version_minor": 0
      },
      "text/plain": [
       "Validation: 0it [00:00, ?it/s]"
      ]
     },
     "metadata": {},
     "output_type": "display_data"
    },
    {
     "data": {
      "application/json": {
       "ascii": false,
       "bar_format": null,
       "colour": null,
       "elapsed": 0.01559901237487793,
       "initial": 0,
       "n": 0,
       "ncols": 119,
       "nrows": 29,
       "postfix": null,
       "prefix": "Validation",
       "rate": null,
       "total": null,
       "unit": "it",
       "unit_divisor": 1000,
       "unit_scale": false
      },
      "application/vnd.jupyter.widget-view+json": {
       "model_id": "",
       "version_major": 2,
       "version_minor": 0
      },
      "text/plain": [
       "Validation: 0it [00:00, ?it/s]"
      ]
     },
     "metadata": {},
     "output_type": "display_data"
    },
    {
     "data": {
      "application/json": {
       "ascii": false,
       "bar_format": null,
       "colour": null,
       "elapsed": 0.015044450759887695,
       "initial": 0,
       "n": 0,
       "ncols": 119,
       "nrows": 29,
       "postfix": null,
       "prefix": "Validation",
       "rate": null,
       "total": null,
       "unit": "it",
       "unit_divisor": 1000,
       "unit_scale": false
      },
      "application/vnd.jupyter.widget-view+json": {
       "model_id": "",
       "version_major": 2,
       "version_minor": 0
      },
      "text/plain": [
       "Validation: 0it [00:00, ?it/s]"
      ]
     },
     "metadata": {},
     "output_type": "display_data"
    },
    {
     "data": {
      "application/json": {
       "ascii": false,
       "bar_format": null,
       "colour": null,
       "elapsed": 0.015624284744262695,
       "initial": 0,
       "n": 0,
       "ncols": 119,
       "nrows": 29,
       "postfix": null,
       "prefix": "Validation",
       "rate": null,
       "total": null,
       "unit": "it",
       "unit_divisor": 1000,
       "unit_scale": false
      },
      "application/vnd.jupyter.widget-view+json": {
       "model_id": "",
       "version_major": 2,
       "version_minor": 0
      },
      "text/plain": [
       "Validation: 0it [00:00, ?it/s]"
      ]
     },
     "metadata": {},
     "output_type": "display_data"
    },
    {
     "data": {
      "application/json": {
       "ascii": false,
       "bar_format": null,
       "colour": null,
       "elapsed": 0,
       "initial": 0,
       "n": 0,
       "ncols": 119,
       "nrows": 29,
       "postfix": null,
       "prefix": "Validation",
       "rate": null,
       "total": null,
       "unit": "it",
       "unit_divisor": 1000,
       "unit_scale": false
      },
      "application/vnd.jupyter.widget-view+json": {
       "model_id": "",
       "version_major": 2,
       "version_minor": 0
      },
      "text/plain": [
       "Validation: 0it [00:00, ?it/s]"
      ]
     },
     "metadata": {},
     "output_type": "display_data"
    },
    {
     "data": {
      "application/json": {
       "ascii": false,
       "bar_format": null,
       "colour": null,
       "elapsed": 0.015650510787963867,
       "initial": 0,
       "n": 0,
       "ncols": 119,
       "nrows": 29,
       "postfix": null,
       "prefix": "Validation",
       "rate": null,
       "total": null,
       "unit": "it",
       "unit_divisor": 1000,
       "unit_scale": false
      },
      "application/vnd.jupyter.widget-view+json": {
       "model_id": "",
       "version_major": 2,
       "version_minor": 0
      },
      "text/plain": [
       "Validation: 0it [00:00, ?it/s]"
      ]
     },
     "metadata": {},
     "output_type": "display_data"
    },
    {
     "data": {
      "application/json": {
       "ascii": false,
       "bar_format": null,
       "colour": null,
       "elapsed": 0,
       "initial": 0,
       "n": 0,
       "ncols": 119,
       "nrows": 29,
       "postfix": null,
       "prefix": "Validation",
       "rate": null,
       "total": null,
       "unit": "it",
       "unit_divisor": 1000,
       "unit_scale": false
      },
      "application/vnd.jupyter.widget-view+json": {
       "model_id": "",
       "version_major": 2,
       "version_minor": 0
      },
      "text/plain": [
       "Validation: 0it [00:00, ?it/s]"
      ]
     },
     "metadata": {},
     "output_type": "display_data"
    },
    {
     "data": {
      "application/json": {
       "ascii": false,
       "bar_format": null,
       "colour": null,
       "elapsed": 0,
       "initial": 0,
       "n": 0,
       "ncols": 119,
       "nrows": 29,
       "postfix": null,
       "prefix": "Validation",
       "rate": null,
       "total": null,
       "unit": "it",
       "unit_divisor": 1000,
       "unit_scale": false
      },
      "application/vnd.jupyter.widget-view+json": {
       "model_id": "",
       "version_major": 2,
       "version_minor": 0
      },
      "text/plain": [
       "Validation: 0it [00:00, ?it/s]"
      ]
     },
     "metadata": {},
     "output_type": "display_data"
    },
    {
     "data": {
      "application/json": {
       "ascii": false,
       "bar_format": null,
       "colour": null,
       "elapsed": 0.015627622604370117,
       "initial": 0,
       "n": 0,
       "ncols": 119,
       "nrows": 29,
       "postfix": null,
       "prefix": "Validation",
       "rate": null,
       "total": null,
       "unit": "it",
       "unit_divisor": 1000,
       "unit_scale": false
      },
      "application/vnd.jupyter.widget-view+json": {
       "model_id": "",
       "version_major": 2,
       "version_minor": 0
      },
      "text/plain": [
       "Validation: 0it [00:00, ?it/s]"
      ]
     },
     "metadata": {},
     "output_type": "display_data"
    },
    {
     "data": {
      "application/json": {
       "ascii": false,
       "bar_format": null,
       "colour": null,
       "elapsed": 0.016037464141845703,
       "initial": 0,
       "n": 0,
       "ncols": 119,
       "nrows": 29,
       "postfix": null,
       "prefix": "Validation",
       "rate": null,
       "total": null,
       "unit": "it",
       "unit_divisor": 1000,
       "unit_scale": false
      },
      "application/vnd.jupyter.widget-view+json": {
       "model_id": "",
       "version_major": 2,
       "version_minor": 0
      },
      "text/plain": [
       "Validation: 0it [00:00, ?it/s]"
      ]
     },
     "metadata": {},
     "output_type": "display_data"
    },
    {
     "data": {
      "application/json": {
       "ascii": false,
       "bar_format": null,
       "colour": null,
       "elapsed": 0.02050638198852539,
       "initial": 0,
       "n": 0,
       "ncols": 119,
       "nrows": 29,
       "postfix": null,
       "prefix": "Validation",
       "rate": null,
       "total": null,
       "unit": "it",
       "unit_divisor": 1000,
       "unit_scale": false
      },
      "application/vnd.jupyter.widget-view+json": {
       "model_id": "",
       "version_major": 2,
       "version_minor": 0
      },
      "text/plain": [
       "Validation: 0it [00:00, ?it/s]"
      ]
     },
     "metadata": {},
     "output_type": "display_data"
    },
    {
     "data": {
      "application/json": {
       "ascii": false,
       "bar_format": null,
       "colour": null,
       "elapsed": 0.015608787536621094,
       "initial": 0,
       "n": 0,
       "ncols": 119,
       "nrows": 29,
       "postfix": null,
       "prefix": "Validation",
       "rate": null,
       "total": null,
       "unit": "it",
       "unit_divisor": 1000,
       "unit_scale": false
      },
      "application/vnd.jupyter.widget-view+json": {
       "model_id": "",
       "version_major": 2,
       "version_minor": 0
      },
      "text/plain": [
       "Validation: 0it [00:00, ?it/s]"
      ]
     },
     "metadata": {},
     "output_type": "display_data"
    },
    {
     "data": {
      "application/json": {
       "ascii": false,
       "bar_format": null,
       "colour": null,
       "elapsed": 0.015649795532226562,
       "initial": 0,
       "n": 0,
       "ncols": 119,
       "nrows": 29,
       "postfix": null,
       "prefix": "Validation",
       "rate": null,
       "total": null,
       "unit": "it",
       "unit_divisor": 1000,
       "unit_scale": false
      },
      "application/vnd.jupyter.widget-view+json": {
       "model_id": "",
       "version_major": 2,
       "version_minor": 0
      },
      "text/plain": [
       "Validation: 0it [00:00, ?it/s]"
      ]
     },
     "metadata": {},
     "output_type": "display_data"
    },
    {
     "data": {
      "application/json": {
       "ascii": false,
       "bar_format": null,
       "colour": null,
       "elapsed": 0.01561117172241211,
       "initial": 0,
       "n": 0,
       "ncols": 119,
       "nrows": 29,
       "postfix": null,
       "prefix": "Validation",
       "rate": null,
       "total": null,
       "unit": "it",
       "unit_divisor": 1000,
       "unit_scale": false
      },
      "application/vnd.jupyter.widget-view+json": {
       "model_id": "",
       "version_major": 2,
       "version_minor": 0
      },
      "text/plain": [
       "Validation: 0it [00:00, ?it/s]"
      ]
     },
     "metadata": {},
     "output_type": "display_data"
    },
    {
     "data": {
      "application/json": {
       "ascii": false,
       "bar_format": null,
       "colour": null,
       "elapsed": 0.008020639419555664,
       "initial": 0,
       "n": 0,
       "ncols": 119,
       "nrows": 29,
       "postfix": null,
       "prefix": "Validation",
       "rate": null,
       "total": null,
       "unit": "it",
       "unit_divisor": 1000,
       "unit_scale": false
      },
      "application/vnd.jupyter.widget-view+json": {
       "model_id": "",
       "version_major": 2,
       "version_minor": 0
      },
      "text/plain": [
       "Validation: 0it [00:00, ?it/s]"
      ]
     },
     "metadata": {},
     "output_type": "display_data"
    },
    {
     "data": {
      "application/json": {
       "ascii": false,
       "bar_format": null,
       "colour": null,
       "elapsed": 0.015604972839355469,
       "initial": 0,
       "n": 0,
       "ncols": 119,
       "nrows": 29,
       "postfix": null,
       "prefix": "Validation",
       "rate": null,
       "total": null,
       "unit": "it",
       "unit_divisor": 1000,
       "unit_scale": false
      },
      "application/vnd.jupyter.widget-view+json": {
       "model_id": "",
       "version_major": 2,
       "version_minor": 0
      },
      "text/plain": [
       "Validation: 0it [00:00, ?it/s]"
      ]
     },
     "metadata": {},
     "output_type": "display_data"
    },
    {
     "data": {
      "application/json": {
       "ascii": false,
       "bar_format": null,
       "colour": null,
       "elapsed": 0.015616178512573242,
       "initial": 0,
       "n": 0,
       "ncols": 119,
       "nrows": 29,
       "postfix": null,
       "prefix": "Validation",
       "rate": null,
       "total": null,
       "unit": "it",
       "unit_divisor": 1000,
       "unit_scale": false
      },
      "application/vnd.jupyter.widget-view+json": {
       "model_id": "",
       "version_major": 2,
       "version_minor": 0
      },
      "text/plain": [
       "Validation: 0it [00:00, ?it/s]"
      ]
     },
     "metadata": {},
     "output_type": "display_data"
    },
    {
     "data": {
      "application/json": {
       "ascii": false,
       "bar_format": null,
       "colour": null,
       "elapsed": 0.015653133392333984,
       "initial": 0,
       "n": 0,
       "ncols": 119,
       "nrows": 29,
       "postfix": null,
       "prefix": "Validation",
       "rate": null,
       "total": null,
       "unit": "it",
       "unit_divisor": 1000,
       "unit_scale": false
      },
      "application/vnd.jupyter.widget-view+json": {
       "model_id": "",
       "version_major": 2,
       "version_minor": 0
      },
      "text/plain": [
       "Validation: 0it [00:00, ?it/s]"
      ]
     },
     "metadata": {},
     "output_type": "display_data"
    },
    {
     "data": {
      "application/json": {
       "ascii": false,
       "bar_format": null,
       "colour": null,
       "elapsed": 0.015627384185791016,
       "initial": 0,
       "n": 0,
       "ncols": 119,
       "nrows": 29,
       "postfix": null,
       "prefix": "Validation",
       "rate": null,
       "total": null,
       "unit": "it",
       "unit_divisor": 1000,
       "unit_scale": false
      },
      "application/vnd.jupyter.widget-view+json": {
       "model_id": "",
       "version_major": 2,
       "version_minor": 0
      },
      "text/plain": [
       "Validation: 0it [00:00, ?it/s]"
      ]
     },
     "metadata": {},
     "output_type": "display_data"
    },
    {
     "data": {
      "application/json": {
       "ascii": false,
       "bar_format": null,
       "colour": null,
       "elapsed": 0.013518810272216797,
       "initial": 0,
       "n": 0,
       "ncols": 119,
       "nrows": 29,
       "postfix": null,
       "prefix": "Validation",
       "rate": null,
       "total": null,
       "unit": "it",
       "unit_divisor": 1000,
       "unit_scale": false
      },
      "application/vnd.jupyter.widget-view+json": {
       "model_id": "",
       "version_major": 2,
       "version_minor": 0
      },
      "text/plain": [
       "Validation: 0it [00:00, ?it/s]"
      ]
     },
     "metadata": {},
     "output_type": "display_data"
    },
    {
     "data": {
      "application/json": {
       "ascii": false,
       "bar_format": null,
       "colour": null,
       "elapsed": 0.015625,
       "initial": 0,
       "n": 0,
       "ncols": 119,
       "nrows": 29,
       "postfix": null,
       "prefix": "Validation",
       "rate": null,
       "total": null,
       "unit": "it",
       "unit_divisor": 1000,
       "unit_scale": false
      },
      "application/vnd.jupyter.widget-view+json": {
       "model_id": "",
       "version_major": 2,
       "version_minor": 0
      },
      "text/plain": [
       "Validation: 0it [00:00, ?it/s]"
      ]
     },
     "metadata": {},
     "output_type": "display_data"
    },
    {
     "data": {
      "application/json": {
       "ascii": false,
       "bar_format": null,
       "colour": null,
       "elapsed": 0.02063918113708496,
       "initial": 0,
       "n": 0,
       "ncols": 119,
       "nrows": 29,
       "postfix": null,
       "prefix": "Validation",
       "rate": null,
       "total": null,
       "unit": "it",
       "unit_divisor": 1000,
       "unit_scale": false
      },
      "application/vnd.jupyter.widget-view+json": {
       "model_id": "",
       "version_major": 2,
       "version_minor": 0
      },
      "text/plain": [
       "Validation: 0it [00:00, ?it/s]"
      ]
     },
     "metadata": {},
     "output_type": "display_data"
    },
    {
     "data": {
      "application/json": {
       "ascii": false,
       "bar_format": null,
       "colour": null,
       "elapsed": 0.015620708465576172,
       "initial": 0,
       "n": 0,
       "ncols": 119,
       "nrows": 29,
       "postfix": null,
       "prefix": "Validation",
       "rate": null,
       "total": null,
       "unit": "it",
       "unit_divisor": 1000,
       "unit_scale": false
      },
      "application/vnd.jupyter.widget-view+json": {
       "model_id": "",
       "version_major": 2,
       "version_minor": 0
      },
      "text/plain": [
       "Validation: 0it [00:00, ?it/s]"
      ]
     },
     "metadata": {},
     "output_type": "display_data"
    },
    {
     "data": {
      "application/json": {
       "ascii": false,
       "bar_format": null,
       "colour": null,
       "elapsed": 0,
       "initial": 0,
       "n": 0,
       "ncols": 119,
       "nrows": 29,
       "postfix": null,
       "prefix": "Validation",
       "rate": null,
       "total": null,
       "unit": "it",
       "unit_divisor": 1000,
       "unit_scale": false
      },
      "application/vnd.jupyter.widget-view+json": {
       "model_id": "",
       "version_major": 2,
       "version_minor": 0
      },
      "text/plain": [
       "Validation: 0it [00:00, ?it/s]"
      ]
     },
     "metadata": {},
     "output_type": "display_data"
    },
    {
     "data": {
      "application/json": {
       "ascii": false,
       "bar_format": null,
       "colour": null,
       "elapsed": 0,
       "initial": 0,
       "n": 0,
       "ncols": 119,
       "nrows": 29,
       "postfix": null,
       "prefix": "Validation",
       "rate": null,
       "total": null,
       "unit": "it",
       "unit_divisor": 1000,
       "unit_scale": false
      },
      "application/vnd.jupyter.widget-view+json": {
       "model_id": "",
       "version_major": 2,
       "version_minor": 0
      },
      "text/plain": [
       "Validation: 0it [00:00, ?it/s]"
      ]
     },
     "metadata": {},
     "output_type": "display_data"
    },
    {
     "data": {
      "application/json": {
       "ascii": false,
       "bar_format": null,
       "colour": null,
       "elapsed": 0.015625476837158203,
       "initial": 0,
       "n": 0,
       "ncols": 119,
       "nrows": 29,
       "postfix": null,
       "prefix": "Validation",
       "rate": null,
       "total": null,
       "unit": "it",
       "unit_divisor": 1000,
       "unit_scale": false
      },
      "application/vnd.jupyter.widget-view+json": {
       "model_id": "",
       "version_major": 2,
       "version_minor": 0
      },
      "text/plain": [
       "Validation: 0it [00:00, ?it/s]"
      ]
     },
     "metadata": {},
     "output_type": "display_data"
    },
    {
     "data": {
      "application/json": {
       "ascii": false,
       "bar_format": null,
       "colour": null,
       "elapsed": 0.015612602233886719,
       "initial": 0,
       "n": 0,
       "ncols": 119,
       "nrows": 29,
       "postfix": null,
       "prefix": "Validation",
       "rate": null,
       "total": null,
       "unit": "it",
       "unit_divisor": 1000,
       "unit_scale": false
      },
      "application/vnd.jupyter.widget-view+json": {
       "model_id": "",
       "version_major": 2,
       "version_minor": 0
      },
      "text/plain": [
       "Validation: 0it [00:00, ?it/s]"
      ]
     },
     "metadata": {},
     "output_type": "display_data"
    },
    {
     "data": {
      "application/json": {
       "ascii": false,
       "bar_format": null,
       "colour": null,
       "elapsed": 0.01565384864807129,
       "initial": 0,
       "n": 0,
       "ncols": 119,
       "nrows": 29,
       "postfix": null,
       "prefix": "Validation",
       "rate": null,
       "total": null,
       "unit": "it",
       "unit_divisor": 1000,
       "unit_scale": false
      },
      "application/vnd.jupyter.widget-view+json": {
       "model_id": "",
       "version_major": 2,
       "version_minor": 0
      },
      "text/plain": [
       "Validation: 0it [00:00, ?it/s]"
      ]
     },
     "metadata": {},
     "output_type": "display_data"
    },
    {
     "data": {
      "application/json": {
       "ascii": false,
       "bar_format": null,
       "colour": null,
       "elapsed": 0.015016555786132812,
       "initial": 0,
       "n": 0,
       "ncols": 119,
       "nrows": 29,
       "postfix": null,
       "prefix": "Validation",
       "rate": null,
       "total": null,
       "unit": "it",
       "unit_divisor": 1000,
       "unit_scale": false
      },
      "application/vnd.jupyter.widget-view+json": {
       "model_id": "",
       "version_major": 2,
       "version_minor": 0
      },
      "text/plain": [
       "Validation: 0it [00:00, ?it/s]"
      ]
     },
     "metadata": {},
     "output_type": "display_data"
    },
    {
     "data": {
      "application/json": {
       "ascii": false,
       "bar_format": null,
       "colour": null,
       "elapsed": 0.0025191307067871094,
       "initial": 0,
       "n": 0,
       "ncols": 119,
       "nrows": 29,
       "postfix": null,
       "prefix": "Validation",
       "rate": null,
       "total": null,
       "unit": "it",
       "unit_divisor": 1000,
       "unit_scale": false
      },
      "application/vnd.jupyter.widget-view+json": {
       "model_id": "",
       "version_major": 2,
       "version_minor": 0
      },
      "text/plain": [
       "Validation: 0it [00:00, ?it/s]"
      ]
     },
     "metadata": {},
     "output_type": "display_data"
    },
    {
     "data": {
      "application/json": {
       "ascii": false,
       "bar_format": null,
       "colour": null,
       "elapsed": 0.01561880111694336,
       "initial": 0,
       "n": 0,
       "ncols": 119,
       "nrows": 29,
       "postfix": null,
       "prefix": "Validation",
       "rate": null,
       "total": null,
       "unit": "it",
       "unit_divisor": 1000,
       "unit_scale": false
      },
      "application/vnd.jupyter.widget-view+json": {
       "model_id": "",
       "version_major": 2,
       "version_minor": 0
      },
      "text/plain": [
       "Validation: 0it [00:00, ?it/s]"
      ]
     },
     "metadata": {},
     "output_type": "display_data"
    },
    {
     "data": {
      "application/json": {
       "ascii": false,
       "bar_format": null,
       "colour": null,
       "elapsed": 0,
       "initial": 0,
       "n": 0,
       "ncols": 119,
       "nrows": 29,
       "postfix": null,
       "prefix": "Validation",
       "rate": null,
       "total": null,
       "unit": "it",
       "unit_divisor": 1000,
       "unit_scale": false
      },
      "application/vnd.jupyter.widget-view+json": {
       "model_id": "",
       "version_major": 2,
       "version_minor": 0
      },
      "text/plain": [
       "Validation: 0it [00:00, ?it/s]"
      ]
     },
     "metadata": {},
     "output_type": "display_data"
    },
    {
     "data": {
      "application/json": {
       "ascii": false,
       "bar_format": null,
       "colour": null,
       "elapsed": 0,
       "initial": 0,
       "n": 0,
       "ncols": 119,
       "nrows": 29,
       "postfix": null,
       "prefix": "Validation",
       "rate": null,
       "total": null,
       "unit": "it",
       "unit_divisor": 1000,
       "unit_scale": false
      },
      "application/vnd.jupyter.widget-view+json": {
       "model_id": "",
       "version_major": 2,
       "version_minor": 0
      },
      "text/plain": [
       "Validation: 0it [00:00, ?it/s]"
      ]
     },
     "metadata": {},
     "output_type": "display_data"
    },
    {
     "data": {
      "application/json": {
       "ascii": false,
       "bar_format": null,
       "colour": null,
       "elapsed": 0.015658855438232422,
       "initial": 0,
       "n": 0,
       "ncols": 119,
       "nrows": 29,
       "postfix": null,
       "prefix": "Validation",
       "rate": null,
       "total": null,
       "unit": "it",
       "unit_divisor": 1000,
       "unit_scale": false
      },
      "application/vnd.jupyter.widget-view+json": {
       "model_id": "",
       "version_major": 2,
       "version_minor": 0
      },
      "text/plain": [
       "Validation: 0it [00:00, ?it/s]"
      ]
     },
     "metadata": {},
     "output_type": "display_data"
    },
    {
     "data": {
      "application/json": {
       "ascii": false,
       "bar_format": null,
       "colour": null,
       "elapsed": 0.015650272369384766,
       "initial": 0,
       "n": 0,
       "ncols": 119,
       "nrows": 29,
       "postfix": null,
       "prefix": "Validation",
       "rate": null,
       "total": null,
       "unit": "it",
       "unit_divisor": 1000,
       "unit_scale": false
      },
      "application/vnd.jupyter.widget-view+json": {
       "model_id": "",
       "version_major": 2,
       "version_minor": 0
      },
      "text/plain": [
       "Validation: 0it [00:00, ?it/s]"
      ]
     },
     "metadata": {},
     "output_type": "display_data"
    },
    {
     "data": {
      "application/json": {
       "ascii": false,
       "bar_format": null,
       "colour": null,
       "elapsed": 0.015618562698364258,
       "initial": 0,
       "n": 0,
       "ncols": 119,
       "nrows": 29,
       "postfix": null,
       "prefix": "Validation",
       "rate": null,
       "total": null,
       "unit": "it",
       "unit_divisor": 1000,
       "unit_scale": false
      },
      "application/vnd.jupyter.widget-view+json": {
       "model_id": "",
       "version_major": 2,
       "version_minor": 0
      },
      "text/plain": [
       "Validation: 0it [00:00, ?it/s]"
      ]
     },
     "metadata": {},
     "output_type": "display_data"
    },
    {
     "data": {
      "application/json": {
       "ascii": false,
       "bar_format": null,
       "colour": null,
       "elapsed": 0.005021095275878906,
       "initial": 0,
       "n": 0,
       "ncols": 119,
       "nrows": 29,
       "postfix": null,
       "prefix": "Validation",
       "rate": null,
       "total": null,
       "unit": "it",
       "unit_divisor": 1000,
       "unit_scale": false
      },
      "application/vnd.jupyter.widget-view+json": {
       "model_id": "",
       "version_major": 2,
       "version_minor": 0
      },
      "text/plain": [
       "Validation: 0it [00:00, ?it/s]"
      ]
     },
     "metadata": {},
     "output_type": "display_data"
    },
    {
     "data": {
      "application/json": {
       "ascii": false,
       "bar_format": null,
       "colour": null,
       "elapsed": 0,
       "initial": 0,
       "n": 0,
       "ncols": 119,
       "nrows": 29,
       "postfix": null,
       "prefix": "Validation",
       "rate": null,
       "total": null,
       "unit": "it",
       "unit_divisor": 1000,
       "unit_scale": false
      },
      "application/vnd.jupyter.widget-view+json": {
       "model_id": "",
       "version_major": 2,
       "version_minor": 0
      },
      "text/plain": [
       "Validation: 0it [00:00, ?it/s]"
      ]
     },
     "metadata": {},
     "output_type": "display_data"
    },
    {
     "data": {
      "application/json": {
       "ascii": false,
       "bar_format": null,
       "colour": null,
       "elapsed": 0.016038179397583008,
       "initial": 0,
       "n": 0,
       "ncols": 119,
       "nrows": 29,
       "postfix": null,
       "prefix": "Validation",
       "rate": null,
       "total": null,
       "unit": "it",
       "unit_divisor": 1000,
       "unit_scale": false
      },
      "application/vnd.jupyter.widget-view+json": {
       "model_id": "",
       "version_major": 2,
       "version_minor": 0
      },
      "text/plain": [
       "Validation: 0it [00:00, ?it/s]"
      ]
     },
     "metadata": {},
     "output_type": "display_data"
    },
    {
     "data": {
      "application/json": {
       "ascii": false,
       "bar_format": null,
       "colour": null,
       "elapsed": 0.015611886978149414,
       "initial": 0,
       "n": 0,
       "ncols": 119,
       "nrows": 29,
       "postfix": null,
       "prefix": "Validation",
       "rate": null,
       "total": null,
       "unit": "it",
       "unit_divisor": 1000,
       "unit_scale": false
      },
      "application/vnd.jupyter.widget-view+json": {
       "model_id": "",
       "version_major": 2,
       "version_minor": 0
      },
      "text/plain": [
       "Validation: 0it [00:00, ?it/s]"
      ]
     },
     "metadata": {},
     "output_type": "display_data"
    },
    {
     "data": {
      "application/json": {
       "ascii": false,
       "bar_format": null,
       "colour": null,
       "elapsed": 0.015620708465576172,
       "initial": 0,
       "n": 0,
       "ncols": 119,
       "nrows": 29,
       "postfix": null,
       "prefix": "Validation",
       "rate": null,
       "total": null,
       "unit": "it",
       "unit_divisor": 1000,
       "unit_scale": false
      },
      "application/vnd.jupyter.widget-view+json": {
       "model_id": "",
       "version_major": 2,
       "version_minor": 0
      },
      "text/plain": [
       "Validation: 0it [00:00, ?it/s]"
      ]
     },
     "metadata": {},
     "output_type": "display_data"
    },
    {
     "data": {
      "application/json": {
       "ascii": false,
       "bar_format": null,
       "colour": null,
       "elapsed": 0.015654563903808594,
       "initial": 0,
       "n": 0,
       "ncols": 119,
       "nrows": 29,
       "postfix": null,
       "prefix": "Validation",
       "rate": null,
       "total": null,
       "unit": "it",
       "unit_divisor": 1000,
       "unit_scale": false
      },
      "application/vnd.jupyter.widget-view+json": {
       "model_id": "",
       "version_major": 2,
       "version_minor": 0
      },
      "text/plain": [
       "Validation: 0it [00:00, ?it/s]"
      ]
     },
     "metadata": {},
     "output_type": "display_data"
    },
    {
     "data": {
      "application/json": {
       "ascii": false,
       "bar_format": null,
       "colour": null,
       "elapsed": 0.015619039535522461,
       "initial": 0,
       "n": 0,
       "ncols": 119,
       "nrows": 29,
       "postfix": null,
       "prefix": "Validation",
       "rate": null,
       "total": null,
       "unit": "it",
       "unit_divisor": 1000,
       "unit_scale": false
      },
      "application/vnd.jupyter.widget-view+json": {
       "model_id": "",
       "version_major": 2,
       "version_minor": 0
      },
      "text/plain": [
       "Validation: 0it [00:00, ?it/s]"
      ]
     },
     "metadata": {},
     "output_type": "display_data"
    },
    {
     "data": {
      "application/json": {
       "ascii": false,
       "bar_format": null,
       "colour": null,
       "elapsed": 0,
       "initial": 0,
       "n": 0,
       "ncols": 119,
       "nrows": 29,
       "postfix": null,
       "prefix": "Validation",
       "rate": null,
       "total": null,
       "unit": "it",
       "unit_divisor": 1000,
       "unit_scale": false
      },
      "application/vnd.jupyter.widget-view+json": {
       "model_id": "",
       "version_major": 2,
       "version_minor": 0
      },
      "text/plain": [
       "Validation: 0it [00:00, ?it/s]"
      ]
     },
     "metadata": {},
     "output_type": "display_data"
    },
    {
     "data": {
      "application/json": {
       "ascii": false,
       "bar_format": null,
       "colour": null,
       "elapsed": 0,
       "initial": 0,
       "n": 0,
       "ncols": 119,
       "nrows": 29,
       "postfix": null,
       "prefix": "Validation",
       "rate": null,
       "total": null,
       "unit": "it",
       "unit_divisor": 1000,
       "unit_scale": false
      },
      "application/vnd.jupyter.widget-view+json": {
       "model_id": "",
       "version_major": 2,
       "version_minor": 0
      },
      "text/plain": [
       "Validation: 0it [00:00, ?it/s]"
      ]
     },
     "metadata": {},
     "output_type": "display_data"
    },
    {
     "data": {
      "application/json": {
       "ascii": false,
       "bar_format": null,
       "colour": null,
       "elapsed": 0.016040802001953125,
       "initial": 0,
       "n": 0,
       "ncols": 119,
       "nrows": 29,
       "postfix": null,
       "prefix": "Validation",
       "rate": null,
       "total": null,
       "unit": "it",
       "unit_divisor": 1000,
       "unit_scale": false
      },
      "application/vnd.jupyter.widget-view+json": {
       "model_id": "",
       "version_major": 2,
       "version_minor": 0
      },
      "text/plain": [
       "Validation: 0it [00:00, ?it/s]"
      ]
     },
     "metadata": {},
     "output_type": "display_data"
    },
    {
     "data": {
      "application/json": {
       "ascii": false,
       "bar_format": null,
       "colour": null,
       "elapsed": 0.015617847442626953,
       "initial": 0,
       "n": 0,
       "ncols": 119,
       "nrows": 29,
       "postfix": null,
       "prefix": "Validation",
       "rate": null,
       "total": null,
       "unit": "it",
       "unit_divisor": 1000,
       "unit_scale": false
      },
      "application/vnd.jupyter.widget-view+json": {
       "model_id": "",
       "version_major": 2,
       "version_minor": 0
      },
      "text/plain": [
       "Validation: 0it [00:00, ?it/s]"
      ]
     },
     "metadata": {},
     "output_type": "display_data"
    },
    {
     "data": {
      "application/json": {
       "ascii": false,
       "bar_format": null,
       "colour": null,
       "elapsed": 0.015600919723510742,
       "initial": 0,
       "n": 0,
       "ncols": 119,
       "nrows": 29,
       "postfix": null,
       "prefix": "Validation",
       "rate": null,
       "total": null,
       "unit": "it",
       "unit_divisor": 1000,
       "unit_scale": false
      },
      "application/vnd.jupyter.widget-view+json": {
       "model_id": "",
       "version_major": 2,
       "version_minor": 0
      },
      "text/plain": [
       "Validation: 0it [00:00, ?it/s]"
      ]
     },
     "metadata": {},
     "output_type": "display_data"
    },
    {
     "data": {
      "application/json": {
       "ascii": false,
       "bar_format": null,
       "colour": null,
       "elapsed": 0,
       "initial": 0,
       "n": 0,
       "ncols": 119,
       "nrows": 29,
       "postfix": null,
       "prefix": "Validation",
       "rate": null,
       "total": null,
       "unit": "it",
       "unit_divisor": 1000,
       "unit_scale": false
      },
      "application/vnd.jupyter.widget-view+json": {
       "model_id": "",
       "version_major": 2,
       "version_minor": 0
      },
      "text/plain": [
       "Validation: 0it [00:00, ?it/s]"
      ]
     },
     "metadata": {},
     "output_type": "display_data"
    },
    {
     "data": {
      "application/json": {
       "ascii": false,
       "bar_format": null,
       "colour": null,
       "elapsed": 0.01562786102294922,
       "initial": 0,
       "n": 0,
       "ncols": 119,
       "nrows": 29,
       "postfix": null,
       "prefix": "Validation",
       "rate": null,
       "total": null,
       "unit": "it",
       "unit_divisor": 1000,
       "unit_scale": false
      },
      "application/vnd.jupyter.widget-view+json": {
       "model_id": "",
       "version_major": 2,
       "version_minor": 0
      },
      "text/plain": [
       "Validation: 0it [00:00, ?it/s]"
      ]
     },
     "metadata": {},
     "output_type": "display_data"
    },
    {
     "data": {
      "application/json": {
       "ascii": false,
       "bar_format": null,
       "colour": null,
       "elapsed": 0.01564621925354004,
       "initial": 0,
       "n": 0,
       "ncols": 119,
       "nrows": 29,
       "postfix": null,
       "prefix": "Validation",
       "rate": null,
       "total": null,
       "unit": "it",
       "unit_divisor": 1000,
       "unit_scale": false
      },
      "application/vnd.jupyter.widget-view+json": {
       "model_id": "",
       "version_major": 2,
       "version_minor": 0
      },
      "text/plain": [
       "Validation: 0it [00:00, ?it/s]"
      ]
     },
     "metadata": {},
     "output_type": "display_data"
    },
    {
     "data": {
      "application/json": {
       "ascii": false,
       "bar_format": null,
       "colour": null,
       "elapsed": 0.015613317489624023,
       "initial": 0,
       "n": 0,
       "ncols": 119,
       "nrows": 29,
       "postfix": null,
       "prefix": "Validation",
       "rate": null,
       "total": null,
       "unit": "it",
       "unit_divisor": 1000,
       "unit_scale": false
      },
      "application/vnd.jupyter.widget-view+json": {
       "model_id": "",
       "version_major": 2,
       "version_minor": 0
      },
      "text/plain": [
       "Validation: 0it [00:00, ?it/s]"
      ]
     },
     "metadata": {},
     "output_type": "display_data"
    },
    {
     "data": {
      "application/json": {
       "ascii": false,
       "bar_format": null,
       "colour": null,
       "elapsed": 0,
       "initial": 0,
       "n": 0,
       "ncols": 119,
       "nrows": 29,
       "postfix": null,
       "prefix": "Validation",
       "rate": null,
       "total": null,
       "unit": "it",
       "unit_divisor": 1000,
       "unit_scale": false
      },
      "application/vnd.jupyter.widget-view+json": {
       "model_id": "",
       "version_major": 2,
       "version_minor": 0
      },
      "text/plain": [
       "Validation: 0it [00:00, ?it/s]"
      ]
     },
     "metadata": {},
     "output_type": "display_data"
    },
    {
     "data": {
      "application/json": {
       "ascii": false,
       "bar_format": null,
       "colour": null,
       "elapsed": 0.015625476837158203,
       "initial": 0,
       "n": 0,
       "ncols": 119,
       "nrows": 29,
       "postfix": null,
       "prefix": "Validation",
       "rate": null,
       "total": null,
       "unit": "it",
       "unit_divisor": 1000,
       "unit_scale": false
      },
      "application/vnd.jupyter.widget-view+json": {
       "model_id": "",
       "version_major": 2,
       "version_minor": 0
      },
      "text/plain": [
       "Validation: 0it [00:00, ?it/s]"
      ]
     },
     "metadata": {},
     "output_type": "display_data"
    },
    {
     "data": {
      "application/json": {
       "ascii": false,
       "bar_format": null,
       "colour": null,
       "elapsed": 0.01603841781616211,
       "initial": 0,
       "n": 0,
       "ncols": 119,
       "nrows": 29,
       "postfix": null,
       "prefix": "Validation",
       "rate": null,
       "total": null,
       "unit": "it",
       "unit_divisor": 1000,
       "unit_scale": false
      },
      "application/vnd.jupyter.widget-view+json": {
       "model_id": "",
       "version_major": 2,
       "version_minor": 0
      },
      "text/plain": [
       "Validation: 0it [00:00, ?it/s]"
      ]
     },
     "metadata": {},
     "output_type": "display_data"
    },
    {
     "data": {
      "application/json": {
       "ascii": false,
       "bar_format": null,
       "colour": null,
       "elapsed": 0.01562047004699707,
       "initial": 0,
       "n": 0,
       "ncols": 119,
       "nrows": 29,
       "postfix": null,
       "prefix": "Validation",
       "rate": null,
       "total": null,
       "unit": "it",
       "unit_divisor": 1000,
       "unit_scale": false
      },
      "application/vnd.jupyter.widget-view+json": {
       "model_id": "",
       "version_major": 2,
       "version_minor": 0
      },
      "text/plain": [
       "Validation: 0it [00:00, ?it/s]"
      ]
     },
     "metadata": {},
     "output_type": "display_data"
    },
    {
     "data": {
      "application/json": {
       "ascii": false,
       "bar_format": null,
       "colour": null,
       "elapsed": 0,
       "initial": 0,
       "n": 0,
       "ncols": 119,
       "nrows": 29,
       "postfix": null,
       "prefix": "Validation",
       "rate": null,
       "total": null,
       "unit": "it",
       "unit_divisor": 1000,
       "unit_scale": false
      },
      "application/vnd.jupyter.widget-view+json": {
       "model_id": "",
       "version_major": 2,
       "version_minor": 0
      },
      "text/plain": [
       "Validation: 0it [00:00, ?it/s]"
      ]
     },
     "metadata": {},
     "output_type": "display_data"
    },
    {
     "data": {
      "application/json": {
       "ascii": false,
       "bar_format": null,
       "colour": null,
       "elapsed": 0.01561737060546875,
       "initial": 0,
       "n": 0,
       "ncols": 119,
       "nrows": 29,
       "postfix": null,
       "prefix": "Validation",
       "rate": null,
       "total": null,
       "unit": "it",
       "unit_divisor": 1000,
       "unit_scale": false
      },
      "application/vnd.jupyter.widget-view+json": {
       "model_id": "",
       "version_major": 2,
       "version_minor": 0
      },
      "text/plain": [
       "Validation: 0it [00:00, ?it/s]"
      ]
     },
     "metadata": {},
     "output_type": "display_data"
    },
    {
     "data": {
      "application/json": {
       "ascii": false,
       "bar_format": null,
       "colour": null,
       "elapsed": 0.015625,
       "initial": 0,
       "n": 0,
       "ncols": 119,
       "nrows": 29,
       "postfix": null,
       "prefix": "Validation",
       "rate": null,
       "total": null,
       "unit": "it",
       "unit_divisor": 1000,
       "unit_scale": false
      },
      "application/vnd.jupyter.widget-view+json": {
       "model_id": "",
       "version_major": 2,
       "version_minor": 0
      },
      "text/plain": [
       "Validation: 0it [00:00, ?it/s]"
      ]
     },
     "metadata": {},
     "output_type": "display_data"
    },
    {
     "data": {
      "application/json": {
       "ascii": false,
       "bar_format": null,
       "colour": null,
       "elapsed": 0.015654325485229492,
       "initial": 0,
       "n": 0,
       "ncols": 119,
       "nrows": 29,
       "postfix": null,
       "prefix": "Validation",
       "rate": null,
       "total": null,
       "unit": "it",
       "unit_divisor": 1000,
       "unit_scale": false
      },
      "application/vnd.jupyter.widget-view+json": {
       "model_id": "",
       "version_major": 2,
       "version_minor": 0
      },
      "text/plain": [
       "Validation: 0it [00:00, ?it/s]"
      ]
     },
     "metadata": {},
     "output_type": "display_data"
    },
    {
     "data": {
      "application/json": {
       "ascii": false,
       "bar_format": null,
       "colour": null,
       "elapsed": 0.01562190055847168,
       "initial": 0,
       "n": 0,
       "ncols": 119,
       "nrows": 29,
       "postfix": null,
       "prefix": "Validation",
       "rate": null,
       "total": null,
       "unit": "it",
       "unit_divisor": 1000,
       "unit_scale": false
      },
      "application/vnd.jupyter.widget-view+json": {
       "model_id": "",
       "version_major": 2,
       "version_minor": 0
      },
      "text/plain": [
       "Validation: 0it [00:00, ?it/s]"
      ]
     },
     "metadata": {},
     "output_type": "display_data"
    },
    {
     "data": {
      "application/json": {
       "ascii": false,
       "bar_format": null,
       "colour": null,
       "elapsed": 0.0065250396728515625,
       "initial": 0,
       "n": 0,
       "ncols": 119,
       "nrows": 29,
       "postfix": null,
       "prefix": "Validation",
       "rate": null,
       "total": null,
       "unit": "it",
       "unit_divisor": 1000,
       "unit_scale": false
      },
      "application/vnd.jupyter.widget-view+json": {
       "model_id": "",
       "version_major": 2,
       "version_minor": 0
      },
      "text/plain": [
       "Validation: 0it [00:00, ?it/s]"
      ]
     },
     "metadata": {},
     "output_type": "display_data"
    },
    {
     "data": {
      "application/json": {
       "ascii": false,
       "bar_format": null,
       "colour": null,
       "elapsed": 0,
       "initial": 0,
       "n": 0,
       "ncols": 119,
       "nrows": 29,
       "postfix": null,
       "prefix": "Validation",
       "rate": null,
       "total": null,
       "unit": "it",
       "unit_divisor": 1000,
       "unit_scale": false
      },
      "application/vnd.jupyter.widget-view+json": {
       "model_id": "",
       "version_major": 2,
       "version_minor": 0
      },
      "text/plain": [
       "Validation: 0it [00:00, ?it/s]"
      ]
     },
     "metadata": {},
     "output_type": "display_data"
    },
    {
     "data": {
      "application/json": {
       "ascii": false,
       "bar_format": null,
       "colour": null,
       "elapsed": 0.016031503677368164,
       "initial": 0,
       "n": 0,
       "ncols": 119,
       "nrows": 29,
       "postfix": null,
       "prefix": "Validation",
       "rate": null,
       "total": null,
       "unit": "it",
       "unit_divisor": 1000,
       "unit_scale": false
      },
      "application/vnd.jupyter.widget-view+json": {
       "model_id": "",
       "version_major": 2,
       "version_minor": 0
      },
      "text/plain": [
       "Validation: 0it [00:00, ?it/s]"
      ]
     },
     "metadata": {},
     "output_type": "display_data"
    },
    {
     "data": {
      "application/json": {
       "ascii": false,
       "bar_format": null,
       "colour": null,
       "elapsed": 0.015613794326782227,
       "initial": 0,
       "n": 0,
       "ncols": 119,
       "nrows": 29,
       "postfix": null,
       "prefix": "Validation",
       "rate": null,
       "total": null,
       "unit": "it",
       "unit_divisor": 1000,
       "unit_scale": false
      },
      "application/vnd.jupyter.widget-view+json": {
       "model_id": "",
       "version_major": 2,
       "version_minor": 0
      },
      "text/plain": [
       "Validation: 0it [00:00, ?it/s]"
      ]
     },
     "metadata": {},
     "output_type": "display_data"
    },
    {
     "data": {
      "application/json": {
       "ascii": false,
       "bar_format": null,
       "colour": null,
       "elapsed": 0.015601396560668945,
       "initial": 0,
       "n": 0,
       "ncols": 119,
       "nrows": 29,
       "postfix": null,
       "prefix": "Validation",
       "rate": null,
       "total": null,
       "unit": "it",
       "unit_divisor": 1000,
       "unit_scale": false
      },
      "application/vnd.jupyter.widget-view+json": {
       "model_id": "",
       "version_major": 2,
       "version_minor": 0
      },
      "text/plain": [
       "Validation: 0it [00:00, ?it/s]"
      ]
     },
     "metadata": {},
     "output_type": "display_data"
    },
    {
     "data": {
      "application/json": {
       "ascii": false,
       "bar_format": null,
       "colour": null,
       "elapsed": 0.015654325485229492,
       "initial": 0,
       "n": 0,
       "ncols": 119,
       "nrows": 29,
       "postfix": null,
       "prefix": "Validation",
       "rate": null,
       "total": null,
       "unit": "it",
       "unit_divisor": 1000,
       "unit_scale": false
      },
      "application/vnd.jupyter.widget-view+json": {
       "model_id": "",
       "version_major": 2,
       "version_minor": 0
      },
      "text/plain": [
       "Validation: 0it [00:00, ?it/s]"
      ]
     },
     "metadata": {},
     "output_type": "display_data"
    },
    {
     "data": {
      "application/json": {
       "ascii": false,
       "bar_format": null,
       "colour": null,
       "elapsed": 0.015619516372680664,
       "initial": 0,
       "n": 0,
       "ncols": 119,
       "nrows": 29,
       "postfix": null,
       "prefix": "Validation",
       "rate": null,
       "total": null,
       "unit": "it",
       "unit_divisor": 1000,
       "unit_scale": false
      },
      "application/vnd.jupyter.widget-view+json": {
       "model_id": "",
       "version_major": 2,
       "version_minor": 0
      },
      "text/plain": [
       "Validation: 0it [00:00, ?it/s]"
      ]
     },
     "metadata": {},
     "output_type": "display_data"
    },
    {
     "data": {
      "application/json": {
       "ascii": false,
       "bar_format": null,
       "colour": null,
       "elapsed": 0.015651941299438477,
       "initial": 0,
       "n": 0,
       "ncols": 119,
       "nrows": 29,
       "postfix": null,
       "prefix": "Validation",
       "rate": null,
       "total": null,
       "unit": "it",
       "unit_divisor": 1000,
       "unit_scale": false
      },
      "application/vnd.jupyter.widget-view+json": {
       "model_id": "",
       "version_major": 2,
       "version_minor": 0
      },
      "text/plain": [
       "Validation: 0it [00:00, ?it/s]"
      ]
     },
     "metadata": {},
     "output_type": "display_data"
    },
    {
     "data": {
      "application/json": {
       "ascii": false,
       "bar_format": null,
       "colour": null,
       "elapsed": 0.015604734420776367,
       "initial": 0,
       "n": 0,
       "ncols": 119,
       "nrows": 29,
       "postfix": null,
       "prefix": "Validation",
       "rate": null,
       "total": null,
       "unit": "it",
       "unit_divisor": 1000,
       "unit_scale": false
      },
      "application/vnd.jupyter.widget-view+json": {
       "model_id": "",
       "version_major": 2,
       "version_minor": 0
      },
      "text/plain": [
       "Validation: 0it [00:00, ?it/s]"
      ]
     },
     "metadata": {},
     "output_type": "display_data"
    },
    {
     "data": {
      "application/json": {
       "ascii": false,
       "bar_format": null,
       "colour": null,
       "elapsed": 0,
       "initial": 0,
       "n": 0,
       "ncols": 119,
       "nrows": 29,
       "postfix": null,
       "prefix": "Validation",
       "rate": null,
       "total": null,
       "unit": "it",
       "unit_divisor": 1000,
       "unit_scale": false
      },
      "application/vnd.jupyter.widget-view+json": {
       "model_id": "",
       "version_major": 2,
       "version_minor": 0
      },
      "text/plain": [
       "Validation: 0it [00:00, ?it/s]"
      ]
     },
     "metadata": {},
     "output_type": "display_data"
    },
    {
     "data": {
      "application/json": {
       "ascii": false,
       "bar_format": null,
       "colour": null,
       "elapsed": 0.01562356948852539,
       "initial": 0,
       "n": 0,
       "ncols": 119,
       "nrows": 29,
       "postfix": null,
       "prefix": "Validation",
       "rate": null,
       "total": null,
       "unit": "it",
       "unit_divisor": 1000,
       "unit_scale": false
      },
      "application/vnd.jupyter.widget-view+json": {
       "model_id": "",
       "version_major": 2,
       "version_minor": 0
      },
      "text/plain": [
       "Validation: 0it [00:00, ?it/s]"
      ]
     },
     "metadata": {},
     "output_type": "display_data"
    },
    {
     "data": {
      "application/json": {
       "ascii": false,
       "bar_format": null,
       "colour": null,
       "elapsed": 0.01565098762512207,
       "initial": 0,
       "n": 0,
       "ncols": 119,
       "nrows": 29,
       "postfix": null,
       "prefix": "Validation",
       "rate": null,
       "total": null,
       "unit": "it",
       "unit_divisor": 1000,
       "unit_scale": false
      },
      "application/vnd.jupyter.widget-view+json": {
       "model_id": "",
       "version_major": 2,
       "version_minor": 0
      },
      "text/plain": [
       "Validation: 0it [00:00, ?it/s]"
      ]
     },
     "metadata": {},
     "output_type": "display_data"
    },
    {
     "data": {
      "application/json": {
       "ascii": false,
       "bar_format": null,
       "colour": null,
       "elapsed": 0.01562643051147461,
       "initial": 0,
       "n": 0,
       "ncols": 119,
       "nrows": 29,
       "postfix": null,
       "prefix": "Validation",
       "rate": null,
       "total": null,
       "unit": "it",
       "unit_divisor": 1000,
       "unit_scale": false
      },
      "application/vnd.jupyter.widget-view+json": {
       "model_id": "",
       "version_major": 2,
       "version_minor": 0
      },
      "text/plain": [
       "Validation: 0it [00:00, ?it/s]"
      ]
     },
     "metadata": {},
     "output_type": "display_data"
    },
    {
     "data": {
      "application/json": {
       "ascii": false,
       "bar_format": null,
       "colour": null,
       "elapsed": 0.01603555679321289,
       "initial": 0,
       "n": 0,
       "ncols": 119,
       "nrows": 29,
       "postfix": null,
       "prefix": "Validation",
       "rate": null,
       "total": null,
       "unit": "it",
       "unit_divisor": 1000,
       "unit_scale": false
      },
      "application/vnd.jupyter.widget-view+json": {
       "model_id": "",
       "version_major": 2,
       "version_minor": 0
      },
      "text/plain": [
       "Validation: 0it [00:00, ?it/s]"
      ]
     },
     "metadata": {},
     "output_type": "display_data"
    },
    {
     "data": {
      "application/json": {
       "ascii": false,
       "bar_format": null,
       "colour": null,
       "elapsed": 0,
       "initial": 0,
       "n": 0,
       "ncols": 119,
       "nrows": 29,
       "postfix": null,
       "prefix": "Validation",
       "rate": null,
       "total": null,
       "unit": "it",
       "unit_divisor": 1000,
       "unit_scale": false
      },
      "application/vnd.jupyter.widget-view+json": {
       "model_id": "",
       "version_major": 2,
       "version_minor": 0
      },
      "text/plain": [
       "Validation: 0it [00:00, ?it/s]"
      ]
     },
     "metadata": {},
     "output_type": "display_data"
    },
    {
     "data": {
      "application/json": {
       "ascii": false,
       "bar_format": null,
       "colour": null,
       "elapsed": 0.016128063201904297,
       "initial": 0,
       "n": 0,
       "ncols": 119,
       "nrows": 29,
       "postfix": null,
       "prefix": "Validation",
       "rate": null,
       "total": null,
       "unit": "it",
       "unit_divisor": 1000,
       "unit_scale": false
      },
      "application/vnd.jupyter.widget-view+json": {
       "model_id": "",
       "version_major": 2,
       "version_minor": 0
      },
      "text/plain": [
       "Validation: 0it [00:00, ?it/s]"
      ]
     },
     "metadata": {},
     "output_type": "display_data"
    },
    {
     "data": {
      "application/json": {
       "ascii": false,
       "bar_format": null,
       "colour": null,
       "elapsed": 0.01560354232788086,
       "initial": 0,
       "n": 0,
       "ncols": 119,
       "nrows": 29,
       "postfix": null,
       "prefix": "Validation",
       "rate": null,
       "total": null,
       "unit": "it",
       "unit_divisor": 1000,
       "unit_scale": false
      },
      "application/vnd.jupyter.widget-view+json": {
       "model_id": "",
       "version_major": 2,
       "version_minor": 0
      },
      "text/plain": [
       "Validation: 0it [00:00, ?it/s]"
      ]
     },
     "metadata": {},
     "output_type": "display_data"
    },
    {
     "data": {
      "application/json": {
       "ascii": false,
       "bar_format": null,
       "colour": null,
       "elapsed": 0.015596866607666016,
       "initial": 0,
       "n": 0,
       "ncols": 119,
       "nrows": 29,
       "postfix": null,
       "prefix": "Validation",
       "rate": null,
       "total": null,
       "unit": "it",
       "unit_divisor": 1000,
       "unit_scale": false
      },
      "application/vnd.jupyter.widget-view+json": {
       "model_id": "",
       "version_major": 2,
       "version_minor": 0
      },
      "text/plain": [
       "Validation: 0it [00:00, ?it/s]"
      ]
     },
     "metadata": {},
     "output_type": "display_data"
    },
    {
     "data": {
      "application/json": {
       "ascii": false,
       "bar_format": null,
       "colour": null,
       "elapsed": 0,
       "initial": 0,
       "n": 0,
       "ncols": 119,
       "nrows": 29,
       "postfix": null,
       "prefix": "Validation",
       "rate": null,
       "total": null,
       "unit": "it",
       "unit_divisor": 1000,
       "unit_scale": false
      },
      "application/vnd.jupyter.widget-view+json": {
       "model_id": "",
       "version_major": 2,
       "version_minor": 0
      },
      "text/plain": [
       "Validation: 0it [00:00, ?it/s]"
      ]
     },
     "metadata": {},
     "output_type": "display_data"
    },
    {
     "data": {
      "application/json": {
       "ascii": false,
       "bar_format": null,
       "colour": null,
       "elapsed": 0.015628337860107422,
       "initial": 0,
       "n": 0,
       "ncols": 119,
       "nrows": 29,
       "postfix": null,
       "prefix": "Validation",
       "rate": null,
       "total": null,
       "unit": "it",
       "unit_divisor": 1000,
       "unit_scale": false
      },
      "application/vnd.jupyter.widget-view+json": {
       "model_id": "",
       "version_major": 2,
       "version_minor": 0
      },
      "text/plain": [
       "Validation: 0it [00:00, ?it/s]"
      ]
     },
     "metadata": {},
     "output_type": "display_data"
    },
    {
     "data": {
      "application/json": {
       "ascii": false,
       "bar_format": null,
       "colour": null,
       "elapsed": 0.01565098762512207,
       "initial": 0,
       "n": 0,
       "ncols": 119,
       "nrows": 29,
       "postfix": null,
       "prefix": "Validation",
       "rate": null,
       "total": null,
       "unit": "it",
       "unit_divisor": 1000,
       "unit_scale": false
      },
      "application/vnd.jupyter.widget-view+json": {
       "model_id": "",
       "version_major": 2,
       "version_minor": 0
      },
      "text/plain": [
       "Validation: 0it [00:00, ?it/s]"
      ]
     },
     "metadata": {},
     "output_type": "display_data"
    },
    {
     "data": {
      "application/json": {
       "ascii": false,
       "bar_format": null,
       "colour": null,
       "elapsed": 0.015597820281982422,
       "initial": 0,
       "n": 0,
       "ncols": 119,
       "nrows": 29,
       "postfix": null,
       "prefix": "Validation",
       "rate": null,
       "total": null,
       "unit": "it",
       "unit_divisor": 1000,
       "unit_scale": false
      },
      "application/vnd.jupyter.widget-view+json": {
       "model_id": "",
       "version_major": 2,
       "version_minor": 0
      },
      "text/plain": [
       "Validation: 0it [00:00, ?it/s]"
      ]
     },
     "metadata": {},
     "output_type": "display_data"
    },
    {
     "data": {
      "application/json": {
       "ascii": false,
       "bar_format": null,
       "colour": null,
       "elapsed": 0.015649795532226562,
       "initial": 0,
       "n": 0,
       "ncols": 119,
       "nrows": 29,
       "postfix": null,
       "prefix": "Validation",
       "rate": null,
       "total": null,
       "unit": "it",
       "unit_divisor": 1000,
       "unit_scale": false
      },
      "application/vnd.jupyter.widget-view+json": {
       "model_id": "",
       "version_major": 2,
       "version_minor": 0
      },
      "text/plain": [
       "Validation: 0it [00:00, ?it/s]"
      ]
     },
     "metadata": {},
     "output_type": "display_data"
    },
    {
     "data": {
      "application/json": {
       "ascii": false,
       "bar_format": null,
       "colour": null,
       "elapsed": 0.01562666893005371,
       "initial": 0,
       "n": 0,
       "ncols": 119,
       "nrows": 29,
       "postfix": null,
       "prefix": "Validation",
       "rate": null,
       "total": null,
       "unit": "it",
       "unit_divisor": 1000,
       "unit_scale": false
      },
      "application/vnd.jupyter.widget-view+json": {
       "model_id": "",
       "version_major": 2,
       "version_minor": 0
      },
      "text/plain": [
       "Validation: 0it [00:00, ?it/s]"
      ]
     },
     "metadata": {},
     "output_type": "display_data"
    },
    {
     "data": {
      "application/json": {
       "ascii": false,
       "bar_format": null,
       "colour": null,
       "elapsed": 0.01603984832763672,
       "initial": 0,
       "n": 0,
       "ncols": 119,
       "nrows": 29,
       "postfix": null,
       "prefix": "Validation",
       "rate": null,
       "total": null,
       "unit": "it",
       "unit_divisor": 1000,
       "unit_scale": false
      },
      "application/vnd.jupyter.widget-view+json": {
       "model_id": "",
       "version_major": 2,
       "version_minor": 0
      },
      "text/plain": [
       "Validation: 0it [00:00, ?it/s]"
      ]
     },
     "metadata": {},
     "output_type": "display_data"
    },
    {
     "data": {
      "application/json": {
       "ascii": false,
       "bar_format": null,
       "colour": null,
       "elapsed": 0.01562047004699707,
       "initial": 0,
       "n": 0,
       "ncols": 119,
       "nrows": 29,
       "postfix": null,
       "prefix": "Validation",
       "rate": null,
       "total": null,
       "unit": "it",
       "unit_divisor": 1000,
       "unit_scale": false
      },
      "application/vnd.jupyter.widget-view+json": {
       "model_id": "",
       "version_major": 2,
       "version_minor": 0
      },
      "text/plain": [
       "Validation: 0it [00:00, ?it/s]"
      ]
     },
     "metadata": {},
     "output_type": "display_data"
    },
    {
     "data": {
      "application/json": {
       "ascii": false,
       "bar_format": null,
       "colour": null,
       "elapsed": 0.016637563705444336,
       "initial": 0,
       "n": 0,
       "ncols": 119,
       "nrows": 29,
       "postfix": null,
       "prefix": "Validation",
       "rate": null,
       "total": null,
       "unit": "it",
       "unit_divisor": 1000,
       "unit_scale": false
      },
      "application/vnd.jupyter.widget-view+json": {
       "model_id": "",
       "version_major": 2,
       "version_minor": 0
      },
      "text/plain": [
       "Validation: 0it [00:00, ?it/s]"
      ]
     },
     "metadata": {},
     "output_type": "display_data"
    },
    {
     "data": {
      "application/json": {
       "ascii": false,
       "bar_format": null,
       "colour": null,
       "elapsed": 0.015623331069946289,
       "initial": 0,
       "n": 0,
       "ncols": 119,
       "nrows": 29,
       "postfix": null,
       "prefix": "Validation",
       "rate": null,
       "total": null,
       "unit": "it",
       "unit_divisor": 1000,
       "unit_scale": false
      },
      "application/vnd.jupyter.widget-view+json": {
       "model_id": "",
       "version_major": 2,
       "version_minor": 0
      },
      "text/plain": [
       "Validation: 0it [00:00, ?it/s]"
      ]
     },
     "metadata": {},
     "output_type": "display_data"
    },
    {
     "data": {
      "application/json": {
       "ascii": false,
       "bar_format": null,
       "colour": null,
       "elapsed": 0.015621185302734375,
       "initial": 0,
       "n": 0,
       "ncols": 119,
       "nrows": 29,
       "postfix": null,
       "prefix": "Validation",
       "rate": null,
       "total": null,
       "unit": "it",
       "unit_divisor": 1000,
       "unit_scale": false
      },
      "application/vnd.jupyter.widget-view+json": {
       "model_id": "",
       "version_major": 2,
       "version_minor": 0
      },
      "text/plain": [
       "Validation: 0it [00:00, ?it/s]"
      ]
     },
     "metadata": {},
     "output_type": "display_data"
    },
    {
     "data": {
      "application/json": {
       "ascii": false,
       "bar_format": null,
       "colour": null,
       "elapsed": 0.0156557559967041,
       "initial": 0,
       "n": 0,
       "ncols": 119,
       "nrows": 29,
       "postfix": null,
       "prefix": "Validation",
       "rate": null,
       "total": null,
       "unit": "it",
       "unit_divisor": 1000,
       "unit_scale": false
      },
      "application/vnd.jupyter.widget-view+json": {
       "model_id": "",
       "version_major": 2,
       "version_minor": 0
      },
      "text/plain": [
       "Validation: 0it [00:00, ?it/s]"
      ]
     },
     "metadata": {},
     "output_type": "display_data"
    },
    {
     "data": {
      "application/json": {
       "ascii": false,
       "bar_format": null,
       "colour": null,
       "elapsed": 0.015624284744262695,
       "initial": 0,
       "n": 0,
       "ncols": 119,
       "nrows": 29,
       "postfix": null,
       "prefix": "Validation",
       "rate": null,
       "total": null,
       "unit": "it",
       "unit_divisor": 1000,
       "unit_scale": false
      },
      "application/vnd.jupyter.widget-view+json": {
       "model_id": "",
       "version_major": 2,
       "version_minor": 0
      },
      "text/plain": [
       "Validation: 0it [00:00, ?it/s]"
      ]
     },
     "metadata": {},
     "output_type": "display_data"
    },
    {
     "data": {
      "application/json": {
       "ascii": false,
       "bar_format": null,
       "colour": null,
       "elapsed": 0.015651226043701172,
       "initial": 0,
       "n": 0,
       "ncols": 119,
       "nrows": 29,
       "postfix": null,
       "prefix": "Validation",
       "rate": null,
       "total": null,
       "unit": "it",
       "unit_divisor": 1000,
       "unit_scale": false
      },
      "application/vnd.jupyter.widget-view+json": {
       "model_id": "",
       "version_major": 2,
       "version_minor": 0
      },
      "text/plain": [
       "Validation: 0it [00:00, ?it/s]"
      ]
     },
     "metadata": {},
     "output_type": "display_data"
    },
    {
     "data": {
      "application/json": {
       "ascii": false,
       "bar_format": null,
       "colour": null,
       "elapsed": 0.015614509582519531,
       "initial": 0,
       "n": 0,
       "ncols": 119,
       "nrows": 29,
       "postfix": null,
       "prefix": "Validation",
       "rate": null,
       "total": null,
       "unit": "it",
       "unit_divisor": 1000,
       "unit_scale": false
      },
      "application/vnd.jupyter.widget-view+json": {
       "model_id": "",
       "version_major": 2,
       "version_minor": 0
      },
      "text/plain": [
       "Validation: 0it [00:00, ?it/s]"
      ]
     },
     "metadata": {},
     "output_type": "display_data"
    },
    {
     "data": {
      "application/json": {
       "ascii": false,
       "bar_format": null,
       "colour": null,
       "elapsed": 0.0015177726745605469,
       "initial": 0,
       "n": 0,
       "ncols": 119,
       "nrows": 29,
       "postfix": null,
       "prefix": "Validation",
       "rate": null,
       "total": null,
       "unit": "it",
       "unit_divisor": 1000,
       "unit_scale": false
      },
      "application/vnd.jupyter.widget-view+json": {
       "model_id": "",
       "version_major": 2,
       "version_minor": 0
      },
      "text/plain": [
       "Validation: 0it [00:00, ?it/s]"
      ]
     },
     "metadata": {},
     "output_type": "display_data"
    },
    {
     "data": {
      "application/json": {
       "ascii": false,
       "bar_format": null,
       "colour": null,
       "elapsed": 0.015625715255737305,
       "initial": 0,
       "n": 0,
       "ncols": 119,
       "nrows": 29,
       "postfix": null,
       "prefix": "Validation",
       "rate": null,
       "total": null,
       "unit": "it",
       "unit_divisor": 1000,
       "unit_scale": false
      },
      "application/vnd.jupyter.widget-view+json": {
       "model_id": "",
       "version_major": 2,
       "version_minor": 0
      },
      "text/plain": [
       "Validation: 0it [00:00, ?it/s]"
      ]
     },
     "metadata": {},
     "output_type": "display_data"
    },
    {
     "data": {
      "application/json": {
       "ascii": false,
       "bar_format": null,
       "colour": null,
       "elapsed": 0.017111539840698242,
       "initial": 0,
       "n": 0,
       "ncols": 119,
       "nrows": 29,
       "postfix": null,
       "prefix": "Validation",
       "rate": null,
       "total": null,
       "unit": "it",
       "unit_divisor": 1000,
       "unit_scale": false
      },
      "application/vnd.jupyter.widget-view+json": {
       "model_id": "",
       "version_major": 2,
       "version_minor": 0
      },
      "text/plain": [
       "Validation: 0it [00:00, ?it/s]"
      ]
     },
     "metadata": {},
     "output_type": "display_data"
    },
    {
     "data": {
      "application/json": {
       "ascii": false,
       "bar_format": null,
       "colour": null,
       "elapsed": 0.015623331069946289,
       "initial": 0,
       "n": 0,
       "ncols": 119,
       "nrows": 29,
       "postfix": null,
       "prefix": "Validation",
       "rate": null,
       "total": null,
       "unit": "it",
       "unit_divisor": 1000,
       "unit_scale": false
      },
      "application/vnd.jupyter.widget-view+json": {
       "model_id": "",
       "version_major": 2,
       "version_minor": 0
      },
      "text/plain": [
       "Validation: 0it [00:00, ?it/s]"
      ]
     },
     "metadata": {},
     "output_type": "display_data"
    },
    {
     "data": {
      "application/json": {
       "ascii": false,
       "bar_format": null,
       "colour": null,
       "elapsed": 0,
       "initial": 0,
       "n": 0,
       "ncols": 119,
       "nrows": 29,
       "postfix": null,
       "prefix": "Validation",
       "rate": null,
       "total": null,
       "unit": "it",
       "unit_divisor": 1000,
       "unit_scale": false
      },
      "application/vnd.jupyter.widget-view+json": {
       "model_id": "",
       "version_major": 2,
       "version_minor": 0
      },
      "text/plain": [
       "Validation: 0it [00:00, ?it/s]"
      ]
     },
     "metadata": {},
     "output_type": "display_data"
    },
    {
     "data": {
      "application/json": {
       "ascii": false,
       "bar_format": null,
       "colour": null,
       "elapsed": 0.015627145767211914,
       "initial": 0,
       "n": 0,
       "ncols": 119,
       "nrows": 29,
       "postfix": null,
       "prefix": "Validation",
       "rate": null,
       "total": null,
       "unit": "it",
       "unit_divisor": 1000,
       "unit_scale": false
      },
      "application/vnd.jupyter.widget-view+json": {
       "model_id": "",
       "version_major": 2,
       "version_minor": 0
      },
      "text/plain": [
       "Validation: 0it [00:00, ?it/s]"
      ]
     },
     "metadata": {},
     "output_type": "display_data"
    },
    {
     "data": {
      "application/json": {
       "ascii": false,
       "bar_format": null,
       "colour": null,
       "elapsed": 0.015604972839355469,
       "initial": 0,
       "n": 0,
       "ncols": 119,
       "nrows": 29,
       "postfix": null,
       "prefix": "Validation",
       "rate": null,
       "total": null,
       "unit": "it",
       "unit_divisor": 1000,
       "unit_scale": false
      },
      "application/vnd.jupyter.widget-view+json": {
       "model_id": "",
       "version_major": 2,
       "version_minor": 0
      },
      "text/plain": [
       "Validation: 0it [00:00, ?it/s]"
      ]
     },
     "metadata": {},
     "output_type": "display_data"
    },
    {
     "data": {
      "application/json": {
       "ascii": false,
       "bar_format": null,
       "colour": null,
       "elapsed": 0.015651941299438477,
       "initial": 0,
       "n": 0,
       "ncols": 119,
       "nrows": 29,
       "postfix": null,
       "prefix": "Validation",
       "rate": null,
       "total": null,
       "unit": "it",
       "unit_divisor": 1000,
       "unit_scale": false
      },
      "application/vnd.jupyter.widget-view+json": {
       "model_id": "",
       "version_major": 2,
       "version_minor": 0
      },
      "text/plain": [
       "Validation: 0it [00:00, ?it/s]"
      ]
     },
     "metadata": {},
     "output_type": "display_data"
    },
    {
     "data": {
      "application/json": {
       "ascii": false,
       "bar_format": null,
       "colour": null,
       "elapsed": 0,
       "initial": 0,
       "n": 0,
       "ncols": 119,
       "nrows": 29,
       "postfix": null,
       "prefix": "Validation",
       "rate": null,
       "total": null,
       "unit": "it",
       "unit_divisor": 1000,
       "unit_scale": false
      },
      "application/vnd.jupyter.widget-view+json": {
       "model_id": "",
       "version_major": 2,
       "version_minor": 0
      },
      "text/plain": [
       "Validation: 0it [00:00, ?it/s]"
      ]
     },
     "metadata": {},
     "output_type": "display_data"
    },
    {
     "data": {
      "application/json": {
       "ascii": false,
       "bar_format": null,
       "colour": null,
       "elapsed": 0.01564168930053711,
       "initial": 0,
       "n": 0,
       "ncols": 119,
       "nrows": 29,
       "postfix": null,
       "prefix": "Validation",
       "rate": null,
       "total": null,
       "unit": "it",
       "unit_divisor": 1000,
       "unit_scale": false
      },
      "application/vnd.jupyter.widget-view+json": {
       "model_id": "",
       "version_major": 2,
       "version_minor": 0
      },
      "text/plain": [
       "Validation: 0it [00:00, ?it/s]"
      ]
     },
     "metadata": {},
     "output_type": "display_data"
    },
    {
     "data": {
      "application/json": {
       "ascii": false,
       "bar_format": null,
       "colour": null,
       "elapsed": 0.015624046325683594,
       "initial": 0,
       "n": 0,
       "ncols": 119,
       "nrows": 29,
       "postfix": null,
       "prefix": "Validation",
       "rate": null,
       "total": null,
       "unit": "it",
       "unit_divisor": 1000,
       "unit_scale": false
      },
      "application/vnd.jupyter.widget-view+json": {
       "model_id": "",
       "version_major": 2,
       "version_minor": 0
      },
      "text/plain": [
       "Validation: 0it [00:00, ?it/s]"
      ]
     },
     "metadata": {},
     "output_type": "display_data"
    },
    {
     "data": {
      "application/json": {
       "ascii": false,
       "bar_format": null,
       "colour": null,
       "elapsed": 0.016637563705444336,
       "initial": 0,
       "n": 0,
       "ncols": 119,
       "nrows": 29,
       "postfix": null,
       "prefix": "Validation",
       "rate": null,
       "total": null,
       "unit": "it",
       "unit_divisor": 1000,
       "unit_scale": false
      },
      "application/vnd.jupyter.widget-view+json": {
       "model_id": "",
       "version_major": 2,
       "version_minor": 0
      },
      "text/plain": [
       "Validation: 0it [00:00, ?it/s]"
      ]
     },
     "metadata": {},
     "output_type": "display_data"
    },
    {
     "data": {
      "application/json": {
       "ascii": false,
       "bar_format": null,
       "colour": null,
       "elapsed": 0.015613555908203125,
       "initial": 0,
       "n": 0,
       "ncols": 119,
       "nrows": 29,
       "postfix": null,
       "prefix": "Validation",
       "rate": null,
       "total": null,
       "unit": "it",
       "unit_divisor": 1000,
       "unit_scale": false
      },
      "application/vnd.jupyter.widget-view+json": {
       "model_id": "",
       "version_major": 2,
       "version_minor": 0
      },
      "text/plain": [
       "Validation: 0it [00:00, ?it/s]"
      ]
     },
     "metadata": {},
     "output_type": "display_data"
    },
    {
     "data": {
      "application/json": {
       "ascii": false,
       "bar_format": null,
       "colour": null,
       "elapsed": 0,
       "initial": 0,
       "n": 0,
       "ncols": 119,
       "nrows": 29,
       "postfix": null,
       "prefix": "Validation",
       "rate": null,
       "total": null,
       "unit": "it",
       "unit_divisor": 1000,
       "unit_scale": false
      },
      "application/vnd.jupyter.widget-view+json": {
       "model_id": "",
       "version_major": 2,
       "version_minor": 0
      },
      "text/plain": [
       "Validation: 0it [00:00, ?it/s]"
      ]
     },
     "metadata": {},
     "output_type": "display_data"
    },
    {
     "data": {
      "application/json": {
       "ascii": false,
       "bar_format": null,
       "colour": null,
       "elapsed": 0.015629053115844727,
       "initial": 0,
       "n": 0,
       "ncols": 119,
       "nrows": 29,
       "postfix": null,
       "prefix": "Validation",
       "rate": null,
       "total": null,
       "unit": "it",
       "unit_divisor": 1000,
       "unit_scale": false
      },
      "application/vnd.jupyter.widget-view+json": {
       "model_id": "",
       "version_major": 2,
       "version_minor": 0
      },
      "text/plain": [
       "Validation: 0it [00:00, ?it/s]"
      ]
     },
     "metadata": {},
     "output_type": "display_data"
    },
    {
     "data": {
      "application/json": {
       "ascii": false,
       "bar_format": null,
       "colour": null,
       "elapsed": 0.015590667724609375,
       "initial": 0,
       "n": 0,
       "ncols": 119,
       "nrows": 29,
       "postfix": null,
       "prefix": "Validation",
       "rate": null,
       "total": null,
       "unit": "it",
       "unit_divisor": 1000,
       "unit_scale": false
      },
      "application/vnd.jupyter.widget-view+json": {
       "model_id": "",
       "version_major": 2,
       "version_minor": 0
      },
      "text/plain": [
       "Validation: 0it [00:00, ?it/s]"
      ]
     },
     "metadata": {},
     "output_type": "display_data"
    },
    {
     "data": {
      "application/json": {
       "ascii": false,
       "bar_format": null,
       "colour": null,
       "elapsed": 0.0156552791595459,
       "initial": 0,
       "n": 0,
       "ncols": 119,
       "nrows": 29,
       "postfix": null,
       "prefix": "Validation",
       "rate": null,
       "total": null,
       "unit": "it",
       "unit_divisor": 1000,
       "unit_scale": false
      },
      "application/vnd.jupyter.widget-view+json": {
       "model_id": "",
       "version_major": 2,
       "version_minor": 0
      },
      "text/plain": [
       "Validation: 0it [00:00, ?it/s]"
      ]
     },
     "metadata": {},
     "output_type": "display_data"
    },
    {
     "data": {
      "application/json": {
       "ascii": false,
       "bar_format": null,
       "colour": null,
       "elapsed": 0.020272493362426758,
       "initial": 0,
       "n": 0,
       "ncols": 119,
       "nrows": 29,
       "postfix": null,
       "prefix": "Validation",
       "rate": null,
       "total": null,
       "unit": "it",
       "unit_divisor": 1000,
       "unit_scale": false
      },
      "application/vnd.jupyter.widget-view+json": {
       "model_id": "",
       "version_major": 2,
       "version_minor": 0
      },
      "text/plain": [
       "Validation: 0it [00:00, ?it/s]"
      ]
     },
     "metadata": {},
     "output_type": "display_data"
    },
    {
     "data": {
      "application/json": {
       "ascii": false,
       "bar_format": null,
       "colour": null,
       "elapsed": 0.015647411346435547,
       "initial": 0,
       "n": 0,
       "ncols": 119,
       "nrows": 29,
       "postfix": null,
       "prefix": "Validation",
       "rate": null,
       "total": null,
       "unit": "it",
       "unit_divisor": 1000,
       "unit_scale": false
      },
      "application/vnd.jupyter.widget-view+json": {
       "model_id": "",
       "version_major": 2,
       "version_minor": 0
      },
      "text/plain": [
       "Validation: 0it [00:00, ?it/s]"
      ]
     },
     "metadata": {},
     "output_type": "display_data"
    },
    {
     "data": {
      "application/json": {
       "ascii": false,
       "bar_format": null,
       "colour": null,
       "elapsed": 0.015612602233886719,
       "initial": 0,
       "n": 0,
       "ncols": 119,
       "nrows": 29,
       "postfix": null,
       "prefix": "Validation",
       "rate": null,
       "total": null,
       "unit": "it",
       "unit_divisor": 1000,
       "unit_scale": false
      },
      "application/vnd.jupyter.widget-view+json": {
       "model_id": "",
       "version_major": 2,
       "version_minor": 0
      },
      "text/plain": [
       "Validation: 0it [00:00, ?it/s]"
      ]
     },
     "metadata": {},
     "output_type": "display_data"
    },
    {
     "data": {
      "application/json": {
       "ascii": false,
       "bar_format": null,
       "colour": null,
       "elapsed": 0.015015125274658203,
       "initial": 0,
       "n": 0,
       "ncols": 119,
       "nrows": 29,
       "postfix": null,
       "prefix": "Validation",
       "rate": null,
       "total": null,
       "unit": "it",
       "unit_divisor": 1000,
       "unit_scale": false
      },
      "application/vnd.jupyter.widget-view+json": {
       "model_id": "",
       "version_major": 2,
       "version_minor": 0
      },
      "text/plain": [
       "Validation: 0it [00:00, ?it/s]"
      ]
     },
     "metadata": {},
     "output_type": "display_data"
    },
    {
     "data": {
      "application/json": {
       "ascii": false,
       "bar_format": null,
       "colour": null,
       "elapsed": 0.016321897506713867,
       "initial": 0,
       "n": 0,
       "ncols": 119,
       "nrows": 29,
       "postfix": null,
       "prefix": "Validation",
       "rate": null,
       "total": null,
       "unit": "it",
       "unit_divisor": 1000,
       "unit_scale": false
      },
      "application/vnd.jupyter.widget-view+json": {
       "model_id": "",
       "version_major": 2,
       "version_minor": 0
      },
      "text/plain": [
       "Validation: 0it [00:00, ?it/s]"
      ]
     },
     "metadata": {},
     "output_type": "display_data"
    },
    {
     "data": {
      "application/json": {
       "ascii": false,
       "bar_format": null,
       "colour": null,
       "elapsed": 0.019141197204589844,
       "initial": 0,
       "n": 0,
       "ncols": 119,
       "nrows": 29,
       "postfix": null,
       "prefix": "Validation",
       "rate": null,
       "total": null,
       "unit": "it",
       "unit_divisor": 1000,
       "unit_scale": false
      },
      "application/vnd.jupyter.widget-view+json": {
       "model_id": "",
       "version_major": 2,
       "version_minor": 0
      },
      "text/plain": [
       "Validation: 0it [00:00, ?it/s]"
      ]
     },
     "metadata": {},
     "output_type": "display_data"
    },
    {
     "data": {
      "application/json": {
       "ascii": false,
       "bar_format": null,
       "colour": null,
       "elapsed": 0,
       "initial": 0,
       "n": 0,
       "ncols": 119,
       "nrows": 29,
       "postfix": null,
       "prefix": "Validation",
       "rate": null,
       "total": null,
       "unit": "it",
       "unit_divisor": 1000,
       "unit_scale": false
      },
      "application/vnd.jupyter.widget-view+json": {
       "model_id": "",
       "version_major": 2,
       "version_minor": 0
      },
      "text/plain": [
       "Validation: 0it [00:00, ?it/s]"
      ]
     },
     "metadata": {},
     "output_type": "display_data"
    },
    {
     "data": {
      "application/json": {
       "ascii": false,
       "bar_format": null,
       "colour": null,
       "elapsed": 0.022130727767944336,
       "initial": 0,
       "n": 0,
       "ncols": 119,
       "nrows": 29,
       "postfix": null,
       "prefix": "Validation",
       "rate": null,
       "total": null,
       "unit": "it",
       "unit_divisor": 1000,
       "unit_scale": false
      },
      "application/vnd.jupyter.widget-view+json": {
       "model_id": "",
       "version_major": 2,
       "version_minor": 0
      },
      "text/plain": [
       "Validation: 0it [00:00, ?it/s]"
      ]
     },
     "metadata": {},
     "output_type": "display_data"
    },
    {
     "data": {
      "application/json": {
       "ascii": false,
       "bar_format": null,
       "colour": null,
       "elapsed": 0.015625,
       "initial": 0,
       "n": 0,
       "ncols": 119,
       "nrows": 29,
       "postfix": null,
       "prefix": "Validation",
       "rate": null,
       "total": null,
       "unit": "it",
       "unit_divisor": 1000,
       "unit_scale": false
      },
      "application/vnd.jupyter.widget-view+json": {
       "model_id": "",
       "version_major": 2,
       "version_minor": 0
      },
      "text/plain": [
       "Validation: 0it [00:00, ?it/s]"
      ]
     },
     "metadata": {},
     "output_type": "display_data"
    },
    {
     "data": {
      "application/json": {
       "ascii": false,
       "bar_format": null,
       "colour": null,
       "elapsed": 0,
       "initial": 0,
       "n": 0,
       "ncols": 119,
       "nrows": 29,
       "postfix": null,
       "prefix": "Validation",
       "rate": null,
       "total": null,
       "unit": "it",
       "unit_divisor": 1000,
       "unit_scale": false
      },
      "application/vnd.jupyter.widget-view+json": {
       "model_id": "",
       "version_major": 2,
       "version_minor": 0
      },
      "text/plain": [
       "Validation: 0it [00:00, ?it/s]"
      ]
     },
     "metadata": {},
     "output_type": "display_data"
    },
    {
     "data": {
      "application/json": {
       "ascii": false,
       "bar_format": null,
       "colour": null,
       "elapsed": 0.015619754791259766,
       "initial": 0,
       "n": 0,
       "ncols": 119,
       "nrows": 29,
       "postfix": null,
       "prefix": "Validation",
       "rate": null,
       "total": null,
       "unit": "it",
       "unit_divisor": 1000,
       "unit_scale": false
      },
      "application/vnd.jupyter.widget-view+json": {
       "model_id": "",
       "version_major": 2,
       "version_minor": 0
      },
      "text/plain": [
       "Validation: 0it [00:00, ?it/s]"
      ]
     },
     "metadata": {},
     "output_type": "display_data"
    },
    {
     "data": {
      "application/json": {
       "ascii": false,
       "bar_format": null,
       "colour": null,
       "elapsed": 0.01560664176940918,
       "initial": 0,
       "n": 0,
       "ncols": 119,
       "nrows": 29,
       "postfix": null,
       "prefix": "Validation",
       "rate": null,
       "total": null,
       "unit": "it",
       "unit_divisor": 1000,
       "unit_scale": false
      },
      "application/vnd.jupyter.widget-view+json": {
       "model_id": "",
       "version_major": 2,
       "version_minor": 0
      },
      "text/plain": [
       "Validation: 0it [00:00, ?it/s]"
      ]
     },
     "metadata": {},
     "output_type": "display_data"
    },
    {
     "data": {
      "application/json": {
       "ascii": false,
       "bar_format": null,
       "colour": null,
       "elapsed": 0,
       "initial": 0,
       "n": 0,
       "ncols": 119,
       "nrows": 29,
       "postfix": null,
       "prefix": "Validation",
       "rate": null,
       "total": null,
       "unit": "it",
       "unit_divisor": 1000,
       "unit_scale": false
      },
      "application/vnd.jupyter.widget-view+json": {
       "model_id": "",
       "version_major": 2,
       "version_minor": 0
      },
      "text/plain": [
       "Validation: 0it [00:00, ?it/s]"
      ]
     },
     "metadata": {},
     "output_type": "display_data"
    },
    {
     "data": {
      "application/json": {
       "ascii": false,
       "bar_format": null,
       "colour": null,
       "elapsed": 0.015625,
       "initial": 0,
       "n": 0,
       "ncols": 119,
       "nrows": 29,
       "postfix": null,
       "prefix": "Validation",
       "rate": null,
       "total": null,
       "unit": "it",
       "unit_divisor": 1000,
       "unit_scale": false
      },
      "application/vnd.jupyter.widget-view+json": {
       "model_id": "",
       "version_major": 2,
       "version_minor": 0
      },
      "text/plain": [
       "Validation: 0it [00:00, ?it/s]"
      ]
     },
     "metadata": {},
     "output_type": "display_data"
    },
    {
     "data": {
      "application/json": {
       "ascii": false,
       "bar_format": null,
       "colour": null,
       "elapsed": 0.011518716812133789,
       "initial": 0,
       "n": 0,
       "ncols": 119,
       "nrows": 29,
       "postfix": null,
       "prefix": "Validation",
       "rate": null,
       "total": null,
       "unit": "it",
       "unit_divisor": 1000,
       "unit_scale": false
      },
      "application/vnd.jupyter.widget-view+json": {
       "model_id": "",
       "version_major": 2,
       "version_minor": 0
      },
      "text/plain": [
       "Validation: 0it [00:00, ?it/s]"
      ]
     },
     "metadata": {},
     "output_type": "display_data"
    },
    {
     "data": {
      "application/json": {
       "ascii": false,
       "bar_format": null,
       "colour": null,
       "elapsed": 0.015617132186889648,
       "initial": 0,
       "n": 0,
       "ncols": 119,
       "nrows": 29,
       "postfix": null,
       "prefix": "Validation",
       "rate": null,
       "total": null,
       "unit": "it",
       "unit_divisor": 1000,
       "unit_scale": false
      },
      "application/vnd.jupyter.widget-view+json": {
       "model_id": "",
       "version_major": 2,
       "version_minor": 0
      },
      "text/plain": [
       "Validation: 0it [00:00, ?it/s]"
      ]
     },
     "metadata": {},
     "output_type": "display_data"
    },
    {
     "data": {
      "application/json": {
       "ascii": false,
       "bar_format": null,
       "colour": null,
       "elapsed": 0.007020473480224609,
       "initial": 0,
       "n": 0,
       "ncols": 119,
       "nrows": 29,
       "postfix": null,
       "prefix": "Validation",
       "rate": null,
       "total": null,
       "unit": "it",
       "unit_divisor": 1000,
       "unit_scale": false
      },
      "application/vnd.jupyter.widget-view+json": {
       "model_id": "",
       "version_major": 2,
       "version_minor": 0
      },
      "text/plain": [
       "Validation: 0it [00:00, ?it/s]"
      ]
     },
     "metadata": {},
     "output_type": "display_data"
    },
    {
     "data": {
      "application/json": {
       "ascii": false,
       "bar_format": null,
       "colour": null,
       "elapsed": 0.015626192092895508,
       "initial": 0,
       "n": 0,
       "ncols": 119,
       "nrows": 29,
       "postfix": null,
       "prefix": "Validation",
       "rate": null,
       "total": null,
       "unit": "it",
       "unit_divisor": 1000,
       "unit_scale": false
      },
      "application/vnd.jupyter.widget-view+json": {
       "model_id": "",
       "version_major": 2,
       "version_minor": 0
      },
      "text/plain": [
       "Validation: 0it [00:00, ?it/s]"
      ]
     },
     "metadata": {},
     "output_type": "display_data"
    },
    {
     "data": {
      "application/json": {
       "ascii": false,
       "bar_format": null,
       "colour": null,
       "elapsed": 0.015622138977050781,
       "initial": 0,
       "n": 0,
       "ncols": 119,
       "nrows": 29,
       "postfix": null,
       "prefix": "Validation",
       "rate": null,
       "total": null,
       "unit": "it",
       "unit_divisor": 1000,
       "unit_scale": false
      },
      "application/vnd.jupyter.widget-view+json": {
       "model_id": "",
       "version_major": 2,
       "version_minor": 0
      },
      "text/plain": [
       "Validation: 0it [00:00, ?it/s]"
      ]
     },
     "metadata": {},
     "output_type": "display_data"
    },
    {
     "data": {
      "application/json": {
       "ascii": false,
       "bar_format": null,
       "colour": null,
       "elapsed": 0.01560354232788086,
       "initial": 0,
       "n": 0,
       "ncols": 119,
       "nrows": 29,
       "postfix": null,
       "prefix": "Validation",
       "rate": null,
       "total": null,
       "unit": "it",
       "unit_divisor": 1000,
       "unit_scale": false
      },
      "application/vnd.jupyter.widget-view+json": {
       "model_id": "",
       "version_major": 2,
       "version_minor": 0
      },
      "text/plain": [
       "Validation: 0it [00:00, ?it/s]"
      ]
     },
     "metadata": {},
     "output_type": "display_data"
    },
    {
     "data": {
      "application/json": {
       "ascii": false,
       "bar_format": null,
       "colour": null,
       "elapsed": 0.015618562698364258,
       "initial": 0,
       "n": 0,
       "ncols": 119,
       "nrows": 29,
       "postfix": null,
       "prefix": "Validation",
       "rate": null,
       "total": null,
       "unit": "it",
       "unit_divisor": 1000,
       "unit_scale": false
      },
      "application/vnd.jupyter.widget-view+json": {
       "model_id": "",
       "version_major": 2,
       "version_minor": 0
      },
      "text/plain": [
       "Validation: 0it [00:00, ?it/s]"
      ]
     },
     "metadata": {},
     "output_type": "display_data"
    },
    {
     "data": {
      "application/json": {
       "ascii": false,
       "bar_format": null,
       "colour": null,
       "elapsed": 0.015647411346435547,
       "initial": 0,
       "n": 0,
       "ncols": 119,
       "nrows": 29,
       "postfix": null,
       "prefix": "Validation",
       "rate": null,
       "total": null,
       "unit": "it",
       "unit_divisor": 1000,
       "unit_scale": false
      },
      "application/vnd.jupyter.widget-view+json": {
       "model_id": "",
       "version_major": 2,
       "version_minor": 0
      },
      "text/plain": [
       "Validation: 0it [00:00, ?it/s]"
      ]
     },
     "metadata": {},
     "output_type": "display_data"
    },
    {
     "data": {
      "application/json": {
       "ascii": false,
       "bar_format": null,
       "colour": null,
       "elapsed": 0.015620708465576172,
       "initial": 0,
       "n": 0,
       "ncols": 119,
       "nrows": 29,
       "postfix": null,
       "prefix": "Validation",
       "rate": null,
       "total": null,
       "unit": "it",
       "unit_divisor": 1000,
       "unit_scale": false
      },
      "application/vnd.jupyter.widget-view+json": {
       "model_id": "",
       "version_major": 2,
       "version_minor": 0
      },
      "text/plain": [
       "Validation: 0it [00:00, ?it/s]"
      ]
     },
     "metadata": {},
     "output_type": "display_data"
    },
    {
     "data": {
      "application/json": {
       "ascii": false,
       "bar_format": null,
       "colour": null,
       "elapsed": 0.011017322540283203,
       "initial": 0,
       "n": 0,
       "ncols": 119,
       "nrows": 29,
       "postfix": null,
       "prefix": "Validation",
       "rate": null,
       "total": null,
       "unit": "it",
       "unit_divisor": 1000,
       "unit_scale": false
      },
      "application/vnd.jupyter.widget-view+json": {
       "model_id": "",
       "version_major": 2,
       "version_minor": 0
      },
      "text/plain": [
       "Validation: 0it [00:00, ?it/s]"
      ]
     },
     "metadata": {},
     "output_type": "display_data"
    },
    {
     "data": {
      "application/json": {
       "ascii": false,
       "bar_format": null,
       "colour": null,
       "elapsed": 0.0150146484375,
       "initial": 0,
       "n": 0,
       "ncols": 119,
       "nrows": 29,
       "postfix": null,
       "prefix": "Validation",
       "rate": null,
       "total": null,
       "unit": "it",
       "unit_divisor": 1000,
       "unit_scale": false
      },
      "application/vnd.jupyter.widget-view+json": {
       "model_id": "",
       "version_major": 2,
       "version_minor": 0
      },
      "text/plain": [
       "Validation: 0it [00:00, ?it/s]"
      ]
     },
     "metadata": {},
     "output_type": "display_data"
    },
    {
     "data": {
      "application/json": {
       "ascii": false,
       "bar_format": null,
       "colour": null,
       "elapsed": 0.016042709350585938,
       "initial": 0,
       "n": 0,
       "ncols": 119,
       "nrows": 29,
       "postfix": null,
       "prefix": "Validation",
       "rate": null,
       "total": null,
       "unit": "it",
       "unit_divisor": 1000,
       "unit_scale": false
      },
      "application/vnd.jupyter.widget-view+json": {
       "model_id": "",
       "version_major": 2,
       "version_minor": 0
      },
      "text/plain": [
       "Validation: 0it [00:00, ?it/s]"
      ]
     },
     "metadata": {},
     "output_type": "display_data"
    },
    {
     "data": {
      "application/json": {
       "ascii": false,
       "bar_format": null,
       "colour": null,
       "elapsed": 0.015612125396728516,
       "initial": 0,
       "n": 0,
       "ncols": 119,
       "nrows": 29,
       "postfix": null,
       "prefix": "Validation",
       "rate": null,
       "total": null,
       "unit": "it",
       "unit_divisor": 1000,
       "unit_scale": false
      },
      "application/vnd.jupyter.widget-view+json": {
       "model_id": "",
       "version_major": 2,
       "version_minor": 0
      },
      "text/plain": [
       "Validation: 0it [00:00, ?it/s]"
      ]
     },
     "metadata": {},
     "output_type": "display_data"
    },
    {
     "data": {
      "application/json": {
       "ascii": false,
       "bar_format": null,
       "colour": null,
       "elapsed": 0.016032695770263672,
       "initial": 0,
       "n": 0,
       "ncols": 119,
       "nrows": 29,
       "postfix": null,
       "prefix": "Validation",
       "rate": null,
       "total": null,
       "unit": "it",
       "unit_divisor": 1000,
       "unit_scale": false
      },
      "application/vnd.jupyter.widget-view+json": {
       "model_id": "",
       "version_major": 2,
       "version_minor": 0
      },
      "text/plain": [
       "Validation: 0it [00:00, ?it/s]"
      ]
     },
     "metadata": {},
     "output_type": "display_data"
    },
    {
     "data": {
      "application/json": {
       "ascii": false,
       "bar_format": null,
       "colour": null,
       "elapsed": 0.02031707763671875,
       "initial": 0,
       "n": 0,
       "ncols": 119,
       "nrows": 29,
       "postfix": null,
       "prefix": "Validation",
       "rate": null,
       "total": null,
       "unit": "it",
       "unit_divisor": 1000,
       "unit_scale": false
      },
      "application/vnd.jupyter.widget-view+json": {
       "model_id": "",
       "version_major": 2,
       "version_minor": 0
      },
      "text/plain": [
       "Validation: 0it [00:00, ?it/s]"
      ]
     },
     "metadata": {},
     "output_type": "display_data"
    },
    {
     "data": {
      "application/json": {
       "ascii": false,
       "bar_format": null,
       "colour": null,
       "elapsed": 0.015616178512573242,
       "initial": 0,
       "n": 0,
       "ncols": 119,
       "nrows": 29,
       "postfix": null,
       "prefix": "Validation",
       "rate": null,
       "total": null,
       "unit": "it",
       "unit_divisor": 1000,
       "unit_scale": false
      },
      "application/vnd.jupyter.widget-view+json": {
       "model_id": "",
       "version_major": 2,
       "version_minor": 0
      },
      "text/plain": [
       "Validation: 0it [00:00, ?it/s]"
      ]
     },
     "metadata": {},
     "output_type": "display_data"
    },
    {
     "data": {
      "application/json": {
       "ascii": false,
       "bar_format": null,
       "colour": null,
       "elapsed": 0.015657424926757812,
       "initial": 0,
       "n": 0,
       "ncols": 119,
       "nrows": 29,
       "postfix": null,
       "prefix": "Validation",
       "rate": null,
       "total": null,
       "unit": "it",
       "unit_divisor": 1000,
       "unit_scale": false
      },
      "application/vnd.jupyter.widget-view+json": {
       "model_id": "",
       "version_major": 2,
       "version_minor": 0
      },
      "text/plain": [
       "Validation: 0it [00:00, ?it/s]"
      ]
     },
     "metadata": {},
     "output_type": "display_data"
    },
    {
     "data": {
      "application/json": {
       "ascii": false,
       "bar_format": null,
       "colour": null,
       "elapsed": 0,
       "initial": 0,
       "n": 0,
       "ncols": 119,
       "nrows": 29,
       "postfix": null,
       "prefix": "Validation",
       "rate": null,
       "total": null,
       "unit": "it",
       "unit_divisor": 1000,
       "unit_scale": false
      },
      "application/vnd.jupyter.widget-view+json": {
       "model_id": "",
       "version_major": 2,
       "version_minor": 0
      },
      "text/plain": [
       "Validation: 0it [00:00, ?it/s]"
      ]
     },
     "metadata": {},
     "output_type": "display_data"
    },
    {
     "data": {
      "application/json": {
       "ascii": false,
       "bar_format": null,
       "colour": null,
       "elapsed": 0.01564621925354004,
       "initial": 0,
       "n": 0,
       "ncols": 119,
       "nrows": 29,
       "postfix": null,
       "prefix": "Validation",
       "rate": null,
       "total": null,
       "unit": "it",
       "unit_divisor": 1000,
       "unit_scale": false
      },
      "application/vnd.jupyter.widget-view+json": {
       "model_id": "",
       "version_major": 2,
       "version_minor": 0
      },
      "text/plain": [
       "Validation: 0it [00:00, ?it/s]"
      ]
     },
     "metadata": {},
     "output_type": "display_data"
    },
    {
     "data": {
      "application/json": {
       "ascii": false,
       "bar_format": null,
       "colour": null,
       "elapsed": 0.015615463256835938,
       "initial": 0,
       "n": 0,
       "ncols": 119,
       "nrows": 29,
       "postfix": null,
       "prefix": "Validation",
       "rate": null,
       "total": null,
       "unit": "it",
       "unit_divisor": 1000,
       "unit_scale": false
      },
      "application/vnd.jupyter.widget-view+json": {
       "model_id": "",
       "version_major": 2,
       "version_minor": 0
      },
      "text/plain": [
       "Validation: 0it [00:00, ?it/s]"
      ]
     },
     "metadata": {},
     "output_type": "display_data"
    },
    {
     "data": {
      "application/json": {
       "ascii": false,
       "bar_format": null,
       "colour": null,
       "elapsed": 0,
       "initial": 0,
       "n": 0,
       "ncols": 119,
       "nrows": 29,
       "postfix": null,
       "prefix": "Validation",
       "rate": null,
       "total": null,
       "unit": "it",
       "unit_divisor": 1000,
       "unit_scale": false
      },
      "application/vnd.jupyter.widget-view+json": {
       "model_id": "",
       "version_major": 2,
       "version_minor": 0
      },
      "text/plain": [
       "Validation: 0it [00:00, ?it/s]"
      ]
     },
     "metadata": {},
     "output_type": "display_data"
    },
    {
     "data": {
      "application/json": {
       "ascii": false,
       "bar_format": null,
       "colour": null,
       "elapsed": 0.015617609024047852,
       "initial": 0,
       "n": 0,
       "ncols": 119,
       "nrows": 29,
       "postfix": null,
       "prefix": "Validation",
       "rate": null,
       "total": null,
       "unit": "it",
       "unit_divisor": 1000,
       "unit_scale": false
      },
      "application/vnd.jupyter.widget-view+json": {
       "model_id": "",
       "version_major": 2,
       "version_minor": 0
      },
      "text/plain": [
       "Validation: 0it [00:00, ?it/s]"
      ]
     },
     "metadata": {},
     "output_type": "display_data"
    },
    {
     "data": {
      "application/json": {
       "ascii": false,
       "bar_format": null,
       "colour": null,
       "elapsed": 0.008024930953979492,
       "initial": 0,
       "n": 0,
       "ncols": 119,
       "nrows": 29,
       "postfix": null,
       "prefix": "Validation",
       "rate": null,
       "total": null,
       "unit": "it",
       "unit_divisor": 1000,
       "unit_scale": false
      },
      "application/vnd.jupyter.widget-view+json": {
       "model_id": "",
       "version_major": 2,
       "version_minor": 0
      },
      "text/plain": [
       "Validation: 0it [00:00, ?it/s]"
      ]
     },
     "metadata": {},
     "output_type": "display_data"
    },
    {
     "data": {
      "application/json": {
       "ascii": false,
       "bar_format": null,
       "colour": null,
       "elapsed": 0,
       "initial": 0,
       "n": 0,
       "ncols": 119,
       "nrows": 29,
       "postfix": null,
       "prefix": "Validation",
       "rate": null,
       "total": null,
       "unit": "it",
       "unit_divisor": 1000,
       "unit_scale": false
      },
      "application/vnd.jupyter.widget-view+json": {
       "model_id": "",
       "version_major": 2,
       "version_minor": 0
      },
      "text/plain": [
       "Validation: 0it [00:00, ?it/s]"
      ]
     },
     "metadata": {},
     "output_type": "display_data"
    },
    {
     "data": {
      "application/json": {
       "ascii": false,
       "bar_format": null,
       "colour": null,
       "elapsed": 0.006020784378051758,
       "initial": 0,
       "n": 0,
       "ncols": 119,
       "nrows": 29,
       "postfix": null,
       "prefix": "Validation",
       "rate": null,
       "total": null,
       "unit": "it",
       "unit_divisor": 1000,
       "unit_scale": false
      },
      "application/vnd.jupyter.widget-view+json": {
       "model_id": "",
       "version_major": 2,
       "version_minor": 0
      },
      "text/plain": [
       "Validation: 0it [00:00, ?it/s]"
      ]
     },
     "metadata": {},
     "output_type": "display_data"
    },
    {
     "data": {
      "application/json": {
       "ascii": false,
       "bar_format": null,
       "colour": null,
       "elapsed": 0,
       "initial": 0,
       "n": 0,
       "ncols": 119,
       "nrows": 29,
       "postfix": null,
       "prefix": "Validation",
       "rate": null,
       "total": null,
       "unit": "it",
       "unit_divisor": 1000,
       "unit_scale": false
      },
      "application/vnd.jupyter.widget-view+json": {
       "model_id": "",
       "version_major": 2,
       "version_minor": 0
      },
      "text/plain": [
       "Validation: 0it [00:00, ?it/s]"
      ]
     },
     "metadata": {},
     "output_type": "display_data"
    },
    {
     "data": {
      "application/json": {
       "ascii": false,
       "bar_format": null,
       "colour": null,
       "elapsed": 0.016033172607421875,
       "initial": 0,
       "n": 0,
       "ncols": 119,
       "nrows": 29,
       "postfix": null,
       "prefix": "Validation",
       "rate": null,
       "total": null,
       "unit": "it",
       "unit_divisor": 1000,
       "unit_scale": false
      },
      "application/vnd.jupyter.widget-view+json": {
       "model_id": "",
       "version_major": 2,
       "version_minor": 0
      },
      "text/plain": [
       "Validation: 0it [00:00, ?it/s]"
      ]
     },
     "metadata": {},
     "output_type": "display_data"
    },
    {
     "data": {
      "application/json": {
       "ascii": false,
       "bar_format": null,
       "colour": null,
       "elapsed": 0.015623331069946289,
       "initial": 0,
       "n": 0,
       "ncols": 119,
       "nrows": 29,
       "postfix": null,
       "prefix": "Validation",
       "rate": null,
       "total": null,
       "unit": "it",
       "unit_divisor": 1000,
       "unit_scale": false
      },
      "application/vnd.jupyter.widget-view+json": {
       "model_id": "",
       "version_major": 2,
       "version_minor": 0
      },
      "text/plain": [
       "Validation: 0it [00:00, ?it/s]"
      ]
     },
     "metadata": {},
     "output_type": "display_data"
    },
    {
     "data": {
      "application/json": {
       "ascii": false,
       "bar_format": null,
       "colour": null,
       "elapsed": 0.013027429580688477,
       "initial": 0,
       "n": 0,
       "ncols": 119,
       "nrows": 29,
       "postfix": null,
       "prefix": "Validation",
       "rate": null,
       "total": null,
       "unit": "it",
       "unit_divisor": 1000,
       "unit_scale": false
      },
      "application/vnd.jupyter.widget-view+json": {
       "model_id": "",
       "version_major": 2,
       "version_minor": 0
      },
      "text/plain": [
       "Validation: 0it [00:00, ?it/s]"
      ]
     },
     "metadata": {},
     "output_type": "display_data"
    },
    {
     "data": {
      "application/json": {
       "ascii": false,
       "bar_format": null,
       "colour": null,
       "elapsed": 0.01561427116394043,
       "initial": 0,
       "n": 0,
       "ncols": 119,
       "nrows": 29,
       "postfix": null,
       "prefix": "Validation",
       "rate": null,
       "total": null,
       "unit": "it",
       "unit_divisor": 1000,
       "unit_scale": false
      },
      "application/vnd.jupyter.widget-view+json": {
       "model_id": "",
       "version_major": 2,
       "version_minor": 0
      },
      "text/plain": [
       "Validation: 0it [00:00, ?it/s]"
      ]
     },
     "metadata": {},
     "output_type": "display_data"
    },
    {
     "data": {
      "application/json": {
       "ascii": false,
       "bar_format": null,
       "colour": null,
       "elapsed": 0,
       "initial": 0,
       "n": 0,
       "ncols": 119,
       "nrows": 29,
       "postfix": null,
       "prefix": "Validation",
       "rate": null,
       "total": null,
       "unit": "it",
       "unit_divisor": 1000,
       "unit_scale": false
      },
      "application/vnd.jupyter.widget-view+json": {
       "model_id": "",
       "version_major": 2,
       "version_minor": 0
      },
      "text/plain": [
       "Validation: 0it [00:00, ?it/s]"
      ]
     },
     "metadata": {},
     "output_type": "display_data"
    },
    {
     "data": {
      "application/json": {
       "ascii": false,
       "bar_format": null,
       "colour": null,
       "elapsed": 0.015619277954101562,
       "initial": 0,
       "n": 0,
       "ncols": 119,
       "nrows": 29,
       "postfix": null,
       "prefix": "Validation",
       "rate": null,
       "total": null,
       "unit": "it",
       "unit_divisor": 1000,
       "unit_scale": false
      },
      "application/vnd.jupyter.widget-view+json": {
       "model_id": "",
       "version_major": 2,
       "version_minor": 0
      },
      "text/plain": [
       "Validation: 0it [00:00, ?it/s]"
      ]
     },
     "metadata": {},
     "output_type": "display_data"
    },
    {
     "data": {
      "application/json": {
       "ascii": false,
       "bar_format": null,
       "colour": null,
       "elapsed": 0.015618324279785156,
       "initial": 0,
       "n": 0,
       "ncols": 119,
       "nrows": 29,
       "postfix": null,
       "prefix": "Validation",
       "rate": null,
       "total": null,
       "unit": "it",
       "unit_divisor": 1000,
       "unit_scale": false
      },
      "application/vnd.jupyter.widget-view+json": {
       "model_id": "",
       "version_major": 2,
       "version_minor": 0
      },
      "text/plain": [
       "Validation: 0it [00:00, ?it/s]"
      ]
     },
     "metadata": {},
     "output_type": "display_data"
    },
    {
     "data": {
      "application/json": {
       "ascii": false,
       "bar_format": null,
       "colour": null,
       "elapsed": 0.0156557559967041,
       "initial": 0,
       "n": 0,
       "ncols": 119,
       "nrows": 29,
       "postfix": null,
       "prefix": "Validation",
       "rate": null,
       "total": null,
       "unit": "it",
       "unit_divisor": 1000,
       "unit_scale": false
      },
      "application/vnd.jupyter.widget-view+json": {
       "model_id": "",
       "version_major": 2,
       "version_minor": 0
      },
      "text/plain": [
       "Validation: 0it [00:00, ?it/s]"
      ]
     },
     "metadata": {},
     "output_type": "display_data"
    },
    {
     "data": {
      "application/json": {
       "ascii": false,
       "bar_format": null,
       "colour": null,
       "elapsed": 0.01562786102294922,
       "initial": 0,
       "n": 0,
       "ncols": 119,
       "nrows": 29,
       "postfix": null,
       "prefix": "Validation",
       "rate": null,
       "total": null,
       "unit": "it",
       "unit_divisor": 1000,
       "unit_scale": false
      },
      "application/vnd.jupyter.widget-view+json": {
       "model_id": "",
       "version_major": 2,
       "version_minor": 0
      },
      "text/plain": [
       "Validation: 0it [00:00, ?it/s]"
      ]
     },
     "metadata": {},
     "output_type": "display_data"
    },
    {
     "data": {
      "application/json": {
       "ascii": false,
       "bar_format": null,
       "colour": null,
       "elapsed": 0.015013933181762695,
       "initial": 0,
       "n": 0,
       "ncols": 119,
       "nrows": 29,
       "postfix": null,
       "prefix": "Validation",
       "rate": null,
       "total": null,
       "unit": "it",
       "unit_divisor": 1000,
       "unit_scale": false
      },
      "application/vnd.jupyter.widget-view+json": {
       "model_id": "",
       "version_major": 2,
       "version_minor": 0
      },
      "text/plain": [
       "Validation: 0it [00:00, ?it/s]"
      ]
     },
     "metadata": {},
     "output_type": "display_data"
    },
    {
     "data": {
      "application/json": {
       "ascii": false,
       "bar_format": null,
       "colour": null,
       "elapsed": 0.01559138298034668,
       "initial": 0,
       "n": 0,
       "ncols": 119,
       "nrows": 29,
       "postfix": null,
       "prefix": "Validation",
       "rate": null,
       "total": null,
       "unit": "it",
       "unit_divisor": 1000,
       "unit_scale": false
      },
      "application/vnd.jupyter.widget-view+json": {
       "model_id": "",
       "version_major": 2,
       "version_minor": 0
      },
      "text/plain": [
       "Validation: 0it [00:00, ?it/s]"
      ]
     },
     "metadata": {},
     "output_type": "display_data"
    },
    {
     "data": {
      "application/json": {
       "ascii": false,
       "bar_format": null,
       "colour": null,
       "elapsed": 0,
       "initial": 0,
       "n": 0,
       "ncols": 119,
       "nrows": 29,
       "postfix": null,
       "prefix": "Validation",
       "rate": null,
       "total": null,
       "unit": "it",
       "unit_divisor": 1000,
       "unit_scale": false
      },
      "application/vnd.jupyter.widget-view+json": {
       "model_id": "",
       "version_major": 2,
       "version_minor": 0
      },
      "text/plain": [
       "Validation: 0it [00:00, ?it/s]"
      ]
     },
     "metadata": {},
     "output_type": "display_data"
    },
    {
     "data": {
      "application/json": {
       "ascii": false,
       "bar_format": null,
       "colour": null,
       "elapsed": 0.015627384185791016,
       "initial": 0,
       "n": 0,
       "ncols": 119,
       "nrows": 29,
       "postfix": null,
       "prefix": "Validation",
       "rate": null,
       "total": null,
       "unit": "it",
       "unit_divisor": 1000,
       "unit_scale": false
      },
      "application/vnd.jupyter.widget-view+json": {
       "model_id": "",
       "version_major": 2,
       "version_minor": 0
      },
      "text/plain": [
       "Validation: 0it [00:00, ?it/s]"
      ]
     },
     "metadata": {},
     "output_type": "display_data"
    },
    {
     "data": {
      "application/json": {
       "ascii": false,
       "bar_format": null,
       "colour": null,
       "elapsed": 0.017121553421020508,
       "initial": 0,
       "n": 0,
       "ncols": 119,
       "nrows": 29,
       "postfix": null,
       "prefix": "Validation",
       "rate": null,
       "total": null,
       "unit": "it",
       "unit_divisor": 1000,
       "unit_scale": false
      },
      "application/vnd.jupyter.widget-view+json": {
       "model_id": "",
       "version_major": 2,
       "version_minor": 0
      },
      "text/plain": [
       "Validation: 0it [00:00, ?it/s]"
      ]
     },
     "metadata": {},
     "output_type": "display_data"
    },
    {
     "data": {
      "application/json": {
       "ascii": false,
       "bar_format": null,
       "colour": null,
       "elapsed": 0.015619039535522461,
       "initial": 0,
       "n": 0,
       "ncols": 119,
       "nrows": 29,
       "postfix": null,
       "prefix": "Validation",
       "rate": null,
       "total": null,
       "unit": "it",
       "unit_divisor": 1000,
       "unit_scale": false
      },
      "application/vnd.jupyter.widget-view+json": {
       "model_id": "",
       "version_major": 2,
       "version_minor": 0
      },
      "text/plain": [
       "Validation: 0it [00:00, ?it/s]"
      ]
     },
     "metadata": {},
     "output_type": "display_data"
    },
    {
     "data": {
      "application/json": {
       "ascii": false,
       "bar_format": null,
       "colour": null,
       "elapsed": 0,
       "initial": 0,
       "n": 0,
       "ncols": 119,
       "nrows": 29,
       "postfix": null,
       "prefix": "Validation",
       "rate": null,
       "total": null,
       "unit": "it",
       "unit_divisor": 1000,
       "unit_scale": false
      },
      "application/vnd.jupyter.widget-view+json": {
       "model_id": "",
       "version_major": 2,
       "version_minor": 0
      },
      "text/plain": [
       "Validation: 0it [00:00, ?it/s]"
      ]
     },
     "metadata": {},
     "output_type": "display_data"
    },
    {
     "data": {
      "application/json": {
       "ascii": false,
       "bar_format": null,
       "colour": null,
       "elapsed": 0.015621662139892578,
       "initial": 0,
       "n": 0,
       "ncols": 119,
       "nrows": 29,
       "postfix": null,
       "prefix": "Validation",
       "rate": null,
       "total": null,
       "unit": "it",
       "unit_divisor": 1000,
       "unit_scale": false
      },
      "application/vnd.jupyter.widget-view+json": {
       "model_id": "",
       "version_major": 2,
       "version_minor": 0
      },
      "text/plain": [
       "Validation: 0it [00:00, ?it/s]"
      ]
     },
     "metadata": {},
     "output_type": "display_data"
    },
    {
     "data": {
      "application/json": {
       "ascii": false,
       "bar_format": null,
       "colour": null,
       "elapsed": 0.015622377395629883,
       "initial": 0,
       "n": 0,
       "ncols": 119,
       "nrows": 29,
       "postfix": null,
       "prefix": "Validation",
       "rate": null,
       "total": null,
       "unit": "it",
       "unit_divisor": 1000,
       "unit_scale": false
      },
      "application/vnd.jupyter.widget-view+json": {
       "model_id": "",
       "version_major": 2,
       "version_minor": 0
      },
      "text/plain": [
       "Validation: 0it [00:00, ?it/s]"
      ]
     },
     "metadata": {},
     "output_type": "display_data"
    },
    {
     "data": {
      "application/json": {
       "ascii": false,
       "bar_format": null,
       "colour": null,
       "elapsed": 0.015651702880859375,
       "initial": 0,
       "n": 0,
       "ncols": 119,
       "nrows": 29,
       "postfix": null,
       "prefix": "Validation",
       "rate": null,
       "total": null,
       "unit": "it",
       "unit_divisor": 1000,
       "unit_scale": false
      },
      "application/vnd.jupyter.widget-view+json": {
       "model_id": "",
       "version_major": 2,
       "version_minor": 0
      },
      "text/plain": [
       "Validation: 0it [00:00, ?it/s]"
      ]
     },
     "metadata": {},
     "output_type": "display_data"
    },
    {
     "data": {
      "application/json": {
       "ascii": false,
       "bar_format": null,
       "colour": null,
       "elapsed": 0,
       "initial": 0,
       "n": 0,
       "ncols": 119,
       "nrows": 29,
       "postfix": null,
       "prefix": "Validation",
       "rate": null,
       "total": null,
       "unit": "it",
       "unit_divisor": 1000,
       "unit_scale": false
      },
      "application/vnd.jupyter.widget-view+json": {
       "model_id": "",
       "version_major": 2,
       "version_minor": 0
      },
      "text/plain": [
       "Validation: 0it [00:00, ?it/s]"
      ]
     },
     "metadata": {},
     "output_type": "display_data"
    },
    {
     "data": {
      "application/json": {
       "ascii": false,
       "bar_format": null,
       "colour": null,
       "elapsed": 0.01564812660217285,
       "initial": 0,
       "n": 0,
       "ncols": 119,
       "nrows": 29,
       "postfix": null,
       "prefix": "Validation",
       "rate": null,
       "total": null,
       "unit": "it",
       "unit_divisor": 1000,
       "unit_scale": false
      },
      "application/vnd.jupyter.widget-view+json": {
       "model_id": "",
       "version_major": 2,
       "version_minor": 0
      },
      "text/plain": [
       "Validation: 0it [00:00, ?it/s]"
      ]
     },
     "metadata": {},
     "output_type": "display_data"
    },
    {
     "data": {
      "application/json": {
       "ascii": false,
       "bar_format": null,
       "colour": null,
       "elapsed": 0.015624284744262695,
       "initial": 0,
       "n": 0,
       "ncols": 119,
       "nrows": 29,
       "postfix": null,
       "prefix": "Validation",
       "rate": null,
       "total": null,
       "unit": "it",
       "unit_divisor": 1000,
       "unit_scale": false
      },
      "application/vnd.jupyter.widget-view+json": {
       "model_id": "",
       "version_major": 2,
       "version_minor": 0
      },
      "text/plain": [
       "Validation: 0it [00:00, ?it/s]"
      ]
     },
     "metadata": {},
     "output_type": "display_data"
    },
    {
     "data": {
      "application/json": {
       "ascii": false,
       "bar_format": null,
       "colour": null,
       "elapsed": 0.01662755012512207,
       "initial": 0,
       "n": 0,
       "ncols": 119,
       "nrows": 29,
       "postfix": null,
       "prefix": "Validation",
       "rate": null,
       "total": null,
       "unit": "it",
       "unit_divisor": 1000,
       "unit_scale": false
      },
      "application/vnd.jupyter.widget-view+json": {
       "model_id": "",
       "version_major": 2,
       "version_minor": 0
      },
      "text/plain": [
       "Validation: 0it [00:00, ?it/s]"
      ]
     },
     "metadata": {},
     "output_type": "display_data"
    },
    {
     "data": {
      "application/json": {
       "ascii": false,
       "bar_format": null,
       "colour": null,
       "elapsed": 0.015624761581420898,
       "initial": 0,
       "n": 0,
       "ncols": 119,
       "nrows": 29,
       "postfix": null,
       "prefix": "Validation",
       "rate": null,
       "total": null,
       "unit": "it",
       "unit_divisor": 1000,
       "unit_scale": false
      },
      "application/vnd.jupyter.widget-view+json": {
       "model_id": "",
       "version_major": 2,
       "version_minor": 0
      },
      "text/plain": [
       "Validation: 0it [00:00, ?it/s]"
      ]
     },
     "metadata": {},
     "output_type": "display_data"
    },
    {
     "data": {
      "application/json": {
       "ascii": false,
       "bar_format": null,
       "colour": null,
       "elapsed": 0.018625974655151367,
       "initial": 0,
       "n": 0,
       "ncols": 119,
       "nrows": 29,
       "postfix": null,
       "prefix": "Validation",
       "rate": null,
       "total": null,
       "unit": "it",
       "unit_divisor": 1000,
       "unit_scale": false
      },
      "application/vnd.jupyter.widget-view+json": {
       "model_id": "",
       "version_major": 2,
       "version_minor": 0
      },
      "text/plain": [
       "Validation: 0it [00:00, ?it/s]"
      ]
     },
     "metadata": {},
     "output_type": "display_data"
    },
    {
     "data": {
      "application/json": {
       "ascii": false,
       "bar_format": null,
       "colour": null,
       "elapsed": 0.016316890716552734,
       "initial": 0,
       "n": 0,
       "ncols": 119,
       "nrows": 29,
       "postfix": null,
       "prefix": "Validation",
       "rate": null,
       "total": null,
       "unit": "it",
       "unit_divisor": 1000,
       "unit_scale": false
      },
      "application/vnd.jupyter.widget-view+json": {
       "model_id": "",
       "version_major": 2,
       "version_minor": 0
      },
      "text/plain": [
       "Validation: 0it [00:00, ?it/s]"
      ]
     },
     "metadata": {},
     "output_type": "display_data"
    },
    {
     "data": {
      "application/json": {
       "ascii": false,
       "bar_format": null,
       "colour": null,
       "elapsed": 0.015624284744262695,
       "initial": 0,
       "n": 0,
       "ncols": 119,
       "nrows": 29,
       "postfix": null,
       "prefix": "Validation",
       "rate": null,
       "total": null,
       "unit": "it",
       "unit_divisor": 1000,
       "unit_scale": false
      },
      "application/vnd.jupyter.widget-view+json": {
       "model_id": "",
       "version_major": 2,
       "version_minor": 0
      },
      "text/plain": [
       "Validation: 0it [00:00, ?it/s]"
      ]
     },
     "metadata": {},
     "output_type": "display_data"
    },
    {
     "data": {
      "application/json": {
       "ascii": false,
       "bar_format": null,
       "colour": null,
       "elapsed": 0.015647411346435547,
       "initial": 0,
       "n": 0,
       "ncols": 119,
       "nrows": 29,
       "postfix": null,
       "prefix": "Validation",
       "rate": null,
       "total": null,
       "unit": "it",
       "unit_divisor": 1000,
       "unit_scale": false
      },
      "application/vnd.jupyter.widget-view+json": {
       "model_id": "",
       "version_major": 2,
       "version_minor": 0
      },
      "text/plain": [
       "Validation: 0it [00:00, ?it/s]"
      ]
     },
     "metadata": {},
     "output_type": "display_data"
    },
    {
     "data": {
      "application/json": {
       "ascii": false,
       "bar_format": null,
       "colour": null,
       "elapsed": 0.015624523162841797,
       "initial": 0,
       "n": 0,
       "ncols": 119,
       "nrows": 29,
       "postfix": null,
       "prefix": "Validation",
       "rate": null,
       "total": null,
       "unit": "it",
       "unit_divisor": 1000,
       "unit_scale": false
      },
      "application/vnd.jupyter.widget-view+json": {
       "model_id": "",
       "version_major": 2,
       "version_minor": 0
      },
      "text/plain": [
       "Validation: 0it [00:00, ?it/s]"
      ]
     },
     "metadata": {},
     "output_type": "display_data"
    },
    {
     "data": {
      "application/json": {
       "ascii": false,
       "bar_format": null,
       "colour": null,
       "elapsed": 0.01565384864807129,
       "initial": 0,
       "n": 0,
       "ncols": 119,
       "nrows": 29,
       "postfix": null,
       "prefix": "Validation",
       "rate": null,
       "total": null,
       "unit": "it",
       "unit_divisor": 1000,
       "unit_scale": false
      },
      "application/vnd.jupyter.widget-view+json": {
       "model_id": "",
       "version_major": 2,
       "version_minor": 0
      },
      "text/plain": [
       "Validation: 0it [00:00, ?it/s]"
      ]
     },
     "metadata": {},
     "output_type": "display_data"
    },
    {
     "data": {
      "application/json": {
       "ascii": false,
       "bar_format": null,
       "colour": null,
       "elapsed": 0,
       "initial": 0,
       "n": 0,
       "ncols": 119,
       "nrows": 29,
       "postfix": null,
       "prefix": "Validation",
       "rate": null,
       "total": null,
       "unit": "it",
       "unit_divisor": 1000,
       "unit_scale": false
      },
      "application/vnd.jupyter.widget-view+json": {
       "model_id": "",
       "version_major": 2,
       "version_minor": 0
      },
      "text/plain": [
       "Validation: 0it [00:00, ?it/s]"
      ]
     },
     "metadata": {},
     "output_type": "display_data"
    },
    {
     "data": {
      "application/json": {
       "ascii": false,
       "bar_format": null,
       "colour": null,
       "elapsed": 0.015652179718017578,
       "initial": 0,
       "n": 0,
       "ncols": 119,
       "nrows": 29,
       "postfix": null,
       "prefix": "Validation",
       "rate": null,
       "total": null,
       "unit": "it",
       "unit_divisor": 1000,
       "unit_scale": false
      },
      "application/vnd.jupyter.widget-view+json": {
       "model_id": "",
       "version_major": 2,
       "version_minor": 0
      },
      "text/plain": [
       "Validation: 0it [00:00, ?it/s]"
      ]
     },
     "metadata": {},
     "output_type": "display_data"
    },
    {
     "data": {
      "application/json": {
       "ascii": false,
       "bar_format": null,
       "colour": null,
       "elapsed": 0.015624046325683594,
       "initial": 0,
       "n": 0,
       "ncols": 119,
       "nrows": 29,
       "postfix": null,
       "prefix": "Validation",
       "rate": null,
       "total": null,
       "unit": "it",
       "unit_divisor": 1000,
       "unit_scale": false
      },
      "application/vnd.jupyter.widget-view+json": {
       "model_id": "",
       "version_major": 2,
       "version_minor": 0
      },
      "text/plain": [
       "Validation: 0it [00:00, ?it/s]"
      ]
     },
     "metadata": {},
     "output_type": "display_data"
    },
    {
     "data": {
      "application/json": {
       "ascii": false,
       "bar_format": null,
       "colour": null,
       "elapsed": 0.018136024475097656,
       "initial": 0,
       "n": 0,
       "ncols": 119,
       "nrows": 29,
       "postfix": null,
       "prefix": "Validation",
       "rate": null,
       "total": null,
       "unit": "it",
       "unit_divisor": 1000,
       "unit_scale": false
      },
      "application/vnd.jupyter.widget-view+json": {
       "model_id": "",
       "version_major": 2,
       "version_minor": 0
      },
      "text/plain": [
       "Validation: 0it [00:00, ?it/s]"
      ]
     },
     "metadata": {},
     "output_type": "display_data"
    },
    {
     "data": {
      "application/json": {
       "ascii": false,
       "bar_format": null,
       "colour": null,
       "elapsed": 0,
       "initial": 0,
       "n": 0,
       "ncols": 119,
       "nrows": 29,
       "postfix": null,
       "prefix": "Validation",
       "rate": null,
       "total": null,
       "unit": "it",
       "unit_divisor": 1000,
       "unit_scale": false
      },
      "application/vnd.jupyter.widget-view+json": {
       "model_id": "",
       "version_major": 2,
       "version_minor": 0
      },
      "text/plain": [
       "Validation: 0it [00:00, ?it/s]"
      ]
     },
     "metadata": {},
     "output_type": "display_data"
    },
    {
     "data": {
      "application/json": {
       "ascii": false,
       "bar_format": null,
       "colour": null,
       "elapsed": 0.02013850212097168,
       "initial": 0,
       "n": 0,
       "ncols": 119,
       "nrows": 29,
       "postfix": null,
       "prefix": "Validation",
       "rate": null,
       "total": null,
       "unit": "it",
       "unit_divisor": 1000,
       "unit_scale": false
      },
      "application/vnd.jupyter.widget-view+json": {
       "model_id": "",
       "version_major": 2,
       "version_minor": 0
      },
      "text/plain": [
       "Validation: 0it [00:00, ?it/s]"
      ]
     },
     "metadata": {},
     "output_type": "display_data"
    },
    {
     "data": {
      "application/json": {
       "ascii": false,
       "bar_format": null,
       "colour": null,
       "elapsed": 0.01561284065246582,
       "initial": 0,
       "n": 0,
       "ncols": 119,
       "nrows": 29,
       "postfix": null,
       "prefix": "Validation",
       "rate": null,
       "total": null,
       "unit": "it",
       "unit_divisor": 1000,
       "unit_scale": false
      },
      "application/vnd.jupyter.widget-view+json": {
       "model_id": "",
       "version_major": 2,
       "version_minor": 0
      },
      "text/plain": [
       "Validation: 0it [00:00, ?it/s]"
      ]
     },
     "metadata": {},
     "output_type": "display_data"
    },
    {
     "data": {
      "application/json": {
       "ascii": false,
       "bar_format": null,
       "colour": null,
       "elapsed": 0.015621662139892578,
       "initial": 0,
       "n": 0,
       "ncols": 119,
       "nrows": 29,
       "postfix": null,
       "prefix": "Validation",
       "rate": null,
       "total": null,
       "unit": "it",
       "unit_divisor": 1000,
       "unit_scale": false
      },
      "application/vnd.jupyter.widget-view+json": {
       "model_id": "",
       "version_major": 2,
       "version_minor": 0
      },
      "text/plain": [
       "Validation: 0it [00:00, ?it/s]"
      ]
     },
     "metadata": {},
     "output_type": "display_data"
    },
    {
     "data": {
      "application/json": {
       "ascii": false,
       "bar_format": null,
       "colour": null,
       "elapsed": 0.015624761581420898,
       "initial": 0,
       "n": 0,
       "ncols": 119,
       "nrows": 29,
       "postfix": null,
       "prefix": "Validation",
       "rate": null,
       "total": null,
       "unit": "it",
       "unit_divisor": 1000,
       "unit_scale": false
      },
      "application/vnd.jupyter.widget-view+json": {
       "model_id": "",
       "version_major": 2,
       "version_minor": 0
      },
      "text/plain": [
       "Validation: 0it [00:00, ?it/s]"
      ]
     },
     "metadata": {},
     "output_type": "display_data"
    },
    {
     "data": {
      "application/json": {
       "ascii": false,
       "bar_format": null,
       "colour": null,
       "elapsed": 0,
       "initial": 0,
       "n": 0,
       "ncols": 119,
       "nrows": 29,
       "postfix": null,
       "prefix": "Validation",
       "rate": null,
       "total": null,
       "unit": "it",
       "unit_divisor": 1000,
       "unit_scale": false
      },
      "application/vnd.jupyter.widget-view+json": {
       "model_id": "",
       "version_major": 2,
       "version_minor": 0
      },
      "text/plain": [
       "Validation: 0it [00:00, ?it/s]"
      ]
     },
     "metadata": {},
     "output_type": "display_data"
    },
    {
     "data": {
      "application/json": {
       "ascii": false,
       "bar_format": null,
       "colour": null,
       "elapsed": 0.015627384185791016,
       "initial": 0,
       "n": 0,
       "ncols": 119,
       "nrows": 29,
       "postfix": null,
       "prefix": "Validation",
       "rate": null,
       "total": null,
       "unit": "it",
       "unit_divisor": 1000,
       "unit_scale": false
      },
      "application/vnd.jupyter.widget-view+json": {
       "model_id": "",
       "version_major": 2,
       "version_minor": 0
      },
      "text/plain": [
       "Validation: 0it [00:00, ?it/s]"
      ]
     },
     "metadata": {},
     "output_type": "display_data"
    },
    {
     "data": {
      "application/json": {
       "ascii": false,
       "bar_format": null,
       "colour": null,
       "elapsed": 0.015622854232788086,
       "initial": 0,
       "n": 0,
       "ncols": 119,
       "nrows": 29,
       "postfix": null,
       "prefix": "Validation",
       "rate": null,
       "total": null,
       "unit": "it",
       "unit_divisor": 1000,
       "unit_scale": false
      },
      "application/vnd.jupyter.widget-view+json": {
       "model_id": "",
       "version_major": 2,
       "version_minor": 0
      },
      "text/plain": [
       "Validation: 0it [00:00, ?it/s]"
      ]
     },
     "metadata": {},
     "output_type": "display_data"
    },
    {
     "data": {
      "application/json": {
       "ascii": false,
       "bar_format": null,
       "colour": null,
       "elapsed": 0.01302194595336914,
       "initial": 0,
       "n": 0,
       "ncols": 119,
       "nrows": 29,
       "postfix": null,
       "prefix": "Validation",
       "rate": null,
       "total": null,
       "unit": "it",
       "unit_divisor": 1000,
       "unit_scale": false
      },
      "application/vnd.jupyter.widget-view+json": {
       "model_id": "",
       "version_major": 2,
       "version_minor": 0
      },
      "text/plain": [
       "Validation: 0it [00:00, ?it/s]"
      ]
     },
     "metadata": {},
     "output_type": "display_data"
    },
    {
     "data": {
      "application/json": {
       "ascii": false,
       "bar_format": null,
       "colour": null,
       "elapsed": 0.01562356948852539,
       "initial": 0,
       "n": 0,
       "ncols": 119,
       "nrows": 29,
       "postfix": null,
       "prefix": "Validation",
       "rate": null,
       "total": null,
       "unit": "it",
       "unit_divisor": 1000,
       "unit_scale": false
      },
      "application/vnd.jupyter.widget-view+json": {
       "model_id": "",
       "version_major": 2,
       "version_minor": 0
      },
      "text/plain": [
       "Validation: 0it [00:00, ?it/s]"
      ]
     },
     "metadata": {},
     "output_type": "display_data"
    },
    {
     "data": {
      "application/json": {
       "ascii": false,
       "bar_format": null,
       "colour": null,
       "elapsed": 0.015198945999145508,
       "initial": 0,
       "n": 0,
       "ncols": 119,
       "nrows": 29,
       "postfix": null,
       "prefix": "Validation",
       "rate": null,
       "total": null,
       "unit": "it",
       "unit_divisor": 1000,
       "unit_scale": false
      },
      "application/vnd.jupyter.widget-view+json": {
       "model_id": "",
       "version_major": 2,
       "version_minor": 0
      },
      "text/plain": [
       "Validation: 0it [00:00, ?it/s]"
      ]
     },
     "metadata": {},
     "output_type": "display_data"
    },
    {
     "data": {
      "application/json": {
       "ascii": false,
       "bar_format": null,
       "colour": null,
       "elapsed": 0.015617609024047852,
       "initial": 0,
       "n": 0,
       "ncols": 119,
       "nrows": 29,
       "postfix": null,
       "prefix": "Validation",
       "rate": null,
       "total": null,
       "unit": "it",
       "unit_divisor": 1000,
       "unit_scale": false
      },
      "application/vnd.jupyter.widget-view+json": {
       "model_id": "",
       "version_major": 2,
       "version_minor": 0
      },
      "text/plain": [
       "Validation: 0it [00:00, ?it/s]"
      ]
     },
     "metadata": {},
     "output_type": "display_data"
    },
    {
     "data": {
      "application/json": {
       "ascii": false,
       "bar_format": null,
       "colour": null,
       "elapsed": 0.023639917373657227,
       "initial": 0,
       "n": 0,
       "ncols": 119,
       "nrows": 29,
       "postfix": null,
       "prefix": "Validation",
       "rate": null,
       "total": null,
       "unit": "it",
       "unit_divisor": 1000,
       "unit_scale": false
      },
      "application/vnd.jupyter.widget-view+json": {
       "model_id": "",
       "version_major": 2,
       "version_minor": 0
      },
      "text/plain": [
       "Validation: 0it [00:00, ?it/s]"
      ]
     },
     "metadata": {},
     "output_type": "display_data"
    },
    {
     "data": {
      "application/json": {
       "ascii": false,
       "bar_format": null,
       "colour": null,
       "elapsed": 0.015623092651367188,
       "initial": 0,
       "n": 0,
       "ncols": 119,
       "nrows": 29,
       "postfix": null,
       "prefix": "Validation",
       "rate": null,
       "total": null,
       "unit": "it",
       "unit_divisor": 1000,
       "unit_scale": false
      },
      "application/vnd.jupyter.widget-view+json": {
       "model_id": "",
       "version_major": 2,
       "version_minor": 0
      },
      "text/plain": [
       "Validation: 0it [00:00, ?it/s]"
      ]
     },
     "metadata": {},
     "output_type": "display_data"
    },
    {
     "data": {
      "application/json": {
       "ascii": false,
       "bar_format": null,
       "colour": null,
       "elapsed": 0.015619754791259766,
       "initial": 0,
       "n": 0,
       "ncols": 119,
       "nrows": 29,
       "postfix": null,
       "prefix": "Validation",
       "rate": null,
       "total": null,
       "unit": "it",
       "unit_divisor": 1000,
       "unit_scale": false
      },
      "application/vnd.jupyter.widget-view+json": {
       "model_id": "",
       "version_major": 2,
       "version_minor": 0
      },
      "text/plain": [
       "Validation: 0it [00:00, ?it/s]"
      ]
     },
     "metadata": {},
     "output_type": "display_data"
    },
    {
     "data": {
      "application/json": {
       "ascii": false,
       "bar_format": null,
       "colour": null,
       "elapsed": 0.015656232833862305,
       "initial": 0,
       "n": 0,
       "ncols": 119,
       "nrows": 29,
       "postfix": null,
       "prefix": "Validation",
       "rate": null,
       "total": null,
       "unit": "it",
       "unit_divisor": 1000,
       "unit_scale": false
      },
      "application/vnd.jupyter.widget-view+json": {
       "model_id": "",
       "version_major": 2,
       "version_minor": 0
      },
      "text/plain": [
       "Validation: 0it [00:00, ?it/s]"
      ]
     },
     "metadata": {},
     "output_type": "display_data"
    },
    {
     "data": {
      "application/json": {
       "ascii": false,
       "bar_format": null,
       "colour": null,
       "elapsed": 0.015625953674316406,
       "initial": 0,
       "n": 0,
       "ncols": 119,
       "nrows": 29,
       "postfix": null,
       "prefix": "Validation",
       "rate": null,
       "total": null,
       "unit": "it",
       "unit_divisor": 1000,
       "unit_scale": false
      },
      "application/vnd.jupyter.widget-view+json": {
       "model_id": "",
       "version_major": 2,
       "version_minor": 0
      },
      "text/plain": [
       "Validation: 0it [00:00, ?it/s]"
      ]
     },
     "metadata": {},
     "output_type": "display_data"
    },
    {
     "data": {
      "application/json": {
       "ascii": false,
       "bar_format": null,
       "colour": null,
       "elapsed": 0.015657663345336914,
       "initial": 0,
       "n": 0,
       "ncols": 119,
       "nrows": 29,
       "postfix": null,
       "prefix": "Validation",
       "rate": null,
       "total": null,
       "unit": "it",
       "unit_divisor": 1000,
       "unit_scale": false
      },
      "application/vnd.jupyter.widget-view+json": {
       "model_id": "",
       "version_major": 2,
       "version_minor": 0
      },
      "text/plain": [
       "Validation: 0it [00:00, ?it/s]"
      ]
     },
     "metadata": {},
     "output_type": "display_data"
    },
    {
     "data": {
      "application/json": {
       "ascii": false,
       "bar_format": null,
       "colour": null,
       "elapsed": 0.015625953674316406,
       "initial": 0,
       "n": 0,
       "ncols": 119,
       "nrows": 29,
       "postfix": null,
       "prefix": "Validation",
       "rate": null,
       "total": null,
       "unit": "it",
       "unit_divisor": 1000,
       "unit_scale": false
      },
      "application/vnd.jupyter.widget-view+json": {
       "model_id": "",
       "version_major": 2,
       "version_minor": 0
      },
      "text/plain": [
       "Validation: 0it [00:00, ?it/s]"
      ]
     },
     "metadata": {},
     "output_type": "display_data"
    },
    {
     "data": {
      "application/json": {
       "ascii": false,
       "bar_format": null,
       "colour": null,
       "elapsed": 0.009528875350952148,
       "initial": 0,
       "n": 0,
       "ncols": 119,
       "nrows": 29,
       "postfix": null,
       "prefix": "Validation",
       "rate": null,
       "total": null,
       "unit": "it",
       "unit_divisor": 1000,
       "unit_scale": false
      },
      "application/vnd.jupyter.widget-view+json": {
       "model_id": "",
       "version_major": 2,
       "version_minor": 0
      },
      "text/plain": [
       "Validation: 0it [00:00, ?it/s]"
      ]
     },
     "metadata": {},
     "output_type": "display_data"
    },
    {
     "data": {
      "application/json": {
       "ascii": false,
       "bar_format": null,
       "colour": null,
       "elapsed": 0.01562786102294922,
       "initial": 0,
       "n": 0,
       "ncols": 119,
       "nrows": 29,
       "postfix": null,
       "prefix": "Validation",
       "rate": null,
       "total": null,
       "unit": "it",
       "unit_divisor": 1000,
       "unit_scale": false
      },
      "application/vnd.jupyter.widget-view+json": {
       "model_id": "",
       "version_major": 2,
       "version_minor": 0
      },
      "text/plain": [
       "Validation: 0it [00:00, ?it/s]"
      ]
     },
     "metadata": {},
     "output_type": "display_data"
    },
    {
     "data": {
      "application/json": {
       "ascii": false,
       "bar_format": null,
       "colour": null,
       "elapsed": 0.015034198760986328,
       "initial": 0,
       "n": 0,
       "ncols": 119,
       "nrows": 29,
       "postfix": null,
       "prefix": "Validation",
       "rate": null,
       "total": null,
       "unit": "it",
       "unit_divisor": 1000,
       "unit_scale": false
      },
      "application/vnd.jupyter.widget-view+json": {
       "model_id": "",
       "version_major": 2,
       "version_minor": 0
      },
      "text/plain": [
       "Validation: 0it [00:00, ?it/s]"
      ]
     },
     "metadata": {},
     "output_type": "display_data"
    },
    {
     "data": {
      "application/json": {
       "ascii": false,
       "bar_format": null,
       "colour": null,
       "elapsed": 0.015585184097290039,
       "initial": 0,
       "n": 0,
       "ncols": 119,
       "nrows": 29,
       "postfix": null,
       "prefix": "Validation",
       "rate": null,
       "total": null,
       "unit": "it",
       "unit_divisor": 1000,
       "unit_scale": false
      },
      "application/vnd.jupyter.widget-view+json": {
       "model_id": "",
       "version_major": 2,
       "version_minor": 0
      },
      "text/plain": [
       "Validation: 0it [00:00, ?it/s]"
      ]
     },
     "metadata": {},
     "output_type": "display_data"
    },
    {
     "data": {
      "application/json": {
       "ascii": false,
       "bar_format": null,
       "colour": null,
       "elapsed": 0.026638269424438477,
       "initial": 0,
       "n": 0,
       "ncols": 119,
       "nrows": 29,
       "postfix": null,
       "prefix": "Validation",
       "rate": null,
       "total": null,
       "unit": "it",
       "unit_divisor": 1000,
       "unit_scale": false
      },
      "application/vnd.jupyter.widget-view+json": {
       "model_id": "",
       "version_major": 2,
       "version_minor": 0
      },
      "text/plain": [
       "Validation: 0it [00:00, ?it/s]"
      ]
     },
     "metadata": {},
     "output_type": "display_data"
    },
    {
     "data": {
      "application/json": {
       "ascii": false,
       "bar_format": null,
       "colour": null,
       "elapsed": 0.015621662139892578,
       "initial": 0,
       "n": 0,
       "ncols": 119,
       "nrows": 29,
       "postfix": null,
       "prefix": "Validation",
       "rate": null,
       "total": null,
       "unit": "it",
       "unit_divisor": 1000,
       "unit_scale": false
      },
      "application/vnd.jupyter.widget-view+json": {
       "model_id": "",
       "version_major": 2,
       "version_minor": 0
      },
      "text/plain": [
       "Validation: 0it [00:00, ?it/s]"
      ]
     },
     "metadata": {},
     "output_type": "display_data"
    },
    {
     "data": {
      "application/json": {
       "ascii": false,
       "bar_format": null,
       "colour": null,
       "elapsed": 0.016327619552612305,
       "initial": 0,
       "n": 0,
       "ncols": 119,
       "nrows": 29,
       "postfix": null,
       "prefix": "Validation",
       "rate": null,
       "total": null,
       "unit": "it",
       "unit_divisor": 1000,
       "unit_scale": false
      },
      "application/vnd.jupyter.widget-view+json": {
       "model_id": "",
       "version_major": 2,
       "version_minor": 0
      },
      "text/plain": [
       "Validation: 0it [00:00, ?it/s]"
      ]
     },
     "metadata": {},
     "output_type": "display_data"
    },
    {
     "data": {
      "application/json": {
       "ascii": false,
       "bar_format": null,
       "colour": null,
       "elapsed": 0.015659093856811523,
       "initial": 0,
       "n": 0,
       "ncols": 119,
       "nrows": 29,
       "postfix": null,
       "prefix": "Validation",
       "rate": null,
       "total": null,
       "unit": "it",
       "unit_divisor": 1000,
       "unit_scale": false
      },
      "application/vnd.jupyter.widget-view+json": {
       "model_id": "",
       "version_major": 2,
       "version_minor": 0
      },
      "text/plain": [
       "Validation: 0it [00:00, ?it/s]"
      ]
     },
     "metadata": {},
     "output_type": "display_data"
    },
    {
     "data": {
      "application/json": {
       "ascii": false,
       "bar_format": null,
       "colour": null,
       "elapsed": 0.0156252384185791,
       "initial": 0,
       "n": 0,
       "ncols": 119,
       "nrows": 29,
       "postfix": null,
       "prefix": "Validation",
       "rate": null,
       "total": null,
       "unit": "it",
       "unit_divisor": 1000,
       "unit_scale": false
      },
      "application/vnd.jupyter.widget-view+json": {
       "model_id": "",
       "version_major": 2,
       "version_minor": 0
      },
      "text/plain": [
       "Validation: 0it [00:00, ?it/s]"
      ]
     },
     "metadata": {},
     "output_type": "display_data"
    },
    {
     "data": {
      "application/json": {
       "ascii": false,
       "bar_format": null,
       "colour": null,
       "elapsed": 0.015654563903808594,
       "initial": 0,
       "n": 0,
       "ncols": 119,
       "nrows": 29,
       "postfix": null,
       "prefix": "Validation",
       "rate": null,
       "total": null,
       "unit": "it",
       "unit_divisor": 1000,
       "unit_scale": false
      },
      "application/vnd.jupyter.widget-view+json": {
       "model_id": "",
       "version_major": 2,
       "version_minor": 0
      },
      "text/plain": [
       "Validation: 0it [00:00, ?it/s]"
      ]
     },
     "metadata": {},
     "output_type": "display_data"
    },
    {
     "data": {
      "application/json": {
       "ascii": false,
       "bar_format": null,
       "colour": null,
       "elapsed": 0.015658140182495117,
       "initial": 0,
       "n": 0,
       "ncols": 119,
       "nrows": 29,
       "postfix": null,
       "prefix": "Validation",
       "rate": null,
       "total": null,
       "unit": "it",
       "unit_divisor": 1000,
       "unit_scale": false
      },
      "application/vnd.jupyter.widget-view+json": {
       "model_id": "",
       "version_major": 2,
       "version_minor": 0
      },
      "text/plain": [
       "Validation: 0it [00:00, ?it/s]"
      ]
     },
     "metadata": {},
     "output_type": "display_data"
    },
    {
     "data": {
      "application/json": {
       "ascii": false,
       "bar_format": null,
       "colour": null,
       "elapsed": 0,
       "initial": 0,
       "n": 0,
       "ncols": 119,
       "nrows": 29,
       "postfix": null,
       "prefix": "Validation",
       "rate": null,
       "total": null,
       "unit": "it",
       "unit_divisor": 1000,
       "unit_scale": false
      },
      "application/vnd.jupyter.widget-view+json": {
       "model_id": "",
       "version_major": 2,
       "version_minor": 0
      },
      "text/plain": [
       "Validation: 0it [00:00, ?it/s]"
      ]
     },
     "metadata": {},
     "output_type": "display_data"
    },
    {
     "data": {
      "application/json": {
       "ascii": false,
       "bar_format": null,
       "colour": null,
       "elapsed": 0.015625476837158203,
       "initial": 0,
       "n": 0,
       "ncols": 119,
       "nrows": 29,
       "postfix": null,
       "prefix": "Validation",
       "rate": null,
       "total": null,
       "unit": "it",
       "unit_divisor": 1000,
       "unit_scale": false
      },
      "application/vnd.jupyter.widget-view+json": {
       "model_id": "",
       "version_major": 2,
       "version_minor": 0
      },
      "text/plain": [
       "Validation: 0it [00:00, ?it/s]"
      ]
     },
     "metadata": {},
     "output_type": "display_data"
    },
    {
     "data": {
      "application/json": {
       "ascii": false,
       "bar_format": null,
       "colour": null,
       "elapsed": 0.005524873733520508,
       "initial": 0,
       "n": 0,
       "ncols": 119,
       "nrows": 29,
       "postfix": null,
       "prefix": "Validation",
       "rate": null,
       "total": null,
       "unit": "it",
       "unit_divisor": 1000,
       "unit_scale": false
      },
      "application/vnd.jupyter.widget-view+json": {
       "model_id": "",
       "version_major": 2,
       "version_minor": 0
      },
      "text/plain": [
       "Validation: 0it [00:00, ?it/s]"
      ]
     },
     "metadata": {},
     "output_type": "display_data"
    },
    {
     "data": {
      "application/json": {
       "ascii": false,
       "bar_format": null,
       "colour": null,
       "elapsed": 0.0005068778991699219,
       "initial": 0,
       "n": 0,
       "ncols": 119,
       "nrows": 29,
       "postfix": null,
       "prefix": "Validation",
       "rate": null,
       "total": null,
       "unit": "it",
       "unit_divisor": 1000,
       "unit_scale": false
      },
      "application/vnd.jupyter.widget-view+json": {
       "model_id": "",
       "version_major": 2,
       "version_minor": 0
      },
      "text/plain": [
       "Validation: 0it [00:00, ?it/s]"
      ]
     },
     "metadata": {},
     "output_type": "display_data"
    },
    {
     "data": {
      "application/json": {
       "ascii": false,
       "bar_format": null,
       "colour": null,
       "elapsed": 0.01603841781616211,
       "initial": 0,
       "n": 0,
       "ncols": 119,
       "nrows": 29,
       "postfix": null,
       "prefix": "Validation",
       "rate": null,
       "total": null,
       "unit": "it",
       "unit_divisor": 1000,
       "unit_scale": false
      },
      "application/vnd.jupyter.widget-view+json": {
       "model_id": "",
       "version_major": 2,
       "version_minor": 0
      },
      "text/plain": [
       "Validation: 0it [00:00, ?it/s]"
      ]
     },
     "metadata": {},
     "output_type": "display_data"
    },
    {
     "data": {
      "application/json": {
       "ascii": false,
       "bar_format": null,
       "colour": null,
       "elapsed": 0.01565098762512207,
       "initial": 0,
       "n": 0,
       "ncols": 119,
       "nrows": 29,
       "postfix": null,
       "prefix": "Validation",
       "rate": null,
       "total": null,
       "unit": "it",
       "unit_divisor": 1000,
       "unit_scale": false
      },
      "application/vnd.jupyter.widget-view+json": {
       "model_id": "",
       "version_major": 2,
       "version_minor": 0
      },
      "text/plain": [
       "Validation: 0it [00:00, ?it/s]"
      ]
     },
     "metadata": {},
     "output_type": "display_data"
    },
    {
     "data": {
      "application/json": {
       "ascii": false,
       "bar_format": null,
       "colour": null,
       "elapsed": 0.015623331069946289,
       "initial": 0,
       "n": 0,
       "ncols": 119,
       "nrows": 29,
       "postfix": null,
       "prefix": "Validation",
       "rate": null,
       "total": null,
       "unit": "it",
       "unit_divisor": 1000,
       "unit_scale": false
      },
      "application/vnd.jupyter.widget-view+json": {
       "model_id": "",
       "version_major": 2,
       "version_minor": 0
      },
      "text/plain": [
       "Validation: 0it [00:00, ?it/s]"
      ]
     },
     "metadata": {},
     "output_type": "display_data"
    },
    {
     "data": {
      "application/json": {
       "ascii": false,
       "bar_format": null,
       "colour": null,
       "elapsed": 0.015649795532226562,
       "initial": 0,
       "n": 0,
       "ncols": 119,
       "nrows": 29,
       "postfix": null,
       "prefix": "Validation",
       "rate": null,
       "total": null,
       "unit": "it",
       "unit_divisor": 1000,
       "unit_scale": false
      },
      "application/vnd.jupyter.widget-view+json": {
       "model_id": "",
       "version_major": 2,
       "version_minor": 0
      },
      "text/plain": [
       "Validation: 0it [00:00, ?it/s]"
      ]
     },
     "metadata": {},
     "output_type": "display_data"
    },
    {
     "data": {
      "application/json": {
       "ascii": false,
       "bar_format": null,
       "colour": null,
       "elapsed": 0.015615701675415039,
       "initial": 0,
       "n": 0,
       "ncols": 119,
       "nrows": 29,
       "postfix": null,
       "prefix": "Validation",
       "rate": null,
       "total": null,
       "unit": "it",
       "unit_divisor": 1000,
       "unit_scale": false
      },
      "application/vnd.jupyter.widget-view+json": {
       "model_id": "",
       "version_major": 2,
       "version_minor": 0
      },
      "text/plain": [
       "Validation: 0it [00:00, ?it/s]"
      ]
     },
     "metadata": {},
     "output_type": "display_data"
    },
    {
     "data": {
      "application/json": {
       "ascii": false,
       "bar_format": null,
       "colour": null,
       "elapsed": 0.0163419246673584,
       "initial": 0,
       "n": 0,
       "ncols": 119,
       "nrows": 29,
       "postfix": null,
       "prefix": "Validation",
       "rate": null,
       "total": null,
       "unit": "it",
       "unit_divisor": 1000,
       "unit_scale": false
      },
      "application/vnd.jupyter.widget-view+json": {
       "model_id": "",
       "version_major": 2,
       "version_minor": 0
      },
      "text/plain": [
       "Validation: 0it [00:00, ?it/s]"
      ]
     },
     "metadata": {},
     "output_type": "display_data"
    },
    {
     "data": {
      "application/json": {
       "ascii": false,
       "bar_format": null,
       "colour": null,
       "elapsed": 0.015611648559570312,
       "initial": 0,
       "n": 0,
       "ncols": 119,
       "nrows": 29,
       "postfix": null,
       "prefix": "Validation",
       "rate": null,
       "total": null,
       "unit": "it",
       "unit_divisor": 1000,
       "unit_scale": false
      },
      "application/vnd.jupyter.widget-view+json": {
       "model_id": "",
       "version_major": 2,
       "version_minor": 0
      },
      "text/plain": [
       "Validation: 0it [00:00, ?it/s]"
      ]
     },
     "metadata": {},
     "output_type": "display_data"
    },
    {
     "data": {
      "application/json": {
       "ascii": false,
       "bar_format": null,
       "colour": null,
       "elapsed": 0.01713395118713379,
       "initial": 0,
       "n": 0,
       "ncols": 119,
       "nrows": 29,
       "postfix": null,
       "prefix": "Validation",
       "rate": null,
       "total": null,
       "unit": "it",
       "unit_divisor": 1000,
       "unit_scale": false
      },
      "application/vnd.jupyter.widget-view+json": {
       "model_id": "",
       "version_major": 2,
       "version_minor": 0
      },
      "text/plain": [
       "Validation: 0it [00:00, ?it/s]"
      ]
     },
     "metadata": {},
     "output_type": "display_data"
    },
    {
     "data": {
      "application/json": {
       "ascii": false,
       "bar_format": null,
       "colour": null,
       "elapsed": 0.015618562698364258,
       "initial": 0,
       "n": 0,
       "ncols": 119,
       "nrows": 29,
       "postfix": null,
       "prefix": "Validation",
       "rate": null,
       "total": null,
       "unit": "it",
       "unit_divisor": 1000,
       "unit_scale": false
      },
      "application/vnd.jupyter.widget-view+json": {
       "model_id": "",
       "version_major": 2,
       "version_minor": 0
      },
      "text/plain": [
       "Validation: 0it [00:00, ?it/s]"
      ]
     },
     "metadata": {},
     "output_type": "display_data"
    },
    {
     "data": {
      "application/json": {
       "ascii": false,
       "bar_format": null,
       "colour": null,
       "elapsed": 0.012027740478515625,
       "initial": 0,
       "n": 0,
       "ncols": 119,
       "nrows": 29,
       "postfix": null,
       "prefix": "Validation",
       "rate": null,
       "total": null,
       "unit": "it",
       "unit_divisor": 1000,
       "unit_scale": false
      },
      "application/vnd.jupyter.widget-view+json": {
       "model_id": "",
       "version_major": 2,
       "version_minor": 0
      },
      "text/plain": [
       "Validation: 0it [00:00, ?it/s]"
      ]
     },
     "metadata": {},
     "output_type": "display_data"
    },
    {
     "data": {
      "application/json": {
       "ascii": false,
       "bar_format": null,
       "colour": null,
       "elapsed": 0.015625,
       "initial": 0,
       "n": 0,
       "ncols": 119,
       "nrows": 29,
       "postfix": null,
       "prefix": "Validation",
       "rate": null,
       "total": null,
       "unit": "it",
       "unit_divisor": 1000,
       "unit_scale": false
      },
      "application/vnd.jupyter.widget-view+json": {
       "model_id": "",
       "version_major": 2,
       "version_minor": 0
      },
      "text/plain": [
       "Validation: 0it [00:00, ?it/s]"
      ]
     },
     "metadata": {},
     "output_type": "display_data"
    },
    {
     "data": {
      "application/json": {
       "ascii": false,
       "bar_format": null,
       "colour": null,
       "elapsed": 0.009520292282104492,
       "initial": 0,
       "n": 0,
       "ncols": 119,
       "nrows": 29,
       "postfix": null,
       "prefix": "Validation",
       "rate": null,
       "total": null,
       "unit": "it",
       "unit_divisor": 1000,
       "unit_scale": false
      },
      "application/vnd.jupyter.widget-view+json": {
       "model_id": "",
       "version_major": 2,
       "version_minor": 0
      },
      "text/plain": [
       "Validation: 0it [00:00, ?it/s]"
      ]
     },
     "metadata": {},
     "output_type": "display_data"
    },
    {
     "data": {
      "application/json": {
       "ascii": false,
       "bar_format": null,
       "colour": null,
       "elapsed": 0.01562356948852539,
       "initial": 0,
       "n": 0,
       "ncols": 119,
       "nrows": 29,
       "postfix": null,
       "prefix": "Validation",
       "rate": null,
       "total": null,
       "unit": "it",
       "unit_divisor": 1000,
       "unit_scale": false
      },
      "application/vnd.jupyter.widget-view+json": {
       "model_id": "",
       "version_major": 2,
       "version_minor": 0
      },
      "text/plain": [
       "Validation: 0it [00:00, ?it/s]"
      ]
     },
     "metadata": {},
     "output_type": "display_data"
    },
    {
     "data": {
      "application/json": {
       "ascii": false,
       "bar_format": null,
       "colour": null,
       "elapsed": 0.015644073486328125,
       "initial": 0,
       "n": 0,
       "ncols": 119,
       "nrows": 29,
       "postfix": null,
       "prefix": "Validation",
       "rate": null,
       "total": null,
       "unit": "it",
       "unit_divisor": 1000,
       "unit_scale": false
      },
      "application/vnd.jupyter.widget-view+json": {
       "model_id": "",
       "version_major": 2,
       "version_minor": 0
      },
      "text/plain": [
       "Validation: 0it [00:00, ?it/s]"
      ]
     },
     "metadata": {},
     "output_type": "display_data"
    },
    {
     "data": {
      "application/json": {
       "ascii": false,
       "bar_format": null,
       "colour": null,
       "elapsed": 0.01562047004699707,
       "initial": 0,
       "n": 0,
       "ncols": 119,
       "nrows": 29,
       "postfix": null,
       "prefix": "Validation",
       "rate": null,
       "total": null,
       "unit": "it",
       "unit_divisor": 1000,
       "unit_scale": false
      },
      "application/vnd.jupyter.widget-view+json": {
       "model_id": "",
       "version_major": 2,
       "version_minor": 0
      },
      "text/plain": [
       "Validation: 0it [00:00, ?it/s]"
      ]
     },
     "metadata": {},
     "output_type": "display_data"
    },
    {
     "data": {
      "application/json": {
       "ascii": false,
       "bar_format": null,
       "colour": null,
       "elapsed": 0.015625953674316406,
       "initial": 0,
       "n": 0,
       "ncols": 119,
       "nrows": 29,
       "postfix": null,
       "prefix": "Validation",
       "rate": null,
       "total": null,
       "unit": "it",
       "unit_divisor": 1000,
       "unit_scale": false
      },
      "application/vnd.jupyter.widget-view+json": {
       "model_id": "",
       "version_major": 2,
       "version_minor": 0
      },
      "text/plain": [
       "Validation: 0it [00:00, ?it/s]"
      ]
     },
     "metadata": {},
     "output_type": "display_data"
    },
    {
     "data": {
      "application/json": {
       "ascii": false,
       "bar_format": null,
       "colour": null,
       "elapsed": 0.015654563903808594,
       "initial": 0,
       "n": 0,
       "ncols": 119,
       "nrows": 29,
       "postfix": null,
       "prefix": "Validation",
       "rate": null,
       "total": null,
       "unit": "it",
       "unit_divisor": 1000,
       "unit_scale": false
      },
      "application/vnd.jupyter.widget-view+json": {
       "model_id": "",
       "version_major": 2,
       "version_minor": 0
      },
      "text/plain": [
       "Validation: 0it [00:00, ?it/s]"
      ]
     },
     "metadata": {},
     "output_type": "display_data"
    },
    {
     "data": {
      "application/json": {
       "ascii": false,
       "bar_format": null,
       "colour": null,
       "elapsed": 0.015623807907104492,
       "initial": 0,
       "n": 0,
       "ncols": 119,
       "nrows": 29,
       "postfix": null,
       "prefix": "Validation",
       "rate": null,
       "total": null,
       "unit": "it",
       "unit_divisor": 1000,
       "unit_scale": false
      },
      "application/vnd.jupyter.widget-view+json": {
       "model_id": "",
       "version_major": 2,
       "version_minor": 0
      },
      "text/plain": [
       "Validation: 0it [00:00, ?it/s]"
      ]
     },
     "metadata": {},
     "output_type": "display_data"
    },
    {
     "data": {
      "application/json": {
       "ascii": false,
       "bar_format": null,
       "colour": null,
       "elapsed": 0.015622615814208984,
       "initial": 0,
       "n": 0,
       "ncols": 119,
       "nrows": 29,
       "postfix": null,
       "prefix": "Validation",
       "rate": null,
       "total": null,
       "unit": "it",
       "unit_divisor": 1000,
       "unit_scale": false
      },
      "application/vnd.jupyter.widget-view+json": {
       "model_id": "",
       "version_major": 2,
       "version_minor": 0
      },
      "text/plain": [
       "Validation: 0it [00:00, ?it/s]"
      ]
     },
     "metadata": {},
     "output_type": "display_data"
    },
    {
     "data": {
      "application/json": {
       "ascii": false,
       "bar_format": null,
       "colour": null,
       "elapsed": 0.01565408706665039,
       "initial": 0,
       "n": 0,
       "ncols": 119,
       "nrows": 29,
       "postfix": null,
       "prefix": "Validation",
       "rate": null,
       "total": null,
       "unit": "it",
       "unit_divisor": 1000,
       "unit_scale": false
      },
      "application/vnd.jupyter.widget-view+json": {
       "model_id": "",
       "version_major": 2,
       "version_minor": 0
      },
      "text/plain": [
       "Validation: 0it [00:00, ?it/s]"
      ]
     },
     "metadata": {},
     "output_type": "display_data"
    },
    {
     "data": {
      "application/json": {
       "ascii": false,
       "bar_format": null,
       "colour": null,
       "elapsed": 0.018137454986572266,
       "initial": 0,
       "n": 0,
       "ncols": 119,
       "nrows": 29,
       "postfix": null,
       "prefix": "Validation",
       "rate": null,
       "total": null,
       "unit": "it",
       "unit_divisor": 1000,
       "unit_scale": false
      },
      "application/vnd.jupyter.widget-view+json": {
       "model_id": "",
       "version_major": 2,
       "version_minor": 0
      },
      "text/plain": [
       "Validation: 0it [00:00, ?it/s]"
      ]
     },
     "metadata": {},
     "output_type": "display_data"
    },
    {
     "data": {
      "application/json": {
       "ascii": false,
       "bar_format": null,
       "colour": null,
       "elapsed": 0.015629053115844727,
       "initial": 0,
       "n": 0,
       "ncols": 119,
       "nrows": 29,
       "postfix": null,
       "prefix": "Validation",
       "rate": null,
       "total": null,
       "unit": "it",
       "unit_divisor": 1000,
       "unit_scale": false
      },
      "application/vnd.jupyter.widget-view+json": {
       "model_id": "",
       "version_major": 2,
       "version_minor": 0
      },
      "text/plain": [
       "Validation: 0it [00:00, ?it/s]"
      ]
     },
     "metadata": {},
     "output_type": "display_data"
    },
    {
     "data": {
      "application/json": {
       "ascii": false,
       "bar_format": null,
       "colour": null,
       "elapsed": 0.015016317367553711,
       "initial": 0,
       "n": 0,
       "ncols": 119,
       "nrows": 29,
       "postfix": null,
       "prefix": "Validation",
       "rate": null,
       "total": null,
       "unit": "it",
       "unit_divisor": 1000,
       "unit_scale": false
      },
      "application/vnd.jupyter.widget-view+json": {
       "model_id": "",
       "version_major": 2,
       "version_minor": 0
      },
      "text/plain": [
       "Validation: 0it [00:00, ?it/s]"
      ]
     },
     "metadata": {},
     "output_type": "display_data"
    },
    {
     "data": {
      "application/json": {
       "ascii": false,
       "bar_format": null,
       "colour": null,
       "elapsed": 0.015613317489624023,
       "initial": 0,
       "n": 0,
       "ncols": 119,
       "nrows": 29,
       "postfix": null,
       "prefix": "Validation",
       "rate": null,
       "total": null,
       "unit": "it",
       "unit_divisor": 1000,
       "unit_scale": false
      },
      "application/vnd.jupyter.widget-view+json": {
       "model_id": "",
       "version_major": 2,
       "version_minor": 0
      },
      "text/plain": [
       "Validation: 0it [00:00, ?it/s]"
      ]
     },
     "metadata": {},
     "output_type": "display_data"
    },
    {
     "data": {
      "application/json": {
       "ascii": false,
       "bar_format": null,
       "colour": null,
       "elapsed": 0.015623092651367188,
       "initial": 0,
       "n": 0,
       "ncols": 119,
       "nrows": 29,
       "postfix": null,
       "prefix": "Validation",
       "rate": null,
       "total": null,
       "unit": "it",
       "unit_divisor": 1000,
       "unit_scale": false
      },
      "application/vnd.jupyter.widget-view+json": {
       "model_id": "",
       "version_major": 2,
       "version_minor": 0
      },
      "text/plain": [
       "Validation: 0it [00:00, ?it/s]"
      ]
     },
     "metadata": {},
     "output_type": "display_data"
    },
    {
     "data": {
      "application/json": {
       "ascii": false,
       "bar_format": null,
       "colour": null,
       "elapsed": 0.012022972106933594,
       "initial": 0,
       "n": 0,
       "ncols": 119,
       "nrows": 29,
       "postfix": null,
       "prefix": "Validation",
       "rate": null,
       "total": null,
       "unit": "it",
       "unit_divisor": 1000,
       "unit_scale": false
      },
      "application/vnd.jupyter.widget-view+json": {
       "model_id": "",
       "version_major": 2,
       "version_minor": 0
      },
      "text/plain": [
       "Validation: 0it [00:00, ?it/s]"
      ]
     },
     "metadata": {},
     "output_type": "display_data"
    },
    {
     "data": {
      "application/json": {
       "ascii": false,
       "bar_format": null,
       "colour": null,
       "elapsed": 0.015594482421875,
       "initial": 0,
       "n": 0,
       "ncols": 119,
       "nrows": 29,
       "postfix": null,
       "prefix": "Validation",
       "rate": null,
       "total": null,
       "unit": "it",
       "unit_divisor": 1000,
       "unit_scale": false
      },
      "application/vnd.jupyter.widget-view+json": {
       "model_id": "",
       "version_major": 2,
       "version_minor": 0
      },
      "text/plain": [
       "Validation: 0it [00:00, ?it/s]"
      ]
     },
     "metadata": {},
     "output_type": "display_data"
    },
    {
     "data": {
      "application/json": {
       "ascii": false,
       "bar_format": null,
       "colour": null,
       "elapsed": 0.01562190055847168,
       "initial": 0,
       "n": 0,
       "ncols": 119,
       "nrows": 29,
       "postfix": null,
       "prefix": "Validation",
       "rate": null,
       "total": null,
       "unit": "it",
       "unit_divisor": 1000,
       "unit_scale": false
      },
      "application/vnd.jupyter.widget-view+json": {
       "model_id": "",
       "version_major": 2,
       "version_minor": 0
      },
      "text/plain": [
       "Validation: 0it [00:00, ?it/s]"
      ]
     },
     "metadata": {},
     "output_type": "display_data"
    },
    {
     "data": {
      "application/json": {
       "ascii": false,
       "bar_format": null,
       "colour": null,
       "elapsed": 0.018612384796142578,
       "initial": 0,
       "n": 0,
       "ncols": 119,
       "nrows": 29,
       "postfix": null,
       "prefix": "Validation",
       "rate": null,
       "total": null,
       "unit": "it",
       "unit_divisor": 1000,
       "unit_scale": false
      },
      "application/vnd.jupyter.widget-view+json": {
       "model_id": "",
       "version_major": 2,
       "version_minor": 0
      },
      "text/plain": [
       "Validation: 0it [00:00, ?it/s]"
      ]
     },
     "metadata": {},
     "output_type": "display_data"
    },
    {
     "data": {
      "application/json": {
       "ascii": false,
       "bar_format": null,
       "colour": null,
       "elapsed": 0.015627145767211914,
       "initial": 0,
       "n": 0,
       "ncols": 119,
       "nrows": 29,
       "postfix": null,
       "prefix": "Validation",
       "rate": null,
       "total": null,
       "unit": "it",
       "unit_divisor": 1000,
       "unit_scale": false
      },
      "application/vnd.jupyter.widget-view+json": {
       "model_id": "",
       "version_major": 2,
       "version_minor": 0
      },
      "text/plain": [
       "Validation: 0it [00:00, ?it/s]"
      ]
     },
     "metadata": {},
     "output_type": "display_data"
    },
    {
     "data": {
      "application/json": {
       "ascii": false,
       "bar_format": null,
       "colour": null,
       "elapsed": 0,
       "initial": 0,
       "n": 0,
       "ncols": 119,
       "nrows": 29,
       "postfix": null,
       "prefix": "Validation",
       "rate": null,
       "total": null,
       "unit": "it",
       "unit_divisor": 1000,
       "unit_scale": false
      },
      "application/vnd.jupyter.widget-view+json": {
       "model_id": "",
       "version_major": 2,
       "version_minor": 0
      },
      "text/plain": [
       "Validation: 0it [00:00, ?it/s]"
      ]
     },
     "metadata": {},
     "output_type": "display_data"
    },
    {
     "data": {
      "application/json": {
       "ascii": false,
       "bar_format": null,
       "colour": null,
       "elapsed": 0.016666173934936523,
       "initial": 0,
       "n": 0,
       "ncols": 119,
       "nrows": 29,
       "postfix": null,
       "prefix": "Validation",
       "rate": null,
       "total": null,
       "unit": "it",
       "unit_divisor": 1000,
       "unit_scale": false
      },
      "application/vnd.jupyter.widget-view+json": {
       "model_id": "",
       "version_major": 2,
       "version_minor": 0
      },
      "text/plain": [
       "Validation: 0it [00:00, ?it/s]"
      ]
     },
     "metadata": {},
     "output_type": "display_data"
    },
    {
     "data": {
      "application/json": {
       "ascii": false,
       "bar_format": null,
       "colour": null,
       "elapsed": 0.015626907348632812,
       "initial": 0,
       "n": 0,
       "ncols": 119,
       "nrows": 29,
       "postfix": null,
       "prefix": "Validation",
       "rate": null,
       "total": null,
       "unit": "it",
       "unit_divisor": 1000,
       "unit_scale": false
      },
      "application/vnd.jupyter.widget-view+json": {
       "model_id": "",
       "version_major": 2,
       "version_minor": 0
      },
      "text/plain": [
       "Validation: 0it [00:00, ?it/s]"
      ]
     },
     "metadata": {},
     "output_type": "display_data"
    },
    {
     "data": {
      "application/json": {
       "ascii": false,
       "bar_format": null,
       "colour": null,
       "elapsed": 0,
       "initial": 0,
       "n": 0,
       "ncols": 119,
       "nrows": 29,
       "postfix": null,
       "prefix": "Validation",
       "rate": null,
       "total": null,
       "unit": "it",
       "unit_divisor": 1000,
       "unit_scale": false
      },
      "application/vnd.jupyter.widget-view+json": {
       "model_id": "",
       "version_major": 2,
       "version_minor": 0
      },
      "text/plain": [
       "Validation: 0it [00:00, ?it/s]"
      ]
     },
     "metadata": {},
     "output_type": "display_data"
    },
    {
     "data": {
      "application/json": {
       "ascii": false,
       "bar_format": null,
       "colour": null,
       "elapsed": 0,
       "initial": 0,
       "n": 0,
       "ncols": 119,
       "nrows": 29,
       "postfix": null,
       "prefix": "Validation",
       "rate": null,
       "total": null,
       "unit": "it",
       "unit_divisor": 1000,
       "unit_scale": false
      },
      "application/vnd.jupyter.widget-view+json": {
       "model_id": "",
       "version_major": 2,
       "version_minor": 0
      },
      "text/plain": [
       "Validation: 0it [00:00, ?it/s]"
      ]
     },
     "metadata": {},
     "output_type": "display_data"
    },
    {
     "data": {
      "application/json": {
       "ascii": false,
       "bar_format": null,
       "colour": null,
       "elapsed": 0.01560354232788086,
       "initial": 0,
       "n": 0,
       "ncols": 119,
       "nrows": 29,
       "postfix": null,
       "prefix": "Validation",
       "rate": null,
       "total": null,
       "unit": "it",
       "unit_divisor": 1000,
       "unit_scale": false
      },
      "application/vnd.jupyter.widget-view+json": {
       "model_id": "",
       "version_major": 2,
       "version_minor": 0
      },
      "text/plain": [
       "Validation: 0it [00:00, ?it/s]"
      ]
     },
     "metadata": {},
     "output_type": "display_data"
    },
    {
     "data": {
      "application/json": {
       "ascii": false,
       "bar_format": null,
       "colour": null,
       "elapsed": 0.013029098510742188,
       "initial": 0,
       "n": 0,
       "ncols": 119,
       "nrows": 29,
       "postfix": null,
       "prefix": "Validation",
       "rate": null,
       "total": null,
       "unit": "it",
       "unit_divisor": 1000,
       "unit_scale": false
      },
      "application/vnd.jupyter.widget-view+json": {
       "model_id": "",
       "version_major": 2,
       "version_minor": 0
      },
      "text/plain": [
       "Validation: 0it [00:00, ?it/s]"
      ]
     },
     "metadata": {},
     "output_type": "display_data"
    },
    {
     "data": {
      "application/json": {
       "ascii": false,
       "bar_format": null,
       "colour": null,
       "elapsed": 0.01559901237487793,
       "initial": 0,
       "n": 0,
       "ncols": 119,
       "nrows": 29,
       "postfix": null,
       "prefix": "Validation",
       "rate": null,
       "total": null,
       "unit": "it",
       "unit_divisor": 1000,
       "unit_scale": false
      },
      "application/vnd.jupyter.widget-view+json": {
       "model_id": "",
       "version_major": 2,
       "version_minor": 0
      },
      "text/plain": [
       "Validation: 0it [00:00, ?it/s]"
      ]
     },
     "metadata": {},
     "output_type": "display_data"
    },
    {
     "data": {
      "application/json": {
       "ascii": false,
       "bar_format": null,
       "colour": null,
       "elapsed": 0.0156252384185791,
       "initial": 0,
       "n": 0,
       "ncols": 119,
       "nrows": 29,
       "postfix": null,
       "prefix": "Validation",
       "rate": null,
       "total": null,
       "unit": "it",
       "unit_divisor": 1000,
       "unit_scale": false
      },
      "application/vnd.jupyter.widget-view+json": {
       "model_id": "",
       "version_major": 2,
       "version_minor": 0
      },
      "text/plain": [
       "Validation: 0it [00:00, ?it/s]"
      ]
     },
     "metadata": {},
     "output_type": "display_data"
    },
    {
     "data": {
      "application/json": {
       "ascii": false,
       "bar_format": null,
       "colour": null,
       "elapsed": 0.015017986297607422,
       "initial": 0,
       "n": 0,
       "ncols": 119,
       "nrows": 29,
       "postfix": null,
       "prefix": "Validation",
       "rate": null,
       "total": null,
       "unit": "it",
       "unit_divisor": 1000,
       "unit_scale": false
      },
      "application/vnd.jupyter.widget-view+json": {
       "model_id": "",
       "version_major": 2,
       "version_minor": 0
      },
      "text/plain": [
       "Validation: 0it [00:00, ?it/s]"
      ]
     },
     "metadata": {},
     "output_type": "display_data"
    },
    {
     "data": {
      "application/json": {
       "ascii": false,
       "bar_format": null,
       "colour": null,
       "elapsed": 0.015623807907104492,
       "initial": 0,
       "n": 0,
       "ncols": 119,
       "nrows": 29,
       "postfix": null,
       "prefix": "Validation",
       "rate": null,
       "total": null,
       "unit": "it",
       "unit_divisor": 1000,
       "unit_scale": false
      },
      "application/vnd.jupyter.widget-view+json": {
       "model_id": "",
       "version_major": 2,
       "version_minor": 0
      },
      "text/plain": [
       "Validation: 0it [00:00, ?it/s]"
      ]
     },
     "metadata": {},
     "output_type": "display_data"
    },
    {
     "data": {
      "application/json": {
       "ascii": false,
       "bar_format": null,
       "colour": null,
       "elapsed": 0.002511262893676758,
       "initial": 0,
       "n": 0,
       "ncols": 119,
       "nrows": 29,
       "postfix": null,
       "prefix": "Validation",
       "rate": null,
       "total": null,
       "unit": "it",
       "unit_divisor": 1000,
       "unit_scale": false
      },
      "application/vnd.jupyter.widget-view+json": {
       "model_id": "",
       "version_major": 2,
       "version_minor": 0
      },
      "text/plain": [
       "Validation: 0it [00:00, ?it/s]"
      ]
     },
     "metadata": {},
     "output_type": "display_data"
    },
    {
     "data": {
      "application/json": {
       "ascii": false,
       "bar_format": null,
       "colour": null,
       "elapsed": 0.015624523162841797,
       "initial": 0,
       "n": 0,
       "ncols": 119,
       "nrows": 29,
       "postfix": null,
       "prefix": "Validation",
       "rate": null,
       "total": null,
       "unit": "it",
       "unit_divisor": 1000,
       "unit_scale": false
      },
      "application/vnd.jupyter.widget-view+json": {
       "model_id": "",
       "version_major": 2,
       "version_minor": 0
      },
      "text/plain": [
       "Validation: 0it [00:00, ?it/s]"
      ]
     },
     "metadata": {},
     "output_type": "display_data"
    },
    {
     "data": {
      "application/json": {
       "ascii": false,
       "bar_format": null,
       "colour": null,
       "elapsed": 0.020635128021240234,
       "initial": 0,
       "n": 0,
       "ncols": 119,
       "nrows": 29,
       "postfix": null,
       "prefix": "Validation",
       "rate": null,
       "total": null,
       "unit": "it",
       "unit_divisor": 1000,
       "unit_scale": false
      },
      "application/vnd.jupyter.widget-view+json": {
       "model_id": "",
       "version_major": 2,
       "version_minor": 0
      },
      "text/plain": [
       "Validation: 0it [00:00, ?it/s]"
      ]
     },
     "metadata": {},
     "output_type": "display_data"
    },
    {
     "data": {
      "application/json": {
       "ascii": false,
       "bar_format": null,
       "colour": null,
       "elapsed": 0.015604972839355469,
       "initial": 0,
       "n": 0,
       "ncols": 119,
       "nrows": 29,
       "postfix": null,
       "prefix": "Validation",
       "rate": null,
       "total": null,
       "unit": "it",
       "unit_divisor": 1000,
       "unit_scale": false
      },
      "application/vnd.jupyter.widget-view+json": {
       "model_id": "",
       "version_major": 2,
       "version_minor": 0
      },
      "text/plain": [
       "Validation: 0it [00:00, ?it/s]"
      ]
     },
     "metadata": {},
     "output_type": "display_data"
    },
    {
     "data": {
      "application/json": {
       "ascii": false,
       "bar_format": null,
       "colour": null,
       "elapsed": 0.01603388786315918,
       "initial": 0,
       "n": 0,
       "ncols": 119,
       "nrows": 29,
       "postfix": null,
       "prefix": "Validation",
       "rate": null,
       "total": null,
       "unit": "it",
       "unit_divisor": 1000,
       "unit_scale": false
      },
      "application/vnd.jupyter.widget-view+json": {
       "model_id": "",
       "version_major": 2,
       "version_minor": 0
      },
      "text/plain": [
       "Validation: 0it [00:00, ?it/s]"
      ]
     },
     "metadata": {},
     "output_type": "display_data"
    },
    {
     "data": {
      "application/json": {
       "ascii": false,
       "bar_format": null,
       "colour": null,
       "elapsed": 0.01562809944152832,
       "initial": 0,
       "n": 0,
       "ncols": 119,
       "nrows": 29,
       "postfix": null,
       "prefix": "Validation",
       "rate": null,
       "total": null,
       "unit": "it",
       "unit_divisor": 1000,
       "unit_scale": false
      },
      "application/vnd.jupyter.widget-view+json": {
       "model_id": "",
       "version_major": 2,
       "version_minor": 0
      },
      "text/plain": [
       "Validation: 0it [00:00, ?it/s]"
      ]
     },
     "metadata": {},
     "output_type": "display_data"
    },
    {
     "data": {
      "application/json": {
       "ascii": false,
       "bar_format": null,
       "colour": null,
       "elapsed": 0.016033649444580078,
       "initial": 0,
       "n": 0,
       "ncols": 119,
       "nrows": 29,
       "postfix": null,
       "prefix": "Validation",
       "rate": null,
       "total": null,
       "unit": "it",
       "unit_divisor": 1000,
       "unit_scale": false
      },
      "application/vnd.jupyter.widget-view+json": {
       "model_id": "",
       "version_major": 2,
       "version_minor": 0
      },
      "text/plain": [
       "Validation: 0it [00:00, ?it/s]"
      ]
     },
     "metadata": {},
     "output_type": "display_data"
    },
    {
     "data": {
      "application/json": {
       "ascii": false,
       "bar_format": null,
       "colour": null,
       "elapsed": 0.015662193298339844,
       "initial": 0,
       "n": 0,
       "ncols": 119,
       "nrows": 29,
       "postfix": null,
       "prefix": "Validation",
       "rate": null,
       "total": null,
       "unit": "it",
       "unit_divisor": 1000,
       "unit_scale": false
      },
      "application/vnd.jupyter.widget-view+json": {
       "model_id": "",
       "version_major": 2,
       "version_minor": 0
      },
      "text/plain": [
       "Validation: 0it [00:00, ?it/s]"
      ]
     },
     "metadata": {},
     "output_type": "display_data"
    },
    {
     "data": {
      "application/json": {
       "ascii": false,
       "bar_format": null,
       "colour": null,
       "elapsed": 0.01561737060546875,
       "initial": 0,
       "n": 0,
       "ncols": 119,
       "nrows": 29,
       "postfix": null,
       "prefix": "Validation",
       "rate": null,
       "total": null,
       "unit": "it",
       "unit_divisor": 1000,
       "unit_scale": false
      },
      "application/vnd.jupyter.widget-view+json": {
       "model_id": "",
       "version_major": 2,
       "version_minor": 0
      },
      "text/plain": [
       "Validation: 0it [00:00, ?it/s]"
      ]
     },
     "metadata": {},
     "output_type": "display_data"
    },
    {
     "data": {
      "application/json": {
       "ascii": false,
       "bar_format": null,
       "colour": null,
       "elapsed": 0.01562356948852539,
       "initial": 0,
       "n": 0,
       "ncols": 119,
       "nrows": 29,
       "postfix": null,
       "prefix": "Validation",
       "rate": null,
       "total": null,
       "unit": "it",
       "unit_divisor": 1000,
       "unit_scale": false
      },
      "application/vnd.jupyter.widget-view+json": {
       "model_id": "",
       "version_major": 2,
       "version_minor": 0
      },
      "text/plain": [
       "Validation: 0it [00:00, ?it/s]"
      ]
     },
     "metadata": {},
     "output_type": "display_data"
    },
    {
     "data": {
      "application/json": {
       "ascii": false,
       "bar_format": null,
       "colour": null,
       "elapsed": 0.014019966125488281,
       "initial": 0,
       "n": 0,
       "ncols": 119,
       "nrows": 29,
       "postfix": null,
       "prefix": "Validation",
       "rate": null,
       "total": null,
       "unit": "it",
       "unit_divisor": 1000,
       "unit_scale": false
      },
      "application/vnd.jupyter.widget-view+json": {
       "model_id": "",
       "version_major": 2,
       "version_minor": 0
      },
      "text/plain": [
       "Validation: 0it [00:00, ?it/s]"
      ]
     },
     "metadata": {},
     "output_type": "display_data"
    },
    {
     "data": {
      "application/json": {
       "ascii": false,
       "bar_format": null,
       "colour": null,
       "elapsed": 0.015621185302734375,
       "initial": 0,
       "n": 0,
       "ncols": 119,
       "nrows": 29,
       "postfix": null,
       "prefix": "Validation",
       "rate": null,
       "total": null,
       "unit": "it",
       "unit_divisor": 1000,
       "unit_scale": false
      },
      "application/vnd.jupyter.widget-view+json": {
       "model_id": "",
       "version_major": 2,
       "version_minor": 0
      },
      "text/plain": [
       "Validation: 0it [00:00, ?it/s]"
      ]
     },
     "metadata": {},
     "output_type": "display_data"
    },
    {
     "data": {
      "application/json": {
       "ascii": false,
       "bar_format": null,
       "colour": null,
       "elapsed": 0.015513420104980469,
       "initial": 0,
       "n": 0,
       "ncols": 119,
       "nrows": 29,
       "postfix": null,
       "prefix": "Validation",
       "rate": null,
       "total": null,
       "unit": "it",
       "unit_divisor": 1000,
       "unit_scale": false
      },
      "application/vnd.jupyter.widget-view+json": {
       "model_id": "",
       "version_major": 2,
       "version_minor": 0
      },
      "text/plain": [
       "Validation: 0it [00:00, ?it/s]"
      ]
     },
     "metadata": {},
     "output_type": "display_data"
    },
    {
     "data": {
      "application/json": {
       "ascii": false,
       "bar_format": null,
       "colour": null,
       "elapsed": 0.015627145767211914,
       "initial": 0,
       "n": 0,
       "ncols": 119,
       "nrows": 29,
       "postfix": null,
       "prefix": "Validation",
       "rate": null,
       "total": null,
       "unit": "it",
       "unit_divisor": 1000,
       "unit_scale": false
      },
      "application/vnd.jupyter.widget-view+json": {
       "model_id": "",
       "version_major": 2,
       "version_minor": 0
      },
      "text/plain": [
       "Validation: 0it [00:00, ?it/s]"
      ]
     },
     "metadata": {},
     "output_type": "display_data"
    },
    {
     "data": {
      "application/json": {
       "ascii": false,
       "bar_format": null,
       "colour": null,
       "elapsed": 0,
       "initial": 0,
       "n": 0,
       "ncols": 119,
       "nrows": 29,
       "postfix": null,
       "prefix": "Validation",
       "rate": null,
       "total": null,
       "unit": "it",
       "unit_divisor": 1000,
       "unit_scale": false
      },
      "application/vnd.jupyter.widget-view+json": {
       "model_id": "",
       "version_major": 2,
       "version_minor": 0
      },
      "text/plain": [
       "Validation: 0it [00:00, ?it/s]"
      ]
     },
     "metadata": {},
     "output_type": "display_data"
    },
    {
     "data": {
      "application/json": {
       "ascii": false,
       "bar_format": null,
       "colour": null,
       "elapsed": 0.015627145767211914,
       "initial": 0,
       "n": 0,
       "ncols": 119,
       "nrows": 29,
       "postfix": null,
       "prefix": "Validation",
       "rate": null,
       "total": null,
       "unit": "it",
       "unit_divisor": 1000,
       "unit_scale": false
      },
      "application/vnd.jupyter.widget-view+json": {
       "model_id": "",
       "version_major": 2,
       "version_minor": 0
      },
      "text/plain": [
       "Validation: 0it [00:00, ?it/s]"
      ]
     },
     "metadata": {},
     "output_type": "display_data"
    },
    {
     "data": {
      "application/json": {
       "ascii": false,
       "bar_format": null,
       "colour": null,
       "elapsed": 0.01565718650817871,
       "initial": 0,
       "n": 0,
       "ncols": 119,
       "nrows": 29,
       "postfix": null,
       "prefix": "Validation",
       "rate": null,
       "total": null,
       "unit": "it",
       "unit_divisor": 1000,
       "unit_scale": false
      },
      "application/vnd.jupyter.widget-view+json": {
       "model_id": "",
       "version_major": 2,
       "version_minor": 0
      },
      "text/plain": [
       "Validation: 0it [00:00, ?it/s]"
      ]
     },
     "metadata": {},
     "output_type": "display_data"
    },
    {
     "data": {
      "application/json": {
       "ascii": false,
       "bar_format": null,
       "colour": null,
       "elapsed": 0.015627622604370117,
       "initial": 0,
       "n": 0,
       "ncols": 119,
       "nrows": 29,
       "postfix": null,
       "prefix": "Validation",
       "rate": null,
       "total": null,
       "unit": "it",
       "unit_divisor": 1000,
       "unit_scale": false
      },
      "application/vnd.jupyter.widget-view+json": {
       "model_id": "",
       "version_major": 2,
       "version_minor": 0
      },
      "text/plain": [
       "Validation: 0it [00:00, ?it/s]"
      ]
     },
     "metadata": {},
     "output_type": "display_data"
    },
    {
     "data": {
      "application/json": {
       "ascii": false,
       "bar_format": null,
       "colour": null,
       "elapsed": 0.015627622604370117,
       "initial": 0,
       "n": 0,
       "ncols": 119,
       "nrows": 29,
       "postfix": null,
       "prefix": "Validation",
       "rate": null,
       "total": null,
       "unit": "it",
       "unit_divisor": 1000,
       "unit_scale": false
      },
      "application/vnd.jupyter.widget-view+json": {
       "model_id": "",
       "version_major": 2,
       "version_minor": 0
      },
      "text/plain": [
       "Validation: 0it [00:00, ?it/s]"
      ]
     },
     "metadata": {},
     "output_type": "display_data"
    },
    {
     "data": {
      "application/json": {
       "ascii": false,
       "bar_format": null,
       "colour": null,
       "elapsed": 0.0156552791595459,
       "initial": 0,
       "n": 0,
       "ncols": 119,
       "nrows": 29,
       "postfix": null,
       "prefix": "Validation",
       "rate": null,
       "total": null,
       "unit": "it",
       "unit_divisor": 1000,
       "unit_scale": false
      },
      "application/vnd.jupyter.widget-view+json": {
       "model_id": "",
       "version_major": 2,
       "version_minor": 0
      },
      "text/plain": [
       "Validation: 0it [00:00, ?it/s]"
      ]
     },
     "metadata": {},
     "output_type": "display_data"
    },
    {
     "data": {
      "application/json": {
       "ascii": false,
       "bar_format": null,
       "colour": null,
       "elapsed": 0.015517234802246094,
       "initial": 0,
       "n": 0,
       "ncols": 119,
       "nrows": 29,
       "postfix": null,
       "prefix": "Validation",
       "rate": null,
       "total": null,
       "unit": "it",
       "unit_divisor": 1000,
       "unit_scale": false
      },
      "application/vnd.jupyter.widget-view+json": {
       "model_id": "",
       "version_major": 2,
       "version_minor": 0
      },
      "text/plain": [
       "Validation: 0it [00:00, ?it/s]"
      ]
     },
     "metadata": {},
     "output_type": "display_data"
    },
    {
     "data": {
      "application/json": {
       "ascii": false,
       "bar_format": null,
       "colour": null,
       "elapsed": 0.015654325485229492,
       "initial": 0,
       "n": 0,
       "ncols": 119,
       "nrows": 29,
       "postfix": null,
       "prefix": "Validation",
       "rate": null,
       "total": null,
       "unit": "it",
       "unit_divisor": 1000,
       "unit_scale": false
      },
      "application/vnd.jupyter.widget-view+json": {
       "model_id": "",
       "version_major": 2,
       "version_minor": 0
      },
      "text/plain": [
       "Validation: 0it [00:00, ?it/s]"
      ]
     },
     "metadata": {},
     "output_type": "display_data"
    },
    {
     "data": {
      "application/json": {
       "ascii": false,
       "bar_format": null,
       "colour": null,
       "elapsed": 0.018128633499145508,
       "initial": 0,
       "n": 0,
       "ncols": 119,
       "nrows": 29,
       "postfix": null,
       "prefix": "Validation",
       "rate": null,
       "total": null,
       "unit": "it",
       "unit_divisor": 1000,
       "unit_scale": false
      },
      "application/vnd.jupyter.widget-view+json": {
       "model_id": "",
       "version_major": 2,
       "version_minor": 0
      },
      "text/plain": [
       "Validation: 0it [00:00, ?it/s]"
      ]
     },
     "metadata": {},
     "output_type": "display_data"
    },
    {
     "data": {
      "application/json": {
       "ascii": false,
       "bar_format": null,
       "colour": null,
       "elapsed": 0,
       "initial": 0,
       "n": 0,
       "ncols": 119,
       "nrows": 29,
       "postfix": null,
       "prefix": "Validation",
       "rate": null,
       "total": null,
       "unit": "it",
       "unit_divisor": 1000,
       "unit_scale": false
      },
      "application/vnd.jupyter.widget-view+json": {
       "model_id": "",
       "version_major": 2,
       "version_minor": 0
      },
      "text/plain": [
       "Validation: 0it [00:00, ?it/s]"
      ]
     },
     "metadata": {},
     "output_type": "display_data"
    },
    {
     "data": {
      "application/json": {
       "ascii": false,
       "bar_format": null,
       "colour": null,
       "elapsed": 0.016350269317626953,
       "initial": 0,
       "n": 0,
       "ncols": 119,
       "nrows": 29,
       "postfix": null,
       "prefix": "Validation",
       "rate": null,
       "total": null,
       "unit": "it",
       "unit_divisor": 1000,
       "unit_scale": false
      },
      "application/vnd.jupyter.widget-view+json": {
       "model_id": "",
       "version_major": 2,
       "version_minor": 0
      },
      "text/plain": [
       "Validation: 0it [00:00, ?it/s]"
      ]
     },
     "metadata": {},
     "output_type": "display_data"
    },
    {
     "data": {
      "application/json": {
       "ascii": false,
       "bar_format": null,
       "colour": null,
       "elapsed": 0.01562643051147461,
       "initial": 0,
       "n": 0,
       "ncols": 119,
       "nrows": 29,
       "postfix": null,
       "prefix": "Validation",
       "rate": null,
       "total": null,
       "unit": "it",
       "unit_divisor": 1000,
       "unit_scale": false
      },
      "application/vnd.jupyter.widget-view+json": {
       "model_id": "",
       "version_major": 2,
       "version_minor": 0
      },
      "text/plain": [
       "Validation: 0it [00:00, ?it/s]"
      ]
     },
     "metadata": {},
     "output_type": "display_data"
    },
    {
     "data": {
      "application/json": {
       "ascii": false,
       "bar_format": null,
       "colour": null,
       "elapsed": 0.015624761581420898,
       "initial": 0,
       "n": 0,
       "ncols": 119,
       "nrows": 29,
       "postfix": null,
       "prefix": "Validation",
       "rate": null,
       "total": null,
       "unit": "it",
       "unit_divisor": 1000,
       "unit_scale": false
      },
      "application/vnd.jupyter.widget-view+json": {
       "model_id": "",
       "version_major": 2,
       "version_minor": 0
      },
      "text/plain": [
       "Validation: 0it [00:00, ?it/s]"
      ]
     },
     "metadata": {},
     "output_type": "display_data"
    },
    {
     "data": {
      "application/json": {
       "ascii": false,
       "bar_format": null,
       "colour": null,
       "elapsed": 0.015623092651367188,
       "initial": 0,
       "n": 0,
       "ncols": 119,
       "nrows": 29,
       "postfix": null,
       "prefix": "Validation",
       "rate": null,
       "total": null,
       "unit": "it",
       "unit_divisor": 1000,
       "unit_scale": false
      },
      "application/vnd.jupyter.widget-view+json": {
       "model_id": "",
       "version_major": 2,
       "version_minor": 0
      },
      "text/plain": [
       "Validation: 0it [00:00, ?it/s]"
      ]
     },
     "metadata": {},
     "output_type": "display_data"
    },
    {
     "data": {
      "application/json": {
       "ascii": false,
       "bar_format": null,
       "colour": null,
       "elapsed": 0.0156252384185791,
       "initial": 0,
       "n": 0,
       "ncols": 119,
       "nrows": 29,
       "postfix": null,
       "prefix": "Validation",
       "rate": null,
       "total": null,
       "unit": "it",
       "unit_divisor": 1000,
       "unit_scale": false
      },
      "application/vnd.jupyter.widget-view+json": {
       "model_id": "",
       "version_major": 2,
       "version_minor": 0
      },
      "text/plain": [
       "Validation: 0it [00:00, ?it/s]"
      ]
     },
     "metadata": {},
     "output_type": "display_data"
    },
    {
     "data": {
      "application/json": {
       "ascii": false,
       "bar_format": null,
       "colour": null,
       "elapsed": 0.022130966186523438,
       "initial": 0,
       "n": 0,
       "ncols": 119,
       "nrows": 29,
       "postfix": null,
       "prefix": "Validation",
       "rate": null,
       "total": null,
       "unit": "it",
       "unit_divisor": 1000,
       "unit_scale": false
      },
      "application/vnd.jupyter.widget-view+json": {
       "model_id": "",
       "version_major": 2,
       "version_minor": 0
      },
      "text/plain": [
       "Validation: 0it [00:00, ?it/s]"
      ]
     },
     "metadata": {},
     "output_type": "display_data"
    },
    {
     "data": {
      "application/json": {
       "ascii": false,
       "bar_format": null,
       "colour": null,
       "elapsed": 0,
       "initial": 0,
       "n": 0,
       "ncols": 119,
       "nrows": 29,
       "postfix": null,
       "prefix": "Validation",
       "rate": null,
       "total": null,
       "unit": "it",
       "unit_divisor": 1000,
       "unit_scale": false
      },
      "application/vnd.jupyter.widget-view+json": {
       "model_id": "",
       "version_major": 2,
       "version_minor": 0
      },
      "text/plain": [
       "Validation: 0it [00:00, ?it/s]"
      ]
     },
     "metadata": {},
     "output_type": "display_data"
    },
    {
     "data": {
      "application/json": {
       "ascii": false,
       "bar_format": null,
       "colour": null,
       "elapsed": 0.007025003433227539,
       "initial": 0,
       "n": 0,
       "ncols": 119,
       "nrows": 29,
       "postfix": null,
       "prefix": "Validation",
       "rate": null,
       "total": null,
       "unit": "it",
       "unit_divisor": 1000,
       "unit_scale": false
      },
      "application/vnd.jupyter.widget-view+json": {
       "model_id": "",
       "version_major": 2,
       "version_minor": 0
      },
      "text/plain": [
       "Validation: 0it [00:00, ?it/s]"
      ]
     },
     "metadata": {},
     "output_type": "display_data"
    },
    {
     "data": {
      "application/json": {
       "ascii": false,
       "bar_format": null,
       "colour": null,
       "elapsed": 0.015625476837158203,
       "initial": 0,
       "n": 0,
       "ncols": 119,
       "nrows": 29,
       "postfix": null,
       "prefix": "Validation",
       "rate": null,
       "total": null,
       "unit": "it",
       "unit_divisor": 1000,
       "unit_scale": false
      },
      "application/vnd.jupyter.widget-view+json": {
       "model_id": "",
       "version_major": 2,
       "version_minor": 0
      },
      "text/plain": [
       "Validation: 0it [00:00, ?it/s]"
      ]
     },
     "metadata": {},
     "output_type": "display_data"
    },
    {
     "data": {
      "application/json": {
       "ascii": false,
       "bar_format": null,
       "colour": null,
       "elapsed": 0,
       "initial": 0,
       "n": 0,
       "ncols": 119,
       "nrows": 29,
       "postfix": null,
       "prefix": "Validation",
       "rate": null,
       "total": null,
       "unit": "it",
       "unit_divisor": 1000,
       "unit_scale": false
      },
      "application/vnd.jupyter.widget-view+json": {
       "model_id": "",
       "version_major": 2,
       "version_minor": 0
      },
      "text/plain": [
       "Validation: 0it [00:00, ?it/s]"
      ]
     },
     "metadata": {},
     "output_type": "display_data"
    },
    {
     "data": {
      "application/json": {
       "ascii": false,
       "bar_format": null,
       "colour": null,
       "elapsed": 0.01560354232788086,
       "initial": 0,
       "n": 0,
       "ncols": 119,
       "nrows": 29,
       "postfix": null,
       "prefix": "Validation",
       "rate": null,
       "total": null,
       "unit": "it",
       "unit_divisor": 1000,
       "unit_scale": false
      },
      "application/vnd.jupyter.widget-view+json": {
       "model_id": "",
       "version_major": 2,
       "version_minor": 0
      },
      "text/plain": [
       "Validation: 0it [00:00, ?it/s]"
      ]
     },
     "metadata": {},
     "output_type": "display_data"
    },
    {
     "data": {
      "application/json": {
       "ascii": false,
       "bar_format": null,
       "colour": null,
       "elapsed": 0.015623092651367188,
       "initial": 0,
       "n": 0,
       "ncols": 119,
       "nrows": 29,
       "postfix": null,
       "prefix": "Validation",
       "rate": null,
       "total": null,
       "unit": "it",
       "unit_divisor": 1000,
       "unit_scale": false
      },
      "application/vnd.jupyter.widget-view+json": {
       "model_id": "",
       "version_major": 2,
       "version_minor": 0
      },
      "text/plain": [
       "Validation: 0it [00:00, ?it/s]"
      ]
     },
     "metadata": {},
     "output_type": "display_data"
    },
    {
     "data": {
      "application/json": {
       "ascii": false,
       "bar_format": null,
       "colour": null,
       "elapsed": 0.015623331069946289,
       "initial": 0,
       "n": 0,
       "ncols": 119,
       "nrows": 29,
       "postfix": null,
       "prefix": "Validation",
       "rate": null,
       "total": null,
       "unit": "it",
       "unit_divisor": 1000,
       "unit_scale": false
      },
      "application/vnd.jupyter.widget-view+json": {
       "model_id": "",
       "version_major": 2,
       "version_minor": 0
      },
      "text/plain": [
       "Validation: 0it [00:00, ?it/s]"
      ]
     },
     "metadata": {},
     "output_type": "display_data"
    }
   ],
   "source": [
    "%%time\n",
    "# Initiate the DeepCCA oject\n",
    "Models = DeepCCA(df_all)\n",
    "\n",
    "# generate data loaders and cca v1,v2\n",
    "Models.deepcca_dataloaders()\n",
    "\n",
    "    # set up the encoders\n",
    "Models.deepcca_encoders()\n",
    "    \n",
    "    # train cca\n",
    "Models.train_cca() \n",
    "\n",
    "#set up logger for deepcca\n",
    "version =  'final_model'\n",
    "   \n",
    "experiment_dir = './sdl_logs'\n",
    "    \n",
    "model_checkpoint = ModelCheckpoint(save_last=True,\n",
    "                                       monitor=\"val/l2\",\n",
    "                                       mode = 'min')\n",
    "    \n",
    "logger = TensorBoardLogger(save_dir=experiment_dir, \n",
    "                                   name='sdl_optimized_params',\n",
    "                                   version = version)\n",
    "        # train sdl\n",
    "Models.train_sdl(model_checkpoint, logger,enable_progress_bar=True) \n",
    "\n",
    "#calculate the correlations\n",
    "\n",
    "#cca\n",
    "\n",
    "    #train correlation\n",
    "cca_train_corr  = Models.score(model='cca', dataset='train')\n",
    "\n",
    "    #test correlation\n",
    "cca_test_corr  = Models.score(model='cca', dataset='test')\n",
    "\n",
    "\n",
    "#DeepCCA\n",
    "\n",
    "    #train correlation\n",
    "    \n",
    "deepcca_train_corr  = Models.score(model='sdl', dataset='train')\n",
    "\n",
    "    #test correlation\n",
    "deepcca_test_corr  = Models.score(model='sdl', dataset='test')\n",
    "\n",
    "\n",
    "# Transform the dataset. (calculate the z scores)\n",
    "\n",
    "#cca\n",
    "Models.transform(model='cca', dataset='train')\n",
    "Models.transform(model='cca', dataset='test')\n",
    "Models.transform(model='cca', dataset='val')\n",
    "\n",
    "#deepcca\n",
    "Models.transform(model='sdl', dataset='train')\n",
    "Models.transform(model='sdl', dataset='test')\n",
    "Models.transform(model='sdl', dataset='val')\n",
    "\n",
    "\n",
    "#write the transformed df to file for the \n",
    "dfs = [Models.train_df, Models.test_df, Models.val_df]\n",
    "paths = ['./sdl_logs/sdl_optimized_params/train_df_max3_sdl_and_cca_final_model_z_scores.pickle',\n",
    "         './sdl_logs/sdl_optimized_params/test_df_max3_sdl_and_cca_final_model_z_scores.pickle',\n",
    "         './sdl_logs/sdl_optimized_params/val_df_max3_sdl_and_cca_final_model_z_scores.pickle'\n",
    "        ]\n",
    "for path, df in zip(paths,dfs):\n",
    "    Files(path).write_to_file(df)\n",
    "    \n",
    "# write correlations to file\n",
    "\n",
    "correlations_df = pd.DataFrame({'cca_train_corr': cca_train_corr,\n",
    "                                'cca_test_corr': cca_test_corr,\n",
    "                                'deepcca_train_corr': deepcca_train_corr,\n",
    "                                'deepcca_test_corr': deepcca_test_corr})\n",
    "\n",
    "Files('./sdl_logs/sdl_optimized_params/final_model_cca_and_sdl_max3_correlation_df.pickle').write_to_file(correlations_df)"
   ]
  },
  {
   "cell_type": "code",
   "execution_count": 16,
   "id": "e979efc6",
   "metadata": {},
   "outputs": [
    {
     "data": {
      "text/html": [
       "<div>\n",
       "<style scoped>\n",
       "    .dataframe tbody tr th:only-of-type {\n",
       "        vertical-align: middle;\n",
       "    }\n",
       "\n",
       "    .dataframe tbody tr th {\n",
       "        vertical-align: top;\n",
       "    }\n",
       "\n",
       "    .dataframe thead th {\n",
       "        text-align: right;\n",
       "    }\n",
       "</style>\n",
       "<table border=\"1\" class=\"dataframe\">\n",
       "  <thead>\n",
       "    <tr style=\"text-align: right;\">\n",
       "      <th></th>\n",
       "      <th>cca_train_corr</th>\n",
       "      <th>cca_test_corr</th>\n",
       "      <th>deepcca_train_corr</th>\n",
       "      <th>deepcca_test_corr</th>\n",
       "    </tr>\n",
       "  </thead>\n",
       "  <tbody>\n",
       "    <tr>\n",
       "      <th>0</th>\n",
       "      <td>0.985337</td>\n",
       "      <td>0.695807</td>\n",
       "      <td>0.990053</td>\n",
       "      <td>0.999994</td>\n",
       "    </tr>\n",
       "    <tr>\n",
       "      <th>1</th>\n",
       "      <td>0.980327</td>\n",
       "      <td>0.415773</td>\n",
       "      <td>0.961795</td>\n",
       "      <td>0.999995</td>\n",
       "    </tr>\n",
       "    <tr>\n",
       "      <th>2</th>\n",
       "      <td>0.978053</td>\n",
       "      <td>0.432494</td>\n",
       "      <td>0.928001</td>\n",
       "      <td>0.999897</td>\n",
       "    </tr>\n",
       "    <tr>\n",
       "      <th>3</th>\n",
       "      <td>0.976693</td>\n",
       "      <td>0.403096</td>\n",
       "      <td>0.899712</td>\n",
       "      <td>0.999686</td>\n",
       "    </tr>\n",
       "    <tr>\n",
       "      <th>4</th>\n",
       "      <td>0.975939</td>\n",
       "      <td>0.355498</td>\n",
       "      <td>0.874949</td>\n",
       "      <td>0.999529</td>\n",
       "    </tr>\n",
       "  </tbody>\n",
       "</table>\n",
       "</div>"
      ],
      "text/plain": [
       "   cca_train_corr  cca_test_corr  deepcca_train_corr  deepcca_test_corr\n",
       "0        0.985337       0.695807            0.990053           0.999994\n",
       "1        0.980327       0.415773            0.961795           0.999995\n",
       "2        0.978053       0.432494            0.928001           0.999897\n",
       "3        0.976693       0.403096            0.899712           0.999686\n",
       "4        0.975939       0.355498            0.874949           0.999529"
      ]
     },
     "execution_count": 16,
     "metadata": {},
     "output_type": "execute_result"
    }
   ],
   "source": [
    "correlations_df.head()"
   ]
  },
  {
   "cell_type": "markdown",
   "id": "570218c7",
   "metadata": {},
   "source": [
    "#### Seems dims of 10 are better train with 10 dims and see tanis"
   ]
  },
  {
   "cell_type": "code",
   "execution_count": 16,
   "id": "d85b2365",
   "metadata": {},
   "outputs": [
    {
     "name": "stdout",
     "output_type": "stream",
     "text": [
      "\n",
      " -------------------- \n",
      " Training CCA\n",
      " --------------------\n"
     ]
    }
   ],
   "source": [
    "#this one will go out !!!!!!!!!!!!!!!!!!!!!!!!!!!!!!!!!!!!!\n",
    "\n",
    "# latent_dims te deepcca objec\n",
    "Models = DeepCCA(df_all)\n",
    "    \n",
    "    #set the latent dimentions to dim\n",
    "Models.latent_dims = 10\n",
    "    \n",
    "    # generate data loaders and cca v1,v2\n",
    "Models.deepcca_dataloaders()\n",
    "\n",
    "    # set up the encoders\n",
    "Models.deepcca_encoders()\n",
    "    \n",
    "    # train cca\n",
    "Models.train_cca() # will look at this for opti\n",
    "\n",
    "    # score the models: it runs cca.score\n",
    "\n",
    "cca_train_corr = Models.score(model='cca', dataset='train')\n",
    "cca_test_corr = Models.score(model='cca', dataset='test')\n",
    "    #cca transform: runs cca.transform and update the df with z scores\n",
    "# Models.transform(model='cca', dataset='train')\n",
    "# Models.transform(model='cca', dataset='test')\n",
    "\n",
    "    #corr.append([f'cca_dims_{dim}',cca_train_corr, cca_test_corr])\n",
    "    \n",
    "  "
   ]
  },
  {
   "cell_type": "code",
   "execution_count": 5,
   "id": "f1519cc5",
   "metadata": {},
   "outputs": [],
   "source": [
    "%reload_ext tensorboard\n",
    "%tensorboard --logdir= './sdl/lightning_logs' --host localhost --port 8088\n",
    "    # train sdl\n",
    "Models.train_sdl() # will look at this for opti\n",
    "\n",
    "    # score the models: it runs sdl.score()\n",
    "\n",
    "sdl_train_corr =Models.score(model='sdl', dataset='train')\n",
    "sdl_test_corr = Models.score(model='sdl', dataset='test')\n",
    "    \n",
    "    #sdl transform: runs sdl.transform and update the df with z scores\n",
    "# Models.transform(model='sdl', dataset='train')\n",
    "# Models.transform(model='sdl', dataset='test')\n",
    "\n",
    "    #corr.append([f'sdl_dims_{dim}',sdl_train_corr, sdl_test_corr])\n",
    "\n",
    "    \n"
   ]
  },
  {
   "cell_type": "code",
   "execution_count": 84,
   "id": "a4c79710",
   "metadata": {},
   "outputs": [],
   "source": [
    "# train dcca\n",
    "Models.train_sdl() # will look at this for opti\n",
    "\n",
    "# score the models: it runs dcca.score()\n",
    "\n",
    "sdl_train_corr =Models.score(model='sdl', dataset='train')\n",
    "sdl_test_corr = Models.score(model='sdl', dataset='test')\n",
    "    \n",
    "#dcca transform: runs dcca.transform and update the df with z scores\n",
    "Models.transform(model='sdl', dataset='train')\n",
    "Models.transform(model='sdl', dataset='test')\n",
    "   \n",
    "    #corr.append([f'dcca_dims_{dim}',dcca_train_corr, dcca_test_corr])"
   ]
  },
  {
   "cell_type": "code",
   "execution_count": 42,
   "id": "30df732d",
   "metadata": {},
   "outputs": [],
   "source": [
    "#write corr to file\n",
    "path = './testing_dims_corr_only_test_corr.pickle'\n",
    "Files(path).write_to_file(corr)"
   ]
  },
  {
   "cell_type": "code",
   "execution_count": 39,
   "id": "a3208c2c",
   "metadata": {},
   "outputs": [],
   "source": [
    "# To construct image name\n",
    "embedding = 'MS2DeepScore'\n",
    "method = 'SDL_as_DeepCCA_hidden_opt_lr_dim_10'\n",
    "data = 'max3'\n",
    "dims = 10 #latent_dims"
   ]
  },
  {
   "cell_type": "code",
   "execution_count": 44,
   "id": "1e0724a5",
   "metadata": {},
   "outputs": [
    {
     "data": {
      "image/png": "[encoded data removed]",
      "text/plain": [
       "<Figure size 432x288 with 1 Axes>"
      ]
     },
     "metadata": {},
     "output_type": "display_data"
    }
   ],
   "source": [
    "dims = 10\n",
    "# plot train correlation vs test correlation\n",
    "x=[x for x in range(dims)]\n",
    "fig, ax = plt.subplots()\n",
    "\n",
    "sns.set_style('whitegrid')\n",
    "\n",
    "line = ['solid', 'dashed']\n",
    "\n",
    "#justice for the color blind :)\n",
    "palette = [#sns.color_palette(\"colorblind\")[4],\\\n",
    "           sns.color_palette(\"colorblind\")[2],\\\n",
    "           sns.color_palette(\"colorblind\")[3]]\n",
    "\n",
    "dfs = [#[dcca_train_corr, dcca_test_corr],\\\n",
    "       [sdl_train_corr, sdl_test_corr],\\\n",
    "       [cca_train_corr,cca_test_corr]]\n",
    "\n",
    "for i, df in enumerate(dfs):\n",
    "    #train\n",
    "    sns.lineplot(x=[x for x in range(10)],y=df[0], \\\n",
    "                 color = palette[i],\n",
    "                 linestyle=line[0],ax=ax)\n",
    "    #test\n",
    "    sns.lineplot(x=x,y=df[1],\\\n",
    "                 color = palette[i],\n",
    "                 linestyle=line[1], ax=ax)\n",
    "\n",
    "    plt.legend(labels=[#'DCCA Train', 'DCCA Test',\\\n",
    "                      'DeepCCA Train', 'DeepCCA Test',\\\n",
    "                      'CCA Train', 'CCA Test'], \\\n",
    "                       loc=(1.04, 0.5),\\\n",
    "                    fontsize=15)#title='Algorithm', \n",
    "plt.xlabel('Latent Dimensions', fontsize=15)\n",
    "plt.ylabel('Correlation', fontsize=15)\n",
    "plt.ylim(0, 1.0)\n",
    "plt.title(label=f'DeepCCA vs CCA; \\n pairwise Correlation between spectrum & structure\\n',\\\n",
    "          fontsize=14,loc='center')\n",
    "plt.xlim(0, 9)\n",
    "plt.xticks(np.arange(0, 9.01, step=1))\n",
    "plt.yticks(np.arange(0, 1.01, step=0.1))\n",
    "plt.savefig(f'../plots/{method}_{data}_{dims}_vs_cca_{embedding}.png',\\\n",
    "           transparent=False,bbox_inches = 'tight')\n",
    "plt.show()\n",
    "\n",
    "#what is the probability that dcca and sdl are ~ the same; something wrong?\n"
   ]
  },
  {
   "cell_type": "code",
   "execution_count": 164,
   "id": "d77f620e",
   "metadata": {},
   "outputs": [
    {
     "data": {
      "text/plain": [
       "10"
      ]
     },
     "execution_count": 164,
     "metadata": {},
     "output_type": "execute_result"
    }
   ],
   "source": [
    "len(dcca_train_corr)"
   ]
  },
  {
   "cell_type": "code",
   "execution_count": 33,
   "id": "0102bde6",
   "metadata": {},
   "outputs": [],
   "source": [
    "#write dfs (with the z score from dcca,cca and sdl) to file\n",
    "\n",
    "dfs = [Models.train_df,Models.test_df,Models.val_df]\n",
    "\n",
    "# paths = ['./max3_sdl_dims_10_best_train_df_with_z.pickle',\n",
    "#         './max3_sdl_dims_10_test_df_with_z.pickle',\n",
    "#         './max3_sdl_dims_10_val_df_with_z.pickle']\n",
    "\n",
    "paths = ['./max3_sdl_cca_dims_15_train_df_with_z.pickle',\n",
    "        './max3_sdl_cca_dims_15_test_df_with_z.pickle',\n",
    "        './max3_sdl_cca_dims_15_val_df_with_z.pickle']\n",
    "\n",
    "for df, path in zip(dfs,paths):\n",
    "    Files(path).write_to_file(df)\n",
    "    "
   ]
  },
  {
   "cell_type": "code",
   "execution_count": 25,
   "id": "234e85d6",
   "metadata": {},
   "outputs": [
    {
     "data": {
      "text/html": [
       "<div>\n",
       "<style scoped>\n",
       "    .dataframe tbody tr th:only-of-type {\n",
       "        vertical-align: middle;\n",
       "    }\n",
       "\n",
       "    .dataframe tbody tr th {\n",
       "        vertical-align: top;\n",
       "    }\n",
       "\n",
       "    .dataframe thead th {\n",
       "        text-align: right;\n",
       "    }\n",
       "</style>\n",
       "<table border=\"1\" class=\"dataframe\">\n",
       "  <thead>\n",
       "    <tr style=\"text-align: right;\">\n",
       "      <th></th>\n",
       "      <th>smiles</th>\n",
       "      <th>inchi_key</th>\n",
       "      <th>inchikey14</th>\n",
       "      <th>spec_id</th>\n",
       "      <th>spec2vec</th>\n",
       "      <th>ms2ds</th>\n",
       "      <th>mol2vec</th>\n",
       "      <th>cf_class</th>\n",
       "      <th>sdl_768_z1</th>\n",
       "      <th>sdl_768_z2</th>\n",
       "      <th>cca_z1</th>\n",
       "      <th>cca_z2</th>\n",
       "    </tr>\n",
       "  </thead>\n",
       "  <tbody>\n",
       "    <tr>\n",
       "      <th>18308</th>\n",
       "      <td>CC1(CCCCC1)C(=O)Nc2ccc(c(c2Cl)Cl)O</td>\n",
       "      <td>VDLGAVXLJYLFDH-UHFFFAOYSA-N</td>\n",
       "      <td>VDLGAVXLJYLFDH</td>\n",
       "      <td>spec_id16769</td>\n",
       "      <td>[28.992814519957395, 9.93094121359686, -16.288...</td>\n",
       "      <td>[24.41728973388672, 18.567832946777344, 0.9911...</td>\n",
       "      <td>[1.1145527, -1.4718719, -1.1575501, 1.5242243,...</td>\n",
       "      <td>Benzene and substituted derivatives</td>\n",
       "      <td>[-0.028206334, -0.58697754, -0.27564368, 0.387...</td>\n",
       "      <td>[0.1807306, -0.6496799, -0.6295585, 0.15014616...</td>\n",
       "      <td>[-0.18367801964301914, -0.5168160022883642, 0....</td>\n",
       "      <td>[-0.1445210560271232, -0.8005949459704749, 0.4...</td>\n",
       "    </tr>\n",
       "    <tr>\n",
       "      <th>16161</th>\n",
       "      <td>[H]N1C(=O)C([H])(C([H])([H])[H])C([H])(OC(=O)C...</td>\n",
       "      <td>VJYQPLSJYQMFHT-UHFFFAOYSA-N</td>\n",
       "      <td>VJYQPLSJYQMFHT</td>\n",
       "      <td>spec_id14610</td>\n",
       "      <td>[7.295793570022209, 5.1959969017812835, 22.963...</td>\n",
       "      <td>[0.0, 0.0, 9.470010757446289, 54.8682708740234...</td>\n",
       "      <td>[3.5072234, -8.692439, -8.4471245, 5.7731876, ...</td>\n",
       "      <td>Peptidomimetics</td>\n",
       "      <td>[1.4329386, -0.23577894, 0.42023522, 0.1479506...</td>\n",
       "      <td>[1.5159718, 0.1765452, -0.11394979, -0.0296348...</td>\n",
       "      <td>[-0.006435331845283554, 0.058462411914186246, ...</td>\n",
       "      <td>[0.20256939799957618, 0.9827796658564947, 0.12...</td>\n",
       "    </tr>\n",
       "    <tr>\n",
       "      <th>39960</th>\n",
       "      <td>CC1(C)CC[C@]2(C(=O)O)CC[C@]3(C)C(=CCC4[C@@]5(C...</td>\n",
       "      <td>IFIQVSCCFRXSJV-ZIZFEDMCSA-N</td>\n",
       "      <td>IFIQVSCCFRXSJV</td>\n",
       "      <td>spec_id39624</td>\n",
       "      <td>[-56.619995935564326, -47.180565266411406, -28...</td>\n",
       "      <td>[0.0, 28.782299041748047, 21.592288970947266, ...</td>\n",
       "      <td>[-7.1055846, -1.823768, -5.0916753, -5.6632137...</td>\n",
       "      <td>Prenol lipids</td>\n",
       "      <td>[0.34851214, 3.2085502, -0.1975606, 0.06998302...</td>\n",
       "      <td>[0.28839505, 1.744373, -0.14316656, -9.870529e...</td>\n",
       "      <td>[0.1570637440121694, 2.022003197058803, 0.1190...</td>\n",
       "      <td>[0.07726268614751708, 1.7868799202767538, 0.86...</td>\n",
       "    </tr>\n",
       "    <tr>\n",
       "      <th>20518</th>\n",
       "      <td>CCOC(=O)c1c(CSc2ccc(C)cc2)n(C)c2cc(Br)c(OC(C)=...</td>\n",
       "      <td>NTBRBRYSWHMBTI-UHFFFAOYSA-N</td>\n",
       "      <td>NTBRBRYSWHMBTI</td>\n",
       "      <td>spec_id21096</td>\n",
       "      <td>[4.0410194627677285, 7.988557117162137, -0.984...</td>\n",
       "      <td>[9.632440567016602, 3.5340728759765625, 18.387...</td>\n",
       "      <td>[2.3850176, -2.2419546, -4.7798896, 6.514888, ...</td>\n",
       "      <td>Indoles and derivatives</td>\n",
       "      <td>[0.1305097, -0.48955625, -1.7252398, 0.1109124...</td>\n",
       "      <td>[-0.10473886, -0.19882882, -1.872568, 0.110222...</td>\n",
       "      <td>[-0.5785258385811215, -0.8347664433452764, -0....</td>\n",
       "      <td>[-0.6361535897057551, -0.5815054845342418, -0....</td>\n",
       "    </tr>\n",
       "    <tr>\n",
       "      <th>1636</th>\n",
       "      <td>CC1=CC=C(C=C1)C(=O)C(C)NC</td>\n",
       "      <td>YELGFTGWJGBAQU-UHFFFAOYSA-N</td>\n",
       "      <td>YELGFTGWJGBAQU</td>\n",
       "      <td>spec_id1586</td>\n",
       "      <td>[12.42601229142216, 8.474520761408343, 30.5386...</td>\n",
       "      <td>[0.0, 0.0, 6.7381978034973145, 32.302322387695...</td>\n",
       "      <td>[0.8318524, -0.79777485, -2.3919985, 2.6826973...</td>\n",
       "      <td>Organooxygen compounds</td>\n",
       "      <td>[0.8457458, -1.1315978, 0.43432468, 0.31582084...</td>\n",
       "      <td>[0.7193668, -0.9291076, 0.038362436, 0.1387279...</td>\n",
       "      <td>[-0.2544740282257761, -0.8955232493837665, 0.3...</td>\n",
       "      <td>[-0.26825048158889175, -1.075657212286704, 0.6...</td>\n",
       "    </tr>\n",
       "  </tbody>\n",
       "</table>\n",
       "</div>"
      ],
      "text/plain": [
       "                                                  smiles  \\\n",
       "18308                 CC1(CCCCC1)C(=O)Nc2ccc(c(c2Cl)Cl)O   \n",
       "16161  [H]N1C(=O)C([H])(C([H])([H])[H])C([H])(OC(=O)C...   \n",
       "39960  CC1(C)CC[C@]2(C(=O)O)CC[C@]3(C)C(=CCC4[C@@]5(C...   \n",
       "20518  CCOC(=O)c1c(CSc2ccc(C)cc2)n(C)c2cc(Br)c(OC(C)=...   \n",
       "1636                           CC1=CC=C(C=C1)C(=O)C(C)NC   \n",
       "\n",
       "                         inchi_key      inchikey14       spec_id  \\\n",
       "18308  VDLGAVXLJYLFDH-UHFFFAOYSA-N  VDLGAVXLJYLFDH  spec_id16769   \n",
       "16161  VJYQPLSJYQMFHT-UHFFFAOYSA-N  VJYQPLSJYQMFHT  spec_id14610   \n",
       "39960  IFIQVSCCFRXSJV-ZIZFEDMCSA-N  IFIQVSCCFRXSJV  spec_id39624   \n",
       "20518  NTBRBRYSWHMBTI-UHFFFAOYSA-N  NTBRBRYSWHMBTI  spec_id21096   \n",
       "1636   YELGFTGWJGBAQU-UHFFFAOYSA-N  YELGFTGWJGBAQU   spec_id1586   \n",
       "\n",
       "                                                spec2vec  \\\n",
       "18308  [28.992814519957395, 9.93094121359686, -16.288...   \n",
       "16161  [7.295793570022209, 5.1959969017812835, 22.963...   \n",
       "39960  [-56.619995935564326, -47.180565266411406, -28...   \n",
       "20518  [4.0410194627677285, 7.988557117162137, -0.984...   \n",
       "1636   [12.42601229142216, 8.474520761408343, 30.5386...   \n",
       "\n",
       "                                                   ms2ds  \\\n",
       "18308  [24.41728973388672, 18.567832946777344, 0.9911...   \n",
       "16161  [0.0, 0.0, 9.470010757446289, 54.8682708740234...   \n",
       "39960  [0.0, 28.782299041748047, 21.592288970947266, ...   \n",
       "20518  [9.632440567016602, 3.5340728759765625, 18.387...   \n",
       "1636   [0.0, 0.0, 6.7381978034973145, 32.302322387695...   \n",
       "\n",
       "                                                 mol2vec  \\\n",
       "18308  [1.1145527, -1.4718719, -1.1575501, 1.5242243,...   \n",
       "16161  [3.5072234, -8.692439, -8.4471245, 5.7731876, ...   \n",
       "39960  [-7.1055846, -1.823768, -5.0916753, -5.6632137...   \n",
       "20518  [2.3850176, -2.2419546, -4.7798896, 6.514888, ...   \n",
       "1636   [0.8318524, -0.79777485, -2.3919985, 2.6826973...   \n",
       "\n",
       "                                  cf_class  \\\n",
       "18308  Benzene and substituted derivatives   \n",
       "16161                      Peptidomimetics   \n",
       "39960                        Prenol lipids   \n",
       "20518              Indoles and derivatives   \n",
       "1636                Organooxygen compounds   \n",
       "\n",
       "                                              sdl_768_z1  \\\n",
       "18308  [-0.028206334, -0.58697754, -0.27564368, 0.387...   \n",
       "16161  [1.4329386, -0.23577894, 0.42023522, 0.1479506...   \n",
       "39960  [0.34851214, 3.2085502, -0.1975606, 0.06998302...   \n",
       "20518  [0.1305097, -0.48955625, -1.7252398, 0.1109124...   \n",
       "1636   [0.8457458, -1.1315978, 0.43432468, 0.31582084...   \n",
       "\n",
       "                                              sdl_768_z2  \\\n",
       "18308  [0.1807306, -0.6496799, -0.6295585, 0.15014616...   \n",
       "16161  [1.5159718, 0.1765452, -0.11394979, -0.0296348...   \n",
       "39960  [0.28839505, 1.744373, -0.14316656, -9.870529e...   \n",
       "20518  [-0.10473886, -0.19882882, -1.872568, 0.110222...   \n",
       "1636   [0.7193668, -0.9291076, 0.038362436, 0.1387279...   \n",
       "\n",
       "                                                  cca_z1  \\\n",
       "18308  [-0.18367801964301914, -0.5168160022883642, 0....   \n",
       "16161  [-0.006435331845283554, 0.058462411914186246, ...   \n",
       "39960  [0.1570637440121694, 2.022003197058803, 0.1190...   \n",
       "20518  [-0.5785258385811215, -0.8347664433452764, -0....   \n",
       "1636   [-0.2544740282257761, -0.8955232493837665, 0.3...   \n",
       "\n",
       "                                                  cca_z2  \n",
       "18308  [-0.1445210560271232, -0.8005949459704749, 0.4...  \n",
       "16161  [0.20256939799957618, 0.9827796658564947, 0.12...  \n",
       "39960  [0.07726268614751708, 1.7868799202767538, 0.86...  \n",
       "20518  [-0.6361535897057551, -0.5815054845342418, -0....  \n",
       "1636   [-0.26825048158889175, -1.075657212286704, 0.6...  "
      ]
     },
     "execution_count": 25,
     "metadata": {},
     "output_type": "execute_result"
    }
   ],
   "source": [
    "\n",
    "paths = ['./max3_sdl_dims_10_best_train_df_with_z.pickle',\n",
    "        './max3_sdl_dims_10_test_df_with_z.pickle',\n",
    "        './max3_sdl_dims_10_val_df_with_z.pickle']\n",
    "\n",
    "train_df = Files(paths[0]).load_pickle()\n",
    "test_df = Files(paths[1]).load_pickle()\n"
   ]
  }
 ],
 "metadata": {
  "kernelspec": {
   "display_name": "Python 3 (ipykernel)",
   "language": "python",
   "name": "python3"
  },
  "language_info": {
   "codemirror_mode": {
    "name": "ipython",
    "version": 3
   },
   "file_extension": ".py",
   "mimetype": "text/x-python",
   "name": "python",
   "nbconvert_exporter": "python",
   "pygments_lexer": "ipython3",
   "version": "3.9.7"
  }
 },
 "nbformat": 4,
 "nbformat_minor": 5
}
